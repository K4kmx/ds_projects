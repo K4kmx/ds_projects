{
 "cells": [
  {
   "cell_type": "markdown",
   "metadata": {},
   "source": [
    "# Выбор локации для скважины"
   ]
  },
  {
   "cell_type": "markdown",
   "metadata": {},
   "source": [
    "Допустим, вы работаете в добывающей компании «ГлавРосГосНефть». Нужно решить, где бурить новую скважину.\n",
    "\n",
    "Вам предоставлены пробы нефти в трёх регионах: в каждом 10 000 месторождений, где измерили качество нефти и объём её запасов. Постройте модель машинного обучения, которая поможет определить регион, где добыча принесёт наибольшую прибыль. Проанализируйте возможную прибыль и риски техникой *Bootstrap.*\n",
    "\n",
    "Шаги для выбора локации:\n",
    "\n",
    "- В избранном регионе ищут месторождения, для каждого определяют значения признаков;\n",
    "- Строят модель и оценивают объём запасов;\n",
    "- Выбирают месторождения с самым высокими оценками значений. Количество месторождений зависит от бюджета компании и стоимости разработки одной скважины;\n",
    "- Прибыль равна суммарной прибыли отобранных месторождений."
   ]
  },
  {
   "cell_type": "markdown",
   "metadata": {},
   "source": [
    "# Требования к выполнению проекта"
   ]
  },
  {
   "cell_type": "markdown",
   "metadata": {},
   "source": [
    "1. Загрузите и подготовьте данные. Поясните порядок действий.\n",
    "2. Обучите и проверьте модель для каждого региона:\n",
    "2.1. Разбейте данные на обучающую и валидационную выборки в соотношении 75:25.\n",
    "2.2. Обучите модель и сделайте предсказания на валидационной выборке.\n",
    "2.3. Сохраните предсказания и правильные ответы на валидационной выборке.\n",
    "2.4. Напечатайте на экране средний запас предсказанного сырья и RMSE модели.\n",
    "2.5. Проанализируйте результаты.\n",
    "3. Подготовьтесь к расчёту прибыли:\n",
    "3.1. Все ключевые значения для расчётов сохраните в отдельных переменных.\n",
    "3.2. Рассчитайте достаточный объём сырья для безубыточной разработки новой скважины. Сравните полученный объём сырья со средним запасом в каждом регионе.\n",
    "3.3. Напишите выводы по этапу подготовки расчёта прибыли.\n",
    "4. Напишите функцию для расчёта прибыли по выбранным скважинам и предсказаниям модели:\n",
    "4.1. Выберите скважины с максимальными значениями предсказаний.\n",
    "4.2. Просуммируйте целевое значение объёма сырья, соответствующее этим предсказаниям.\n",
    "4.3. Рассчитайте прибыль для полученного объёма сырья.\n",
    "Посчитайте риски и прибыль для каждого региона:\n",
    "5.1. Примените технику Bootstrap с 1000 выборок, чтобы найти распределение прибыли.\n",
    "5.2. Найдите среднюю прибыль, 95%-й доверительный интервал и риск убытков. Убыток — это отрицательная прибыль.\n",
    "5.3. Напишите выводы: предложите регион для разработки скважин и обоснуйте выбор."
   ]
  },
  {
   "cell_type": "markdown",
   "metadata": {},
   "source": [
    "## Загрузка и подготовка данных"
   ]
  },
  {
   "cell_type": "code",
   "execution_count": 1,
   "metadata": {},
   "outputs": [],
   "source": [
    "import pandas as pd\n",
    "import numpy as np\n",
    "from sklearn.model_selection import train_test_split\n",
    "from sklearn.preprocessing import StandardScaler\n",
    "from sklearn.linear_model import LinearRegression\n",
    "from sklearn.metrics import mean_squared_error\n",
    "from sklearn.metrics import r2_score\n",
    "from sklearn.metrics import mean_absolute_error\n",
    "from scipy import stats as st\n",
    "import warnings\n",
    "warnings.filterwarnings('ignore')"
   ]
  },
  {
   "cell_type": "code",
   "execution_count": 2,
   "metadata": {},
   "outputs": [],
   "source": [
    "df0 = pd.read_csv('/datasets/geo_data_0.csv')\n",
    "df1 = pd.read_csv('/datasets/geo_data_1.csv')\n",
    "df2 = pd.read_csv('/datasets/geo_data_2.csv')"
   ]
  },
  {
   "cell_type": "code",
   "execution_count": 3,
   "metadata": {},
   "outputs": [
    {
     "data": {
      "text/html": [
       "<div>\n",
       "<style scoped>\n",
       "    .dataframe tbody tr th:only-of-type {\n",
       "        vertical-align: middle;\n",
       "    }\n",
       "\n",
       "    .dataframe tbody tr th {\n",
       "        vertical-align: top;\n",
       "    }\n",
       "\n",
       "    .dataframe thead th {\n",
       "        text-align: right;\n",
       "    }\n",
       "</style>\n",
       "<table border=\"1\" class=\"dataframe\">\n",
       "  <thead>\n",
       "    <tr style=\"text-align: right;\">\n",
       "      <th></th>\n",
       "      <th>id</th>\n",
       "      <th>f0</th>\n",
       "      <th>f1</th>\n",
       "      <th>f2</th>\n",
       "      <th>product</th>\n",
       "    </tr>\n",
       "  </thead>\n",
       "  <tbody>\n",
       "    <tr>\n",
       "      <th>0</th>\n",
       "      <td>txEyH</td>\n",
       "      <td>0.705745</td>\n",
       "      <td>-0.497823</td>\n",
       "      <td>1.221170</td>\n",
       "      <td>105.280062</td>\n",
       "    </tr>\n",
       "    <tr>\n",
       "      <th>1</th>\n",
       "      <td>2acmU</td>\n",
       "      <td>1.334711</td>\n",
       "      <td>-0.340164</td>\n",
       "      <td>4.365080</td>\n",
       "      <td>73.037750</td>\n",
       "    </tr>\n",
       "    <tr>\n",
       "      <th>2</th>\n",
       "      <td>409Wp</td>\n",
       "      <td>1.022732</td>\n",
       "      <td>0.151990</td>\n",
       "      <td>1.419926</td>\n",
       "      <td>85.265647</td>\n",
       "    </tr>\n",
       "    <tr>\n",
       "      <th>3</th>\n",
       "      <td>iJLyR</td>\n",
       "      <td>-0.032172</td>\n",
       "      <td>0.139033</td>\n",
       "      <td>2.978566</td>\n",
       "      <td>168.620776</td>\n",
       "    </tr>\n",
       "    <tr>\n",
       "      <th>4</th>\n",
       "      <td>Xdl7t</td>\n",
       "      <td>1.988431</td>\n",
       "      <td>0.155413</td>\n",
       "      <td>4.751769</td>\n",
       "      <td>154.036647</td>\n",
       "    </tr>\n",
       "  </tbody>\n",
       "</table>\n",
       "</div>"
      ],
      "text/plain": [
       "      id        f0        f1        f2     product\n",
       "0  txEyH  0.705745 -0.497823  1.221170  105.280062\n",
       "1  2acmU  1.334711 -0.340164  4.365080   73.037750\n",
       "2  409Wp  1.022732  0.151990  1.419926   85.265647\n",
       "3  iJLyR -0.032172  0.139033  2.978566  168.620776\n",
       "4  Xdl7t  1.988431  0.155413  4.751769  154.036647"
      ]
     },
     "execution_count": 3,
     "metadata": {},
     "output_type": "execute_result"
    }
   ],
   "source": [
    "df0.head()"
   ]
  },
  {
   "cell_type": "code",
   "execution_count": 4,
   "metadata": {},
   "outputs": [
    {
     "data": {
      "text/html": [
       "<div>\n",
       "<style scoped>\n",
       "    .dataframe tbody tr th:only-of-type {\n",
       "        vertical-align: middle;\n",
       "    }\n",
       "\n",
       "    .dataframe tbody tr th {\n",
       "        vertical-align: top;\n",
       "    }\n",
       "\n",
       "    .dataframe thead th {\n",
       "        text-align: right;\n",
       "    }\n",
       "</style>\n",
       "<table border=\"1\" class=\"dataframe\">\n",
       "  <thead>\n",
       "    <tr style=\"text-align: right;\">\n",
       "      <th></th>\n",
       "      <th>id</th>\n",
       "      <th>f0</th>\n",
       "      <th>f1</th>\n",
       "      <th>f2</th>\n",
       "      <th>product</th>\n",
       "    </tr>\n",
       "  </thead>\n",
       "  <tbody>\n",
       "    <tr>\n",
       "      <th>0</th>\n",
       "      <td>kBEdx</td>\n",
       "      <td>-15.001348</td>\n",
       "      <td>-8.276000</td>\n",
       "      <td>-0.005876</td>\n",
       "      <td>3.179103</td>\n",
       "    </tr>\n",
       "    <tr>\n",
       "      <th>1</th>\n",
       "      <td>62mP7</td>\n",
       "      <td>14.272088</td>\n",
       "      <td>-3.475083</td>\n",
       "      <td>0.999183</td>\n",
       "      <td>26.953261</td>\n",
       "    </tr>\n",
       "    <tr>\n",
       "      <th>2</th>\n",
       "      <td>vyE1P</td>\n",
       "      <td>6.263187</td>\n",
       "      <td>-5.948386</td>\n",
       "      <td>5.001160</td>\n",
       "      <td>134.766305</td>\n",
       "    </tr>\n",
       "    <tr>\n",
       "      <th>3</th>\n",
       "      <td>KcrkZ</td>\n",
       "      <td>-13.081196</td>\n",
       "      <td>-11.506057</td>\n",
       "      <td>4.999415</td>\n",
       "      <td>137.945408</td>\n",
       "    </tr>\n",
       "    <tr>\n",
       "      <th>4</th>\n",
       "      <td>AHL4O</td>\n",
       "      <td>12.702195</td>\n",
       "      <td>-8.147433</td>\n",
       "      <td>5.004363</td>\n",
       "      <td>134.766305</td>\n",
       "    </tr>\n",
       "  </tbody>\n",
       "</table>\n",
       "</div>"
      ],
      "text/plain": [
       "      id         f0         f1        f2     product\n",
       "0  kBEdx -15.001348  -8.276000 -0.005876    3.179103\n",
       "1  62mP7  14.272088  -3.475083  0.999183   26.953261\n",
       "2  vyE1P   6.263187  -5.948386  5.001160  134.766305\n",
       "3  KcrkZ -13.081196 -11.506057  4.999415  137.945408\n",
       "4  AHL4O  12.702195  -8.147433  5.004363  134.766305"
      ]
     },
     "execution_count": 4,
     "metadata": {},
     "output_type": "execute_result"
    }
   ],
   "source": [
    "df1.head()"
   ]
  },
  {
   "cell_type": "code",
   "execution_count": 5,
   "metadata": {},
   "outputs": [
    {
     "data": {
      "text/html": [
       "<div>\n",
       "<style scoped>\n",
       "    .dataframe tbody tr th:only-of-type {\n",
       "        vertical-align: middle;\n",
       "    }\n",
       "\n",
       "    .dataframe tbody tr th {\n",
       "        vertical-align: top;\n",
       "    }\n",
       "\n",
       "    .dataframe thead th {\n",
       "        text-align: right;\n",
       "    }\n",
       "</style>\n",
       "<table border=\"1\" class=\"dataframe\">\n",
       "  <thead>\n",
       "    <tr style=\"text-align: right;\">\n",
       "      <th></th>\n",
       "      <th>id</th>\n",
       "      <th>f0</th>\n",
       "      <th>f1</th>\n",
       "      <th>f2</th>\n",
       "      <th>product</th>\n",
       "    </tr>\n",
       "  </thead>\n",
       "  <tbody>\n",
       "    <tr>\n",
       "      <th>0</th>\n",
       "      <td>fwXo0</td>\n",
       "      <td>-1.146987</td>\n",
       "      <td>0.963328</td>\n",
       "      <td>-0.828965</td>\n",
       "      <td>27.758673</td>\n",
       "    </tr>\n",
       "    <tr>\n",
       "      <th>1</th>\n",
       "      <td>WJtFt</td>\n",
       "      <td>0.262778</td>\n",
       "      <td>0.269839</td>\n",
       "      <td>-2.530187</td>\n",
       "      <td>56.069697</td>\n",
       "    </tr>\n",
       "    <tr>\n",
       "      <th>2</th>\n",
       "      <td>ovLUW</td>\n",
       "      <td>0.194587</td>\n",
       "      <td>0.289035</td>\n",
       "      <td>-5.586433</td>\n",
       "      <td>62.871910</td>\n",
       "    </tr>\n",
       "    <tr>\n",
       "      <th>3</th>\n",
       "      <td>q6cA6</td>\n",
       "      <td>2.236060</td>\n",
       "      <td>-0.553760</td>\n",
       "      <td>0.930038</td>\n",
       "      <td>114.572842</td>\n",
       "    </tr>\n",
       "    <tr>\n",
       "      <th>4</th>\n",
       "      <td>WPMUX</td>\n",
       "      <td>-0.515993</td>\n",
       "      <td>1.716266</td>\n",
       "      <td>5.899011</td>\n",
       "      <td>149.600746</td>\n",
       "    </tr>\n",
       "  </tbody>\n",
       "</table>\n",
       "</div>"
      ],
      "text/plain": [
       "      id        f0        f1        f2     product\n",
       "0  fwXo0 -1.146987  0.963328 -0.828965   27.758673\n",
       "1  WJtFt  0.262778  0.269839 -2.530187   56.069697\n",
       "2  ovLUW  0.194587  0.289035 -5.586433   62.871910\n",
       "3  q6cA6  2.236060 -0.553760  0.930038  114.572842\n",
       "4  WPMUX -0.515993  1.716266  5.899011  149.600746"
      ]
     },
     "execution_count": 5,
     "metadata": {},
     "output_type": "execute_result"
    }
   ],
   "source": [
    "df2.head()"
   ]
  },
  {
   "cell_type": "code",
   "execution_count": 6,
   "metadata": {},
   "outputs": [
    {
     "name": "stdout",
     "output_type": "stream",
     "text": [
      "<class 'pandas.core.frame.DataFrame'>\n",
      "RangeIndex: 100000 entries, 0 to 99999\n",
      "Data columns (total 5 columns):\n",
      " #   Column   Non-Null Count   Dtype  \n",
      "---  ------   --------------   -----  \n",
      " 0   id       100000 non-null  object \n",
      " 1   f0       100000 non-null  float64\n",
      " 2   f1       100000 non-null  float64\n",
      " 3   f2       100000 non-null  float64\n",
      " 4   product  100000 non-null  float64\n",
      "dtypes: float64(4), object(1)\n",
      "memory usage: 3.8+ MB\n"
     ]
    }
   ],
   "source": [
    "df0.info()"
   ]
  },
  {
   "cell_type": "code",
   "execution_count": 7,
   "metadata": {},
   "outputs": [
    {
     "name": "stdout",
     "output_type": "stream",
     "text": [
      "<class 'pandas.core.frame.DataFrame'>\n",
      "RangeIndex: 100000 entries, 0 to 99999\n",
      "Data columns (total 5 columns):\n",
      " #   Column   Non-Null Count   Dtype  \n",
      "---  ------   --------------   -----  \n",
      " 0   id       100000 non-null  object \n",
      " 1   f0       100000 non-null  float64\n",
      " 2   f1       100000 non-null  float64\n",
      " 3   f2       100000 non-null  float64\n",
      " 4   product  100000 non-null  float64\n",
      "dtypes: float64(4), object(1)\n",
      "memory usage: 3.8+ MB\n"
     ]
    }
   ],
   "source": [
    "df1.info()"
   ]
  },
  {
   "cell_type": "code",
   "execution_count": 8,
   "metadata": {},
   "outputs": [
    {
     "name": "stdout",
     "output_type": "stream",
     "text": [
      "<class 'pandas.core.frame.DataFrame'>\n",
      "RangeIndex: 100000 entries, 0 to 99999\n",
      "Data columns (total 5 columns):\n",
      " #   Column   Non-Null Count   Dtype  \n",
      "---  ------   --------------   -----  \n",
      " 0   id       100000 non-null  object \n",
      " 1   f0       100000 non-null  float64\n",
      " 2   f1       100000 non-null  float64\n",
      " 3   f2       100000 non-null  float64\n",
      " 4   product  100000 non-null  float64\n",
      "dtypes: float64(4), object(1)\n",
      "memory usage: 3.8+ MB\n"
     ]
    }
   ],
   "source": [
    "df2.info()"
   ]
  },
  {
   "cell_type": "code",
   "execution_count": 9,
   "metadata": {},
   "outputs": [
    {
     "name": "stdout",
     "output_type": "stream",
     "text": [
      "Количество дубликатов в df0: 0\n",
      "Количество дубликатов в df1: 0\n",
      "Количество дубликатов в df2: 0\n"
     ]
    }
   ],
   "source": [
    "print('Количество дубликатов в df0:', df0.duplicated().sum())\n",
    "print('Количество дубликатов в df1:', df1.duplicated().sum())\n",
    "print('Количество дубликатов в df2:', df2.duplicated().sum())"
   ]
  },
  {
   "cell_type": "code",
   "execution_count": 10,
   "metadata": {
    "scrolled": true
   },
   "outputs": [
    {
     "name": "stdout",
     "output_type": "stream",
     "text": [
      "Информация о df0:                   f0             f1             f2        product\n",
      "count  100000.000000  100000.000000  100000.000000  100000.000000\n",
      "mean        0.500419       0.250143       2.502647      92.500000\n",
      "std         0.871832       0.504433       3.248248      44.288691\n",
      "min        -1.408605      -0.848218     -12.088328       0.000000\n",
      "25%        -0.072580      -0.200881       0.287748      56.497507\n",
      "50%         0.502360       0.250252       2.515969      91.849972\n",
      "75%         1.073581       0.700646       4.715088     128.564089\n",
      "max         2.362331       1.343769      16.003790     185.364347\n",
      "------------------------------------------------------------------\n",
      "Информация о df1:                   f0             f1             f2        product\n",
      "count  100000.000000  100000.000000  100000.000000  100000.000000\n",
      "mean        1.141296      -4.796579       2.494541      68.825000\n",
      "std         8.965932       5.119872       1.703572      45.944423\n",
      "min       -31.609576     -26.358598      -0.018144       0.000000\n",
      "25%        -6.298551      -8.267985       1.000021      26.953261\n",
      "50%         1.153055      -4.813172       2.011479      57.085625\n",
      "75%         8.621015      -1.332816       3.999904     107.813044\n",
      "max        29.421755      18.734063       5.019721     137.945408\n",
      "------------------------------------------------------------------\n",
      "Информация о df2:                   f0             f1             f2        product\n",
      "count  100000.000000  100000.000000  100000.000000  100000.000000\n",
      "mean        0.002023      -0.002081       2.495128      95.000000\n",
      "std         1.732045       1.730417       3.473445      44.749921\n",
      "min        -8.760004      -7.084020     -11.970335       0.000000\n",
      "25%        -1.162288      -1.174820       0.130359      59.450441\n",
      "50%         0.009424      -0.009482       2.484236      94.925613\n",
      "75%         1.158535       1.163678       4.858794     130.595027\n",
      "max         7.238262       7.844801      16.739402     190.029838\n"
     ]
    }
   ],
   "source": [
    "print('Информация о df0:', df0.describe())\n",
    "print('------------------------------------------------------------------')\n",
    "print('Информация о df1:', df1.describe())\n",
    "print('------------------------------------------------------------------')\n",
    "print('Информация о df2:', df2.describe())"
   ]
  },
  {
   "cell_type": "code",
   "execution_count": 11,
   "metadata": {},
   "outputs": [
    {
     "data": {
      "text/plain": [
       "id          99990\n",
       "f0         100000\n",
       "f1         100000\n",
       "f2         100000\n",
       "product    100000\n",
       "dtype: int64"
      ]
     },
     "metadata": {},
     "output_type": "display_data"
    },
    {
     "name": "stdout",
     "output_type": "stream",
     "text": [
      "-------------\n"
     ]
    },
    {
     "data": {
      "text/plain": [
       "id          99996\n",
       "f0         100000\n",
       "f1         100000\n",
       "f2         100000\n",
       "product        12\n",
       "dtype: int64"
      ]
     },
     "metadata": {},
     "output_type": "display_data"
    },
    {
     "name": "stdout",
     "output_type": "stream",
     "text": [
      "-------------\n"
     ]
    },
    {
     "data": {
      "text/plain": [
       "id          99996\n",
       "f0         100000\n",
       "f1         100000\n",
       "f2         100000\n",
       "product    100000\n",
       "dtype: int64"
      ]
     },
     "metadata": {},
     "output_type": "display_data"
    }
   ],
   "source": [
    "display(df0.nunique())\n",
    "print('-------------')\n",
    "display(df1.nunique())\n",
    "print('-------------')\n",
    "display(df2.nunique())"
   ]
  },
  {
   "cell_type": "code",
   "execution_count": 12,
   "metadata": {
    "scrolled": true
   },
   "outputs": [
    {
     "data": {
      "text/html": [
       "<div>\n",
       "<style scoped>\n",
       "    .dataframe tbody tr th:only-of-type {\n",
       "        vertical-align: middle;\n",
       "    }\n",
       "\n",
       "    .dataframe tbody tr th {\n",
       "        vertical-align: top;\n",
       "    }\n",
       "\n",
       "    .dataframe thead th {\n",
       "        text-align: right;\n",
       "    }\n",
       "</style>\n",
       "<table border=\"1\" class=\"dataframe\">\n",
       "  <thead>\n",
       "    <tr style=\"text-align: right;\">\n",
       "      <th></th>\n",
       "      <th>f0</th>\n",
       "      <th>f1</th>\n",
       "      <th>f2</th>\n",
       "      <th>product</th>\n",
       "    </tr>\n",
       "  </thead>\n",
       "  <tbody>\n",
       "    <tr>\n",
       "      <th>f0</th>\n",
       "      <td>1.000000</td>\n",
       "      <td>-0.440723</td>\n",
       "      <td>-0.003153</td>\n",
       "      <td>0.143536</td>\n",
       "    </tr>\n",
       "    <tr>\n",
       "      <th>f1</th>\n",
       "      <td>-0.440723</td>\n",
       "      <td>1.000000</td>\n",
       "      <td>0.001724</td>\n",
       "      <td>-0.192356</td>\n",
       "    </tr>\n",
       "    <tr>\n",
       "      <th>f2</th>\n",
       "      <td>-0.003153</td>\n",
       "      <td>0.001724</td>\n",
       "      <td>1.000000</td>\n",
       "      <td>0.483663</td>\n",
       "    </tr>\n",
       "    <tr>\n",
       "      <th>product</th>\n",
       "      <td>0.143536</td>\n",
       "      <td>-0.192356</td>\n",
       "      <td>0.483663</td>\n",
       "      <td>1.000000</td>\n",
       "    </tr>\n",
       "  </tbody>\n",
       "</table>\n",
       "</div>"
      ],
      "text/plain": [
       "               f0        f1        f2   product\n",
       "f0       1.000000 -0.440723 -0.003153  0.143536\n",
       "f1      -0.440723  1.000000  0.001724 -0.192356\n",
       "f2      -0.003153  0.001724  1.000000  0.483663\n",
       "product  0.143536 -0.192356  0.483663  1.000000"
      ]
     },
     "metadata": {},
     "output_type": "display_data"
    },
    {
     "name": "stdout",
     "output_type": "stream",
     "text": [
      "-------------\n"
     ]
    },
    {
     "data": {
      "text/html": [
       "<div>\n",
       "<style scoped>\n",
       "    .dataframe tbody tr th:only-of-type {\n",
       "        vertical-align: middle;\n",
       "    }\n",
       "\n",
       "    .dataframe tbody tr th {\n",
       "        vertical-align: top;\n",
       "    }\n",
       "\n",
       "    .dataframe thead th {\n",
       "        text-align: right;\n",
       "    }\n",
       "</style>\n",
       "<table border=\"1\" class=\"dataframe\">\n",
       "  <thead>\n",
       "    <tr style=\"text-align: right;\">\n",
       "      <th></th>\n",
       "      <th>f0</th>\n",
       "      <th>f1</th>\n",
       "      <th>f2</th>\n",
       "      <th>product</th>\n",
       "    </tr>\n",
       "  </thead>\n",
       "  <tbody>\n",
       "    <tr>\n",
       "      <th>f0</th>\n",
       "      <td>1.000000</td>\n",
       "      <td>0.182287</td>\n",
       "      <td>-0.001777</td>\n",
       "      <td>-0.030491</td>\n",
       "    </tr>\n",
       "    <tr>\n",
       "      <th>f1</th>\n",
       "      <td>0.182287</td>\n",
       "      <td>1.000000</td>\n",
       "      <td>-0.002595</td>\n",
       "      <td>-0.010155</td>\n",
       "    </tr>\n",
       "    <tr>\n",
       "      <th>f2</th>\n",
       "      <td>-0.001777</td>\n",
       "      <td>-0.002595</td>\n",
       "      <td>1.000000</td>\n",
       "      <td>0.999397</td>\n",
       "    </tr>\n",
       "    <tr>\n",
       "      <th>product</th>\n",
       "      <td>-0.030491</td>\n",
       "      <td>-0.010155</td>\n",
       "      <td>0.999397</td>\n",
       "      <td>1.000000</td>\n",
       "    </tr>\n",
       "  </tbody>\n",
       "</table>\n",
       "</div>"
      ],
      "text/plain": [
       "               f0        f1        f2   product\n",
       "f0       1.000000  0.182287 -0.001777 -0.030491\n",
       "f1       0.182287  1.000000 -0.002595 -0.010155\n",
       "f2      -0.001777 -0.002595  1.000000  0.999397\n",
       "product -0.030491 -0.010155  0.999397  1.000000"
      ]
     },
     "metadata": {},
     "output_type": "display_data"
    },
    {
     "name": "stdout",
     "output_type": "stream",
     "text": [
      "-------------\n"
     ]
    },
    {
     "data": {
      "text/html": [
       "<div>\n",
       "<style scoped>\n",
       "    .dataframe tbody tr th:only-of-type {\n",
       "        vertical-align: middle;\n",
       "    }\n",
       "\n",
       "    .dataframe tbody tr th {\n",
       "        vertical-align: top;\n",
       "    }\n",
       "\n",
       "    .dataframe thead th {\n",
       "        text-align: right;\n",
       "    }\n",
       "</style>\n",
       "<table border=\"1\" class=\"dataframe\">\n",
       "  <thead>\n",
       "    <tr style=\"text-align: right;\">\n",
       "      <th></th>\n",
       "      <th>f0</th>\n",
       "      <th>f1</th>\n",
       "      <th>f2</th>\n",
       "      <th>product</th>\n",
       "    </tr>\n",
       "  </thead>\n",
       "  <tbody>\n",
       "    <tr>\n",
       "      <th>f0</th>\n",
       "      <td>1.000000</td>\n",
       "      <td>0.000528</td>\n",
       "      <td>-0.000448</td>\n",
       "      <td>-0.001987</td>\n",
       "    </tr>\n",
       "    <tr>\n",
       "      <th>f1</th>\n",
       "      <td>0.000528</td>\n",
       "      <td>1.000000</td>\n",
       "      <td>0.000779</td>\n",
       "      <td>-0.001012</td>\n",
       "    </tr>\n",
       "    <tr>\n",
       "      <th>f2</th>\n",
       "      <td>-0.000448</td>\n",
       "      <td>0.000779</td>\n",
       "      <td>1.000000</td>\n",
       "      <td>0.445871</td>\n",
       "    </tr>\n",
       "    <tr>\n",
       "      <th>product</th>\n",
       "      <td>-0.001987</td>\n",
       "      <td>-0.001012</td>\n",
       "      <td>0.445871</td>\n",
       "      <td>1.000000</td>\n",
       "    </tr>\n",
       "  </tbody>\n",
       "</table>\n",
       "</div>"
      ],
      "text/plain": [
       "               f0        f1        f2   product\n",
       "f0       1.000000  0.000528 -0.000448 -0.001987\n",
       "f1       0.000528  1.000000  0.000779 -0.001012\n",
       "f2      -0.000448  0.000779  1.000000  0.445871\n",
       "product -0.001987 -0.001012  0.445871  1.000000"
      ]
     },
     "metadata": {},
     "output_type": "display_data"
    }
   ],
   "source": [
    "display(df0.corr())\n",
    "print('-------------')\n",
    "display(df1.corr())\n",
    "print('-------------')\n",
    "display(df2.corr())"
   ]
  },
  {
   "cell_type": "markdown",
   "metadata": {},
   "source": [
    "# Описание данных"
   ]
  },
  {
   "cell_type": "markdown",
   "metadata": {},
   "source": [
    "id — уникальный идентификатор скважины;\n",
    "\n",
    "f0, f1, f2 — три признака точек (неважно, что они означают, но сами признаки значимы);\n",
    "\n",
    "product — объём запасов в скважине (тыс. баррелей)."
   ]
  },
  {
   "cell_type": "markdown",
   "metadata": {},
   "source": [
    "# Условие задачи"
   ]
  },
  {
   "cell_type": "markdown",
   "metadata": {},
   "source": [
    "1. Для обучения модели подходит только линейная регрессия (остальные — недостаточно предсказуемые).\n",
    "2. При разведке региона исследуют 500 точек, из которых с помощью машинного обучения выбирают 200 лучших для разработки.\n",
    "3. Бюджет на разработку скважин в регионе — 10 млрд рублей.\n",
    "4. При нынешних ценах один баррель сырья приносит 450 рублей дохода. Доход с каждой единицы продукта составляет 450 тыс. рублей, поскольку объём указан в тысячах баррелей.\n",
    "5. После оценки рисков нужно оставить лишь те регионы, в которых вероятность убытков меньше 2.5%. Среди них выбирают регион с наибольшей средней прибылью."
   ]
  },
  {
   "cell_type": "markdown",
   "metadata": {},
   "source": [
    "**Выводы:**\n",
    "1. Все датасеты полные, без пропусков и подготовлены к исследованию, все типы данных указаны правильно, дубликатов нет. \n",
    "2. Имеются повторяющиеся значения в столбцах id. Скорее всего данные из одной и той же скважины брались несколько раз.\n",
    "3. У датасета с индексом 1 уникальных значений в product 12. Интересно как поведет себя модель.\n",
    "4. Задача 1 пункта проекта выполнена, можно переходить к обучению и проверке модели.\n",
    "5. Столбец id для обучения модели не пригодится."
   ]
  },
  {
   "cell_type": "markdown",
   "metadata": {},
   "source": [
    "## Обучение и проверка модели"
   ]
  },
  {
   "cell_type": "code",
   "execution_count": 13,
   "metadata": {},
   "outputs": [],
   "source": [
    "df0 = df0.drop(['id'], axis=1)\n",
    "df1 = df1.drop(['id'], axis=1)\n",
    "df2 = df2.drop(['id'], axis=1)"
   ]
  },
  {
   "cell_type": "code",
   "execution_count": 14,
   "metadata": {},
   "outputs": [],
   "source": [
    "train_0, valid_0 = train_test_split(df0, test_size=0.25, random_state=12345)\n",
    "train_1, valid_1 = train_test_split(df1, test_size=0.25, random_state=12345)\n",
    "train_2, valid_2 = train_test_split(df2, test_size=0.25, random_state=12345)"
   ]
  },
  {
   "cell_type": "markdown",
   "metadata": {},
   "source": [
    "*Пояснение:*\n",
    "Разделил датафреймы на обучающую и валидационную выбороки в пропорциях 3:1 в соответствии с заданием."
   ]
  },
  {
   "cell_type": "code",
   "execution_count": 15,
   "metadata": {},
   "outputs": [
    {
     "name": "stdout",
     "output_type": "stream",
     "text": [
      "(75000, 4) (25000, 4)\n",
      "(75000, 4) (25000, 4)\n",
      "(75000, 4) (25000, 4)\n"
     ]
    }
   ],
   "source": [
    "print(train_0.shape, valid_0.shape)\n",
    "print(train_1.shape, valid_1.shape)\n",
    "print(train_2.shape, valid_2.shape)"
   ]
  },
  {
   "cell_type": "code",
   "execution_count": 16,
   "metadata": {},
   "outputs": [],
   "source": [
    "def features_target_split(data):\n",
    "    features = data.drop(['product'], axis=1)\n",
    "    target = data['product']\n",
    "    return features, target\n",
    "\n",
    "train_features_0, train_target_0 = features_target_split(train_0)\n",
    "train_features_1, train_target_1 = features_target_split(train_1)\n",
    "train_features_2, train_target_2 = features_target_split(train_2)\n",
    "\n",
    "valid_features_0, valid_target_0 = features_target_split(valid_0)\n",
    "valid_features_1, valid_target_1 = features_target_split(valid_1)\n",
    "valid_features_2, valid_target_2 = features_target_split(valid_2)"
   ]
  },
  {
   "cell_type": "markdown",
   "metadata": {},
   "source": [
    "*Пояснение:*\n",
    "Разделил выборки на признак и целевой признак в функции features_target_split()"
   ]
  },
  {
   "cell_type": "code",
   "execution_count": 17,
   "metadata": {},
   "outputs": [],
   "source": [
    "def df_to_standardscaler(data):\n",
    "    scaler = StandardScaler()\n",
    "    scaler.fit(data)\n",
    "    data = scaler.transform(data)\n",
    "    return data\n",
    "\n",
    "train_features_0 = df_to_standardscaler(train_features_0)\n",
    "train_features_1 = df_to_standardscaler(train_features_1)\n",
    "train_features_2 = df_to_standardscaler(train_features_2)\n",
    "\n",
    "valid_features_0 = df_to_standardscaler(valid_features_0)\n",
    "valid_features_1 = df_to_standardscaler(valid_features_1)\n",
    "valid_features_2 = df_to_standardscaler(valid_features_2)"
   ]
  },
  {
   "cell_type": "markdown",
   "metadata": {},
   "source": [
    "*Пояснение:*\n",
    "Обязательно использую стандартизацию данных, на которой погарел в прошлом проекте. Теперь ни за что не забуду))) Использую StandardScaler, преобразовав данные функцией transform(). Для упрощения работы создал функцию data_to_standardscaler."
   ]
  },
  {
   "cell_type": "code",
   "execution_count": 18,
   "metadata": {},
   "outputs": [],
   "source": [
    "def rmse_model(train_features, train_target, valid_features, valid_target):\n",
    "    model = LinearRegression().fit(train_features, train_target)\n",
    "    predicted = model.predict(valid_features)\n",
    "    mse_0 = mean_squared_error(valid_target, predicted)\n",
    "    rmse_0 = mse_0 ** 0.5\n",
    "    print('RMSE модели {:.2f}'.format(rmse_0))\n",
    "    return predicted"
   ]
  },
  {
   "cell_type": "markdown",
   "metadata": {},
   "source": [
    "*Пояснение:*\n",
    "В соответсвии с заданием использовал модель \"Линейная регрессия\". Соответственно для расчёта RMSE написал одноименную функцию."
   ]
  },
  {
   "cell_type": "code",
   "execution_count": 19,
   "metadata": {},
   "outputs": [
    {
     "name": "stdout",
     "output_type": "stream",
     "text": [
      "Регион 0\n",
      "Cредний запас сырья в регионе 92.50 тыс. баррелей на 1 скважину\n",
      "RMSE модели 37.58\n",
      "Cредняя прибыль с добытого сырья 8.33 млрд. руб.\n"
     ]
    }
   ],
   "source": [
    "print('Регион 0')\n",
    "print('Cредний запас сырья в регионе {:.2f} тыс. баррелей на 1 скважину'.format(df0['product'].mean()))\n",
    "predicted_valid_0  = rmse_model(train_features_0, train_target_0, valid_features_0, valid_target_0)\n",
    "print('Cредняя прибыль с добытого сырья {:.2f} млрд. руб.'.format(df0['product'].mean()*450000*200/1e9))"
   ]
  },
  {
   "cell_type": "code",
   "execution_count": 20,
   "metadata": {},
   "outputs": [
    {
     "name": "stdout",
     "output_type": "stream",
     "text": [
      "Регион 1\n",
      "Cредний запас сырья в регионе 68.83 тыс. баррелей на 1 скважину\n",
      "RMSE модели 0.91\n",
      "Cредняя прибыль с добытого сырья 6.19 млрд. руб.\n"
     ]
    }
   ],
   "source": [
    "print('Регион 1')\n",
    "print('Cредний запас сырья в регионе {:.2f} тыс. баррелей на 1 скважину'.format(df1['product'].mean()))\n",
    "predicted_valid_1  = rmse_model(train_features_1, train_target_1, valid_features_1, valid_target_1)\n",
    "print('Cредняя прибыль с добытого сырья {:.2f} млрд. руб.'.format(df1['product'].mean()*450000*200/1e9))"
   ]
  },
  {
   "cell_type": "code",
   "execution_count": 21,
   "metadata": {},
   "outputs": [
    {
     "name": "stdout",
     "output_type": "stream",
     "text": [
      "Регион 2\n",
      "Cредний запас сырья в регионе 95.00 тыс. баррелей на 1 скважину\n",
      "RMSE модели 40.03\n",
      "Cредняя прибыль с добытого сырья 8.55 млрд. руб.\n"
     ]
    }
   ],
   "source": [
    "print('Регион 2')\n",
    "print('Cредний запас сырья в регионе {:.2f} тыс. баррелей на 1 скважину'.format(df2['product'].mean()))\n",
    "predicted_valid_2  = rmse_model(train_features_2, train_target_2, valid_features_2, valid_target_2)\n",
    "print('Cредняя прибыль с добытого сырья {:.2f} млрд. руб.'.format(df2['product'].mean()*450000*200/1e9))"
   ]
  },
  {
   "cell_type": "markdown",
   "metadata": {},
   "source": [
    "**Вывод:**\n",
    "1. Написал очень много функций для обучения и проверок модели. \n",
    "2. Обученная модель методом \"Линейная регрессия\" показала, что в лучшая RMSE модель в 1 регионе, но как по мне, то этому доверять не стоит, вспоминая, что уникальных значений в product всего 12. Соответственно в регионе 1 средний запас сырья - почти 69 тыс.баррелей, а в 0 и 2 - 92,5 и 95 тыс.баррелей соответственно, что значительно повлияет на прибыль.\n",
    "3. Модель хорошо обучилась и лучше предсказывает в регионе 1.\n",
    "4. Для определения необходимой скважены обязательно нужно будет подсчитать прибыль и риски."
   ]
  },
  {
   "cell_type": "markdown",
   "metadata": {},
   "source": [
    "## Подготовка к расчёту прибыли"
   ]
  },
  {
   "cell_type": "code",
   "execution_count": 22,
   "metadata": {},
   "outputs": [],
   "source": [
    "valid_target_0.reset_index(drop=True, inplace=True)\n",
    "valid_target_1.reset_index(drop=True, inplace=True)\n",
    "valid_target_2.reset_index(drop=True, inplace=True)\n",
    "\n",
    "predicted_valid_0 = pd.Series(predicted_valid_0)\n",
    "predicted_valid_1 = pd.Series(predicted_valid_1)\n",
    "predicted_valid_2 = pd.Series(predicted_valid_2)"
   ]
  },
  {
   "cell_type": "markdown",
   "metadata": {},
   "source": [
    "*Посянение:* Ключевые значения сделал пригодными для работы."
   ]
  },
  {
   "cell_type": "code",
   "execution_count": 23,
   "metadata": {},
   "outputs": [
    {
     "name": "stdout",
     "output_type": "stream",
     "text": [
      "Минимальный средний объём сырья 111.111 тыс.баррелей\n"
     ]
    }
   ],
   "source": [
    "min_v = 50000000 / 450 / 1000\n",
    "\n",
    "print('Минимальный средний объём сырья {:.3f} тыс.баррелей'.format(min_v))"
   ]
  },
  {
   "cell_type": "code",
   "execution_count": 24,
   "metadata": {},
   "outputs": [],
   "source": [
    "def revenue(target, probabilities, count):\n",
    "    probs_sorted = probabilities.sort_values(ascending=False)\n",
    "    selected = target[probs_sorted.index][:count]\n",
    "    return 450 * 1000 * selected.sum() / 1e9\n",
    "\n",
    "\n",
    "#def revenue(target, probabilities, count):\n",
    "#    probs_sorted = probabilities.sort_values(ascending=False)\n",
    "#    selected = target[probs_sorted.index][:count]\n",
    "#    return (profit_from_one_product * selected.sum())"
   ]
  },
  {
   "cell_type": "markdown",
   "metadata": {},
   "source": [
    "**Вывод:**\n",
    "1. Рассчитал минимальный средний объём сырья в месторождениях региона. Считал по формуле:\n",
    "Цена за бурение 1 скважины = бюджет / 200 скважин, соответственно минимальный средний объём сырья в месторождениях региона = Цена за бурение 1 скважины / Доход с каждой единицы продукта\n",
    "\n",
    "2. Получилось, что расходы по добыче в каждой скважине региона должно быть в среднем 111.11 тыс.баррелей нефти.\n",
    "\n",
    "3. Написал функцию для расчёта прибыли по набору отобранных месторождений и предсказаний модели distribution_revenue, принимающая на вход предсказания, истинные значения целевого признака и количество скважин и считающая общую прибыль в млрд.руб в регионе.\n",
    "4. В общем и целом подготовил данные для расчета по технике Bootstrap и статистического анализа."
   ]
  },
  {
   "cell_type": "markdown",
   "metadata": {},
   "source": [
    "## Расчёт прибыли и рисков "
   ]
  },
  {
   "cell_type": "code",
   "execution_count": 25,
   "metadata": {},
   "outputs": [],
   "source": [
    "state = np.random.RandomState(12345)\n",
    "def distribution_of_revenue(target, probabilities):\n",
    "    values = []\n",
    "    for i in range(1000):\n",
    "        target_subsample = target.sample(n=500, replace=True, random_state=state)\n",
    "        probs_subsample = probabilities[target_subsample.index]\n",
    "        values.append(revenue(target_subsample, probs_subsample, 200))\n",
    "\n",
    "    values = pd.Series(values)\n",
    "    mean = values.mean() - 10 # вычитаем расходы в 10 млрд. руб. на разработку скважин\n",
    "    print('Средняя прибыль {} млрд.руб.'.format(mean))\n",
    "    \n",
    "    lower = np.quantile(values, 0.025) - 10\n",
    "    upper = np.quantile(values, 0.975) - 10\n",
    "    print('95%-й доверительный интервал  {} - {} млрд.руб.'.format(lower, upper)) # Отрицательный - убыток, положительный - прибыль\n",
    "    \n",
    "    loss_risk = st.percentileofscore(values, 10)\n",
    "    print('Риск убытков {} %'.format(loss_risk))\n",
    "    return "
   ]
  },
  {
   "cell_type": "code",
   "execution_count": 26,
   "metadata": {},
   "outputs": [
    {
     "name": "stdout",
     "output_type": "stream",
     "text": [
      "Средняя прибыль 0.42651131389323993 млрд.руб.\n",
      "95%-й доверительный интервал  -0.1044714661254158 - 0.9479763533583689 млрд.руб.\n",
      "Риск убытков 6.1 %\n"
     ]
    }
   ],
   "source": [
    "distribution_of_revenue(valid_target_0, predicted_valid_0)"
   ]
  },
  {
   "cell_type": "code",
   "execution_count": 27,
   "metadata": {},
   "outputs": [
    {
     "name": "stdout",
     "output_type": "stream",
     "text": [
      "Средняя прибыль 0.5182580631011628 млрд.руб.\n",
      "95%-й доверительный интервал  0.12812323143308468 - 0.9536129820669075 млрд.руб.\n",
      "Риск убытков 0.3 %\n"
     ]
    }
   ],
   "source": [
    "distribution_of_revenue(valid_target_1, predicted_valid_1)"
   ]
  },
  {
   "cell_type": "code",
   "execution_count": 28,
   "metadata": {},
   "outputs": [
    {
     "name": "stdout",
     "output_type": "stream",
     "text": [
      "Средняя прибыль 0.42022287822227433 млрд.руб.\n",
      "95%-й доверительный интервал  -0.11585260916001161 - 0.9896299398445745 млрд.руб.\n",
      "Риск убытков 6.2 %\n"
     ]
    }
   ],
   "source": [
    "distribution_of_revenue(valid_target_2, predicted_valid_2)"
   ]
  },
  {
   "cell_type": "markdown",
   "metadata": {},
   "source": [
    "**Вывод:**\n",
    "1. Применил технику Bootstrap с 1000 выборок, чтобы найти распределение прибыли.\n",
    "2. Нашел среднюю прибыль, 95%-й доверительный интервал и риск убытков.\n",
    "3. Написал функцию distribution_of_revenue с техникой Bootstrap с 1000 повторениями для 500 возможных скважин, 200 из которых будут отобраны для бурения. Функция считает среднюю прибыль, 95%-й доверительный интервал и риск убытков по целевому признаку и предсказаниям.\n",
    "4. При Bootstrap с 1000 выборок, распределение средних находится в районе 10 млрд. Для регионов 0 и 2 в районе 10,4 млрд. для региона 1 в 105 млрд .  -->\n",
    "5. 95% доверительный интервал только для региона 2 выше 10,5 млрд.рублей.\n",
    "6. Риски получения убытков наименьшие (менее 1%) только во 1 регионе. (df1) (geo_data_1)\n",
    "7. Наиболее предпочтительным регионом для бурения скважин по средней приблыли и минимальному риску убытков - **Регион 1.** (df1) (geo_data_1)"
   ]
  },
  {
   "cell_type": "markdown",
   "metadata": {},
   "source": [
    "# Вывод проекта"
   ]
  },
  {
   "cell_type": "markdown",
   "metadata": {},
   "source": [
    "1. Обучение модели методом \"Линейная регрессия\" в 3 регионах показала, что в регионе 1 лучшая RMSE, модель предсказывает наличие запасов нефти с точность до 0.9 тыс.баррелей, в то время как в регионе 0 и 2 достигается разброс около 40 тыс.баррелей.\n",
    "2. В общем и целом все регионы подходят по среднему количеству баррелей в скважинах.Однако, на случайной выборке из 1000 повторений модель предсказывает среднюю прибыль и 95%-й доверительный интервал операционного дохода лучше в Регионе 1.\n",
    "3. Чтобы получить максимальную прибыль при минимальных рисках необходимо использовать Регион 1 для добычи сырья, т.к.  это лучший регион исходя из заданных данных."
   ]
  },
  {
   "cell_type": "markdown",
   "metadata": {},
   "source": [
    "## Чек-лист готовности проекта"
   ]
  },
  {
   "cell_type": "markdown",
   "metadata": {},
   "source": [
    "Поставьте 'x' в выполненных пунктах. Далее нажмите Shift+Enter."
   ]
  },
  {
   "cell_type": "markdown",
   "metadata": {},
   "source": [
    "- [x]  Jupyter Notebook открыт\n",
    "- [x]  Весь код выполняется без ошибок\n",
    "- [x]  Ячейки с кодом расположены в порядке исполнения\n",
    "- [x]  Выполнен шаг 1: данные подготовлены\n",
    "- [x]  Выполнен шаг 2: модели обучены и проверены\n",
    "    - [x]  Данные корректно разбиты на обучающую и валидационную выборки\n",
    "    - [x]  Модели обучены, предсказания сделаны\n",
    "    - [x]  Предсказания и правильные ответы на валидационной выборке сохранены\n",
    "    - [x]  На экране напечатаны результаты\n",
    "    - [x]  Сделаны выводы\n",
    "- [x]  Выполнен шаг 3: проведена подготовка к расчёту прибыли\n",
    "    - [x]  Для всех ключевых значений созданы константы Python\n",
    "    - [x]  Посчитано минимальное среднее количество продукта в месторождениях региона, достаточное для разработки\n",
    "    - [x]  По предыдущему пункту сделаны выводы\n",
    "    - [x]  Написана функция расчёта прибыли\n",
    "- [x]  Выполнен шаг 4: посчитаны риски и прибыль\n",
    "    - [x]  Проведена процедура *Bootstrap*\n",
    "    - [x]  Все параметры бутстрепа соответствуют условию\n",
    "    - [x]  Найдены все нужные величины\n",
    "    - [x]  Предложен регион для разработки месторождения\n",
    "    - [x]  Выбор региона обоснован"
   ]
  }
 ],
 "metadata": {
  "ExecuteTimeLog": [
   {
    "duration": 2029,
    "start_time": "2022-03-19T17:32:53.710Z"
   },
   {
    "duration": 407,
    "start_time": "2022-03-19T17:32:55.742Z"
   },
   {
    "duration": 19,
    "start_time": "2022-03-19T17:33:14.671Z"
   },
   {
    "duration": 14,
    "start_time": "2022-03-19T17:33:27.694Z"
   },
   {
    "duration": 14,
    "start_time": "2022-03-19T17:33:30.236Z"
   },
   {
    "duration": 23,
    "start_time": "2022-03-19T17:34:14.862Z"
   },
   {
    "duration": 22,
    "start_time": "2022-03-19T17:34:18.101Z"
   },
   {
    "duration": 22,
    "start_time": "2022-03-19T17:34:20.561Z"
   },
   {
    "duration": 125,
    "start_time": "2022-03-19T17:37:19.888Z"
   },
   {
    "duration": 195,
    "start_time": "2022-03-19T17:37:37.621Z"
   },
   {
    "duration": 157,
    "start_time": "2022-03-19T17:39:14.179Z"
   },
   {
    "duration": 113,
    "start_time": "2022-03-19T17:39:26.716Z"
   },
   {
    "duration": 30,
    "start_time": "2022-03-19T17:45:49.300Z"
   },
   {
    "duration": 168,
    "start_time": "2022-03-19T18:07:02.700Z"
   },
   {
    "duration": 152,
    "start_time": "2022-03-19T18:07:26.714Z"
   },
   {
    "duration": 69,
    "start_time": "2022-03-19T18:08:32.309Z"
   },
   {
    "duration": 151,
    "start_time": "2022-03-19T18:22:09.068Z"
   },
   {
    "duration": 595,
    "start_time": "2022-03-19T18:22:24.088Z"
   },
   {
    "duration": 529,
    "start_time": "2022-03-19T18:24:17.854Z"
   },
   {
    "duration": 25,
    "start_time": "2022-03-19T18:30:22.145Z"
   },
   {
    "duration": 23,
    "start_time": "2022-03-19T18:30:47.476Z"
   },
   {
    "duration": 23,
    "start_time": "2022-03-19T18:31:12.380Z"
   },
   {
    "duration": 12,
    "start_time": "2022-03-19T18:31:25.187Z"
   },
   {
    "duration": 13,
    "start_time": "2022-03-19T18:40:15.342Z"
   },
   {
    "duration": 18,
    "start_time": "2022-03-19T18:40:53.120Z"
   },
   {
    "duration": 8,
    "start_time": "2022-03-19T18:41:08.502Z"
   },
   {
    "duration": 8,
    "start_time": "2022-03-19T18:41:18.448Z"
   },
   {
    "duration": 8,
    "start_time": "2022-03-19T18:41:23.550Z"
   },
   {
    "duration": 497,
    "start_time": "2022-03-19T18:41:44.486Z"
   },
   {
    "duration": 14,
    "start_time": "2022-03-19T18:41:47.576Z"
   },
   {
    "duration": 15,
    "start_time": "2022-03-19T18:42:59.977Z"
   },
   {
    "duration": 14,
    "start_time": "2022-03-19T18:43:14.574Z"
   },
   {
    "duration": 13,
    "start_time": "2022-03-19T18:43:35.312Z"
   },
   {
    "duration": 591,
    "start_time": "2022-03-19T18:44:51.091Z"
   },
   {
    "duration": 26,
    "start_time": "2022-03-19T18:44:52.372Z"
   },
   {
    "duration": 28,
    "start_time": "2022-03-19T18:45:28.096Z"
   },
   {
    "duration": 20,
    "start_time": "2022-03-19T18:46:39.061Z"
   },
   {
    "duration": 19,
    "start_time": "2022-03-19T18:46:56.662Z"
   },
   {
    "duration": 22,
    "start_time": "2022-03-19T18:47:01.380Z"
   },
   {
    "duration": 505,
    "start_time": "2022-03-19T18:47:19.178Z"
   },
   {
    "duration": 14,
    "start_time": "2022-03-19T18:47:20.713Z"
   },
   {
    "duration": 13,
    "start_time": "2022-03-19T18:48:04.912Z"
   },
   {
    "duration": 486,
    "start_time": "2022-03-19T18:51:04.523Z"
   },
   {
    "duration": 15,
    "start_time": "2022-03-19T18:51:06.536Z"
   },
   {
    "duration": 15,
    "start_time": "2022-03-19T19:00:04.133Z"
   },
   {
    "duration": 4,
    "start_time": "2022-03-19T19:02:58.400Z"
   },
   {
    "duration": 14,
    "start_time": "2022-03-19T19:03:47.446Z"
   },
   {
    "duration": 5,
    "start_time": "2022-03-19T19:04:04.486Z"
   },
   {
    "duration": 5,
    "start_time": "2022-03-19T19:05:20.136Z"
   },
   {
    "duration": 25,
    "start_time": "2022-03-19T19:06:01.498Z"
   },
   {
    "duration": 23,
    "start_time": "2022-03-19T19:06:50.108Z"
   },
   {
    "duration": 25,
    "start_time": "2022-03-19T19:07:29.904Z"
   },
   {
    "duration": 5,
    "start_time": "2022-03-19T19:09:20.890Z"
   },
   {
    "duration": 1763,
    "start_time": "2022-03-19T19:10:43.201Z"
   },
   {
    "duration": 437,
    "start_time": "2022-03-19T19:10:44.966Z"
   },
   {
    "duration": 19,
    "start_time": "2022-03-19T19:10:45.405Z"
   },
   {
    "duration": 11,
    "start_time": "2022-03-19T19:10:45.426Z"
   },
   {
    "duration": 43,
    "start_time": "2022-03-19T19:10:45.442Z"
   },
   {
    "duration": 29,
    "start_time": "2022-03-19T19:10:45.487Z"
   },
   {
    "duration": 21,
    "start_time": "2022-03-19T19:10:45.518Z"
   },
   {
    "duration": 43,
    "start_time": "2022-03-19T19:10:45.541Z"
   },
   {
    "duration": 206,
    "start_time": "2022-03-19T19:10:45.586Z"
   },
   {
    "duration": 125,
    "start_time": "2022-03-19T19:10:45.795Z"
   },
   {
    "duration": 176,
    "start_time": "2022-03-19T19:10:45.922Z"
   },
   {
    "duration": 54,
    "start_time": "2022-03-19T19:10:46.102Z"
   },
   {
    "duration": 602,
    "start_time": "2022-03-19T19:10:46.181Z"
   },
   {
    "duration": 100,
    "start_time": "2022-03-19T19:10:46.789Z"
   },
   {
    "duration": 8,
    "start_time": "2022-03-19T19:10:46.891Z"
   },
   {
    "duration": 10,
    "start_time": "2022-03-19T19:10:46.901Z"
   },
   {
    "duration": 28,
    "start_time": "2022-03-19T19:10:46.913Z"
   },
   {
    "duration": 6,
    "start_time": "2022-03-19T19:10:46.943Z"
   },
   {
    "duration": 140,
    "start_time": "2022-03-19T19:11:55.123Z"
   },
   {
    "duration": 17,
    "start_time": "2022-03-19T19:12:10.888Z"
   },
   {
    "duration": 2160,
    "start_time": "2022-03-19T19:12:43.242Z"
   },
   {
    "duration": 2587,
    "start_time": "2022-03-19T19:14:39.112Z"
   },
   {
    "duration": 424,
    "start_time": "2022-03-19T19:14:41.702Z"
   },
   {
    "duration": 19,
    "start_time": "2022-03-19T19:14:42.128Z"
   },
   {
    "duration": 15,
    "start_time": "2022-03-19T19:14:42.150Z"
   },
   {
    "duration": 14,
    "start_time": "2022-03-19T19:14:42.183Z"
   },
   {
    "duration": 22,
    "start_time": "2022-03-19T19:14:42.200Z"
   },
   {
    "duration": 58,
    "start_time": "2022-03-19T19:14:42.225Z"
   },
   {
    "duration": 20,
    "start_time": "2022-03-19T19:14:42.286Z"
   },
   {
    "duration": 234,
    "start_time": "2022-03-19T19:14:42.308Z"
   },
   {
    "duration": 147,
    "start_time": "2022-03-19T19:14:42.546Z"
   },
   {
    "duration": 208,
    "start_time": "2022-03-19T19:14:42.695Z"
   },
   {
    "duration": 76,
    "start_time": "2022-03-19T19:14:42.906Z"
   },
   {
    "duration": 705,
    "start_time": "2022-03-19T19:14:42.984Z"
   },
   {
    "duration": 197,
    "start_time": "2022-03-19T19:14:43.692Z"
   },
   {
    "duration": 4,
    "start_time": "2022-03-19T19:14:43.892Z"
   },
   {
    "duration": 5,
    "start_time": "2022-03-19T19:14:43.900Z"
   },
   {
    "duration": 187,
    "start_time": "2022-03-19T19:14:43.908Z"
   },
   {
    "duration": 0,
    "start_time": "2022-03-19T19:14:44.097Z"
   },
   {
    "duration": 0,
    "start_time": "2022-03-19T19:14:44.099Z"
   },
   {
    "duration": 25,
    "start_time": "2022-03-19T19:14:58.385Z"
   },
   {
    "duration": 6,
    "start_time": "2022-03-19T19:14:59.376Z"
   },
   {
    "duration": 2627,
    "start_time": "2022-03-19T19:15:01.462Z"
   },
   {
    "duration": 16,
    "start_time": "2022-03-19T19:16:20.488Z"
   },
   {
    "duration": 2515,
    "start_time": "2022-03-19T19:16:30.019Z"
   },
   {
    "duration": 2228,
    "start_time": "2022-03-19T19:16:34.361Z"
   },
   {
    "duration": 492,
    "start_time": "2022-03-19T19:19:25.591Z"
   },
   {
    "duration": 15,
    "start_time": "2022-03-19T19:19:27.637Z"
   },
   {
    "duration": 1826,
    "start_time": "2022-03-19T19:19:33.879Z"
   },
   {
    "duration": 422,
    "start_time": "2022-03-19T19:19:35.708Z"
   },
   {
    "duration": 18,
    "start_time": "2022-03-19T19:19:36.132Z"
   },
   {
    "duration": 21,
    "start_time": "2022-03-19T19:19:36.153Z"
   },
   {
    "duration": 15,
    "start_time": "2022-03-19T19:19:36.182Z"
   },
   {
    "duration": 41,
    "start_time": "2022-03-19T19:19:36.199Z"
   },
   {
    "duration": 33,
    "start_time": "2022-03-19T19:19:36.242Z"
   },
   {
    "duration": 19,
    "start_time": "2022-03-19T19:19:36.277Z"
   },
   {
    "duration": 212,
    "start_time": "2022-03-19T19:19:36.299Z"
   },
   {
    "duration": 122,
    "start_time": "2022-03-19T19:19:36.514Z"
   },
   {
    "duration": 181,
    "start_time": "2022-03-19T19:19:36.639Z"
   },
   {
    "duration": 76,
    "start_time": "2022-03-19T19:19:36.822Z"
   },
   {
    "duration": 583,
    "start_time": "2022-03-19T19:19:36.900Z"
   },
   {
    "duration": 106,
    "start_time": "2022-03-19T19:19:37.486Z"
   },
   {
    "duration": 5,
    "start_time": "2022-03-19T19:19:37.594Z"
   },
   {
    "duration": 10,
    "start_time": "2022-03-19T19:19:37.601Z"
   },
   {
    "duration": 25,
    "start_time": "2022-03-19T19:19:37.613Z"
   },
   {
    "duration": 5,
    "start_time": "2022-03-19T19:19:37.640Z"
   },
   {
    "duration": 2183,
    "start_time": "2022-03-19T19:19:37.683Z"
   },
   {
    "duration": 2258,
    "start_time": "2022-03-19T19:19:39.868Z"
   },
   {
    "duration": 2273,
    "start_time": "2022-03-19T19:19:42.128Z"
   },
   {
    "duration": 27,
    "start_time": "2022-03-19T19:26:23.169Z"
   },
   {
    "duration": 155,
    "start_time": "2022-03-19T19:26:49.117Z"
   },
   {
    "duration": 20,
    "start_time": "2022-03-19T19:27:04.183Z"
   },
   {
    "duration": 23,
    "start_time": "2022-03-19T19:27:07.544Z"
   },
   {
    "duration": 18,
    "start_time": "2022-03-19T19:27:16.297Z"
   },
   {
    "duration": 18,
    "start_time": "2022-03-19T19:27:32.261Z"
   },
   {
    "duration": 19,
    "start_time": "2022-03-19T19:27:37.366Z"
   },
   {
    "duration": 2037,
    "start_time": "2022-03-19T19:27:45.234Z"
   },
   {
    "duration": 473,
    "start_time": "2022-03-19T19:27:47.274Z"
   },
   {
    "duration": 38,
    "start_time": "2022-03-19T19:27:47.750Z"
   },
   {
    "duration": 15,
    "start_time": "2022-03-19T19:27:47.791Z"
   },
   {
    "duration": 16,
    "start_time": "2022-03-19T19:27:47.811Z"
   },
   {
    "duration": 55,
    "start_time": "2022-03-19T19:27:47.829Z"
   },
   {
    "duration": 22,
    "start_time": "2022-03-19T19:27:47.887Z"
   },
   {
    "duration": 21,
    "start_time": "2022-03-19T19:27:47.911Z"
   },
   {
    "duration": 228,
    "start_time": "2022-03-19T19:27:47.934Z"
   },
   {
    "duration": 142,
    "start_time": "2022-03-19T19:27:48.165Z"
   },
   {
    "duration": 188,
    "start_time": "2022-03-19T19:27:48.311Z"
   },
   {
    "duration": 54,
    "start_time": "2022-03-19T19:27:48.502Z"
   },
   {
    "duration": 13,
    "start_time": "2022-03-19T19:27:48.583Z"
   },
   {
    "duration": 1840,
    "start_time": "2022-03-19T19:29:24.052Z"
   },
   {
    "duration": 407,
    "start_time": "2022-03-19T19:29:25.896Z"
   },
   {
    "duration": 18,
    "start_time": "2022-03-19T19:29:26.306Z"
   },
   {
    "duration": 12,
    "start_time": "2022-03-19T19:29:26.326Z"
   },
   {
    "duration": 11,
    "start_time": "2022-03-19T19:29:26.342Z"
   },
   {
    "duration": 25,
    "start_time": "2022-03-19T19:29:26.383Z"
   },
   {
    "duration": 21,
    "start_time": "2022-03-19T19:29:26.410Z"
   },
   {
    "duration": 50,
    "start_time": "2022-03-19T19:29:26.433Z"
   },
   {
    "duration": 304,
    "start_time": "2022-03-19T19:29:26.485Z"
   },
   {
    "duration": 1,
    "start_time": "2022-03-19T19:29:26.791Z"
   },
   {
    "duration": 0,
    "start_time": "2022-03-19T19:29:26.793Z"
   },
   {
    "duration": 0,
    "start_time": "2022-03-19T19:29:26.795Z"
   },
   {
    "duration": 0,
    "start_time": "2022-03-19T19:29:26.796Z"
   },
   {
    "duration": 0,
    "start_time": "2022-03-19T19:29:26.798Z"
   },
   {
    "duration": 195,
    "start_time": "2022-03-19T19:29:39.868Z"
   },
   {
    "duration": 111,
    "start_time": "2022-03-19T19:29:47.744Z"
   },
   {
    "duration": 167,
    "start_time": "2022-03-19T19:29:49.831Z"
   },
   {
    "duration": 56,
    "start_time": "2022-03-19T19:29:51.696Z"
   },
   {
    "duration": 13,
    "start_time": "2022-03-19T19:29:55.753Z"
   },
   {
    "duration": 36,
    "start_time": "2022-03-19T19:29:56.640Z"
   },
   {
    "duration": 5,
    "start_time": "2022-03-19T19:30:06.767Z"
   },
   {
    "duration": 19,
    "start_time": "2022-03-19T19:35:12.248Z"
   },
   {
    "duration": 47,
    "start_time": "2022-03-19T19:35:27.501Z"
   },
   {
    "duration": 5,
    "start_time": "2022-03-19T19:35:36.578Z"
   },
   {
    "duration": 14,
    "start_time": "2022-03-19T19:36:05.099Z"
   },
   {
    "duration": 66,
    "start_time": "2022-03-19T19:36:09.417Z"
   },
   {
    "duration": 14,
    "start_time": "2022-03-19T19:36:44.618Z"
   },
   {
    "duration": 15,
    "start_time": "2022-03-19T19:36:47.120Z"
   },
   {
    "duration": 5,
    "start_time": "2022-03-19T19:37:12.075Z"
   },
   {
    "duration": 4,
    "start_time": "2022-03-19T19:37:20.036Z"
   },
   {
    "duration": 4,
    "start_time": "2022-03-19T19:37:27.846Z"
   },
   {
    "duration": 10,
    "start_time": "2022-03-19T19:37:41.322Z"
   },
   {
    "duration": 1931,
    "start_time": "2022-03-19T19:37:49.661Z"
   },
   {
    "duration": 1959,
    "start_time": "2022-03-19T19:38:46.251Z"
   },
   {
    "duration": 429,
    "start_time": "2022-03-19T19:38:48.214Z"
   },
   {
    "duration": 21,
    "start_time": "2022-03-19T19:38:48.646Z"
   },
   {
    "duration": 15,
    "start_time": "2022-03-19T19:38:48.687Z"
   },
   {
    "duration": 14,
    "start_time": "2022-03-19T19:38:48.707Z"
   },
   {
    "duration": 23,
    "start_time": "2022-03-19T19:38:48.723Z"
   },
   {
    "duration": 54,
    "start_time": "2022-03-19T19:38:48.749Z"
   },
   {
    "duration": 25,
    "start_time": "2022-03-19T19:38:48.806Z"
   },
   {
    "duration": 242,
    "start_time": "2022-03-19T19:38:48.834Z"
   },
   {
    "duration": 131,
    "start_time": "2022-03-19T19:38:49.082Z"
   },
   {
    "duration": 178,
    "start_time": "2022-03-19T19:38:49.215Z"
   },
   {
    "duration": 58,
    "start_time": "2022-03-19T19:38:49.395Z"
   },
   {
    "duration": 14,
    "start_time": "2022-03-19T19:38:49.484Z"
   },
   {
    "duration": 44,
    "start_time": "2022-03-19T19:38:49.502Z"
   },
   {
    "duration": 8,
    "start_time": "2022-03-19T19:38:49.549Z"
   },
   {
    "duration": 38,
    "start_time": "2022-03-19T19:38:49.559Z"
   },
   {
    "duration": 56,
    "start_time": "2022-03-19T19:38:49.600Z"
   },
   {
    "duration": 5,
    "start_time": "2022-03-19T19:38:49.659Z"
   },
   {
    "duration": 50,
    "start_time": "2022-03-19T19:38:49.666Z"
   },
   {
    "duration": 113,
    "start_time": "2022-03-19T19:38:49.784Z"
   },
   {
    "duration": 199,
    "start_time": "2022-03-19T19:38:49.902Z"
   },
   {
    "duration": 83,
    "start_time": "2022-03-19T19:38:50.105Z"
   },
   {
    "duration": 24,
    "start_time": "2022-03-19T19:38:50.281Z"
   },
   {
    "duration": 4,
    "start_time": "2022-03-19T19:38:50.308Z"
   },
   {
    "duration": 7,
    "start_time": "2022-03-19T19:38:50.315Z"
   },
   {
    "duration": 2049,
    "start_time": "2022-03-19T19:38:50.324Z"
   },
   {
    "duration": 2090,
    "start_time": "2022-03-19T19:39:08.432Z"
   },
   {
    "duration": 2000,
    "start_time": "2022-03-19T19:39:24.023Z"
   },
   {
    "duration": 1695,
    "start_time": "2022-03-19T19:40:25.281Z"
   },
   {
    "duration": 694,
    "start_time": "2022-03-19T19:40:26.979Z"
   },
   {
    "duration": 41,
    "start_time": "2022-03-19T19:40:27.676Z"
   },
   {
    "duration": 17,
    "start_time": "2022-03-19T19:40:27.722Z"
   },
   {
    "duration": 41,
    "start_time": "2022-03-19T19:40:27.743Z"
   },
   {
    "duration": 24,
    "start_time": "2022-03-19T19:40:27.786Z"
   },
   {
    "duration": 31,
    "start_time": "2022-03-19T19:40:27.812Z"
   },
   {
    "duration": 57,
    "start_time": "2022-03-19T19:40:27.847Z"
   },
   {
    "duration": 265,
    "start_time": "2022-03-19T19:40:27.907Z"
   },
   {
    "duration": 178,
    "start_time": "2022-03-19T19:40:28.184Z"
   },
   {
    "duration": 262,
    "start_time": "2022-03-19T19:40:28.366Z"
   },
   {
    "duration": 73,
    "start_time": "2022-03-19T19:40:28.632Z"
   },
   {
    "duration": 13,
    "start_time": "2022-03-19T19:40:28.707Z"
   },
   {
    "duration": 64,
    "start_time": "2022-03-19T19:40:28.723Z"
   },
   {
    "duration": 6,
    "start_time": "2022-03-19T19:40:28.789Z"
   },
   {
    "duration": 33,
    "start_time": "2022-03-19T19:40:28.797Z"
   },
   {
    "duration": 71,
    "start_time": "2022-03-19T19:40:28.832Z"
   },
   {
    "duration": 6,
    "start_time": "2022-03-19T19:40:28.905Z"
   },
   {
    "duration": 86,
    "start_time": "2022-03-19T19:40:28.913Z"
   },
   {
    "duration": 190,
    "start_time": "2022-03-19T19:40:29.001Z"
   },
   {
    "duration": 107,
    "start_time": "2022-03-19T19:40:29.196Z"
   },
   {
    "duration": 178,
    "start_time": "2022-03-19T19:40:29.307Z"
   },
   {
    "duration": 25,
    "start_time": "2022-03-19T19:40:29.487Z"
   },
   {
    "duration": 10,
    "start_time": "2022-03-19T19:40:29.514Z"
   },
   {
    "duration": 30,
    "start_time": "2022-03-19T19:40:29.526Z"
   },
   {
    "duration": 2020,
    "start_time": "2022-03-19T19:40:29.559Z"
   },
   {
    "duration": 2019,
    "start_time": "2022-03-19T19:40:31.583Z"
   },
   {
    "duration": 2948,
    "start_time": "2022-03-19T19:40:33.607Z"
   },
   {
    "duration": 23,
    "start_time": "2022-03-19T19:45:34.367Z"
   },
   {
    "duration": 5,
    "start_time": "2022-03-19T20:03:32.825Z"
   },
   {
    "duration": 1991,
    "start_time": "2022-03-19T20:21:57.733Z"
   },
   {
    "duration": 428,
    "start_time": "2022-03-19T20:21:59.728Z"
   },
   {
    "duration": 38,
    "start_time": "2022-03-19T20:22:00.159Z"
   },
   {
    "duration": 17,
    "start_time": "2022-03-19T20:22:00.201Z"
   },
   {
    "duration": 19,
    "start_time": "2022-03-19T20:22:00.221Z"
   },
   {
    "duration": 54,
    "start_time": "2022-03-19T20:22:00.243Z"
   },
   {
    "duration": 29,
    "start_time": "2022-03-19T20:22:00.300Z"
   },
   {
    "duration": 22,
    "start_time": "2022-03-19T20:22:00.332Z"
   },
   {
    "duration": 214,
    "start_time": "2022-03-19T20:22:00.383Z"
   },
   {
    "duration": 133,
    "start_time": "2022-03-19T20:22:00.601Z"
   },
   {
    "duration": 185,
    "start_time": "2022-03-19T20:22:00.737Z"
   },
   {
    "duration": 78,
    "start_time": "2022-03-19T20:22:00.925Z"
   },
   {
    "duration": 14,
    "start_time": "2022-03-19T20:22:01.005Z"
   },
   {
    "duration": 62,
    "start_time": "2022-03-19T20:22:01.021Z"
   },
   {
    "duration": 6,
    "start_time": "2022-03-19T20:22:01.086Z"
   },
   {
    "duration": 39,
    "start_time": "2022-03-19T20:22:01.094Z"
   },
   {
    "duration": 61,
    "start_time": "2022-03-19T20:22:01.135Z"
   },
   {
    "duration": 5,
    "start_time": "2022-03-19T20:22:01.199Z"
   },
   {
    "duration": 266,
    "start_time": "2022-03-19T20:22:01.207Z"
   },
   {
    "duration": 0,
    "start_time": "2022-03-19T20:22:01.476Z"
   },
   {
    "duration": 0,
    "start_time": "2022-03-19T20:22:01.483Z"
   },
   {
    "duration": 0,
    "start_time": "2022-03-19T20:22:01.485Z"
   },
   {
    "duration": 0,
    "start_time": "2022-03-19T20:22:01.487Z"
   },
   {
    "duration": 0,
    "start_time": "2022-03-19T20:22:01.490Z"
   },
   {
    "duration": 0,
    "start_time": "2022-03-19T20:22:01.492Z"
   },
   {
    "duration": 0,
    "start_time": "2022-03-19T20:22:01.494Z"
   },
   {
    "duration": 0,
    "start_time": "2022-03-19T20:22:01.496Z"
   },
   {
    "duration": 0,
    "start_time": "2022-03-19T20:22:01.498Z"
   },
   {
    "duration": 62,
    "start_time": "2022-03-19T20:22:45.720Z"
   },
   {
    "duration": 16,
    "start_time": "2022-03-19T20:22:47.591Z"
   },
   {
    "duration": 91,
    "start_time": "2022-03-19T20:22:54.592Z"
   },
   {
    "duration": 16,
    "start_time": "2022-03-19T20:22:56.537Z"
   },
   {
    "duration": 10,
    "start_time": "2022-03-19T20:23:56.762Z"
   },
   {
    "duration": 16,
    "start_time": "2022-03-19T20:23:57.367Z"
   },
   {
    "duration": 8,
    "start_time": "2022-03-19T20:24:18.020Z"
   },
   {
    "duration": 21,
    "start_time": "2022-03-19T20:24:18.712Z"
   },
   {
    "duration": 18,
    "start_time": "2022-03-19T20:24:21.031Z"
   },
   {
    "duration": 22,
    "start_time": "2022-03-19T20:24:21.579Z"
   },
   {
    "duration": 22,
    "start_time": "2022-03-19T20:24:49.524Z"
   },
   {
    "duration": 22,
    "start_time": "2022-03-19T20:24:50.344Z"
   },
   {
    "duration": 15,
    "start_time": "2022-03-19T20:24:50.813Z"
   },
   {
    "duration": 1571,
    "start_time": "2022-03-19T20:24:56.617Z"
   },
   {
    "duration": 465,
    "start_time": "2022-03-19T20:24:58.191Z"
   },
   {
    "duration": 35,
    "start_time": "2022-03-19T20:24:58.658Z"
   },
   {
    "duration": 20,
    "start_time": "2022-03-19T20:24:58.696Z"
   },
   {
    "duration": 14,
    "start_time": "2022-03-19T20:24:58.720Z"
   },
   {
    "duration": 49,
    "start_time": "2022-03-19T20:24:58.736Z"
   },
   {
    "duration": 20,
    "start_time": "2022-03-19T20:24:58.787Z"
   },
   {
    "duration": 20,
    "start_time": "2022-03-19T20:24:58.810Z"
   },
   {
    "duration": 229,
    "start_time": "2022-03-19T20:24:58.833Z"
   },
   {
    "duration": 143,
    "start_time": "2022-03-19T20:24:59.064Z"
   },
   {
    "duration": 198,
    "start_time": "2022-03-19T20:24:59.209Z"
   },
   {
    "duration": 80,
    "start_time": "2022-03-19T20:24:59.410Z"
   },
   {
    "duration": 16,
    "start_time": "2022-03-19T20:24:59.493Z"
   },
   {
    "duration": 35,
    "start_time": "2022-03-19T20:24:59.515Z"
   },
   {
    "duration": 34,
    "start_time": "2022-03-19T20:24:59.553Z"
   },
   {
    "duration": 22,
    "start_time": "2022-03-19T20:24:59.590Z"
   },
   {
    "duration": 72,
    "start_time": "2022-03-19T20:24:59.615Z"
   },
   {
    "duration": 6,
    "start_time": "2022-03-19T20:24:59.690Z"
   },
   {
    "duration": 88,
    "start_time": "2022-03-19T20:24:59.699Z"
   },
   {
    "duration": 100,
    "start_time": "2022-03-19T20:24:59.789Z"
   },
   {
    "duration": 198,
    "start_time": "2022-03-19T20:24:59.892Z"
   },
   {
    "duration": 188,
    "start_time": "2022-03-19T20:25:00.093Z"
   },
   {
    "duration": 305,
    "start_time": "2022-03-19T20:25:00.284Z"
   },
   {
    "duration": 0,
    "start_time": "2022-03-19T20:25:00.592Z"
   },
   {
    "duration": 0,
    "start_time": "2022-03-19T20:25:00.594Z"
   },
   {
    "duration": 0,
    "start_time": "2022-03-19T20:25:00.596Z"
   },
   {
    "duration": 0,
    "start_time": "2022-03-19T20:25:00.598Z"
   },
   {
    "duration": 0,
    "start_time": "2022-03-19T20:25:00.599Z"
   },
   {
    "duration": 5,
    "start_time": "2022-03-19T20:25:31.496Z"
   },
   {
    "duration": 4,
    "start_time": "2022-03-19T20:25:34.442Z"
   },
   {
    "duration": 8,
    "start_time": "2022-03-19T20:25:38.591Z"
   },
   {
    "duration": 2684,
    "start_time": "2022-03-19T20:25:39.330Z"
   },
   {
    "duration": 2834,
    "start_time": "2022-03-19T20:25:44.254Z"
   },
   {
    "duration": 1929,
    "start_time": "2022-03-19T20:25:47.092Z"
   },
   {
    "duration": 8,
    "start_time": "2022-03-19T20:26:14.039Z"
   },
   {
    "duration": 2008,
    "start_time": "2022-03-19T20:26:15.129Z"
   },
   {
    "duration": 2359,
    "start_time": "2022-03-19T20:26:17.140Z"
   },
   {
    "duration": 2054,
    "start_time": "2022-03-19T20:26:19.502Z"
   },
   {
    "duration": 1562,
    "start_time": "2022-03-19T20:27:53.387Z"
   },
   {
    "duration": 435,
    "start_time": "2022-03-19T20:27:54.952Z"
   },
   {
    "duration": 24,
    "start_time": "2022-03-19T20:27:55.389Z"
   },
   {
    "duration": 18,
    "start_time": "2022-03-19T20:27:55.416Z"
   },
   {
    "duration": 14,
    "start_time": "2022-03-19T20:27:55.436Z"
   },
   {
    "duration": 43,
    "start_time": "2022-03-19T20:27:55.453Z"
   },
   {
    "duration": 20,
    "start_time": "2022-03-19T20:27:55.499Z"
   },
   {
    "duration": 19,
    "start_time": "2022-03-19T20:27:55.521Z"
   },
   {
    "duration": 239,
    "start_time": "2022-03-19T20:27:55.543Z"
   },
   {
    "duration": 123,
    "start_time": "2022-03-19T20:27:55.786Z"
   },
   {
    "duration": 194,
    "start_time": "2022-03-19T20:27:55.911Z"
   },
   {
    "duration": 79,
    "start_time": "2022-03-19T20:27:56.107Z"
   },
   {
    "duration": 14,
    "start_time": "2022-03-19T20:27:56.188Z"
   },
   {
    "duration": 38,
    "start_time": "2022-03-19T20:27:56.205Z"
   },
   {
    "duration": 6,
    "start_time": "2022-03-19T20:27:56.246Z"
   },
   {
    "duration": 43,
    "start_time": "2022-03-19T20:27:56.254Z"
   },
   {
    "duration": 52,
    "start_time": "2022-03-19T20:27:56.299Z"
   },
   {
    "duration": 5,
    "start_time": "2022-03-19T20:27:56.354Z"
   },
   {
    "duration": 46,
    "start_time": "2022-03-19T20:27:56.361Z"
   },
   {
    "duration": 107,
    "start_time": "2022-03-19T20:27:56.485Z"
   },
   {
    "duration": 190,
    "start_time": "2022-03-19T20:27:56.596Z"
   },
   {
    "duration": 104,
    "start_time": "2022-03-19T20:27:56.790Z"
   },
   {
    "duration": 14,
    "start_time": "2022-03-19T20:27:56.984Z"
   },
   {
    "duration": 7,
    "start_time": "2022-03-19T20:27:57.000Z"
   },
   {
    "duration": 9,
    "start_time": "2022-03-19T20:27:57.009Z"
   },
   {
    "duration": 1936,
    "start_time": "2022-03-19T20:27:57.020Z"
   },
   {
    "duration": 1933,
    "start_time": "2022-03-19T20:27:58.958Z"
   },
   {
    "duration": 1968,
    "start_time": "2022-03-19T20:28:00.895Z"
   },
   {
    "duration": 71,
    "start_time": "2022-03-20T11:30:28.163Z"
   },
   {
    "duration": 4,
    "start_time": "2022-03-20T11:30:31.116Z"
   },
   {
    "duration": 13,
    "start_time": "2022-03-20T11:30:32.724Z"
   },
   {
    "duration": 1724,
    "start_time": "2022-03-20T11:31:10.265Z"
   },
   {
    "duration": 717,
    "start_time": "2022-03-20T11:31:11.992Z"
   },
   {
    "duration": 25,
    "start_time": "2022-03-20T11:31:12.712Z"
   },
   {
    "duration": 28,
    "start_time": "2022-03-20T11:31:12.741Z"
   },
   {
    "duration": 24,
    "start_time": "2022-03-20T11:31:12.772Z"
   },
   {
    "duration": 29,
    "start_time": "2022-03-20T11:31:12.799Z"
   },
   {
    "duration": 53,
    "start_time": "2022-03-20T11:31:12.831Z"
   },
   {
    "duration": 40,
    "start_time": "2022-03-20T11:31:12.888Z"
   },
   {
    "duration": 314,
    "start_time": "2022-03-20T11:31:12.930Z"
   },
   {
    "duration": 149,
    "start_time": "2022-03-20T11:31:13.251Z"
   },
   {
    "duration": 220,
    "start_time": "2022-03-20T11:31:13.403Z"
   },
   {
    "duration": 78,
    "start_time": "2022-03-20T11:31:13.626Z"
   },
   {
    "duration": 13,
    "start_time": "2022-03-20T11:31:13.707Z"
   },
   {
    "duration": 71,
    "start_time": "2022-03-20T11:31:13.722Z"
   },
   {
    "duration": 6,
    "start_time": "2022-03-20T11:31:13.796Z"
   },
   {
    "duration": 20,
    "start_time": "2022-03-20T11:31:13.804Z"
   },
   {
    "duration": 96,
    "start_time": "2022-03-20T11:31:13.826Z"
   },
   {
    "duration": 6,
    "start_time": "2022-03-20T11:31:13.925Z"
   },
   {
    "duration": 39,
    "start_time": "2022-03-20T11:31:13.934Z"
   },
   {
    "duration": 197,
    "start_time": "2022-03-20T11:31:13.978Z"
   },
   {
    "duration": 98,
    "start_time": "2022-03-20T11:31:14.180Z"
   },
   {
    "duration": 88,
    "start_time": "2022-03-20T11:31:14.281Z"
   },
   {
    "duration": 103,
    "start_time": "2022-03-20T11:31:14.373Z"
   },
   {
    "duration": 9,
    "start_time": "2022-03-20T11:31:14.480Z"
   },
   {
    "duration": 7,
    "start_time": "2022-03-20T11:31:14.492Z"
   },
   {
    "duration": 20,
    "start_time": "2022-03-20T11:31:14.501Z"
   },
   {
    "duration": 217,
    "start_time": "2022-03-20T11:31:14.523Z"
   },
   {
    "duration": 0,
    "start_time": "2022-03-20T11:31:14.743Z"
   },
   {
    "duration": 0,
    "start_time": "2022-03-20T11:31:14.745Z"
   },
   {
    "duration": 1559,
    "start_time": "2022-03-20T11:39:29.928Z"
   },
   {
    "duration": 445,
    "start_time": "2022-03-20T11:39:31.490Z"
   },
   {
    "duration": 34,
    "start_time": "2022-03-20T11:39:31.937Z"
   },
   {
    "duration": 14,
    "start_time": "2022-03-20T11:39:31.974Z"
   },
   {
    "duration": 22,
    "start_time": "2022-03-20T11:39:31.993Z"
   },
   {
    "duration": 38,
    "start_time": "2022-03-20T11:39:32.017Z"
   },
   {
    "duration": 21,
    "start_time": "2022-03-20T11:39:32.069Z"
   },
   {
    "duration": 26,
    "start_time": "2022-03-20T11:39:32.093Z"
   },
   {
    "duration": 249,
    "start_time": "2022-03-20T11:39:32.122Z"
   },
   {
    "duration": 137,
    "start_time": "2022-03-20T11:39:32.374Z"
   },
   {
    "duration": 198,
    "start_time": "2022-03-20T11:39:32.513Z"
   },
   {
    "duration": 78,
    "start_time": "2022-03-20T11:39:32.713Z"
   },
   {
    "duration": 13,
    "start_time": "2022-03-20T11:39:32.794Z"
   },
   {
    "duration": 62,
    "start_time": "2022-03-20T11:39:32.811Z"
   },
   {
    "duration": 7,
    "start_time": "2022-03-20T11:39:32.876Z"
   },
   {
    "duration": 30,
    "start_time": "2022-03-20T11:39:32.885Z"
   },
   {
    "duration": 62,
    "start_time": "2022-03-20T11:39:32.917Z"
   },
   {
    "duration": 5,
    "start_time": "2022-03-20T11:39:32.981Z"
   },
   {
    "duration": 84,
    "start_time": "2022-03-20T11:39:32.988Z"
   },
   {
    "duration": 116,
    "start_time": "2022-03-20T11:39:33.076Z"
   },
   {
    "duration": 116,
    "start_time": "2022-03-20T11:39:33.269Z"
   },
   {
    "duration": 89,
    "start_time": "2022-03-20T11:39:33.388Z"
   },
   {
    "duration": 91,
    "start_time": "2022-03-20T11:39:33.482Z"
   },
   {
    "duration": 12,
    "start_time": "2022-03-20T11:39:33.575Z"
   },
   {
    "duration": 8,
    "start_time": "2022-03-20T11:39:33.589Z"
   },
   {
    "duration": 17,
    "start_time": "2022-03-20T11:39:33.599Z"
   },
   {
    "duration": 157,
    "start_time": "2022-03-20T11:39:33.618Z"
   },
   {
    "duration": 0,
    "start_time": "2022-03-20T11:39:33.777Z"
   },
   {
    "duration": 0,
    "start_time": "2022-03-20T11:39:33.779Z"
   },
   {
    "duration": 1593,
    "start_time": "2022-03-20T11:44:47.752Z"
   },
   {
    "duration": 421,
    "start_time": "2022-03-20T11:44:49.348Z"
   },
   {
    "duration": 23,
    "start_time": "2022-03-20T11:44:49.772Z"
   },
   {
    "duration": 13,
    "start_time": "2022-03-20T11:44:49.797Z"
   },
   {
    "duration": 12,
    "start_time": "2022-03-20T11:44:49.814Z"
   },
   {
    "duration": 54,
    "start_time": "2022-03-20T11:44:49.829Z"
   },
   {
    "duration": 19,
    "start_time": "2022-03-20T11:44:49.885Z"
   },
   {
    "duration": 63,
    "start_time": "2022-03-20T11:44:49.906Z"
   },
   {
    "duration": 208,
    "start_time": "2022-03-20T11:44:49.973Z"
   },
   {
    "duration": 134,
    "start_time": "2022-03-20T11:44:50.183Z"
   },
   {
    "duration": 185,
    "start_time": "2022-03-20T11:44:50.320Z"
   },
   {
    "duration": 73,
    "start_time": "2022-03-20T11:44:50.508Z"
   },
   {
    "duration": 14,
    "start_time": "2022-03-20T11:44:50.583Z"
   },
   {
    "duration": 73,
    "start_time": "2022-03-20T11:44:50.603Z"
   },
   {
    "duration": 6,
    "start_time": "2022-03-20T11:44:50.679Z"
   },
   {
    "duration": 26,
    "start_time": "2022-03-20T11:44:50.688Z"
   },
   {
    "duration": 90,
    "start_time": "2022-03-20T11:44:50.717Z"
   },
   {
    "duration": 7,
    "start_time": "2022-03-20T11:44:50.810Z"
   },
   {
    "duration": 58,
    "start_time": "2022-03-20T11:44:50.819Z"
   },
   {
    "duration": 108,
    "start_time": "2022-03-20T11:44:50.880Z"
   },
   {
    "duration": 105,
    "start_time": "2022-03-20T11:44:51.070Z"
   },
   {
    "duration": 101,
    "start_time": "2022-03-20T11:44:51.178Z"
   },
   {
    "duration": 86,
    "start_time": "2022-03-20T11:44:51.282Z"
   },
   {
    "duration": 29,
    "start_time": "2022-03-20T11:44:51.371Z"
   },
   {
    "duration": 15,
    "start_time": "2022-03-20T11:44:51.402Z"
   },
   {
    "duration": 19,
    "start_time": "2022-03-20T11:44:51.420Z"
   },
   {
    "duration": 1913,
    "start_time": "2022-03-20T11:44:51.441Z"
   },
   {
    "duration": 1924,
    "start_time": "2022-03-20T11:44:53.357Z"
   },
   {
    "duration": 2298,
    "start_time": "2022-03-20T11:44:55.283Z"
   },
   {
    "duration": 1566,
    "start_time": "2022-03-20T11:45:36.508Z"
   },
   {
    "duration": 425,
    "start_time": "2022-03-20T11:45:38.078Z"
   },
   {
    "duration": 26,
    "start_time": "2022-03-20T11:45:38.505Z"
   },
   {
    "duration": 12,
    "start_time": "2022-03-20T11:45:38.533Z"
   },
   {
    "duration": 13,
    "start_time": "2022-03-20T11:45:38.568Z"
   },
   {
    "duration": 23,
    "start_time": "2022-03-20T11:45:38.583Z"
   },
   {
    "duration": 20,
    "start_time": "2022-03-20T11:45:38.608Z"
   },
   {
    "duration": 57,
    "start_time": "2022-03-20T11:45:38.630Z"
   },
   {
    "duration": 219,
    "start_time": "2022-03-20T11:45:38.689Z"
   },
   {
    "duration": 130,
    "start_time": "2022-03-20T11:45:38.910Z"
   },
   {
    "duration": 176,
    "start_time": "2022-03-20T11:45:39.042Z"
   },
   {
    "duration": 75,
    "start_time": "2022-03-20T11:45:39.220Z"
   },
   {
    "duration": 14,
    "start_time": "2022-03-20T11:45:39.298Z"
   },
   {
    "duration": 62,
    "start_time": "2022-03-20T11:45:39.316Z"
   },
   {
    "duration": 6,
    "start_time": "2022-03-20T11:45:39.380Z"
   },
   {
    "duration": 19,
    "start_time": "2022-03-20T11:45:39.388Z"
   },
   {
    "duration": 71,
    "start_time": "2022-03-20T11:45:39.409Z"
   },
   {
    "duration": 4,
    "start_time": "2022-03-20T11:45:39.483Z"
   },
   {
    "duration": 85,
    "start_time": "2022-03-20T11:45:39.490Z"
   },
   {
    "duration": 101,
    "start_time": "2022-03-20T11:45:39.668Z"
   },
   {
    "duration": 192,
    "start_time": "2022-03-20T11:45:39.776Z"
   },
   {
    "duration": 100,
    "start_time": "2022-03-20T11:45:39.971Z"
   },
   {
    "duration": 5,
    "start_time": "2022-03-20T11:45:40.074Z"
   },
   {
    "duration": 9,
    "start_time": "2022-03-20T11:45:40.082Z"
   },
   {
    "duration": 6,
    "start_time": "2022-03-20T11:45:40.094Z"
   },
   {
    "duration": 8,
    "start_time": "2022-03-20T11:45:40.102Z"
   },
   {
    "duration": 1928,
    "start_time": "2022-03-20T11:45:40.112Z"
   },
   {
    "duration": 1919,
    "start_time": "2022-03-20T11:45:42.042Z"
   },
   {
    "duration": 1975,
    "start_time": "2022-03-20T11:45:43.968Z"
   },
   {
    "duration": 1515,
    "start_time": "2022-03-20T11:48:41.479Z"
   },
   {
    "duration": 457,
    "start_time": "2022-03-20T11:48:42.997Z"
   },
   {
    "duration": 26,
    "start_time": "2022-03-20T11:48:43.456Z"
   },
   {
    "duration": 13,
    "start_time": "2022-03-20T11:48:43.486Z"
   },
   {
    "duration": 16,
    "start_time": "2022-03-20T11:48:43.503Z"
   },
   {
    "duration": 55,
    "start_time": "2022-03-20T11:48:43.522Z"
   },
   {
    "duration": 22,
    "start_time": "2022-03-20T11:48:43.580Z"
   },
   {
    "duration": 20,
    "start_time": "2022-03-20T11:48:43.605Z"
   },
   {
    "duration": 239,
    "start_time": "2022-03-20T11:48:43.628Z"
   },
   {
    "duration": 135,
    "start_time": "2022-03-20T11:48:43.870Z"
   },
   {
    "duration": 188,
    "start_time": "2022-03-20T11:48:44.007Z"
   },
   {
    "duration": 79,
    "start_time": "2022-03-20T11:48:44.198Z"
   },
   {
    "duration": 12,
    "start_time": "2022-03-20T11:48:44.280Z"
   },
   {
    "duration": 36,
    "start_time": "2022-03-20T11:48:44.296Z"
   },
   {
    "duration": 5,
    "start_time": "2022-03-20T11:48:44.334Z"
   },
   {
    "duration": 17,
    "start_time": "2022-03-20T11:48:44.369Z"
   },
   {
    "duration": 79,
    "start_time": "2022-03-20T11:48:44.389Z"
   },
   {
    "duration": 5,
    "start_time": "2022-03-20T11:48:44.470Z"
   },
   {
    "duration": 27,
    "start_time": "2022-03-20T11:48:44.478Z"
   },
   {
    "duration": 102,
    "start_time": "2022-03-20T11:48:44.571Z"
   },
   {
    "duration": 191,
    "start_time": "2022-03-20T11:48:44.677Z"
   },
   {
    "duration": 94,
    "start_time": "2022-03-20T11:48:44.879Z"
   },
   {
    "duration": 6,
    "start_time": "2022-03-20T11:48:44.975Z"
   },
   {
    "duration": 8,
    "start_time": "2022-03-20T11:48:44.984Z"
   },
   {
    "duration": 5,
    "start_time": "2022-03-20T11:48:44.994Z"
   },
   {
    "duration": 26,
    "start_time": "2022-03-20T11:48:45.002Z"
   },
   {
    "duration": 1910,
    "start_time": "2022-03-20T11:48:45.030Z"
   },
   {
    "duration": 2000,
    "start_time": "2022-03-20T11:48:46.943Z"
   },
   {
    "duration": 2008,
    "start_time": "2022-03-20T11:48:48.946Z"
   },
   {
    "duration": 147,
    "start_time": "2022-03-20T11:49:44.723Z"
   },
   {
    "duration": 2249,
    "start_time": "2022-03-20T11:50:01.288Z"
   },
   {
    "duration": 2103,
    "start_time": "2022-03-20T11:51:35.387Z"
   },
   {
    "duration": 2191,
    "start_time": "2022-03-20T11:51:59.833Z"
   },
   {
    "duration": 1681,
    "start_time": "2022-03-20T11:53:36.035Z"
   },
   {
    "duration": 429,
    "start_time": "2022-03-20T11:53:37.719Z"
   },
   {
    "duration": 30,
    "start_time": "2022-03-20T11:53:38.151Z"
   },
   {
    "duration": 14,
    "start_time": "2022-03-20T11:53:38.184Z"
   },
   {
    "duration": 17,
    "start_time": "2022-03-20T11:53:38.202Z"
   },
   {
    "duration": 65,
    "start_time": "2022-03-20T11:53:38.222Z"
   },
   {
    "duration": 21,
    "start_time": "2022-03-20T11:53:38.289Z"
   },
   {
    "duration": 20,
    "start_time": "2022-03-20T11:53:38.312Z"
   },
   {
    "duration": 250,
    "start_time": "2022-03-20T11:53:38.334Z"
   },
   {
    "duration": 131,
    "start_time": "2022-03-20T11:53:38.586Z"
   },
   {
    "duration": 188,
    "start_time": "2022-03-20T11:53:38.719Z"
   },
   {
    "duration": 76,
    "start_time": "2022-03-20T11:53:38.909Z"
   },
   {
    "duration": 13,
    "start_time": "2022-03-20T11:53:38.987Z"
   },
   {
    "duration": 36,
    "start_time": "2022-03-20T11:53:39.004Z"
   },
   {
    "duration": 6,
    "start_time": "2022-03-20T11:53:39.068Z"
   },
   {
    "duration": 22,
    "start_time": "2022-03-20T11:53:39.076Z"
   },
   {
    "duration": 76,
    "start_time": "2022-03-20T11:53:39.101Z"
   },
   {
    "duration": 5,
    "start_time": "2022-03-20T11:53:39.179Z"
   },
   {
    "duration": 84,
    "start_time": "2022-03-20T11:53:39.186Z"
   },
   {
    "duration": 102,
    "start_time": "2022-03-20T11:53:39.274Z"
   },
   {
    "duration": 96,
    "start_time": "2022-03-20T11:53:39.380Z"
   },
   {
    "duration": 98,
    "start_time": "2022-03-20T11:53:39.570Z"
   },
   {
    "duration": 4,
    "start_time": "2022-03-20T11:53:39.671Z"
   },
   {
    "duration": 11,
    "start_time": "2022-03-20T11:53:39.677Z"
   },
   {
    "duration": 6,
    "start_time": "2022-03-20T11:53:39.691Z"
   },
   {
    "duration": 2694,
    "start_time": "2022-03-20T11:53:39.700Z"
   },
   {
    "duration": 0,
    "start_time": "2022-03-20T11:53:42.396Z"
   },
   {
    "duration": 0,
    "start_time": "2022-03-20T11:53:42.397Z"
   },
   {
    "duration": 0,
    "start_time": "2022-03-20T11:53:42.399Z"
   },
   {
    "duration": 0,
    "start_time": "2022-03-20T11:53:42.400Z"
   },
   {
    "duration": 5,
    "start_time": "2022-03-20T11:53:59.460Z"
   },
   {
    "duration": 2125,
    "start_time": "2022-03-20T11:54:01.357Z"
   },
   {
    "duration": 53,
    "start_time": "2022-03-21T06:19:18.743Z"
   },
   {
    "duration": 1240,
    "start_time": "2022-03-21T06:19:24.702Z"
   },
   {
    "duration": 388,
    "start_time": "2022-03-21T06:19:25.944Z"
   },
   {
    "duration": 18,
    "start_time": "2022-03-21T06:19:26.333Z"
   },
   {
    "duration": 9,
    "start_time": "2022-03-21T06:19:26.353Z"
   },
   {
    "duration": 14,
    "start_time": "2022-03-21T06:19:26.363Z"
   },
   {
    "duration": 18,
    "start_time": "2022-03-21T06:19:26.379Z"
   },
   {
    "duration": 40,
    "start_time": "2022-03-21T06:19:26.400Z"
   },
   {
    "duration": 18,
    "start_time": "2022-03-21T06:19:26.442Z"
   },
   {
    "duration": 162,
    "start_time": "2022-03-21T06:19:26.462Z"
   },
   {
    "duration": 106,
    "start_time": "2022-03-21T06:19:26.634Z"
   },
   {
    "duration": 156,
    "start_time": "2022-03-21T06:19:26.741Z"
   },
   {
    "duration": 62,
    "start_time": "2022-03-21T06:19:26.899Z"
   },
   {
    "duration": 11,
    "start_time": "2022-03-21T06:19:26.962Z"
   },
   {
    "duration": 35,
    "start_time": "2022-03-21T06:19:26.975Z"
   },
   {
    "duration": 4,
    "start_time": "2022-03-21T06:19:27.031Z"
   },
   {
    "duration": 16,
    "start_time": "2022-03-21T06:19:27.037Z"
   },
   {
    "duration": 36,
    "start_time": "2022-03-21T06:19:27.055Z"
   },
   {
    "duration": 3,
    "start_time": "2022-03-21T06:19:27.093Z"
   },
   {
    "duration": 40,
    "start_time": "2022-03-21T06:19:27.098Z"
   },
   {
    "duration": 193,
    "start_time": "2022-03-21T06:19:27.144Z"
   },
   {
    "duration": 99,
    "start_time": "2022-03-21T06:19:27.339Z"
   },
   {
    "duration": 6,
    "start_time": "2022-03-21T06:19:27.531Z"
   },
   {
    "duration": 101,
    "start_time": "2022-03-21T06:19:27.539Z"
   },
   {
    "duration": 24,
    "start_time": "2022-03-21T06:19:27.642Z"
   },
   {
    "duration": 18,
    "start_time": "2022-03-21T06:19:27.667Z"
   },
   {
    "duration": 26,
    "start_time": "2022-03-21T06:19:27.687Z"
   },
   {
    "duration": 1293,
    "start_time": "2022-03-21T06:19:27.715Z"
   },
   {
    "duration": 1262,
    "start_time": "2022-03-21T06:19:29.011Z"
   },
   {
    "duration": 1282,
    "start_time": "2022-03-21T06:19:30.274Z"
   },
   {
    "duration": 3,
    "start_time": "2022-03-21T06:23:27.623Z"
   },
   {
    "duration": 156,
    "start_time": "2022-03-21T06:26:00.006Z"
   },
   {
    "duration": 6,
    "start_time": "2022-03-21T06:26:02.645Z"
   },
   {
    "duration": 3,
    "start_time": "2022-03-21T06:26:53.517Z"
   },
   {
    "duration": 1199,
    "start_time": "2022-03-21T06:30:44.013Z"
   },
   {
    "duration": 394,
    "start_time": "2022-03-21T06:30:45.214Z"
   },
   {
    "duration": 22,
    "start_time": "2022-03-21T06:30:45.610Z"
   },
   {
    "duration": 19,
    "start_time": "2022-03-21T06:30:45.635Z"
   },
   {
    "duration": 24,
    "start_time": "2022-03-21T06:30:45.656Z"
   },
   {
    "duration": 35,
    "start_time": "2022-03-21T06:30:45.681Z"
   },
   {
    "duration": 33,
    "start_time": "2022-03-21T06:30:45.717Z"
   },
   {
    "duration": 23,
    "start_time": "2022-03-21T06:30:45.751Z"
   },
   {
    "duration": 147,
    "start_time": "2022-03-21T06:30:45.776Z"
   },
   {
    "duration": 90,
    "start_time": "2022-03-21T06:30:45.926Z"
   },
   {
    "duration": 164,
    "start_time": "2022-03-21T06:30:46.018Z"
   },
   {
    "duration": 69,
    "start_time": "2022-03-21T06:30:46.184Z"
   },
   {
    "duration": 11,
    "start_time": "2022-03-21T06:30:46.255Z"
   },
   {
    "duration": 70,
    "start_time": "2022-03-21T06:30:46.268Z"
   },
   {
    "duration": 6,
    "start_time": "2022-03-21T06:30:46.339Z"
   },
   {
    "duration": 44,
    "start_time": "2022-03-21T06:30:46.347Z"
   },
   {
    "duration": 51,
    "start_time": "2022-03-21T06:30:46.393Z"
   },
   {
    "duration": 11,
    "start_time": "2022-03-21T06:30:46.445Z"
   },
   {
    "duration": 74,
    "start_time": "2022-03-21T06:30:46.458Z"
   },
   {
    "duration": 108,
    "start_time": "2022-03-21T06:30:46.537Z"
   },
   {
    "duration": 197,
    "start_time": "2022-03-21T06:30:46.647Z"
   },
   {
    "duration": 88,
    "start_time": "2022-03-21T06:30:46.846Z"
   },
   {
    "duration": 96,
    "start_time": "2022-03-21T06:30:46.936Z"
   },
   {
    "duration": 5,
    "start_time": "2022-03-21T06:30:47.034Z"
   },
   {
    "duration": 5,
    "start_time": "2022-03-21T06:30:47.041Z"
   },
   {
    "duration": 8,
    "start_time": "2022-03-21T06:30:47.048Z"
   },
   {
    "duration": 1281,
    "start_time": "2022-03-21T06:30:47.057Z"
   },
   {
    "duration": 1278,
    "start_time": "2022-03-21T06:30:48.343Z"
   },
   {
    "duration": 1279,
    "start_time": "2022-03-21T06:30:49.623Z"
   },
   {
    "duration": 6,
    "start_time": "2022-03-21T06:31:16.826Z"
   },
   {
    "duration": 1264,
    "start_time": "2022-03-21T06:31:18.809Z"
   },
   {
    "duration": 1260,
    "start_time": "2022-03-21T06:31:20.075Z"
   },
   {
    "duration": 1268,
    "start_time": "2022-03-21T06:31:21.337Z"
   },
   {
    "duration": 5,
    "start_time": "2022-03-21T06:31:49.867Z"
   },
   {
    "duration": 1251,
    "start_time": "2022-03-21T06:31:52.401Z"
   },
   {
    "duration": 1263,
    "start_time": "2022-03-21T06:31:53.654Z"
   },
   {
    "duration": 1285,
    "start_time": "2022-03-21T06:31:54.919Z"
   },
   {
    "duration": 5,
    "start_time": "2022-03-21T06:32:21.298Z"
   },
   {
    "duration": 1266,
    "start_time": "2022-03-21T06:32:22.353Z"
   },
   {
    "duration": 1259,
    "start_time": "2022-03-21T06:32:23.621Z"
   },
   {
    "duration": 1283,
    "start_time": "2022-03-21T06:32:24.882Z"
   },
   {
    "duration": 5,
    "start_time": "2022-03-21T06:45:19.202Z"
   },
   {
    "duration": 6,
    "start_time": "2022-03-21T06:45:36.537Z"
   },
   {
    "duration": 176,
    "start_time": "2022-03-21T06:47:32.132Z"
   },
   {
    "duration": 4,
    "start_time": "2022-03-21T06:47:39.747Z"
   },
   {
    "duration": 4,
    "start_time": "2022-03-21T06:48:07.545Z"
   },
   {
    "duration": 5,
    "start_time": "2022-03-21T06:48:25.546Z"
   },
   {
    "duration": 12,
    "start_time": "2022-03-21T06:54:14.875Z"
   },
   {
    "duration": 14,
    "start_time": "2022-03-21T06:55:05.361Z"
   },
   {
    "duration": 14,
    "start_time": "2022-03-21T06:55:05.617Z"
   },
   {
    "duration": 14,
    "start_time": "2022-03-21T06:55:05.905Z"
   },
   {
    "duration": 14,
    "start_time": "2022-03-21T06:57:50.881Z"
   },
   {
    "duration": 14,
    "start_time": "2022-03-21T06:58:12.337Z"
   },
   {
    "duration": 14,
    "start_time": "2022-03-21T06:58:12.533Z"
   },
   {
    "duration": 16,
    "start_time": "2022-03-21T06:58:36.306Z"
   },
   {
    "duration": 16,
    "start_time": "2022-03-21T06:58:36.533Z"
   },
   {
    "duration": 15,
    "start_time": "2022-03-21T06:58:37.025Z"
   },
   {
    "duration": 13,
    "start_time": "2022-03-21T07:00:15.810Z"
   },
   {
    "duration": 15,
    "start_time": "2022-03-21T07:00:33.146Z"
   },
   {
    "duration": 16,
    "start_time": "2022-03-21T07:00:38.185Z"
   },
   {
    "duration": 15,
    "start_time": "2022-03-21T07:00:46.657Z"
   },
   {
    "duration": 14,
    "start_time": "2022-03-21T07:01:02.235Z"
   },
   {
    "duration": 14,
    "start_time": "2022-03-21T07:01:02.442Z"
   },
   {
    "duration": 13,
    "start_time": "2022-03-21T07:01:02.705Z"
   },
   {
    "duration": 16,
    "start_time": "2022-03-21T07:01:18.210Z"
   },
   {
    "duration": 14,
    "start_time": "2022-03-21T07:01:18.432Z"
   },
   {
    "duration": 14,
    "start_time": "2022-03-21T07:01:18.713Z"
   },
   {
    "duration": 4,
    "start_time": "2022-03-21T07:11:41.766Z"
   },
   {
    "duration": 6,
    "start_time": "2022-03-21T07:11:46.913Z"
   },
   {
    "duration": 3,
    "start_time": "2022-03-21T07:12:33.577Z"
   },
   {
    "duration": 6,
    "start_time": "2022-03-21T07:12:48.410Z"
   },
   {
    "duration": 100,
    "start_time": "2022-03-21T07:13:27.297Z"
   },
   {
    "duration": 5,
    "start_time": "2022-03-21T07:13:37.257Z"
   },
   {
    "duration": 1209,
    "start_time": "2022-03-21T07:15:04.233Z"
   },
   {
    "duration": 396,
    "start_time": "2022-03-21T07:15:05.444Z"
   },
   {
    "duration": 17,
    "start_time": "2022-03-21T07:15:05.842Z"
   },
   {
    "duration": 10,
    "start_time": "2022-03-21T07:15:05.862Z"
   },
   {
    "duration": 14,
    "start_time": "2022-03-21T07:15:05.873Z"
   },
   {
    "duration": 21,
    "start_time": "2022-03-21T07:15:05.888Z"
   },
   {
    "duration": 16,
    "start_time": "2022-03-21T07:15:05.932Z"
   },
   {
    "duration": 15,
    "start_time": "2022-03-21T07:15:05.950Z"
   },
   {
    "duration": 167,
    "start_time": "2022-03-21T07:15:05.967Z"
   },
   {
    "duration": 109,
    "start_time": "2022-03-21T07:15:06.137Z"
   },
   {
    "duration": 153,
    "start_time": "2022-03-21T07:15:06.248Z"
   },
   {
    "duration": 62,
    "start_time": "2022-03-21T07:15:06.403Z"
   },
   {
    "duration": 10,
    "start_time": "2022-03-21T07:15:06.467Z"
   },
   {
    "duration": 53,
    "start_time": "2022-03-21T07:15:06.479Z"
   },
   {
    "duration": 5,
    "start_time": "2022-03-21T07:15:06.533Z"
   },
   {
    "duration": 16,
    "start_time": "2022-03-21T07:15:06.539Z"
   },
   {
    "duration": 41,
    "start_time": "2022-03-21T07:15:06.556Z"
   },
   {
    "duration": 3,
    "start_time": "2022-03-21T07:15:06.599Z"
   },
   {
    "duration": 32,
    "start_time": "2022-03-21T07:15:06.604Z"
   },
   {
    "duration": 198,
    "start_time": "2022-03-21T07:15:06.638Z"
   },
   {
    "duration": 195,
    "start_time": "2022-03-21T07:15:06.838Z"
   },
   {
    "duration": 95,
    "start_time": "2022-03-21T07:15:07.039Z"
   },
   {
    "duration": 7,
    "start_time": "2022-03-21T07:15:07.136Z"
   },
   {
    "duration": 12,
    "start_time": "2022-03-21T07:15:07.145Z"
   },
   {
    "duration": 8,
    "start_time": "2022-03-21T07:15:07.159Z"
   },
   {
    "duration": 6,
    "start_time": "2022-03-21T07:15:07.169Z"
   },
   {
    "duration": 1321,
    "start_time": "2022-03-21T07:15:07.177Z"
   },
   {
    "duration": 1297,
    "start_time": "2022-03-21T07:15:08.502Z"
   },
   {
    "duration": 1315,
    "start_time": "2022-03-21T07:15:09.800Z"
   },
   {
    "duration": 6,
    "start_time": "2022-03-21T07:15:51.562Z"
   },
   {
    "duration": 1317,
    "start_time": "2022-03-21T07:15:53.458Z"
   },
   {
    "duration": 6,
    "start_time": "2022-03-21T07:16:05.147Z"
   },
   {
    "duration": 1312,
    "start_time": "2022-03-21T07:16:06.849Z"
   },
   {
    "duration": 1291,
    "start_time": "2022-03-21T07:16:08.163Z"
   },
   {
    "duration": 1281,
    "start_time": "2022-03-21T07:16:09.455Z"
   },
   {
    "duration": 1175,
    "start_time": "2022-03-21T07:23:19.494Z"
   },
   {
    "duration": 387,
    "start_time": "2022-03-21T07:23:20.671Z"
   },
   {
    "duration": 17,
    "start_time": "2022-03-21T07:23:21.059Z"
   },
   {
    "duration": 9,
    "start_time": "2022-03-21T07:23:21.078Z"
   },
   {
    "duration": 11,
    "start_time": "2022-03-21T07:23:21.089Z"
   },
   {
    "duration": 34,
    "start_time": "2022-03-21T07:23:21.102Z"
   },
   {
    "duration": 14,
    "start_time": "2022-03-21T07:23:21.138Z"
   },
   {
    "duration": 14,
    "start_time": "2022-03-21T07:23:21.154Z"
   },
   {
    "duration": 151,
    "start_time": "2022-03-21T07:23:21.170Z"
   },
   {
    "duration": 96,
    "start_time": "2022-03-21T07:23:21.324Z"
   },
   {
    "duration": 136,
    "start_time": "2022-03-21T07:23:21.432Z"
   },
   {
    "duration": 62,
    "start_time": "2022-03-21T07:23:21.570Z"
   },
   {
    "duration": 11,
    "start_time": "2022-03-21T07:23:21.634Z"
   },
   {
    "duration": 33,
    "start_time": "2022-03-21T07:23:21.646Z"
   },
   {
    "duration": 5,
    "start_time": "2022-03-21T07:23:21.680Z"
   },
   {
    "duration": 19,
    "start_time": "2022-03-21T07:23:21.686Z"
   },
   {
    "duration": 53,
    "start_time": "2022-03-21T07:23:21.706Z"
   },
   {
    "duration": 3,
    "start_time": "2022-03-21T07:23:21.761Z"
   },
   {
    "duration": 68,
    "start_time": "2022-03-21T07:23:21.766Z"
   },
   {
    "duration": 107,
    "start_time": "2022-03-21T07:23:21.837Z"
   },
   {
    "duration": 190,
    "start_time": "2022-03-21T07:23:21.947Z"
   },
   {
    "duration": 99,
    "start_time": "2022-03-21T07:23:22.139Z"
   },
   {
    "duration": 93,
    "start_time": "2022-03-21T07:23:22.240Z"
   },
   {
    "duration": 5,
    "start_time": "2022-03-21T07:23:22.335Z"
   },
   {
    "duration": 8,
    "start_time": "2022-03-21T07:23:22.341Z"
   },
   {
    "duration": 1318,
    "start_time": "2022-03-21T07:23:22.351Z"
   },
   {
    "duration": 1331,
    "start_time": "2022-03-21T07:23:23.671Z"
   },
   {
    "duration": 1302,
    "start_time": "2022-03-21T07:23:25.006Z"
   },
   {
    "duration": 51,
    "start_time": "2022-03-22T12:40:18.388Z"
   },
   {
    "duration": 1734,
    "start_time": "2022-03-22T12:40:31.683Z"
   },
   {
    "duration": 563,
    "start_time": "2022-03-22T12:40:33.419Z"
   },
   {
    "duration": 18,
    "start_time": "2022-03-22T12:40:33.984Z"
   },
   {
    "duration": 11,
    "start_time": "2022-03-22T12:40:34.004Z"
   },
   {
    "duration": 22,
    "start_time": "2022-03-22T12:40:34.017Z"
   },
   {
    "duration": 23,
    "start_time": "2022-03-22T12:40:34.040Z"
   },
   {
    "duration": 14,
    "start_time": "2022-03-22T12:40:34.065Z"
   },
   {
    "duration": 14,
    "start_time": "2022-03-22T12:40:34.081Z"
   },
   {
    "duration": 181,
    "start_time": "2022-03-22T12:40:34.097Z"
   },
   {
    "duration": 108,
    "start_time": "2022-03-22T12:40:34.281Z"
   },
   {
    "duration": 146,
    "start_time": "2022-03-22T12:40:34.391Z"
   },
   {
    "duration": 45,
    "start_time": "2022-03-22T12:40:34.539Z"
   },
   {
    "duration": 12,
    "start_time": "2022-03-22T12:40:34.586Z"
   },
   {
    "duration": 64,
    "start_time": "2022-03-22T12:40:34.600Z"
   },
   {
    "duration": 5,
    "start_time": "2022-03-22T12:40:34.666Z"
   },
   {
    "duration": 18,
    "start_time": "2022-03-22T12:40:34.673Z"
   },
   {
    "duration": 54,
    "start_time": "2022-03-22T12:40:34.693Z"
   },
   {
    "duration": 4,
    "start_time": "2022-03-22T12:40:34.750Z"
   },
   {
    "duration": 83,
    "start_time": "2022-03-22T12:40:34.756Z"
   },
   {
    "duration": 103,
    "start_time": "2022-03-22T12:40:34.842Z"
   },
   {
    "duration": 196,
    "start_time": "2022-03-22T12:40:34.947Z"
   },
   {
    "duration": 196,
    "start_time": "2022-03-22T12:40:35.146Z"
   },
   {
    "duration": 7,
    "start_time": "2022-03-22T12:40:35.344Z"
   },
   {
    "duration": 13,
    "start_time": "2022-03-22T12:40:35.353Z"
   },
   {
    "duration": 13,
    "start_time": "2022-03-22T12:40:35.368Z"
   },
   {
    "duration": 1239,
    "start_time": "2022-03-22T12:40:35.382Z"
   },
   {
    "duration": 1183,
    "start_time": "2022-03-22T12:40:36.623Z"
   },
   {
    "duration": 1206,
    "start_time": "2022-03-22T12:40:37.810Z"
   },
   {
    "duration": 6,
    "start_time": "2022-03-22T12:41:33.840Z"
   },
   {
    "duration": 1192,
    "start_time": "2022-03-22T12:41:36.022Z"
   },
   {
    "duration": 1200,
    "start_time": "2022-03-22T12:41:37.216Z"
   },
   {
    "duration": 1205,
    "start_time": "2022-03-22T12:41:38.417Z"
   },
   {
    "duration": 5,
    "start_time": "2022-03-22T12:42:08.985Z"
   },
   {
    "duration": 1275,
    "start_time": "2022-03-22T12:42:10.929Z"
   },
   {
    "duration": 1212,
    "start_time": "2022-03-22T12:42:12.207Z"
   },
   {
    "duration": 1205,
    "start_time": "2022-03-22T12:42:13.421Z"
   },
   {
    "duration": 1395,
    "start_time": "2022-03-22T12:46:17.512Z"
   },
   {
    "duration": 378,
    "start_time": "2022-03-22T12:46:18.909Z"
   },
   {
    "duration": 18,
    "start_time": "2022-03-22T12:46:19.288Z"
   },
   {
    "duration": 10,
    "start_time": "2022-03-22T12:46:19.309Z"
   },
   {
    "duration": 24,
    "start_time": "2022-03-22T12:46:19.321Z"
   },
   {
    "duration": 20,
    "start_time": "2022-03-22T12:46:19.347Z"
   },
   {
    "duration": 15,
    "start_time": "2022-03-22T12:46:19.370Z"
   },
   {
    "duration": 17,
    "start_time": "2022-03-22T12:46:19.387Z"
   },
   {
    "duration": 178,
    "start_time": "2022-03-22T12:46:19.406Z"
   },
   {
    "duration": 100,
    "start_time": "2022-03-22T12:46:19.587Z"
   },
   {
    "duration": 165,
    "start_time": "2022-03-22T12:46:19.688Z"
   },
   {
    "duration": 48,
    "start_time": "2022-03-22T12:46:19.854Z"
   },
   {
    "duration": 37,
    "start_time": "2022-03-22T12:46:19.904Z"
   },
   {
    "duration": 36,
    "start_time": "2022-03-22T12:46:19.943Z"
   },
   {
    "duration": 4,
    "start_time": "2022-03-22T12:46:19.981Z"
   },
   {
    "duration": 21,
    "start_time": "2022-03-22T12:46:19.987Z"
   },
   {
    "duration": 57,
    "start_time": "2022-03-22T12:46:20.009Z"
   },
   {
    "duration": 4,
    "start_time": "2022-03-22T12:46:20.068Z"
   },
   {
    "duration": 17,
    "start_time": "2022-03-22T12:46:20.073Z"
   },
   {
    "duration": 108,
    "start_time": "2022-03-22T12:46:20.142Z"
   },
   {
    "duration": 190,
    "start_time": "2022-03-22T12:46:20.253Z"
   },
   {
    "duration": 91,
    "start_time": "2022-03-22T12:46:20.448Z"
   },
   {
    "duration": 101,
    "start_time": "2022-03-22T12:46:20.541Z"
   },
   {
    "duration": 7,
    "start_time": "2022-03-22T12:46:20.644Z"
   },
   {
    "duration": 6,
    "start_time": "2022-03-22T12:46:20.653Z"
   },
   {
    "duration": 1288,
    "start_time": "2022-03-22T12:46:20.660Z"
   },
   {
    "duration": 1258,
    "start_time": "2022-03-22T12:46:21.950Z"
   },
   {
    "duration": 1290,
    "start_time": "2022-03-22T12:46:23.212Z"
   }
  ],
  "kernelspec": {
   "display_name": "Python 3 (ipykernel)",
   "language": "python",
   "name": "python3"
  },
  "language_info": {
   "codemirror_mode": {
    "name": "ipython",
    "version": 3
   },
   "file_extension": ".py",
   "mimetype": "text/x-python",
   "name": "python",
   "nbconvert_exporter": "python",
   "pygments_lexer": "ipython3",
   "version": "3.9.5"
  },
  "toc": {
   "base_numbering": 1,
   "nav_menu": {},
   "number_sections": true,
   "sideBar": true,
   "skip_h1_title": true,
   "title_cell": "Table of Contents",
   "title_sidebar": "Contents",
   "toc_cell": false,
   "toc_position": {},
   "toc_section_display": true,
   "toc_window_display": false
  }
 },
 "nbformat": 4,
 "nbformat_minor": 2
}
