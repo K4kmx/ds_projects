{
 "cells": [
  {
   "cell_type": "markdown",
   "metadata": {
    "id": "E0vqbgi9ay0H"
   },
   "source": [
    "# Яндекс.Музыка"
   ]
  },
  {
   "cell_type": "markdown",
   "metadata": {
    "id": "VUC88oWjTJw2"
   },
   "source": [
    "Сравнение Москвы и Петербурга окружено мифами. Например:\n",
    " * Москва — мегаполис, подчинённый жёсткому ритму рабочей недели;\n",
    " * Петербург — культурная столица, со своими вкусами.\n",
    "\n",
    "На данных Яндекс.Музыки вы сравните поведение пользователей двух столиц.\n",
    "\n",
    "**Цель исследования** — проверьте три гипотезы:\n",
    "1. Активность пользователей зависит от дня недели. Причём в Москве и Петербурге это проявляется по-разному.\n",
    "2. В понедельник утром в Москве преобладают одни жанры, а в Петербурге — другие. Так же и вечером пятницы преобладают разные жанры — в зависимости от города. \n",
    "3. Москва и Петербург предпочитают разные жанры музыки. В Москве чаще слушают поп-музыку, в Петербурге — русский рэп.\n",
    "\n",
    "**Ход исследования**\n",
    "\n",
    "Данные о поведении пользователей вы получите из файла `yandex_music_project.csv`. О качестве данных ничего не известно. Поэтому перед проверкой гипотез понадобится обзор данных. \n",
    "\n",
    "Вы проверите данные на ошибки и оцените их влияние на исследование. Затем, на этапе предобработки вы поищете возможность исправить самые критичные ошибки данных.\n",
    " \n",
    "Таким образом, исследование пройдёт в три этапа:\n",
    " 1. Обзор данных.\n",
    " 2. Предобработка данных.\n",
    " 3. Проверка гипотез.\n",
    "\n"
   ]
  },
  {
   "cell_type": "markdown",
   "metadata": {
    "id": "Ml1hmfXC_Zcs"
   },
   "source": [
    "## Обзор данных\n",
    "\n",
    "Составьте первое представление о данных Яндекс.Музыки.\n",
    "\n",
    "\n"
   ]
  },
  {
   "cell_type": "markdown",
   "metadata": {
    "id": "57eAOGIz_Zcs"
   },
   "source": [
    "Основной инструмент аналитика — `pandas`. Импортируйте эту библиотеку."
   ]
  },
  {
   "cell_type": "code",
   "execution_count": 1,
   "metadata": {
    "id": "AXN7PHPN_Zcs"
   },
   "outputs": [],
   "source": [
    "# импорт библиотеки pandas\n",
    "import pandas as pd"
   ]
  },
  {
   "cell_type": "markdown",
   "metadata": {
    "id": "SG23P8tt_Zcs"
   },
   "source": [
    "Прочитайте файл `yandex_music_project.csv` из папки `/datasets` и сохраните его в переменной `df`:"
   ]
  },
  {
   "cell_type": "code",
   "execution_count": 2,
   "metadata": {
    "id": "fFVu7vqh_Zct"
   },
   "outputs": [],
   "source": [
    "# чтение файла с данными и сохранение в df\n",
    "df = pd.read_csv('/datasets/music_project.csv')"
   ]
  },
  {
   "cell_type": "markdown",
   "metadata": {
    "id": "rDoOMd3uTqnZ"
   },
   "source": [
    "Выведите на экран первые десять строк таблицы:"
   ]
  },
  {
   "cell_type": "code",
   "execution_count": 3,
   "metadata": {
    "id": "oWTVX3gW_Zct"
   },
   "outputs": [
    {
     "data": {
      "text/html": [
       "<div>\n",
       "<style scoped>\n",
       "    .dataframe tbody tr th:only-of-type {\n",
       "        vertical-align: middle;\n",
       "    }\n",
       "\n",
       "    .dataframe tbody tr th {\n",
       "        vertical-align: top;\n",
       "    }\n",
       "\n",
       "    .dataframe thead th {\n",
       "        text-align: right;\n",
       "    }\n",
       "</style>\n",
       "<table border=\"1\" class=\"dataframe\">\n",
       "  <thead>\n",
       "    <tr style=\"text-align: right;\">\n",
       "      <th></th>\n",
       "      <th>userID</th>\n",
       "      <th>Track</th>\n",
       "      <th>artist</th>\n",
       "      <th>genre</th>\n",
       "      <th>City</th>\n",
       "      <th>time</th>\n",
       "      <th>Day</th>\n",
       "    </tr>\n",
       "  </thead>\n",
       "  <tbody>\n",
       "    <tr>\n",
       "      <td>0</td>\n",
       "      <td>FFB692EC</td>\n",
       "      <td>Kamigata To Boots</td>\n",
       "      <td>The Mass Missile</td>\n",
       "      <td>rock</td>\n",
       "      <td>Saint-Petersburg</td>\n",
       "      <td>20:28:33</td>\n",
       "      <td>Wednesday</td>\n",
       "    </tr>\n",
       "    <tr>\n",
       "      <td>1</td>\n",
       "      <td>55204538</td>\n",
       "      <td>Delayed Because of Accident</td>\n",
       "      <td>Andreas Rönnberg</td>\n",
       "      <td>rock</td>\n",
       "      <td>Moscow</td>\n",
       "      <td>14:07:09</td>\n",
       "      <td>Friday</td>\n",
       "    </tr>\n",
       "    <tr>\n",
       "      <td>2</td>\n",
       "      <td>20EC38</td>\n",
       "      <td>Funiculì funiculà</td>\n",
       "      <td>Mario Lanza</td>\n",
       "      <td>pop</td>\n",
       "      <td>Saint-Petersburg</td>\n",
       "      <td>20:58:07</td>\n",
       "      <td>Wednesday</td>\n",
       "    </tr>\n",
       "    <tr>\n",
       "      <td>3</td>\n",
       "      <td>A3DD03C9</td>\n",
       "      <td>Dragons in the Sunset</td>\n",
       "      <td>Fire + Ice</td>\n",
       "      <td>folk</td>\n",
       "      <td>Saint-Petersburg</td>\n",
       "      <td>08:37:09</td>\n",
       "      <td>Monday</td>\n",
       "    </tr>\n",
       "    <tr>\n",
       "      <td>4</td>\n",
       "      <td>E2DC1FAE</td>\n",
       "      <td>Soul People</td>\n",
       "      <td>Space Echo</td>\n",
       "      <td>dance</td>\n",
       "      <td>Moscow</td>\n",
       "      <td>08:34:34</td>\n",
       "      <td>Monday</td>\n",
       "    </tr>\n",
       "    <tr>\n",
       "      <td>5</td>\n",
       "      <td>842029A1</td>\n",
       "      <td>Преданная</td>\n",
       "      <td>IMPERVTOR</td>\n",
       "      <td>rusrap</td>\n",
       "      <td>Saint-Petersburg</td>\n",
       "      <td>13:09:41</td>\n",
       "      <td>Friday</td>\n",
       "    </tr>\n",
       "    <tr>\n",
       "      <td>6</td>\n",
       "      <td>4CB90AA5</td>\n",
       "      <td>True</td>\n",
       "      <td>Roman Messer</td>\n",
       "      <td>dance</td>\n",
       "      <td>Moscow</td>\n",
       "      <td>13:00:07</td>\n",
       "      <td>Wednesday</td>\n",
       "    </tr>\n",
       "    <tr>\n",
       "      <td>7</td>\n",
       "      <td>F03E1C1F</td>\n",
       "      <td>Feeling This Way</td>\n",
       "      <td>Polina Griffith</td>\n",
       "      <td>dance</td>\n",
       "      <td>Moscow</td>\n",
       "      <td>20:47:49</td>\n",
       "      <td>Wednesday</td>\n",
       "    </tr>\n",
       "    <tr>\n",
       "      <td>8</td>\n",
       "      <td>8FA1D3BE</td>\n",
       "      <td>И вновь продолжается бой</td>\n",
       "      <td>NaN</td>\n",
       "      <td>ruspop</td>\n",
       "      <td>Moscow</td>\n",
       "      <td>09:17:40</td>\n",
       "      <td>Friday</td>\n",
       "    </tr>\n",
       "    <tr>\n",
       "      <td>9</td>\n",
       "      <td>E772D5C0</td>\n",
       "      <td>Pessimist</td>\n",
       "      <td>NaN</td>\n",
       "      <td>dance</td>\n",
       "      <td>Saint-Petersburg</td>\n",
       "      <td>21:20:49</td>\n",
       "      <td>Wednesday</td>\n",
       "    </tr>\n",
       "  </tbody>\n",
       "</table>\n",
       "</div>"
      ],
      "text/plain": [
       "     userID                        Track            artist   genre  \\\n",
       "0  FFB692EC            Kamigata To Boots  The Mass Missile    rock   \n",
       "1  55204538  Delayed Because of Accident  Andreas Rönnberg    rock   \n",
       "2    20EC38            Funiculì funiculà       Mario Lanza     pop   \n",
       "3  A3DD03C9        Dragons in the Sunset        Fire + Ice    folk   \n",
       "4  E2DC1FAE                  Soul People        Space Echo   dance   \n",
       "5  842029A1                    Преданная         IMPERVTOR  rusrap   \n",
       "6  4CB90AA5                         True      Roman Messer   dance   \n",
       "7  F03E1C1F             Feeling This Way   Polina Griffith   dance   \n",
       "8  8FA1D3BE     И вновь продолжается бой               NaN  ruspop   \n",
       "9  E772D5C0                    Pessimist               NaN   dance   \n",
       "\n",
       "             City        time        Day  \n",
       "0  Saint-Petersburg  20:28:33  Wednesday  \n",
       "1            Moscow  14:07:09     Friday  \n",
       "2  Saint-Petersburg  20:58:07  Wednesday  \n",
       "3  Saint-Petersburg  08:37:09     Monday  \n",
       "4            Moscow  08:34:34     Monday  \n",
       "5  Saint-Petersburg  13:09:41     Friday  \n",
       "6            Moscow  13:00:07  Wednesday  \n",
       "7            Moscow  20:47:49  Wednesday  \n",
       "8            Moscow  09:17:40     Friday  \n",
       "9  Saint-Petersburg  21:20:49  Wednesday  "
      ]
     },
     "execution_count": 3,
     "metadata": {},
     "output_type": "execute_result"
    }
   ],
   "source": [
    "# получение первых 10 строк таблицы df\n",
    "df.head(10)"
   ]
  },
  {
   "cell_type": "markdown",
   "metadata": {
    "id": "EO73Kwic_Zct"
   },
   "source": [
    "Одной командой получить общую информацию о таблице:"
   ]
  },
  {
   "cell_type": "code",
   "execution_count": 4,
   "metadata": {
    "id": "DSf2kIb-_Zct"
   },
   "outputs": [
    {
     "name": "stdout",
     "output_type": "stream",
     "text": [
      "<class 'pandas.core.frame.DataFrame'>\n",
      "RangeIndex: 65079 entries, 0 to 65078\n",
      "Data columns (total 7 columns):\n",
      "  userID    65079 non-null object\n",
      "Track       63848 non-null object\n",
      "artist      57876 non-null object\n",
      "genre       63881 non-null object\n",
      "  City      65079 non-null object\n",
      "time        65079 non-null object\n",
      "Day         65079 non-null object\n",
      "dtypes: object(7)\n",
      "memory usage: 3.5+ MB\n"
     ]
    }
   ],
   "source": [
    "# получение общей информации о данных в таблице df\n",
    "df.info()"
   ]
  },
  {
   "cell_type": "markdown",
   "metadata": {
    "id": "TaQ2Iwbr_Zct"
   },
   "source": [
    "Итак, в таблице семь столбцов. Тип данных во всех столбцах — `object`.\n",
    "\n",
    "Согласно документации к данным:\n",
    "* `userID` — идентификатор пользователя;\n",
    "* `Track` — название трека;  \n",
    "* `artist` — имя исполнителя;\n",
    "* `genre` — название жанра;\n",
    "* `City` — город пользователя;\n",
    "* `time` — время начала прослушивания;\n",
    "* `Day` — день недели.\n",
    "\n",
    "В названиях колонок видны три нарушения стиля:\n",
    "1. Строчные буквы сочетаются с прописными.\n",
    "2. Встречаются пробелы.\n",
    "3. В подписях столбов имеются такие нарушения, как: различные регистры например userID, Track, City, Day. Они затрудняют работу аналитику данных и требуют переработки и приведения к так называемому \"змеиному_регистру\".\n",
    "\n",
    "\n",
    "\n",
    "Количество значений в столбцах различается. Значит, в данных есть пропущенные значения."
   ]
  },
  {
   "cell_type": "markdown",
   "metadata": {
    "id": "MCB6-dXG_Zct"
   },
   "source": [
    "**Выводы**\n",
    "\n",
    "В каждой строке таблицы — данные о прослушанном треке. Часть колонок описывает саму композицию: название, исполнителя и жанр. Остальные данные рассказывают о пользователе: из какого он города, когда он слушал музыку. \n",
    "\n",
    "Предварительно можно утверждать, что, данных достаточно для проверки гипотез. Но встречаются пропуски в данных, а в названиях колонок — расхождения с хорошим стилем.\n",
    "\n",
    "Чтобы двигаться дальше, нужно устранить проблемы в данных."
   ]
  },
  {
   "cell_type": "markdown",
   "metadata": {
    "id": "SjYF6Ub9_Zct"
   },
   "source": [
    "## Предобработка данных\n",
    "Исправьте стиль в заголовках столбцов, исключите пропуски. Затем проверьте данные на дубликаты."
   ]
  },
  {
   "cell_type": "markdown",
   "metadata": {
    "id": "dIaKXr29_Zct"
   },
   "source": [
    "### Стиль заголовков\n",
    "Выведите на экран названия столбцов:"
   ]
  },
  {
   "cell_type": "code",
   "execution_count": 5,
   "metadata": {
    "id": "oKOTdF_Q_Zct"
   },
   "outputs": [
    {
     "data": {
      "text/plain": [
       "Index(['  userID', 'Track', 'artist', 'genre', '  City  ', 'time', 'Day'], dtype='object')"
      ]
     },
     "execution_count": 5,
     "metadata": {},
     "output_type": "execute_result"
    }
   ],
   "source": [
    "# перечень названий столбцов таблицы df\n",
    "df.columns"
   ]
  },
  {
   "cell_type": "markdown",
   "metadata": {
    "id": "zj5534cv_Zct"
   },
   "source": [
    "Приведите названия в соответствие с хорошим стилем:\n",
    "* несколько слов в названии запишите в «змеином_регистре»,\n",
    "* все символы сделайте строчными,\n",
    "* устраните пробелы.\n",
    "\n",
    "Для этого переименуйте колонки так:\n",
    "* `'  userID'` → `'user_id'`;\n",
    "* `'Track'` → `'track'`;\n",
    "* `'  City  '` → `'city'`;\n",
    "* `'Day'` → `'day'`."
   ]
  },
  {
   "cell_type": "code",
   "execution_count": 6,
   "metadata": {
    "id": "ISlFqs5y_Zct"
   },
   "outputs": [],
   "source": [
    "# переименование столбцов\n",
    "#columns = ['user_id', 'track', 'artist', 'genre', 'city', 'time', 'day']\n",
    "#df.set_axis(columns, axis='columns', inplace=True)\n",
    "df = df.rename(columns={'  userID': 'user_id', 'Track': 'track', '  City  ': 'city', 'Day': 'day'})"
   ]
  },
  {
   "cell_type": "markdown",
   "metadata": {
    "id": "1dqbh00J_Zct"
   },
   "source": [
    "Проверьте результат. Для этого ещё раз выведите на экран названия столбцов:"
   ]
  },
  {
   "cell_type": "code",
   "execution_count": 7,
   "metadata": {
    "id": "d4NOAmTW_Zct"
   },
   "outputs": [
    {
     "data": {
      "text/plain": [
       "Index(['user_id', 'track', 'artist', 'genre', 'city', 'time', 'day'], dtype='object')"
      ]
     },
     "execution_count": 7,
     "metadata": {},
     "output_type": "execute_result"
    }
   ],
   "source": [
    "# проверка результатов - перечень названий столбцов\n",
    "df.columns"
   ]
  },
  {
   "cell_type": "markdown",
   "metadata": {
    "id": "5ISfbcfY_Zct"
   },
   "source": [
    "### Пропуски значений\n",
    "Сначала посчитайте, сколько в таблице пропущенных значений. Для этого достаточно двух методов `pandas`:"
   ]
  },
  {
   "cell_type": "code",
   "execution_count": 8,
   "metadata": {
    "id": "RskX29qr_Zct"
   },
   "outputs": [
    {
     "data": {
      "text/plain": [
       "user_id       0\n",
       "track      1231\n",
       "artist     7203\n",
       "genre      1198\n",
       "city          0\n",
       "time          0\n",
       "day           0\n",
       "dtype: int64"
      ]
     },
     "execution_count": 8,
     "metadata": {},
     "output_type": "execute_result"
    }
   ],
   "source": [
    "# подсчёт пропусков\n",
    "df.isnull().sum()"
   ]
  },
  {
   "cell_type": "markdown",
   "metadata": {
    "id": "qubhgnlO_Zct"
   },
   "source": [
    "Не все пропущенные значения влияют на исследование. Так в `track` и `artist` пропуски не важны для вашей работы. Достаточно заменить их явными обозначениями.\n",
    "\n",
    "Но пропуски в `genre` могут помешать сравнению музыкальных вкусов в Москве и Санкт-Петербурге. На практике было бы правильно установить причину пропусков и восстановить данные. Такой возможности нет в учебном проекте. Придётся:\n",
    "* заполнить и эти пропуски явными обозначениями,\n",
    "* оценить, насколько они повредят расчётам. "
   ]
  },
  {
   "cell_type": "markdown",
   "metadata": {
    "id": "fSv2laPA_Zct"
   },
   "source": [
    "Замените пропущенные значения в столбцах `track`, `artist` и `genre` на строку `'unknown'`. Для этого создайте список `columns_to_replace`, переберите его элементы циклом `for` и для каждого столбца выполните замену пропущенных значений:"
   ]
  },
  {
   "cell_type": "code",
   "execution_count": 9,
   "metadata": {
    "id": "KplB5qWs_Zct"
   },
   "outputs": [],
   "source": [
    "# перебор названий столбцов в цикле и замена пропущенных значений на 'unknown'\n",
    "#df['track'] = df['track'].fillna('unknown')\n",
    "#df['artist'] = df['artist'].fillna('unknown')\n",
    "#df['genre'] = df['genre'].fillna('unknown')\n",
    "columns_to_replace =[]\n",
    "for i in df:\n",
    "    df[i] = df[i].fillna('unknown')\n",
    "    columns_to_replace.append(df[i])"
   ]
  },
  {
   "cell_type": "markdown",
   "metadata": {
    "id": "Ilsm-MZo_Zct"
   },
   "source": [
    "Убедитесь, что в таблице не осталось пропусков. Для этого ещё раз посчитайте пропущенные значения."
   ]
  },
  {
   "cell_type": "code",
   "execution_count": 10,
   "metadata": {
    "id": "Tq4nYRX4_Zct"
   },
   "outputs": [
    {
     "data": {
      "text/plain": [
       "user_id    0\n",
       "track      0\n",
       "artist     0\n",
       "genre      0\n",
       "city       0\n",
       "time       0\n",
       "day        0\n",
       "dtype: int64"
      ]
     },
     "execution_count": 10,
     "metadata": {},
     "output_type": "execute_result"
    }
   ],
   "source": [
    "# подсчёт пропусков\n",
    "df.isnull().sum()"
   ]
  },
  {
   "cell_type": "markdown",
   "metadata": {
    "id": "BWKRtBJ3_Zct"
   },
   "source": [
    "### Дубликаты\n",
    "Посчитайте явные дубликаты в таблице одной командой:"
   ]
  },
  {
   "cell_type": "code",
   "execution_count": 11,
   "metadata": {
    "id": "36eES_S0_Zct"
   },
   "outputs": [
    {
     "data": {
      "text/plain": [
       "3826"
      ]
     },
     "execution_count": 11,
     "metadata": {},
     "output_type": "execute_result"
    }
   ],
   "source": [
    "# подсчёт явных дубликатов\n",
    "df.duplicated().sum()"
   ]
  },
  {
   "cell_type": "markdown",
   "metadata": {
    "id": "Ot25h6XR_Zct"
   },
   "source": [
    "Вызовите специальный метод `pandas`, чтобы удалить явные дубликаты:"
   ]
  },
  {
   "cell_type": "code",
   "execution_count": 12,
   "metadata": {
    "id": "exFHq6tt_Zct"
   },
   "outputs": [],
   "source": [
    "# удаление явных дубликатов (с удалением старых индексов и формированием новых)\n",
    "df = df.drop_duplicates().reset_index(drop=True)"
   ]
  },
  {
   "cell_type": "markdown",
   "metadata": {
    "id": "Im2YwBEG_Zct"
   },
   "source": [
    "Ещё раз посчитайте явные дубликаты в таблице — убедитесь, что полностью от них избавились:"
   ]
  },
  {
   "cell_type": "code",
   "execution_count": 13,
   "metadata": {
    "id": "-8PuNWQ0_Zct"
   },
   "outputs": [
    {
     "data": {
      "text/plain": [
       "0"
      ]
     },
     "execution_count": 13,
     "metadata": {},
     "output_type": "execute_result"
    }
   ],
   "source": [
    "# проверка на отсутствие дубликатов\n",
    "df.duplicated().sum()"
   ]
  },
  {
   "cell_type": "markdown",
   "metadata": {
    "id": "QlFBsxAr_Zct"
   },
   "source": [
    "Теперь избавьтесь от неявных дубликатов в колонке `genre`. Например, название одного и того же жанра может быть записано немного по-разному. Такие ошибки тоже повлияют на результат исследования."
   ]
  },
  {
   "cell_type": "markdown",
   "metadata": {
    "id": "eSjWwsOh_Zct"
   },
   "source": [
    "Выведите на экран список уникальных названий жанров, отсортированный в алфавитном порядке. Для этого:\n",
    "* извлеките нужный столбец датафрейма, \n",
    "* примените к нему метод сортировки,\n",
    "* для отсортированного столбца вызовите метод, который вернёт уникальные значения из столбца."
   ]
  },
  {
   "cell_type": "code",
   "execution_count": 14,
   "metadata": {
    "id": "JIUcqzZN_Zct"
   },
   "outputs": [
    {
     "data": {
      "text/plain": [
       "array(['acid', 'acoustic', 'action', 'adult', 'africa', 'afrikaans',\n",
       "       'alternative', 'alternativepunk', 'ambient', 'americana',\n",
       "       'animated', 'anime', 'arabesk', 'arabic', 'arena',\n",
       "       'argentinetango', 'art', 'audiobook', 'author', 'avantgarde',\n",
       "       'axé', 'baile', 'balkan', 'beats', 'bigroom', 'black', 'bluegrass',\n",
       "       'blues', 'bollywood', 'bossa', 'brazilian', 'breakbeat', 'breaks',\n",
       "       'broadway', 'cantautori', 'cantopop', 'canzone', 'caribbean',\n",
       "       'caucasian', 'celtic', 'chamber', 'chanson', 'children', 'chill',\n",
       "       'chinese', 'choral', 'christian', 'christmas', 'classical',\n",
       "       'classicmetal', 'club', 'colombian', 'comedy', 'conjazz',\n",
       "       'contemporary', 'country', 'cuban', 'dance', 'dancehall',\n",
       "       'dancepop', 'dark', 'death', 'deep', 'deutschrock', 'deutschspr',\n",
       "       'dirty', 'disco', 'dnb', 'documentary', 'downbeat', 'downtempo',\n",
       "       'drum', 'dub', 'dubstep', 'eastern', 'easy', 'electronic',\n",
       "       'electropop', 'emo', 'entehno', 'epicmetal', 'estrada', 'ethnic',\n",
       "       'eurofolk', 'european', 'experimental', 'extrememetal', 'fado',\n",
       "       'fairytail', 'film', 'fitness', 'flamenco', 'folk', 'folklore',\n",
       "       'folkmetal', 'folkrock', 'folktronica', 'forró', 'frankreich',\n",
       "       'französisch', 'french', 'funk', 'future', 'gangsta', 'garage',\n",
       "       'german', 'ghazal', 'gitarre', 'glitch', 'gospel', 'gothic',\n",
       "       'grime', 'grunge', 'gypsy', 'handsup', \"hard'n'heavy\", 'hardcore',\n",
       "       'hardstyle', 'hardtechno', 'hip', 'hiphop', 'historisch',\n",
       "       'holiday', 'horror', 'house', 'hymn', 'idm', 'independent',\n",
       "       'indian', 'indie', 'indipop', 'industrial', 'inspirational',\n",
       "       'instrumental', 'international', 'irish', 'jam', 'japanese',\n",
       "       'jazz', 'jewish', 'jpop', 'jungle', 'k-pop', 'karadeniz',\n",
       "       'karaoke', 'kayokyoku', 'korean', 'laiko', 'latin', 'latino',\n",
       "       'leftfield', 'local', 'lounge', 'loungeelectronic', 'lovers',\n",
       "       'malaysian', 'mandopop', 'marschmusik', 'meditative',\n",
       "       'mediterranean', 'melodic', 'metal', 'metalcore', 'mexican',\n",
       "       'middle', 'minimal', 'miscellaneous', 'modern', 'mood', 'mpb',\n",
       "       'muslim', 'native', 'neoklassik', 'neue', 'new', 'newage',\n",
       "       'newwave', 'nu', 'nujazz', 'numetal', 'oceania', 'old', 'opera',\n",
       "       'orchestral', 'other', 'piano', 'podcasts', 'pop', 'popdance',\n",
       "       'popelectronic', 'popeurodance', 'poprussian', 'post',\n",
       "       'posthardcore', 'postrock', 'power', 'progmetal', 'progressive',\n",
       "       'psychedelic', 'punjabi', 'punk', 'quebecois', 'ragga', 'ram',\n",
       "       'rancheras', 'rap', 'rave', 'reggae', 'reggaeton', 'regional',\n",
       "       'relax', 'religious', 'retro', 'rhythm', 'rnb', 'rnr', 'rock',\n",
       "       'rockabilly', 'rockalternative', 'rockindie', 'rockother',\n",
       "       'romance', 'roots', 'ruspop', 'rusrap', 'rusrock', 'russian',\n",
       "       'salsa', 'samba', 'scenic', 'schlager', 'self', 'sertanejo',\n",
       "       'shanson', 'shoegazing', 'showtunes', 'singer', 'ska', 'skarock',\n",
       "       'slow', 'smooth', 'soft', 'soul', 'soulful', 'sound', 'soundtrack',\n",
       "       'southern', 'specialty', 'speech', 'spiritual', 'sport',\n",
       "       'stonerrock', 'surf', 'swing', 'synthpop', 'synthrock',\n",
       "       'sängerportrait', 'tango', 'tanzorchester', 'taraftar', 'tatar',\n",
       "       'tech', 'techno', 'teen', 'thrash', 'top', 'traditional',\n",
       "       'tradjazz', 'trance', 'tribal', 'trip', 'triphop', 'tropical',\n",
       "       'türk', 'türkçe', 'ukrrock', 'unknown', 'urban', 'uzbek',\n",
       "       'variété', 'vi', 'videogame', 'vocal', 'western', 'world',\n",
       "       'worldbeat', 'ïîï', 'электроника'], dtype=object)"
      ]
     },
     "execution_count": 14,
     "metadata": {},
     "output_type": "execute_result"
    }
   ],
   "source": [
    "# Просмотр уникальных названий жанров\n",
    "genres_list = df['genre'].sort_values(ascending = True).unique()\n",
    "genres_list"
   ]
  },
  {
   "cell_type": "markdown",
   "metadata": {
    "id": "qej-Qmuo_Zct"
   },
   "source": [
    "Просмотрите список и найдите неявные дубликаты названия `hiphop`. Это могут быть названия с ошибками или альтернативные названия того же жанра.\n",
    "\n",
    "Вы увидите следующие неявные дубликаты:\n",
    "* *hip*,\n",
    "* *hop*,\n",
    "* *hip-hop*.\n",
    "\n",
    "Чтобы очистить от них таблицу, напишите функцию `replace_wrong_genres()` с двумя параметрами: \n",
    "* `wrong_genres` — список дубликатов,\n",
    "* `correct_genre` — строка с правильным значением.\n",
    "\n",
    "Функция должна исправить колонку `genre` в таблице `df`: заменить каждое значение из списка `wrong_genres` на значение из `correct_genre`."
   ]
  },
  {
   "cell_type": "code",
   "execution_count": 15,
   "metadata": {
    "id": "ErNDkmns_Zct"
   },
   "outputs": [],
   "source": [
    "# Функция для замены неявных дубликатов\n",
    "def replace_wrong_genres(wrong_genres, correct_genre):\n",
    "    df['genre'] = df['genre'].replace(wrong_genres, correct_genre)\n",
    "    result = df[df['genre'] == 'hiphop']['genre'].count()\n",
    "    return result"
   ]
  },
  {
   "cell_type": "markdown",
   "metadata": {
    "id": "aDoBJxbA_Zct"
   },
   "source": [
    "Вызовите `replace_wrong_genres()` и передайте ей такие аргументы, чтобы она устранила неявные дубликаты: вместо `hip`, `hop` и `hip-hop` в таблице должно быть значение `hiphop`:"
   ]
  },
  {
   "cell_type": "code",
   "execution_count": 16,
   "metadata": {
    "id": "YN5i2hpmSo09"
   },
   "outputs": [
    {
     "data": {
      "text/plain": [
       "3056"
      ]
     },
     "execution_count": 16,
     "metadata": {},
     "output_type": "execute_result"
    }
   ],
   "source": [
    "# Устранение неявных дубликатов\n",
    "replace_wrong_genres('hip','hiphop')\n",
    "replace_wrong_genres('hop','hiphop')\n",
    "replace_wrong_genres('hip-hop','hiphop')"
   ]
  },
  {
   "cell_type": "markdown",
   "metadata": {
    "id": "zQKF16_RG15m"
   },
   "source": [
    "Проверьте, что заменили неправильные названия:\n",
    "\n",
    "*   hip\n",
    "*   hop\n",
    "*   hip-hop\n",
    "\n",
    "Выведите отсортированный список уникальных значений столбца `genre`:"
   ]
  },
  {
   "cell_type": "code",
   "execution_count": 17,
   "metadata": {
    "id": "wvixALnFG15m"
   },
   "outputs": [
    {
     "data": {
      "text/plain": [
       "array(['acid', 'acoustic', 'action', 'adult', 'africa', 'afrikaans',\n",
       "       'alternative', 'alternativepunk', 'ambient', 'americana',\n",
       "       'animated', 'anime', 'arabesk', 'arabic', 'arena',\n",
       "       'argentinetango', 'art', 'audiobook', 'author', 'avantgarde',\n",
       "       'axé', 'baile', 'balkan', 'beats', 'bigroom', 'black', 'bluegrass',\n",
       "       'blues', 'bollywood', 'bossa', 'brazilian', 'breakbeat', 'breaks',\n",
       "       'broadway', 'cantautori', 'cantopop', 'canzone', 'caribbean',\n",
       "       'caucasian', 'celtic', 'chamber', 'chanson', 'children', 'chill',\n",
       "       'chinese', 'choral', 'christian', 'christmas', 'classical',\n",
       "       'classicmetal', 'club', 'colombian', 'comedy', 'conjazz',\n",
       "       'contemporary', 'country', 'cuban', 'dance', 'dancehall',\n",
       "       'dancepop', 'dark', 'death', 'deep', 'deutschrock', 'deutschspr',\n",
       "       'dirty', 'disco', 'dnb', 'documentary', 'downbeat', 'downtempo',\n",
       "       'drum', 'dub', 'dubstep', 'eastern', 'easy', 'electronic',\n",
       "       'electropop', 'emo', 'entehno', 'epicmetal', 'estrada', 'ethnic',\n",
       "       'eurofolk', 'european', 'experimental', 'extrememetal', 'fado',\n",
       "       'fairytail', 'film', 'fitness', 'flamenco', 'folk', 'folklore',\n",
       "       'folkmetal', 'folkrock', 'folktronica', 'forró', 'frankreich',\n",
       "       'französisch', 'french', 'funk', 'future', 'gangsta', 'garage',\n",
       "       'german', 'ghazal', 'gitarre', 'glitch', 'gospel', 'gothic',\n",
       "       'grime', 'grunge', 'gypsy', 'handsup', \"hard'n'heavy\", 'hardcore',\n",
       "       'hardstyle', 'hardtechno', 'hiphop', 'historisch', 'holiday',\n",
       "       'horror', 'house', 'hymn', 'idm', 'independent', 'indian', 'indie',\n",
       "       'indipop', 'industrial', 'inspirational', 'instrumental',\n",
       "       'international', 'irish', 'jam', 'japanese', 'jazz', 'jewish',\n",
       "       'jpop', 'jungle', 'k-pop', 'karadeniz', 'karaoke', 'kayokyoku',\n",
       "       'korean', 'laiko', 'latin', 'latino', 'leftfield', 'local',\n",
       "       'lounge', 'loungeelectronic', 'lovers', 'malaysian', 'mandopop',\n",
       "       'marschmusik', 'meditative', 'mediterranean', 'melodic', 'metal',\n",
       "       'metalcore', 'mexican', 'middle', 'minimal', 'miscellaneous',\n",
       "       'modern', 'mood', 'mpb', 'muslim', 'native', 'neoklassik', 'neue',\n",
       "       'new', 'newage', 'newwave', 'nu', 'nujazz', 'numetal', 'oceania',\n",
       "       'old', 'opera', 'orchestral', 'other', 'piano', 'podcasts', 'pop',\n",
       "       'popdance', 'popelectronic', 'popeurodance', 'poprussian', 'post',\n",
       "       'posthardcore', 'postrock', 'power', 'progmetal', 'progressive',\n",
       "       'psychedelic', 'punjabi', 'punk', 'quebecois', 'ragga', 'ram',\n",
       "       'rancheras', 'rap', 'rave', 'reggae', 'reggaeton', 'regional',\n",
       "       'relax', 'religious', 'retro', 'rhythm', 'rnb', 'rnr', 'rock',\n",
       "       'rockabilly', 'rockalternative', 'rockindie', 'rockother',\n",
       "       'romance', 'roots', 'ruspop', 'rusrap', 'rusrock', 'russian',\n",
       "       'salsa', 'samba', 'scenic', 'schlager', 'self', 'sertanejo',\n",
       "       'shanson', 'shoegazing', 'showtunes', 'singer', 'ska', 'skarock',\n",
       "       'slow', 'smooth', 'soft', 'soul', 'soulful', 'sound', 'soundtrack',\n",
       "       'southern', 'specialty', 'speech', 'spiritual', 'sport',\n",
       "       'stonerrock', 'surf', 'swing', 'synthpop', 'synthrock',\n",
       "       'sängerportrait', 'tango', 'tanzorchester', 'taraftar', 'tatar',\n",
       "       'tech', 'techno', 'teen', 'thrash', 'top', 'traditional',\n",
       "       'tradjazz', 'trance', 'tribal', 'trip', 'triphop', 'tropical',\n",
       "       'türk', 'türkçe', 'ukrrock', 'unknown', 'urban', 'uzbek',\n",
       "       'variété', 'vi', 'videogame', 'vocal', 'western', 'world',\n",
       "       'worldbeat', 'ïîï', 'электроника'], dtype=object)"
      ]
     },
     "execution_count": 17,
     "metadata": {},
     "output_type": "execute_result"
    }
   ],
   "source": [
    "# Проверка на неявные дубликаты\n",
    "genres_list = df['genre'].sort_values(ascending = True).unique()\n",
    "genres_list"
   ]
  },
  {
   "cell_type": "markdown",
   "metadata": {
    "id": "jz6a9-7HQUDd"
   },
   "source": [
    "**Выводы**\n",
    "\n",
    "Предобработка обнаружила три проблемы в данных:\n",
    "\n",
    "- нарушения в стиле заголовков,\n",
    "- пропущенные значения,\n",
    "- дубликаты — явные и неявные.\n",
    "\n",
    "Вы исправили заголовки, чтобы упростить работу с таблицей. Без дубликатов исследование станет более точным.\n",
    "\n",
    "Пропущенные значения вы заменили на `'unknown'`. Ещё предстоит увидеть, не повредят ли исследованию пропуски в колонке `genre`.\n",
    "\n",
    "Теперь можно перейти к проверке гипотез. "
   ]
  },
  {
   "cell_type": "markdown",
   "metadata": {
    "id": "WttZHXH0SqKk"
   },
   "source": [
    "## Проверка гипотез"
   ]
  },
  {
   "cell_type": "markdown",
   "metadata": {
    "id": "Im936VVi_Zcu"
   },
   "source": [
    "### Сравнение поведения пользователей двух столиц"
   ]
  },
  {
   "cell_type": "markdown",
   "metadata": {
    "id": "nwt_MuaL_Zcu"
   },
   "source": [
    "Первая гипотеза утверждает, что пользователи по-разному слушают музыку в Москве и Санкт-Петербурге. Проверьте это предположение по данным о трёх днях недели — понедельнике, среде и пятнице. Для этого:\n",
    "\n",
    "* Разделите пользователей Москвы и Санкт-Петербурга\n",
    "* Сравните, сколько треков послушала каждая группа пользователей в понедельник, среду и пятницу.\n"
   ]
  },
  {
   "cell_type": "markdown",
   "metadata": {
    "id": "8Dw_YMmT_Zcu"
   },
   "source": [
    "Для тренировки сначала выполните каждый из расчётов по отдельности. \n",
    "\n",
    "Оцените активность пользователей в каждом городе. Сгруппируйте данные по городу и посчитайте прослушивания в каждой группе.\n",
    "\n"
   ]
  },
  {
   "cell_type": "code",
   "execution_count": 18,
   "metadata": {
    "id": "0_Qs96oh_Zcu"
   },
   "outputs": [
    {
     "data": {
      "text/plain": [
       "city\n",
       "Moscow              42741\n",
       "Saint-Petersburg    18512\n",
       "Name: genre, dtype: int64"
      ]
     },
     "execution_count": 18,
     "metadata": {},
     "output_type": "execute_result"
    }
   ],
   "source": [
    "# Подсчёт прослушиваний в каждом городе\n",
    "df.groupby('city')['genre'].count()"
   ]
  },
  {
   "cell_type": "markdown",
   "metadata": {
    "id": "dzli3w8o_Zcu"
   },
   "source": [
    "В Москве прослушиваний больше, чем в Петербурге. Из этого не следует, что московские пользователи чаще слушают музыку. Просто самих пользователей в Москве больше.\n",
    "\n",
    "Теперь сгруппируйте данные по дню недели и подсчитайте прослушивания в понедельник, среду и пятницу. Учтите, что в данных есть информация только о прослушиваниях только за эти дни.\n"
   ]
  },
  {
   "cell_type": "code",
   "execution_count": 19,
   "metadata": {
    "id": "uZMKjiJz_Zcu"
   },
   "outputs": [
    {
     "data": {
      "text/plain": [
       "day\n",
       "Friday       21840\n",
       "Monday       21354\n",
       "Wednesday    18059\n",
       "Name: genre, dtype: int64"
      ]
     },
     "execution_count": 19,
     "metadata": {},
     "output_type": "execute_result"
    }
   ],
   "source": [
    "# Подсчёт прослушиваний в каждый из трёх дней\n",
    "df.groupby('day')['genre'].count()"
   ]
  },
  {
   "cell_type": "markdown",
   "metadata": {
    "id": "cC2tNrlL_Zcu"
   },
   "source": [
    "В среднем пользователи из двух городов менее активны по средам. Но картина может измениться, если рассмотреть каждый город в отдельности."
   ]
  },
  {
   "cell_type": "markdown",
   "metadata": {
    "id": "POzs8bGa_Zcu"
   },
   "source": [
    "Вы видели, как работает группировка по городу и по дням недели. Теперь напишите функцию, которая объединит два эти расчёта.\n",
    "\n",
    "Создайте функцию `number_tracks()`, которая посчитает прослушивания для заданного дня и города. Ей понадобятся два параметра:\n",
    "* день недели,\n",
    "* название города.\n",
    "\n",
    "В функции сохраните в переменную строки исходной таблицы, у которых значение:\n",
    "  * в колонке `day` равно параметру `day`,\n",
    "  * в колонке `city` равно параметру `city`.\n",
    "\n",
    "Для этого примените последовательную фильтрацию с логической индексацией.\n",
    "\n",
    "Затем посчитайте значения в столбце `user_id` получившейся таблицы. Результат сохраните в новую переменную. Верните эту переменную из функции."
   ]
  },
  {
   "cell_type": "code",
   "execution_count": 20,
   "metadata": {
    "id": "Nz3GdQB1_Zcu"
   },
   "outputs": [],
   "source": [
    "# <создание функции number_tracks()>\n",
    "# Объявляется функция с двумя параметрами: day, city.\n",
    "# В переменной track_list сохраняются те строки таблицы df, для которых \n",
    "# значение в столбце 'day' равно параметру day и одновременно значение\n",
    "# в столбце 'city' равно параметру city (используйте последовательную фильтрацию\n",
    "# с помощью логической индексации).\n",
    "# В переменной track_list_count сохраняется число значений столбца 'user_id',\n",
    "# рассчитанное методом count() для таблицы track_list.\n",
    "# Функция возвращает число - значение track_list_count.\n",
    "\n",
    "# Функция для подсчёта прослушиваний для конкретного города и дня.\n",
    "# С помощью последовательной фильтрации с логической индексацией она \n",
    "# сначала получит из исходной таблицы строки с нужным днём,\n",
    "# затем из результата отфильтрует строки с нужным городом,\n",
    "# методом count() посчитает количество значений в колонке user_id. \n",
    "# Это количество функция вернёт в качестве результата\n",
    "def number_tracks(day, city):\n",
    "    track_list = df[ (df['day'] == day) & (df['city'] == city) ]\n",
    "    track_list_count = track_list['user_id'].count()\n",
    "    return track_list_count"
   ]
  },
  {
   "cell_type": "markdown",
   "metadata": {
    "id": "ytf7xFrFJQ2r"
   },
   "source": [
    "Вызовите `number_tracks()` шесть раз, меняя значение параметров — так, чтобы получить данные для каждого города в каждый из трёх дней."
   ]
  },
  {
   "cell_type": "code",
   "execution_count": 21,
   "metadata": {
    "id": "rJcRATNQ_Zcu"
   },
   "outputs": [
    {
     "data": {
      "text/plain": [
       "15740"
      ]
     },
     "execution_count": 21,
     "metadata": {},
     "output_type": "execute_result"
    }
   ],
   "source": [
    "# количество прослушиваний в Москве по понедельникам\n",
    "number_tracks('Monday','Moscow')"
   ]
  },
  {
   "cell_type": "code",
   "execution_count": 22,
   "metadata": {
    "id": "hq_ncZ5T_Zcu"
   },
   "outputs": [
    {
     "data": {
      "text/plain": [
       "5614"
      ]
     },
     "execution_count": 22,
     "metadata": {},
     "output_type": "execute_result"
    }
   ],
   "source": [
    "# количество прослушиваний в Санкт-Петербурге по понедельникам\n",
    "number_tracks('Monday', 'Saint-Petersburg')"
   ]
  },
  {
   "cell_type": "code",
   "execution_count": 23,
   "metadata": {
    "id": "_NTy2VPU_Zcu"
   },
   "outputs": [
    {
     "data": {
      "text/plain": [
       "11056"
      ]
     },
     "execution_count": 23,
     "metadata": {},
     "output_type": "execute_result"
    }
   ],
   "source": [
    "# количество прослушиваний в Москве по средам\n",
    "number_tracks('Wednesday', 'Moscow')"
   ]
  },
  {
   "cell_type": "code",
   "execution_count": 24,
   "metadata": {
    "id": "j2y3TAwo_Zcu"
   },
   "outputs": [
    {
     "data": {
      "text/plain": [
       "7003"
      ]
     },
     "execution_count": 24,
     "metadata": {},
     "output_type": "execute_result"
    }
   ],
   "source": [
    "# количество прослушиваний в Санкт-Петербурге по средам\n",
    "number_tracks('Wednesday', 'Saint-Petersburg')"
   ]
  },
  {
   "cell_type": "code",
   "execution_count": 25,
   "metadata": {
    "id": "vYDw5u_K_Zcu"
   },
   "outputs": [
    {
     "data": {
      "text/plain": [
       "15945"
      ]
     },
     "execution_count": 25,
     "metadata": {},
     "output_type": "execute_result"
    }
   ],
   "source": [
    "# количество прослушиваний в Москве по пятницам\n",
    "number_tracks('Friday', 'Moscow')"
   ]
  },
  {
   "cell_type": "code",
   "execution_count": 26,
   "metadata": {
    "id": "8_yzFtW3_Zcu"
   },
   "outputs": [
    {
     "data": {
      "text/plain": [
       "5895"
      ]
     },
     "execution_count": 26,
     "metadata": {},
     "output_type": "execute_result"
    }
   ],
   "source": [
    "# количество прослушиваний в Санкт-Петербурге по пятницам\n",
    "number_tracks('Friday', 'Saint-Petersburg')"
   ]
  },
  {
   "cell_type": "markdown",
   "metadata": {
    "id": "7QXffbO-_Zcu"
   },
   "source": [
    "Создайте c помощью конструктора `pd.DataFrame` таблицу, где\n",
    "* названия колонок — `['city', 'monday', 'wednesday', 'friday']`;\n",
    "* данные — результаты, которые вы получили с помощью `number_tracks`."
   ]
  },
  {
   "cell_type": "code",
   "execution_count": 27,
   "metadata": {
    "id": "APAcLpOr_Zcu"
   },
   "outputs": [
    {
     "data": {
      "text/html": [
       "<div>\n",
       "<style scoped>\n",
       "    .dataframe tbody tr th:only-of-type {\n",
       "        vertical-align: middle;\n",
       "    }\n",
       "\n",
       "    .dataframe tbody tr th {\n",
       "        vertical-align: top;\n",
       "    }\n",
       "\n",
       "    .dataframe thead th {\n",
       "        text-align: right;\n",
       "    }\n",
       "</style>\n",
       "<table border=\"1\" class=\"dataframe\">\n",
       "  <thead>\n",
       "    <tr style=\"text-align: right;\">\n",
       "      <th></th>\n",
       "      <th>city</th>\n",
       "      <th>monday</th>\n",
       "      <th>wednesday</th>\n",
       "      <th>friday</th>\n",
       "    </tr>\n",
       "  </thead>\n",
       "  <tbody>\n",
       "    <tr>\n",
       "      <td>0</td>\n",
       "      <td>Moscow</td>\n",
       "      <td>15740</td>\n",
       "      <td>11056</td>\n",
       "      <td>15945</td>\n",
       "    </tr>\n",
       "    <tr>\n",
       "      <td>1</td>\n",
       "      <td>Saint-Petersburg</td>\n",
       "      <td>5614</td>\n",
       "      <td>7003</td>\n",
       "      <td>5895</td>\n",
       "    </tr>\n",
       "  </tbody>\n",
       "</table>\n",
       "</div>"
      ],
      "text/plain": [
       "               city  monday  wednesday  friday\n",
       "0            Moscow   15740      11056   15945\n",
       "1  Saint-Petersburg    5614       7003    5895"
      ]
     },
     "execution_count": 27,
     "metadata": {},
     "output_type": "execute_result"
    }
   ],
   "source": [
    "# Таблица с результатами\n",
    "data = [['Moscow', number_tracks('Monday','Moscow'), number_tracks('Wednesday', 'Moscow'), number_tracks('Friday', 'Moscow')],\n",
    "       ['Saint-Petersburg', number_tracks('Monday', 'Saint-Petersburg'), number_tracks('Wednesday', 'Saint-Petersburg'), number_tracks('Friday', 'Saint-Petersburg')]]\n",
    "\n",
    "columns = ['city','monday','wednesday','friday']\n",
    "\n",
    "table = pd.DataFrame(data = data, columns = columns)\n",
    "\n",
    "table"
   ]
  },
  {
   "cell_type": "markdown",
   "metadata": {
    "id": "-EgPIHYu_Zcu"
   },
   "source": [
    "**Выводы**\n",
    "\n",
    "Данные показывают разницу поведения пользователей:\n",
    "\n",
    "- В Москве пик прослушиваний приходится на понедельник и пятницу, а в среду заметен спад.\n",
    "- В Петербурге, наоборот, больше слушают музыку по средам. Активность в понедельник и пятницу здесь почти в равной мере уступает среде.\n",
    "\n",
    "Значит, данные говорят в пользу первой гипотезы."
   ]
  },
  {
   "cell_type": "markdown",
   "metadata": {
    "id": "atZAxtq4_Zcu"
   },
   "source": [
    "### Музыка в начале и в конце недели"
   ]
  },
  {
   "cell_type": "markdown",
   "metadata": {
    "id": "eXrQqXFH_Zcu"
   },
   "source": [
    "Согласно второй гипотезе, утром в понедельник в Москве преобладают одни жанры, а в Петербурге — другие. Так же и вечером пятницы преобладают разные жанры — в зависимости от города."
   ]
  },
  {
   "cell_type": "markdown",
   "metadata": {
    "id": "S8UcW6Hw_Zcu"
   },
   "source": [
    "Сохраните таблицы с данными в две переменные:\n",
    "* по Москве — в `moscow_general`;\n",
    "* по Санкт-Петербургу — в `spb_general`."
   ]
  },
  {
   "cell_type": "code",
   "execution_count": 28,
   "metadata": {
    "id": "qeaFfM_P_Zcu"
   },
   "outputs": [],
   "source": [
    "# получение таблицы moscow_general из тех строк таблицы df, \n",
    "# для которых значение в столбце 'city' равно 'Moscow'\n",
    "moscow_general = df[df['city'] == 'Moscow']"
   ]
  },
  {
   "cell_type": "code",
   "execution_count": 29,
   "metadata": {
    "id": "ORaVRKto_Zcu"
   },
   "outputs": [],
   "source": [
    "# получение таблицы spb_general из тех строк таблицы df,\n",
    "# для которых значение в столбце 'city' равно 'Saint-Petersburg'\n",
    "spb_general = df[df['city'] == 'Saint-Petersburg']"
   ]
  },
  {
   "cell_type": "markdown",
   "metadata": {
    "id": "MEJV-CX2_Zcu"
   },
   "source": [
    "Создайте функцию `genre_weekday()` с четырьмя параметрами:\n",
    "* таблица (датафрейм) с данными,\n",
    "* день недели,\n",
    "* начальная временная метка в формате 'hh:mm', \n",
    "* последняя временная метка в формате 'hh:mm'.\n",
    "\n",
    "Функция должна вернуть информацию о топ-10 жанров тех треков, которые прослушивали в указанный день, в промежутке между двумя отметками времени."
   ]
  },
  {
   "cell_type": "code",
   "execution_count": 30,
   "metadata": {
    "id": "laJT9BYl_Zcu"
   },
   "outputs": [],
   "source": [
    "# Объявление функции genre_weekday() с параметрами table, day, time1, time2,\n",
    "# которая возвращает информацию о самых популярных жанрах в указанный день в\n",
    "# заданное время:\n",
    "# 1) в переменную genre_df сохраняются те строки переданного датафрейма table, для\n",
    "#    которых одновременно:\n",
    "#    - значение в столбце day равно значению аргумента day\n",
    "#    - значение в столбце time больше значения аргумента time1\n",
    "#    - значение в столбце time меньше значения аргумента time2\n",
    "#    Используйте последовательную фильтрацию с помощью логической индексации.\n",
    "# 2) сгруппировать датафрейм genre_df по столбцу genre, взять один из его\n",
    "#    столбцов и посчитать методом count() количество записей для каждого из\n",
    "#    присутствующих жанров, получившийся Series записать в переменную\n",
    "#    genre_df_count\n",
    "# 3) отсортировать genre_df_count по убыванию встречаемости и сохранить\n",
    "#    в переменную genre_df_sorted\n",
    "# 4) вернуть Series из 10 первых значений genre_df_sorted, это будут топ-10\n",
    "#    популярных жанров (в указанный день, в заданное время)\n",
    " \n",
    "def genre_weekday(table,day,time1,time2):\n",
    "    genre_df = table[(table['day'] == day) & (table['time'] > time1) & (table['time'] < time2)]\n",
    "    genre_df_count = genre_df.groupby('genre')['genre'].count()\n",
    "    genre_df_sorted = genre_df_count.sort_values(ascending = False)\n",
    "    genre_df_sorted = genre_df_sorted.head(10)\n",
    "    return genre_df_sorted\n",
    "\n"
   ]
  },
  {
   "cell_type": "markdown",
   "metadata": {
    "id": "la2s2_PF_Zcu"
   },
   "source": [
    "Cравните результаты функции `genre_weekday()` для Москвы и Санкт-Петербурга в понедельник утром (с 7:00 до 11:00) и в пятницу вечером (с 17:00 до 23:00):"
   ]
  },
  {
   "cell_type": "code",
   "execution_count": 31,
   "metadata": {
    "id": "yz7itPUQ_Zcu"
   },
   "outputs": [
    {
     "data": {
      "text/plain": [
       "genre\n",
       "pop            781\n",
       "dance          549\n",
       "electronic     480\n",
       "rock           474\n",
       "hiphop         286\n",
       "ruspop         186\n",
       "world          181\n",
       "rusrap         175\n",
       "alternative    164\n",
       "unknown        161\n",
       "Name: genre, dtype: int64"
      ]
     },
     "execution_count": 31,
     "metadata": {},
     "output_type": "execute_result"
    }
   ],
   "source": [
    "# вызов функции для утра понедельника в Москве (вместо df — таблица moscow_general)\n",
    "# объекты, хранящие время, являются строками и сравниваются как строки\n",
    "# пример вызова: genre_weekday(moscow_general, 'Monday', '07:00', '11:00')\n",
    "genre_weekday(moscow_general, 'Monday', '07:00:00', '11:00:00')"
   ]
  },
  {
   "cell_type": "code",
   "execution_count": 32,
   "metadata": {
    "id": "kwUcHPdy_Zcu"
   },
   "outputs": [
    {
     "data": {
      "text/plain": [
       "genre\n",
       "pop            218\n",
       "dance          182\n",
       "rock           162\n",
       "electronic     147\n",
       "hiphop          80\n",
       "ruspop          64\n",
       "alternative     58\n",
       "rusrap          55\n",
       "jazz            44\n",
       "classical       40\n",
       "Name: genre, dtype: int64"
      ]
     },
     "execution_count": 32,
     "metadata": {},
     "output_type": "execute_result"
    }
   ],
   "source": [
    "# вызов функции для утра понедельника в Петербурге (вместо df — таблица spb_general)\n",
    "genre_weekday(spb_general, 'Monday','07:00:00', '11:00:00')"
   ]
  },
  {
   "cell_type": "code",
   "execution_count": 33,
   "metadata": {
    "id": "EzXVRE1o_Zcu"
   },
   "outputs": [
    {
     "data": {
      "text/plain": [
       "genre\n",
       "pop            713\n",
       "rock           517\n",
       "dance          495\n",
       "electronic     482\n",
       "hiphop         273\n",
       "world          208\n",
       "ruspop         170\n",
       "alternative    163\n",
       "classical      163\n",
       "rusrap         142\n",
       "Name: genre, dtype: int64"
      ]
     },
     "execution_count": 33,
     "metadata": {},
     "output_type": "execute_result"
    }
   ],
   "source": [
    "# вызов функции для вечера пятницы в Москве\n",
    "genre_weekday(moscow_general, 'Friday','17:00:00', '23:00:00')"
   ]
  },
  {
   "cell_type": "code",
   "execution_count": 34,
   "metadata": {
    "id": "JZaEKu5v_Zcu"
   },
   "outputs": [
    {
     "data": {
      "text/plain": [
       "genre\n",
       "pop            256\n",
       "rock           216\n",
       "electronic     216\n",
       "dance          210\n",
       "hiphop          97\n",
       "alternative     63\n",
       "jazz            61\n",
       "classical       60\n",
       "rusrap          59\n",
       "world           54\n",
       "Name: genre, dtype: int64"
      ]
     },
     "execution_count": 34,
     "metadata": {},
     "output_type": "execute_result"
    }
   ],
   "source": [
    "# вызов функции для вечера пятницы в Петербурге\n",
    "genre_weekday(spb_general, 'Friday','17:00:00', '23:00:00')"
   ]
  },
  {
   "cell_type": "markdown",
   "metadata": {
    "id": "wrCe4MNX_Zcu"
   },
   "source": [
    "**Выводы**\n",
    "\n",
    "Если сравнить топ-10 жанров в понедельник утром, можно сделать такие выводы:\n",
    "\n",
    "1. В Москве и Петербурге слушают похожую музыку. Единственное отличие — в московский рейтинг вошёл жанр “world”, а в петербургский — джаз и классика.\n",
    "\n",
    "2. В Москве пропущенных значений оказалось так много, что значение `'unknown'` заняло десятое место среди самых популярных жанров. Значит, пропущенные значения занимают существенную долю в данных и угрожают достоверности исследования.\n",
    "\n",
    "Вечер пятницы не меняет эту картину. Некоторые жанры поднимаются немного выше, другие спускаются, но в целом топ-10 остаётся тем же самым.\n",
    "\n",
    "Таким образом, вторая гипотеза подтвердилась лишь частично:\n",
    "* Пользователи слушают похожую музыку в начале недели и в конце.\n",
    "* Разница между Москвой и Петербургом не слишком выражена. В Москве чаще слушают русскую популярную музыку, в Петербурге — джаз.\n",
    "\n",
    "Однако пропуски в данных ставят под сомнение этот результат. В Москве их так много, что рейтинг топ-10 мог бы выглядеть иначе, если бы не утерянные  данные о жанрах."
   ]
  },
  {
   "cell_type": "markdown",
   "metadata": {
    "id": "JolODAqr_Zcu"
   },
   "source": [
    "### Жанровые предпочтения в Москве и Петербурге\n",
    "\n",
    "Гипотеза: Петербург — столица рэпа, музыку этого жанра там слушают чаще, чем в Москве.  А Москва — город контрастов, в котором, тем не менее, преобладает поп-музыка."
   ]
  },
  {
   "cell_type": "markdown",
   "metadata": {
    "id": "DlegSvaT_Zcu"
   },
   "source": [
    "Сгруппируйте таблицу `moscow_general` по жанру и посчитайте прослушивания треков каждого жанра методом `count()`. Затем отсортируйте результат в порядке убывания и сохраните его в таблице `moscow_genres`."
   ]
  },
  {
   "cell_type": "code",
   "execution_count": 35,
   "metadata": {
    "id": "r19lIPke_Zcu"
   },
   "outputs": [],
   "source": [
    "# одной строкой: группировка таблицы moscow_general по столбцу 'genre', \n",
    "# подсчёт числа значений 'genre' в этой группировке методом count(), \n",
    "# сортировка получившегося Series в порядке убывания и сохранение в moscow_genres\n",
    "moscow_genres = moscow_general.groupby('genre')['genre'].count().sort_values(ascending = False)"
   ]
  },
  {
   "cell_type": "markdown",
   "metadata": {
    "id": "6kMuomxTiIr8"
   },
   "source": [
    "Выведите на экран первые десять строк `moscow_genres`:"
   ]
  },
  {
   "cell_type": "code",
   "execution_count": 36,
   "metadata": {
    "id": "WhCSooF8_Zcv"
   },
   "outputs": [
    {
     "data": {
      "text/plain": [
       "genre\n",
       "pop            5892\n",
       "dance          4435\n",
       "rock           3965\n",
       "electronic     3786\n",
       "hiphop         2096\n",
       "classical      1616\n",
       "world          1432\n",
       "alternative    1379\n",
       "ruspop         1372\n",
       "rusrap         1161\n",
       "Name: genre, dtype: int64"
      ]
     },
     "execution_count": 36,
     "metadata": {},
     "output_type": "execute_result"
    }
   ],
   "source": [
    "# просмотр первых 10 строк moscow_genres\n",
    "moscow_genres.head(10)"
   ]
  },
  {
   "cell_type": "markdown",
   "metadata": {
    "id": "cnPG2vnN_Zcv"
   },
   "source": [
    "Теперь повторите то же и для Петербурга.\n",
    "\n",
    "Сгруппируйте таблицу `spb_general` по жанру. Посчитайте прослушивания треков каждого жанра. Результат отсортируйте в порядке убывания и сохраните в таблице `spb_genres`:\n"
   ]
  },
  {
   "cell_type": "code",
   "execution_count": 37,
   "metadata": {
    "id": "gluLIpE7_Zcv"
   },
   "outputs": [],
   "source": [
    "# одной строкой: группировка таблицы spb_general по столбцу 'genre', \n",
    "# подсчёт числа значений 'genre' в этой группировке методом count(), \n",
    "# сортировка получившегося Series в порядке убывания и сохранение в spb_genres\n",
    "spb_genres = spb_general.groupby('genre')['genre'].count().sort_values(ascending = False)"
   ]
  },
  {
   "cell_type": "markdown",
   "metadata": {
    "id": "5Doha_ODgyQ8"
   },
   "source": [
    "Выведите на экран первые десять строк `spb_genres`:"
   ]
  },
  {
   "cell_type": "code",
   "execution_count": 38,
   "metadata": {
    "id": "uaGJHjVU_Zcv"
   },
   "outputs": [
    {
     "data": {
      "text/plain": [
       "genre\n",
       "pop            2431\n",
       "dance          1932\n",
       "rock           1879\n",
       "electronic     1736\n",
       "hiphop          960\n",
       "alternative     649\n",
       "classical       646\n",
       "rusrap          564\n",
       "ruspop          538\n",
       "world           515\n",
       "Name: genre, dtype: int64"
      ]
     },
     "execution_count": 38,
     "metadata": {},
     "output_type": "execute_result"
    }
   ],
   "source": [
    "# просмотр первых 10 строк spb_genres\n",
    "spb_genres.head(10)"
   ]
  },
  {
   "cell_type": "markdown",
   "metadata": {
    "id": "RY51YJYu_Zcv"
   },
   "source": [
    "**Выводы**"
   ]
  },
  {
   "cell_type": "markdown",
   "metadata": {
    "id": "nVhnJEm__Zcv"
   },
   "source": [
    "Гипотеза частично подтвердилась:\n",
    "* Поп-музыка — самый популярный жанр в Москве, как и предполагала гипотеза. Более того, в топ-10 жанров встречается близкий жанр — русская популярная музыка.\n",
    "* Вопреки ожиданиям, рэп одинаково популярен в Москве и Петербурге. \n"
   ]
  },
  {
   "cell_type": "markdown",
   "metadata": {
    "id": "ykKQ0N65_Zcv"
   },
   "source": [
    "## Итоги исследования"
   ]
  },
  {
   "cell_type": "markdown",
   "metadata": {
    "id": "tjUwbHb3_Zcv"
   },
   "source": [
    "Вы проверили три гипотезы и установили:\n",
    "\n",
    "1. День недели по-разному влияет на активность пользователей в Москве и Петербурге. \n",
    "\n",
    "Первая гипотеза полностью подтвердилась.\n",
    "\n",
    "2. Музыкальные предпочтения не сильно меняются в течение недели — будь то Москва или Петербург. Небольшие различия заметны в начале недели, по понедельникам:\n",
    "* в Москве слушают музыку жанра “world”,\n",
    "* в Петербурге — джаз и классику.\n",
    "\n",
    "Таким образом, вторая гипотеза подтвердилась лишь отчасти. Этот результат мог оказаться иным, если бы не пропуски в данных.\n",
    "\n",
    "3. Во вкусах пользователей Москвы и Петербурга больше общего чем различий. Вопреки ожиданиям, предпочтения жанров в Петербурге напоминают московские.\n",
    "\n",
    "Третья гипотеза не подтвердилась. Если различия в предпочтениях и существуют, на основной массе пользователей они незаметны.\n",
    "\n",
    "**На практике исследования содержат проверки статистических гипотез.**\n",
    "Из данных одного сервиса не всегда можно сделать вывод о всех жителях города.\n",
    "Проверки статистических гипотез покажут, насколько они достоверны, исходя из имеющихся данных. \n",
    "С методами проверок гипотез вы ещё познакомитесь в следующих темах."
   ]
  }
 ],
 "metadata": {
  "ExecuteTimeLog": [
   {
    "duration": 878,
    "start_time": "2021-11-23T12:41:57.206Z"
   },
   {
    "duration": 3,
    "start_time": "2021-11-23T12:45:24.366Z"
   },
   {
    "duration": 344,
    "start_time": "2021-11-23T12:45:40.887Z"
   },
   {
    "duration": 409,
    "start_time": "2021-11-23T12:48:13.048Z"
   },
   {
    "duration": 780,
    "start_time": "2021-11-23T12:48:27.559Z"
   },
   {
    "duration": 192,
    "start_time": "2021-11-23T12:48:52.841Z"
   },
   {
    "duration": 27,
    "start_time": "2021-11-23T12:49:05.607Z"
   },
   {
    "duration": 33,
    "start_time": "2021-11-23T12:49:21.374Z"
   },
   {
    "duration": 5,
    "start_time": "2021-11-23T12:50:51.039Z"
   },
   {
    "duration": 6,
    "start_time": "2021-11-23T12:51:05.342Z"
   },
   {
    "duration": 31,
    "start_time": "2021-11-23T12:51:24.646Z"
   },
   {
    "duration": 11,
    "start_time": "2021-11-23T12:54:34.171Z"
   },
   {
    "duration": 8738,
    "start_time": "2021-11-23T12:55:35.228Z"
   },
   {
    "duration": 30,
    "start_time": "2021-11-23T12:55:51.787Z"
   },
   {
    "duration": 21,
    "start_time": "2021-11-23T12:57:11.204Z"
   },
   {
    "duration": 88,
    "start_time": "2021-11-23T12:57:45.720Z"
   },
   {
    "duration": 83,
    "start_time": "2021-11-23T12:58:04.932Z"
   },
   {
    "duration": 108,
    "start_time": "2021-11-23T12:58:22.117Z"
   },
   {
    "duration": 3,
    "start_time": "2021-11-23T12:58:46.580Z"
   },
   {
    "duration": 98,
    "start_time": "2021-11-23T12:58:55.437Z"
   },
   {
    "duration": 77,
    "start_time": "2021-11-23T12:59:04.460Z"
   },
   {
    "duration": 11,
    "start_time": "2021-11-23T12:59:59.493Z"
   },
   {
    "duration": 18,
    "start_time": "2021-11-23T13:04:38.229Z"
   },
   {
    "duration": 16,
    "start_time": "2021-11-23T13:04:51.073Z"
   },
   {
    "duration": 17,
    "start_time": "2021-11-23T13:04:56.425Z"
   },
   {
    "duration": 76,
    "start_time": "2021-11-23T13:05:19.395Z"
   },
   {
    "duration": 24,
    "start_time": "2021-11-23T13:08:16.881Z"
   },
   {
    "duration": 28,
    "start_time": "2021-11-23T13:08:29.032Z"
   },
   {
    "duration": 7,
    "start_time": "2021-11-23T13:09:57.937Z"
   },
   {
    "duration": 5,
    "start_time": "2021-11-23T13:11:03.248Z"
   },
   {
    "duration": 5,
    "start_time": "2021-11-23T13:11:44.243Z"
   },
   {
    "duration": 5,
    "start_time": "2021-11-23T13:12:07.857Z"
   },
   {
    "duration": 554,
    "start_time": "2021-11-23T13:12:32.070Z"
   },
   {
    "duration": 773,
    "start_time": "2021-11-23T13:12:44.045Z"
   },
   {
    "duration": 184,
    "start_time": "2021-11-23T13:12:46.502Z"
   },
   {
    "duration": 29,
    "start_time": "2021-11-23T13:12:49.019Z"
   },
   {
    "duration": 33,
    "start_time": "2021-11-23T13:12:53.132Z"
   },
   {
    "duration": 6,
    "start_time": "2021-11-23T13:12:58.620Z"
   },
   {
    "duration": 5,
    "start_time": "2021-11-23T13:13:29.260Z"
   },
   {
    "duration": 5,
    "start_time": "2021-11-23T13:13:43.030Z"
   },
   {
    "duration": 6,
    "start_time": "2021-11-23T13:15:48.762Z"
   },
   {
    "duration": 31,
    "start_time": "2021-11-23T13:16:12.687Z"
   },
   {
    "duration": 48,
    "start_time": "2021-11-23T13:21:45.999Z"
   },
   {
    "duration": 30,
    "start_time": "2021-11-23T13:22:13.248Z"
   },
   {
    "duration": 37,
    "start_time": "2021-11-23T13:22:23.309Z"
   },
   {
    "duration": 394,
    "start_time": "2021-11-23T13:22:43.847Z"
   },
   {
    "duration": 40,
    "start_time": "2021-11-23T13:23:04.648Z"
   },
   {
    "duration": 33,
    "start_time": "2021-11-23T13:23:29.695Z"
   },
   {
    "duration": 9706,
    "start_time": "2021-11-23T13:23:44.503Z"
   },
   {
    "duration": 27,
    "start_time": "2021-11-23T13:30:40.423Z"
   },
   {
    "duration": 32,
    "start_time": "2021-11-23T13:30:43.936Z"
   },
   {
    "duration": 90,
    "start_time": "2021-11-23T13:31:34.120Z"
   },
   {
    "duration": 100,
    "start_time": "2021-11-23T13:32:07.511Z"
   },
   {
    "duration": 81,
    "start_time": "2021-11-23T13:32:15.672Z"
   },
   {
    "duration": 10,
    "start_time": "2021-11-23T13:32:37.799Z"
   },
   {
    "duration": 5,
    "start_time": "2021-11-23T13:39:53.454Z"
   },
   {
    "duration": 4,
    "start_time": "2021-11-23T13:41:42.812Z"
   },
   {
    "duration": 431,
    "start_time": "2021-11-23T13:42:57.010Z"
   },
   {
    "duration": 341,
    "start_time": "2021-11-23T13:43:16.500Z"
   },
   {
    "duration": 604,
    "start_time": "2021-11-23T13:44:21.534Z"
   },
   {
    "duration": 664,
    "start_time": "2021-11-23T13:44:58.845Z"
   },
   {
    "duration": 387,
    "start_time": "2021-11-23T13:45:11.621Z"
   },
   {
    "duration": 333,
    "start_time": "2021-11-23T13:45:22.013Z"
   },
   {
    "duration": 733,
    "start_time": "2021-11-23T13:46:04.821Z"
   },
   {
    "duration": 17,
    "start_time": "2021-11-23T13:47:24.811Z"
   },
   {
    "duration": 29,
    "start_time": "2021-11-23T13:47:30.220Z"
   },
   {
    "duration": 16,
    "start_time": "2021-11-23T13:47:33.756Z"
   },
   {
    "duration": 21,
    "start_time": "2021-11-23T13:48:07.539Z"
   },
   {
    "duration": 27,
    "start_time": "2021-11-23T13:48:10.444Z"
   },
   {
    "duration": 84,
    "start_time": "2021-11-23T13:48:12.276Z"
   },
   {
    "duration": 77,
    "start_time": "2021-11-23T13:48:18.724Z"
   },
   {
    "duration": 32,
    "start_time": "2021-11-23T13:48:22.828Z"
   },
   {
    "duration": 29,
    "start_time": "2021-11-23T13:48:27.914Z"
   },
   {
    "duration": 17,
    "start_time": "2021-11-23T13:48:32.707Z"
   },
   {
    "duration": 770,
    "start_time": "2021-11-23T13:48:40.313Z"
   },
   {
    "duration": 191,
    "start_time": "2021-11-23T13:48:41.086Z"
   },
   {
    "duration": 28,
    "start_time": "2021-11-23T13:48:41.281Z"
   },
   {
    "duration": 33,
    "start_time": "2021-11-23T13:48:41.312Z"
   },
   {
    "duration": 5,
    "start_time": "2021-11-23T13:48:41.348Z"
   },
   {
    "duration": 9,
    "start_time": "2021-11-23T13:48:41.355Z"
   },
   {
    "duration": 7,
    "start_time": "2021-11-23T13:48:41.399Z"
   },
   {
    "duration": 34,
    "start_time": "2021-11-23T13:48:41.411Z"
   },
   {
    "duration": 21,
    "start_time": "2021-11-23T13:48:41.448Z"
   },
   {
    "duration": 57,
    "start_time": "2021-11-23T13:48:41.472Z"
   },
   {
    "duration": 112,
    "start_time": "2021-11-23T13:48:41.532Z"
   },
   {
    "duration": 113,
    "start_time": "2021-11-23T13:48:41.647Z"
   },
   {
    "duration": 94,
    "start_time": "2021-11-23T13:48:41.763Z"
   },
   {
    "duration": 10,
    "start_time": "2021-11-23T13:48:41.860Z"
   },
   {
    "duration": 14,
    "start_time": "2021-11-23T13:48:41.872Z"
   },
   {
    "duration": 15,
    "start_time": "2021-11-23T13:48:41.900Z"
   },
   {
    "duration": 6,
    "start_time": "2021-11-23T13:48:41.918Z"
   },
   {
    "duration": 7,
    "start_time": "2021-11-23T13:48:41.926Z"
   },
   {
    "duration": 5,
    "start_time": "2021-11-23T13:48:41.936Z"
   },
   {
    "duration": 6,
    "start_time": "2021-11-23T13:48:41.943Z"
   },
   {
    "duration": 10,
    "start_time": "2021-11-23T13:48:41.952Z"
   },
   {
    "duration": 9,
    "start_time": "2021-11-23T13:48:41.964Z"
   },
   {
    "duration": 3,
    "start_time": "2021-11-23T13:48:42.003Z"
   },
   {
    "duration": 5,
    "start_time": "2021-11-23T13:48:42.009Z"
   },
   {
    "duration": 8,
    "start_time": "2021-11-23T13:48:42.017Z"
   },
   {
    "duration": 11,
    "start_time": "2021-11-23T13:48:42.027Z"
   },
   {
    "duration": 8,
    "start_time": "2021-11-23T13:48:42.040Z"
   },
   {
    "duration": 11,
    "start_time": "2021-11-23T13:48:42.050Z"
   },
   {
    "duration": 9,
    "start_time": "2021-11-23T13:48:42.064Z"
   },
   {
    "duration": 25,
    "start_time": "2021-11-23T13:48:42.075Z"
   },
   {
    "duration": 12,
    "start_time": "2021-11-23T13:48:42.102Z"
   },
   {
    "duration": 13,
    "start_time": "2021-11-23T13:48:42.116Z"
   },
   {
    "duration": 11,
    "start_time": "2021-11-23T13:48:42.132Z"
   },
   {
    "duration": 10,
    "start_time": "2021-11-23T13:48:42.145Z"
   },
   {
    "duration": 10,
    "start_time": "2021-11-23T13:48:42.157Z"
   },
   {
    "duration": 9,
    "start_time": "2021-11-23T13:48:42.169Z"
   },
   {
    "duration": 18,
    "start_time": "2021-11-23T13:48:42.181Z"
   },
   {
    "duration": 10,
    "start_time": "2021-11-23T13:48:42.201Z"
   },
   {
    "duration": 794,
    "start_time": "2021-11-23T13:50:10.202Z"
   },
   {
    "duration": 191,
    "start_time": "2021-11-23T13:50:10.999Z"
   },
   {
    "duration": 25,
    "start_time": "2021-11-23T13:50:11.193Z"
   },
   {
    "duration": 33,
    "start_time": "2021-11-23T13:50:11.221Z"
   },
   {
    "duration": 5,
    "start_time": "2021-11-23T13:50:11.256Z"
   },
   {
    "duration": 38,
    "start_time": "2021-11-23T13:50:11.263Z"
   },
   {
    "duration": 14,
    "start_time": "2021-11-23T13:50:11.303Z"
   },
   {
    "duration": 45,
    "start_time": "2021-11-23T13:50:11.320Z"
   },
   {
    "duration": 25,
    "start_time": "2021-11-23T13:50:11.368Z"
   },
   {
    "duration": 30,
    "start_time": "2021-11-23T13:50:11.401Z"
   },
   {
    "duration": 106,
    "start_time": "2021-11-23T13:50:11.433Z"
   },
   {
    "duration": 111,
    "start_time": "2021-11-23T13:50:11.542Z"
   },
   {
    "duration": 84,
    "start_time": "2021-11-23T13:50:11.655Z"
   },
   {
    "duration": 8,
    "start_time": "2021-11-23T13:50:11.742Z"
   },
   {
    "duration": 4,
    "start_time": "2021-11-23T13:50:11.753Z"
   },
   {
    "duration": 43,
    "start_time": "2021-11-23T13:50:11.759Z"
   },
   {
    "duration": 4,
    "start_time": "2021-11-23T13:50:11.805Z"
   },
   {
    "duration": 9,
    "start_time": "2021-11-23T13:50:11.811Z"
   },
   {
    "duration": 15,
    "start_time": "2021-11-23T13:50:11.823Z"
   },
   {
    "duration": 8,
    "start_time": "2021-11-23T13:50:11.841Z"
   },
   {
    "duration": 13,
    "start_time": "2021-11-23T13:50:11.851Z"
   },
   {
    "duration": 9,
    "start_time": "2021-11-23T13:50:11.866Z"
   },
   {
    "duration": 22,
    "start_time": "2021-11-23T13:50:11.879Z"
   },
   {
    "duration": 5,
    "start_time": "2021-11-23T13:50:11.904Z"
   },
   {
    "duration": 8,
    "start_time": "2021-11-23T13:50:11.911Z"
   },
   {
    "duration": 16,
    "start_time": "2021-11-23T13:50:11.921Z"
   },
   {
    "duration": 9,
    "start_time": "2021-11-23T13:50:11.939Z"
   },
   {
    "duration": 12,
    "start_time": "2021-11-23T13:50:11.951Z"
   },
   {
    "duration": 9,
    "start_time": "2021-11-23T13:50:11.966Z"
   },
   {
    "duration": 23,
    "start_time": "2021-11-23T13:50:11.977Z"
   },
   {
    "duration": 3,
    "start_time": "2021-11-23T13:50:12.003Z"
   },
   {
    "duration": 17,
    "start_time": "2021-11-23T13:50:12.009Z"
   },
   {
    "duration": 12,
    "start_time": "2021-11-23T13:50:12.028Z"
   },
   {
    "duration": 8,
    "start_time": "2021-11-23T13:50:12.042Z"
   },
   {
    "duration": 9,
    "start_time": "2021-11-23T13:50:12.053Z"
   },
   {
    "duration": 10,
    "start_time": "2021-11-23T13:50:12.065Z"
   },
   {
    "duration": 9,
    "start_time": "2021-11-23T13:50:12.077Z"
   },
   {
    "duration": 12,
    "start_time": "2021-11-23T13:50:12.088Z"
   },
   {
    "duration": 78,
    "start_time": "2021-11-23T13:50:39.870Z"
   },
   {
    "duration": 88,
    "start_time": "2021-11-23T13:50:59.534Z"
   },
   {
    "duration": 102,
    "start_time": "2021-11-23T13:51:00.758Z"
   },
   {
    "duration": 82,
    "start_time": "2021-11-23T13:51:02.453Z"
   },
   {
    "duration": 782,
    "start_time": "2021-11-23T13:51:09.258Z"
   },
   {
    "duration": 188,
    "start_time": "2021-11-23T13:51:10.042Z"
   },
   {
    "duration": 27,
    "start_time": "2021-11-23T13:51:10.233Z"
   },
   {
    "duration": 51,
    "start_time": "2021-11-23T13:51:10.263Z"
   },
   {
    "duration": 16,
    "start_time": "2021-11-23T13:51:10.318Z"
   },
   {
    "duration": 11,
    "start_time": "2021-11-23T13:51:10.337Z"
   },
   {
    "duration": 16,
    "start_time": "2021-11-23T13:51:10.350Z"
   },
   {
    "duration": 46,
    "start_time": "2021-11-23T13:51:10.370Z"
   },
   {
    "duration": 26,
    "start_time": "2021-11-23T13:51:10.419Z"
   },
   {
    "duration": 31,
    "start_time": "2021-11-23T13:51:10.447Z"
   },
   {
    "duration": 99,
    "start_time": "2021-11-23T13:51:10.501Z"
   },
   {
    "duration": 112,
    "start_time": "2021-11-23T13:51:10.602Z"
   },
   {
    "duration": 89,
    "start_time": "2021-11-23T13:51:10.716Z"
   },
   {
    "duration": 14,
    "start_time": "2021-11-23T13:51:10.808Z"
   },
   {
    "duration": 5,
    "start_time": "2021-11-23T13:51:10.825Z"
   },
   {
    "duration": 40,
    "start_time": "2021-11-23T13:51:10.833Z"
   },
   {
    "duration": 104,
    "start_time": "2021-11-23T13:51:10.876Z"
   },
   {
    "duration": 4,
    "start_time": "2021-11-23T13:51:10.983Z"
   },
   {
    "duration": 3,
    "start_time": "2021-11-23T13:51:11.002Z"
   },
   {
    "duration": 19,
    "start_time": "2021-11-23T13:51:11.007Z"
   },
   {
    "duration": 24,
    "start_time": "2021-11-23T13:51:11.029Z"
   },
   {
    "duration": 20,
    "start_time": "2021-11-23T13:51:11.056Z"
   },
   {
    "duration": 14,
    "start_time": "2021-11-23T13:51:11.081Z"
   },
   {
    "duration": 9,
    "start_time": "2021-11-23T13:51:11.098Z"
   },
   {
    "duration": 10,
    "start_time": "2021-11-23T13:51:11.109Z"
   },
   {
    "duration": 15,
    "start_time": "2021-11-23T13:51:11.122Z"
   },
   {
    "duration": 19,
    "start_time": "2021-11-23T13:51:11.139Z"
   },
   {
    "duration": 13,
    "start_time": "2021-11-23T13:51:11.160Z"
   },
   {
    "duration": 31,
    "start_time": "2021-11-23T13:51:11.175Z"
   },
   {
    "duration": 18,
    "start_time": "2021-11-23T13:51:11.208Z"
   },
   {
    "duration": 34,
    "start_time": "2021-11-23T13:51:11.228Z"
   },
   {
    "duration": 14,
    "start_time": "2021-11-23T13:51:11.265Z"
   },
   {
    "duration": 19,
    "start_time": "2021-11-23T13:51:11.282Z"
   },
   {
    "duration": 10,
    "start_time": "2021-11-23T13:51:11.304Z"
   },
   {
    "duration": 19,
    "start_time": "2021-11-23T13:51:11.317Z"
   },
   {
    "duration": 18,
    "start_time": "2021-11-23T13:51:11.339Z"
   },
   {
    "duration": 20,
    "start_time": "2021-11-23T13:51:11.359Z"
   },
   {
    "duration": 9,
    "start_time": "2021-11-23T13:51:11.382Z"
   },
   {
    "duration": 15,
    "start_time": "2021-11-23T13:51:30.095Z"
   },
   {
    "duration": 14,
    "start_time": "2021-11-23T13:51:36.742Z"
   },
   {
    "duration": 16,
    "start_time": "2021-11-23T13:51:45.526Z"
   },
   {
    "duration": 6,
    "start_time": "2021-11-23T13:52:20.104Z"
   },
   {
    "duration": 11,
    "start_time": "2021-11-23T13:53:09.151Z"
   },
   {
    "duration": 275,
    "start_time": "2021-11-25T06:13:25.846Z"
   },
   {
    "duration": 509,
    "start_time": "2021-11-25T06:13:34.043Z"
   },
   {
    "duration": 127,
    "start_time": "2021-11-25T06:13:34.554Z"
   },
   {
    "duration": 19,
    "start_time": "2021-11-25T06:13:34.683Z"
   },
   {
    "duration": 54,
    "start_time": "2021-11-25T06:13:34.704Z"
   },
   {
    "duration": 27,
    "start_time": "2021-11-25T06:13:34.759Z"
   },
   {
    "duration": 19,
    "start_time": "2021-11-25T06:13:34.787Z"
   },
   {
    "duration": 31,
    "start_time": "2021-11-25T06:13:34.808Z"
   },
   {
    "duration": 29,
    "start_time": "2021-11-25T06:13:34.841Z"
   },
   {
    "duration": 54,
    "start_time": "2021-11-25T06:13:34.872Z"
   },
   {
    "duration": 35,
    "start_time": "2021-11-25T06:13:34.927Z"
   },
   {
    "duration": 52,
    "start_time": "2021-11-25T06:13:34.964Z"
   },
   {
    "duration": 61,
    "start_time": "2021-11-25T06:13:35.018Z"
   },
   {
    "duration": 50,
    "start_time": "2021-11-25T06:13:35.081Z"
   },
   {
    "duration": 7,
    "start_time": "2021-11-25T06:13:35.132Z"
   },
   {
    "duration": 4,
    "start_time": "2021-11-25T06:13:35.140Z"
   },
   {
    "duration": 15,
    "start_time": "2021-11-25T06:13:35.146Z"
   },
   {
    "duration": 26,
    "start_time": "2021-11-25T06:13:35.163Z"
   },
   {
    "duration": 9,
    "start_time": "2021-11-25T06:13:35.191Z"
   },
   {
    "duration": 3,
    "start_time": "2021-11-25T06:13:35.201Z"
   },
   {
    "duration": 5,
    "start_time": "2021-11-25T06:13:35.205Z"
   },
   {
    "duration": 6,
    "start_time": "2021-11-25T06:13:35.212Z"
   },
   {
    "duration": 6,
    "start_time": "2021-11-25T06:13:35.219Z"
   },
   {
    "duration": 7,
    "start_time": "2021-11-25T06:13:35.227Z"
   },
   {
    "duration": 5,
    "start_time": "2021-11-25T06:13:35.235Z"
   },
   {
    "duration": 5,
    "start_time": "2021-11-25T06:13:35.241Z"
   },
   {
    "duration": 7,
    "start_time": "2021-11-25T06:13:35.247Z"
   },
   {
    "duration": 5,
    "start_time": "2021-11-25T06:13:35.255Z"
   },
   {
    "duration": 4,
    "start_time": "2021-11-25T06:13:35.261Z"
   },
   {
    "duration": 6,
    "start_time": "2021-11-25T06:13:35.266Z"
   },
   {
    "duration": 16,
    "start_time": "2021-11-25T06:13:35.274Z"
   },
   {
    "duration": 13,
    "start_time": "2021-11-25T06:13:35.291Z"
   },
   {
    "duration": 6,
    "start_time": "2021-11-25T06:13:35.305Z"
   },
   {
    "duration": 8,
    "start_time": "2021-11-25T06:13:35.312Z"
   },
   {
    "duration": 5,
    "start_time": "2021-11-25T06:13:35.322Z"
   },
   {
    "duration": 8,
    "start_time": "2021-11-25T06:13:35.328Z"
   },
   {
    "duration": 6,
    "start_time": "2021-11-25T06:13:35.338Z"
   },
   {
    "duration": 5,
    "start_time": "2021-11-25T06:13:35.345Z"
   },
   {
    "duration": 4,
    "start_time": "2021-11-25T06:13:35.352Z"
   },
   {
    "duration": 9,
    "start_time": "2021-11-25T06:14:20.006Z"
   },
   {
    "duration": 282,
    "start_time": "2021-11-25T06:19:30.948Z"
   },
   {
    "duration": 3,
    "start_time": "2021-11-25T06:19:48.965Z"
   },
   {
    "duration": 528,
    "start_time": "2021-11-25T06:19:53.349Z"
   },
   {
    "duration": 119,
    "start_time": "2021-11-25T06:19:53.880Z"
   },
   {
    "duration": 15,
    "start_time": "2021-11-25T06:19:54.001Z"
   },
   {
    "duration": 24,
    "start_time": "2021-11-25T06:19:54.017Z"
   },
   {
    "duration": 8,
    "start_time": "2021-11-25T06:19:54.043Z"
   },
   {
    "duration": 4,
    "start_time": "2021-11-25T06:19:54.053Z"
   },
   {
    "duration": 5,
    "start_time": "2021-11-25T06:19:54.058Z"
   },
   {
    "duration": 33,
    "start_time": "2021-11-25T06:19:54.065Z"
   },
   {
    "duration": 16,
    "start_time": "2021-11-25T06:19:54.100Z"
   },
   {
    "duration": 21,
    "start_time": "2021-11-25T06:19:54.117Z"
   },
   {
    "duration": 67,
    "start_time": "2021-11-25T06:19:54.139Z"
   },
   {
    "duration": 61,
    "start_time": "2021-11-25T06:19:54.207Z"
   },
   {
    "duration": 57,
    "start_time": "2021-11-25T06:19:54.269Z"
   },
   {
    "duration": 6,
    "start_time": "2021-11-25T06:19:54.328Z"
   },
   {
    "duration": 3,
    "start_time": "2021-11-25T06:19:54.335Z"
   },
   {
    "duration": 14,
    "start_time": "2021-11-25T06:19:54.339Z"
   },
   {
    "duration": 6,
    "start_time": "2021-11-25T06:19:54.354Z"
   },
   {
    "duration": 31,
    "start_time": "2021-11-25T06:19:54.361Z"
   },
   {
    "duration": 9,
    "start_time": "2021-11-25T06:19:54.393Z"
   },
   {
    "duration": 3,
    "start_time": "2021-11-25T06:19:54.404Z"
   },
   {
    "duration": 17,
    "start_time": "2021-11-25T06:19:54.409Z"
   },
   {
    "duration": 13,
    "start_time": "2021-11-25T06:19:54.428Z"
   },
   {
    "duration": 43,
    "start_time": "2021-11-25T06:19:54.445Z"
   },
   {
    "duration": 15,
    "start_time": "2021-11-25T06:19:54.490Z"
   },
   {
    "duration": 17,
    "start_time": "2021-11-25T06:19:54.506Z"
   },
   {
    "duration": 13,
    "start_time": "2021-11-25T06:19:54.524Z"
   },
   {
    "duration": 3,
    "start_time": "2021-11-25T06:19:54.539Z"
   },
   {
    "duration": 9,
    "start_time": "2021-11-25T06:19:54.543Z"
   },
   {
    "duration": 10,
    "start_time": "2021-11-25T06:19:54.554Z"
   },
   {
    "duration": 2,
    "start_time": "2021-11-25T06:19:54.588Z"
   },
   {
    "duration": 7,
    "start_time": "2021-11-25T06:19:54.592Z"
   },
   {
    "duration": 5,
    "start_time": "2021-11-25T06:19:54.601Z"
   },
   {
    "duration": 7,
    "start_time": "2021-11-25T06:19:54.607Z"
   },
   {
    "duration": 5,
    "start_time": "2021-11-25T06:19:54.616Z"
   },
   {
    "duration": 6,
    "start_time": "2021-11-25T06:19:54.622Z"
   },
   {
    "duration": 5,
    "start_time": "2021-11-25T06:19:54.629Z"
   },
   {
    "duration": 5,
    "start_time": "2021-11-25T06:19:54.635Z"
   },
   {
    "duration": 7,
    "start_time": "2021-11-25T06:19:54.641Z"
   },
   {
    "duration": 8,
    "start_time": "2021-11-25T06:22:04.790Z"
   },
   {
    "duration": 10,
    "start_time": "2021-11-25T06:22:59.182Z"
   },
   {
    "duration": 8,
    "start_time": "2021-11-25T06:23:08.735Z"
   },
   {
    "duration": 3,
    "start_time": "2021-11-25T06:35:46.538Z"
   },
   {
    "duration": 524,
    "start_time": "2021-11-25T06:35:58.711Z"
   },
   {
    "duration": 122,
    "start_time": "2021-11-25T06:35:59.236Z"
   },
   {
    "duration": 16,
    "start_time": "2021-11-25T06:35:59.360Z"
   },
   {
    "duration": 28,
    "start_time": "2021-11-25T06:35:59.378Z"
   },
   {
    "duration": 3,
    "start_time": "2021-11-25T06:35:59.408Z"
   },
   {
    "duration": 6,
    "start_time": "2021-11-25T06:35:59.413Z"
   },
   {
    "duration": 5,
    "start_time": "2021-11-25T06:35:59.420Z"
   },
   {
    "duration": 25,
    "start_time": "2021-11-25T06:35:59.428Z"
   },
   {
    "duration": 44,
    "start_time": "2021-11-25T06:35:59.456Z"
   },
   {
    "duration": 20,
    "start_time": "2021-11-25T06:35:59.502Z"
   },
   {
    "duration": 95,
    "start_time": "2021-11-25T06:35:59.524Z"
   },
   {
    "duration": 88,
    "start_time": "2021-11-25T06:35:59.621Z"
   },
   {
    "duration": 49,
    "start_time": "2021-11-25T06:35:59.711Z"
   },
   {
    "duration": 6,
    "start_time": "2021-11-25T06:35:59.761Z"
   },
   {
    "duration": 3,
    "start_time": "2021-11-25T06:35:59.768Z"
   },
   {
    "duration": 8,
    "start_time": "2021-11-25T06:35:59.788Z"
   },
   {
    "duration": 8,
    "start_time": "2021-11-25T06:35:59.798Z"
   },
   {
    "duration": 9,
    "start_time": "2021-11-25T06:35:59.808Z"
   },
   {
    "duration": 9,
    "start_time": "2021-11-25T06:35:59.818Z"
   },
   {
    "duration": 3,
    "start_time": "2021-11-25T06:35:59.828Z"
   },
   {
    "duration": 18,
    "start_time": "2021-11-25T06:35:59.832Z"
   },
   {
    "duration": 41,
    "start_time": "2021-11-25T06:35:59.851Z"
   },
   {
    "duration": 12,
    "start_time": "2021-11-25T06:35:59.894Z"
   },
   {
    "duration": 14,
    "start_time": "2021-11-25T06:35:59.908Z"
   },
   {
    "duration": 13,
    "start_time": "2021-11-25T06:35:59.923Z"
   },
   {
    "duration": 11,
    "start_time": "2021-11-25T06:35:59.938Z"
   },
   {
    "duration": 7,
    "start_time": "2021-11-25T06:35:59.950Z"
   },
   {
    "duration": 38,
    "start_time": "2021-11-25T06:35:59.958Z"
   },
   {
    "duration": 10,
    "start_time": "2021-11-25T06:35:59.997Z"
   },
   {
    "duration": 4,
    "start_time": "2021-11-25T06:36:00.008Z"
   },
   {
    "duration": 10,
    "start_time": "2021-11-25T06:36:00.013Z"
   },
   {
    "duration": 9,
    "start_time": "2021-11-25T06:36:00.025Z"
   },
   {
    "duration": 6,
    "start_time": "2021-11-25T06:36:00.035Z"
   },
   {
    "duration": 6,
    "start_time": "2021-11-25T06:36:00.043Z"
   },
   {
    "duration": 9,
    "start_time": "2021-11-25T06:36:00.051Z"
   },
   {
    "duration": 6,
    "start_time": "2021-11-25T06:36:00.061Z"
   },
   {
    "duration": 10,
    "start_time": "2021-11-25T06:36:00.068Z"
   },
   {
    "duration": 10,
    "start_time": "2021-11-25T06:36:00.079Z"
   },
   {
    "duration": 6606,
    "start_time": "2021-11-25T06:36:49.874Z"
   },
   {
    "duration": 6317,
    "start_time": "2021-11-25T06:37:49.691Z"
   },
   {
    "duration": 4,
    "start_time": "2021-11-25T06:38:40.507Z"
   },
   {
    "duration": 477,
    "start_time": "2021-11-25T06:38:44.779Z"
   },
   {
    "duration": 3,
    "start_time": "2021-11-25T06:40:20.058Z"
   },
   {
    "duration": 6445,
    "start_time": "2021-11-25T06:40:35.042Z"
   },
   {
    "duration": 6823,
    "start_time": "2021-11-25T06:41:34.923Z"
   },
   {
    "duration": 568,
    "start_time": "2021-11-25T06:41:53.896Z"
   },
   {
    "duration": 175,
    "start_time": "2021-11-25T06:41:54.466Z"
   },
   {
    "duration": 21,
    "start_time": "2021-11-25T06:41:54.643Z"
   },
   {
    "duration": 41,
    "start_time": "2021-11-25T06:41:54.666Z"
   },
   {
    "duration": 3,
    "start_time": "2021-11-25T06:41:54.709Z"
   },
   {
    "duration": 5,
    "start_time": "2021-11-25T06:41:54.714Z"
   },
   {
    "duration": 9,
    "start_time": "2021-11-25T06:41:54.721Z"
   },
   {
    "duration": 24,
    "start_time": "2021-11-25T06:41:54.732Z"
   },
   {
    "duration": 37,
    "start_time": "2021-11-25T06:41:54.758Z"
   },
   {
    "duration": 19,
    "start_time": "2021-11-25T06:41:54.797Z"
   },
   {
    "duration": 70,
    "start_time": "2021-11-25T06:41:54.818Z"
   },
   {
    "duration": 64,
    "start_time": "2021-11-25T06:41:54.889Z"
   },
   {
    "duration": 55,
    "start_time": "2021-11-25T06:41:54.955Z"
   },
   {
    "duration": 6,
    "start_time": "2021-11-25T06:41:55.012Z"
   },
   {
    "duration": 16,
    "start_time": "2021-11-25T06:41:55.019Z"
   },
   {
    "duration": 20,
    "start_time": "2021-11-25T06:41:55.037Z"
   },
   {
    "duration": 9,
    "start_time": "2021-11-25T06:41:55.059Z"
   },
   {
    "duration": 23,
    "start_time": "2021-11-25T06:41:55.069Z"
   },
   {
    "duration": 14,
    "start_time": "2021-11-25T06:41:55.093Z"
   },
   {
    "duration": 4,
    "start_time": "2021-11-25T06:41:55.109Z"
   },
   {
    "duration": 33,
    "start_time": "2021-11-25T06:41:55.114Z"
   },
   {
    "duration": 18,
    "start_time": "2021-11-25T06:41:55.148Z"
   },
   {
    "duration": 18,
    "start_time": "2021-11-25T06:41:55.169Z"
   },
   {
    "duration": 11,
    "start_time": "2021-11-25T06:41:55.189Z"
   },
   {
    "duration": 14,
    "start_time": "2021-11-25T06:41:55.201Z"
   },
   {
    "duration": 12,
    "start_time": "2021-11-25T06:41:55.216Z"
   },
   {
    "duration": 9,
    "start_time": "2021-11-25T06:41:55.229Z"
   },
   {
    "duration": 19,
    "start_time": "2021-11-25T06:41:55.239Z"
   },
   {
    "duration": 28,
    "start_time": "2021-11-25T06:41:55.259Z"
   },
   {
    "duration": 4,
    "start_time": "2021-11-25T06:41:55.288Z"
   },
   {
    "duration": 549,
    "start_time": "2021-11-25T06:41:55.293Z"
   },
   {
    "duration": 274491,
    "start_time": "2021-11-25T06:37:21.352Z"
   },
   {
    "duration": 274486,
    "start_time": "2021-11-25T06:37:21.358Z"
   },
   {
    "duration": 274483,
    "start_time": "2021-11-25T06:37:21.362Z"
   },
   {
    "duration": 274480,
    "start_time": "2021-11-25T06:37:21.366Z"
   },
   {
    "duration": 274140,
    "start_time": "2021-11-25T06:37:21.707Z"
   },
   {
    "duration": 274109,
    "start_time": "2021-11-25T06:37:21.739Z"
   },
   {
    "duration": 274075,
    "start_time": "2021-11-25T06:37:21.774Z"
   },
   {
    "duration": 3,
    "start_time": "2021-11-25T06:43:10.598Z"
   },
   {
    "duration": 4,
    "start_time": "2021-11-25T06:43:13.860Z"
   },
   {
    "duration": 22,
    "start_time": "2021-11-25T06:43:17.045Z"
   },
   {
    "duration": 4,
    "start_time": "2021-11-25T06:45:28.796Z"
   },
   {
    "duration": 28,
    "start_time": "2021-11-25T06:45:31.484Z"
   },
   {
    "duration": 4,
    "start_time": "2021-11-25T06:45:44.982Z"
   },
   {
    "duration": 5853,
    "start_time": "2021-11-25T06:45:47.838Z"
   },
   {
    "duration": 5,
    "start_time": "2021-11-25T06:45:54.389Z"
   },
   {
    "duration": 6344,
    "start_time": "2021-11-25T06:45:58.613Z"
   },
   {
    "duration": 4,
    "start_time": "2021-11-25T06:46:15.358Z"
   },
   {
    "duration": 28,
    "start_time": "2021-11-25T06:46:17.780Z"
   },
   {
    "duration": 3,
    "start_time": "2021-11-25T06:47:42.292Z"
   },
   {
    "duration": 479,
    "start_time": "2021-11-25T06:47:44.620Z"
   },
   {
    "duration": 4,
    "start_time": "2021-11-25T06:48:00.373Z"
   },
   {
    "duration": 23,
    "start_time": "2021-11-25T06:48:02.587Z"
   },
   {
    "duration": 4,
    "start_time": "2021-11-25T06:49:06.196Z"
   },
   {
    "duration": 457,
    "start_time": "2021-11-25T06:49:08.203Z"
   },
   {
    "duration": 4,
    "start_time": "2021-11-25T06:49:50.278Z"
   },
   {
    "duration": 505,
    "start_time": "2021-11-25T06:49:54.124Z"
   },
   {
    "duration": 4,
    "start_time": "2021-11-25T06:50:42.477Z"
   },
   {
    "duration": 27,
    "start_time": "2021-11-25T06:50:46.004Z"
   },
   {
    "duration": 26,
    "start_time": "2021-11-25T06:52:24.236Z"
   },
   {
    "duration": 27,
    "start_time": "2021-11-25T06:52:27.170Z"
   },
   {
    "duration": 27,
    "start_time": "2021-11-25T06:52:31.443Z"
   },
   {
    "duration": 534,
    "start_time": "2021-11-25T06:53:35.806Z"
   },
   {
    "duration": 129,
    "start_time": "2021-11-25T06:53:36.342Z"
   },
   {
    "duration": 15,
    "start_time": "2021-11-25T06:53:36.473Z"
   },
   {
    "duration": 41,
    "start_time": "2021-11-25T06:53:36.491Z"
   },
   {
    "duration": 16,
    "start_time": "2021-11-25T06:53:36.533Z"
   },
   {
    "duration": 30,
    "start_time": "2021-11-25T06:53:36.551Z"
   },
   {
    "duration": 20,
    "start_time": "2021-11-25T06:53:36.582Z"
   },
   {
    "duration": 51,
    "start_time": "2021-11-25T06:53:36.605Z"
   },
   {
    "duration": 29,
    "start_time": "2021-11-25T06:53:36.658Z"
   },
   {
    "duration": 33,
    "start_time": "2021-11-25T06:53:36.689Z"
   },
   {
    "duration": 72,
    "start_time": "2021-11-25T06:53:36.724Z"
   },
   {
    "duration": 67,
    "start_time": "2021-11-25T06:53:36.797Z"
   },
   {
    "duration": 54,
    "start_time": "2021-11-25T06:53:36.866Z"
   },
   {
    "duration": 5,
    "start_time": "2021-11-25T06:53:36.922Z"
   },
   {
    "duration": 2,
    "start_time": "2021-11-25T06:53:36.929Z"
   },
   {
    "duration": 9,
    "start_time": "2021-11-25T06:53:36.932Z"
   },
   {
    "duration": 18,
    "start_time": "2021-11-25T06:53:36.943Z"
   },
   {
    "duration": 29,
    "start_time": "2021-11-25T06:53:36.963Z"
   },
   {
    "duration": 17,
    "start_time": "2021-11-25T06:53:36.993Z"
   },
   {
    "duration": 19,
    "start_time": "2021-11-25T06:53:37.012Z"
   },
   {
    "duration": 31,
    "start_time": "2021-11-25T06:53:37.033Z"
   },
   {
    "duration": 36,
    "start_time": "2021-11-25T06:53:37.066Z"
   },
   {
    "duration": 33,
    "start_time": "2021-11-25T06:53:37.105Z"
   },
   {
    "duration": 26,
    "start_time": "2021-11-25T06:53:37.140Z"
   },
   {
    "duration": 24,
    "start_time": "2021-11-25T06:53:37.168Z"
   },
   {
    "duration": 34,
    "start_time": "2021-11-25T06:53:37.193Z"
   },
   {
    "duration": 16,
    "start_time": "2021-11-25T06:53:37.228Z"
   },
   {
    "duration": 12,
    "start_time": "2021-11-25T06:53:37.246Z"
   },
   {
    "duration": 27,
    "start_time": "2021-11-25T06:53:37.259Z"
   },
   {
    "duration": 31,
    "start_time": "2021-11-25T06:53:37.288Z"
   },
   {
    "duration": 725,
    "start_time": "2021-11-25T06:53:37.321Z"
   },
   {
    "duration": 274937,
    "start_time": "2021-11-25T06:49:03.111Z"
   },
   {
    "duration": 274935,
    "start_time": "2021-11-25T06:49:03.114Z"
   },
   {
    "duration": 274910,
    "start_time": "2021-11-25T06:49:03.141Z"
   },
   {
    "duration": 274909,
    "start_time": "2021-11-25T06:49:03.143Z"
   },
   {
    "duration": 274908,
    "start_time": "2021-11-25T06:49:03.145Z"
   },
   {
    "duration": 274908,
    "start_time": "2021-11-25T06:49:03.147Z"
   },
   {
    "duration": 274906,
    "start_time": "2021-11-25T06:49:03.150Z"
   },
   {
    "duration": 579,
    "start_time": "2021-11-25T06:54:01.871Z"
   },
   {
    "duration": 124,
    "start_time": "2021-11-25T06:54:02.452Z"
   },
   {
    "duration": 17,
    "start_time": "2021-11-25T06:54:02.578Z"
   },
   {
    "duration": 23,
    "start_time": "2021-11-25T06:54:02.596Z"
   },
   {
    "duration": 7,
    "start_time": "2021-11-25T06:54:02.621Z"
   },
   {
    "duration": 17,
    "start_time": "2021-11-25T06:54:02.630Z"
   },
   {
    "duration": 11,
    "start_time": "2021-11-25T06:54:02.648Z"
   },
   {
    "duration": 24,
    "start_time": "2021-11-25T06:54:02.661Z"
   },
   {
    "duration": 18,
    "start_time": "2021-11-25T06:54:02.687Z"
   },
   {
    "duration": 21,
    "start_time": "2021-11-25T06:54:02.707Z"
   },
   {
    "duration": 64,
    "start_time": "2021-11-25T06:54:02.729Z"
   },
   {
    "duration": 61,
    "start_time": "2021-11-25T06:54:02.794Z"
   },
   {
    "duration": 65,
    "start_time": "2021-11-25T06:54:02.857Z"
   },
   {
    "duration": 6,
    "start_time": "2021-11-25T06:54:02.923Z"
   },
   {
    "duration": 10,
    "start_time": "2021-11-25T06:54:02.931Z"
   },
   {
    "duration": 17,
    "start_time": "2021-11-25T06:54:02.943Z"
   },
   {
    "duration": 9,
    "start_time": "2021-11-25T06:54:02.962Z"
   },
   {
    "duration": 13,
    "start_time": "2021-11-25T06:54:02.987Z"
   },
   {
    "duration": 12,
    "start_time": "2021-11-25T06:54:03.002Z"
   },
   {
    "duration": 12,
    "start_time": "2021-11-25T06:54:03.016Z"
   },
   {
    "duration": 28,
    "start_time": "2021-11-25T06:54:03.030Z"
   },
   {
    "duration": 29,
    "start_time": "2021-11-25T06:54:03.060Z"
   },
   {
    "duration": 18,
    "start_time": "2021-11-25T06:54:03.093Z"
   },
   {
    "duration": 17,
    "start_time": "2021-11-25T06:54:03.114Z"
   },
   {
    "duration": 20,
    "start_time": "2021-11-25T06:54:03.133Z"
   },
   {
    "duration": 38,
    "start_time": "2021-11-25T06:54:03.155Z"
   },
   {
    "duration": 10,
    "start_time": "2021-11-25T06:54:03.195Z"
   },
   {
    "duration": 15,
    "start_time": "2021-11-25T06:54:03.207Z"
   },
   {
    "duration": 11,
    "start_time": "2021-11-25T06:54:03.224Z"
   },
   {
    "duration": 4,
    "start_time": "2021-11-25T06:54:03.237Z"
   },
   {
    "duration": 558,
    "start_time": "2021-11-25T06:54:03.243Z"
   },
   {
    "duration": 275007,
    "start_time": "2021-11-25T06:49:28.796Z"
   },
   {
    "duration": 275005,
    "start_time": "2021-11-25T06:49:28.799Z"
   },
   {
    "duration": 275005,
    "start_time": "2021-11-25T06:49:28.801Z"
   },
   {
    "duration": 275004,
    "start_time": "2021-11-25T06:49:28.803Z"
   },
   {
    "duration": 274999,
    "start_time": "2021-11-25T06:49:28.810Z"
   },
   {
    "duration": 274997,
    "start_time": "2021-11-25T06:49:28.813Z"
   },
   {
    "duration": 274997,
    "start_time": "2021-11-25T06:49:28.815Z"
   },
   {
    "duration": 567,
    "start_time": "2021-11-25T06:54:28.055Z"
   },
   {
    "duration": 128,
    "start_time": "2021-11-25T06:54:28.624Z"
   },
   {
    "duration": 16,
    "start_time": "2021-11-25T06:54:28.754Z"
   },
   {
    "duration": 34,
    "start_time": "2021-11-25T06:54:28.771Z"
   },
   {
    "duration": 3,
    "start_time": "2021-11-25T06:54:28.807Z"
   },
   {
    "duration": 4,
    "start_time": "2021-11-25T06:54:28.812Z"
   },
   {
    "duration": 6,
    "start_time": "2021-11-25T06:54:28.817Z"
   },
   {
    "duration": 23,
    "start_time": "2021-11-25T06:54:28.826Z"
   },
   {
    "duration": 39,
    "start_time": "2021-11-25T06:54:28.851Z"
   },
   {
    "duration": 20,
    "start_time": "2021-11-25T06:54:28.892Z"
   },
   {
    "duration": 52,
    "start_time": "2021-11-25T06:54:28.913Z"
   },
   {
    "duration": 78,
    "start_time": "2021-11-25T06:54:28.967Z"
   },
   {
    "duration": 51,
    "start_time": "2021-11-25T06:54:29.047Z"
   },
   {
    "duration": 6,
    "start_time": "2021-11-25T06:54:29.099Z"
   },
   {
    "duration": 5,
    "start_time": "2021-11-25T06:54:29.107Z"
   },
   {
    "duration": 11,
    "start_time": "2021-11-25T06:54:29.114Z"
   },
   {
    "duration": 7,
    "start_time": "2021-11-25T06:54:29.127Z"
   },
   {
    "duration": 9,
    "start_time": "2021-11-25T06:54:29.135Z"
   },
   {
    "duration": 9,
    "start_time": "2021-11-25T06:54:29.145Z"
   },
   {
    "duration": 33,
    "start_time": "2021-11-25T06:54:29.155Z"
   },
   {
    "duration": 22,
    "start_time": "2021-11-25T06:54:29.189Z"
   },
   {
    "duration": 13,
    "start_time": "2021-11-25T06:54:29.212Z"
   },
   {
    "duration": 15,
    "start_time": "2021-11-25T06:54:29.227Z"
   },
   {
    "duration": 12,
    "start_time": "2021-11-25T06:54:29.244Z"
   },
   {
    "duration": 34,
    "start_time": "2021-11-25T06:54:29.257Z"
   },
   {
    "duration": 12,
    "start_time": "2021-11-25T06:54:29.292Z"
   },
   {
    "duration": 7,
    "start_time": "2021-11-25T06:54:29.305Z"
   },
   {
    "duration": 12,
    "start_time": "2021-11-25T06:54:29.313Z"
   },
   {
    "duration": 8,
    "start_time": "2021-11-25T06:54:29.326Z"
   },
   {
    "duration": 3,
    "start_time": "2021-11-25T06:54:29.335Z"
   },
   {
    "duration": 24,
    "start_time": "2021-11-25T06:54:29.340Z"
   },
   {
    "duration": 15,
    "start_time": "2021-11-25T06:54:29.388Z"
   },
   {
    "duration": 21,
    "start_time": "2021-11-25T06:54:29.404Z"
   },
   {
    "duration": 16,
    "start_time": "2021-11-25T06:54:29.426Z"
   },
   {
    "duration": 4,
    "start_time": "2021-11-25T06:54:29.444Z"
   },
   {
    "duration": 6,
    "start_time": "2021-11-25T06:54:29.449Z"
   },
   {
    "duration": 5,
    "start_time": "2021-11-25T06:54:29.457Z"
   },
   {
    "duration": 2,
    "start_time": "2021-11-25T06:54:29.488Z"
   },
   {
    "duration": 515,
    "start_time": "2021-11-25T06:55:47.508Z"
   },
   {
    "duration": 119,
    "start_time": "2021-11-25T06:55:48.025Z"
   },
   {
    "duration": 15,
    "start_time": "2021-11-25T06:55:48.146Z"
   },
   {
    "duration": 42,
    "start_time": "2021-11-25T06:55:48.162Z"
   },
   {
    "duration": 9,
    "start_time": "2021-11-25T06:55:48.205Z"
   },
   {
    "duration": 33,
    "start_time": "2021-11-25T06:55:48.216Z"
   },
   {
    "duration": 11,
    "start_time": "2021-11-25T06:55:48.251Z"
   },
   {
    "duration": 28,
    "start_time": "2021-11-25T06:55:48.265Z"
   },
   {
    "duration": 23,
    "start_time": "2021-11-25T06:55:48.294Z"
   },
   {
    "duration": 29,
    "start_time": "2021-11-25T06:55:48.319Z"
   },
   {
    "duration": 58,
    "start_time": "2021-11-25T06:55:48.350Z"
   },
   {
    "duration": 59,
    "start_time": "2021-11-25T06:55:48.409Z"
   },
   {
    "duration": 61,
    "start_time": "2021-11-25T06:55:48.469Z"
   },
   {
    "duration": 5,
    "start_time": "2021-11-25T06:55:48.532Z"
   },
   {
    "duration": 11,
    "start_time": "2021-11-25T06:55:48.539Z"
   },
   {
    "duration": 19,
    "start_time": "2021-11-25T06:55:48.552Z"
   },
   {
    "duration": 15,
    "start_time": "2021-11-25T06:55:48.572Z"
   },
   {
    "duration": 15,
    "start_time": "2021-11-25T06:55:48.589Z"
   },
   {
    "duration": 29,
    "start_time": "2021-11-25T06:55:48.605Z"
   },
   {
    "duration": 10,
    "start_time": "2021-11-25T06:55:48.636Z"
   },
   {
    "duration": 22,
    "start_time": "2021-11-25T06:55:48.648Z"
   },
   {
    "duration": 20,
    "start_time": "2021-11-25T06:55:48.671Z"
   },
   {
    "duration": 29,
    "start_time": "2021-11-25T06:55:48.694Z"
   },
   {
    "duration": 15,
    "start_time": "2021-11-25T06:55:48.724Z"
   },
   {
    "duration": 30,
    "start_time": "2021-11-25T06:55:48.740Z"
   },
   {
    "duration": 23,
    "start_time": "2021-11-25T06:55:48.771Z"
   },
   {
    "duration": 19,
    "start_time": "2021-11-25T06:55:48.796Z"
   },
   {
    "duration": 28,
    "start_time": "2021-11-25T06:55:48.816Z"
   },
   {
    "duration": 20,
    "start_time": "2021-11-25T06:55:48.845Z"
   },
   {
    "duration": 6,
    "start_time": "2021-11-25T06:55:48.866Z"
   },
   {
    "duration": 39,
    "start_time": "2021-11-25T06:55:48.874Z"
   },
   {
    "duration": 20,
    "start_time": "2021-11-25T06:55:48.915Z"
   },
   {
    "duration": 23,
    "start_time": "2021-11-25T06:55:48.936Z"
   },
   {
    "duration": 16,
    "start_time": "2021-11-25T06:55:48.960Z"
   },
   {
    "duration": 2,
    "start_time": "2021-11-25T06:55:48.988Z"
   },
   {
    "duration": 23,
    "start_time": "2021-11-25T06:55:48.992Z"
   },
   {
    "duration": 21,
    "start_time": "2021-11-25T06:55:49.017Z"
   },
   {
    "duration": 6,
    "start_time": "2021-11-25T06:55:49.040Z"
   },
   {
    "duration": 288,
    "start_time": "2021-11-25T06:57:38.404Z"
   },
   {
    "duration": 11,
    "start_time": "2021-11-25T06:57:42.213Z"
   },
   {
    "duration": 3,
    "start_time": "2021-11-25T06:58:53.342Z"
   },
   {
    "duration": 5738,
    "start_time": "2021-11-25T06:58:56.860Z"
   },
   {
    "duration": 230,
    "start_time": "2021-11-25T07:00:06.691Z"
   },
   {
    "duration": 590,
    "start_time": "2021-11-25T07:04:07.830Z"
   },
   {
    "duration": 126,
    "start_time": "2021-11-25T07:04:08.422Z"
   },
   {
    "duration": 15,
    "start_time": "2021-11-25T07:04:08.552Z"
   },
   {
    "duration": 38,
    "start_time": "2021-11-25T07:04:08.568Z"
   },
   {
    "duration": 19,
    "start_time": "2021-11-25T07:04:08.608Z"
   },
   {
    "duration": 16,
    "start_time": "2021-11-25T07:04:08.629Z"
   },
   {
    "duration": 21,
    "start_time": "2021-11-25T07:04:08.647Z"
   },
   {
    "duration": 52,
    "start_time": "2021-11-25T07:04:08.670Z"
   },
   {
    "duration": 31,
    "start_time": "2021-11-25T07:04:08.724Z"
   },
   {
    "duration": 27,
    "start_time": "2021-11-25T07:04:08.757Z"
   },
   {
    "duration": 68,
    "start_time": "2021-11-25T07:04:08.785Z"
   },
   {
    "duration": 62,
    "start_time": "2021-11-25T07:04:08.854Z"
   },
   {
    "duration": 45,
    "start_time": "2021-11-25T07:04:08.917Z"
   },
   {
    "duration": 6,
    "start_time": "2021-11-25T07:04:08.964Z"
   },
   {
    "duration": 3,
    "start_time": "2021-11-25T07:04:08.971Z"
   },
   {
    "duration": 8,
    "start_time": "2021-11-25T07:04:08.988Z"
   },
   {
    "duration": 6,
    "start_time": "2021-11-25T07:04:08.998Z"
   },
   {
    "duration": 9,
    "start_time": "2021-11-25T07:04:09.005Z"
   },
   {
    "duration": 13,
    "start_time": "2021-11-25T07:04:09.015Z"
   },
   {
    "duration": 3,
    "start_time": "2021-11-25T07:04:09.029Z"
   },
   {
    "duration": 596,
    "start_time": "2021-11-25T07:04:09.033Z"
   },
   {
    "duration": 274761,
    "start_time": "2021-11-25T06:59:34.869Z"
   },
   {
    "duration": 274759,
    "start_time": "2021-11-25T06:59:34.872Z"
   },
   {
    "duration": 274757,
    "start_time": "2021-11-25T06:59:34.875Z"
   },
   {
    "duration": 274754,
    "start_time": "2021-11-25T06:59:34.879Z"
   },
   {
    "duration": 274753,
    "start_time": "2021-11-25T06:59:34.881Z"
   },
   {
    "duration": 274752,
    "start_time": "2021-11-25T06:59:34.883Z"
   },
   {
    "duration": 274750,
    "start_time": "2021-11-25T06:59:34.886Z"
   },
   {
    "duration": 274749,
    "start_time": "2021-11-25T06:59:34.888Z"
   },
   {
    "duration": 274748,
    "start_time": "2021-11-25T06:59:34.890Z"
   },
   {
    "duration": 274745,
    "start_time": "2021-11-25T06:59:34.893Z"
   },
   {
    "duration": 274743,
    "start_time": "2021-11-25T06:59:34.896Z"
   },
   {
    "duration": 274733,
    "start_time": "2021-11-25T06:59:34.907Z"
   },
   {
    "duration": 274728,
    "start_time": "2021-11-25T06:59:34.913Z"
   },
   {
    "duration": 274727,
    "start_time": "2021-11-25T06:59:34.915Z"
   },
   {
    "duration": 274726,
    "start_time": "2021-11-25T06:59:34.917Z"
   },
   {
    "duration": 274725,
    "start_time": "2021-11-25T06:59:34.919Z"
   },
   {
    "duration": 274722,
    "start_time": "2021-11-25T06:59:34.923Z"
   },
   {
    "duration": 519,
    "start_time": "2021-11-25T07:07:27.332Z"
   },
   {
    "duration": 126,
    "start_time": "2021-11-25T07:07:27.853Z"
   },
   {
    "duration": 15,
    "start_time": "2021-11-25T07:07:27.981Z"
   },
   {
    "duration": 24,
    "start_time": "2021-11-25T07:07:27.998Z"
   },
   {
    "duration": 4,
    "start_time": "2021-11-25T07:07:28.024Z"
   },
   {
    "duration": 5,
    "start_time": "2021-11-25T07:07:28.030Z"
   },
   {
    "duration": 6,
    "start_time": "2021-11-25T07:07:28.036Z"
   },
   {
    "duration": 43,
    "start_time": "2021-11-25T07:07:28.045Z"
   },
   {
    "duration": 17,
    "start_time": "2021-11-25T07:07:28.089Z"
   },
   {
    "duration": 21,
    "start_time": "2021-11-25T07:07:28.108Z"
   },
   {
    "duration": 65,
    "start_time": "2021-11-25T07:07:28.130Z"
   },
   {
    "duration": 61,
    "start_time": "2021-11-25T07:07:28.197Z"
   },
   {
    "duration": 59,
    "start_time": "2021-11-25T07:07:28.259Z"
   },
   {
    "duration": 7,
    "start_time": "2021-11-25T07:07:28.319Z"
   },
   {
    "duration": 3,
    "start_time": "2021-11-25T07:07:28.327Z"
   },
   {
    "duration": 25,
    "start_time": "2021-11-25T07:07:28.332Z"
   },
   {
    "duration": 6,
    "start_time": "2021-11-25T07:07:28.359Z"
   },
   {
    "duration": 29,
    "start_time": "2021-11-25T07:07:28.367Z"
   },
   {
    "duration": 8,
    "start_time": "2021-11-25T07:07:28.398Z"
   },
   {
    "duration": 4,
    "start_time": "2021-11-25T07:07:28.407Z"
   },
   {
    "duration": 571,
    "start_time": "2021-11-25T07:07:28.412Z"
   },
   {
    "duration": 273612,
    "start_time": "2021-11-25T07:02:55.373Z"
   },
   {
    "duration": 273609,
    "start_time": "2021-11-25T07:02:55.377Z"
   },
   {
    "duration": 273608,
    "start_time": "2021-11-25T07:02:55.379Z"
   },
   {
    "duration": 273607,
    "start_time": "2021-11-25T07:02:55.381Z"
   },
   {
    "duration": 273589,
    "start_time": "2021-11-25T07:02:55.400Z"
   },
   {
    "duration": 273588,
    "start_time": "2021-11-25T07:02:55.402Z"
   },
   {
    "duration": 273585,
    "start_time": "2021-11-25T07:02:55.405Z"
   },
   {
    "duration": 273582,
    "start_time": "2021-11-25T07:02:55.409Z"
   },
   {
    "duration": 273571,
    "start_time": "2021-11-25T07:02:55.421Z"
   },
   {
    "duration": 273570,
    "start_time": "2021-11-25T07:02:55.423Z"
   },
   {
    "duration": 273569,
    "start_time": "2021-11-25T07:02:55.425Z"
   },
   {
    "duration": 273550,
    "start_time": "2021-11-25T07:02:55.445Z"
   },
   {
    "duration": 273547,
    "start_time": "2021-11-25T07:02:55.449Z"
   },
   {
    "duration": 273544,
    "start_time": "2021-11-25T07:02:55.452Z"
   },
   {
    "duration": 273543,
    "start_time": "2021-11-25T07:02:55.454Z"
   },
   {
    "duration": 273529,
    "start_time": "2021-11-25T07:02:55.469Z"
   },
   {
    "duration": 273527,
    "start_time": "2021-11-25T07:02:55.472Z"
   },
   {
    "duration": 226,
    "start_time": "2021-11-25T07:08:36.628Z"
   },
   {
    "duration": 564,
    "start_time": "2021-11-25T07:09:53.686Z"
   },
   {
    "duration": 127,
    "start_time": "2021-11-25T07:09:54.252Z"
   },
   {
    "duration": 18,
    "start_time": "2021-11-25T07:09:54.381Z"
   },
   {
    "duration": 27,
    "start_time": "2021-11-25T07:09:54.401Z"
   },
   {
    "duration": 4,
    "start_time": "2021-11-25T07:09:54.430Z"
   },
   {
    "duration": 5,
    "start_time": "2021-11-25T07:09:54.436Z"
   },
   {
    "duration": 13,
    "start_time": "2021-11-25T07:09:54.442Z"
   },
   {
    "duration": 44,
    "start_time": "2021-11-25T07:09:54.457Z"
   },
   {
    "duration": 21,
    "start_time": "2021-11-25T07:09:54.503Z"
   },
   {
    "duration": 27,
    "start_time": "2021-11-25T07:09:54.526Z"
   },
   {
    "duration": 76,
    "start_time": "2021-11-25T07:09:54.555Z"
   },
   {
    "duration": 78,
    "start_time": "2021-11-25T07:09:54.633Z"
   },
   {
    "duration": 55,
    "start_time": "2021-11-25T07:09:54.712Z"
   },
   {
    "duration": 19,
    "start_time": "2021-11-25T07:09:54.769Z"
   },
   {
    "duration": 5,
    "start_time": "2021-11-25T07:09:54.790Z"
   },
   {
    "duration": 31,
    "start_time": "2021-11-25T07:09:54.796Z"
   },
   {
    "duration": 7,
    "start_time": "2021-11-25T07:09:54.828Z"
   },
   {
    "duration": 10,
    "start_time": "2021-11-25T07:09:54.837Z"
   },
   {
    "duration": 9,
    "start_time": "2021-11-25T07:09:54.848Z"
   },
   {
    "duration": 29,
    "start_time": "2021-11-25T07:09:54.859Z"
   },
   {
    "duration": 496,
    "start_time": "2021-11-25T07:09:54.889Z"
   },
   {
    "duration": 270318,
    "start_time": "2021-11-25T07:05:25.069Z"
   },
   {
    "duration": 270317,
    "start_time": "2021-11-25T07:05:25.071Z"
   },
   {
    "duration": 270181,
    "start_time": "2021-11-25T07:05:25.208Z"
   },
   {
    "duration": 270134,
    "start_time": "2021-11-25T07:05:25.255Z"
   },
   {
    "duration": 270131,
    "start_time": "2021-11-25T07:05:25.259Z"
   },
   {
    "duration": 270089,
    "start_time": "2021-11-25T07:05:25.302Z"
   },
   {
    "duration": 270048,
    "start_time": "2021-11-25T07:05:25.343Z"
   },
   {
    "duration": 270042,
    "start_time": "2021-11-25T07:05:25.350Z"
   },
   {
    "duration": 269997,
    "start_time": "2021-11-25T07:05:25.396Z"
   },
   {
    "duration": 269994,
    "start_time": "2021-11-25T07:05:25.399Z"
   },
   {
    "duration": 269903,
    "start_time": "2021-11-25T07:05:25.491Z"
   },
   {
    "duration": 269901,
    "start_time": "2021-11-25T07:05:25.494Z"
   },
   {
    "duration": 269900,
    "start_time": "2021-11-25T07:05:25.496Z"
   },
   {
    "duration": 269897,
    "start_time": "2021-11-25T07:05:25.499Z"
   },
   {
    "duration": 269858,
    "start_time": "2021-11-25T07:05:25.539Z"
   },
   {
    "duration": 269819,
    "start_time": "2021-11-25T07:05:25.579Z"
   },
   {
    "duration": 269772,
    "start_time": "2021-11-25T07:05:25.627Z"
   },
   {
    "duration": 526,
    "start_time": "2021-11-25T07:11:53.621Z"
   },
   {
    "duration": 122,
    "start_time": "2021-11-25T07:11:54.148Z"
   },
   {
    "duration": 19,
    "start_time": "2021-11-25T07:11:54.272Z"
   },
   {
    "duration": 21,
    "start_time": "2021-11-25T07:11:54.293Z"
   },
   {
    "duration": 3,
    "start_time": "2021-11-25T07:11:54.315Z"
   },
   {
    "duration": 5,
    "start_time": "2021-11-25T07:11:54.320Z"
   },
   {
    "duration": 6,
    "start_time": "2021-11-25T07:11:54.326Z"
   },
   {
    "duration": 21,
    "start_time": "2021-11-25T07:11:54.334Z"
   },
   {
    "duration": 42,
    "start_time": "2021-11-25T07:11:54.357Z"
   },
   {
    "duration": 22,
    "start_time": "2021-11-25T07:11:54.401Z"
   },
   {
    "duration": 76,
    "start_time": "2021-11-25T07:11:54.425Z"
   },
   {
    "duration": 71,
    "start_time": "2021-11-25T07:11:54.502Z"
   },
   {
    "duration": 61,
    "start_time": "2021-11-25T07:11:54.575Z"
   },
   {
    "duration": 6,
    "start_time": "2021-11-25T07:11:54.638Z"
   },
   {
    "duration": 10,
    "start_time": "2021-11-25T07:11:54.646Z"
   },
   {
    "duration": 35,
    "start_time": "2021-11-25T07:11:54.658Z"
   },
   {
    "duration": 7,
    "start_time": "2021-11-25T07:11:54.694Z"
   },
   {
    "duration": 26,
    "start_time": "2021-11-25T07:11:54.702Z"
   },
   {
    "duration": 15,
    "start_time": "2021-11-25T07:11:54.730Z"
   },
   {
    "duration": 8,
    "start_time": "2021-11-25T07:11:54.747Z"
   },
   {
    "duration": 519,
    "start_time": "2021-11-25T07:11:54.757Z"
   },
   {
    "duration": 274476,
    "start_time": "2021-11-25T07:07:20.803Z"
   },
   {
    "duration": 274475,
    "start_time": "2021-11-25T07:07:20.805Z"
   },
   {
    "duration": 274472,
    "start_time": "2021-11-25T07:07:20.808Z"
   },
   {
    "duration": 274470,
    "start_time": "2021-11-25T07:07:20.811Z"
   },
   {
    "duration": 274440,
    "start_time": "2021-11-25T07:07:20.842Z"
   },
   {
    "duration": 274438,
    "start_time": "2021-11-25T07:07:20.845Z"
   },
   {
    "duration": 274436,
    "start_time": "2021-11-25T07:07:20.848Z"
   },
   {
    "duration": 274434,
    "start_time": "2021-11-25T07:07:20.851Z"
   },
   {
    "duration": 274432,
    "start_time": "2021-11-25T07:07:20.854Z"
   },
   {
    "duration": 274401,
    "start_time": "2021-11-25T07:07:20.886Z"
   },
   {
    "duration": 274399,
    "start_time": "2021-11-25T07:07:20.888Z"
   },
   {
    "duration": 274398,
    "start_time": "2021-11-25T07:07:20.890Z"
   },
   {
    "duration": 274396,
    "start_time": "2021-11-25T07:07:20.893Z"
   },
   {
    "duration": 274395,
    "start_time": "2021-11-25T07:07:20.895Z"
   },
   {
    "duration": 274317,
    "start_time": "2021-11-25T07:07:20.973Z"
   },
   {
    "duration": 274316,
    "start_time": "2021-11-25T07:07:20.975Z"
   },
   {
    "duration": 274314,
    "start_time": "2021-11-25T07:07:20.978Z"
   },
   {
    "duration": 248,
    "start_time": "2021-11-25T07:12:25.579Z"
   },
   {
    "duration": 3,
    "start_time": "2021-11-25T07:12:41.442Z"
   },
   {
    "duration": 437,
    "start_time": "2021-11-25T07:12:43.568Z"
   },
   {
    "duration": 3,
    "start_time": "2021-11-25T07:12:57.608Z"
   },
   {
    "duration": 448,
    "start_time": "2021-11-25T07:13:00.337Z"
   },
   {
    "duration": 4,
    "start_time": "2021-11-25T07:13:31.755Z"
   },
   {
    "duration": 14,
    "start_time": "2021-11-25T07:13:34.346Z"
   },
   {
    "duration": 520,
    "start_time": "2021-11-25T07:14:08.627Z"
   },
   {
    "duration": 124,
    "start_time": "2021-11-25T07:14:09.149Z"
   },
   {
    "duration": 17,
    "start_time": "2021-11-25T07:14:09.275Z"
   },
   {
    "duration": 25,
    "start_time": "2021-11-25T07:14:09.294Z"
   },
   {
    "duration": 6,
    "start_time": "2021-11-25T07:14:09.320Z"
   },
   {
    "duration": 6,
    "start_time": "2021-11-25T07:14:09.327Z"
   },
   {
    "duration": 6,
    "start_time": "2021-11-25T07:14:09.334Z"
   },
   {
    "duration": 22,
    "start_time": "2021-11-25T07:14:09.342Z"
   },
   {
    "duration": 33,
    "start_time": "2021-11-25T07:14:09.366Z"
   },
   {
    "duration": 20,
    "start_time": "2021-11-25T07:14:09.400Z"
   },
   {
    "duration": 56,
    "start_time": "2021-11-25T07:14:09.422Z"
   },
   {
    "duration": 62,
    "start_time": "2021-11-25T07:14:09.488Z"
   },
   {
    "duration": 64,
    "start_time": "2021-11-25T07:14:09.552Z"
   },
   {
    "duration": 6,
    "start_time": "2021-11-25T07:14:09.618Z"
   },
   {
    "duration": 3,
    "start_time": "2021-11-25T07:14:09.626Z"
   },
   {
    "duration": 23,
    "start_time": "2021-11-25T07:14:09.631Z"
   },
   {
    "duration": 6,
    "start_time": "2021-11-25T07:14:09.656Z"
   },
   {
    "duration": 31,
    "start_time": "2021-11-25T07:14:09.663Z"
   },
   {
    "duration": 9,
    "start_time": "2021-11-25T07:14:09.696Z"
   },
   {
    "duration": 3,
    "start_time": "2021-11-25T07:14:09.706Z"
   },
   {
    "duration": 22,
    "start_time": "2021-11-25T07:14:09.711Z"
   },
   {
    "duration": 12,
    "start_time": "2021-11-25T07:14:09.734Z"
   },
   {
    "duration": 12,
    "start_time": "2021-11-25T07:14:09.749Z"
   },
   {
    "duration": 31,
    "start_time": "2021-11-25T07:14:09.763Z"
   },
   {
    "duration": 15,
    "start_time": "2021-11-25T07:14:09.795Z"
   },
   {
    "duration": 12,
    "start_time": "2021-11-25T07:14:09.812Z"
   },
   {
    "duration": 15,
    "start_time": "2021-11-25T07:14:09.825Z"
   },
   {
    "duration": 26,
    "start_time": "2021-11-25T07:14:09.841Z"
   },
   {
    "duration": 21,
    "start_time": "2021-11-25T07:14:09.869Z"
   },
   {
    "duration": 15,
    "start_time": "2021-11-25T07:14:09.891Z"
   },
   {
    "duration": 38,
    "start_time": "2021-11-25T07:14:09.907Z"
   },
   {
    "duration": 16,
    "start_time": "2021-11-25T07:14:09.947Z"
   },
   {
    "duration": 40,
    "start_time": "2021-11-25T07:14:09.965Z"
   },
   {
    "duration": 18,
    "start_time": "2021-11-25T07:14:10.007Z"
   },
   {
    "duration": 4,
    "start_time": "2021-11-25T07:14:10.027Z"
   },
   {
    "duration": 10,
    "start_time": "2021-11-25T07:14:10.032Z"
   },
   {
    "duration": 13,
    "start_time": "2021-11-25T07:14:10.043Z"
   },
   {
    "duration": 16,
    "start_time": "2021-11-25T07:14:10.058Z"
   },
   {
    "duration": 561,
    "start_time": "2021-11-25T07:15:47.374Z"
   },
   {
    "duration": 121,
    "start_time": "2021-11-25T07:15:47.937Z"
   },
   {
    "duration": 15,
    "start_time": "2021-11-25T07:15:48.059Z"
   },
   {
    "duration": 26,
    "start_time": "2021-11-25T07:15:48.076Z"
   },
   {
    "duration": 4,
    "start_time": "2021-11-25T07:15:48.104Z"
   },
   {
    "duration": 4,
    "start_time": "2021-11-25T07:15:48.109Z"
   },
   {
    "duration": 10,
    "start_time": "2021-11-25T07:15:48.115Z"
   },
   {
    "duration": 28,
    "start_time": "2021-11-25T07:15:48.127Z"
   },
   {
    "duration": 21,
    "start_time": "2021-11-25T07:15:48.157Z"
   },
   {
    "duration": 22,
    "start_time": "2021-11-25T07:15:48.179Z"
   },
   {
    "duration": 53,
    "start_time": "2021-11-25T07:15:48.203Z"
   },
   {
    "duration": 73,
    "start_time": "2021-11-25T07:15:48.257Z"
   },
   {
    "duration": 47,
    "start_time": "2021-11-25T07:15:48.331Z"
   },
   {
    "duration": 6,
    "start_time": "2021-11-25T07:15:48.388Z"
   },
   {
    "duration": 14,
    "start_time": "2021-11-25T07:15:48.395Z"
   },
   {
    "duration": 34,
    "start_time": "2021-11-25T07:15:48.411Z"
   },
   {
    "duration": 6,
    "start_time": "2021-11-25T07:15:48.447Z"
   },
   {
    "duration": 25,
    "start_time": "2021-11-25T07:15:48.454Z"
   },
   {
    "duration": 18,
    "start_time": "2021-11-25T07:15:48.480Z"
   },
   {
    "duration": 11,
    "start_time": "2021-11-25T07:15:48.500Z"
   },
   {
    "duration": 41,
    "start_time": "2021-11-25T07:15:48.512Z"
   },
   {
    "duration": 32,
    "start_time": "2021-11-25T07:15:48.554Z"
   },
   {
    "duration": 26,
    "start_time": "2021-11-25T07:15:48.589Z"
   },
   {
    "duration": 34,
    "start_time": "2021-11-25T07:15:48.617Z"
   },
   {
    "duration": 32,
    "start_time": "2021-11-25T07:15:48.653Z"
   },
   {
    "duration": 25,
    "start_time": "2021-11-25T07:15:48.686Z"
   },
   {
    "duration": 31,
    "start_time": "2021-11-25T07:15:48.712Z"
   },
   {
    "duration": 16,
    "start_time": "2021-11-25T07:15:48.744Z"
   },
   {
    "duration": 27,
    "start_time": "2021-11-25T07:15:48.762Z"
   },
   {
    "duration": 7,
    "start_time": "2021-11-25T07:15:48.790Z"
   },
   {
    "duration": 550,
    "start_time": "2021-11-25T07:15:48.799Z"
   },
   {
    "duration": 275034,
    "start_time": "2021-11-25T07:11:14.317Z"
   },
   {
    "duration": 275031,
    "start_time": "2021-11-25T07:11:14.320Z"
   },
   {
    "duration": 275029,
    "start_time": "2021-11-25T07:11:14.323Z"
   },
   {
    "duration": 275027,
    "start_time": "2021-11-25T07:11:14.326Z"
   },
   {
    "duration": 275025,
    "start_time": "2021-11-25T07:11:14.329Z"
   },
   {
    "duration": 275022,
    "start_time": "2021-11-25T07:11:14.332Z"
   },
   {
    "duration": 275020,
    "start_time": "2021-11-25T07:11:14.335Z"
   },
   {
    "duration": 3,
    "start_time": "2021-11-25T07:16:39.276Z"
   },
   {
    "duration": 23,
    "start_time": "2021-11-25T07:16:43.211Z"
   },
   {
    "duration": 4,
    "start_time": "2021-11-25T07:19:09.657Z"
   },
   {
    "duration": 1004,
    "start_time": "2021-11-25T07:19:16.156Z"
   },
   {
    "duration": 4,
    "start_time": "2021-11-25T07:21:11.994Z"
   },
   {
    "duration": 529,
    "start_time": "2021-11-25T07:21:14.785Z"
   },
   {
    "duration": 5,
    "start_time": "2021-11-25T07:21:30.017Z"
   },
   {
    "duration": 559,
    "start_time": "2021-11-25T07:21:32.145Z"
   },
   {
    "duration": 4,
    "start_time": "2021-11-25T07:22:11.379Z"
   },
   {
    "duration": 23,
    "start_time": "2021-11-25T07:22:14.090Z"
   },
   {
    "duration": 4,
    "start_time": "2021-11-25T07:22:59.488Z"
   },
   {
    "duration": 611,
    "start_time": "2021-11-25T07:23:01.525Z"
   },
   {
    "duration": 4,
    "start_time": "2021-11-25T07:23:10.312Z"
   },
   {
    "duration": 24,
    "start_time": "2021-11-25T07:23:16.088Z"
   },
   {
    "duration": 5,
    "start_time": "2021-11-25T07:24:06.584Z"
   },
   {
    "duration": 493,
    "start_time": "2021-11-25T07:24:08.737Z"
   },
   {
    "duration": 4,
    "start_time": "2021-11-25T07:24:32.705Z"
   },
   {
    "duration": 24,
    "start_time": "2021-11-25T07:24:34.554Z"
   },
   {
    "duration": 4,
    "start_time": "2021-11-25T07:25:12.560Z"
   },
   {
    "duration": 24,
    "start_time": "2021-11-25T07:25:17.337Z"
   },
   {
    "duration": 4,
    "start_time": "2021-11-25T07:26:32.569Z"
   },
   {
    "duration": 491,
    "start_time": "2021-11-25T07:26:34.831Z"
   },
   {
    "duration": 7,
    "start_time": "2021-11-25T07:27:05.792Z"
   },
   {
    "duration": 16,
    "start_time": "2021-11-25T07:27:08.127Z"
   },
   {
    "duration": 16,
    "start_time": "2021-11-25T07:27:34.440Z"
   },
   {
    "duration": 16,
    "start_time": "2021-11-25T07:27:39.142Z"
   },
   {
    "duration": 13,
    "start_time": "2021-11-25T07:27:42.983Z"
   },
   {
    "duration": 515,
    "start_time": "2021-11-25T07:28:52.927Z"
   },
   {
    "duration": 121,
    "start_time": "2021-11-25T07:28:53.444Z"
   },
   {
    "duration": 14,
    "start_time": "2021-11-25T07:28:53.567Z"
   },
   {
    "duration": 23,
    "start_time": "2021-11-25T07:28:53.583Z"
   },
   {
    "duration": 4,
    "start_time": "2021-11-25T07:28:53.607Z"
   },
   {
    "duration": 7,
    "start_time": "2021-11-25T07:28:53.613Z"
   },
   {
    "duration": 13,
    "start_time": "2021-11-25T07:28:53.622Z"
   },
   {
    "duration": 22,
    "start_time": "2021-11-25T07:28:53.637Z"
   },
   {
    "duration": 28,
    "start_time": "2021-11-25T07:28:53.661Z"
   },
   {
    "duration": 30,
    "start_time": "2021-11-25T07:28:53.691Z"
   },
   {
    "duration": 52,
    "start_time": "2021-11-25T07:28:53.723Z"
   },
   {
    "duration": 64,
    "start_time": "2021-11-25T07:28:53.777Z"
   },
   {
    "duration": 53,
    "start_time": "2021-11-25T07:28:53.842Z"
   },
   {
    "duration": 6,
    "start_time": "2021-11-25T07:28:53.896Z"
   },
   {
    "duration": 2,
    "start_time": "2021-11-25T07:28:53.904Z"
   },
   {
    "duration": 32,
    "start_time": "2021-11-25T07:28:53.908Z"
   },
   {
    "duration": 6,
    "start_time": "2021-11-25T07:28:53.941Z"
   },
   {
    "duration": 15,
    "start_time": "2021-11-25T07:28:53.949Z"
   },
   {
    "duration": 8,
    "start_time": "2021-11-25T07:28:53.965Z"
   },
   {
    "duration": 13,
    "start_time": "2021-11-25T07:28:53.975Z"
   },
   {
    "duration": 19,
    "start_time": "2021-11-25T07:28:53.990Z"
   },
   {
    "duration": 11,
    "start_time": "2021-11-25T07:28:54.010Z"
   },
   {
    "duration": 15,
    "start_time": "2021-11-25T07:28:54.024Z"
   },
   {
    "duration": 12,
    "start_time": "2021-11-25T07:28:54.041Z"
   },
   {
    "duration": 33,
    "start_time": "2021-11-25T07:28:54.055Z"
   },
   {
    "duration": 12,
    "start_time": "2021-11-25T07:28:54.089Z"
   },
   {
    "duration": 10,
    "start_time": "2021-11-25T07:28:54.102Z"
   },
   {
    "duration": 15,
    "start_time": "2021-11-25T07:28:54.114Z"
   },
   {
    "duration": 10,
    "start_time": "2021-11-25T07:28:54.130Z"
   },
   {
    "duration": 5,
    "start_time": "2021-11-25T07:28:54.142Z"
   },
   {
    "duration": 526,
    "start_time": "2021-11-25T07:28:54.148Z"
   },
   {
    "duration": 274976,
    "start_time": "2021-11-25T07:24:19.700Z"
   },
   {
    "duration": 274950,
    "start_time": "2021-11-25T07:24:19.728Z"
   },
   {
    "duration": 274949,
    "start_time": "2021-11-25T07:24:19.730Z"
   },
   {
    "duration": 274947,
    "start_time": "2021-11-25T07:24:19.733Z"
   },
   {
    "duration": 274946,
    "start_time": "2021-11-25T07:24:19.735Z"
   },
   {
    "duration": 274945,
    "start_time": "2021-11-25T07:24:19.737Z"
   },
   {
    "duration": 274943,
    "start_time": "2021-11-25T07:24:19.740Z"
   },
   {
    "duration": 472,
    "start_time": "2021-11-25T07:29:19.127Z"
   },
   {
    "duration": 6,
    "start_time": "2021-11-25T07:29:44.861Z"
   },
   {
    "duration": 16,
    "start_time": "2021-11-25T07:29:46.937Z"
   },
   {
    "duration": 539,
    "start_time": "2021-11-25T07:29:53.938Z"
   },
   {
    "duration": 136,
    "start_time": "2021-11-25T07:29:54.479Z"
   },
   {
    "duration": 15,
    "start_time": "2021-11-25T07:29:54.617Z"
   },
   {
    "duration": 27,
    "start_time": "2021-11-25T07:29:54.634Z"
   },
   {
    "duration": 3,
    "start_time": "2021-11-25T07:29:54.663Z"
   },
   {
    "duration": 20,
    "start_time": "2021-11-25T07:29:54.668Z"
   },
   {
    "duration": 9,
    "start_time": "2021-11-25T07:29:54.689Z"
   },
   {
    "duration": 29,
    "start_time": "2021-11-25T07:29:54.699Z"
   },
   {
    "duration": 18,
    "start_time": "2021-11-25T07:29:54.730Z"
   },
   {
    "duration": 24,
    "start_time": "2021-11-25T07:29:54.750Z"
   },
   {
    "duration": 67,
    "start_time": "2021-11-25T07:29:54.776Z"
   },
   {
    "duration": 73,
    "start_time": "2021-11-25T07:29:54.844Z"
   },
   {
    "duration": 51,
    "start_time": "2021-11-25T07:29:54.919Z"
   },
   {
    "duration": 20,
    "start_time": "2021-11-25T07:29:54.971Z"
   },
   {
    "duration": 3,
    "start_time": "2021-11-25T07:29:54.992Z"
   },
   {
    "duration": 27,
    "start_time": "2021-11-25T07:29:54.997Z"
   },
   {
    "duration": 8,
    "start_time": "2021-11-25T07:29:55.026Z"
   },
   {
    "duration": 17,
    "start_time": "2021-11-25T07:29:55.035Z"
   },
   {
    "duration": 9,
    "start_time": "2021-11-25T07:29:55.053Z"
   },
   {
    "duration": 26,
    "start_time": "2021-11-25T07:29:55.064Z"
   },
   {
    "duration": 20,
    "start_time": "2021-11-25T07:29:55.092Z"
   },
   {
    "duration": 13,
    "start_time": "2021-11-25T07:29:55.114Z"
   },
   {
    "duration": 13,
    "start_time": "2021-11-25T07:29:55.129Z"
   },
   {
    "duration": 12,
    "start_time": "2021-11-25T07:29:55.144Z"
   },
   {
    "duration": 44,
    "start_time": "2021-11-25T07:29:55.158Z"
   },
   {
    "duration": 12,
    "start_time": "2021-11-25T07:29:55.203Z"
   },
   {
    "duration": 8,
    "start_time": "2021-11-25T07:29:55.218Z"
   },
   {
    "duration": 12,
    "start_time": "2021-11-25T07:29:55.227Z"
   },
   {
    "duration": 10,
    "start_time": "2021-11-25T07:29:55.240Z"
   },
   {
    "duration": 4,
    "start_time": "2021-11-25T07:29:55.251Z"
   },
   {
    "duration": 44,
    "start_time": "2021-11-25T07:29:55.256Z"
   },
   {
    "duration": 13,
    "start_time": "2021-11-25T07:29:55.301Z"
   },
   {
    "duration": 17,
    "start_time": "2021-11-25T07:29:55.315Z"
   },
   {
    "duration": 12,
    "start_time": "2021-11-25T07:29:55.334Z"
   },
   {
    "duration": 2,
    "start_time": "2021-11-25T07:29:55.348Z"
   },
   {
    "duration": 3,
    "start_time": "2021-11-25T07:29:55.387Z"
   },
   {
    "duration": 10,
    "start_time": "2021-11-25T07:29:55.391Z"
   },
   {
    "duration": 4,
    "start_time": "2021-11-25T07:29:55.402Z"
   },
   {
    "duration": 509,
    "start_time": "2021-11-25T07:32:11.425Z"
   },
   {
    "duration": 128,
    "start_time": "2021-11-25T07:32:11.936Z"
   },
   {
    "duration": 16,
    "start_time": "2021-11-25T07:32:12.066Z"
   },
   {
    "duration": 23,
    "start_time": "2021-11-25T07:32:12.088Z"
   },
   {
    "duration": 3,
    "start_time": "2021-11-25T07:32:12.113Z"
   },
   {
    "duration": 6,
    "start_time": "2021-11-25T07:32:12.118Z"
   },
   {
    "duration": 8,
    "start_time": "2021-11-25T07:32:12.125Z"
   },
   {
    "duration": 24,
    "start_time": "2021-11-25T07:32:12.135Z"
   },
   {
    "duration": 42,
    "start_time": "2021-11-25T07:32:12.161Z"
   },
   {
    "duration": 19,
    "start_time": "2021-11-25T07:32:12.204Z"
   },
   {
    "duration": 63,
    "start_time": "2021-11-25T07:32:12.225Z"
   },
   {
    "duration": 60,
    "start_time": "2021-11-25T07:32:12.290Z"
   },
   {
    "duration": 58,
    "start_time": "2021-11-25T07:32:12.351Z"
   },
   {
    "duration": 6,
    "start_time": "2021-11-25T07:32:12.411Z"
   },
   {
    "duration": 3,
    "start_time": "2021-11-25T07:32:12.418Z"
   },
   {
    "duration": 21,
    "start_time": "2021-11-25T07:32:12.423Z"
   },
   {
    "duration": 6,
    "start_time": "2021-11-25T07:32:12.446Z"
   },
   {
    "duration": 9,
    "start_time": "2021-11-25T07:32:12.453Z"
   },
   {
    "duration": 9,
    "start_time": "2021-11-25T07:32:12.487Z"
   },
   {
    "duration": 3,
    "start_time": "2021-11-25T07:32:12.497Z"
   },
   {
    "duration": 24,
    "start_time": "2021-11-25T07:32:12.502Z"
   },
   {
    "duration": 11,
    "start_time": "2021-11-25T07:32:12.527Z"
   },
   {
    "duration": 11,
    "start_time": "2021-11-25T07:32:12.541Z"
   },
   {
    "duration": 34,
    "start_time": "2021-11-25T07:32:12.554Z"
   },
   {
    "duration": 14,
    "start_time": "2021-11-25T07:32:12.589Z"
   },
   {
    "duration": 12,
    "start_time": "2021-11-25T07:32:12.605Z"
   },
   {
    "duration": 8,
    "start_time": "2021-11-25T07:32:12.618Z"
   },
   {
    "duration": 17,
    "start_time": "2021-11-25T07:32:12.627Z"
   },
   {
    "duration": 9,
    "start_time": "2021-11-25T07:32:12.646Z"
   },
   {
    "duration": 4,
    "start_time": "2021-11-25T07:32:12.656Z"
   },
   {
    "duration": 38,
    "start_time": "2021-11-25T07:32:12.661Z"
   },
   {
    "duration": 11,
    "start_time": "2021-11-25T07:32:12.701Z"
   },
   {
    "duration": 15,
    "start_time": "2021-11-25T07:32:12.713Z"
   },
   {
    "duration": 11,
    "start_time": "2021-11-25T07:32:12.729Z"
   },
   {
    "duration": 7,
    "start_time": "2021-11-25T07:32:12.742Z"
   },
   {
    "duration": 3,
    "start_time": "2021-11-25T07:32:12.751Z"
   },
   {
    "duration": 6,
    "start_time": "2021-11-25T07:32:12.788Z"
   },
   {
    "duration": 4,
    "start_time": "2021-11-25T07:32:12.796Z"
   },
   {
    "duration": 3,
    "start_time": "2021-11-25T07:35:17.398Z"
   },
   {
    "duration": 866,
    "start_time": "2021-11-25T07:35:20.637Z"
   },
   {
    "duration": 3,
    "start_time": "2021-11-25T07:35:35.430Z"
   },
   {
    "duration": 3,
    "start_time": "2021-11-25T07:37:24.928Z"
   },
   {
    "duration": 521,
    "start_time": "2021-11-25T07:37:35.438Z"
   },
   {
    "duration": 128,
    "start_time": "2021-11-25T07:37:35.961Z"
   },
   {
    "duration": 15,
    "start_time": "2021-11-25T07:37:36.091Z"
   },
   {
    "duration": 24,
    "start_time": "2021-11-25T07:37:36.108Z"
   },
   {
    "duration": 5,
    "start_time": "2021-11-25T07:37:36.134Z"
   },
   {
    "duration": 5,
    "start_time": "2021-11-25T07:37:36.140Z"
   },
   {
    "duration": 7,
    "start_time": "2021-11-25T07:37:36.146Z"
   },
   {
    "duration": 39,
    "start_time": "2021-11-25T07:37:36.155Z"
   },
   {
    "duration": 17,
    "start_time": "2021-11-25T07:37:36.196Z"
   },
   {
    "duration": 24,
    "start_time": "2021-11-25T07:37:36.215Z"
   },
   {
    "duration": 66,
    "start_time": "2021-11-25T07:37:36.241Z"
   },
   {
    "duration": 61,
    "start_time": "2021-11-25T07:37:36.308Z"
   },
   {
    "duration": 61,
    "start_time": "2021-11-25T07:37:36.371Z"
   },
   {
    "duration": 7,
    "start_time": "2021-11-25T07:37:36.433Z"
   },
   {
    "duration": 11,
    "start_time": "2021-11-25T07:37:36.441Z"
   },
   {
    "duration": 22,
    "start_time": "2021-11-25T07:37:36.454Z"
   },
   {
    "duration": 16,
    "start_time": "2021-11-25T07:37:36.477Z"
   },
   {
    "duration": 14,
    "start_time": "2021-11-25T07:37:36.495Z"
   },
   {
    "duration": 12,
    "start_time": "2021-11-25T07:37:36.510Z"
   },
   {
    "duration": 4,
    "start_time": "2021-11-25T07:37:36.524Z"
   },
   {
    "duration": 30,
    "start_time": "2021-11-25T07:37:36.530Z"
   },
   {
    "duration": 12,
    "start_time": "2021-11-25T07:37:36.562Z"
   },
   {
    "duration": 13,
    "start_time": "2021-11-25T07:37:36.588Z"
   },
   {
    "duration": 11,
    "start_time": "2021-11-25T07:37:36.603Z"
   },
   {
    "duration": 15,
    "start_time": "2021-11-25T07:37:36.616Z"
   },
   {
    "duration": 14,
    "start_time": "2021-11-25T07:37:36.633Z"
   },
   {
    "duration": 42,
    "start_time": "2021-11-25T07:37:36.648Z"
   },
   {
    "duration": 16,
    "start_time": "2021-11-25T07:37:36.691Z"
   },
   {
    "duration": 10,
    "start_time": "2021-11-25T07:37:36.709Z"
   },
   {
    "duration": 4,
    "start_time": "2021-11-25T07:37:36.721Z"
   },
   {
    "duration": 21,
    "start_time": "2021-11-25T07:37:36.726Z"
   },
   {
    "duration": 12,
    "start_time": "2021-11-25T07:37:36.749Z"
   },
   {
    "duration": 37,
    "start_time": "2021-11-25T07:37:36.762Z"
   },
   {
    "duration": 12,
    "start_time": "2021-11-25T07:37:36.801Z"
   },
   {
    "duration": 9,
    "start_time": "2021-11-25T07:37:36.814Z"
   },
   {
    "duration": 4,
    "start_time": "2021-11-25T07:37:36.824Z"
   },
   {
    "duration": 13,
    "start_time": "2021-11-25T07:37:36.830Z"
   },
   {
    "duration": 6,
    "start_time": "2021-11-25T07:37:36.844Z"
   },
   {
    "duration": 3,
    "start_time": "2021-11-25T07:40:23.974Z"
   },
   {
    "duration": 4,
    "start_time": "2021-11-25T07:44:59.029Z"
   },
   {
    "duration": 582,
    "start_time": "2021-11-25T07:45:01.236Z"
   },
   {
    "duration": 518,
    "start_time": "2021-11-25T07:45:16.346Z"
   },
   {
    "duration": 125,
    "start_time": "2021-11-25T07:45:16.866Z"
   },
   {
    "duration": 17,
    "start_time": "2021-11-25T07:45:16.993Z"
   },
   {
    "duration": 24,
    "start_time": "2021-11-25T07:45:17.012Z"
   },
   {
    "duration": 3,
    "start_time": "2021-11-25T07:45:17.038Z"
   },
   {
    "duration": 4,
    "start_time": "2021-11-25T07:45:17.043Z"
   },
   {
    "duration": 7,
    "start_time": "2021-11-25T07:45:17.049Z"
   },
   {
    "duration": 49,
    "start_time": "2021-11-25T07:45:17.058Z"
   },
   {
    "duration": 15,
    "start_time": "2021-11-25T07:45:17.110Z"
   },
   {
    "duration": 23,
    "start_time": "2021-11-25T07:45:17.127Z"
   },
   {
    "duration": 69,
    "start_time": "2021-11-25T07:45:17.152Z"
   },
   {
    "duration": 66,
    "start_time": "2021-11-25T07:45:17.222Z"
   },
   {
    "duration": 47,
    "start_time": "2021-11-25T07:45:17.289Z"
   },
   {
    "duration": 6,
    "start_time": "2021-11-25T07:45:17.337Z"
   },
   {
    "duration": 3,
    "start_time": "2021-11-25T07:45:17.345Z"
   },
   {
    "duration": 42,
    "start_time": "2021-11-25T07:45:17.349Z"
   },
   {
    "duration": 6,
    "start_time": "2021-11-25T07:45:17.393Z"
   },
   {
    "duration": 13,
    "start_time": "2021-11-25T07:45:17.400Z"
   },
   {
    "duration": 8,
    "start_time": "2021-11-25T07:45:17.415Z"
   },
   {
    "duration": 3,
    "start_time": "2021-11-25T07:45:17.425Z"
   },
   {
    "duration": 23,
    "start_time": "2021-11-25T07:45:17.429Z"
   },
   {
    "duration": 14,
    "start_time": "2021-11-25T07:45:17.453Z"
   },
   {
    "duration": 14,
    "start_time": "2021-11-25T07:45:17.489Z"
   },
   {
    "duration": 13,
    "start_time": "2021-11-25T07:45:17.505Z"
   },
   {
    "duration": 15,
    "start_time": "2021-11-25T07:45:17.520Z"
   },
   {
    "duration": 14,
    "start_time": "2021-11-25T07:45:17.536Z"
   },
   {
    "duration": 41,
    "start_time": "2021-11-25T07:45:17.552Z"
   },
   {
    "duration": 12,
    "start_time": "2021-11-25T07:45:17.595Z"
   },
   {
    "duration": 9,
    "start_time": "2021-11-25T07:45:17.608Z"
   },
   {
    "duration": 4,
    "start_time": "2021-11-25T07:45:17.619Z"
   },
   {
    "duration": 19,
    "start_time": "2021-11-25T07:45:17.625Z"
   },
   {
    "duration": 11,
    "start_time": "2021-11-25T07:45:17.646Z"
   },
   {
    "duration": 39,
    "start_time": "2021-11-25T07:45:17.659Z"
   },
   {
    "duration": 13,
    "start_time": "2021-11-25T07:45:17.700Z"
   },
   {
    "duration": 9,
    "start_time": "2021-11-25T07:45:17.714Z"
   },
   {
    "duration": 4,
    "start_time": "2021-11-25T07:45:17.725Z"
   },
   {
    "duration": 7,
    "start_time": "2021-11-25T07:45:17.731Z"
   },
   {
    "duration": 4,
    "start_time": "2021-11-25T07:45:17.739Z"
   },
   {
    "duration": 528,
    "start_time": "2021-11-25T07:48:05.714Z"
   },
   {
    "duration": 118,
    "start_time": "2021-11-25T07:48:06.244Z"
   },
   {
    "duration": 15,
    "start_time": "2021-11-25T07:48:06.364Z"
   },
   {
    "duration": 96,
    "start_time": "2021-11-25T07:48:06.380Z"
   },
   {
    "duration": 7,
    "start_time": "2021-11-25T07:48:06.478Z"
   },
   {
    "duration": 6,
    "start_time": "2021-11-25T07:48:06.487Z"
   },
   {
    "duration": 6,
    "start_time": "2021-11-25T07:48:06.494Z"
   },
   {
    "duration": 21,
    "start_time": "2021-11-25T07:48:06.503Z"
   },
   {
    "duration": 18,
    "start_time": "2021-11-25T07:48:06.525Z"
   },
   {
    "duration": 20,
    "start_time": "2021-11-25T07:48:06.544Z"
   },
   {
    "duration": 60,
    "start_time": "2021-11-25T07:48:06.566Z"
   },
   {
    "duration": 68,
    "start_time": "2021-11-25T07:48:06.627Z"
   },
   {
    "duration": 47,
    "start_time": "2021-11-25T07:48:06.697Z"
   },
   {
    "duration": 5827,
    "start_time": "2021-11-25T07:48:06.746Z"
   },
   {
    "duration": 274955,
    "start_time": "2021-11-25T07:43:37.620Z"
   },
   {
    "duration": 274954,
    "start_time": "2021-11-25T07:43:37.622Z"
   },
   {
    "duration": 274945,
    "start_time": "2021-11-25T07:43:37.632Z"
   },
   {
    "duration": 274941,
    "start_time": "2021-11-25T07:43:37.636Z"
   },
   {
    "duration": 274939,
    "start_time": "2021-11-25T07:43:37.640Z"
   },
   {
    "duration": 274932,
    "start_time": "2021-11-25T07:43:37.648Z"
   },
   {
    "duration": 274929,
    "start_time": "2021-11-25T07:43:37.652Z"
   },
   {
    "duration": 274915,
    "start_time": "2021-11-25T07:43:37.666Z"
   },
   {
    "duration": 274913,
    "start_time": "2021-11-25T07:43:37.669Z"
   },
   {
    "duration": 274912,
    "start_time": "2021-11-25T07:43:37.671Z"
   },
   {
    "duration": 274910,
    "start_time": "2021-11-25T07:43:37.674Z"
   },
   {
    "duration": 274904,
    "start_time": "2021-11-25T07:43:37.682Z"
   },
   {
    "duration": 274901,
    "start_time": "2021-11-25T07:43:37.686Z"
   },
   {
    "duration": 274881,
    "start_time": "2021-11-25T07:43:37.706Z"
   },
   {
    "duration": 274879,
    "start_time": "2021-11-25T07:43:37.709Z"
   },
   {
    "duration": 274877,
    "start_time": "2021-11-25T07:43:37.712Z"
   },
   {
    "duration": 274871,
    "start_time": "2021-11-25T07:43:37.719Z"
   },
   {
    "duration": 274869,
    "start_time": "2021-11-25T07:43:37.722Z"
   },
   {
    "duration": 274866,
    "start_time": "2021-11-25T07:43:37.726Z"
   },
   {
    "duration": 274864,
    "start_time": "2021-11-25T07:43:37.729Z"
   },
   {
    "duration": 274862,
    "start_time": "2021-11-25T07:43:37.732Z"
   },
   {
    "duration": 274834,
    "start_time": "2021-11-25T07:43:37.761Z"
   },
   {
    "duration": 274825,
    "start_time": "2021-11-25T07:43:37.771Z"
   },
   {
    "duration": 274821,
    "start_time": "2021-11-25T07:43:37.776Z"
   },
   {
    "duration": 9,
    "start_time": "2021-11-25T07:48:34.505Z"
   },
   {
    "duration": 3,
    "start_time": "2021-11-25T07:48:48.089Z"
   },
   {
    "duration": 26,
    "start_time": "2021-11-25T07:48:54.587Z"
   },
   {
    "duration": 7,
    "start_time": "2021-11-25T07:49:00.242Z"
   },
   {
    "duration": 580,
    "start_time": "2021-11-25T07:50:00.861Z"
   },
   {
    "duration": 124,
    "start_time": "2021-11-25T07:50:01.443Z"
   },
   {
    "duration": 15,
    "start_time": "2021-11-25T07:50:01.569Z"
   },
   {
    "duration": 29,
    "start_time": "2021-11-25T07:50:01.588Z"
   },
   {
    "duration": 13,
    "start_time": "2021-11-25T07:50:01.619Z"
   },
   {
    "duration": 38,
    "start_time": "2021-11-25T07:50:01.633Z"
   },
   {
    "duration": 24,
    "start_time": "2021-11-25T07:50:01.672Z"
   },
   {
    "duration": 38,
    "start_time": "2021-11-25T07:50:01.699Z"
   },
   {
    "duration": 33,
    "start_time": "2021-11-25T07:50:01.740Z"
   },
   {
    "duration": 27,
    "start_time": "2021-11-25T07:50:01.775Z"
   },
   {
    "duration": 73,
    "start_time": "2021-11-25T07:50:01.804Z"
   },
   {
    "duration": 62,
    "start_time": "2021-11-25T07:50:01.879Z"
   },
   {
    "duration": 55,
    "start_time": "2021-11-25T07:50:01.943Z"
   },
   {
    "duration": 6,
    "start_time": "2021-11-25T07:50:01.999Z"
   },
   {
    "duration": 45,
    "start_time": "2021-11-25T07:50:02.007Z"
   },
   {
    "duration": 37,
    "start_time": "2021-11-25T07:50:02.053Z"
   },
   {
    "duration": 6,
    "start_time": "2021-11-25T07:50:02.092Z"
   },
   {
    "duration": 48,
    "start_time": "2021-11-25T07:50:02.099Z"
   },
   {
    "duration": 358,
    "start_time": "2021-11-25T07:50:02.149Z"
   },
   {
    "duration": 275041,
    "start_time": "2021-11-25T07:45:27.468Z"
   },
   {
    "duration": 275021,
    "start_time": "2021-11-25T07:45:27.489Z"
   },
   {
    "duration": 275014,
    "start_time": "2021-11-25T07:45:27.497Z"
   },
   {
    "duration": 275013,
    "start_time": "2021-11-25T07:45:27.499Z"
   },
   {
    "duration": 275012,
    "start_time": "2021-11-25T07:45:27.501Z"
   },
   {
    "duration": 275009,
    "start_time": "2021-11-25T07:45:27.504Z"
   },
   {
    "duration": 275009,
    "start_time": "2021-11-25T07:45:27.506Z"
   },
   {
    "duration": 275005,
    "start_time": "2021-11-25T07:45:27.510Z"
   },
   {
    "duration": 275004,
    "start_time": "2021-11-25T07:45:27.512Z"
   },
   {
    "duration": 275001,
    "start_time": "2021-11-25T07:45:27.516Z"
   },
   {
    "duration": 275000,
    "start_time": "2021-11-25T07:45:27.518Z"
   },
   {
    "duration": 274998,
    "start_time": "2021-11-25T07:45:27.521Z"
   },
   {
    "duration": 274996,
    "start_time": "2021-11-25T07:45:27.524Z"
   },
   {
    "duration": 274993,
    "start_time": "2021-11-25T07:45:27.527Z"
   },
   {
    "duration": 274992,
    "start_time": "2021-11-25T07:45:27.529Z"
   },
   {
    "duration": 274991,
    "start_time": "2021-11-25T07:45:27.531Z"
   },
   {
    "duration": 274990,
    "start_time": "2021-11-25T07:45:27.533Z"
   },
   {
    "duration": 274987,
    "start_time": "2021-11-25T07:45:27.536Z"
   },
   {
    "duration": 274986,
    "start_time": "2021-11-25T07:45:27.538Z"
   },
   {
    "duration": 9,
    "start_time": "2021-11-25T07:50:43.851Z"
   },
   {
    "duration": 901,
    "start_time": "2021-11-25T07:50:53.276Z"
   },
   {
    "duration": 118,
    "start_time": "2021-11-25T07:50:54.179Z"
   },
   {
    "duration": 15,
    "start_time": "2021-11-25T07:50:54.298Z"
   },
   {
    "duration": 22,
    "start_time": "2021-11-25T07:50:54.315Z"
   },
   {
    "duration": 3,
    "start_time": "2021-11-25T07:50:54.339Z"
   },
   {
    "duration": 5,
    "start_time": "2021-11-25T07:50:54.344Z"
   },
   {
    "duration": 6,
    "start_time": "2021-11-25T07:50:54.350Z"
   },
   {
    "duration": 42,
    "start_time": "2021-11-25T07:50:54.358Z"
   },
   {
    "duration": 20,
    "start_time": "2021-11-25T07:50:54.402Z"
   },
   {
    "duration": 37,
    "start_time": "2021-11-25T07:50:54.424Z"
   },
   {
    "duration": 86,
    "start_time": "2021-11-25T07:50:54.463Z"
   },
   {
    "duration": 97,
    "start_time": "2021-11-25T07:50:54.551Z"
   },
   {
    "duration": 67,
    "start_time": "2021-11-25T07:50:54.650Z"
   },
   {
    "duration": 6,
    "start_time": "2021-11-25T07:50:54.718Z"
   },
   {
    "duration": 7,
    "start_time": "2021-11-25T07:50:54.725Z"
   },
   {
    "duration": 28,
    "start_time": "2021-11-25T07:50:54.733Z"
   },
   {
    "duration": 5,
    "start_time": "2021-11-25T07:50:54.763Z"
   },
   {
    "duration": 22,
    "start_time": "2021-11-25T07:50:54.770Z"
   },
   {
    "duration": 8,
    "start_time": "2021-11-25T07:50:54.794Z"
   },
   {
    "duration": 3,
    "start_time": "2021-11-25T07:50:54.803Z"
   },
   {
    "duration": 21,
    "start_time": "2021-11-25T07:50:54.807Z"
   },
   {
    "duration": 13,
    "start_time": "2021-11-25T07:50:54.829Z"
   },
   {
    "duration": 12,
    "start_time": "2021-11-25T07:50:54.845Z"
   },
   {
    "duration": 34,
    "start_time": "2021-11-25T07:50:54.859Z"
   },
   {
    "duration": 22,
    "start_time": "2021-11-25T07:50:54.895Z"
   },
   {
    "duration": 13,
    "start_time": "2021-11-25T07:50:54.919Z"
   },
   {
    "duration": 14,
    "start_time": "2021-11-25T07:50:54.933Z"
   },
   {
    "duration": 13,
    "start_time": "2021-11-25T07:50:54.949Z"
   },
   {
    "duration": 23,
    "start_time": "2021-11-25T07:50:54.964Z"
   },
   {
    "duration": 7,
    "start_time": "2021-11-25T07:50:54.989Z"
   },
   {
    "duration": 25,
    "start_time": "2021-11-25T07:50:54.998Z"
   },
   {
    "duration": 17,
    "start_time": "2021-11-25T07:50:55.025Z"
   },
   {
    "duration": 25,
    "start_time": "2021-11-25T07:50:55.043Z"
   },
   {
    "duration": 17,
    "start_time": "2021-11-25T07:50:55.069Z"
   },
   {
    "duration": 10,
    "start_time": "2021-11-25T07:50:55.087Z"
   },
   {
    "duration": 8,
    "start_time": "2021-11-25T07:50:55.098Z"
   },
   {
    "duration": 20,
    "start_time": "2021-11-25T07:50:55.107Z"
   },
   {
    "duration": 13,
    "start_time": "2021-11-25T07:50:55.128Z"
   },
   {
    "duration": 3,
    "start_time": "2021-11-25T07:55:21.437Z"
   },
   {
    "duration": 14,
    "start_time": "2021-11-25T07:55:23.605Z"
   },
   {
    "duration": 13,
    "start_time": "2021-11-25T07:55:30.188Z"
   },
   {
    "duration": 13,
    "start_time": "2021-11-25T07:55:32.484Z"
   },
   {
    "duration": 13,
    "start_time": "2021-11-25T07:55:33.683Z"
   },
   {
    "duration": 20,
    "start_time": "2021-11-25T07:55:34.539Z"
   },
   {
    "duration": 557,
    "start_time": "2021-11-25T08:02:54.799Z"
   },
   {
    "duration": 148,
    "start_time": "2021-11-25T08:02:55.358Z"
   },
   {
    "duration": 19,
    "start_time": "2021-11-25T08:02:55.509Z"
   },
   {
    "duration": 27,
    "start_time": "2021-11-25T08:02:55.530Z"
   },
   {
    "duration": 4,
    "start_time": "2021-11-25T08:02:55.558Z"
   },
   {
    "duration": 5,
    "start_time": "2021-11-25T08:02:55.563Z"
   },
   {
    "duration": 20,
    "start_time": "2021-11-25T08:02:55.569Z"
   },
   {
    "duration": 20,
    "start_time": "2021-11-25T08:02:55.592Z"
   },
   {
    "duration": 14,
    "start_time": "2021-11-25T08:02:55.614Z"
   },
   {
    "duration": 21,
    "start_time": "2021-11-25T08:02:55.630Z"
   },
   {
    "duration": 72,
    "start_time": "2021-11-25T08:02:55.653Z"
   },
   {
    "duration": 69,
    "start_time": "2021-11-25T08:02:55.726Z"
   },
   {
    "duration": 46,
    "start_time": "2021-11-25T08:02:55.797Z"
   },
   {
    "duration": 6,
    "start_time": "2021-11-25T08:02:55.844Z"
   },
   {
    "duration": 3,
    "start_time": "2021-11-25T08:02:55.852Z"
   },
   {
    "duration": 46,
    "start_time": "2021-11-25T08:02:55.856Z"
   },
   {
    "duration": 6,
    "start_time": "2021-11-25T08:02:55.903Z"
   },
   {
    "duration": 11,
    "start_time": "2021-11-25T08:02:55.911Z"
   },
   {
    "duration": 8,
    "start_time": "2021-11-25T08:02:55.924Z"
   },
   {
    "duration": 2,
    "start_time": "2021-11-25T08:02:55.934Z"
   },
   {
    "duration": 18,
    "start_time": "2021-11-25T08:02:55.938Z"
   },
   {
    "duration": 31,
    "start_time": "2021-11-25T08:02:55.957Z"
   },
   {
    "duration": 12,
    "start_time": "2021-11-25T08:02:55.991Z"
   },
   {
    "duration": 12,
    "start_time": "2021-11-25T08:02:56.005Z"
   },
   {
    "duration": 13,
    "start_time": "2021-11-25T08:02:56.019Z"
   },
   {
    "duration": 13,
    "start_time": "2021-11-25T08:02:56.033Z"
   },
   {
    "duration": 8,
    "start_time": "2021-11-25T08:02:56.047Z"
   },
   {
    "duration": 10,
    "start_time": "2021-11-25T08:02:56.088Z"
   },
   {
    "duration": 8,
    "start_time": "2021-11-25T08:02:56.099Z"
   },
   {
    "duration": 4,
    "start_time": "2021-11-25T08:02:56.108Z"
   },
   {
    "duration": 19,
    "start_time": "2021-11-25T08:02:56.114Z"
   },
   {
    "duration": 11,
    "start_time": "2021-11-25T08:02:56.134Z"
   },
   {
    "duration": 14,
    "start_time": "2021-11-25T08:02:56.146Z"
   },
   {
    "duration": 36,
    "start_time": "2021-11-25T08:02:56.161Z"
   },
   {
    "duration": 7,
    "start_time": "2021-11-25T08:02:56.199Z"
   },
   {
    "duration": 3,
    "start_time": "2021-11-25T08:02:56.208Z"
   },
   {
    "duration": 10,
    "start_time": "2021-11-25T08:02:56.213Z"
   },
   {
    "duration": 4,
    "start_time": "2021-11-25T08:02:56.224Z"
   },
   {
    "duration": 150,
    "start_time": "2021-11-25T08:18:02.377Z"
   },
   {
    "duration": 456,
    "start_time": "2021-11-25T12:24:32.244Z"
   },
   {
    "duration": 830,
    "start_time": "2021-11-25T12:24:37.179Z"
   },
   {
    "duration": 190,
    "start_time": "2021-11-25T12:24:38.012Z"
   },
   {
    "duration": 26,
    "start_time": "2021-11-25T12:24:38.205Z"
   },
   {
    "duration": 63,
    "start_time": "2021-11-25T12:24:38.233Z"
   },
   {
    "duration": 6,
    "start_time": "2021-11-25T12:24:38.298Z"
   },
   {
    "duration": 4,
    "start_time": "2021-11-25T12:24:38.307Z"
   },
   {
    "duration": 8,
    "start_time": "2021-11-25T12:24:38.313Z"
   },
   {
    "duration": 32,
    "start_time": "2021-11-25T12:24:38.324Z"
   },
   {
    "duration": 65,
    "start_time": "2021-11-25T12:24:38.360Z"
   },
   {
    "duration": 33,
    "start_time": "2021-11-25T12:24:38.428Z"
   },
   {
    "duration": 113,
    "start_time": "2021-11-25T12:24:38.464Z"
   },
   {
    "duration": 109,
    "start_time": "2021-11-25T12:24:38.580Z"
   },
   {
    "duration": 83,
    "start_time": "2021-11-25T12:24:38.692Z"
   },
   {
    "duration": 24,
    "start_time": "2021-11-25T12:24:38.777Z"
   },
   {
    "duration": 4,
    "start_time": "2021-11-25T12:24:38.804Z"
   },
   {
    "duration": 39,
    "start_time": "2021-11-25T12:24:38.811Z"
   },
   {
    "duration": 9,
    "start_time": "2021-11-25T12:24:38.853Z"
   },
   {
    "duration": 45,
    "start_time": "2021-11-25T12:24:38.865Z"
   },
   {
    "duration": 14,
    "start_time": "2021-11-25T12:24:38.913Z"
   },
   {
    "duration": 7,
    "start_time": "2021-11-25T12:24:38.930Z"
   },
   {
    "duration": 31,
    "start_time": "2021-11-25T12:24:38.939Z"
   },
   {
    "duration": 45,
    "start_time": "2021-11-25T12:24:38.973Z"
   },
   {
    "duration": 26,
    "start_time": "2021-11-25T12:24:39.025Z"
   },
   {
    "duration": 50,
    "start_time": "2021-11-25T12:24:39.054Z"
   },
   {
    "duration": 23,
    "start_time": "2021-11-25T12:24:39.107Z"
   },
   {
    "duration": 24,
    "start_time": "2021-11-25T12:24:39.133Z"
   },
   {
    "duration": 47,
    "start_time": "2021-11-25T12:24:39.160Z"
   },
   {
    "duration": 20,
    "start_time": "2021-11-25T12:24:39.209Z"
   },
   {
    "duration": 12,
    "start_time": "2021-11-25T12:24:39.232Z"
   },
   {
    "duration": 5,
    "start_time": "2021-11-25T12:24:39.246Z"
   },
   {
    "duration": 58,
    "start_time": "2021-11-25T12:24:39.253Z"
   },
   {
    "duration": 20,
    "start_time": "2021-11-25T12:24:39.314Z"
   },
   {
    "duration": 26,
    "start_time": "2021-11-25T12:24:39.337Z"
   },
   {
    "duration": 51,
    "start_time": "2021-11-25T12:24:39.366Z"
   },
   {
    "duration": 15,
    "start_time": "2021-11-25T12:24:39.419Z"
   },
   {
    "duration": 11,
    "start_time": "2021-11-25T12:24:39.436Z"
   },
   {
    "duration": 18,
    "start_time": "2021-11-25T12:24:39.449Z"
   },
   {
    "duration": 33,
    "start_time": "2021-11-25T12:24:39.470Z"
   },
   {
    "duration": 826,
    "start_time": "2021-11-25T12:32:08.990Z"
   },
   {
    "duration": 219,
    "start_time": "2021-11-25T12:32:09.819Z"
   },
   {
    "duration": 26,
    "start_time": "2021-11-25T12:32:10.041Z"
   },
   {
    "duration": 63,
    "start_time": "2021-11-25T12:32:10.070Z"
   },
   {
    "duration": 5,
    "start_time": "2021-11-25T12:32:10.136Z"
   },
   {
    "duration": 5,
    "start_time": "2021-11-25T12:32:10.143Z"
   },
   {
    "duration": 7,
    "start_time": "2021-11-25T12:32:10.150Z"
   },
   {
    "duration": 67,
    "start_time": "2021-11-25T12:32:10.161Z"
   },
   {
    "duration": 28,
    "start_time": "2021-11-25T12:32:10.231Z"
   },
   {
    "duration": 62,
    "start_time": "2021-11-25T12:32:10.261Z"
   },
   {
    "duration": 99,
    "start_time": "2021-11-25T12:32:10.325Z"
   },
   {
    "duration": 122,
    "start_time": "2021-11-25T12:32:10.427Z"
   },
   {
    "duration": 95,
    "start_time": "2021-11-25T12:32:10.552Z"
   },
   {
    "duration": 10,
    "start_time": "2021-11-25T12:32:10.650Z"
   },
   {
    "duration": 12,
    "start_time": "2021-11-25T12:32:10.663Z"
   },
   {
    "duration": 67,
    "start_time": "2021-11-25T12:32:10.677Z"
   },
   {
    "duration": 11,
    "start_time": "2021-11-25T12:32:10.747Z"
   },
   {
    "duration": 30,
    "start_time": "2021-11-25T12:32:10.761Z"
   },
   {
    "duration": 24,
    "start_time": "2021-11-25T12:32:10.794Z"
   },
   {
    "duration": 5,
    "start_time": "2021-11-25T12:32:10.820Z"
   },
   {
    "duration": 30,
    "start_time": "2021-11-25T12:32:10.827Z"
   },
   {
    "duration": 61,
    "start_time": "2021-11-25T12:32:10.859Z"
   },
   {
    "duration": 20,
    "start_time": "2021-11-25T12:32:10.927Z"
   },
   {
    "duration": 23,
    "start_time": "2021-11-25T12:32:10.950Z"
   },
   {
    "duration": 50,
    "start_time": "2021-11-25T12:32:10.975Z"
   },
   {
    "duration": 19,
    "start_time": "2021-11-25T12:32:11.028Z"
   },
   {
    "duration": 16,
    "start_time": "2021-11-25T12:32:11.049Z"
   },
   {
    "duration": 50,
    "start_time": "2021-11-25T12:32:11.068Z"
   },
   {
    "duration": 12,
    "start_time": "2021-11-25T12:32:11.121Z"
   },
   {
    "duration": 6,
    "start_time": "2021-11-25T12:32:11.136Z"
   },
   {
    "duration": 28,
    "start_time": "2021-11-25T12:32:11.144Z"
   },
   {
    "duration": 50,
    "start_time": "2021-11-25T12:32:11.175Z"
   },
   {
    "duration": 27,
    "start_time": "2021-11-25T12:32:11.228Z"
   },
   {
    "duration": 55,
    "start_time": "2021-11-25T12:32:11.258Z"
   },
   {
    "duration": 13,
    "start_time": "2021-11-25T12:32:11.315Z"
   },
   {
    "duration": 8,
    "start_time": "2021-11-25T12:32:11.330Z"
   },
   {
    "duration": 12,
    "start_time": "2021-11-25T12:32:11.340Z"
   },
   {
    "duration": 8,
    "start_time": "2021-11-25T12:32:11.355Z"
   },
   {
    "duration": 169,
    "start_time": "2021-11-25T12:32:11.365Z"
   },
   {
    "duration": 115,
    "start_time": "2021-11-25T12:32:18.772Z"
   },
   {
    "duration": 124,
    "start_time": "2021-11-25T12:36:52.297Z"
   },
   {
    "duration": 427,
    "start_time": "2021-11-25T12:37:24.097Z"
   },
   {
    "duration": 359,
    "start_time": "2021-11-25T12:38:05.541Z"
   },
   {
    "duration": 40,
    "start_time": "2021-11-25T12:41:33.673Z"
   },
   {
    "duration": 127,
    "start_time": "2021-11-25T12:42:36.313Z"
   },
   {
    "duration": 35,
    "start_time": "2021-11-25T12:42:46.449Z"
   },
   {
    "duration": 861,
    "start_time": "2021-11-25T12:43:32.246Z"
   },
   {
    "duration": 191,
    "start_time": "2021-11-25T12:43:33.110Z"
   },
   {
    "duration": 29,
    "start_time": "2021-11-25T12:43:33.304Z"
   },
   {
    "duration": 33,
    "start_time": "2021-11-25T12:43:33.336Z"
   },
   {
    "duration": 35,
    "start_time": "2021-11-25T12:43:33.372Z"
   },
   {
    "duration": 45,
    "start_time": "2021-11-25T12:43:33.412Z"
   },
   {
    "duration": 6,
    "start_time": "2021-11-25T12:43:33.459Z"
   },
   {
    "duration": 80,
    "start_time": "2021-11-25T12:43:33.469Z"
   },
   {
    "duration": 8806,
    "start_time": "2021-11-25T12:43:33.552Z"
   },
   {
    "duration": 274980,
    "start_time": "2021-11-25T12:39:07.381Z"
   },
   {
    "duration": 274977,
    "start_time": "2021-11-25T12:39:07.385Z"
   },
   {
    "duration": 274976,
    "start_time": "2021-11-25T12:39:07.388Z"
   },
   {
    "duration": 274975,
    "start_time": "2021-11-25T12:39:07.390Z"
   },
   {
    "duration": 274974,
    "start_time": "2021-11-25T12:39:07.393Z"
   },
   {
    "duration": 274975,
    "start_time": "2021-11-25T12:39:07.395Z"
   },
   {
    "duration": 274974,
    "start_time": "2021-11-25T12:39:07.398Z"
   },
   {
    "duration": 274974,
    "start_time": "2021-11-25T12:39:07.400Z"
   },
   {
    "duration": 274973,
    "start_time": "2021-11-25T12:39:07.403Z"
   },
   {
    "duration": 274968,
    "start_time": "2021-11-25T12:39:07.410Z"
   },
   {
    "duration": 274968,
    "start_time": "2021-11-25T12:39:07.412Z"
   },
   {
    "duration": 274967,
    "start_time": "2021-11-25T12:39:07.415Z"
   },
   {
    "duration": 274967,
    "start_time": "2021-11-25T12:39:07.417Z"
   },
   {
    "duration": 274967,
    "start_time": "2021-11-25T12:39:07.419Z"
   },
   {
    "duration": 274966,
    "start_time": "2021-11-25T12:39:07.422Z"
   },
   {
    "duration": 274966,
    "start_time": "2021-11-25T12:39:07.424Z"
   },
   {
    "duration": 274965,
    "start_time": "2021-11-25T12:39:07.428Z"
   },
   {
    "duration": 274964,
    "start_time": "2021-11-25T12:39:07.431Z"
   },
   {
    "duration": 274955,
    "start_time": "2021-11-25T12:39:07.442Z"
   },
   {
    "duration": 274950,
    "start_time": "2021-11-25T12:39:07.449Z"
   },
   {
    "duration": 274948,
    "start_time": "2021-11-25T12:39:07.452Z"
   },
   {
    "duration": 274947,
    "start_time": "2021-11-25T12:39:07.454Z"
   },
   {
    "duration": 274946,
    "start_time": "2021-11-25T12:39:07.457Z"
   },
   {
    "duration": 274945,
    "start_time": "2021-11-25T12:39:07.459Z"
   },
   {
    "duration": 274943,
    "start_time": "2021-11-25T12:39:07.462Z"
   },
   {
    "duration": 274942,
    "start_time": "2021-11-25T12:39:07.464Z"
   },
   {
    "duration": 274941,
    "start_time": "2021-11-25T12:39:07.467Z"
   },
   {
    "duration": 274934,
    "start_time": "2021-11-25T12:39:07.476Z"
   },
   {
    "duration": 274928,
    "start_time": "2021-11-25T12:39:07.483Z"
   },
   {
    "duration": 805,
    "start_time": "2021-11-25T12:46:21.810Z"
   },
   {
    "duration": 213,
    "start_time": "2021-11-25T12:46:22.618Z"
   },
   {
    "duration": 25,
    "start_time": "2021-11-25T12:46:22.834Z"
   },
   {
    "duration": 57,
    "start_time": "2021-11-25T12:46:22.862Z"
   },
   {
    "duration": 5,
    "start_time": "2021-11-25T12:46:22.922Z"
   },
   {
    "duration": 44,
    "start_time": "2021-11-25T12:46:22.930Z"
   },
   {
    "duration": 33,
    "start_time": "2021-11-25T12:46:22.976Z"
   },
   {
    "duration": 32,
    "start_time": "2021-11-25T12:46:23.012Z"
   },
   {
    "duration": 8632,
    "start_time": "2021-11-25T12:46:23.049Z"
   },
   {
    "duration": 274992,
    "start_time": "2021-11-25T12:41:56.693Z"
   },
   {
    "duration": 274988,
    "start_time": "2021-11-25T12:41:56.698Z"
   },
   {
    "duration": 274986,
    "start_time": "2021-11-25T12:41:56.702Z"
   },
   {
    "duration": 274983,
    "start_time": "2021-11-25T12:41:56.706Z"
   },
   {
    "duration": 274981,
    "start_time": "2021-11-25T12:41:56.709Z"
   },
   {
    "duration": 274979,
    "start_time": "2021-11-25T12:41:56.713Z"
   },
   {
    "duration": 274976,
    "start_time": "2021-11-25T12:41:56.717Z"
   },
   {
    "duration": 274973,
    "start_time": "2021-11-25T12:41:56.721Z"
   },
   {
    "duration": 274970,
    "start_time": "2021-11-25T12:41:56.725Z"
   },
   {
    "duration": 274969,
    "start_time": "2021-11-25T12:41:56.728Z"
   },
   {
    "duration": 274967,
    "start_time": "2021-11-25T12:41:56.731Z"
   },
   {
    "duration": 274969,
    "start_time": "2021-11-25T12:41:56.733Z"
   },
   {
    "duration": 274966,
    "start_time": "2021-11-25T12:41:56.742Z"
   },
   {
    "duration": 274965,
    "start_time": "2021-11-25T12:41:56.745Z"
   },
   {
    "duration": 274963,
    "start_time": "2021-11-25T12:41:56.748Z"
   },
   {
    "duration": 274962,
    "start_time": "2021-11-25T12:41:56.751Z"
   },
   {
    "duration": 274961,
    "start_time": "2021-11-25T12:41:56.754Z"
   },
   {
    "duration": 274960,
    "start_time": "2021-11-25T12:41:56.757Z"
   },
   {
    "duration": 274959,
    "start_time": "2021-11-25T12:41:56.760Z"
   },
   {
    "duration": 274957,
    "start_time": "2021-11-25T12:41:56.763Z"
   },
   {
    "duration": 274956,
    "start_time": "2021-11-25T12:41:56.766Z"
   },
   {
    "duration": 274954,
    "start_time": "2021-11-25T12:41:56.769Z"
   },
   {
    "duration": 274951,
    "start_time": "2021-11-25T12:41:56.774Z"
   },
   {
    "duration": 274948,
    "start_time": "2021-11-25T12:41:56.778Z"
   },
   {
    "duration": 274945,
    "start_time": "2021-11-25T12:41:56.783Z"
   },
   {
    "duration": 274943,
    "start_time": "2021-11-25T12:41:56.787Z"
   },
   {
    "duration": 274941,
    "start_time": "2021-11-25T12:41:56.791Z"
   },
   {
    "duration": 274939,
    "start_time": "2021-11-25T12:41:56.794Z"
   },
   {
    "duration": 274933,
    "start_time": "2021-11-25T12:41:56.802Z"
   },
   {
    "duration": 106,
    "start_time": "2021-11-25T12:53:17.482Z"
   },
   {
    "duration": 123,
    "start_time": "2021-11-25T12:53:23.220Z"
   },
   {
    "duration": 763,
    "start_time": "2021-11-25T12:53:38.937Z"
   },
   {
    "duration": 193,
    "start_time": "2021-11-25T12:53:39.703Z"
   },
   {
    "duration": 26,
    "start_time": "2021-11-25T12:53:39.901Z"
   },
   {
    "duration": 35,
    "start_time": "2021-11-25T12:53:39.931Z"
   },
   {
    "duration": 35,
    "start_time": "2021-11-25T12:53:39.969Z"
   },
   {
    "duration": 56,
    "start_time": "2021-11-25T12:53:40.007Z"
   },
   {
    "duration": 5,
    "start_time": "2021-11-25T12:53:40.065Z"
   },
   {
    "duration": 50,
    "start_time": "2021-11-25T12:53:40.074Z"
   },
   {
    "duration": 9008,
    "start_time": "2021-11-25T12:53:40.128Z"
   },
   {
    "duration": 275009,
    "start_time": "2021-11-25T12:49:14.130Z"
   },
   {
    "duration": 275006,
    "start_time": "2021-11-25T12:49:14.135Z"
   },
   {
    "duration": 275005,
    "start_time": "2021-11-25T12:49:14.137Z"
   },
   {
    "duration": 275003,
    "start_time": "2021-11-25T12:49:14.140Z"
   },
   {
    "duration": 275001,
    "start_time": "2021-11-25T12:49:14.144Z"
   },
   {
    "duration": 274999,
    "start_time": "2021-11-25T12:49:14.147Z"
   },
   {
    "duration": 274999,
    "start_time": "2021-11-25T12:49:14.149Z"
   },
   {
    "duration": 274996,
    "start_time": "2021-11-25T12:49:14.153Z"
   },
   {
    "duration": 274994,
    "start_time": "2021-11-25T12:49:14.156Z"
   },
   {
    "duration": 274992,
    "start_time": "2021-11-25T12:49:14.160Z"
   },
   {
    "duration": 274990,
    "start_time": "2021-11-25T12:49:14.163Z"
   },
   {
    "duration": 274983,
    "start_time": "2021-11-25T12:49:14.172Z"
   },
   {
    "duration": 274979,
    "start_time": "2021-11-25T12:49:14.177Z"
   },
   {
    "duration": 274976,
    "start_time": "2021-11-25T12:49:14.181Z"
   },
   {
    "duration": 274973,
    "start_time": "2021-11-25T12:49:14.185Z"
   },
   {
    "duration": 274971,
    "start_time": "2021-11-25T12:49:14.188Z"
   },
   {
    "duration": 274969,
    "start_time": "2021-11-25T12:49:14.192Z"
   },
   {
    "duration": 274966,
    "start_time": "2021-11-25T12:49:14.196Z"
   },
   {
    "duration": 274964,
    "start_time": "2021-11-25T12:49:14.200Z"
   },
   {
    "duration": 274961,
    "start_time": "2021-11-25T12:49:14.204Z"
   },
   {
    "duration": 274959,
    "start_time": "2021-11-25T12:49:14.208Z"
   },
   {
    "duration": 274956,
    "start_time": "2021-11-25T12:49:14.212Z"
   },
   {
    "duration": 274948,
    "start_time": "2021-11-25T12:49:14.221Z"
   },
   {
    "duration": 274945,
    "start_time": "2021-11-25T12:49:14.226Z"
   },
   {
    "duration": 274942,
    "start_time": "2021-11-25T12:49:14.230Z"
   },
   {
    "duration": 274940,
    "start_time": "2021-11-25T12:49:14.234Z"
   },
   {
    "duration": 274939,
    "start_time": "2021-11-25T12:49:14.236Z"
   },
   {
    "duration": 274961,
    "start_time": "2021-11-25T12:49:14.239Z"
   },
   {
    "duration": 274960,
    "start_time": "2021-11-25T12:49:14.242Z"
   },
   {
    "duration": 399,
    "start_time": "2021-11-25T12:54:15.650Z"
   },
   {
    "duration": 117,
    "start_time": "2021-11-25T12:55:29.523Z"
   },
   {
    "duration": 407,
    "start_time": "2021-11-25T12:56:07.403Z"
   },
   {
    "duration": 455,
    "start_time": "2021-11-25T12:57:29.730Z"
   },
   {
    "duration": 9,
    "start_time": "2021-11-25T12:57:41.844Z"
   },
   {
    "duration": 352,
    "start_time": "2021-11-25T13:00:24.050Z"
   },
   {
    "duration": 350,
    "start_time": "2021-11-25T13:00:38.865Z"
   },
   {
    "duration": 352,
    "start_time": "2021-11-25T13:00:56.867Z"
   },
   {
    "duration": 350,
    "start_time": "2021-11-25T13:01:40.265Z"
   },
   {
    "duration": 740,
    "start_time": "2021-11-25T13:02:01.993Z"
   },
   {
    "duration": 342,
    "start_time": "2021-11-25T13:02:52.633Z"
   },
   {
    "duration": 340,
    "start_time": "2021-11-25T13:03:02.241Z"
   },
   {
    "duration": 338,
    "start_time": "2021-11-25T13:03:13.418Z"
   },
   {
    "duration": 339,
    "start_time": "2021-11-25T13:03:20.553Z"
   },
   {
    "duration": 114,
    "start_time": "2021-11-25T13:03:34.497Z"
   },
   {
    "duration": 384,
    "start_time": "2021-11-25T13:03:47.729Z"
   },
   {
    "duration": 367,
    "start_time": "2021-11-25T13:04:07.346Z"
   },
   {
    "duration": 8,
    "start_time": "2021-11-25T13:04:44.443Z"
   },
   {
    "duration": 387,
    "start_time": "2021-11-25T13:05:06.568Z"
   },
   {
    "duration": 329,
    "start_time": "2021-11-25T13:06:33.954Z"
   },
   {
    "duration": 71,
    "start_time": "2021-11-25T13:08:10.283Z"
   },
   {
    "duration": 8319,
    "start_time": "2021-11-25T13:10:49.696Z"
   },
   {
    "duration": 275014,
    "start_time": "2021-11-25T13:06:23.004Z"
   },
   {
    "duration": 9402,
    "start_time": "2021-11-25T13:11:13.775Z"
   },
   {
    "duration": 38,
    "start_time": "2021-11-25T13:11:35.649Z"
   },
   {
    "duration": 37,
    "start_time": "2021-11-25T13:11:49.103Z"
   },
   {
    "duration": 9818,
    "start_time": "2021-11-25T13:12:26.872Z"
   },
   {
    "duration": 9295,
    "start_time": "2021-11-25T13:20:17.693Z"
   },
   {
    "duration": 8812,
    "start_time": "2021-11-25T13:31:56.675Z"
   },
   {
    "duration": 8885,
    "start_time": "2021-11-25T13:32:59.299Z"
   },
   {
    "duration": 37,
    "start_time": "2021-11-25T13:33:47.625Z"
   },
   {
    "duration": 6,
    "start_time": "2021-11-25T13:34:00.945Z"
   },
   {
    "duration": 37,
    "start_time": "2021-11-25T13:34:38.042Z"
   },
   {
    "duration": 5,
    "start_time": "2021-11-25T13:34:41.657Z"
   },
   {
    "duration": 37,
    "start_time": "2021-11-25T13:35:22.483Z"
   },
   {
    "duration": 6,
    "start_time": "2021-11-25T13:35:27.666Z"
   },
   {
    "duration": 826,
    "start_time": "2021-11-25T13:35:44.197Z"
   },
   {
    "duration": 209,
    "start_time": "2021-11-25T13:35:45.026Z"
   },
   {
    "duration": 26,
    "start_time": "2021-11-25T13:35:45.238Z"
   },
   {
    "duration": 51,
    "start_time": "2021-11-25T13:35:45.267Z"
   },
   {
    "duration": 5,
    "start_time": "2021-11-25T13:35:45.322Z"
   },
   {
    "duration": 41,
    "start_time": "2021-11-25T13:35:45.329Z"
   },
   {
    "duration": 31,
    "start_time": "2021-11-25T13:35:45.373Z"
   },
   {
    "duration": 40,
    "start_time": "2021-11-25T13:35:45.409Z"
   },
   {
    "duration": 9978,
    "start_time": "2021-11-25T13:35:45.453Z"
   },
   {
    "duration": 274989,
    "start_time": "2021-11-25T13:31:20.445Z"
   },
   {
    "duration": 274986,
    "start_time": "2021-11-25T13:31:20.450Z"
   },
   {
    "duration": 274977,
    "start_time": "2021-11-25T13:31:20.460Z"
   },
   {
    "duration": 274975,
    "start_time": "2021-11-25T13:31:20.464Z"
   },
   {
    "duration": 274971,
    "start_time": "2021-11-25T13:31:20.469Z"
   },
   {
    "duration": 274965,
    "start_time": "2021-11-25T13:31:20.477Z"
   },
   {
    "duration": 274962,
    "start_time": "2021-11-25T13:31:20.481Z"
   },
   {
    "duration": 274962,
    "start_time": "2021-11-25T13:31:20.483Z"
   },
   {
    "duration": 274952,
    "start_time": "2021-11-25T13:31:20.494Z"
   },
   {
    "duration": 274950,
    "start_time": "2021-11-25T13:31:20.498Z"
   },
   {
    "duration": 274947,
    "start_time": "2021-11-25T13:31:20.502Z"
   },
   {
    "duration": 274938,
    "start_time": "2021-11-25T13:31:20.512Z"
   },
   {
    "duration": 274937,
    "start_time": "2021-11-25T13:31:20.515Z"
   },
   {
    "duration": 274935,
    "start_time": "2021-11-25T13:31:20.518Z"
   },
   {
    "duration": 274927,
    "start_time": "2021-11-25T13:31:20.527Z"
   },
   {
    "duration": 274925,
    "start_time": "2021-11-25T13:31:20.531Z"
   },
   {
    "duration": 274924,
    "start_time": "2021-11-25T13:31:20.534Z"
   },
   {
    "duration": 274917,
    "start_time": "2021-11-25T13:31:20.543Z"
   },
   {
    "duration": 274913,
    "start_time": "2021-11-25T13:31:20.548Z"
   },
   {
    "duration": 274912,
    "start_time": "2021-11-25T13:31:20.551Z"
   },
   {
    "duration": 274909,
    "start_time": "2021-11-25T13:31:20.555Z"
   },
   {
    "duration": 274908,
    "start_time": "2021-11-25T13:31:20.558Z"
   },
   {
    "duration": 274907,
    "start_time": "2021-11-25T13:31:20.560Z"
   },
   {
    "duration": 274906,
    "start_time": "2021-11-25T13:31:20.563Z"
   },
   {
    "duration": 274904,
    "start_time": "2021-11-25T13:31:20.566Z"
   },
   {
    "duration": 274903,
    "start_time": "2021-11-25T13:31:20.569Z"
   },
   {
    "duration": 274900,
    "start_time": "2021-11-25T13:31:20.573Z"
   },
   {
    "duration": 274898,
    "start_time": "2021-11-25T13:31:20.576Z"
   },
   {
    "duration": 274894,
    "start_time": "2021-11-25T13:31:20.581Z"
   },
   {
    "duration": 40,
    "start_time": "2021-11-25T13:40:06.355Z"
   },
   {
    "duration": 7,
    "start_time": "2021-11-25T13:40:09.836Z"
   },
   {
    "duration": 890,
    "start_time": "2021-11-25T13:40:16.924Z"
   },
   {
    "duration": 218,
    "start_time": "2021-11-25T13:40:17.817Z"
   },
   {
    "duration": 28,
    "start_time": "2021-11-25T13:40:18.038Z"
   },
   {
    "duration": 65,
    "start_time": "2021-11-25T13:40:18.069Z"
   },
   {
    "duration": 5,
    "start_time": "2021-11-25T13:40:18.137Z"
   },
   {
    "duration": 78,
    "start_time": "2021-11-25T13:40:18.145Z"
   },
   {
    "duration": 5,
    "start_time": "2021-11-25T13:40:18.226Z"
   },
   {
    "duration": 35,
    "start_time": "2021-11-25T13:40:18.235Z"
   },
   {
    "duration": 8793,
    "start_time": "2021-11-25T13:40:18.274Z"
   },
   {
    "duration": 275008,
    "start_time": "2021-11-25T13:35:52.062Z"
   },
   {
    "duration": 275004,
    "start_time": "2021-11-25T13:35:52.067Z"
   },
   {
    "duration": 275002,
    "start_time": "2021-11-25T13:35:52.071Z"
   },
   {
    "duration": 275000,
    "start_time": "2021-11-25T13:35:52.074Z"
   },
   {
    "duration": 274998,
    "start_time": "2021-11-25T13:35:52.077Z"
   },
   {
    "duration": 274994,
    "start_time": "2021-11-25T13:35:52.084Z"
   },
   {
    "duration": 274992,
    "start_time": "2021-11-25T13:35:52.087Z"
   },
   {
    "duration": 274990,
    "start_time": "2021-11-25T13:35:52.090Z"
   },
   {
    "duration": 274989,
    "start_time": "2021-11-25T13:35:52.093Z"
   },
   {
    "duration": 274988,
    "start_time": "2021-11-25T13:35:52.095Z"
   },
   {
    "duration": 274986,
    "start_time": "2021-11-25T13:35:52.099Z"
   },
   {
    "duration": 274983,
    "start_time": "2021-11-25T13:35:52.103Z"
   },
   {
    "duration": 274981,
    "start_time": "2021-11-25T13:35:52.106Z"
   },
   {
    "duration": 274973,
    "start_time": "2021-11-25T13:35:52.115Z"
   },
   {
    "duration": 274970,
    "start_time": "2021-11-25T13:35:52.120Z"
   },
   {
    "duration": 274967,
    "start_time": "2021-11-25T13:35:52.124Z"
   },
   {
    "duration": 274967,
    "start_time": "2021-11-25T13:35:52.128Z"
   },
   {
    "duration": 274966,
    "start_time": "2021-11-25T13:35:52.131Z"
   },
   {
    "duration": 274969,
    "start_time": "2021-11-25T13:35:52.134Z"
   },
   {
    "duration": 274971,
    "start_time": "2021-11-25T13:35:52.137Z"
   },
   {
    "duration": 274966,
    "start_time": "2021-11-25T13:35:52.144Z"
   },
   {
    "duration": 274966,
    "start_time": "2021-11-25T13:35:52.147Z"
   },
   {
    "duration": 274966,
    "start_time": "2021-11-25T13:35:52.149Z"
   },
   {
    "duration": 274964,
    "start_time": "2021-11-25T13:35:52.153Z"
   },
   {
    "duration": 274963,
    "start_time": "2021-11-25T13:35:52.157Z"
   },
   {
    "duration": 274961,
    "start_time": "2021-11-25T13:35:52.161Z"
   },
   {
    "duration": 274959,
    "start_time": "2021-11-25T13:35:52.165Z"
   },
   {
    "duration": 274959,
    "start_time": "2021-11-25T13:35:52.168Z"
   },
   {
    "duration": 274957,
    "start_time": "2021-11-25T13:35:52.172Z"
   },
   {
    "duration": 4,
    "start_time": "2021-11-25T13:45:48.355Z"
   },
   {
    "duration": 6,
    "start_time": "2021-11-25T13:45:51.773Z"
   },
   {
    "duration": 136,
    "start_time": "2021-11-25T13:48:24.171Z"
   },
   {
    "duration": 393,
    "start_time": "2021-11-25T13:48:44.411Z"
   },
   {
    "duration": 340,
    "start_time": "2021-11-25T13:49:37.141Z"
   },
   {
    "duration": 147,
    "start_time": "2021-11-25T13:52:31.749Z"
   },
   {
    "duration": 347,
    "start_time": "2021-11-25T13:52:36.051Z"
   },
   {
    "duration": 339,
    "start_time": "2021-11-25T13:52:53.923Z"
   },
   {
    "duration": 5,
    "start_time": "2021-11-25T13:55:49.249Z"
   },
   {
    "duration": 9,
    "start_time": "2021-11-25T13:55:55.209Z"
   },
   {
    "duration": 365,
    "start_time": "2021-11-25T13:56:11.337Z"
   },
   {
    "duration": 1506,
    "start_time": "2021-11-25T13:56:44.850Z"
   },
   {
    "duration": 6,
    "start_time": "2021-11-25T13:57:14.305Z"
   },
   {
    "duration": 31,
    "start_time": "2021-11-25T13:57:54.226Z"
   },
   {
    "duration": 54,
    "start_time": "2021-11-25T13:57:58.378Z"
   },
   {
    "duration": 380,
    "start_time": "2021-11-25T14:01:54.896Z"
   },
   {
    "duration": 770,
    "start_time": "2021-11-25T14:02:25.040Z"
   },
   {
    "duration": 194,
    "start_time": "2021-11-25T14:02:25.814Z"
   },
   {
    "duration": 27,
    "start_time": "2021-11-25T14:02:26.011Z"
   },
   {
    "duration": 36,
    "start_time": "2021-11-25T14:02:26.041Z"
   },
   {
    "duration": 30,
    "start_time": "2021-11-25T14:02:26.080Z"
   },
   {
    "duration": 6,
    "start_time": "2021-11-25T14:02:26.113Z"
   },
   {
    "duration": 12,
    "start_time": "2021-11-25T14:02:26.122Z"
   },
   {
    "duration": 34,
    "start_time": "2021-11-25T14:02:26.139Z"
   },
   {
    "duration": 28,
    "start_time": "2021-11-25T14:02:26.206Z"
   },
   {
    "duration": 39,
    "start_time": "2021-11-25T14:02:26.236Z"
   },
   {
    "duration": 112,
    "start_time": "2021-11-25T14:02:26.277Z"
   },
   {
    "duration": 119,
    "start_time": "2021-11-25T14:02:26.392Z"
   },
   {
    "duration": 94,
    "start_time": "2021-11-25T14:02:26.513Z"
   },
   {
    "duration": 66,
    "start_time": "2021-11-25T14:02:26.609Z"
   },
   {
    "duration": 4,
    "start_time": "2021-11-25T14:02:26.677Z"
   },
   {
    "duration": 54,
    "start_time": "2021-11-25T14:02:26.683Z"
   },
   {
    "duration": 11,
    "start_time": "2021-11-25T14:02:26.739Z"
   },
   {
    "duration": 15,
    "start_time": "2021-11-25T14:02:26.753Z"
   },
   {
    "duration": 25,
    "start_time": "2021-11-25T14:02:26.800Z"
   },
   {
    "duration": 7,
    "start_time": "2021-11-25T14:02:26.828Z"
   },
   {
    "duration": 37,
    "start_time": "2021-11-25T14:02:26.837Z"
   },
   {
    "duration": 40,
    "start_time": "2021-11-25T14:02:26.877Z"
   },
   {
    "duration": 20,
    "start_time": "2021-11-25T14:02:26.922Z"
   },
   {
    "duration": 37,
    "start_time": "2021-11-25T14:02:26.944Z"
   },
   {
    "duration": 24,
    "start_time": "2021-11-25T14:02:27.009Z"
   },
   {
    "duration": 18,
    "start_time": "2021-11-25T14:02:27.036Z"
   },
   {
    "duration": 121,
    "start_time": "2021-11-25T14:02:27.057Z"
   },
   {
    "duration": 27,
    "start_time": "2021-11-25T14:02:27.181Z"
   },
   {
    "duration": 15,
    "start_time": "2021-11-25T14:02:27.211Z"
   },
   {
    "duration": 7,
    "start_time": "2021-11-25T14:02:27.229Z"
   },
   {
    "duration": 63,
    "start_time": "2021-11-25T14:02:27.239Z"
   },
   {
    "duration": 24,
    "start_time": "2021-11-25T14:02:27.305Z"
   },
   {
    "duration": 24,
    "start_time": "2021-11-25T14:02:27.332Z"
   },
   {
    "duration": 51,
    "start_time": "2021-11-25T14:02:27.358Z"
   },
   {
    "duration": 12,
    "start_time": "2021-11-25T14:02:27.413Z"
   },
   {
    "duration": 9,
    "start_time": "2021-11-25T14:02:27.427Z"
   },
   {
    "duration": 11,
    "start_time": "2021-11-25T14:02:27.438Z"
   },
   {
    "duration": 7,
    "start_time": "2021-11-25T14:02:27.451Z"
   },
   {
    "duration": 109,
    "start_time": "2021-11-25T14:04:35.349Z"
   },
   {
    "duration": 121,
    "start_time": "2021-11-25T14:04:51.748Z"
   },
   {
    "duration": 123,
    "start_time": "2021-11-25T14:05:03.207Z"
   },
   {
    "duration": 123,
    "start_time": "2021-11-25T14:05:52.127Z"
   },
   {
    "duration": 131,
    "start_time": "2021-11-25T14:06:10.209Z"
   },
   {
    "duration": 112,
    "start_time": "2021-11-25T14:06:23.327Z"
   },
   {
    "duration": 121,
    "start_time": "2021-11-25T14:06:38.095Z"
   },
   {
    "duration": 117,
    "start_time": "2021-11-25T14:07:12.431Z"
   },
   {
    "duration": 69,
    "start_time": "2021-11-25T14:08:56.872Z"
   },
   {
    "duration": 332,
    "start_time": "2021-11-25T16:44:02.120Z"
   },
   {
    "duration": 299,
    "start_time": "2021-11-25T16:44:08.164Z"
   },
   {
    "duration": 289,
    "start_time": "2021-11-25T16:44:13.763Z"
   },
   {
    "duration": 273,
    "start_time": "2021-11-25T16:44:53.956Z"
   },
   {
    "duration": 296,
    "start_time": "2021-11-25T16:45:01.968Z"
   },
   {
    "duration": 299,
    "start_time": "2021-11-25T16:45:14.127Z"
   },
   {
    "duration": 814,
    "start_time": "2021-11-25T16:45:47.154Z"
   },
   {
    "duration": 221,
    "start_time": "2021-11-25T16:45:47.975Z"
   },
   {
    "duration": 29,
    "start_time": "2021-11-25T16:45:48.200Z"
   },
   {
    "duration": 52,
    "start_time": "2021-11-25T16:45:48.232Z"
   },
   {
    "duration": 6,
    "start_time": "2021-11-25T16:45:48.286Z"
   },
   {
    "duration": 29,
    "start_time": "2021-11-25T16:45:48.295Z"
   },
   {
    "duration": 42,
    "start_time": "2021-11-25T16:45:48.329Z"
   },
   {
    "duration": 33,
    "start_time": "2021-11-25T16:45:48.376Z"
   },
   {
    "duration": 56,
    "start_time": "2021-11-25T16:45:48.412Z"
   },
   {
    "duration": 42,
    "start_time": "2021-11-25T16:45:48.471Z"
   },
   {
    "duration": 107,
    "start_time": "2021-11-25T16:45:48.516Z"
   },
   {
    "duration": 111,
    "start_time": "2021-11-25T16:45:48.625Z"
   },
   {
    "duration": 88,
    "start_time": "2021-11-25T16:45:48.738Z"
   },
   {
    "duration": 67,
    "start_time": "2021-11-25T16:45:48.829Z"
   },
   {
    "duration": 4,
    "start_time": "2021-11-25T16:45:48.899Z"
   },
   {
    "duration": 37,
    "start_time": "2021-11-25T16:45:48.905Z"
   },
   {
    "duration": 78,
    "start_time": "2021-11-25T16:45:48.944Z"
   },
   {
    "duration": 14,
    "start_time": "2021-11-25T16:45:49.024Z"
   },
   {
    "duration": 37,
    "start_time": "2021-11-25T16:45:49.040Z"
   },
   {
    "duration": 5,
    "start_time": "2021-11-25T16:45:49.079Z"
   },
   {
    "duration": 22,
    "start_time": "2021-11-25T16:45:49.087Z"
   },
   {
    "duration": 18,
    "start_time": "2021-11-25T16:45:49.114Z"
   },
   {
    "duration": 50,
    "start_time": "2021-11-25T16:45:49.135Z"
   },
   {
    "duration": 19,
    "start_time": "2021-11-25T16:45:49.188Z"
   },
   {
    "duration": 21,
    "start_time": "2021-11-25T16:45:49.209Z"
   },
   {
    "duration": 20,
    "start_time": "2021-11-25T16:45:49.267Z"
   },
   {
    "duration": 114,
    "start_time": "2021-11-25T16:45:49.289Z"
   },
   {
    "duration": 15,
    "start_time": "2021-11-25T16:45:49.406Z"
   },
   {
    "duration": 12,
    "start_time": "2021-11-25T16:45:49.424Z"
   },
   {
    "duration": 28,
    "start_time": "2021-11-25T16:45:49.439Z"
   },
   {
    "duration": 31,
    "start_time": "2021-11-25T16:45:49.470Z"
   },
   {
    "duration": 17,
    "start_time": "2021-11-25T16:45:49.504Z"
   },
   {
    "duration": 50,
    "start_time": "2021-11-25T16:45:49.523Z"
   },
   {
    "duration": 18,
    "start_time": "2021-11-25T16:45:49.575Z"
   },
   {
    "duration": 11,
    "start_time": "2021-11-25T16:45:49.595Z"
   },
   {
    "duration": 6,
    "start_time": "2021-11-25T16:45:49.609Z"
   },
   {
    "duration": 12,
    "start_time": "2021-11-25T16:45:49.617Z"
   },
   {
    "duration": 7,
    "start_time": "2021-11-25T16:45:49.668Z"
   },
   {
    "duration": 370,
    "start_time": "2021-11-25T16:48:31.828Z"
   },
   {
    "duration": 261,
    "start_time": "2021-11-25T16:48:45.385Z"
   },
   {
    "duration": 7195,
    "start_time": "2021-11-25T16:48:59.918Z"
   },
   {
    "duration": 7279,
    "start_time": "2021-11-25T16:50:10.114Z"
   },
   {
    "duration": 41,
    "start_time": "2021-11-25T16:51:04.914Z"
   },
   {
    "duration": 28,
    "start_time": "2021-11-25T16:51:12.573Z"
   },
   {
    "duration": 780,
    "start_time": "2021-11-25T16:51:21.335Z"
   },
   {
    "duration": 197,
    "start_time": "2021-11-25T16:51:22.117Z"
   },
   {
    "duration": 26,
    "start_time": "2021-11-25T16:51:22.317Z"
   },
   {
    "duration": 42,
    "start_time": "2021-11-25T16:51:22.346Z"
   },
   {
    "duration": 6,
    "start_time": "2021-11-25T16:51:22.391Z"
   },
   {
    "duration": 27,
    "start_time": "2021-11-25T16:51:22.400Z"
   },
   {
    "duration": 37,
    "start_time": "2021-11-25T16:51:22.429Z"
   },
   {
    "duration": 29,
    "start_time": "2021-11-25T16:51:22.470Z"
   },
   {
    "duration": 68,
    "start_time": "2021-11-25T16:51:22.503Z"
   },
   {
    "duration": 30,
    "start_time": "2021-11-25T16:51:22.574Z"
   },
   {
    "duration": 99,
    "start_time": "2021-11-25T16:51:22.607Z"
   },
   {
    "duration": 115,
    "start_time": "2021-11-25T16:51:22.708Z"
   },
   {
    "duration": 91,
    "start_time": "2021-11-25T16:51:22.826Z"
   },
   {
    "duration": 66,
    "start_time": "2021-11-25T16:51:22.919Z"
   },
   {
    "duration": 5,
    "start_time": "2021-11-25T16:51:22.987Z"
   },
   {
    "duration": 40,
    "start_time": "2021-11-25T16:51:22.994Z"
   },
   {
    "duration": 78,
    "start_time": "2021-11-25T16:51:23.036Z"
   },
   {
    "duration": 14,
    "start_time": "2021-11-25T16:51:23.117Z"
   },
   {
    "duration": 39,
    "start_time": "2021-11-25T16:51:23.133Z"
   },
   {
    "duration": 5,
    "start_time": "2021-11-25T16:51:23.175Z"
   },
   {
    "duration": 27,
    "start_time": "2021-11-25T16:51:23.182Z"
   },
   {
    "duration": 17,
    "start_time": "2021-11-25T16:51:23.212Z"
   },
   {
    "duration": 51,
    "start_time": "2021-11-25T16:51:23.234Z"
   },
   {
    "duration": 18,
    "start_time": "2021-11-25T16:51:23.288Z"
   },
   {
    "duration": 20,
    "start_time": "2021-11-25T16:51:23.309Z"
   },
   {
    "duration": 46,
    "start_time": "2021-11-25T16:51:23.332Z"
   },
   {
    "duration": 114,
    "start_time": "2021-11-25T16:51:23.380Z"
   },
   {
    "duration": 15,
    "start_time": "2021-11-25T16:51:23.496Z"
   },
   {
    "duration": 12,
    "start_time": "2021-11-25T16:51:23.513Z"
   },
   {
    "duration": 5,
    "start_time": "2021-11-25T16:51:23.528Z"
   },
   {
    "duration": 57,
    "start_time": "2021-11-25T16:51:23.536Z"
   },
   {
    "duration": 16,
    "start_time": "2021-11-25T16:51:23.595Z"
   },
   {
    "duration": 23,
    "start_time": "2021-11-25T16:51:23.614Z"
   },
   {
    "duration": 42,
    "start_time": "2021-11-25T16:51:23.639Z"
   },
   {
    "duration": 11,
    "start_time": "2021-11-25T16:51:23.684Z"
   },
   {
    "duration": 6,
    "start_time": "2021-11-25T16:51:23.697Z"
   },
   {
    "duration": 14,
    "start_time": "2021-11-25T16:51:23.706Z"
   },
   {
    "duration": 45,
    "start_time": "2021-11-25T16:51:23.722Z"
   },
   {
    "duration": 431,
    "start_time": "2021-11-25T16:53:10.341Z"
   },
   {
    "duration": 41,
    "start_time": "2021-11-25T16:53:38.211Z"
   },
   {
    "duration": 734,
    "start_time": "2021-11-25T16:53:48.804Z"
   },
   {
    "duration": 193,
    "start_time": "2021-11-25T16:53:49.541Z"
   },
   {
    "duration": 35,
    "start_time": "2021-11-25T16:53:49.738Z"
   },
   {
    "duration": 35,
    "start_time": "2021-11-25T16:53:49.776Z"
   },
   {
    "duration": 6,
    "start_time": "2021-11-25T16:53:49.813Z"
   },
   {
    "duration": 56,
    "start_time": "2021-11-25T16:53:49.821Z"
   },
   {
    "duration": 11,
    "start_time": "2021-11-25T16:53:49.879Z"
   },
   {
    "duration": 32,
    "start_time": "2021-11-25T16:53:49.895Z"
   },
   {
    "duration": 65,
    "start_time": "2021-11-25T16:53:49.930Z"
   },
   {
    "duration": 30,
    "start_time": "2021-11-25T16:53:49.998Z"
   },
   {
    "duration": 113,
    "start_time": "2021-11-25T16:53:50.031Z"
   },
   {
    "duration": 136,
    "start_time": "2021-11-25T16:53:50.146Z"
   },
   {
    "duration": 85,
    "start_time": "2021-11-25T16:53:50.284Z"
   },
   {
    "duration": 60,
    "start_time": "2021-11-25T16:53:50.372Z"
   },
   {
    "duration": 33,
    "start_time": "2021-11-25T16:53:50.435Z"
   },
   {
    "duration": 38,
    "start_time": "2021-11-25T16:53:50.471Z"
   },
   {
    "duration": 75,
    "start_time": "2021-11-25T16:53:50.512Z"
   },
   {
    "duration": 14,
    "start_time": "2021-11-25T16:53:50.590Z"
   },
   {
    "duration": 14,
    "start_time": "2021-11-25T16:53:50.606Z"
   },
   {
    "duration": 6,
    "start_time": "2021-11-25T16:53:50.622Z"
   },
   {
    "duration": 55,
    "start_time": "2021-11-25T16:53:50.630Z"
   },
   {
    "duration": 17,
    "start_time": "2021-11-25T16:53:50.688Z"
   },
   {
    "duration": 19,
    "start_time": "2021-11-25T16:53:50.710Z"
   },
   {
    "duration": 74,
    "start_time": "2021-11-25T16:53:50.732Z"
   },
   {
    "duration": 34,
    "start_time": "2021-11-25T16:53:50.816Z"
   },
   {
    "duration": 27,
    "start_time": "2021-11-25T16:53:50.853Z"
   },
   {
    "duration": 115,
    "start_time": "2021-11-25T16:53:50.883Z"
   },
   {
    "duration": 13,
    "start_time": "2021-11-25T16:53:51.000Z"
   },
   {
    "duration": 12,
    "start_time": "2021-11-25T16:53:51.016Z"
   },
   {
    "duration": 16,
    "start_time": "2021-11-25T16:53:51.031Z"
   },
   {
    "duration": 29,
    "start_time": "2021-11-25T16:53:51.067Z"
   },
   {
    "duration": 19,
    "start_time": "2021-11-25T16:53:51.099Z"
   },
   {
    "duration": 47,
    "start_time": "2021-11-25T16:53:51.121Z"
   },
   {
    "duration": 19,
    "start_time": "2021-11-25T16:53:51.170Z"
   },
   {
    "duration": 11,
    "start_time": "2021-11-25T16:53:51.191Z"
   },
   {
    "duration": 6,
    "start_time": "2021-11-25T16:53:51.205Z"
   },
   {
    "duration": 10,
    "start_time": "2021-11-25T16:53:51.214Z"
   },
   {
    "duration": 43,
    "start_time": "2021-11-25T16:53:51.227Z"
   },
   {
    "duration": 777,
    "start_time": "2021-11-25T16:55:23.953Z"
   },
   {
    "duration": 195,
    "start_time": "2021-11-25T16:55:24.732Z"
   },
   {
    "duration": 26,
    "start_time": "2021-11-25T16:55:24.930Z"
   },
   {
    "duration": 33,
    "start_time": "2021-11-25T16:55:24.968Z"
   },
   {
    "duration": 7,
    "start_time": "2021-11-25T16:55:25.003Z"
   },
   {
    "duration": 54,
    "start_time": "2021-11-25T16:55:25.013Z"
   },
   {
    "duration": 5,
    "start_time": "2021-11-25T16:55:25.070Z"
   },
   {
    "duration": 46,
    "start_time": "2021-11-25T16:55:25.078Z"
   },
   {
    "duration": 59,
    "start_time": "2021-11-25T16:55:25.128Z"
   },
   {
    "duration": 30,
    "start_time": "2021-11-25T16:55:25.190Z"
   },
   {
    "duration": 109,
    "start_time": "2021-11-25T16:55:25.222Z"
   },
   {
    "duration": 111,
    "start_time": "2021-11-25T16:55:25.333Z"
   },
   {
    "duration": 90,
    "start_time": "2021-11-25T16:55:25.447Z"
   },
   {
    "duration": 68,
    "start_time": "2021-11-25T16:55:25.540Z"
   },
   {
    "duration": 5,
    "start_time": "2021-11-25T16:55:25.610Z"
   },
   {
    "duration": 63,
    "start_time": "2021-11-25T16:55:25.617Z"
   },
   {
    "duration": 62,
    "start_time": "2021-11-25T16:55:25.683Z"
   },
   {
    "duration": 39,
    "start_time": "2021-11-25T16:55:25.748Z"
   },
   {
    "duration": 15,
    "start_time": "2021-11-25T16:55:25.790Z"
   },
   {
    "duration": 5,
    "start_time": "2021-11-25T16:55:25.808Z"
   },
   {
    "duration": 57,
    "start_time": "2021-11-25T16:55:25.816Z"
   },
   {
    "duration": 19,
    "start_time": "2021-11-25T16:55:25.876Z"
   },
   {
    "duration": 19,
    "start_time": "2021-11-25T16:55:25.900Z"
   },
   {
    "duration": 54,
    "start_time": "2021-11-25T16:55:25.922Z"
   },
   {
    "duration": 24,
    "start_time": "2021-11-25T16:55:25.979Z"
   },
   {
    "duration": 21,
    "start_time": "2021-11-25T16:55:26.005Z"
   },
   {
    "duration": 138,
    "start_time": "2021-11-25T16:55:26.029Z"
   },
   {
    "duration": 17,
    "start_time": "2021-11-25T16:55:26.171Z"
   },
   {
    "duration": 14,
    "start_time": "2021-11-25T16:55:26.191Z"
   },
   {
    "duration": 8,
    "start_time": "2021-11-25T16:55:26.208Z"
   },
   {
    "duration": 74,
    "start_time": "2021-11-25T16:55:26.219Z"
   },
   {
    "duration": 21,
    "start_time": "2021-11-25T16:55:26.296Z"
   },
   {
    "duration": 24,
    "start_time": "2021-11-25T16:55:26.319Z"
   },
   {
    "duration": 18,
    "start_time": "2021-11-25T16:55:26.367Z"
   },
   {
    "duration": 11,
    "start_time": "2021-11-25T16:55:26.388Z"
   },
   {
    "duration": 6,
    "start_time": "2021-11-25T16:55:26.402Z"
   },
   {
    "duration": 13,
    "start_time": "2021-11-25T16:55:26.411Z"
   },
   {
    "duration": 43,
    "start_time": "2021-11-25T16:55:26.426Z"
   }
  ],
  "colab": {
   "collapsed_sections": [
    "E0vqbgi9ay0H",
    "VUC88oWjTJw2"
   ],
   "name": "yandex_music_project_2021.2.ipynb",
   "provenance": []
  },
  "kernelspec": {
   "display_name": "Python 3 (ipykernel)",
   "language": "python",
   "name": "python3"
  },
  "language_info": {
   "codemirror_mode": {
    "name": "ipython",
    "version": 3
   },
   "file_extension": ".py",
   "mimetype": "text/x-python",
   "name": "python",
   "nbconvert_exporter": "python",
   "pygments_lexer": "ipython3",
   "version": "3.9.5"
  },
  "toc": {
   "base_numbering": 1,
   "nav_menu": {},
   "number_sections": true,
   "sideBar": true,
   "skip_h1_title": true,
   "title_cell": "Table of Contents",
   "title_sidebar": "Contents",
   "toc_cell": false,
   "toc_position": {},
   "toc_section_display": true,
   "toc_window_display": true
  }
 },
 "nbformat": 4,
 "nbformat_minor": 1
}
