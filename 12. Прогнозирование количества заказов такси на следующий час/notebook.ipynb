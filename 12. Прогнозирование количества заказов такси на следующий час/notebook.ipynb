{
 "cells": [
  {
   "cell_type": "markdown",
   "metadata": {
    "toc": true
   },
   "source": [
    "<h1>Содержание<span class=\"tocSkip\"></span></h1>\n",
    "<div class=\"toc\"><ul class=\"toc-item\"><li><ul class=\"toc-item\"><li><ul class=\"toc-item\"><li><span><a href=\"#Полезные-ссылки:\" data-toc-modified-id=\"Полезные-ссылки:-0.0.1\"><span class=\"toc-item-num\">0.0.1&nbsp;&nbsp;</span><font color=\"orange\">Полезные ссылки:</font></a></span></li></ul></li><li><span><a href=\"#Общее-впечатление\" data-toc-modified-id=\"Общее-впечатление-0.1\"><span class=\"toc-item-num\">0.1&nbsp;&nbsp;</span><font color=\"orange\">Общее впечатление</font></a></span></li><li><span><a href=\"#Общее-впечатление-(ревью-2)\" data-toc-modified-id=\"Общее-впечатление-(ревью-2)-0.2\"><span class=\"toc-item-num\">0.2&nbsp;&nbsp;</span><font color=\"orange\">Общее впечатление (ревью 2)</font></a></span></li></ul></li><li><span><a href=\"#Подготовка\" data-toc-modified-id=\"Подготовка-1\"><span class=\"toc-item-num\">1&nbsp;&nbsp;</span>Подготовка</a></span></li><li><span><a href=\"#Анализ\" data-toc-modified-id=\"Анализ-2\"><span class=\"toc-item-num\">2&nbsp;&nbsp;</span>Анализ</a></span></li><li><span><a href=\"#Обучение\" data-toc-modified-id=\"Обучение-3\"><span class=\"toc-item-num\">3&nbsp;&nbsp;</span>Обучение</a></span><ul class=\"toc-item\"><li><span><a href=\"#LinearRegression\" data-toc-modified-id=\"LinearRegression-3.1\"><span class=\"toc-item-num\">3.1&nbsp;&nbsp;</span>LinearRegression</a></span></li><li><span><a href=\"#KNeighborsRegressor\" data-toc-modified-id=\"KNeighborsRegressor-3.2\"><span class=\"toc-item-num\">3.2&nbsp;&nbsp;</span>KNeighborsRegressor</a></span></li><li><span><a href=\"#LinearSVR\" data-toc-modified-id=\"LinearSVR-3.3\"><span class=\"toc-item-num\">3.3&nbsp;&nbsp;</span>LinearSVR</a></span></li><li><span><a href=\"#GradientBoostingRegressor\" data-toc-modified-id=\"GradientBoostingRegressor-3.4\"><span class=\"toc-item-num\">3.4&nbsp;&nbsp;</span>GradientBoostingRegressor</a></span></li><li><span><a href=\"#CatBoostRegressor\" data-toc-modified-id=\"CatBoostRegressor-3.5\"><span class=\"toc-item-num\">3.5&nbsp;&nbsp;</span>CatBoostRegressor</a></span></li></ul></li><li><span><a href=\"#Тестирование\" data-toc-modified-id=\"Тестирование-4\"><span class=\"toc-item-num\">4&nbsp;&nbsp;</span>Тестирование</a></span><ul class=\"toc-item\"><li><span><a href=\"#LinearRegression\" data-toc-modified-id=\"LinearRegression-4.1\"><span class=\"toc-item-num\">4.1&nbsp;&nbsp;</span>LinearRegression</a></span></li><li><span><a href=\"#KNeighborsRegressor\" data-toc-modified-id=\"KNeighborsRegressor-4.2\"><span class=\"toc-item-num\">4.2&nbsp;&nbsp;</span>KNeighborsRegressor</a></span></li><li><span><a href=\"#LinearSVR\" data-toc-modified-id=\"LinearSVR-4.3\"><span class=\"toc-item-num\">4.3&nbsp;&nbsp;</span>LinearSVR</a></span></li><li><span><a href=\"#GradientBoostingRegressor\" data-toc-modified-id=\"GradientBoostingRegressor-4.4\"><span class=\"toc-item-num\">4.4&nbsp;&nbsp;</span>GradientBoostingRegressor</a></span></li><li><span><a href=\"#CatBoostRegressor\" data-toc-modified-id=\"CatBoostRegressor-4.5\"><span class=\"toc-item-num\">4.5&nbsp;&nbsp;</span>CatBoostRegressor</a></span></li></ul></li><li><span><a href=\"#Вывод-проекта\" data-toc-modified-id=\"Вывод-проекта-5\"><span class=\"toc-item-num\">5&nbsp;&nbsp;</span>Вывод проекта</a></span></li><li><span><a href=\"#Чек-лист-проверки\" data-toc-modified-id=\"Чек-лист-проверки-6\"><span class=\"toc-item-num\">6&nbsp;&nbsp;</span>Чек-лист проверки</a></span></li></ul></div>"
   ]
  },
  {
   "cell_type": "markdown",
   "metadata": {},
   "source": [
    "#  Прогнозирование заказов такси"
   ]
  },
  {
   "cell_type": "markdown",
   "metadata": {},
   "source": [
    "Компания «Чётенькое такси» собрала исторические данные о заказах такси в аэропортах. Чтобы привлекать больше водителей в период пиковой нагрузки, нужно спрогнозировать количество заказов такси на следующий час. Постройте модель для такого предсказания.\n",
    "\n",
    "Значение метрики *RMSE* на тестовой выборке должно быть не больше 48.\n",
    "\n",
    "Вам нужно:\n",
    "\n",
    "1. Загрузить данные и выполнить их ресемплирование по одному часу.\n",
    "2. Проанализировать данные.\n",
    "3. Обучить разные модели с различными гиперпараметрами. Сделать тестовую выборку размером 10% от исходных данных.\n",
    "4. Проверить данные на тестовой выборке и сделать выводы.\n",
    "\n",
    "\n",
    "Данные лежат в файле `taxi.csv`. Количество заказов находится в столбце `num_orders` (от англ. *number of orders*, «число заказов»)."
   ]
  },
  {
   "cell_type": "markdown",
   "metadata": {},
   "source": [
    "## Подготовка"
   ]
  },
  {
   "cell_type": "code",
   "execution_count": 1,
   "metadata": {},
   "outputs": [],
   "source": [
    "import numpy as np\n",
    "import pandas as pd \n",
    "import IPython\n",
    "from IPython.display import display\n",
    "import warnings\n",
    "warnings.simplefilter('ignore')\n",
    "import seaborn as sns\n",
    "import matplotlib.pyplot as plt\n",
    "import matplotlib.style as style\n",
    "from statsmodels.tsa.seasonal import seasonal_decompose\n",
    "from sklearn.metrics import mean_squared_error, mean_absolute_error\n",
    "from sklearn.model_selection import train_test_split, cross_validate, cross_val_score, GridSearchCV, RandomizedSearchCV\n",
    "from sklearn.model_selection import TimeSeriesSplit\n",
    "from sklearn.preprocessing import StandardScaler, MinMaxScaler\n",
    "from sklearn.dummy import DummyRegressor\n",
    "from sklearn.linear_model import LinearRegression\n",
    "from sklearn.ensemble import GradientBoostingRegressor\n",
    "from sklearn.neighbors import KNeighborsRegressor\n",
    "from sklearn.svm import LinearSVR\n",
    "from catboost import CatBoostRegressor, Pool\n",
    "import xgboost as xgb"
   ]
  },
  {
   "cell_type": "code",
   "execution_count": 2,
   "metadata": {},
   "outputs": [],
   "source": [
    "df = pd.read_csv('/datasets/taxi.csv', index_col=[0], parse_dates=[0])"
   ]
  },
  {
   "cell_type": "code",
   "execution_count": 3,
   "metadata": {},
   "outputs": [
    {
     "data": {
      "text/html": [
       "<div>\n",
       "<style scoped>\n",
       "    .dataframe tbody tr th:only-of-type {\n",
       "        vertical-align: middle;\n",
       "    }\n",
       "\n",
       "    .dataframe tbody tr th {\n",
       "        vertical-align: top;\n",
       "    }\n",
       "\n",
       "    .dataframe thead th {\n",
       "        text-align: right;\n",
       "    }\n",
       "</style>\n",
       "<table border=\"1\" class=\"dataframe\">\n",
       "  <thead>\n",
       "    <tr style=\"text-align: right;\">\n",
       "      <th></th>\n",
       "      <th>num_orders</th>\n",
       "    </tr>\n",
       "    <tr>\n",
       "      <th>datetime</th>\n",
       "      <th></th>\n",
       "    </tr>\n",
       "  </thead>\n",
       "  <tbody>\n",
       "    <tr>\n",
       "      <th>2018-03-01 00:00:00</th>\n",
       "      <td>9</td>\n",
       "    </tr>\n",
       "    <tr>\n",
       "      <th>2018-03-01 00:10:00</th>\n",
       "      <td>14</td>\n",
       "    </tr>\n",
       "    <tr>\n",
       "      <th>2018-03-01 00:20:00</th>\n",
       "      <td>28</td>\n",
       "    </tr>\n",
       "    <tr>\n",
       "      <th>2018-03-01 00:30:00</th>\n",
       "      <td>20</td>\n",
       "    </tr>\n",
       "    <tr>\n",
       "      <th>2018-03-01 00:40:00</th>\n",
       "      <td>32</td>\n",
       "    </tr>\n",
       "    <tr>\n",
       "      <th>...</th>\n",
       "      <td>...</td>\n",
       "    </tr>\n",
       "    <tr>\n",
       "      <th>2018-08-31 23:10:00</th>\n",
       "      <td>32</td>\n",
       "    </tr>\n",
       "    <tr>\n",
       "      <th>2018-08-31 23:20:00</th>\n",
       "      <td>24</td>\n",
       "    </tr>\n",
       "    <tr>\n",
       "      <th>2018-08-31 23:30:00</th>\n",
       "      <td>27</td>\n",
       "    </tr>\n",
       "    <tr>\n",
       "      <th>2018-08-31 23:40:00</th>\n",
       "      <td>39</td>\n",
       "    </tr>\n",
       "    <tr>\n",
       "      <th>2018-08-31 23:50:00</th>\n",
       "      <td>53</td>\n",
       "    </tr>\n",
       "  </tbody>\n",
       "</table>\n",
       "<p>26496 rows × 1 columns</p>\n",
       "</div>"
      ],
      "text/plain": [
       "                     num_orders\n",
       "datetime                       \n",
       "2018-03-01 00:00:00           9\n",
       "2018-03-01 00:10:00          14\n",
       "2018-03-01 00:20:00          28\n",
       "2018-03-01 00:30:00          20\n",
       "2018-03-01 00:40:00          32\n",
       "...                         ...\n",
       "2018-08-31 23:10:00          32\n",
       "2018-08-31 23:20:00          24\n",
       "2018-08-31 23:30:00          27\n",
       "2018-08-31 23:40:00          39\n",
       "2018-08-31 23:50:00          53\n",
       "\n",
       "[26496 rows x 1 columns]"
      ]
     },
     "metadata": {},
     "output_type": "display_data"
    }
   ],
   "source": [
    "display(df)"
   ]
  },
  {
   "cell_type": "code",
   "execution_count": 4,
   "metadata": {},
   "outputs": [
    {
     "name": "stdout",
     "output_type": "stream",
     "text": [
      "<class 'pandas.core.frame.DataFrame'>\n",
      "DatetimeIndex: 26496 entries, 2018-03-01 00:00:00 to 2018-08-31 23:50:00\n",
      "Data columns (total 1 columns):\n",
      " #   Column      Non-Null Count  Dtype\n",
      "---  ------      --------------  -----\n",
      " 0   num_orders  26496 non-null  int64\n",
      "dtypes: int64(1)\n",
      "memory usage: 414.0 KB\n"
     ]
    }
   ],
   "source": [
    "df.info()"
   ]
  },
  {
   "cell_type": "markdown",
   "metadata": {},
   "source": [
    "Датасет содержит 26496 значений. Временной интревал наблюдений составляет 10 минут.\n",
    "Пропущенных значений нет.\n",
    "При первичном анализе установлено, что временной промежуток данных длится с 1 марта 2018 года по 31 августа 2018 года. \n",
    "Проверю хронологичность записи данных."
   ]
  },
  {
   "cell_type": "code",
   "execution_count": 5,
   "metadata": {},
   "outputs": [
    {
     "data": {
      "text/plain": [
       "True"
      ]
     },
     "execution_count": 5,
     "metadata": {},
     "output_type": "execute_result"
    }
   ],
   "source": [
    "df.index.is_monotonic == True"
   ]
  },
  {
   "cell_type": "markdown",
   "metadata": {},
   "source": [
    "Данные записаны последовательно. Выполню ресемплирование в соответствии с заданием"
   ]
  },
  {
   "cell_type": "code",
   "execution_count": 6,
   "metadata": {},
   "outputs": [
    {
     "data": {
      "text/html": [
       "<div>\n",
       "<style scoped>\n",
       "    .dataframe tbody tr th:only-of-type {\n",
       "        vertical-align: middle;\n",
       "    }\n",
       "\n",
       "    .dataframe tbody tr th {\n",
       "        vertical-align: top;\n",
       "    }\n",
       "\n",
       "    .dataframe thead th {\n",
       "        text-align: right;\n",
       "    }\n",
       "</style>\n",
       "<table border=\"1\" class=\"dataframe\">\n",
       "  <thead>\n",
       "    <tr style=\"text-align: right;\">\n",
       "      <th></th>\n",
       "      <th>num_orders</th>\n",
       "    </tr>\n",
       "    <tr>\n",
       "      <th>datetime</th>\n",
       "      <th></th>\n",
       "    </tr>\n",
       "  </thead>\n",
       "  <tbody>\n",
       "    <tr>\n",
       "      <th>2018-03-01 00:00:00</th>\n",
       "      <td>124</td>\n",
       "    </tr>\n",
       "    <tr>\n",
       "      <th>2018-03-01 01:00:00</th>\n",
       "      <td>85</td>\n",
       "    </tr>\n",
       "    <tr>\n",
       "      <th>2018-03-01 02:00:00</th>\n",
       "      <td>71</td>\n",
       "    </tr>\n",
       "    <tr>\n",
       "      <th>2018-03-01 03:00:00</th>\n",
       "      <td>66</td>\n",
       "    </tr>\n",
       "    <tr>\n",
       "      <th>2018-03-01 04:00:00</th>\n",
       "      <td>43</td>\n",
       "    </tr>\n",
       "  </tbody>\n",
       "</table>\n",
       "</div>"
      ],
      "text/plain": [
       "                     num_orders\n",
       "datetime                       \n",
       "2018-03-01 00:00:00         124\n",
       "2018-03-01 01:00:00          85\n",
       "2018-03-01 02:00:00          71\n",
       "2018-03-01 03:00:00          66\n",
       "2018-03-01 04:00:00          43"
      ]
     },
     "execution_count": 6,
     "metadata": {},
     "output_type": "execute_result"
    }
   ],
   "source": [
    "df = df.resample('1H').sum()\n",
    "df.head()"
   ]
  },
  {
   "cell_type": "markdown",
   "metadata": {},
   "source": [
    "**Вывод:**\n",
    "1. Данные загружены и изучены.\n",
    "2. Данные в датасете записаны с интервалом в 10 минут в хронологическом порядке.\n",
    "3. Выполнено ресемплирование по 1 часу в соответствии с заданием.\n",
    "4. Пропусков и аномалий в данных не обнаружено."
   ]
  },
  {
   "cell_type": "markdown",
   "metadata": {},
   "source": [
    "## Анализ"
   ]
  },
  {
   "cell_type": "code",
   "execution_count": 7,
   "metadata": {},
   "outputs": [
    {
     "data": {
      "text/html": [
       "<div>\n",
       "<style scoped>\n",
       "    .dataframe tbody tr th:only-of-type {\n",
       "        vertical-align: middle;\n",
       "    }\n",
       "\n",
       "    .dataframe tbody tr th {\n",
       "        vertical-align: top;\n",
       "    }\n",
       "\n",
       "    .dataframe thead th {\n",
       "        text-align: right;\n",
       "    }\n",
       "</style>\n",
       "<table border=\"1\" class=\"dataframe\">\n",
       "  <thead>\n",
       "    <tr style=\"text-align: right;\">\n",
       "      <th></th>\n",
       "      <th>num_orders</th>\n",
       "    </tr>\n",
       "    <tr>\n",
       "      <th>datetime</th>\n",
       "      <th></th>\n",
       "    </tr>\n",
       "  </thead>\n",
       "  <tbody>\n",
       "    <tr>\n",
       "      <th>2018-03-01 00:00:00</th>\n",
       "      <td>124</td>\n",
       "    </tr>\n",
       "    <tr>\n",
       "      <th>2018-03-01 01:00:00</th>\n",
       "      <td>85</td>\n",
       "    </tr>\n",
       "    <tr>\n",
       "      <th>2018-03-01 02:00:00</th>\n",
       "      <td>71</td>\n",
       "    </tr>\n",
       "    <tr>\n",
       "      <th>2018-03-01 03:00:00</th>\n",
       "      <td>66</td>\n",
       "    </tr>\n",
       "    <tr>\n",
       "      <th>2018-03-01 04:00:00</th>\n",
       "      <td>43</td>\n",
       "    </tr>\n",
       "    <tr>\n",
       "      <th>2018-03-01 05:00:00</th>\n",
       "      <td>6</td>\n",
       "    </tr>\n",
       "    <tr>\n",
       "      <th>2018-03-01 06:00:00</th>\n",
       "      <td>12</td>\n",
       "    </tr>\n",
       "    <tr>\n",
       "      <th>2018-03-01 07:00:00</th>\n",
       "      <td>15</td>\n",
       "    </tr>\n",
       "    <tr>\n",
       "      <th>2018-03-01 08:00:00</th>\n",
       "      <td>34</td>\n",
       "    </tr>\n",
       "    <tr>\n",
       "      <th>2018-03-01 09:00:00</th>\n",
       "      <td>69</td>\n",
       "    </tr>\n",
       "    <tr>\n",
       "      <th>2018-03-01 10:00:00</th>\n",
       "      <td>64</td>\n",
       "    </tr>\n",
       "    <tr>\n",
       "      <th>2018-03-01 11:00:00</th>\n",
       "      <td>96</td>\n",
       "    </tr>\n",
       "    <tr>\n",
       "      <th>2018-03-01 12:00:00</th>\n",
       "      <td>30</td>\n",
       "    </tr>\n",
       "    <tr>\n",
       "      <th>2018-03-01 13:00:00</th>\n",
       "      <td>32</td>\n",
       "    </tr>\n",
       "    <tr>\n",
       "      <th>2018-03-01 14:00:00</th>\n",
       "      <td>48</td>\n",
       "    </tr>\n",
       "  </tbody>\n",
       "</table>\n",
       "</div>"
      ],
      "text/plain": [
       "                     num_orders\n",
       "datetime                       \n",
       "2018-03-01 00:00:00         124\n",
       "2018-03-01 01:00:00          85\n",
       "2018-03-01 02:00:00          71\n",
       "2018-03-01 03:00:00          66\n",
       "2018-03-01 04:00:00          43\n",
       "2018-03-01 05:00:00           6\n",
       "2018-03-01 06:00:00          12\n",
       "2018-03-01 07:00:00          15\n",
       "2018-03-01 08:00:00          34\n",
       "2018-03-01 09:00:00          69\n",
       "2018-03-01 10:00:00          64\n",
       "2018-03-01 11:00:00          96\n",
       "2018-03-01 12:00:00          30\n",
       "2018-03-01 13:00:00          32\n",
       "2018-03-01 14:00:00          48"
      ]
     },
     "execution_count": 7,
     "metadata": {},
     "output_type": "execute_result"
    }
   ],
   "source": [
    "df.sort_values(by='num_orders')\n",
    "df.head(15)"
   ]
  },
  {
   "cell_type": "markdown",
   "metadata": {},
   "source": [
    "Проверяю распределение заказов "
   ]
  },
  {
   "cell_type": "code",
   "execution_count": 8,
   "metadata": {},
   "outputs": [
    {
     "name": "stdout",
     "output_type": "stream",
     "text": [
      "Медианное значение заказов =  78.0\n"
     ]
    },
    {
     "data": {
      "image/png": "[encoded data removed]",
      "text/plain": [
       "<Figure size 1080x576 with 2 Axes>"
      ]
     },
     "metadata": {},
     "output_type": "display_data"
    }
   ],
   "source": [
    "sns.set_style('whitegrid')\n",
    "\n",
    "fig, axes = plt.subplots(2,1,sharex=True, figsize=(15,8))\n",
    "\n",
    "sns.kdeplot(df['num_orders'], color='red', shade=True, label='Количество заказов', ax=axes[0])\n",
    "sns.boxplot(df['num_orders'], orient='h', color='blue')\n",
    "\n",
    "plt.suptitle('Распределениe количества заказов в час', size=15);\n",
    "\n",
    "print('Медианное значение заказов = ', df['num_orders'].median())"
   ]
  },
  {
   "cell_type": "markdown",
   "metadata": {},
   "source": [
    "Серьёзных выбросов не обнаружено, чаще всего в час поступает в среднем 78 заказов. Далее проверю к какому типу относится временной ряд."
   ]
  },
  {
   "cell_type": "code",
   "execution_count": 9,
   "metadata": {},
   "outputs": [
    {
     "data": {
      "image/png": "[encoded data removed]",
      "text/plain": [
       "<Figure size 1080x576 with 1 Axes>"
      ]
     },
     "metadata": {},
     "output_type": "display_data"
    }
   ],
   "source": [
    "df['mean'] = df['num_orders'].rolling(15).mean()\n",
    "df['std'] = df['num_orders'].rolling(15).std()\n",
    "\n",
    "df.plot(figsize=(15,8));"
   ]
  },
  {
   "cell_type": "markdown",
   "metadata": {},
   "source": [
    "Скользящее среднее отклонение со временем изменяеся равномерно. Среднее значение высоко поднимется в августе. Соответственно это стандартный временной ряд. Далее стоит проверить тренд на сезонность."
   ]
  },
  {
   "cell_type": "code",
   "execution_count": 10,
   "metadata": {},
   "outputs": [
    {
     "data": {
      "image/png": "[encoded data removed]",
      "text/plain": [
       "<Figure size 1080x576 with 3 Axes>"
      ]
     },
     "metadata": {},
     "output_type": "display_data"
    }
   ],
   "source": [
    "df = df.drop(['mean','std'], axis=1)\n",
    "decomposed = seasonal_decompose(df)\n",
    "\n",
    "plt.figure(figsize=(15, 8))\n",
    "\n",
    "plt.subplot(311)\n",
    "decomposed.trend.plot(ax=plt.gca())\n",
    "plt.title('Trend')\n",
    "plt.subplot(312)\n",
    "decomposed.seasonal.plot(ax=plt.gca())\n",
    "plt.title('Seasonality')\n",
    "plt.subplot(313)\n",
    "decomposed.resid.plot(ax=plt.gca())\n",
    "plt.title('Residuals')\n",
    "plt.tight_layout()"
   ]
  },
  {
   "cell_type": "markdown",
   "metadata": {},
   "source": [
    "Глобальный тренд увеличения числа заказов такси прослеживается на протяжении всего изучаемого периода.\n",
    "Для изучения сезонности на данном графике увеличю масштаб.\n",
    "Для примера возьму 2 месяца апрель и август в первые трое суток."
   ]
  },
  {
   "cell_type": "code",
   "execution_count": 11,
   "metadata": {},
   "outputs": [
    {
     "data": {
      "image/png": "[encoded data removed]",
      "text/plain": [
       "<Figure size 1440x576 with 2 Axes>"
      ]
     },
     "metadata": {},
     "output_type": "display_data"
    }
   ],
   "source": [
    "plt.figure(figsize=(20, 8))\n",
    "\n",
    "plt.subplot(211)\n",
    "decomposed.seasonal['2018-04-01':'2018-04-03'].plot(ax=plt.gca())\n",
    "plt.title('Сезонность в апреле')\n",
    "plt.subplot(212)\n",
    "decomposed.seasonal['2018-08-01':'2018-08-03'].plot(ax=plt.gca())\n",
    "plt.title('Сезонность в августе');"
   ]
  },
  {
   "cell_type": "markdown",
   "metadata": {},
   "source": [
    "**Выводы:**\n",
    "\n",
    "1. Чаще всего за час в службу такси поступают в среднем 78 заказов,\n",
    "2. На протяжении исследуемого периода заметен тренд к увеличению количество заказов.\n",
    "3. Обнаружена \"сезонность\" загруженности: пиковые часы приходятся на 00 и примерно на 15-17 часов вечера,\n",
    "4. Минимальная загрузка наблюдается в течение часа, с 6 до 7 утра, так же две небольшие просадки количества заказов заметны в 12 и примерно 18-19 часов.\n",
    "5. Можно предположить о необходимости усиления рабочих смен таксистов именно указанные выше пиковые часы."
   ]
  },
  {
   "cell_type": "markdown",
   "metadata": {},
   "source": [
    "## Обучение"
   ]
  },
  {
   "cell_type": "markdown",
   "metadata": {},
   "source": [
    "Создадам дополнительные признаки в исходном сете для лучшего обучения моделей.\n",
    "На вход функция принимает датасет, количество \"шагов\" для отстающий значений и скользящее среднее без учета текущего значения количества заказов. Новые признаки так же определяются, как месяц, день, день недели и час."
   ]
  },
  {
   "cell_type": "code",
   "execution_count": 12,
   "metadata": {},
   "outputs": [],
   "source": [
    "def new_features(data, max_lag, rolling_mean_size):\n",
    "    \n",
    "    data['month'] = data.index.month\n",
    "    data['day'] = data.index.day\n",
    "    data['dayofweek'] = data.index.dayofweek\n",
    "    data['hour'] = data.index.hour\n",
    "    \n",
    "    for lag in range(1, max_lag + 1):\n",
    "        data['lag_{}'.format(lag)] = data['num_orders'].shift(lag)\n",
    "\n",
    "    data['rolling_mean'] = data['num_orders'].shift().rolling(rolling_mean_size).mean()"
   ]
  },
  {
   "cell_type": "code",
   "execution_count": 13,
   "metadata": {},
   "outputs": [],
   "source": [
    "new_features(df, 10,10)"
   ]
  },
  {
   "cell_type": "code",
   "execution_count": 14,
   "metadata": {
    "scrolled": true
   },
   "outputs": [
    {
     "data": {
      "text/html": [
       "<div>\n",
       "<style scoped>\n",
       "    .dataframe tbody tr th:only-of-type {\n",
       "        vertical-align: middle;\n",
       "    }\n",
       "\n",
       "    .dataframe tbody tr th {\n",
       "        vertical-align: top;\n",
       "    }\n",
       "\n",
       "    .dataframe thead th {\n",
       "        text-align: right;\n",
       "    }\n",
       "</style>\n",
       "<table border=\"1\" class=\"dataframe\">\n",
       "  <thead>\n",
       "    <tr style=\"text-align: right;\">\n",
       "      <th></th>\n",
       "      <th>num_orders</th>\n",
       "      <th>month</th>\n",
       "      <th>day</th>\n",
       "      <th>dayofweek</th>\n",
       "      <th>hour</th>\n",
       "      <th>lag_1</th>\n",
       "      <th>lag_2</th>\n",
       "      <th>lag_3</th>\n",
       "      <th>lag_4</th>\n",
       "      <th>lag_5</th>\n",
       "      <th>lag_6</th>\n",
       "      <th>lag_7</th>\n",
       "      <th>lag_8</th>\n",
       "      <th>lag_9</th>\n",
       "      <th>lag_10</th>\n",
       "      <th>rolling_mean</th>\n",
       "    </tr>\n",
       "    <tr>\n",
       "      <th>datetime</th>\n",
       "      <th></th>\n",
       "      <th></th>\n",
       "      <th></th>\n",
       "      <th></th>\n",
       "      <th></th>\n",
       "      <th></th>\n",
       "      <th></th>\n",
       "      <th></th>\n",
       "      <th></th>\n",
       "      <th></th>\n",
       "      <th></th>\n",
       "      <th></th>\n",
       "      <th></th>\n",
       "      <th></th>\n",
       "      <th></th>\n",
       "      <th></th>\n",
       "    </tr>\n",
       "  </thead>\n",
       "  <tbody>\n",
       "    <tr>\n",
       "      <th>2018-03-01 00:00:00</th>\n",
       "      <td>124</td>\n",
       "      <td>3</td>\n",
       "      <td>1</td>\n",
       "      <td>3</td>\n",
       "      <td>0</td>\n",
       "      <td>NaN</td>\n",
       "      <td>NaN</td>\n",
       "      <td>NaN</td>\n",
       "      <td>NaN</td>\n",
       "      <td>NaN</td>\n",
       "      <td>NaN</td>\n",
       "      <td>NaN</td>\n",
       "      <td>NaN</td>\n",
       "      <td>NaN</td>\n",
       "      <td>NaN</td>\n",
       "      <td>NaN</td>\n",
       "    </tr>\n",
       "    <tr>\n",
       "      <th>2018-03-01 01:00:00</th>\n",
       "      <td>85</td>\n",
       "      <td>3</td>\n",
       "      <td>1</td>\n",
       "      <td>3</td>\n",
       "      <td>1</td>\n",
       "      <td>124.0</td>\n",
       "      <td>NaN</td>\n",
       "      <td>NaN</td>\n",
       "      <td>NaN</td>\n",
       "      <td>NaN</td>\n",
       "      <td>NaN</td>\n",
       "      <td>NaN</td>\n",
       "      <td>NaN</td>\n",
       "      <td>NaN</td>\n",
       "      <td>NaN</td>\n",
       "      <td>NaN</td>\n",
       "    </tr>\n",
       "    <tr>\n",
       "      <th>2018-03-01 02:00:00</th>\n",
       "      <td>71</td>\n",
       "      <td>3</td>\n",
       "      <td>1</td>\n",
       "      <td>3</td>\n",
       "      <td>2</td>\n",
       "      <td>85.0</td>\n",
       "      <td>124.0</td>\n",
       "      <td>NaN</td>\n",
       "      <td>NaN</td>\n",
       "      <td>NaN</td>\n",
       "      <td>NaN</td>\n",
       "      <td>NaN</td>\n",
       "      <td>NaN</td>\n",
       "      <td>NaN</td>\n",
       "      <td>NaN</td>\n",
       "      <td>NaN</td>\n",
       "    </tr>\n",
       "    <tr>\n",
       "      <th>2018-03-01 03:00:00</th>\n",
       "      <td>66</td>\n",
       "      <td>3</td>\n",
       "      <td>1</td>\n",
       "      <td>3</td>\n",
       "      <td>3</td>\n",
       "      <td>71.0</td>\n",
       "      <td>85.0</td>\n",
       "      <td>124.0</td>\n",
       "      <td>NaN</td>\n",
       "      <td>NaN</td>\n",
       "      <td>NaN</td>\n",
       "      <td>NaN</td>\n",
       "      <td>NaN</td>\n",
       "      <td>NaN</td>\n",
       "      <td>NaN</td>\n",
       "      <td>NaN</td>\n",
       "    </tr>\n",
       "    <tr>\n",
       "      <th>2018-03-01 04:00:00</th>\n",
       "      <td>43</td>\n",
       "      <td>3</td>\n",
       "      <td>1</td>\n",
       "      <td>3</td>\n",
       "      <td>4</td>\n",
       "      <td>66.0</td>\n",
       "      <td>71.0</td>\n",
       "      <td>85.0</td>\n",
       "      <td>124.0</td>\n",
       "      <td>NaN</td>\n",
       "      <td>NaN</td>\n",
       "      <td>NaN</td>\n",
       "      <td>NaN</td>\n",
       "      <td>NaN</td>\n",
       "      <td>NaN</td>\n",
       "      <td>NaN</td>\n",
       "    </tr>\n",
       "  </tbody>\n",
       "</table>\n",
       "</div>"
      ],
      "text/plain": [
       "                     num_orders  month  day  dayofweek  hour  lag_1  lag_2  \\\n",
       "datetime                                                                     \n",
       "2018-03-01 00:00:00         124      3    1          3     0    NaN    NaN   \n",
       "2018-03-01 01:00:00          85      3    1          3     1  124.0    NaN   \n",
       "2018-03-01 02:00:00          71      3    1          3     2   85.0  124.0   \n",
       "2018-03-01 03:00:00          66      3    1          3     3   71.0   85.0   \n",
       "2018-03-01 04:00:00          43      3    1          3     4   66.0   71.0   \n",
       "\n",
       "                     lag_3  lag_4  lag_5  lag_6  lag_7  lag_8  lag_9  lag_10  \\\n",
       "datetime                                                                       \n",
       "2018-03-01 00:00:00    NaN    NaN    NaN    NaN    NaN    NaN    NaN     NaN   \n",
       "2018-03-01 01:00:00    NaN    NaN    NaN    NaN    NaN    NaN    NaN     NaN   \n",
       "2018-03-01 02:00:00    NaN    NaN    NaN    NaN    NaN    NaN    NaN     NaN   \n",
       "2018-03-01 03:00:00  124.0    NaN    NaN    NaN    NaN    NaN    NaN     NaN   \n",
       "2018-03-01 04:00:00   85.0  124.0    NaN    NaN    NaN    NaN    NaN     NaN   \n",
       "\n",
       "                     rolling_mean  \n",
       "datetime                           \n",
       "2018-03-01 00:00:00           NaN  \n",
       "2018-03-01 01:00:00           NaN  \n",
       "2018-03-01 02:00:00           NaN  \n",
       "2018-03-01 03:00:00           NaN  \n",
       "2018-03-01 04:00:00           NaN  "
      ]
     },
     "execution_count": 14,
     "metadata": {},
     "output_type": "execute_result"
    }
   ],
   "source": [
    "df.head()"
   ]
  },
  {
   "cell_type": "markdown",
   "metadata": {},
   "source": [
    "Теперь разобью датасет на обучающую, валидационную и тестовую выборки"
   ]
  },
  {
   "cell_type": "code",
   "execution_count": 15,
   "metadata": {},
   "outputs": [],
   "source": [
    "sub, test = train_test_split(df, test_size=.1, shuffle=False)\n",
    "train, valid = train_test_split(sub, test_size=.1, shuffle=False)"
   ]
  },
  {
   "cell_type": "code",
   "execution_count": 16,
   "metadata": {},
   "outputs": [],
   "source": [
    "train.dropna(inplace=True)"
   ]
  },
  {
   "cell_type": "code",
   "execution_count": 17,
   "metadata": {},
   "outputs": [
    {
     "data": {
      "text/plain": [
       "(3566, 398, 442)"
      ]
     },
     "execution_count": 17,
     "metadata": {},
     "output_type": "execute_result"
    }
   ],
   "source": [
    "train.shape[0], valid.shape[0], test.shape[0]"
   ]
  },
  {
   "cell_type": "markdown",
   "metadata": {},
   "source": [
    "Теперь разбивка на признаки и целевой признак"
   ]
  },
  {
   "cell_type": "code",
   "execution_count": 18,
   "metadata": {},
   "outputs": [],
   "source": [
    "x_train = train.drop(['num_orders'], axis=1)\n",
    "x_valid = valid.drop(['num_orders'], axis=1)\n",
    "x_test = test.drop(['num_orders'], axis=1)\n",
    "\n",
    "y_train = train['num_orders']\n",
    "y_valid = valid['num_orders']\n",
    "y_test = test['num_orders']"
   ]
  },
  {
   "cell_type": "markdown",
   "metadata": {},
   "source": [
    "Попробую предсказать временной период медианный значеним качество метрики rmse, которой можно добиться.\n",
    "Далее все модели будут тестироватся только на валидационной выборке."
   ]
  },
  {
   "cell_type": "code",
   "execution_count": 19,
   "metadata": {},
   "outputs": [
    {
     "name": "stdout",
     "output_type": "stream",
     "text": [
      "RMSE valid: 60.16539181173257\n",
      "RMSE test: 89.39768286346948\n"
     ]
    }
   ],
   "source": [
    "y_valid_med = np.ones(y_valid.shape) * y_train.median()\n",
    "y_test_med = np.ones(y_test.shape) * y_train.median()\n",
    "\n",
    "print(\"RMSE valid:\", mean_squared_error(y_valid, y_valid_med)**0.5)\n",
    "print(\"RMSE test:\", mean_squared_error(y_test, y_test_med)**0.5)"
   ]
  },
  {
   "cell_type": "markdown",
   "metadata": {},
   "source": [
    "Очень плохой результат. Посмотрю, что покажут модели."
   ]
  },
  {
   "cell_type": "markdown",
   "metadata": {},
   "source": [
    "### LinearRegression"
   ]
  },
  {
   "cell_type": "markdown",
   "metadata": {},
   "source": [
    "Начну с самой простой модели линейной регрессии"
   ]
  },
  {
   "cell_type": "code",
   "execution_count": 20,
   "metadata": {},
   "outputs": [
    {
     "name": "stdout",
     "output_type": "stream",
     "text": [
      "CPU times: user 9.75 ms, sys: 11.2 ms, total: 20.9 ms\n",
      "Wall time: 12.5 ms\n"
     ]
    }
   ],
   "source": [
    "%%time\n",
    "lr = LinearRegression().fit(x_train, y_train)"
   ]
  },
  {
   "cell_type": "code",
   "execution_count": 21,
   "metadata": {},
   "outputs": [],
   "source": [
    "def prediction(model, feat, targ):\n",
    "    \n",
    "    pred = model.predict(feat)\n",
    "    rmse = mean_squared_error(pred, targ)**0.5\n",
    "    \n",
    "    return(rmse)"
   ]
  },
  {
   "cell_type": "code",
   "execution_count": 22,
   "metadata": {
    "scrolled": true
   },
   "outputs": [
    {
     "name": "stdout",
     "output_type": "stream",
     "text": [
      "CPU times: user 5.99 ms, sys: 0 ns, total: 5.99 ms\n",
      "Wall time: 8.13 ms\n"
     ]
    },
    {
     "data": {
      "text/plain": [
       "40.57041300704119"
      ]
     },
     "execution_count": 22,
     "metadata": {},
     "output_type": "execute_result"
    }
   ],
   "source": [
    "%%time\n",
    "prediction(lr, x_valid, y_valid)"
   ]
  },
  {
   "cell_type": "markdown",
   "metadata": {},
   "source": [
    "Результат гораздо лучше. Далее создам таблицу для записи резултатов работы моделей"
   ]
  },
  {
   "cell_type": "code",
   "execution_count": 23,
   "metadata": {},
   "outputs": [
    {
     "data": {
      "text/html": [
       "<div>\n",
       "<style scoped>\n",
       "    .dataframe tbody tr th:only-of-type {\n",
       "        vertical-align: middle;\n",
       "    }\n",
       "\n",
       "    .dataframe tbody tr th {\n",
       "        vertical-align: top;\n",
       "    }\n",
       "\n",
       "    .dataframe thead th {\n",
       "        text-align: right;\n",
       "    }\n",
       "</style>\n",
       "<table border=\"1\" class=\"dataframe\">\n",
       "  <thead>\n",
       "    <tr style=\"text-align: right;\">\n",
       "      <th></th>\n",
       "      <th>model_name</th>\n",
       "      <th>rmse_valid</th>\n",
       "    </tr>\n",
       "  </thead>\n",
       "  <tbody>\n",
       "    <tr>\n",
       "      <th>0</th>\n",
       "      <td>LinearRegression</td>\n",
       "      <td>40.57</td>\n",
       "    </tr>\n",
       "    <tr>\n",
       "      <th>1</th>\n",
       "      <td>KNeighborsRegressor</td>\n",
       "      <td>NaN</td>\n",
       "    </tr>\n",
       "    <tr>\n",
       "      <th>2</th>\n",
       "      <td>LinearSVR</td>\n",
       "      <td>NaN</td>\n",
       "    </tr>\n",
       "    <tr>\n",
       "      <th>3</th>\n",
       "      <td>GradientBoostingRegressor</td>\n",
       "      <td>NaN</td>\n",
       "    </tr>\n",
       "    <tr>\n",
       "      <th>4</th>\n",
       "      <td>CatBoost</td>\n",
       "      <td>NaN</td>\n",
       "    </tr>\n",
       "  </tbody>\n",
       "</table>\n",
       "</div>"
      ],
      "text/plain": [
       "                  model_name  rmse_valid\n",
       "0           LinearRegression       40.57\n",
       "1        KNeighborsRegressor         NaN\n",
       "2                  LinearSVR         NaN\n",
       "3  GradientBoostingRegressor         NaN\n",
       "4                   CatBoost         NaN"
      ]
     },
     "execution_count": 23,
     "metadata": {},
     "output_type": "execute_result"
    }
   ],
   "source": [
    "res = {\n",
    "    'model_name':pd.Series(['LinearRegression','KNeighborsRegressor','LinearSVR','GradientBoostingRegressor','CatBoost']),\n",
    "    'rmse_valid':pd.Series([40.57])}\n",
    "\n",
    "results = pd.DataFrame(res)\n",
    "results"
   ]
  },
  {
   "cell_type": "markdown",
   "metadata": {},
   "source": [
    "### KNeighborsRegressor"
   ]
  },
  {
   "cell_type": "markdown",
   "metadata": {},
   "source": [
    "Для применения данной и следующей модели данные необходимо скалировать. К работе с соседями применяю MinMax преобразование."
   ]
  },
  {
   "cell_type": "code",
   "execution_count": 24,
   "metadata": {},
   "outputs": [],
   "source": [
    "min_max = MinMaxScaler()\n",
    "\n",
    "min_max.fit(x_train)\n",
    "\n",
    "x_train_mm = min_max.transform(x_train)\n",
    "x_valid_mm = min_max.transform(x_valid)\n",
    "x_test_mm = min_max.transform(x_test)"
   ]
  },
  {
   "cell_type": "markdown",
   "metadata": {},
   "source": [
    "Применю функцию поиска гиперпараметров"
   ]
  },
  {
   "cell_type": "code",
   "execution_count": 25,
   "metadata": {},
   "outputs": [
    {
     "data": {
      "text/plain": [
       "3566"
      ]
     },
     "execution_count": 25,
     "metadata": {},
     "output_type": "execute_result"
    }
   ],
   "source": [
    "len(x_train)"
   ]
  },
  {
   "cell_type": "code",
   "execution_count": 26,
   "metadata": {},
   "outputs": [],
   "source": [
    "def grid(model, params, feat, targ):\n",
    "    \n",
    "    tscv = TimeSeriesSplit(n_splits=5)\n",
    "    \n",
    "    search = GridSearchCV(model, params, cv=tscv, n_jobs=-1, scoring='neg_mean_squared_error')\n",
    "    search.fit(feat, targ)\n",
    "    \n",
    "    print('Best score = ', search.best_score_)\n",
    "    print(search.best_params_)"
   ]
  },
  {
   "cell_type": "markdown",
   "metadata": {},
   "source": [
    "Создаю модель и сетку гиперпараметров"
   ]
  },
  {
   "cell_type": "code",
   "execution_count": 27,
   "metadata": {},
   "outputs": [],
   "source": [
    "knn = KNeighborsRegressor()\n",
    "\n",
    "knn_params = dict(n_neighbors=range(3,10),\n",
    "                   metric=['minkowski', 'manhattan'],\n",
    "                   leaf_size=[20,25,30,35],\n",
    "                   algorithm=['auto','ball_tree','kd_tree'])"
   ]
  },
  {
   "cell_type": "code",
   "execution_count": 28,
   "metadata": {},
   "outputs": [
    {
     "name": "stdout",
     "output_type": "stream",
     "text": [
      "Best score =  -687.8805608164982\n",
      "{'algorithm': 'auto', 'leaf_size': 20, 'metric': 'manhattan', 'n_neighbors': 8}\n"
     ]
    }
   ],
   "source": [
    "grid(knn, knn_params, x_train_mm, y_train)"
   ]
  },
  {
   "cell_type": "code",
   "execution_count": 29,
   "metadata": {},
   "outputs": [],
   "source": [
    "knn = KNeighborsRegressor(algorithm='auto', leaf_size=20, metric='manhattan', n_neighbors=9)"
   ]
  },
  {
   "cell_type": "code",
   "execution_count": 30,
   "metadata": {},
   "outputs": [
    {
     "name": "stdout",
     "output_type": "stream",
     "text": [
      "CPU times: user 12.6 ms, sys: 15 µs, total: 12.6 ms\n",
      "Wall time: 30.4 ms\n"
     ]
    },
    {
     "data": {
      "text/plain": [
       "KNeighborsRegressor(leaf_size=20, metric='manhattan', n_neighbors=9)"
      ]
     },
     "execution_count": 30,
     "metadata": {},
     "output_type": "execute_result"
    }
   ],
   "source": [
    "%%time\n",
    "knn.fit(x_train_mm, y_train)"
   ]
  },
  {
   "cell_type": "code",
   "execution_count": 31,
   "metadata": {},
   "outputs": [
    {
     "name": "stdout",
     "output_type": "stream",
     "text": [
      "CPU times: user 59.4 ms, sys: 3.66 ms, total: 63 ms\n",
      "Wall time: 63.5 ms\n"
     ]
    },
    {
     "data": {
      "text/plain": [
       "35.61568713080818"
      ]
     },
     "execution_count": 31,
     "metadata": {},
     "output_type": "execute_result"
    }
   ],
   "source": [
    "%%time\n",
    "prediction(knn, x_valid_mm, y_valid)"
   ]
  },
  {
   "cell_type": "markdown",
   "metadata": {},
   "source": [
    "Метрика оказалась ещё лучше, чем LR. Запишу значения."
   ]
  },
  {
   "cell_type": "code",
   "execution_count": 32,
   "metadata": {},
   "outputs": [
    {
     "data": {
      "text/html": [
       "<div>\n",
       "<style scoped>\n",
       "    .dataframe tbody tr th:only-of-type {\n",
       "        vertical-align: middle;\n",
       "    }\n",
       "\n",
       "    .dataframe tbody tr th {\n",
       "        vertical-align: top;\n",
       "    }\n",
       "\n",
       "    .dataframe thead th {\n",
       "        text-align: right;\n",
       "    }\n",
       "</style>\n",
       "<table border=\"1\" class=\"dataframe\">\n",
       "  <thead>\n",
       "    <tr style=\"text-align: right;\">\n",
       "      <th></th>\n",
       "      <th>model_name</th>\n",
       "      <th>rmse_valid</th>\n",
       "    </tr>\n",
       "  </thead>\n",
       "  <tbody>\n",
       "    <tr>\n",
       "      <th>0</th>\n",
       "      <td>LinearRegression</td>\n",
       "      <td>40.57</td>\n",
       "    </tr>\n",
       "    <tr>\n",
       "      <th>1</th>\n",
       "      <td>KNeighborsRegressor</td>\n",
       "      <td>35.62</td>\n",
       "    </tr>\n",
       "    <tr>\n",
       "      <th>2</th>\n",
       "      <td>LinearSVR</td>\n",
       "      <td>NaN</td>\n",
       "    </tr>\n",
       "    <tr>\n",
       "      <th>3</th>\n",
       "      <td>GradientBoostingRegressor</td>\n",
       "      <td>NaN</td>\n",
       "    </tr>\n",
       "    <tr>\n",
       "      <th>4</th>\n",
       "      <td>CatBoost</td>\n",
       "      <td>NaN</td>\n",
       "    </tr>\n",
       "  </tbody>\n",
       "</table>\n",
       "</div>"
      ],
      "text/plain": [
       "                  model_name  rmse_valid\n",
       "0           LinearRegression       40.57\n",
       "1        KNeighborsRegressor       35.62\n",
       "2                  LinearSVR         NaN\n",
       "3  GradientBoostingRegressor         NaN\n",
       "4                   CatBoost         NaN"
      ]
     },
     "execution_count": 32,
     "metadata": {},
     "output_type": "execute_result"
    }
   ],
   "source": [
    "results.loc[1,'rmse_valid'] = 35.62\n",
    "results"
   ]
  },
  {
   "cell_type": "markdown",
   "metadata": {},
   "source": [
    "### LinearSVR"
   ]
  },
  {
   "cell_type": "markdown",
   "metadata": {},
   "source": [
    "Поскольку у есть слишком сильно отклоняющие значения, то прогноз на тестовой выборке может быть не слишком точным. Но всё же посмотрю. Данные скалирую данные с помощью StandardScaler"
   ]
  },
  {
   "cell_type": "code",
   "execution_count": 33,
   "metadata": {},
   "outputs": [],
   "source": [
    "st_sc = StandardScaler()\n",
    "\n",
    "st_sc.fit(x_train)\n",
    "\n",
    "x_train_ss = st_sc.transform(x_train)\n",
    "x_valid_ss = st_sc.transform(x_valid)\n",
    "x_test_ss = st_sc.transform(x_test)"
   ]
  },
  {
   "cell_type": "code",
   "execution_count": 34,
   "metadata": {},
   "outputs": [],
   "source": [
    "svm = LinearSVR(random_state=123)\n",
    "\n",
    "svm_params = dict(max_iter=[100,500,1000,1200,1500],\n",
    "                  C=[0.1,0.5,1],\n",
    "                  tol=[1e-3, 1e-4, 1e-5])"
   ]
  },
  {
   "cell_type": "code",
   "execution_count": 35,
   "metadata": {},
   "outputs": [
    {
     "name": "stdout",
     "output_type": "stream",
     "text": [
      "Best score =  -1136.3816490388363\n",
      "{'C': 1, 'max_iter': 100, 'tol': 0.001}\n"
     ]
    }
   ],
   "source": [
    "grid(svm, svm_params, x_train_ss, y_train)"
   ]
  },
  {
   "cell_type": "code",
   "execution_count": 36,
   "metadata": {},
   "outputs": [],
   "source": [
    "svm = LinearSVR(random_state=123, C=1, max_iter=100, tol=0.0001)"
   ]
  },
  {
   "cell_type": "code",
   "execution_count": 37,
   "metadata": {},
   "outputs": [
    {
     "name": "stdout",
     "output_type": "stream",
     "text": [
      "CPU times: user 11 ms, sys: 0 ns, total: 11 ms\n",
      "Wall time: 10.5 ms\n"
     ]
    },
    {
     "data": {
      "text/plain": [
       "LinearSVR(C=1, max_iter=100, random_state=123)"
      ]
     },
     "execution_count": 37,
     "metadata": {},
     "output_type": "execute_result"
    }
   ],
   "source": [
    "%%time\n",
    "svm.fit(x_train_ss, y_train)"
   ]
  },
  {
   "cell_type": "code",
   "execution_count": 38,
   "metadata": {},
   "outputs": [
    {
     "name": "stdout",
     "output_type": "stream",
     "text": [
      "CPU times: user 1.59 ms, sys: 36 µs, total: 1.62 ms\n",
      "Wall time: 1.34 ms\n"
     ]
    },
    {
     "data": {
      "text/plain": [
       "41.28235575351795"
      ]
     },
     "execution_count": 38,
     "metadata": {},
     "output_type": "execute_result"
    }
   ],
   "source": [
    "%%time\n",
    "prediction(svm, x_valid_ss, y_valid)"
   ]
  },
  {
   "cell_type": "markdown",
   "metadata": {},
   "source": [
    "Пока самые худшие предсказания. Запишу. Далее градиентный бустинг."
   ]
  },
  {
   "cell_type": "code",
   "execution_count": 39,
   "metadata": {},
   "outputs": [
    {
     "data": {
      "text/html": [
       "<div>\n",
       "<style scoped>\n",
       "    .dataframe tbody tr th:only-of-type {\n",
       "        vertical-align: middle;\n",
       "    }\n",
       "\n",
       "    .dataframe tbody tr th {\n",
       "        vertical-align: top;\n",
       "    }\n",
       "\n",
       "    .dataframe thead th {\n",
       "        text-align: right;\n",
       "    }\n",
       "</style>\n",
       "<table border=\"1\" class=\"dataframe\">\n",
       "  <thead>\n",
       "    <tr style=\"text-align: right;\">\n",
       "      <th></th>\n",
       "      <th>model_name</th>\n",
       "      <th>rmse_valid</th>\n",
       "    </tr>\n",
       "  </thead>\n",
       "  <tbody>\n",
       "    <tr>\n",
       "      <th>0</th>\n",
       "      <td>LinearRegression</td>\n",
       "      <td>40.57</td>\n",
       "    </tr>\n",
       "    <tr>\n",
       "      <th>1</th>\n",
       "      <td>KNeighborsRegressor</td>\n",
       "      <td>35.62</td>\n",
       "    </tr>\n",
       "    <tr>\n",
       "      <th>2</th>\n",
       "      <td>LinearSVR</td>\n",
       "      <td>41.28</td>\n",
       "    </tr>\n",
       "    <tr>\n",
       "      <th>3</th>\n",
       "      <td>GradientBoostingRegressor</td>\n",
       "      <td>NaN</td>\n",
       "    </tr>\n",
       "    <tr>\n",
       "      <th>4</th>\n",
       "      <td>CatBoost</td>\n",
       "      <td>NaN</td>\n",
       "    </tr>\n",
       "  </tbody>\n",
       "</table>\n",
       "</div>"
      ],
      "text/plain": [
       "                  model_name  rmse_valid\n",
       "0           LinearRegression       40.57\n",
       "1        KNeighborsRegressor       35.62\n",
       "2                  LinearSVR       41.28\n",
       "3  GradientBoostingRegressor         NaN\n",
       "4                   CatBoost         NaN"
      ]
     },
     "execution_count": 39,
     "metadata": {},
     "output_type": "execute_result"
    }
   ],
   "source": [
    "results.loc[2,'rmse_valid'] = 41.28\n",
    "results"
   ]
  },
  {
   "cell_type": "markdown",
   "metadata": {},
   "source": [
    "### GradientBoostingRegressor"
   ]
  },
  {
   "cell_type": "markdown",
   "metadata": {},
   "source": [
    "Тут сразу можно перейти к подбору гиперпараметров и обучению модели.\n",
    "\n",
    "Поиск параметров осуществляю в 2 этапа - сначала подбираю лучшее количество деревьев, затем - остальные параметры."
   ]
  },
  {
   "cell_type": "code",
   "execution_count": 40,
   "metadata": {},
   "outputs": [],
   "source": [
    "gbr = GradientBoostingRegressor(random_state=123)\n",
    "\n",
    "gbr_params_est = dict(n_estimators=range(100,1000,10))\n",
    "\n",
    "gbr_params_other = dict(learning_rate=[0.1,1],\n",
    "                        max_depth=[2,3,4,5],\n",
    "                        min_samples_split=[2,3,4], \n",
    "                        tol=[1e-3, 1e-4, 1e-5])"
   ]
  },
  {
   "cell_type": "code",
   "execution_count": 41,
   "metadata": {},
   "outputs": [],
   "source": [
    "gbr = GradientBoostingRegressor(random_state=123, n_estimators=200)"
   ]
  },
  {
   "cell_type": "code",
   "execution_count": 42,
   "metadata": {},
   "outputs": [],
   "source": [
    "#grid(gbr, gbr_params_other, x_train, y_train)"
   ]
  },
  {
   "cell_type": "code",
   "execution_count": 43,
   "metadata": {},
   "outputs": [],
   "source": [
    "gbr = GradientBoostingRegressor(random_state=123, n_estimators=200, learning_rate=0.15, max_depth=4, min_samples_split=4, tol=0.001)"
   ]
  },
  {
   "cell_type": "code",
   "execution_count": 44,
   "metadata": {},
   "outputs": [
    {
     "name": "stdout",
     "output_type": "stream",
     "text": [
      "CPU times: user 2.71 s, sys: 336 µs, total: 2.71 s\n",
      "Wall time: 2.72 s\n"
     ]
    },
    {
     "data": {
      "text/plain": [
       "GradientBoostingRegressor(learning_rate=0.15, max_depth=4, min_samples_split=4,\n",
       "                          n_estimators=200, random_state=123, tol=0.001)"
      ]
     },
     "execution_count": 44,
     "metadata": {},
     "output_type": "execute_result"
    }
   ],
   "source": [
    "%%time\n",
    "gbr.fit(x_train, y_train)"
   ]
  },
  {
   "cell_type": "code",
   "execution_count": 45,
   "metadata": {
    "scrolled": true
   },
   "outputs": [
    {
     "name": "stdout",
     "output_type": "stream",
     "text": [
      "CPU times: user 7.9 ms, sys: 0 ns, total: 7.9 ms\n",
      "Wall time: 9.25 ms\n"
     ]
    },
    {
     "data": {
      "text/plain": [
       "32.09402710959909"
      ]
     },
     "execution_count": 45,
     "metadata": {},
     "output_type": "execute_result"
    }
   ],
   "source": [
    "%%time\n",
    "prediction(gbr, x_valid, y_valid)"
   ]
  },
  {
   "cell_type": "markdown",
   "metadata": {},
   "source": [
    "Самое лучшее предсказание на данный момент. Запишу и перейду к кэтбусту."
   ]
  },
  {
   "cell_type": "code",
   "execution_count": 46,
   "metadata": {},
   "outputs": [
    {
     "data": {
      "text/html": [
       "<div>\n",
       "<style scoped>\n",
       "    .dataframe tbody tr th:only-of-type {\n",
       "        vertical-align: middle;\n",
       "    }\n",
       "\n",
       "    .dataframe tbody tr th {\n",
       "        vertical-align: top;\n",
       "    }\n",
       "\n",
       "    .dataframe thead th {\n",
       "        text-align: right;\n",
       "    }\n",
       "</style>\n",
       "<table border=\"1\" class=\"dataframe\">\n",
       "  <thead>\n",
       "    <tr style=\"text-align: right;\">\n",
       "      <th></th>\n",
       "      <th>model_name</th>\n",
       "      <th>rmse_valid</th>\n",
       "    </tr>\n",
       "  </thead>\n",
       "  <tbody>\n",
       "    <tr>\n",
       "      <th>0</th>\n",
       "      <td>LinearRegression</td>\n",
       "      <td>40.57</td>\n",
       "    </tr>\n",
       "    <tr>\n",
       "      <th>1</th>\n",
       "      <td>KNeighborsRegressor</td>\n",
       "      <td>35.62</td>\n",
       "    </tr>\n",
       "    <tr>\n",
       "      <th>2</th>\n",
       "      <td>LinearSVR</td>\n",
       "      <td>41.28</td>\n",
       "    </tr>\n",
       "    <tr>\n",
       "      <th>3</th>\n",
       "      <td>GradientBoostingRegressor</td>\n",
       "      <td>32.10</td>\n",
       "    </tr>\n",
       "    <tr>\n",
       "      <th>4</th>\n",
       "      <td>CatBoost</td>\n",
       "      <td>NaN</td>\n",
       "    </tr>\n",
       "  </tbody>\n",
       "</table>\n",
       "</div>"
      ],
      "text/plain": [
       "                  model_name  rmse_valid\n",
       "0           LinearRegression       40.57\n",
       "1        KNeighborsRegressor       35.62\n",
       "2                  LinearSVR       41.28\n",
       "3  GradientBoostingRegressor       32.10\n",
       "4                   CatBoost         NaN"
      ]
     },
     "execution_count": 46,
     "metadata": {},
     "output_type": "execute_result"
    }
   ],
   "source": [
    "results.loc[3,'rmse_valid'] = 32.1\n",
    "results"
   ]
  },
  {
   "cell_type": "markdown",
   "metadata": {},
   "source": [
    "### CatBoostRegressor"
   ]
  },
  {
   "cell_type": "markdown",
   "metadata": {},
   "source": [
    "Категориальный список"
   ]
  },
  {
   "cell_type": "code",
   "execution_count": 47,
   "metadata": {},
   "outputs": [
    {
     "data": {
      "text/plain": [
       "Index(['num_orders', 'month', 'day', 'dayofweek', 'hour', 'lag_1', 'lag_2',\n",
       "       'lag_3', 'lag_4', 'lag_5', 'lag_6', 'lag_7', 'lag_8', 'lag_9', 'lag_10',\n",
       "       'rolling_mean'],\n",
       "      dtype='object')"
      ]
     },
     "execution_count": 47,
     "metadata": {},
     "output_type": "execute_result"
    }
   ],
   "source": [
    "df.columns"
   ]
  },
  {
   "cell_type": "markdown",
   "metadata": {},
   "source": [
    "Создаю пулы, обучаю и тестирую модель"
   ]
  },
  {
   "cell_type": "code",
   "execution_count": 48,
   "metadata": {},
   "outputs": [],
   "source": [
    "cat_features = ['month', 'day', 'dayofweek', 'hour']"
   ]
  },
  {
   "cell_type": "code",
   "execution_count": 49,
   "metadata": {},
   "outputs": [],
   "source": [
    "catboost_train = Pool(x_train, y_train, cat_features=cat_features)"
   ]
  },
  {
   "cell_type": "code",
   "execution_count": 50,
   "metadata": {},
   "outputs": [],
   "source": [
    "catboost = CatBoostRegressor(\n",
    "                          iterations=200, \n",
    "                          depth=4, \n",
    "                          learning_rate=0.2, \n",
    "                          loss_function='RMSE', \n",
    "                          subsample=0.4,\n",
    "                          verbose=0, \n",
    "                          random_seed=123)"
   ]
  },
  {
   "cell_type": "code",
   "execution_count": 51,
   "metadata": {},
   "outputs": [
    {
     "name": "stdout",
     "output_type": "stream",
     "text": [
      "CPU times: user 1.03 s, sys: 63.6 ms, total: 1.09 s\n",
      "Wall time: 2.86 s\n"
     ]
    },
    {
     "data": {
      "text/plain": [
       "<catboost.core.CatBoostRegressor at 0x7f7cc6646670>"
      ]
     },
     "execution_count": 51,
     "metadata": {},
     "output_type": "execute_result"
    }
   ],
   "source": [
    "%%time\n",
    "catboost.fit(catboost_train)"
   ]
  },
  {
   "cell_type": "code",
   "execution_count": 52,
   "metadata": {},
   "outputs": [
    {
     "name": "stdout",
     "output_type": "stream",
     "text": [
      "CPU times: user 6 µs, sys: 0 ns, total: 6 µs\n",
      "Wall time: 11.4 µs\n"
     ]
    },
    {
     "data": {
      "text/plain": [
       "34.531921273808095"
      ]
     },
     "execution_count": 52,
     "metadata": {},
     "output_type": "execute_result"
    }
   ],
   "source": [
    "%time\n",
    "prediction(catboost, x_valid, y_valid)"
   ]
  },
  {
   "cell_type": "markdown",
   "metadata": {},
   "source": [
    "Методом подбора нашёл оптимальные параметры модели"
   ]
  },
  {
   "cell_type": "code",
   "execution_count": 53,
   "metadata": {},
   "outputs": [],
   "source": [
    "cbr  = CatBoostRegressor(\n",
    "                          iterations=250, \n",
    "                          depth=3, \n",
    "                          learning_rate=0.5, \n",
    "                          loss_function='RMSE', \n",
    "                          subsample=0.5,\n",
    "                          verbose=0, \n",
    "                          random_seed=123)"
   ]
  },
  {
   "cell_type": "code",
   "execution_count": 54,
   "metadata": {},
   "outputs": [
    {
     "name": "stdout",
     "output_type": "stream",
     "text": [
      "CPU times: user 1.01 s, sys: 28.2 ms, total: 1.04 s\n",
      "Wall time: 2.58 s\n"
     ]
    },
    {
     "data": {
      "text/plain": [
       "<catboost.core.CatBoostRegressor at 0x7f7cc6660d30>"
      ]
     },
     "execution_count": 54,
     "metadata": {},
     "output_type": "execute_result"
    }
   ],
   "source": [
    "%%time\n",
    "cbr.fit(catboost_train)"
   ]
  },
  {
   "cell_type": "code",
   "execution_count": 55,
   "metadata": {},
   "outputs": [
    {
     "name": "stdout",
     "output_type": "stream",
     "text": [
      "CPU times: user 6.46 ms, sys: 0 ns, total: 6.46 ms\n",
      "Wall time: 4.31 ms\n"
     ]
    },
    {
     "data": {
      "text/plain": [
       "32.39313915627565"
      ]
     },
     "execution_count": 55,
     "metadata": {},
     "output_type": "execute_result"
    }
   ],
   "source": [
    "%%time\n",
    "prediction(cbr, x_valid, y_valid)"
   ]
  },
  {
   "cell_type": "markdown",
   "metadata": {},
   "source": [
    "Также хороший результат.Запишу."
   ]
  },
  {
   "cell_type": "code",
   "execution_count": 56,
   "metadata": {},
   "outputs": [
    {
     "data": {
      "text/html": [
       "<div>\n",
       "<style scoped>\n",
       "    .dataframe tbody tr th:only-of-type {\n",
       "        vertical-align: middle;\n",
       "    }\n",
       "\n",
       "    .dataframe tbody tr th {\n",
       "        vertical-align: top;\n",
       "    }\n",
       "\n",
       "    .dataframe thead th {\n",
       "        text-align: right;\n",
       "    }\n",
       "</style>\n",
       "<table border=\"1\" class=\"dataframe\">\n",
       "  <thead>\n",
       "    <tr style=\"text-align: right;\">\n",
       "      <th></th>\n",
       "      <th>model_name</th>\n",
       "      <th>rmse_valid</th>\n",
       "    </tr>\n",
       "  </thead>\n",
       "  <tbody>\n",
       "    <tr>\n",
       "      <th>0</th>\n",
       "      <td>LinearRegression</td>\n",
       "      <td>40.57</td>\n",
       "    </tr>\n",
       "    <tr>\n",
       "      <th>1</th>\n",
       "      <td>KNeighborsRegressor</td>\n",
       "      <td>35.62</td>\n",
       "    </tr>\n",
       "    <tr>\n",
       "      <th>2</th>\n",
       "      <td>LinearSVR</td>\n",
       "      <td>41.28</td>\n",
       "    </tr>\n",
       "    <tr>\n",
       "      <th>3</th>\n",
       "      <td>GradientBoostingRegressor</td>\n",
       "      <td>32.10</td>\n",
       "    </tr>\n",
       "    <tr>\n",
       "      <th>4</th>\n",
       "      <td>CatBoost</td>\n",
       "      <td>32.39</td>\n",
       "    </tr>\n",
       "  </tbody>\n",
       "</table>\n",
       "</div>"
      ],
      "text/plain": [
       "                  model_name  rmse_valid\n",
       "0           LinearRegression       40.57\n",
       "1        KNeighborsRegressor       35.62\n",
       "2                  LinearSVR       41.28\n",
       "3  GradientBoostingRegressor       32.10\n",
       "4                   CatBoost       32.39"
      ]
     },
     "execution_count": 56,
     "metadata": {},
     "output_type": "execute_result"
    }
   ],
   "source": [
    "results.loc[4,'rmse_valid'] = 32.39\n",
    "\n",
    "results"
   ]
  },
  {
   "cell_type": "markdown",
   "metadata": {},
   "source": [
    "**Вывод:**\n",
    "1. На данном этапе было протестировано 5 моделей\n",
    "2. Все исследуемые модели продемонстрировали показатель метрики rmse, лучше, чем дамми модель.\n",
    "3. На текущий момент лучшей моделью по качеству является GradientBoostingRegressor, худшей - LinearSVR.\n",
    "\n",
    "Перейду к тестированию моделей."
   ]
  },
  {
   "cell_type": "markdown",
   "metadata": {},
   "source": [
    "## Тестирование"
   ]
  },
  {
   "cell_type": "code",
   "execution_count": 57,
   "metadata": {},
   "outputs": [],
   "source": [
    "sub_upd = sub.dropna()"
   ]
  },
  {
   "cell_type": "code",
   "execution_count": 58,
   "metadata": {},
   "outputs": [],
   "source": [
    "feat = sub_upd.drop(['num_orders'], axis=1)\n",
    "targ = sub_upd['num_orders'] \n",
    "\n",
    "\n",
    "feat_mm = min_max.transform(feat)\n",
    "feat_ss = st_sc.transform(feat)"
   ]
  },
  {
   "cell_type": "code",
   "execution_count": 59,
   "metadata": {},
   "outputs": [],
   "source": [
    "catboost_full = Pool(feat, targ, cat_features=cat_features)"
   ]
  },
  {
   "cell_type": "markdown",
   "metadata": {},
   "source": [
    "### LinearRegression"
   ]
  },
  {
   "cell_type": "code",
   "execution_count": 60,
   "metadata": {},
   "outputs": [
    {
     "name": "stdout",
     "output_type": "stream",
     "text": [
      "CPU times: user 5.39 ms, sys: 4.02 ms, total: 9.41 ms\n",
      "Wall time: 6.52 ms\n"
     ]
    },
    {
     "data": {
      "text/plain": [
       "LinearRegression()"
      ]
     },
     "execution_count": 60,
     "metadata": {},
     "output_type": "execute_result"
    }
   ],
   "source": [
    "%%time\n",
    "lr.fit(feat, targ)"
   ]
  },
  {
   "cell_type": "code",
   "execution_count": 61,
   "metadata": {
    "scrolled": true
   },
   "outputs": [
    {
     "name": "stdout",
     "output_type": "stream",
     "text": [
      "CPU times: user 16.9 ms, sys: 4.11 ms, total: 21 ms\n",
      "Wall time: 37.7 ms\n"
     ]
    },
    {
     "data": {
      "text/plain": [
       "53.45464385673254"
      ]
     },
     "execution_count": 61,
     "metadata": {},
     "output_type": "execute_result"
    }
   ],
   "source": [
    "%%time\n",
    "prediction(lr, x_test, y_test)"
   ]
  },
  {
   "cell_type": "code",
   "execution_count": 62,
   "metadata": {},
   "outputs": [
    {
     "data": {
      "text/html": [
       "<div>\n",
       "<style scoped>\n",
       "    .dataframe tbody tr th:only-of-type {\n",
       "        vertical-align: middle;\n",
       "    }\n",
       "\n",
       "    .dataframe tbody tr th {\n",
       "        vertical-align: top;\n",
       "    }\n",
       "\n",
       "    .dataframe thead th {\n",
       "        text-align: right;\n",
       "    }\n",
       "</style>\n",
       "<table border=\"1\" class=\"dataframe\">\n",
       "  <thead>\n",
       "    <tr style=\"text-align: right;\">\n",
       "      <th></th>\n",
       "      <th>model_name</th>\n",
       "      <th>rmse_valid</th>\n",
       "      <th>rmse_test</th>\n",
       "    </tr>\n",
       "  </thead>\n",
       "  <tbody>\n",
       "    <tr>\n",
       "      <th>0</th>\n",
       "      <td>LinearRegression</td>\n",
       "      <td>40.57</td>\n",
       "      <td>53.45</td>\n",
       "    </tr>\n",
       "    <tr>\n",
       "      <th>1</th>\n",
       "      <td>KNeighborsRegressor</td>\n",
       "      <td>35.62</td>\n",
       "      <td>NaN</td>\n",
       "    </tr>\n",
       "    <tr>\n",
       "      <th>2</th>\n",
       "      <td>LinearSVR</td>\n",
       "      <td>41.28</td>\n",
       "      <td>NaN</td>\n",
       "    </tr>\n",
       "    <tr>\n",
       "      <th>3</th>\n",
       "      <td>GradientBoostingRegressor</td>\n",
       "      <td>32.10</td>\n",
       "      <td>NaN</td>\n",
       "    </tr>\n",
       "    <tr>\n",
       "      <th>4</th>\n",
       "      <td>CatBoost</td>\n",
       "      <td>32.39</td>\n",
       "      <td>NaN</td>\n",
       "    </tr>\n",
       "  </tbody>\n",
       "</table>\n",
       "</div>"
      ],
      "text/plain": [
       "                  model_name  rmse_valid  rmse_test\n",
       "0           LinearRegression       40.57      53.45\n",
       "1        KNeighborsRegressor       35.62        NaN\n",
       "2                  LinearSVR       41.28        NaN\n",
       "3  GradientBoostingRegressor       32.10        NaN\n",
       "4                   CatBoost       32.39        NaN"
      ]
     },
     "execution_count": 62,
     "metadata": {},
     "output_type": "execute_result"
    }
   ],
   "source": [
    "results.loc[0,'rmse_test'] = 53.45\n",
    "results"
   ]
  },
  {
   "cell_type": "markdown",
   "metadata": {},
   "source": [
    "### KNeighborsRegressor"
   ]
  },
  {
   "cell_type": "code",
   "execution_count": 63,
   "metadata": {},
   "outputs": [
    {
     "name": "stdout",
     "output_type": "stream",
     "text": [
      "CPU times: user 13.4 ms, sys: 37 µs, total: 13.5 ms\n",
      "Wall time: 12.5 ms\n"
     ]
    },
    {
     "data": {
      "text/plain": [
       "KNeighborsRegressor(leaf_size=20, metric='manhattan', n_neighbors=9)"
      ]
     },
     "execution_count": 63,
     "metadata": {},
     "output_type": "execute_result"
    }
   ],
   "source": [
    "%%time\n",
    "knn.fit(feat_mm, targ)"
   ]
  },
  {
   "cell_type": "code",
   "execution_count": 64,
   "metadata": {},
   "outputs": [
    {
     "name": "stdout",
     "output_type": "stream",
     "text": [
      "CPU times: user 217 ms, sys: 4.23 ms, total: 221 ms\n",
      "Wall time: 239 ms\n"
     ]
    },
    {
     "data": {
      "text/plain": [
       "52.25397796826214"
      ]
     },
     "execution_count": 64,
     "metadata": {},
     "output_type": "execute_result"
    }
   ],
   "source": [
    "%%time\n",
    "prediction(knn, x_test_mm, y_test)"
   ]
  },
  {
   "cell_type": "code",
   "execution_count": 65,
   "metadata": {},
   "outputs": [
    {
     "data": {
      "text/html": [
       "<div>\n",
       "<style scoped>\n",
       "    .dataframe tbody tr th:only-of-type {\n",
       "        vertical-align: middle;\n",
       "    }\n",
       "\n",
       "    .dataframe tbody tr th {\n",
       "        vertical-align: top;\n",
       "    }\n",
       "\n",
       "    .dataframe thead th {\n",
       "        text-align: right;\n",
       "    }\n",
       "</style>\n",
       "<table border=\"1\" class=\"dataframe\">\n",
       "  <thead>\n",
       "    <tr style=\"text-align: right;\">\n",
       "      <th></th>\n",
       "      <th>model_name</th>\n",
       "      <th>rmse_valid</th>\n",
       "      <th>rmse_test</th>\n",
       "    </tr>\n",
       "  </thead>\n",
       "  <tbody>\n",
       "    <tr>\n",
       "      <th>0</th>\n",
       "      <td>LinearRegression</td>\n",
       "      <td>40.57</td>\n",
       "      <td>53.45</td>\n",
       "    </tr>\n",
       "    <tr>\n",
       "      <th>1</th>\n",
       "      <td>KNeighborsRegressor</td>\n",
       "      <td>35.62</td>\n",
       "      <td>52.25</td>\n",
       "    </tr>\n",
       "    <tr>\n",
       "      <th>2</th>\n",
       "      <td>LinearSVR</td>\n",
       "      <td>41.28</td>\n",
       "      <td>NaN</td>\n",
       "    </tr>\n",
       "    <tr>\n",
       "      <th>3</th>\n",
       "      <td>GradientBoostingRegressor</td>\n",
       "      <td>32.10</td>\n",
       "      <td>NaN</td>\n",
       "    </tr>\n",
       "    <tr>\n",
       "      <th>4</th>\n",
       "      <td>CatBoost</td>\n",
       "      <td>32.39</td>\n",
       "      <td>NaN</td>\n",
       "    </tr>\n",
       "  </tbody>\n",
       "</table>\n",
       "</div>"
      ],
      "text/plain": [
       "                  model_name  rmse_valid  rmse_test\n",
       "0           LinearRegression       40.57      53.45\n",
       "1        KNeighborsRegressor       35.62      52.25\n",
       "2                  LinearSVR       41.28        NaN\n",
       "3  GradientBoostingRegressor       32.10        NaN\n",
       "4                   CatBoost       32.39        NaN"
      ]
     },
     "execution_count": 65,
     "metadata": {},
     "output_type": "execute_result"
    }
   ],
   "source": [
    "results.loc[1,'rmse_test'] = 52.25\n",
    "results"
   ]
  },
  {
   "cell_type": "markdown",
   "metadata": {},
   "source": [
    "### LinearSVR"
   ]
  },
  {
   "cell_type": "code",
   "execution_count": 66,
   "metadata": {},
   "outputs": [
    {
     "name": "stdout",
     "output_type": "stream",
     "text": [
      "CPU times: user 16 ms, sys: 2 µs, total: 16 ms\n",
      "Wall time: 15 ms\n"
     ]
    },
    {
     "data": {
      "text/plain": [
       "LinearSVR(C=1, max_iter=100, random_state=123)"
      ]
     },
     "execution_count": 66,
     "metadata": {},
     "output_type": "execute_result"
    }
   ],
   "source": [
    "%%time\n",
    "svm.fit(feat_ss, targ)"
   ]
  },
  {
   "cell_type": "code",
   "execution_count": 67,
   "metadata": {},
   "outputs": [
    {
     "name": "stdout",
     "output_type": "stream",
     "text": [
      "CPU times: user 2.21 ms, sys: 0 ns, total: 2.21 ms\n",
      "Wall time: 1.94 ms\n"
     ]
    },
    {
     "data": {
      "text/plain": [
       "54.38838751733362"
      ]
     },
     "execution_count": 67,
     "metadata": {},
     "output_type": "execute_result"
    }
   ],
   "source": [
    "%%time\n",
    "prediction(svm, x_test_ss, y_test)"
   ]
  },
  {
   "cell_type": "code",
   "execution_count": 68,
   "metadata": {},
   "outputs": [
    {
     "data": {
      "text/html": [
       "<div>\n",
       "<style scoped>\n",
       "    .dataframe tbody tr th:only-of-type {\n",
       "        vertical-align: middle;\n",
       "    }\n",
       "\n",
       "    .dataframe tbody tr th {\n",
       "        vertical-align: top;\n",
       "    }\n",
       "\n",
       "    .dataframe thead th {\n",
       "        text-align: right;\n",
       "    }\n",
       "</style>\n",
       "<table border=\"1\" class=\"dataframe\">\n",
       "  <thead>\n",
       "    <tr style=\"text-align: right;\">\n",
       "      <th></th>\n",
       "      <th>model_name</th>\n",
       "      <th>rmse_valid</th>\n",
       "      <th>rmse_test</th>\n",
       "    </tr>\n",
       "  </thead>\n",
       "  <tbody>\n",
       "    <tr>\n",
       "      <th>0</th>\n",
       "      <td>LinearRegression</td>\n",
       "      <td>40.57</td>\n",
       "      <td>53.45</td>\n",
       "    </tr>\n",
       "    <tr>\n",
       "      <th>1</th>\n",
       "      <td>KNeighborsRegressor</td>\n",
       "      <td>35.62</td>\n",
       "      <td>52.25</td>\n",
       "    </tr>\n",
       "    <tr>\n",
       "      <th>2</th>\n",
       "      <td>LinearSVR</td>\n",
       "      <td>41.28</td>\n",
       "      <td>54.39</td>\n",
       "    </tr>\n",
       "    <tr>\n",
       "      <th>3</th>\n",
       "      <td>GradientBoostingRegressor</td>\n",
       "      <td>32.10</td>\n",
       "      <td>NaN</td>\n",
       "    </tr>\n",
       "    <tr>\n",
       "      <th>4</th>\n",
       "      <td>CatBoost</td>\n",
       "      <td>32.39</td>\n",
       "      <td>NaN</td>\n",
       "    </tr>\n",
       "  </tbody>\n",
       "</table>\n",
       "</div>"
      ],
      "text/plain": [
       "                  model_name  rmse_valid  rmse_test\n",
       "0           LinearRegression       40.57      53.45\n",
       "1        KNeighborsRegressor       35.62      52.25\n",
       "2                  LinearSVR       41.28      54.39\n",
       "3  GradientBoostingRegressor       32.10        NaN\n",
       "4                   CatBoost       32.39        NaN"
      ]
     },
     "execution_count": 68,
     "metadata": {},
     "output_type": "execute_result"
    }
   ],
   "source": [
    "results.loc[2,'rmse_test'] = 54.39\n",
    "results"
   ]
  },
  {
   "cell_type": "markdown",
   "metadata": {},
   "source": [
    "### GradientBoostingRegressor"
   ]
  },
  {
   "cell_type": "code",
   "execution_count": 69,
   "metadata": {},
   "outputs": [
    {
     "name": "stdout",
     "output_type": "stream",
     "text": [
      "CPU times: user 3.72 s, sys: 202 µs, total: 3.72 s\n",
      "Wall time: 3.73 s\n"
     ]
    },
    {
     "data": {
      "text/plain": [
       "GradientBoostingRegressor(learning_rate=0.15, max_depth=4, min_samples_split=4,\n",
       "                          n_estimators=200, random_state=123, tol=0.001)"
      ]
     },
     "execution_count": 69,
     "metadata": {},
     "output_type": "execute_result"
    }
   ],
   "source": [
    "%%time\n",
    "gbr.fit(feat, targ)"
   ]
  },
  {
   "cell_type": "code",
   "execution_count": 70,
   "metadata": {},
   "outputs": [
    {
     "name": "stdout",
     "output_type": "stream",
     "text": [
      "CPU times: user 8.94 ms, sys: 23 µs, total: 8.96 ms\n",
      "Wall time: 10.3 ms\n"
     ]
    },
    {
     "data": {
      "text/plain": [
       "45.71549058152509"
      ]
     },
     "execution_count": 70,
     "metadata": {},
     "output_type": "execute_result"
    }
   ],
   "source": [
    "%%time\n",
    "prediction(gbr, x_test, y_test)"
   ]
  },
  {
   "cell_type": "code",
   "execution_count": 71,
   "metadata": {},
   "outputs": [
    {
     "data": {
      "text/html": [
       "<div>\n",
       "<style scoped>\n",
       "    .dataframe tbody tr th:only-of-type {\n",
       "        vertical-align: middle;\n",
       "    }\n",
       "\n",
       "    .dataframe tbody tr th {\n",
       "        vertical-align: top;\n",
       "    }\n",
       "\n",
       "    .dataframe thead th {\n",
       "        text-align: right;\n",
       "    }\n",
       "</style>\n",
       "<table border=\"1\" class=\"dataframe\">\n",
       "  <thead>\n",
       "    <tr style=\"text-align: right;\">\n",
       "      <th></th>\n",
       "      <th>model_name</th>\n",
       "      <th>rmse_valid</th>\n",
       "      <th>rmse_test</th>\n",
       "    </tr>\n",
       "  </thead>\n",
       "  <tbody>\n",
       "    <tr>\n",
       "      <th>0</th>\n",
       "      <td>LinearRegression</td>\n",
       "      <td>40.57</td>\n",
       "      <td>53.45</td>\n",
       "    </tr>\n",
       "    <tr>\n",
       "      <th>1</th>\n",
       "      <td>KNeighborsRegressor</td>\n",
       "      <td>35.62</td>\n",
       "      <td>52.25</td>\n",
       "    </tr>\n",
       "    <tr>\n",
       "      <th>2</th>\n",
       "      <td>LinearSVR</td>\n",
       "      <td>41.28</td>\n",
       "      <td>54.39</td>\n",
       "    </tr>\n",
       "    <tr>\n",
       "      <th>3</th>\n",
       "      <td>GradientBoostingRegressor</td>\n",
       "      <td>32.10</td>\n",
       "      <td>45.72</td>\n",
       "    </tr>\n",
       "    <tr>\n",
       "      <th>4</th>\n",
       "      <td>CatBoost</td>\n",
       "      <td>32.39</td>\n",
       "      <td>NaN</td>\n",
       "    </tr>\n",
       "  </tbody>\n",
       "</table>\n",
       "</div>"
      ],
      "text/plain": [
       "                  model_name  rmse_valid  rmse_test\n",
       "0           LinearRegression       40.57      53.45\n",
       "1        KNeighborsRegressor       35.62      52.25\n",
       "2                  LinearSVR       41.28      54.39\n",
       "3  GradientBoostingRegressor       32.10      45.72\n",
       "4                   CatBoost       32.39        NaN"
      ]
     },
     "execution_count": 71,
     "metadata": {},
     "output_type": "execute_result"
    }
   ],
   "source": [
    "results.loc[3,'rmse_test'] = 45.72\n",
    "results"
   ]
  },
  {
   "cell_type": "markdown",
   "metadata": {},
   "source": [
    "### CatBoostRegressor"
   ]
  },
  {
   "cell_type": "code",
   "execution_count": 72,
   "metadata": {},
   "outputs": [
    {
     "name": "stdout",
     "output_type": "stream",
     "text": [
      "CPU times: user 1.22 s, sys: 16.2 ms, total: 1.23 s\n",
      "Wall time: 2.83 s\n"
     ]
    },
    {
     "data": {
      "text/plain": [
       "<catboost.core.CatBoostRegressor at 0x7f7cc6646670>"
      ]
     },
     "execution_count": 72,
     "metadata": {},
     "output_type": "execute_result"
    }
   ],
   "source": [
    "%%time\n",
    "catboost.fit(catboost_full)"
   ]
  },
  {
   "cell_type": "code",
   "execution_count": 73,
   "metadata": {},
   "outputs": [
    {
     "name": "stdout",
     "output_type": "stream",
     "text": [
      "CPU times: user 6.58 ms, sys: 0 ns, total: 6.58 ms\n",
      "Wall time: 10.6 ms\n"
     ]
    },
    {
     "data": {
      "text/plain": [
       "40.63003942157542"
      ]
     },
     "execution_count": 73,
     "metadata": {},
     "output_type": "execute_result"
    }
   ],
   "source": [
    "%%time\n",
    "prediction(catboost, x_test, y_test)"
   ]
  },
  {
   "cell_type": "code",
   "execution_count": 74,
   "metadata": {},
   "outputs": [
    {
     "data": {
      "text/html": [
       "<div>\n",
       "<style scoped>\n",
       "    .dataframe tbody tr th:only-of-type {\n",
       "        vertical-align: middle;\n",
       "    }\n",
       "\n",
       "    .dataframe tbody tr th {\n",
       "        vertical-align: top;\n",
       "    }\n",
       "\n",
       "    .dataframe thead th {\n",
       "        text-align: right;\n",
       "    }\n",
       "</style>\n",
       "<table border=\"1\" class=\"dataframe\">\n",
       "  <thead>\n",
       "    <tr style=\"text-align: right;\">\n",
       "      <th></th>\n",
       "      <th>model_name</th>\n",
       "      <th>rmse_valid</th>\n",
       "      <th>rmse_test</th>\n",
       "    </tr>\n",
       "  </thead>\n",
       "  <tbody>\n",
       "    <tr>\n",
       "      <th>0</th>\n",
       "      <td>LinearRegression</td>\n",
       "      <td>40.57</td>\n",
       "      <td>53.45</td>\n",
       "    </tr>\n",
       "    <tr>\n",
       "      <th>1</th>\n",
       "      <td>KNeighborsRegressor</td>\n",
       "      <td>35.62</td>\n",
       "      <td>52.25</td>\n",
       "    </tr>\n",
       "    <tr>\n",
       "      <th>2</th>\n",
       "      <td>LinearSVR</td>\n",
       "      <td>41.28</td>\n",
       "      <td>54.39</td>\n",
       "    </tr>\n",
       "    <tr>\n",
       "      <th>3</th>\n",
       "      <td>GradientBoostingRegressor</td>\n",
       "      <td>32.10</td>\n",
       "      <td>45.72</td>\n",
       "    </tr>\n",
       "    <tr>\n",
       "      <th>4</th>\n",
       "      <td>CatBoost</td>\n",
       "      <td>32.39</td>\n",
       "      <td>40.63</td>\n",
       "    </tr>\n",
       "  </tbody>\n",
       "</table>\n",
       "</div>"
      ],
      "text/plain": [
       "                  model_name  rmse_valid  rmse_test\n",
       "0           LinearRegression       40.57      53.45\n",
       "1        KNeighborsRegressor       35.62      52.25\n",
       "2                  LinearSVR       41.28      54.39\n",
       "3  GradientBoostingRegressor       32.10      45.72\n",
       "4                   CatBoost       32.39      40.63"
      ]
     },
     "execution_count": 74,
     "metadata": {},
     "output_type": "execute_result"
    }
   ],
   "source": [
    "results.loc[4,'rmse_test'] = 40.63\n",
    "results"
   ]
  },
  {
   "cell_type": "code",
   "execution_count": 75,
   "metadata": {},
   "outputs": [
    {
     "data": {
      "text/html": [
       "<div>\n",
       "<style scoped>\n",
       "    .dataframe tbody tr th:only-of-type {\n",
       "        vertical-align: middle;\n",
       "    }\n",
       "\n",
       "    .dataframe tbody tr th {\n",
       "        vertical-align: top;\n",
       "    }\n",
       "\n",
       "    .dataframe thead th {\n",
       "        text-align: right;\n",
       "    }\n",
       "</style>\n",
       "<table border=\"1\" class=\"dataframe\">\n",
       "  <thead>\n",
       "    <tr style=\"text-align: right;\">\n",
       "      <th></th>\n",
       "      <th>model_name</th>\n",
       "      <th>rmse_valid</th>\n",
       "      <th>rmse_test</th>\n",
       "    </tr>\n",
       "  </thead>\n",
       "  <tbody>\n",
       "    <tr>\n",
       "      <th>4</th>\n",
       "      <td>CatBoost</td>\n",
       "      <td>32.39</td>\n",
       "      <td>40.63</td>\n",
       "    </tr>\n",
       "    <tr>\n",
       "      <th>3</th>\n",
       "      <td>GradientBoostingRegressor</td>\n",
       "      <td>32.10</td>\n",
       "      <td>45.72</td>\n",
       "    </tr>\n",
       "    <tr>\n",
       "      <th>1</th>\n",
       "      <td>KNeighborsRegressor</td>\n",
       "      <td>35.62</td>\n",
       "      <td>52.25</td>\n",
       "    </tr>\n",
       "    <tr>\n",
       "      <th>0</th>\n",
       "      <td>LinearRegression</td>\n",
       "      <td>40.57</td>\n",
       "      <td>53.45</td>\n",
       "    </tr>\n",
       "    <tr>\n",
       "      <th>2</th>\n",
       "      <td>LinearSVR</td>\n",
       "      <td>41.28</td>\n",
       "      <td>54.39</td>\n",
       "    </tr>\n",
       "  </tbody>\n",
       "</table>\n",
       "</div>"
      ],
      "text/plain": [
       "                  model_name  rmse_valid  rmse_test\n",
       "4                   CatBoost       32.39      40.63\n",
       "3  GradientBoostingRegressor       32.10      45.72\n",
       "1        KNeighborsRegressor       35.62      52.25\n",
       "0           LinearRegression       40.57      53.45\n",
       "2                  LinearSVR       41.28      54.39"
      ]
     },
     "execution_count": 75,
     "metadata": {},
     "output_type": "execute_result"
    }
   ],
   "source": [
    "sort = results.sort_values(by='rmse_test')\n",
    "sort"
   ]
  },
  {
   "cell_type": "code",
   "execution_count": 129,
   "metadata": {},
   "outputs": [
    {
     "data": {
      "image/png": "[encoded data removed]",
      "text/plain": [
       "<Figure size 864x504 with 1 Axes>"
      ]
     },
     "metadata": {},
     "output_type": "display_data"
    }
   ],
   "source": [
    "x = ['CatBoost', 'GradientBoostingRegressor', 'KNeighborsRegressor', 'LinearRegression', 'LinearSVR']\n",
    "y1 = [32.39, 32.10, 35.62, 40.57, 41.28]\n",
    "y2 = [40.63, 45.72, 52.25, 53.45, 54.39]\n",
    "y3 =[48,48,48,48,48]\n",
    "plt.figure(figsize=(12, 7))\n",
    "plt.plot(x, y1, 'o-r', alpha=0.7, label=\"rmse_valid\", lw=5, mec='b', mew=2, ms=10)\n",
    "plt.plot(x, y2, 'v-.b', label=\"rmse_test\", mec='r', lw=2, mew=2, ms=12)\n",
    "plt.plot(x, y3, color='green', linestyle='dashed')\n",
    "\n",
    "plt.legend()\n",
    "plt.grid(True)"
   ]
  },
  {
   "cell_type": "markdown",
   "metadata": {},
   "source": [
    "**Вывод:**\n",
    "1. На данном этапе производилось измерение качества предсказаний на тестовой выборке.\n",
    "2. По результатам исследования к применению в реальной работе рекомендуются CatBoostRegressor и GradientBoostingRegressor. Они показали лучше результаты и \"вписались\" в требования проекта."
   ]
  },
  {
   "cell_type": "markdown",
   "metadata": {},
   "source": [
    "## Вывод проекта"
   ]
  },
  {
   "cell_type": "markdown",
   "metadata": {},
   "source": [
    "**Целью проекта является:**\n",
    "1. Загрузить данные и выполнить их ресемплирование по одному часу.\n",
    "2. Проанализировать данные.\n",
    "3. Обучить разные модели с различными гиперпараметрами. Сделать тестовую выборку размером 10% от исходных данных.\n",
    "4. Проверить данные на тестовой выборке и сделать выводы.\n",
    "Значение метрики RMSE на тестовой выборке должно быть не больше 48.\n",
    "\n",
    "**В данном проекте:**\n",
    "1. Данные загружены, изучены, выполнено ресемплирование по 1 часу.\n",
    "2. Данные проанализированы. Чаще всего за час в службу такси поступают в среднем 78 заказов. На протяжении исследуемого периода заметен тренд к увеличению количество заказов. Обнаружена \"сезонность\" загруженности: пиковые часы приходятся на 00 и примерно на 15-17 часов вечера,Минимальная загрузка наблюдается в течение часа, с 6 до 7 утра, так же две небольшие просадки количества заказов заметны в 12 и примерно 18-19 часов. Можно предположить о необходимости усиления рабочих смен таксистов именно указанные выше пиковые часы.\n",
    "3. Было обучено 5 разных моделей с тестовой выборкой размером 10% от исходных данных. Лучшей моделью по качеству является GradientBoostingRegressor, худшей - LinearSVR.\n",
    "4. Были проверены данные на тестовой выборке.По результатам исследования к применению в реальной работе рекомендуются CatBoostRegressor и GradientBoostingRegressor. Они показали лучше результаты и \"вписались\" в требования проекта с показаниями метрики RMSE 40.63 и 45.72 соответственно.\n",
    "\n",
    "P.S. После финальной компиляции проекта кэтбуст улучшился на 2 пункта. Интересно) Псевдослучайность никто не отменял."
   ]
  },
  {
   "cell_type": "markdown",
   "metadata": {},
   "source": [
    "## Чек-лист проверки"
   ]
  },
  {
   "cell_type": "markdown",
   "metadata": {},
   "source": [
    "- [x]  Jupyter Notebook открыт\n",
    "- [x]  Весь код выполняется без ошибок\n",
    "- [x]  Ячейки с кодом расположены в порядке исполнения\n",
    "- [x]  Данные загружены и подготовлены\n",
    "- [x]  Данные проанализированы\n",
    "- [x]  Модель обучена, гиперпараметры подобраны\n",
    "- [x]  Качество моделей проверено, выводы сделаны\n",
    "- [x]  Значение *RMSE* на тестовой выборке не больше 48"
   ]
  }
 ],
 "metadata": {
  "ExecuteTimeLog": [
   {
    "duration": 3200,
    "start_time": "2022-05-15T18:10:30.029Z"
   },
   {
    "duration": 61,
    "start_time": "2022-05-15T18:10:33.232Z"
   },
   {
    "duration": 220,
    "start_time": "2022-05-15T18:10:42.432Z"
   },
   {
    "duration": 28,
    "start_time": "2022-05-15T18:10:50.378Z"
   },
   {
    "duration": 14,
    "start_time": "2022-05-15T18:11:11.514Z"
   },
   {
    "duration": 20,
    "start_time": "2022-05-15T18:12:02.363Z"
   },
   {
    "duration": 11,
    "start_time": "2022-05-15T18:13:23.117Z"
   },
   {
    "duration": 16,
    "start_time": "2022-05-15T18:13:27.684Z"
   },
   {
    "duration": 15,
    "start_time": "2022-05-15T18:13:45.411Z"
   },
   {
    "duration": 19,
    "start_time": "2022-05-15T18:14:23.306Z"
   },
   {
    "duration": 18,
    "start_time": "2022-05-15T18:15:40.368Z"
   },
   {
    "duration": 11,
    "start_time": "2022-05-15T18:15:44.425Z"
   },
   {
    "duration": 322,
    "start_time": "2022-05-15T18:17:04.484Z"
   },
   {
    "duration": 401,
    "start_time": "2022-05-15T18:17:33.664Z"
   },
   {
    "duration": 462,
    "start_time": "2022-05-15T18:17:41.342Z"
   },
   {
    "duration": 486,
    "start_time": "2022-05-15T18:17:53.345Z"
   },
   {
    "duration": 446,
    "start_time": "2022-05-15T18:18:13.194Z"
   },
   {
    "duration": 548,
    "start_time": "2022-05-15T18:20:21.358Z"
   },
   {
    "duration": 279,
    "start_time": "2022-05-15T18:20:26.902Z"
   },
   {
    "duration": 446,
    "start_time": "2022-05-15T18:20:33.730Z"
   },
   {
    "duration": 731,
    "start_time": "2022-05-15T18:20:38.694Z"
   },
   {
    "duration": 454,
    "start_time": "2022-05-15T18:20:42.053Z"
   },
   {
    "duration": 15,
    "start_time": "2022-05-15T18:21:14.397Z"
   },
   {
    "duration": 803,
    "start_time": "2022-05-15T18:21:19.670Z"
   },
   {
    "duration": 1992,
    "start_time": "2022-05-15T18:22:40.814Z"
   },
   {
    "duration": 573,
    "start_time": "2022-05-15T18:23:19.509Z"
   },
   {
    "duration": 6,
    "start_time": "2022-05-15T18:24:38.689Z"
   },
   {
    "duration": 20,
    "start_time": "2022-05-15T18:24:39.274Z"
   },
   {
    "duration": 23,
    "start_time": "2022-05-15T18:24:39.821Z"
   },
   {
    "duration": 9,
    "start_time": "2022-05-15T18:25:10.071Z"
   },
   {
    "duration": 7,
    "start_time": "2022-05-15T18:25:16.172Z"
   },
   {
    "duration": 6,
    "start_time": "2022-05-15T18:25:24.373Z"
   },
   {
    "duration": 8,
    "start_time": "2022-05-15T18:25:43.996Z"
   },
   {
    "duration": 9,
    "start_time": "2022-05-15T18:26:07.143Z"
   },
   {
    "duration": 15,
    "start_time": "2022-05-15T18:26:20.682Z"
   },
   {
    "duration": 5,
    "start_time": "2022-05-15T18:26:30.293Z"
   },
   {
    "duration": 10,
    "start_time": "2022-05-15T18:26:44.340Z"
   },
   {
    "duration": 16,
    "start_time": "2022-05-15T18:29:09.380Z"
   },
   {
    "duration": 103,
    "start_time": "2022-05-15T18:29:21.341Z"
   },
   {
    "duration": 102,
    "start_time": "2022-05-15T18:29:28.793Z"
   },
   {
    "duration": 16,
    "start_time": "2022-05-15T18:29:42.102Z"
   },
   {
    "duration": 13,
    "start_time": "2022-05-15T18:30:01.520Z"
   },
   {
    "duration": 15,
    "start_time": "2022-05-15T18:30:22.650Z"
   },
   {
    "duration": 4,
    "start_time": "2022-05-15T18:30:40.382Z"
   },
   {
    "duration": 4,
    "start_time": "2022-05-15T18:30:54.203Z"
   },
   {
    "duration": 44414,
    "start_time": "2022-05-15T18:31:06.667Z"
   },
   {
    "duration": 4,
    "start_time": "2022-05-15T18:32:10.345Z"
   },
   {
    "duration": 17,
    "start_time": "2022-05-15T18:32:11.018Z"
   },
   {
    "duration": 121,
    "start_time": "2022-05-15T18:32:11.669Z"
   },
   {
    "duration": 55,
    "start_time": "2022-05-15T18:32:15.612Z"
   },
   {
    "duration": 5,
    "start_time": "2022-05-15T18:32:48.339Z"
   },
   {
    "duration": 11,
    "start_time": "2022-05-15T18:32:54.820Z"
   },
   {
    "duration": 16,
    "start_time": "2022-05-15T18:33:51.060Z"
   },
   {
    "duration": 5,
    "start_time": "2022-05-15T18:34:00.129Z"
   },
   {
    "duration": 11,
    "start_time": "2022-05-15T18:34:06.734Z"
   },
   {
    "duration": 17519,
    "start_time": "2022-05-15T18:34:09.939Z"
   },
   {
    "duration": 4,
    "start_time": "2022-05-15T18:35:04.743Z"
   },
   {
    "duration": 113,
    "start_time": "2022-05-15T18:35:05.420Z"
   },
   {
    "duration": 15,
    "start_time": "2022-05-15T18:35:09.145Z"
   },
   {
    "duration": 9,
    "start_time": "2022-05-15T18:35:13.193Z"
   },
   {
    "duration": 11,
    "start_time": "2022-05-15T18:35:13.849Z"
   },
   {
    "duration": 10,
    "start_time": "2022-05-15T18:36:39.281Z"
   },
   {
    "duration": 5,
    "start_time": "2022-05-15T18:36:56.085Z"
   },
   {
    "duration": 3,
    "start_time": "2022-05-15T18:37:20.082Z"
   },
   {
    "duration": 393126,
    "start_time": "2022-05-15T18:37:37.700Z"
   },
   {
    "duration": 4,
    "start_time": "2022-05-15T18:44:23.426Z"
   },
   {
    "duration": 2296,
    "start_time": "2022-05-15T18:44:24.389Z"
   },
   {
    "duration": 14,
    "start_time": "2022-05-15T18:44:26.688Z"
   },
   {
    "duration": 14,
    "start_time": "2022-05-15T18:44:26.704Z"
   },
   {
    "duration": 10,
    "start_time": "2022-05-15T18:44:35.924Z"
   },
   {
    "duration": 6,
    "start_time": "2022-05-15T18:45:14.504Z"
   },
   {
    "duration": 4,
    "start_time": "2022-05-15T18:45:25.663Z"
   },
   {
    "duration": 14,
    "start_time": "2022-05-15T18:45:37.102Z"
   },
   {
    "duration": 4,
    "start_time": "2022-05-15T18:45:52.212Z"
   },
   {
    "duration": 2818,
    "start_time": "2022-05-15T18:45:58.707Z"
   },
   {
    "duration": 13,
    "start_time": "2022-05-15T18:46:07.024Z"
   },
   {
    "duration": 12,
    "start_time": "2022-05-15T18:46:10.045Z"
   },
   {
    "duration": 9984,
    "start_time": "2022-05-15T18:46:42.669Z"
   },
   {
    "duration": 17,
    "start_time": "2022-05-15T18:47:03.024Z"
   },
   {
    "duration": 6,
    "start_time": "2022-05-15T18:47:46.625Z"
   },
   {
    "duration": 1749,
    "start_time": "2022-05-15T18:47:52.664Z"
   },
   {
    "duration": 120,
    "start_time": "2022-05-15T18:47:59.505Z"
   },
   {
    "duration": 15,
    "start_time": "2022-05-15T18:48:03.298Z"
   },
   {
    "duration": 18,
    "start_time": "2022-05-15T18:48:19.367Z"
   },
   {
    "duration": 10,
    "start_time": "2022-05-15T18:48:35.135Z"
   },
   {
    "duration": 17,
    "start_time": "2022-05-15T18:48:45.157Z"
   },
   {
    "duration": 9,
    "start_time": "2022-05-15T18:48:52.444Z"
   },
   {
    "duration": 16,
    "start_time": "2022-05-15T18:48:58.276Z"
   },
   {
    "duration": 113,
    "start_time": "2022-05-15T18:49:14.665Z"
   },
   {
    "duration": 10,
    "start_time": "2022-05-15T18:49:18.139Z"
   },
   {
    "duration": 8,
    "start_time": "2022-05-15T18:49:53.358Z"
   },
   {
    "duration": 12,
    "start_time": "2022-05-15T18:49:57.325Z"
   },
   {
    "duration": 17,
    "start_time": "2022-05-15T18:50:11.765Z"
   },
   {
    "duration": 103,
    "start_time": "2022-05-15T18:50:18.566Z"
   },
   {
    "duration": 74,
    "start_time": "2022-05-15T18:50:21.530Z"
   },
   {
    "duration": 5,
    "start_time": "2022-05-15T18:50:35.050Z"
   },
   {
    "duration": 12,
    "start_time": "2022-05-15T18:50:39.686Z"
   },
   {
    "duration": 18,
    "start_time": "2022-05-15T18:50:50.163Z"
   },
   {
    "duration": 9,
    "start_time": "2022-05-15T18:51:03.063Z"
   },
   {
    "duration": 5,
    "start_time": "2022-05-15T18:51:18.173Z"
   },
   {
    "duration": 12,
    "start_time": "2022-05-15T18:51:22.569Z"
   },
   {
    "duration": 2768,
    "start_time": "2022-05-15T18:51:29.562Z"
   },
   {
    "duration": 12,
    "start_time": "2022-05-15T18:51:38.232Z"
   },
   {
    "duration": 12,
    "start_time": "2022-05-15T18:51:56.280Z"
   },
   {
    "duration": 3066,
    "start_time": "2022-05-15T18:52:03.266Z"
   },
   {
    "duration": 12,
    "start_time": "2022-05-15T18:52:16.235Z"
   },
   {
    "duration": 17,
    "start_time": "2022-05-15T18:52:34.232Z"
   },
   {
    "duration": 18,
    "start_time": "2022-05-15T18:52:58.194Z"
   },
   {
    "duration": 789,
    "start_time": "2022-05-15T19:04:56.043Z"
   },
   {
    "duration": 579,
    "start_time": "2022-05-15T19:07:18.663Z"
   },
   {
    "duration": 2374,
    "start_time": "2022-05-15T19:39:13.629Z"
   },
   {
    "duration": 57,
    "start_time": "2022-05-15T19:39:16.008Z"
   },
   {
    "duration": 21,
    "start_time": "2022-05-15T19:39:16.068Z"
   },
   {
    "duration": 18,
    "start_time": "2022-05-15T19:39:16.092Z"
   },
   {
    "duration": 6,
    "start_time": "2022-05-15T19:39:16.114Z"
   },
   {
    "duration": 21,
    "start_time": "2022-05-15T19:39:16.157Z"
   },
   {
    "duration": 12,
    "start_time": "2022-05-15T19:39:16.180Z"
   },
   {
    "duration": 493,
    "start_time": "2022-05-15T19:39:16.195Z"
   },
   {
    "duration": 784,
    "start_time": "2022-05-15T19:39:16.690Z"
   },
   {
    "duration": 2037,
    "start_time": "2022-05-15T19:39:17.476Z"
   },
   {
    "duration": 641,
    "start_time": "2022-05-15T19:39:19.515Z"
   },
   {
    "duration": 9,
    "start_time": "2022-05-15T19:39:20.159Z"
   },
   {
    "duration": 36,
    "start_time": "2022-05-15T19:39:20.170Z"
   },
   {
    "duration": 47,
    "start_time": "2022-05-15T19:39:20.211Z"
   },
   {
    "duration": 12,
    "start_time": "2022-05-15T19:39:20.260Z"
   },
   {
    "duration": 13,
    "start_time": "2022-05-15T19:39:20.275Z"
   },
   {
    "duration": 33,
    "start_time": "2022-05-15T19:39:20.291Z"
   },
   {
    "duration": 35,
    "start_time": "2022-05-15T19:39:20.327Z"
   },
   {
    "duration": 27,
    "start_time": "2022-05-15T19:39:20.364Z"
   },
   {
    "duration": 41,
    "start_time": "2022-05-15T19:39:20.393Z"
   },
   {
    "duration": 11,
    "start_time": "2022-05-15T19:39:20.456Z"
   },
   {
    "duration": 96,
    "start_time": "2022-05-15T19:39:20.471Z"
   },
   {
    "duration": 25,
    "start_time": "2022-05-15T19:39:20.569Z"
   },
   {
    "duration": 20,
    "start_time": "2022-05-15T19:39:20.596Z"
   },
   {
    "duration": 52,
    "start_time": "2022-05-15T19:39:20.618Z"
   },
   {
    "duration": 8,
    "start_time": "2022-05-15T19:39:20.673Z"
   },
   {
    "duration": 63105,
    "start_time": "2022-05-15T19:39:20.683Z"
   },
   {
    "duration": 4,
    "start_time": "2022-05-15T19:40:23.791Z"
   },
   {
    "duration": 24,
    "start_time": "2022-05-15T19:40:23.797Z"
   },
   {
    "duration": 85,
    "start_time": "2022-05-15T19:40:23.824Z"
   },
   {
    "duration": 11,
    "start_time": "2022-05-15T19:40:23.912Z"
   },
   {
    "duration": 39,
    "start_time": "2022-05-15T19:40:23.926Z"
   },
   {
    "duration": 6,
    "start_time": "2022-05-15T19:40:23.967Z"
   },
   {
    "duration": 15581,
    "start_time": "2022-05-15T19:40:23.976Z"
   },
   {
    "duration": 4,
    "start_time": "2022-05-15T19:40:39.561Z"
   },
   {
    "duration": 33,
    "start_time": "2022-05-15T19:40:39.568Z"
   },
   {
    "duration": 9,
    "start_time": "2022-05-15T19:40:39.604Z"
   },
   {
    "duration": 48,
    "start_time": "2022-05-15T19:40:39.616Z"
   },
   {
    "duration": 11,
    "start_time": "2022-05-15T19:40:39.667Z"
   },
   {
    "duration": 8,
    "start_time": "2022-05-15T19:40:39.681Z"
   },
   {
    "duration": 4,
    "start_time": "2022-05-15T19:40:39.698Z"
   },
   {
    "duration": 13,
    "start_time": "2022-05-15T19:40:39.706Z"
   },
   {
    "duration": 2379,
    "start_time": "2022-05-15T19:40:39.721Z"
   },
   {
    "duration": 13,
    "start_time": "2022-05-15T19:40:42.102Z"
   },
   {
    "duration": 40,
    "start_time": "2022-05-15T19:40:42.117Z"
   },
   {
    "duration": 11,
    "start_time": "2022-05-15T19:40:42.159Z"
   },
   {
    "duration": 24,
    "start_time": "2022-05-15T19:40:42.173Z"
   },
   {
    "duration": 35,
    "start_time": "2022-05-15T19:40:42.200Z"
   },
   {
    "duration": 28,
    "start_time": "2022-05-15T19:40:42.237Z"
   },
   {
    "duration": 9,
    "start_time": "2022-05-15T19:40:42.268Z"
   },
   {
    "duration": 24,
    "start_time": "2022-05-15T19:40:42.280Z"
   },
   {
    "duration": 19,
    "start_time": "2022-05-15T19:40:42.307Z"
   },
   {
    "duration": 1850,
    "start_time": "2022-05-15T19:40:42.328Z"
   },
   {
    "duration": 11,
    "start_time": "2022-05-15T19:40:44.181Z"
   },
   {
    "duration": 11,
    "start_time": "2022-05-15T19:40:44.194Z"
   },
   {
    "duration": 9,
    "start_time": "2022-05-15T19:40:44.208Z"
   },
   {
    "duration": 13,
    "start_time": "2022-05-15T19:40:44.220Z"
   },
   {
    "duration": 10,
    "start_time": "2022-05-15T19:40:44.235Z"
   },
   {
    "duration": 17,
    "start_time": "2022-05-15T19:40:44.247Z"
   },
   {
    "duration": 99,
    "start_time": "2022-05-15T19:40:44.267Z"
   },
   {
    "duration": 100,
    "start_time": "2022-05-15T19:40:44.370Z"
   },
   {
    "duration": 24,
    "start_time": "2022-05-15T19:40:44.473Z"
   },
   {
    "duration": 174,
    "start_time": "2022-05-15T19:40:44.500Z"
   },
   {
    "duration": 11,
    "start_time": "2022-05-15T19:40:44.677Z"
   },
   {
    "duration": 23,
    "start_time": "2022-05-15T19:40:44.691Z"
   },
   {
    "duration": 47,
    "start_time": "2022-05-15T19:40:44.717Z"
   },
   {
    "duration": 16,
    "start_time": "2022-05-15T19:40:44.766Z"
   },
   {
    "duration": 3666,
    "start_time": "2022-05-15T19:40:44.785Z"
   },
   {
    "duration": 16,
    "start_time": "2022-05-15T19:40:48.457Z"
   },
   {
    "duration": 15,
    "start_time": "2022-05-15T19:40:48.476Z"
   },
   {
    "duration": 380,
    "start_time": "2022-05-15T19:40:48.494Z"
   },
   {
    "duration": 112,
    "start_time": "2022-05-15T19:40:48.876Z"
   },
   {
    "duration": 15,
    "start_time": "2022-05-15T19:40:48.991Z"
   },
   {
    "duration": 143,
    "start_time": "2022-05-15T19:40:49.009Z"
   },
   {
    "duration": 112,
    "start_time": "2022-05-15T19:43:49.196Z"
   },
   {
    "duration": 2127,
    "start_time": "2022-05-15T19:45:34.087Z"
   },
   {
    "duration": 42,
    "start_time": "2022-05-15T19:45:36.217Z"
   },
   {
    "duration": 19,
    "start_time": "2022-05-15T19:45:36.262Z"
   },
   {
    "duration": 19,
    "start_time": "2022-05-15T19:45:36.283Z"
   },
   {
    "duration": 6,
    "start_time": "2022-05-15T19:45:36.307Z"
   },
   {
    "duration": 54,
    "start_time": "2022-05-15T19:45:36.315Z"
   },
   {
    "duration": 12,
    "start_time": "2022-05-15T19:45:36.372Z"
   },
   {
    "duration": 711,
    "start_time": "2022-05-15T19:45:36.386Z"
   },
   {
    "duration": 797,
    "start_time": "2022-05-15T19:45:37.100Z"
   },
   {
    "duration": 1601,
    "start_time": "2022-05-15T19:45:37.899Z"
   },
   {
    "duration": 609,
    "start_time": "2022-05-15T19:45:39.502Z"
   },
   {
    "duration": 7,
    "start_time": "2022-05-15T19:45:40.114Z"
   },
   {
    "duration": 47,
    "start_time": "2022-05-15T19:45:40.124Z"
   },
   {
    "duration": 35,
    "start_time": "2022-05-15T19:45:40.178Z"
   },
   {
    "duration": 11,
    "start_time": "2022-05-15T19:45:40.216Z"
   },
   {
    "duration": 35,
    "start_time": "2022-05-15T19:45:40.229Z"
   },
   {
    "duration": 7,
    "start_time": "2022-05-15T19:45:40.266Z"
   },
   {
    "duration": 9,
    "start_time": "2022-05-15T19:45:40.276Z"
   },
   {
    "duration": 13,
    "start_time": "2022-05-15T19:45:40.287Z"
   },
   {
    "duration": 63,
    "start_time": "2022-05-15T19:45:40.303Z"
   },
   {
    "duration": 5,
    "start_time": "2022-05-15T19:45:40.370Z"
   },
   {
    "duration": 92,
    "start_time": "2022-05-15T19:45:40.378Z"
   },
   {
    "duration": 18,
    "start_time": "2022-05-15T19:45:40.472Z"
   },
   {
    "duration": 22,
    "start_time": "2022-05-15T19:45:40.493Z"
   },
   {
    "duration": 39,
    "start_time": "2022-05-15T19:45:40.518Z"
   },
   {
    "duration": 6,
    "start_time": "2022-05-15T19:45:40.559Z"
   },
   {
    "duration": 46429,
    "start_time": "2022-05-15T19:45:40.567Z"
   },
   {
    "duration": 4,
    "start_time": "2022-05-15T19:46:26.999Z"
   },
   {
    "duration": 29,
    "start_time": "2022-05-15T19:46:27.004Z"
   },
   {
    "duration": 77,
    "start_time": "2022-05-15T19:46:27.035Z"
   },
   {
    "duration": 12,
    "start_time": "2022-05-15T19:46:27.114Z"
   },
   {
    "duration": 41,
    "start_time": "2022-05-15T19:46:27.128Z"
   },
   {
    "duration": 29,
    "start_time": "2022-05-15T19:46:27.171Z"
   },
   {
    "duration": 15854,
    "start_time": "2022-05-15T19:46:27.202Z"
   },
   {
    "duration": 4,
    "start_time": "2022-05-15T19:46:43.059Z"
   },
   {
    "duration": 18,
    "start_time": "2022-05-15T19:46:43.066Z"
   },
   {
    "duration": 8,
    "start_time": "2022-05-15T19:46:43.087Z"
   },
   {
    "duration": 61,
    "start_time": "2022-05-15T19:46:43.097Z"
   },
   {
    "duration": 5,
    "start_time": "2022-05-15T19:46:43.161Z"
   },
   {
    "duration": 11,
    "start_time": "2022-05-15T19:46:43.168Z"
   },
   {
    "duration": 12,
    "start_time": "2022-05-15T19:46:43.186Z"
   },
   {
    "duration": 13,
    "start_time": "2022-05-15T19:46:43.200Z"
   },
   {
    "duration": 2606,
    "start_time": "2022-05-15T19:46:43.216Z"
   },
   {
    "duration": 13,
    "start_time": "2022-05-15T19:46:45.825Z"
   },
   {
    "duration": 12,
    "start_time": "2022-05-15T19:46:45.856Z"
   },
   {
    "duration": 7,
    "start_time": "2022-05-15T19:46:45.871Z"
   },
   {
    "duration": 9,
    "start_time": "2022-05-15T19:46:45.880Z"
   },
   {
    "duration": 20,
    "start_time": "2022-05-15T19:46:45.891Z"
   },
   {
    "duration": 6,
    "start_time": "2022-05-15T19:46:45.913Z"
   },
   {
    "duration": 1894,
    "start_time": "2022-05-15T19:46:45.921Z"
   },
   {
    "duration": 12,
    "start_time": "2022-05-15T19:46:47.817Z"
   },
   {
    "duration": 6,
    "start_time": "2022-05-15T19:46:47.831Z"
   },
   {
    "duration": 1679,
    "start_time": "2022-05-15T19:46:47.840Z"
   },
   {
    "duration": 9,
    "start_time": "2022-05-15T19:46:49.522Z"
   },
   {
    "duration": 10,
    "start_time": "2022-05-15T19:46:49.533Z"
   },
   {
    "duration": 9,
    "start_time": "2022-05-15T19:46:49.545Z"
   },
   {
    "duration": 14,
    "start_time": "2022-05-15T19:46:49.556Z"
   },
   {
    "duration": 10,
    "start_time": "2022-05-15T19:46:49.572Z"
   },
   {
    "duration": 15,
    "start_time": "2022-05-15T19:46:49.585Z"
   },
   {
    "duration": 16,
    "start_time": "2022-05-15T19:46:49.658Z"
   },
   {
    "duration": 96,
    "start_time": "2022-05-15T19:46:49.677Z"
   },
   {
    "duration": 17,
    "start_time": "2022-05-15T19:46:49.776Z"
   },
   {
    "duration": 102,
    "start_time": "2022-05-15T19:46:49.795Z"
   },
   {
    "duration": 15,
    "start_time": "2022-05-15T19:46:49.900Z"
   },
   {
    "duration": 43,
    "start_time": "2022-05-15T19:46:49.918Z"
   },
   {
    "duration": 9,
    "start_time": "2022-05-15T19:46:49.963Z"
   },
   {
    "duration": 20,
    "start_time": "2022-05-15T19:46:49.975Z"
   },
   {
    "duration": 2820,
    "start_time": "2022-05-15T19:46:49.998Z"
   },
   {
    "duration": 13,
    "start_time": "2022-05-15T19:46:52.820Z"
   },
   {
    "duration": 46,
    "start_time": "2022-05-15T19:46:52.836Z"
   },
   {
    "duration": 1774,
    "start_time": "2022-05-15T19:46:52.884Z"
   },
   {
    "duration": 10,
    "start_time": "2022-05-15T19:46:54.660Z"
   },
   {
    "duration": 13,
    "start_time": "2022-05-15T19:46:54.672Z"
   },
   {
    "duration": 137,
    "start_time": "2022-05-15T19:46:54.688Z"
   },
   {
    "duration": 12,
    "start_time": "2022-05-15T19:48:23.049Z"
   },
   {
    "duration": 12,
    "start_time": "2022-05-15T19:48:23.639Z"
   },
   {
    "duration": 93,
    "start_time": "2022-05-16T17:35:42.749Z"
   },
   {
    "duration": 1946,
    "start_time": "2022-05-16T17:56:36.790Z"
   },
   {
    "duration": 1807,
    "start_time": "2022-05-16T17:57:14.277Z"
   },
   {
    "duration": 6,
    "start_time": "2022-05-16T17:57:24.577Z"
   },
   {
    "duration": 10,
    "start_time": "2022-05-16T17:57:32.295Z"
   },
   {
    "duration": 6,
    "start_time": "2022-05-16T17:59:25.894Z"
   },
   {
    "duration": 236,
    "start_time": "2022-05-16T18:01:31.334Z"
   },
   {
    "duration": 12,
    "start_time": "2022-05-16T18:01:36.427Z"
   },
   {
    "duration": 11,
    "start_time": "2022-05-16T18:02:03.773Z"
   },
   {
    "duration": 3327,
    "start_time": "2022-05-16T18:02:17.364Z"
   },
   {
    "duration": 100,
    "start_time": "2022-05-16T18:02:20.695Z"
   },
   {
    "duration": 23,
    "start_time": "2022-05-16T18:02:20.798Z"
   },
   {
    "duration": 19,
    "start_time": "2022-05-16T18:02:20.823Z"
   },
   {
    "duration": 17,
    "start_time": "2022-05-16T18:02:20.846Z"
   },
   {
    "duration": 76,
    "start_time": "2022-05-16T18:02:20.865Z"
   },
   {
    "duration": 38,
    "start_time": "2022-05-16T18:02:20.943Z"
   },
   {
    "duration": 735,
    "start_time": "2022-05-16T18:02:20.984Z"
   },
   {
    "duration": 1072,
    "start_time": "2022-05-16T18:02:21.722Z"
   },
   {
    "duration": 2290,
    "start_time": "2022-05-16T18:02:22.797Z"
   },
   {
    "duration": 841,
    "start_time": "2022-05-16T18:02:25.090Z"
   },
   {
    "duration": 19,
    "start_time": "2022-05-16T18:02:25.934Z"
   },
   {
    "duration": 78,
    "start_time": "2022-05-16T18:02:25.956Z"
   },
   {
    "duration": 72,
    "start_time": "2022-05-16T18:02:26.041Z"
   },
   {
    "duration": 12,
    "start_time": "2022-05-16T18:02:26.116Z"
   },
   {
    "duration": 22,
    "start_time": "2022-05-16T18:02:26.131Z"
   },
   {
    "duration": 39,
    "start_time": "2022-05-16T18:02:26.159Z"
   },
   {
    "duration": 23,
    "start_time": "2022-05-16T18:02:26.200Z"
   },
   {
    "duration": 16,
    "start_time": "2022-05-16T18:02:26.226Z"
   },
   {
    "duration": 70,
    "start_time": "2022-05-16T18:02:26.245Z"
   },
   {
    "duration": 8,
    "start_time": "2022-05-16T18:02:26.320Z"
   },
   {
    "duration": 128,
    "start_time": "2022-05-16T18:02:26.332Z"
   },
   {
    "duration": 60,
    "start_time": "2022-05-16T18:02:26.463Z"
   },
   {
    "duration": 38,
    "start_time": "2022-05-16T18:02:26.526Z"
   },
   {
    "duration": 356,
    "start_time": "2022-05-16T18:02:26.567Z"
   },
   {
    "duration": 0,
    "start_time": "2022-05-16T18:02:26.927Z"
   },
   {
    "duration": 0,
    "start_time": "2022-05-16T18:02:26.931Z"
   },
   {
    "duration": 0,
    "start_time": "2022-05-16T18:02:26.932Z"
   },
   {
    "duration": 0,
    "start_time": "2022-05-16T18:02:26.935Z"
   },
   {
    "duration": 0,
    "start_time": "2022-05-16T18:02:26.936Z"
   },
   {
    "duration": 0,
    "start_time": "2022-05-16T18:02:26.947Z"
   },
   {
    "duration": 0,
    "start_time": "2022-05-16T18:02:26.948Z"
   },
   {
    "duration": 0,
    "start_time": "2022-05-16T18:02:26.952Z"
   },
   {
    "duration": 0,
    "start_time": "2022-05-16T18:02:26.956Z"
   },
   {
    "duration": 0,
    "start_time": "2022-05-16T18:02:26.960Z"
   },
   {
    "duration": 0,
    "start_time": "2022-05-16T18:02:26.964Z"
   },
   {
    "duration": 0,
    "start_time": "2022-05-16T18:02:26.966Z"
   },
   {
    "duration": 0,
    "start_time": "2022-05-16T18:02:26.968Z"
   },
   {
    "duration": 0,
    "start_time": "2022-05-16T18:02:26.970Z"
   },
   {
    "duration": 0,
    "start_time": "2022-05-16T18:02:26.972Z"
   },
   {
    "duration": 0,
    "start_time": "2022-05-16T18:02:26.974Z"
   },
   {
    "duration": 0,
    "start_time": "2022-05-16T18:02:26.979Z"
   },
   {
    "duration": 0,
    "start_time": "2022-05-16T18:02:26.981Z"
   },
   {
    "duration": 0,
    "start_time": "2022-05-16T18:02:26.983Z"
   },
   {
    "duration": 0,
    "start_time": "2022-05-16T18:02:26.986Z"
   },
   {
    "duration": 0,
    "start_time": "2022-05-16T18:02:26.988Z"
   },
   {
    "duration": 0,
    "start_time": "2022-05-16T18:02:26.990Z"
   },
   {
    "duration": 0,
    "start_time": "2022-05-16T18:02:26.994Z"
   },
   {
    "duration": 0,
    "start_time": "2022-05-16T18:02:26.997Z"
   },
   {
    "duration": 0,
    "start_time": "2022-05-16T18:02:26.999Z"
   },
   {
    "duration": 0,
    "start_time": "2022-05-16T18:02:27.001Z"
   },
   {
    "duration": 0,
    "start_time": "2022-05-16T18:02:27.004Z"
   },
   {
    "duration": 0,
    "start_time": "2022-05-16T18:02:27.006Z"
   },
   {
    "duration": 0,
    "start_time": "2022-05-16T18:02:27.008Z"
   },
   {
    "duration": 0,
    "start_time": "2022-05-16T18:02:27.011Z"
   },
   {
    "duration": 0,
    "start_time": "2022-05-16T18:02:27.045Z"
   },
   {
    "duration": 0,
    "start_time": "2022-05-16T18:02:27.047Z"
   },
   {
    "duration": 0,
    "start_time": "2022-05-16T18:02:27.049Z"
   },
   {
    "duration": 0,
    "start_time": "2022-05-16T18:02:27.051Z"
   },
   {
    "duration": 0,
    "start_time": "2022-05-16T18:02:27.062Z"
   },
   {
    "duration": 0,
    "start_time": "2022-05-16T18:02:27.064Z"
   },
   {
    "duration": 0,
    "start_time": "2022-05-16T18:02:27.066Z"
   },
   {
    "duration": 0,
    "start_time": "2022-05-16T18:02:27.072Z"
   },
   {
    "duration": 0,
    "start_time": "2022-05-16T18:02:27.074Z"
   },
   {
    "duration": 0,
    "start_time": "2022-05-16T18:02:27.080Z"
   },
   {
    "duration": 0,
    "start_time": "2022-05-16T18:02:27.083Z"
   },
   {
    "duration": 0,
    "start_time": "2022-05-16T18:02:27.085Z"
   },
   {
    "duration": 0,
    "start_time": "2022-05-16T18:02:27.088Z"
   },
   {
    "duration": 0,
    "start_time": "2022-05-16T18:02:27.091Z"
   },
   {
    "duration": 0,
    "start_time": "2022-05-16T18:02:27.093Z"
   },
   {
    "duration": 0,
    "start_time": "2022-05-16T18:02:27.098Z"
   },
   {
    "duration": 0,
    "start_time": "2022-05-16T18:02:27.101Z"
   },
   {
    "duration": 0,
    "start_time": "2022-05-16T18:02:27.104Z"
   },
   {
    "duration": 0,
    "start_time": "2022-05-16T18:02:27.106Z"
   },
   {
    "duration": 0,
    "start_time": "2022-05-16T18:02:27.109Z"
   },
   {
    "duration": 36,
    "start_time": "2022-05-16T18:03:34.572Z"
   },
   {
    "duration": 34,
    "start_time": "2022-05-16T18:04:43.283Z"
   },
   {
    "duration": 11,
    "start_time": "2022-05-16T18:05:44.371Z"
   },
   {
    "duration": 6,
    "start_time": "2022-05-16T18:05:54.767Z"
   },
   {
    "duration": 6,
    "start_time": "2022-05-16T18:05:58.944Z"
   },
   {
    "duration": 6,
    "start_time": "2022-05-16T18:06:02.579Z"
   },
   {
    "duration": 6,
    "start_time": "2022-05-16T18:06:16.595Z"
   },
   {
    "duration": 5,
    "start_time": "2022-05-16T18:08:47.290Z"
   },
   {
    "duration": 6,
    "start_time": "2022-05-16T18:09:29.669Z"
   },
   {
    "duration": 6,
    "start_time": "2022-05-16T18:15:49.335Z"
   },
   {
    "duration": 2982,
    "start_time": "2022-05-16T18:16:11.752Z"
   },
   {
    "duration": 87,
    "start_time": "2022-05-16T18:16:14.737Z"
   },
   {
    "duration": 26,
    "start_time": "2022-05-16T18:16:14.827Z"
   },
   {
    "duration": 49,
    "start_time": "2022-05-16T18:16:14.856Z"
   },
   {
    "duration": 7,
    "start_time": "2022-05-16T18:16:14.908Z"
   },
   {
    "duration": 20,
    "start_time": "2022-05-16T18:16:14.918Z"
   },
   {
    "duration": 17,
    "start_time": "2022-05-16T18:16:14.941Z"
   },
   {
    "duration": 640,
    "start_time": "2022-05-16T18:16:14.964Z"
   },
   {
    "duration": 906,
    "start_time": "2022-05-16T18:16:15.608Z"
   },
   {
    "duration": 2371,
    "start_time": "2022-05-16T18:16:16.520Z"
   },
   {
    "duration": 854,
    "start_time": "2022-05-16T18:16:18.894Z"
   },
   {
    "duration": 10,
    "start_time": "2022-05-16T18:16:19.751Z"
   },
   {
    "duration": 61,
    "start_time": "2022-05-16T18:16:19.763Z"
   },
   {
    "duration": 41,
    "start_time": "2022-05-16T18:16:19.827Z"
   },
   {
    "duration": 43,
    "start_time": "2022-05-16T18:16:19.870Z"
   },
   {
    "duration": 8,
    "start_time": "2022-05-16T18:16:19.916Z"
   },
   {
    "duration": 12,
    "start_time": "2022-05-16T18:16:19.927Z"
   },
   {
    "duration": 66,
    "start_time": "2022-05-16T18:16:19.941Z"
   },
   {
    "duration": 17,
    "start_time": "2022-05-16T18:16:20.010Z"
   },
   {
    "duration": 38,
    "start_time": "2022-05-16T18:16:20.030Z"
   },
   {
    "duration": 72,
    "start_time": "2022-05-16T18:16:20.076Z"
   },
   {
    "duration": 53,
    "start_time": "2022-05-16T18:16:20.160Z"
   },
   {
    "duration": 22,
    "start_time": "2022-05-16T18:16:20.258Z"
   },
   {
    "duration": 25,
    "start_time": "2022-05-16T18:16:20.288Z"
   },
   {
    "duration": 6,
    "start_time": "2022-05-16T18:16:20.316Z"
   },
   {
    "duration": 8,
    "start_time": "2022-05-16T18:16:20.325Z"
   },
   {
    "duration": 11,
    "start_time": "2022-05-16T18:16:20.360Z"
   },
   {
    "duration": 38822,
    "start_time": "2022-05-16T18:16:20.382Z"
   },
   {
    "duration": 4,
    "start_time": "2022-05-16T18:16:59.206Z"
   },
   {
    "duration": 48,
    "start_time": "2022-05-16T18:16:59.212Z"
   },
   {
    "duration": 71,
    "start_time": "2022-05-16T18:16:59.263Z"
   },
   {
    "duration": 17,
    "start_time": "2022-05-16T18:16:59.345Z"
   },
   {
    "duration": 46,
    "start_time": "2022-05-16T18:16:59.365Z"
   },
   {
    "duration": 5,
    "start_time": "2022-05-16T18:16:59.414Z"
   },
   {
    "duration": 1129,
    "start_time": "2022-05-16T18:16:59.421Z"
   },
   {
    "duration": 4,
    "start_time": "2022-05-16T18:17:00.553Z"
   },
   {
    "duration": 75,
    "start_time": "2022-05-16T18:17:00.560Z"
   },
   {
    "duration": 21,
    "start_time": "2022-05-16T18:17:00.639Z"
   },
   {
    "duration": 59,
    "start_time": "2022-05-16T18:17:00.663Z"
   },
   {
    "duration": 70,
    "start_time": "2022-05-16T18:17:00.725Z"
   },
   {
    "duration": 23,
    "start_time": "2022-05-16T18:17:00.798Z"
   },
   {
    "duration": 24,
    "start_time": "2022-05-16T18:17:00.824Z"
   },
   {
    "duration": 60,
    "start_time": "2022-05-16T18:17:00.850Z"
   },
   {
    "duration": 2763,
    "start_time": "2022-05-16T18:17:00.916Z"
   },
   {
    "duration": 18,
    "start_time": "2022-05-16T18:17:03.681Z"
   },
   {
    "duration": 19,
    "start_time": "2022-05-16T18:17:03.703Z"
   },
   {
    "duration": 63,
    "start_time": "2022-05-16T18:17:03.725Z"
   },
   {
    "duration": 8,
    "start_time": "2022-05-16T18:17:03.791Z"
   },
   {
    "duration": 16,
    "start_time": "2022-05-16T18:17:03.801Z"
   },
   {
    "duration": 8,
    "start_time": "2022-05-16T18:17:03.819Z"
   },
   {
    "duration": 2871,
    "start_time": "2022-05-16T18:17:03.829Z"
   },
   {
    "duration": 14,
    "start_time": "2022-05-16T18:17:06.703Z"
   },
   {
    "duration": 8,
    "start_time": "2022-05-16T18:17:06.720Z"
   },
   {
    "duration": 2595,
    "start_time": "2022-05-16T18:17:06.730Z"
   },
   {
    "duration": 12,
    "start_time": "2022-05-16T18:17:09.327Z"
   },
   {
    "duration": 30,
    "start_time": "2022-05-16T18:17:09.342Z"
   },
   {
    "duration": 31,
    "start_time": "2022-05-16T18:17:09.374Z"
   },
   {
    "duration": 17,
    "start_time": "2022-05-16T18:17:09.408Z"
   },
   {
    "duration": 15,
    "start_time": "2022-05-16T18:17:09.428Z"
   },
   {
    "duration": 63,
    "start_time": "2022-05-16T18:17:09.449Z"
   },
   {
    "duration": 49,
    "start_time": "2022-05-16T18:17:09.515Z"
   },
   {
    "duration": 115,
    "start_time": "2022-05-16T18:17:09.567Z"
   },
   {
    "duration": 31,
    "start_time": "2022-05-16T18:17:09.685Z"
   },
   {
    "duration": 250,
    "start_time": "2022-05-16T18:17:09.719Z"
   },
   {
    "duration": 20,
    "start_time": "2022-05-16T18:17:09.972Z"
   },
   {
    "duration": 35,
    "start_time": "2022-05-16T18:17:09.994Z"
   },
   {
    "duration": 33,
    "start_time": "2022-05-16T18:17:10.054Z"
   },
   {
    "duration": 31,
    "start_time": "2022-05-16T18:17:10.093Z"
   },
   {
    "duration": 3750,
    "start_time": "2022-05-16T18:17:10.127Z"
   },
   {
    "duration": 18,
    "start_time": "2022-05-16T18:17:13.879Z"
   },
   {
    "duration": 13,
    "start_time": "2022-05-16T18:17:13.900Z"
   },
   {
    "duration": 2838,
    "start_time": "2022-05-16T18:17:13.916Z"
   },
   {
    "duration": 22,
    "start_time": "2022-05-16T18:17:16.759Z"
   },
   {
    "duration": 39,
    "start_time": "2022-05-16T18:17:16.786Z"
   },
   {
    "duration": 15,
    "start_time": "2022-05-16T18:17:16.828Z"
   },
   {
    "duration": 225,
    "start_time": "2022-05-16T18:22:26.741Z"
   },
   {
    "duration": 32,
    "start_time": "2022-05-16T18:23:27.524Z"
   },
   {
    "duration": 164,
    "start_time": "2022-05-16T18:24:16.102Z"
   },
   {
    "duration": 148,
    "start_time": "2022-05-16T18:26:12.493Z"
   },
   {
    "duration": 246,
    "start_time": "2022-05-16T18:26:29.975Z"
   },
   {
    "duration": 15,
    "start_time": "2022-05-16T18:27:22.190Z"
   },
   {
    "duration": 307,
    "start_time": "2022-05-16T18:27:40.611Z"
   },
   {
    "duration": 285,
    "start_time": "2022-05-16T18:28:11.787Z"
   },
   {
    "duration": 8,
    "start_time": "2022-05-16T18:33:40.798Z"
   },
   {
    "duration": 14,
    "start_time": "2022-05-16T18:35:01.813Z"
   },
   {
    "duration": 7,
    "start_time": "2022-05-16T18:35:20.184Z"
   },
   {
    "duration": 252,
    "start_time": "2022-05-16T18:35:20.741Z"
   },
   {
    "duration": 13,
    "start_time": "2022-05-16T18:36:31.325Z"
   },
   {
    "duration": 226,
    "start_time": "2022-05-16T18:36:37.188Z"
   },
   {
    "duration": 5,
    "start_time": "2022-05-16T18:36:57.525Z"
   },
   {
    "duration": 12,
    "start_time": "2022-05-16T18:36:58.212Z"
   },
   {
    "duration": 6,
    "start_time": "2022-05-16T18:38:01.815Z"
   },
   {
    "duration": 216,
    "start_time": "2022-05-16T18:38:49.375Z"
   },
   {
    "duration": 18,
    "start_time": "2022-05-16T18:39:01.357Z"
   },
   {
    "duration": 17,
    "start_time": "2022-05-16T18:39:07.179Z"
   },
   {
    "duration": 212,
    "start_time": "2022-05-16T18:39:24.014Z"
   },
   {
    "duration": 338,
    "start_time": "2022-05-16T18:39:28.700Z"
   },
   {
    "duration": 25,
    "start_time": "2022-05-16T18:41:35.934Z"
   },
   {
    "duration": 22,
    "start_time": "2022-05-16T18:41:50.436Z"
   },
   {
    "duration": 286,
    "start_time": "2022-05-16T18:42:09.357Z"
   },
   {
    "duration": 46,
    "start_time": "2022-05-16T18:47:02.164Z"
   },
   {
    "duration": 29,
    "start_time": "2022-05-16T18:47:19.911Z"
   },
   {
    "duration": 30,
    "start_time": "2022-05-16T18:48:56.078Z"
   },
   {
    "duration": 387,
    "start_time": "2022-05-16T18:49:16.630Z"
   },
   {
    "duration": 485,
    "start_time": "2022-05-16T18:49:33.143Z"
   },
   {
    "duration": 16,
    "start_time": "2022-05-16T18:49:43.501Z"
   },
   {
    "duration": 359,
    "start_time": "2022-05-16T18:49:47.375Z"
   },
   {
    "duration": 363,
    "start_time": "2022-05-16T18:50:10.470Z"
   },
   {
    "duration": 332,
    "start_time": "2022-05-16T18:50:47.613Z"
   },
   {
    "duration": 10,
    "start_time": "2022-05-16T18:51:57.179Z"
   },
   {
    "duration": 345,
    "start_time": "2022-05-16T18:52:03.414Z"
   },
   {
    "duration": 419,
    "start_time": "2022-05-16T18:52:18.311Z"
   },
   {
    "duration": 331,
    "start_time": "2022-05-16T18:52:47.037Z"
   },
   {
    "duration": 395,
    "start_time": "2022-05-16T18:54:24.983Z"
   },
   {
    "duration": 534,
    "start_time": "2022-05-16T18:54:43.886Z"
   },
   {
    "duration": 361,
    "start_time": "2022-05-16T18:54:58.352Z"
   },
   {
    "duration": 395,
    "start_time": "2022-05-16T18:55:12.190Z"
   },
   {
    "duration": 291,
    "start_time": "2022-05-16T18:58:21.110Z"
   },
   {
    "duration": 295,
    "start_time": "2022-05-16T18:58:29.182Z"
   },
   {
    "duration": 436,
    "start_time": "2022-05-16T18:59:22.086Z"
   },
   {
    "duration": 408,
    "start_time": "2022-05-16T18:59:29.349Z"
   },
   {
    "duration": 284,
    "start_time": "2022-05-16T18:59:42.309Z"
   },
   {
    "duration": 307,
    "start_time": "2022-05-16T18:59:45.630Z"
   },
   {
    "duration": 200,
    "start_time": "2022-05-16T19:00:06.773Z"
   },
   {
    "duration": 368,
    "start_time": "2022-05-16T19:00:10.573Z"
   },
   {
    "duration": 383,
    "start_time": "2022-05-16T19:00:18.925Z"
   },
   {
    "duration": 389,
    "start_time": "2022-05-16T19:00:27.821Z"
   },
   {
    "duration": 290,
    "start_time": "2022-05-16T19:00:32.669Z"
   },
   {
    "duration": 378,
    "start_time": "2022-05-16T19:00:55.109Z"
   }
  ],
  "kernelspec": {
   "display_name": "Python 3 (ipykernel)",
   "language": "python",
   "name": "python3"
  },
  "language_info": {
   "codemirror_mode": {
    "name": "ipython",
    "version": 3
   },
   "file_extension": ".py",
   "mimetype": "text/x-python",
   "name": "python",
   "nbconvert_exporter": "python",
   "pygments_lexer": "ipython3",
   "version": "3.9.5"
  },
  "toc": {
   "base_numbering": 1,
   "nav_menu": {},
   "number_sections": true,
   "sideBar": true,
   "skip_h1_title": true,
   "title_cell": "Содержание",
   "title_sidebar": "Contents",
   "toc_cell": true,
   "toc_position": {
    "height": "calc(100% - 180px)",
    "left": "10px",
    "top": "150px",
    "width": "358.188px"
   },
   "toc_section_display": true,
   "toc_window_display": false
  }
 },
 "nbformat": 4,
 "nbformat_minor": 2
}
