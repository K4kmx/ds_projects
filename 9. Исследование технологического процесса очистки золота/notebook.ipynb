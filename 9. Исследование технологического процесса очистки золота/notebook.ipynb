{
 "cells": [
  {
   "cell_type": "markdown",
   "metadata": {
    "toc": true
   },
   "source": [
    "<h1>Содержание<span class=\"tocSkip\"></span></h1>\n",
    "<div class=\"toc\"><ul class=\"toc-item\"><li><span><a href=\"#Подготовка-данных\" data-toc-modified-id=\"Подготовка-данных-1\"><span class=\"toc-item-num\">1&nbsp;&nbsp;</span>Подготовка данных</a></span></li><li><span><a href=\"#Анализ-данных\" data-toc-modified-id=\"Анализ-данных-2\"><span class=\"toc-item-num\">2&nbsp;&nbsp;</span>Анализ данных</a></span></li><li><span><a href=\"#Модель\" data-toc-modified-id=\"Модель-3\"><span class=\"toc-item-num\">3&nbsp;&nbsp;</span>Модель</a></span></li><li><span><a href=\"#Чек-лист-готовности-проекта\" data-toc-modified-id=\"Чек-лист-готовности-проекта-4\"><span class=\"toc-item-num\">4&nbsp;&nbsp;</span>Чек-лист готовности проекта</a></span></li></ul></div>"
   ]
  },
  {
   "cell_type": "markdown",
   "metadata": {},
   "source": [
    "# Восстановление золота из руды"
   ]
  },
  {
   "cell_type": "markdown",
   "metadata": {},
   "source": [
    "Подготовьте прототип модели машинного обучения для «Цифры». Компания разрабатывает решения для эффективной работы промышленных предприятий.\n",
    "\n",
    "Модель должна предсказать коэффициент восстановления золота из золотосодержащей руды. Используйте данные с параметрами добычи и очистки. \n",
    "\n",
    "Модель поможет оптимизировать производство, чтобы не запускать предприятие с убыточными характеристиками.\n",
    "\n",
    "Вам нужно:\n",
    "\n",
    "1. Подготовить данные;\n",
    "2. Провести исследовательский анализ данных;\n",
    "3. Построить и обучить модель.\n",
    "\n",
    "Чтобы выполнить проект, обращайтесь к библиотекам *pandas*, *matplotlib* и *sklearn.* Вам поможет их документация."
   ]
  },
  {
   "cell_type": "markdown",
   "metadata": {},
   "source": [
    "## Подготовка данных"
   ]
  },
  {
   "cell_type": "code",
   "execution_count": 1,
   "metadata": {},
   "outputs": [],
   "source": [
    "import numpy as np\n",
    "import pandas as pd\n",
    "import seaborn as sns\n",
    "import matplotlib.pyplot as plt\n",
    "import collections\n",
    "\n",
    "from sklearn.tree import DecisionTreeRegressor\n",
    "from sklearn.ensemble import RandomForestRegressor\n",
    "from sklearn.linear_model import LinearRegression\n",
    "from sklearn.metrics import mean_absolute_error as MAE\n",
    "from sklearn.pipeline import  make_pipeline\n",
    "from sklearn.impute import KNNImputer\n",
    "from sklearn.preprocessing import StandardScaler\n",
    "from sklearn.model_selection import cross_val_score\n",
    "from sklearn.model_selection import GridSearchCV\n",
    "from sklearn.preprocessing import PolynomialFeatures\n",
    "from sklearn.metrics import make_scorer\n",
    "from sklearn.dummy import DummyRegressor\n",
    "from sklearn.dummy import DummyClassifier\n",
    "from sklearn.model_selection import GridSearchCV\n",
    "from sklearn.model_selection import ShuffleSplit\n",
    "from sklearn.model_selection import cross_val_predict\n",
    "\n",
    "import warnings\n",
    "warnings.simplefilter(action='ignore', category=FutureWarning)\n",
    "\n",
    "random_state = 12345"
   ]
  },
  {
   "cell_type": "code",
   "execution_count": 2,
   "metadata": {},
   "outputs": [],
   "source": [
    "df_test = pd.read_csv(\"/datasets/gold_recovery_test.csv\")\n",
    "df_train = pd.read_csv(\"/datasets/gold_recovery_train.csv\")\n",
    "df_full = pd.read_csv(\"/datasets/gold_recovery_full.csv\")"
   ]
  },
  {
   "cell_type": "code",
   "execution_count": 3,
   "metadata": {},
   "outputs": [],
   "source": [
    "def view(df):\n",
    "    print(df.info())\n",
    "    print('-----------------------')\n",
    "    print(df.describe())\n",
    "    print('-----------------------')\n",
    "    print(df.head(5))\n",
    "    print('-----------------------')\n",
    "    print(df.shape)\n",
    "    return view"
   ]
  },
  {
   "cell_type": "code",
   "execution_count": 4,
   "metadata": {},
   "outputs": [
    {
     "name": "stdout",
     "output_type": "stream",
     "text": [
      "<class 'pandas.core.frame.DataFrame'>\n",
      "RangeIndex: 16860 entries, 0 to 16859\n",
      "Data columns (total 87 columns):\n",
      " #   Column                                              Non-Null Count  Dtype  \n",
      "---  ------                                              --------------  -----  \n",
      " 0   date                                                16860 non-null  object \n",
      " 1   final.output.concentrate_ag                         16788 non-null  float64\n",
      " 2   final.output.concentrate_pb                         16788 non-null  float64\n",
      " 3   final.output.concentrate_sol                        16490 non-null  float64\n",
      " 4   final.output.concentrate_au                         16789 non-null  float64\n",
      " 5   final.output.recovery                               15339 non-null  float64\n",
      " 6   final.output.tail_ag                                16794 non-null  float64\n",
      " 7   final.output.tail_pb                                16677 non-null  float64\n",
      " 8   final.output.tail_sol                               16715 non-null  float64\n",
      " 9   final.output.tail_au                                16794 non-null  float64\n",
      " 10  primary_cleaner.input.sulfate                       15553 non-null  float64\n",
      " 11  primary_cleaner.input.depressant                    15598 non-null  float64\n",
      " 12  primary_cleaner.input.feed_size                     16860 non-null  float64\n",
      " 13  primary_cleaner.input.xanthate                      15875 non-null  float64\n",
      " 14  primary_cleaner.output.concentrate_ag               16778 non-null  float64\n",
      " 15  primary_cleaner.output.concentrate_pb               16502 non-null  float64\n",
      " 16  primary_cleaner.output.concentrate_sol              16224 non-null  float64\n",
      " 17  primary_cleaner.output.concentrate_au               16778 non-null  float64\n",
      " 18  primary_cleaner.output.tail_ag                      16777 non-null  float64\n",
      " 19  primary_cleaner.output.tail_pb                      16761 non-null  float64\n",
      " 20  primary_cleaner.output.tail_sol                     16579 non-null  float64\n",
      " 21  primary_cleaner.output.tail_au                      16777 non-null  float64\n",
      " 22  primary_cleaner.state.floatbank8_a_air              16820 non-null  float64\n",
      " 23  primary_cleaner.state.floatbank8_a_level            16827 non-null  float64\n",
      " 24  primary_cleaner.state.floatbank8_b_air              16820 non-null  float64\n",
      " 25  primary_cleaner.state.floatbank8_b_level            16833 non-null  float64\n",
      " 26  primary_cleaner.state.floatbank8_c_air              16822 non-null  float64\n",
      " 27  primary_cleaner.state.floatbank8_c_level            16833 non-null  float64\n",
      " 28  primary_cleaner.state.floatbank8_d_air              16821 non-null  float64\n",
      " 29  primary_cleaner.state.floatbank8_d_level            16833 non-null  float64\n",
      " 30  rougher.calculation.sulfate_to_au_concentrate       16833 non-null  float64\n",
      " 31  rougher.calculation.floatbank10_sulfate_to_au_feed  16833 non-null  float64\n",
      " 32  rougher.calculation.floatbank11_sulfate_to_au_feed  16833 non-null  float64\n",
      " 33  rougher.calculation.au_pb_ratio                     15618 non-null  float64\n",
      " 34  rougher.input.feed_ag                               16778 non-null  float64\n",
      " 35  rougher.input.feed_pb                               16632 non-null  float64\n",
      " 36  rougher.input.feed_rate                             16347 non-null  float64\n",
      " 37  rougher.input.feed_size                             16443 non-null  float64\n",
      " 38  rougher.input.feed_sol                              16568 non-null  float64\n",
      " 39  rougher.input.feed_au                               16777 non-null  float64\n",
      " 40  rougher.input.floatbank10_sulfate                   15816 non-null  float64\n",
      " 41  rougher.input.floatbank10_xanthate                  16514 non-null  float64\n",
      " 42  rougher.input.floatbank11_sulfate                   16237 non-null  float64\n",
      " 43  rougher.input.floatbank11_xanthate                  14956 non-null  float64\n",
      " 44  rougher.output.concentrate_ag                       16778 non-null  float64\n",
      " 45  rougher.output.concentrate_pb                       16778 non-null  float64\n",
      " 46  rougher.output.concentrate_sol                      16698 non-null  float64\n",
      " 47  rougher.output.concentrate_au                       16778 non-null  float64\n",
      " 48  rougher.output.recovery                             14287 non-null  float64\n",
      " 49  rougher.output.tail_ag                              14610 non-null  float64\n",
      " 50  rougher.output.tail_pb                              16778 non-null  float64\n",
      " 51  rougher.output.tail_sol                             14611 non-null  float64\n",
      " 52  rougher.output.tail_au                              14611 non-null  float64\n",
      " 53  rougher.state.floatbank10_a_air                     16807 non-null  float64\n",
      " 54  rougher.state.floatbank10_a_level                   16807 non-null  float64\n",
      " 55  rougher.state.floatbank10_b_air                     16807 non-null  float64\n",
      " 56  rougher.state.floatbank10_b_level                   16807 non-null  float64\n",
      " 57  rougher.state.floatbank10_c_air                     16807 non-null  float64\n",
      " 58  rougher.state.floatbank10_c_level                   16814 non-null  float64\n",
      " 59  rougher.state.floatbank10_d_air                     16802 non-null  float64\n",
      " 60  rougher.state.floatbank10_d_level                   16809 non-null  float64\n",
      " 61  rougher.state.floatbank10_e_air                     16257 non-null  float64\n",
      " 62  rougher.state.floatbank10_e_level                   16809 non-null  float64\n",
      " 63  rougher.state.floatbank10_f_air                     16802 non-null  float64\n",
      " 64  rougher.state.floatbank10_f_level                   16802 non-null  float64\n",
      " 65  secondary_cleaner.output.tail_ag                    16776 non-null  float64\n",
      " 66  secondary_cleaner.output.tail_pb                    16764 non-null  float64\n",
      " 67  secondary_cleaner.output.tail_sol                   14874 non-null  float64\n",
      " 68  secondary_cleaner.output.tail_au                    16778 non-null  float64\n",
      " 69  secondary_cleaner.state.floatbank2_a_air            16497 non-null  float64\n",
      " 70  secondary_cleaner.state.floatbank2_a_level          16751 non-null  float64\n",
      " 71  secondary_cleaner.state.floatbank2_b_air            16705 non-null  float64\n",
      " 72  secondary_cleaner.state.floatbank2_b_level          16748 non-null  float64\n",
      " 73  secondary_cleaner.state.floatbank3_a_air            16763 non-null  float64\n",
      " 74  secondary_cleaner.state.floatbank3_a_level          16747 non-null  float64\n",
      " 75  secondary_cleaner.state.floatbank3_b_air            16752 non-null  float64\n",
      " 76  secondary_cleaner.state.floatbank3_b_level          16750 non-null  float64\n",
      " 77  secondary_cleaner.state.floatbank4_a_air            16731 non-null  float64\n",
      " 78  secondary_cleaner.state.floatbank4_a_level          16747 non-null  float64\n",
      " 79  secondary_cleaner.state.floatbank4_b_air            16768 non-null  float64\n",
      " 80  secondary_cleaner.state.floatbank4_b_level          16767 non-null  float64\n",
      " 81  secondary_cleaner.state.floatbank5_a_air            16775 non-null  float64\n",
      " 82  secondary_cleaner.state.floatbank5_a_level          16775 non-null  float64\n",
      " 83  secondary_cleaner.state.floatbank5_b_air            16775 non-null  float64\n",
      " 84  secondary_cleaner.state.floatbank5_b_level          16776 non-null  float64\n",
      " 85  secondary_cleaner.state.floatbank6_a_air            16757 non-null  float64\n",
      " 86  secondary_cleaner.state.floatbank6_a_level          16775 non-null  float64\n",
      "dtypes: float64(86), object(1)\n",
      "memory usage: 11.2+ MB\n",
      "None\n",
      "-----------------------\n",
      "       final.output.concentrate_ag  final.output.concentrate_pb  \\\n",
      "count                 16788.000000                 16788.000000   \n",
      "mean                      4.716907                     9.113559   \n",
      "std                       2.096718                     3.389495   \n",
      "min                       0.000000                     0.000000   \n",
      "25%                       3.971262                     8.825748   \n",
      "50%                       4.869346                    10.065316   \n",
      "75%                       5.821176                    11.054809   \n",
      "max                      16.001945                    17.031899   \n",
      "\n",
      "       final.output.concentrate_sol  final.output.concentrate_au  \\\n",
      "count                  16490.000000                 16789.000000   \n",
      "mean                       8.301123                    39.467217   \n",
      "std                        3.825760                    13.917227   \n",
      "min                        0.000000                     0.000000   \n",
      "25%                        6.939185                    42.055722   \n",
      "50%                        8.557228                    44.498874   \n",
      "75%                       10.289741                    45.976222   \n",
      "max                       18.124851                    53.611374   \n",
      "\n",
      "       final.output.recovery  final.output.tail_ag  final.output.tail_pb  \\\n",
      "count           15339.000000          16794.000000          16677.000000   \n",
      "mean               67.213166              8.757048              2.360327   \n",
      "std                11.960446              3.634103              1.215576   \n",
      "min                 0.000000              0.000000              0.000000   \n",
      "25%                62.625685              7.610544              1.641604   \n",
      "50%                67.644601              9.220393              2.453690   \n",
      "75%                72.824595             10.971110              3.192404   \n",
      "max               100.000000             19.552149              6.086532   \n",
      "\n",
      "       final.output.tail_sol  final.output.tail_au  \\\n",
      "count           16715.000000          16794.000000   \n",
      "mean                9.303932              2.687512   \n",
      "std                 4.263208              1.272757   \n",
      "min                 0.000000              0.000000   \n",
      "25%                 7.870275              2.172953   \n",
      "50%                10.021968              2.781132   \n",
      "75%                11.648573              3.416936   \n",
      "max                22.317730              9.789625   \n",
      "\n",
      "       primary_cleaner.input.sulfate  ...  \\\n",
      "count                   15553.000000  ...   \n",
      "mean                      129.479789  ...   \n",
      "std                        45.386931  ...   \n",
      "min                         0.000003  ...   \n",
      "25%                       103.064021  ...   \n",
      "50%                       131.783108  ...   \n",
      "75%                       159.539839  ...   \n",
      "max                       251.999948  ...   \n",
      "\n",
      "       secondary_cleaner.state.floatbank4_a_air  \\\n",
      "count                              16731.000000   \n",
      "mean                                  19.101874   \n",
      "std                                    6.883163   \n",
      "min                                    0.000000   \n",
      "25%                                   14.508299   \n",
      "50%                                   19.986958   \n",
      "75%                                   24.983961   \n",
      "max                                   60.000000   \n",
      "\n",
      "       secondary_cleaner.state.floatbank4_a_level  \\\n",
      "count                                16747.000000   \n",
      "mean                                  -494.164481   \n",
      "std                                     84.803334   \n",
      "min                                   -799.920713   \n",
      "25%                                   -500.837689   \n",
      "50%                                   -499.778379   \n",
      "75%                                   -494.648754   \n",
      "max                                   -127.692333   \n",
      "\n",
      "       secondary_cleaner.state.floatbank4_b_air  \\\n",
      "count                              16768.000000   \n",
      "mean                                  14.778164   \n",
      "std                                    5.999149   \n",
      "min                                    0.000000   \n",
      "25%                                   10.741388   \n",
      "50%                                   14.943933   \n",
      "75%                                   20.023751   \n",
      "max                                   28.003828   \n",
      "\n",
      "       secondary_cleaner.state.floatbank4_b_level  \\\n",
      "count                                16767.000000   \n",
      "mean                                  -476.600082   \n",
      "std                                     89.381172   \n",
      "min                                   -800.021781   \n",
      "25%                                   -500.269182   \n",
      "50%                                   -499.593286   \n",
      "75%                                   -400.137948   \n",
      "max                                    -71.472472   \n",
      "\n",
      "       secondary_cleaner.state.floatbank5_a_air  \\\n",
      "count                              16775.000000   \n",
      "mean                                  15.779488   \n",
      "std                                    6.834703   \n",
      "min                                   -0.423260   \n",
      "25%                                   10.977713   \n",
      "50%                                   15.998340   \n",
      "75%                                   20.000701   \n",
      "max                                   63.116298   \n",
      "\n",
      "       secondary_cleaner.state.floatbank5_a_level  \\\n",
      "count                                16775.000000   \n",
      "mean                                  -500.230146   \n",
      "std                                     76.983542   \n",
      "min                                   -799.741097   \n",
      "25%                                   -500.530594   \n",
      "50%                                   -499.784231   \n",
      "75%                                   -496.531781   \n",
      "max                                   -275.073125   \n",
      "\n",
      "       secondary_cleaner.state.floatbank5_b_air  \\\n",
      "count                              16775.000000   \n",
      "mean                                  12.377241   \n",
      "std                                    6.219989   \n",
      "min                                    0.427084   \n",
      "25%                                    8.925586   \n",
      "50%                                   11.092839   \n",
      "75%                                   15.979467   \n",
      "max                                   39.846228   \n",
      "\n",
      "       secondary_cleaner.state.floatbank5_b_level  \\\n",
      "count                                16776.000000   \n",
      "mean                                  -498.956257   \n",
      "std                                     82.146207   \n",
      "min                                   -800.258209   \n",
      "25%                                   -500.147603   \n",
      "50%                                   -499.933330   \n",
      "75%                                   -498.418000   \n",
      "max                                   -120.190931   \n",
      "\n",
      "       secondary_cleaner.state.floatbank6_a_air  \\\n",
      "count                              16757.000000   \n",
      "mean                                  18.429208   \n",
      "std                                    6.958294   \n",
      "min                                    0.024270   \n",
      "25%                                   13.977626   \n",
      "50%                                   18.034960   \n",
      "75%                                   24.984992   \n",
      "max                                   54.876806   \n",
      "\n",
      "       secondary_cleaner.state.floatbank6_a_level  \n",
      "count                                16775.000000  \n",
      "mean                                  -521.801826  \n",
      "std                                     77.170888  \n",
      "min                                   -810.473526  \n",
      "25%                                   -501.080595  \n",
      "50%                                   -500.109898  \n",
      "75%                                   -499.565540  \n",
      "max                                    -39.784927  \n",
      "\n",
      "[8 rows x 86 columns]\n",
      "-----------------------\n",
      "                  date  final.output.concentrate_ag  \\\n",
      "0  2016-01-15 00:00:00                     6.055403   \n",
      "1  2016-01-15 01:00:00                     6.029369   \n",
      "2  2016-01-15 02:00:00                     6.055926   \n",
      "3  2016-01-15 03:00:00                     6.047977   \n",
      "4  2016-01-15 04:00:00                     6.148599   \n",
      "\n",
      "   final.output.concentrate_pb  final.output.concentrate_sol  \\\n",
      "0                     9.889648                      5.507324   \n",
      "1                     9.968944                      5.257781   \n",
      "2                    10.213995                      5.383759   \n",
      "3                     9.977019                      4.858634   \n",
      "4                    10.142511                      4.939416   \n",
      "\n",
      "   final.output.concentrate_au  final.output.recovery  final.output.tail_ag  \\\n",
      "0                    42.192020              70.541216             10.411962   \n",
      "1                    42.701629              69.266198             10.462676   \n",
      "2                    42.657501              68.116445             10.507046   \n",
      "3                    42.689819              68.347543             10.422762   \n",
      "4                    42.774141              66.927016             10.360302   \n",
      "\n",
      "   final.output.tail_pb  final.output.tail_sol  final.output.tail_au  ...  \\\n",
      "0              0.895447              16.904297              2.143149  ...   \n",
      "1              0.927452              16.634514              2.224930  ...   \n",
      "2              0.953716              16.208849              2.257889  ...   \n",
      "3              0.883763              16.532835              2.146849  ...   \n",
      "4              0.792826              16.525686              2.055292  ...   \n",
      "\n",
      "   secondary_cleaner.state.floatbank4_a_air  \\\n",
      "0                                 14.016835   \n",
      "1                                 13.992281   \n",
      "2                                 14.015015   \n",
      "3                                 14.036510   \n",
      "4                                 14.027298   \n",
      "\n",
      "   secondary_cleaner.state.floatbank4_a_level  \\\n",
      "0                                 -502.488007   \n",
      "1                                 -505.503262   \n",
      "2                                 -502.520901   \n",
      "3                                 -500.857308   \n",
      "4                                 -499.838632   \n",
      "\n",
      "   secondary_cleaner.state.floatbank4_b_air  \\\n",
      "0                                 12.099931   \n",
      "1                                 11.950531   \n",
      "2                                 11.912783   \n",
      "3                                 11.999550   \n",
      "4                                 11.953070   \n",
      "\n",
      "   secondary_cleaner.state.floatbank4_b_level  \\\n",
      "0                                 -504.715942   \n",
      "1                                 -501.331529   \n",
      "2                                 -501.133383   \n",
      "3                                 -501.193686   \n",
      "4                                 -501.053894   \n",
      "\n",
      "   secondary_cleaner.state.floatbank5_a_air  \\\n",
      "0                                  9.925633   \n",
      "1                                 10.039245   \n",
      "2                                 10.070913   \n",
      "3                                  9.970366   \n",
      "4                                  9.925709   \n",
      "\n",
      "   secondary_cleaner.state.floatbank5_a_level  \\\n",
      "0                                 -498.310211   \n",
      "1                                 -500.169983   \n",
      "2                                 -500.129135   \n",
      "3                                 -499.201640   \n",
      "4                                 -501.686727   \n",
      "\n",
      "   secondary_cleaner.state.floatbank5_b_air  \\\n",
      "0                                  8.079666   \n",
      "1                                  7.984757   \n",
      "2                                  8.013877   \n",
      "3                                  7.977324   \n",
      "4                                  7.894242   \n",
      "\n",
      "   secondary_cleaner.state.floatbank5_b_level  \\\n",
      "0                                 -500.470978   \n",
      "1                                 -500.582168   \n",
      "2                                 -500.517572   \n",
      "3                                 -500.255908   \n",
      "4                                 -500.356035   \n",
      "\n",
      "   secondary_cleaner.state.floatbank6_a_air  \\\n",
      "0                                 14.151341   \n",
      "1                                 13.998353   \n",
      "2                                 14.028663   \n",
      "3                                 14.005551   \n",
      "4                                 13.996647   \n",
      "\n",
      "   secondary_cleaner.state.floatbank6_a_level  \n",
      "0                                 -605.841980  \n",
      "1                                 -599.787184  \n",
      "2                                 -601.427363  \n",
      "3                                 -599.996129  \n",
      "4                                 -601.496691  \n",
      "\n",
      "[5 rows x 87 columns]\n",
      "-----------------------\n",
      "(16860, 87)\n"
     ]
    },
    {
     "data": {
      "text/plain": [
       "<function __main__.view(df)>"
      ]
     },
     "execution_count": 4,
     "metadata": {},
     "output_type": "execute_result"
    }
   ],
   "source": [
    "view(df_train)"
   ]
  },
  {
   "cell_type": "code",
   "execution_count": 5,
   "metadata": {},
   "outputs": [],
   "source": [
    "#df_train.dropna(inplace=True)"
   ]
  },
  {
   "cell_type": "code",
   "execution_count": 6,
   "metadata": {},
   "outputs": [],
   "source": [
    "# pd.options.mode.chained_assignment = None # Убираем вывод сообщения SettingWithCopyWarning\n",
    "# for col in df_train.columns[1::]:\n",
    "#     col_mean = df_train[col].mean(skipna=True)\n",
    "#     for i in range(df_train.shape[0]):\n",
    "#         if pd.isna(df_train[col][i]):\n",
    "#             df_train[col][i] = col_mean"
   ]
  },
  {
   "cell_type": "code",
   "execution_count": 7,
   "metadata": {},
   "outputs": [
    {
     "name": "stdout",
     "output_type": "stream",
     "text": [
      "<class 'pandas.core.frame.DataFrame'>\n",
      "RangeIndex: 22716 entries, 0 to 22715\n",
      "Data columns (total 87 columns):\n",
      " #   Column                                              Non-Null Count  Dtype  \n",
      "---  ------                                              --------------  -----  \n",
      " 0   date                                                22716 non-null  object \n",
      " 1   final.output.concentrate_ag                         22627 non-null  float64\n",
      " 2   final.output.concentrate_pb                         22629 non-null  float64\n",
      " 3   final.output.concentrate_sol                        22331 non-null  float64\n",
      " 4   final.output.concentrate_au                         22630 non-null  float64\n",
      " 5   final.output.recovery                               20753 non-null  float64\n",
      " 6   final.output.tail_ag                                22633 non-null  float64\n",
      " 7   final.output.tail_pb                                22516 non-null  float64\n",
      " 8   final.output.tail_sol                               22445 non-null  float64\n",
      " 9   final.output.tail_au                                22635 non-null  float64\n",
      " 10  primary_cleaner.input.sulfate                       21107 non-null  float64\n",
      " 11  primary_cleaner.input.depressant                    21170 non-null  float64\n",
      " 12  primary_cleaner.input.feed_size                     22716 non-null  float64\n",
      " 13  primary_cleaner.input.xanthate                      21565 non-null  float64\n",
      " 14  primary_cleaner.output.concentrate_ag               22618 non-null  float64\n",
      " 15  primary_cleaner.output.concentrate_pb               22268 non-null  float64\n",
      " 16  primary_cleaner.output.concentrate_sol              21918 non-null  float64\n",
      " 17  primary_cleaner.output.concentrate_au               22618 non-null  float64\n",
      " 18  primary_cleaner.output.tail_ag                      22614 non-null  float64\n",
      " 19  primary_cleaner.output.tail_pb                      22594 non-null  float64\n",
      " 20  primary_cleaner.output.tail_sol                     22365 non-null  float64\n",
      " 21  primary_cleaner.output.tail_au                      22617 non-null  float64\n",
      " 22  primary_cleaner.state.floatbank8_a_air              22660 non-null  float64\n",
      " 23  primary_cleaner.state.floatbank8_a_level            22667 non-null  float64\n",
      " 24  primary_cleaner.state.floatbank8_b_air              22660 non-null  float64\n",
      " 25  primary_cleaner.state.floatbank8_b_level            22673 non-null  float64\n",
      " 26  primary_cleaner.state.floatbank8_c_air              22662 non-null  float64\n",
      " 27  primary_cleaner.state.floatbank8_c_level            22673 non-null  float64\n",
      " 28  primary_cleaner.state.floatbank8_d_air              22661 non-null  float64\n",
      " 29  primary_cleaner.state.floatbank8_d_level            22673 non-null  float64\n",
      " 30  rougher.calculation.sulfate_to_au_concentrate       22672 non-null  float64\n",
      " 31  rougher.calculation.floatbank10_sulfate_to_au_feed  22672 non-null  float64\n",
      " 32  rougher.calculation.floatbank11_sulfate_to_au_feed  22672 non-null  float64\n",
      " 33  rougher.calculation.au_pb_ratio                     21089 non-null  float64\n",
      " 34  rougher.input.feed_ag                               22618 non-null  float64\n",
      " 35  rougher.input.feed_pb                               22472 non-null  float64\n",
      " 36  rougher.input.feed_rate                             22163 non-null  float64\n",
      " 37  rougher.input.feed_size                             22277 non-null  float64\n",
      " 38  rougher.input.feed_sol                              22357 non-null  float64\n",
      " 39  rougher.input.feed_au                               22617 non-null  float64\n",
      " 40  rougher.input.floatbank10_sulfate                   21415 non-null  float64\n",
      " 41  rougher.input.floatbank10_xanthate                  22247 non-null  float64\n",
      " 42  rougher.input.floatbank11_sulfate                   22038 non-null  float64\n",
      " 43  rougher.input.floatbank11_xanthate                  20459 non-null  float64\n",
      " 44  rougher.output.concentrate_ag                       22618 non-null  float64\n",
      " 45  rougher.output.concentrate_pb                       22618 non-null  float64\n",
      " 46  rougher.output.concentrate_sol                      22526 non-null  float64\n",
      " 47  rougher.output.concentrate_au                       22618 non-null  float64\n",
      " 48  rougher.output.recovery                             19597 non-null  float64\n",
      " 49  rougher.output.tail_ag                              19979 non-null  float64\n",
      " 50  rougher.output.tail_pb                              22618 non-null  float64\n",
      " 51  rougher.output.tail_sol                             19980 non-null  float64\n",
      " 52  rougher.output.tail_au                              19980 non-null  float64\n",
      " 53  rougher.state.floatbank10_a_air                     22646 non-null  float64\n",
      " 54  rougher.state.floatbank10_a_level                   22647 non-null  float64\n",
      " 55  rougher.state.floatbank10_b_air                     22646 non-null  float64\n",
      " 56  rougher.state.floatbank10_b_level                   22647 non-null  float64\n",
      " 57  rougher.state.floatbank10_c_air                     22646 non-null  float64\n",
      " 58  rougher.state.floatbank10_c_level                   22654 non-null  float64\n",
      " 59  rougher.state.floatbank10_d_air                     22641 non-null  float64\n",
      " 60  rougher.state.floatbank10_d_level                   22649 non-null  float64\n",
      " 61  rougher.state.floatbank10_e_air                     22096 non-null  float64\n",
      " 62  rougher.state.floatbank10_e_level                   22649 non-null  float64\n",
      " 63  rougher.state.floatbank10_f_air                     22641 non-null  float64\n",
      " 64  rougher.state.floatbank10_f_level                   22642 non-null  float64\n",
      " 65  secondary_cleaner.output.tail_ag                    22616 non-null  float64\n",
      " 66  secondary_cleaner.output.tail_pb                    22600 non-null  float64\n",
      " 67  secondary_cleaner.output.tail_sol                   20501 non-null  float64\n",
      " 68  secondary_cleaner.output.tail_au                    22618 non-null  float64\n",
      " 69  secondary_cleaner.state.floatbank2_a_air            22333 non-null  float64\n",
      " 70  secondary_cleaner.state.floatbank2_a_level          22591 non-null  float64\n",
      " 71  secondary_cleaner.state.floatbank2_b_air            22538 non-null  float64\n",
      " 72  secondary_cleaner.state.floatbank2_b_level          22588 non-null  float64\n",
      " 73  secondary_cleaner.state.floatbank3_a_air            22585 non-null  float64\n",
      " 74  secondary_cleaner.state.floatbank3_a_level          22587 non-null  float64\n",
      " 75  secondary_cleaner.state.floatbank3_b_air            22592 non-null  float64\n",
      " 76  secondary_cleaner.state.floatbank3_b_level          22590 non-null  float64\n",
      " 77  secondary_cleaner.state.floatbank4_a_air            22571 non-null  float64\n",
      " 78  secondary_cleaner.state.floatbank4_a_level          22587 non-null  float64\n",
      " 79  secondary_cleaner.state.floatbank4_b_air            22608 non-null  float64\n",
      " 80  secondary_cleaner.state.floatbank4_b_level          22607 non-null  float64\n",
      " 81  secondary_cleaner.state.floatbank5_a_air            22615 non-null  float64\n",
      " 82  secondary_cleaner.state.floatbank5_a_level          22615 non-null  float64\n",
      " 83  secondary_cleaner.state.floatbank5_b_air            22615 non-null  float64\n",
      " 84  secondary_cleaner.state.floatbank5_b_level          22616 non-null  float64\n",
      " 85  secondary_cleaner.state.floatbank6_a_air            22597 non-null  float64\n",
      " 86  secondary_cleaner.state.floatbank6_a_level          22615 non-null  float64\n",
      "dtypes: float64(86), object(1)\n",
      "memory usage: 15.1+ MB\n",
      "None\n",
      "-----------------------\n",
      "       final.output.concentrate_ag  final.output.concentrate_pb  \\\n",
      "count                 22627.000000                 22629.000000   \n",
      "mean                      4.781559                     9.095308   \n",
      "std                       2.030128                     3.230797   \n",
      "min                       0.000000                     0.000000   \n",
      "25%                       4.018525                     8.750171   \n",
      "50%                       4.953729                     9.914519   \n",
      "75%                       5.862593                    10.929839   \n",
      "max                      16.001945                    17.031899   \n",
      "\n",
      "       final.output.concentrate_sol  final.output.concentrate_au  \\\n",
      "count                  22331.000000                 22630.000000   \n",
      "mean                       8.640317                    40.001172   \n",
      "std                        3.785035                    13.398062   \n",
      "min                        0.000000                     0.000000   \n",
      "25%                        7.116799                    42.383721   \n",
      "50%                        8.908792                    44.653436   \n",
      "75%                       10.705824                    46.111999   \n",
      "max                       19.615720                    53.611374   \n",
      "\n",
      "       final.output.recovery  final.output.tail_ag  final.output.tail_pb  \\\n",
      "count           20753.000000          22633.000000          22516.000000   \n",
      "mean               67.447488              8.923690              2.488252   \n",
      "std                11.616034              3.517917              1.189407   \n",
      "min                 0.000000              0.000000              0.000000   \n",
      "25%                63.282393              7.684016              1.805376   \n",
      "50%                68.322258              9.484369              2.653001   \n",
      "75%                72.950836             11.084557              3.287790   \n",
      "max               100.000000             19.552149              6.086532   \n",
      "\n",
      "       final.output.tail_sol  final.output.tail_au  \\\n",
      "count           22445.000000          22635.000000   \n",
      "mean                9.523632              2.827459   \n",
      "std                 4.079739              1.262834   \n",
      "min                 0.000000              0.000000   \n",
      "25%                 8.143576              2.303108   \n",
      "50%                10.212998              2.913794   \n",
      "75%                11.860824              3.555077   \n",
      "max                22.861749              9.789625   \n",
      "\n",
      "       primary_cleaner.input.sulfate  ...  \\\n",
      "count                   21107.000000  ...   \n",
      "mean                      140.277672  ...   \n",
      "std                        49.919004  ...   \n",
      "min                         0.000003  ...   \n",
      "25%                       110.177081  ...   \n",
      "50%                       141.330501  ...   \n",
      "75%                       174.049914  ...   \n",
      "max                       274.409626  ...   \n",
      "\n",
      "       secondary_cleaner.state.floatbank4_a_air  \\\n",
      "count                              22571.000000   \n",
      "mean                                  18.205125   \n",
      "std                                    6.560700   \n",
      "min                                    0.000000   \n",
      "25%                                   14.095940   \n",
      "50%                                   18.007326   \n",
      "75%                                   22.998194   \n",
      "max                                   60.000000   \n",
      "\n",
      "       secondary_cleaner.state.floatbank4_a_level  \\\n",
      "count                                22587.000000   \n",
      "mean                                  -499.878977   \n",
      "std                                     80.273964   \n",
      "min                                   -799.920713   \n",
      "25%                                   -500.896232   \n",
      "50%                                   -499.917108   \n",
      "75%                                   -498.361545   \n",
      "max                                   -127.692333   \n",
      "\n",
      "       secondary_cleaner.state.floatbank4_b_air  \\\n",
      "count                              22608.000000   \n",
      "mean                                  14.356474   \n",
      "std                                    5.655791   \n",
      "min                                    0.000000   \n",
      "25%                                   10.882675   \n",
      "50%                                   14.947646   \n",
      "75%                                   17.977502   \n",
      "max                                   31.269706   \n",
      "\n",
      "       secondary_cleaner.state.floatbank4_b_level  \\\n",
      "count                                22607.000000   \n",
      "mean                                  -476.532613   \n",
      "std                                     93.822791   \n",
      "min                                   -800.836914   \n",
      "25%                                   -500.309169   \n",
      "50%                                   -499.612292   \n",
      "75%                                   -400.224147   \n",
      "max                                     -6.506986   \n",
      "\n",
      "       secondary_cleaner.state.floatbank5_a_air  \\\n",
      "count                              22615.000000   \n",
      "mean                                  14.883276   \n",
      "std                                    6.372811   \n",
      "min                                   -0.423260   \n",
      "25%                                   10.941299   \n",
      "50%                                   14.859117   \n",
      "75%                                   18.014914   \n",
      "max                                   63.116298   \n",
      "\n",
      "       secondary_cleaner.state.floatbank5_a_level  \\\n",
      "count                                22615.000000   \n",
      "mean                                  -503.323288   \n",
      "std                                     72.925589   \n",
      "min                                   -799.741097   \n",
      "25%                                   -500.628697   \n",
      "50%                                   -499.865158   \n",
      "75%                                   -498.489381   \n",
      "max                                   -244.483566   \n",
      "\n",
      "       secondary_cleaner.state.floatbank5_b_air  \\\n",
      "count                              22615.000000   \n",
      "mean                                  11.626743   \n",
      "std                                    5.757449   \n",
      "min                                    0.427084   \n",
      "25%                                    8.037533   \n",
      "50%                                   10.989756   \n",
      "75%                                   14.001193   \n",
      "max                                   39.846228   \n",
      "\n",
      "       secondary_cleaner.state.floatbank5_b_level  \\\n",
      "count                                22616.000000   \n",
      "mean                                  -500.521502   \n",
      "std                                     78.956292   \n",
      "min                                   -800.258209   \n",
      "25%                                   -500.167897   \n",
      "50%                                   -499.951980   \n",
      "75%                                   -499.492354   \n",
      "max                                   -120.190931   \n",
      "\n",
      "       secondary_cleaner.state.floatbank6_a_air  \\\n",
      "count                              22597.000000   \n",
      "mean                                  17.976810   \n",
      "std                                    6.636203   \n",
      "min                                   -0.079426   \n",
      "25%                                   13.968418   \n",
      "50%                                   18.004215   \n",
      "75%                                   23.009704   \n",
      "max                                   54.876806   \n",
      "\n",
      "       secondary_cleaner.state.floatbank6_a_level  \n",
      "count                                22615.000000  \n",
      "mean                                  -519.361465  \n",
      "std                                     75.477151  \n",
      "min                                   -810.473526  \n",
      "25%                                   -500.981671  \n",
      "50%                                   -500.095463  \n",
      "75%                                   -499.526388  \n",
      "max                                    -29.093593  \n",
      "\n",
      "[8 rows x 86 columns]\n",
      "-----------------------\n",
      "                  date  final.output.concentrate_ag  \\\n",
      "0  2016-01-15 00:00:00                     6.055403   \n",
      "1  2016-01-15 01:00:00                     6.029369   \n",
      "2  2016-01-15 02:00:00                     6.055926   \n",
      "3  2016-01-15 03:00:00                     6.047977   \n",
      "4  2016-01-15 04:00:00                     6.148599   \n",
      "\n",
      "   final.output.concentrate_pb  final.output.concentrate_sol  \\\n",
      "0                     9.889648                      5.507324   \n",
      "1                     9.968944                      5.257781   \n",
      "2                    10.213995                      5.383759   \n",
      "3                     9.977019                      4.858634   \n",
      "4                    10.142511                      4.939416   \n",
      "\n",
      "   final.output.concentrate_au  final.output.recovery  final.output.tail_ag  \\\n",
      "0                    42.192020              70.541216             10.411962   \n",
      "1                    42.701629              69.266198             10.462676   \n",
      "2                    42.657501              68.116445             10.507046   \n",
      "3                    42.689819              68.347543             10.422762   \n",
      "4                    42.774141              66.927016             10.360302   \n",
      "\n",
      "   final.output.tail_pb  final.output.tail_sol  final.output.tail_au  ...  \\\n",
      "0              0.895447              16.904297              2.143149  ...   \n",
      "1              0.927452              16.634514              2.224930  ...   \n",
      "2              0.953716              16.208849              2.257889  ...   \n",
      "3              0.883763              16.532835              2.146849  ...   \n",
      "4              0.792826              16.525686              2.055292  ...   \n",
      "\n",
      "   secondary_cleaner.state.floatbank4_a_air  \\\n",
      "0                                 14.016835   \n",
      "1                                 13.992281   \n",
      "2                                 14.015015   \n",
      "3                                 14.036510   \n",
      "4                                 14.027298   \n",
      "\n",
      "   secondary_cleaner.state.floatbank4_a_level  \\\n",
      "0                                 -502.488007   \n",
      "1                                 -505.503262   \n",
      "2                                 -502.520901   \n",
      "3                                 -500.857308   \n",
      "4                                 -499.838632   \n",
      "\n",
      "   secondary_cleaner.state.floatbank4_b_air  \\\n",
      "0                                 12.099931   \n",
      "1                                 11.950531   \n",
      "2                                 11.912783   \n",
      "3                                 11.999550   \n",
      "4                                 11.953070   \n",
      "\n",
      "   secondary_cleaner.state.floatbank4_b_level  \\\n",
      "0                                 -504.715942   \n",
      "1                                 -501.331529   \n",
      "2                                 -501.133383   \n",
      "3                                 -501.193686   \n",
      "4                                 -501.053894   \n",
      "\n",
      "   secondary_cleaner.state.floatbank5_a_air  \\\n",
      "0                                  9.925633   \n",
      "1                                 10.039245   \n",
      "2                                 10.070913   \n",
      "3                                  9.970366   \n",
      "4                                  9.925709   \n",
      "\n",
      "   secondary_cleaner.state.floatbank5_a_level  \\\n",
      "0                                 -498.310211   \n",
      "1                                 -500.169983   \n",
      "2                                 -500.129135   \n",
      "3                                 -499.201640   \n",
      "4                                 -501.686727   \n",
      "\n",
      "   secondary_cleaner.state.floatbank5_b_air  \\\n",
      "0                                  8.079666   \n",
      "1                                  7.984757   \n",
      "2                                  8.013877   \n",
      "3                                  7.977324   \n",
      "4                                  7.894242   \n",
      "\n",
      "   secondary_cleaner.state.floatbank5_b_level  \\\n",
      "0                                 -500.470978   \n",
      "1                                 -500.582168   \n",
      "2                                 -500.517572   \n",
      "3                                 -500.255908   \n",
      "4                                 -500.356035   \n",
      "\n",
      "   secondary_cleaner.state.floatbank6_a_air  \\\n",
      "0                                 14.151341   \n",
      "1                                 13.998353   \n",
      "2                                 14.028663   \n",
      "3                                 14.005551   \n",
      "4                                 13.996647   \n",
      "\n",
      "   secondary_cleaner.state.floatbank6_a_level  \n",
      "0                                 -605.841980  \n",
      "1                                 -599.787184  \n",
      "2                                 -601.427363  \n",
      "3                                 -599.996129  \n",
      "4                                 -601.496691  \n",
      "\n",
      "[5 rows x 87 columns]\n",
      "-----------------------\n",
      "(22716, 87)\n"
     ]
    },
    {
     "data": {
      "text/plain": [
       "<function __main__.view(df)>"
      ]
     },
     "execution_count": 7,
     "metadata": {},
     "output_type": "execute_result"
    }
   ],
   "source": [
    "view(df_full)"
   ]
  },
  {
   "cell_type": "markdown",
   "metadata": {},
   "source": [
    "Технологический процесс (из задания)\n",
    "\n",
    "    Rougher feed — исходное сырье\n",
    "    Rougher additions (или reagent additions) — флотационные реагенты: Xanthate, Sulphate, Depressant\n",
    "    Xanthate **— ксантогенат (промотер, или активатор флотации);\n",
    "    Sulphate — сульфат (на данном производстве сульфид натрия);\n",
    "    Depressant — депрессант (силикат натрия).\n",
    "    Rougher process (англ. «грубый процесс») — флотация\n",
    "    Rougher tails — отвальные хвосты\n",
    "    Float banks — флотационная установка\n",
    "    Cleaner process — очистка\n",
    "    Rougher Au — черновой концентрат золота\n",
    "    Final Au — финальный концентрат золота\n",
    "    \n",
    "Параметры этапов\n",
    "\n",
    "    air amount — объём воздуха\n",
    "    fluid levels — уровень жидкости\n",
    "    feed size — размер гранул сырья\n",
    "    feed rate — скорость подачи"
   ]
  },
  {
   "cell_type": "markdown",
   "metadata": {},
   "source": [
    "ag, pb, sol, au - Серебро, Свинец, Соль, Золото\n",
    "\n",
    "    rougher.input.feed_ag(pb, sol, au) - концентрация исходного сырье ag, pb, sol, au\n",
    "    rougher.input.feed_rate - скорость подачи сырья\n",
    "    rougher.input.feed_size - размер гранул сырья\n",
    "    rougher.input.floatbank_10_sulfate - подача флотационных реагентов \n",
    "    rougher.output.concentrate_ag - концентрация на выходе \n",
    "    rougher.output.tail_ag - отвальные хвосты  после флотации\n",
    "    rougher.output.recovery - Эффективность обогащения после флотации\n",
    "    rougher.state.floatbank10_a_air(level) - параметры объема воздуха и уровня жидкости\n",
    "    rougher.calculation - расчётные характеристики\n",
    "    \n",
    "    primary_cleaner.input.sulfate - реагенты\n",
    "    primary_cleaner.input.feed_size - размер гранул сырья на входе\n",
    "    primary_cleaner.output.concentrate_ag - концентрация на выходе\n",
    "    primary_cleaner.output.tail_ag - отвальные хвосты первичной очистки\n",
    "    primary_cleaner.state.floatbank8_a_air(level) - параметры объема воздуха и уровня жидкости\n",
    "    \n",
    "    secondary_cleaner.output.tail_ag - отвальные хвосты после вторичной очистки\n",
    "    secondary_cleaner.state.floatbank2_a_air(level) - параметры объема воздуха и уровня жидкости, характеризующие текущее состояние этапа\n",
    "    final.output.recovery - эффективность обогащения финального концентрата\n",
    "    final.output.concentrate_ag - финальный концентрат \n",
    "    final.output.tail_ag - финальные отвальные хвосты "
   ]
  },
  {
   "cell_type": "code",
   "execution_count": 8,
   "metadata": {},
   "outputs": [],
   "source": [
    "step = collections.Counter()\n",
    "type_step = collections.Counter()\n",
    "df = collections.Counter()\n",
    "list_columns = [i for i in df_train.columns if i not in df_test.columns]\n",
    "for i in list_columns:\n",
    "    words = list(map(str,i.split(\".\")))\n",
    "    step[words[0]] += 1\n",
    "    type_step[words[1]] += 1\n",
    "    df[words[2]] += 1"
   ]
  },
  {
   "cell_type": "code",
   "execution_count": 9,
   "metadata": {},
   "outputs": [
    {
     "data": {
      "text/plain": [
       "['final.output.concentrate_ag',\n",
       " 'final.output.concentrate_pb',\n",
       " 'final.output.concentrate_sol',\n",
       " 'final.output.concentrate_au',\n",
       " 'final.output.recovery',\n",
       " 'final.output.tail_ag',\n",
       " 'final.output.tail_pb',\n",
       " 'final.output.tail_sol',\n",
       " 'final.output.tail_au',\n",
       " 'primary_cleaner.output.concentrate_ag',\n",
       " 'primary_cleaner.output.concentrate_pb',\n",
       " 'primary_cleaner.output.concentrate_sol',\n",
       " 'primary_cleaner.output.concentrate_au',\n",
       " 'primary_cleaner.output.tail_ag',\n",
       " 'primary_cleaner.output.tail_pb',\n",
       " 'primary_cleaner.output.tail_sol',\n",
       " 'primary_cleaner.output.tail_au',\n",
       " 'rougher.calculation.sulfate_to_au_concentrate',\n",
       " 'rougher.calculation.floatbank10_sulfate_to_au_feed',\n",
       " 'rougher.calculation.floatbank11_sulfate_to_au_feed',\n",
       " 'rougher.calculation.au_pb_ratio',\n",
       " 'rougher.output.concentrate_ag',\n",
       " 'rougher.output.concentrate_pb',\n",
       " 'rougher.output.concentrate_sol',\n",
       " 'rougher.output.concentrate_au',\n",
       " 'rougher.output.recovery',\n",
       " 'rougher.output.tail_ag',\n",
       " 'rougher.output.tail_pb',\n",
       " 'rougher.output.tail_sol',\n",
       " 'rougher.output.tail_au',\n",
       " 'secondary_cleaner.output.tail_ag',\n",
       " 'secondary_cleaner.output.tail_pb',\n",
       " 'secondary_cleaner.output.tail_sol',\n",
       " 'secondary_cleaner.output.tail_au']"
      ]
     },
     "execution_count": 9,
     "metadata": {},
     "output_type": "execute_result"
    }
   ],
   "source": [
    "list_columns"
   ]
  },
  {
   "cell_type": "code",
   "execution_count": 10,
   "metadata": {
    "scrolled": true
   },
   "outputs": [
    {
     "data": {
      "text/plain": [
       "(Counter({'final': 9,\n",
       "          'primary_cleaner': 8,\n",
       "          'rougher': 13,\n",
       "          'secondary_cleaner': 4}),\n",
       " '-------------',\n",
       " Counter({'output': 30, 'calculation': 4}),\n",
       " '----------',\n",
       " Counter({'concentrate_ag': 3,\n",
       "          'concentrate_pb': 3,\n",
       "          'concentrate_sol': 3,\n",
       "          'concentrate_au': 3,\n",
       "          'recovery': 2,\n",
       "          'tail_ag': 4,\n",
       "          'tail_pb': 4,\n",
       "          'tail_sol': 4,\n",
       "          'tail_au': 4,\n",
       "          'sulfate_to_au_concentrate': 1,\n",
       "          'floatbank10_sulfate_to_au_feed': 1,\n",
       "          'floatbank11_sulfate_to_au_feed': 1,\n",
       "          'au_pb_ratio': 1}))"
      ]
     },
     "execution_count": 10,
     "metadata": {},
     "output_type": "execute_result"
    }
   ],
   "source": [
    "step,\"-------------\",type_step,\"----------\",df"
   ]
  },
  {
   "cell_type": "code",
   "execution_count": 11,
   "metadata": {},
   "outputs": [
    {
     "data": {
      "text/plain": [
       "date                                            0\n",
       "final.output.concentrate_ag                    72\n",
       "final.output.concentrate_pb                    72\n",
       "final.output.concentrate_sol                  370\n",
       "final.output.concentrate_au                    71\n",
       "                                             ... \n",
       "secondary_cleaner.state.floatbank5_a_level     85\n",
       "secondary_cleaner.state.floatbank5_b_air       85\n",
       "secondary_cleaner.state.floatbank5_b_level     84\n",
       "secondary_cleaner.state.floatbank6_a_air      103\n",
       "secondary_cleaner.state.floatbank6_a_level     85\n",
       "Length: 87, dtype: int64"
      ]
     },
     "execution_count": 11,
     "metadata": {},
     "output_type": "execute_result"
    }
   ],
   "source": [
    "df_train.isna().sum()"
   ]
  },
  {
   "cell_type": "code",
   "execution_count": 12,
   "metadata": {
    "scrolled": true
   },
   "outputs": [
    {
     "data": {
      "text/plain": [
       "date                                            0\n",
       "primary_cleaner.input.sulfate                 302\n",
       "primary_cleaner.input.depressant              284\n",
       "primary_cleaner.input.feed_size                 0\n",
       "primary_cleaner.input.xanthate                166\n",
       "primary_cleaner.state.floatbank8_a_air         16\n",
       "primary_cleaner.state.floatbank8_a_level       16\n",
       "primary_cleaner.state.floatbank8_b_air         16\n",
       "primary_cleaner.state.floatbank8_b_level       16\n",
       "primary_cleaner.state.floatbank8_c_air         16\n",
       "primary_cleaner.state.floatbank8_c_level       16\n",
       "primary_cleaner.state.floatbank8_d_air         16\n",
       "primary_cleaner.state.floatbank8_d_level       16\n",
       "rougher.input.feed_ag                          16\n",
       "rougher.input.feed_pb                          16\n",
       "rougher.input.feed_rate                        40\n",
       "rougher.input.feed_size                        22\n",
       "rougher.input.feed_sol                         67\n",
       "rougher.input.feed_au                          16\n",
       "rougher.input.floatbank10_sulfate             257\n",
       "rougher.input.floatbank10_xanthate            123\n",
       "rougher.input.floatbank11_sulfate              55\n",
       "rougher.input.floatbank11_xanthate            353\n",
       "rougher.state.floatbank10_a_air                17\n",
       "rougher.state.floatbank10_a_level              16\n",
       "rougher.state.floatbank10_b_air                17\n",
       "rougher.state.floatbank10_b_level              16\n",
       "rougher.state.floatbank10_c_air                17\n",
       "rougher.state.floatbank10_c_level              16\n",
       "rougher.state.floatbank10_d_air                17\n",
       "rougher.state.floatbank10_d_level              16\n",
       "rougher.state.floatbank10_e_air                17\n",
       "rougher.state.floatbank10_e_level              16\n",
       "rougher.state.floatbank10_f_air                17\n",
       "rougher.state.floatbank10_f_level              16\n",
       "secondary_cleaner.state.floatbank2_a_air       20\n",
       "secondary_cleaner.state.floatbank2_a_level     16\n",
       "secondary_cleaner.state.floatbank2_b_air       23\n",
       "secondary_cleaner.state.floatbank2_b_level     16\n",
       "secondary_cleaner.state.floatbank3_a_air       34\n",
       "secondary_cleaner.state.floatbank3_a_level     16\n",
       "secondary_cleaner.state.floatbank3_b_air       16\n",
       "secondary_cleaner.state.floatbank3_b_level     16\n",
       "secondary_cleaner.state.floatbank4_a_air       16\n",
       "secondary_cleaner.state.floatbank4_a_level     16\n",
       "secondary_cleaner.state.floatbank4_b_air       16\n",
       "secondary_cleaner.state.floatbank4_b_level     16\n",
       "secondary_cleaner.state.floatbank5_a_air       16\n",
       "secondary_cleaner.state.floatbank5_a_level     16\n",
       "secondary_cleaner.state.floatbank5_b_air       16\n",
       "secondary_cleaner.state.floatbank5_b_level     16\n",
       "secondary_cleaner.state.floatbank6_a_air       16\n",
       "secondary_cleaner.state.floatbank6_a_level     16\n",
       "dtype: int64"
      ]
     },
     "execution_count": 12,
     "metadata": {},
     "output_type": "execute_result"
    }
   ],
   "source": [
    "df_test.isna().sum()"
   ]
  },
  {
   "cell_type": "code",
   "execution_count": 13,
   "metadata": {},
   "outputs": [
    {
     "data": {
      "text/plain": [
       "date                                            0\n",
       "final.output.concentrate_ag                    89\n",
       "final.output.concentrate_pb                    87\n",
       "final.output.concentrate_sol                  385\n",
       "final.output.concentrate_au                    86\n",
       "                                             ... \n",
       "secondary_cleaner.state.floatbank5_a_level    101\n",
       "secondary_cleaner.state.floatbank5_b_air      101\n",
       "secondary_cleaner.state.floatbank5_b_level    100\n",
       "secondary_cleaner.state.floatbank6_a_air      119\n",
       "secondary_cleaner.state.floatbank6_a_level    101\n",
       "Length: 87, dtype: int64"
      ]
     },
     "execution_count": 13,
     "metadata": {},
     "output_type": "execute_result"
    }
   ],
   "source": [
    "df_full.isna().sum()"
   ]
  },
  {
   "cell_type": "code",
   "execution_count": 14,
   "metadata": {},
   "outputs": [],
   "source": [
    "imputer = KNNImputer(n_neighbors=2)\n",
    "df_train.loc[:, 'final.output.concentrate_ag': 'secondary_cleaner.state.floatbank6_a_level'] = (\n",
    "    imputer.fit_transform(df_train.loc[:, 'final.output.concentrate_ag': 'secondary_cleaner.state.floatbank6_a_level']))"
   ]
  },
  {
   "cell_type": "code",
   "execution_count": 15,
   "metadata": {},
   "outputs": [
    {
     "data": {
      "text/plain": [
       "date                                          0\n",
       "final.output.concentrate_ag                   0\n",
       "final.output.concentrate_pb                   0\n",
       "final.output.concentrate_sol                  0\n",
       "final.output.concentrate_au                   0\n",
       "                                             ..\n",
       "secondary_cleaner.state.floatbank5_a_level    0\n",
       "secondary_cleaner.state.floatbank5_b_air      0\n",
       "secondary_cleaner.state.floatbank5_b_level    0\n",
       "secondary_cleaner.state.floatbank6_a_air      0\n",
       "secondary_cleaner.state.floatbank6_a_level    0\n",
       "Length: 87, dtype: int64"
      ]
     },
     "execution_count": 15,
     "metadata": {},
     "output_type": "execute_result"
    }
   ],
   "source": [
    "df_train.isna().sum()"
   ]
  },
  {
   "cell_type": "code",
   "execution_count": 16,
   "metadata": {},
   "outputs": [],
   "source": [
    "def recovery(concentrate, feed, tail):\n",
    "    return concentrate * (feed - tail) / (feed * (concentrate - tail)) * 100  "
   ]
  },
  {
   "cell_type": "code",
   "execution_count": 17,
   "metadata": {},
   "outputs": [
    {
     "data": {
      "text/plain": [
       "count    1.573100e+04\n",
       "mean              NaN\n",
       "std               NaN\n",
       "min              -inf\n",
       "25%      7.969594e+01\n",
       "50%      8.547481e+01\n",
       "75%      9.057834e+01\n",
       "max               inf\n",
       "Name: counted_recovery, dtype: float64"
      ]
     },
     "execution_count": 17,
     "metadata": {},
     "output_type": "execute_result"
    }
   ],
   "source": [
    "df_train['counted_recovery'] = recovery(df_train['rougher.output.concentrate_au'], df_train['rougher.input.feed_au'],\n",
    "                                        df_train['rougher.output.tail_au'])\n",
    "df_train['counted_recovery'].describe()"
   ]
  },
  {
   "cell_type": "code",
   "execution_count": 18,
   "metadata": {},
   "outputs": [],
   "source": [
    "df_train_mae = df_train[['rougher.output.recovery','counted_recovery']].dropna()"
   ]
  },
  {
   "cell_type": "code",
   "execution_count": 19,
   "metadata": {},
   "outputs": [
    {
     "data": {
      "text/plain": [
       "inf"
      ]
     },
     "execution_count": 19,
     "metadata": {},
     "output_type": "execute_result"
    }
   ],
   "source": [
    "def mae(recovery, counted_recovery):\n",
    "    mae = 1 / len(recovery) * (abs(recovery - counted_recovery)).sum() \n",
    "    return mae\n",
    "\n",
    "mae(df_train_mae['rougher.output.recovery'], df_train_mae['counted_recovery'])"
   ]
  },
  {
   "cell_type": "code",
   "execution_count": 20,
   "metadata": {},
   "outputs": [],
   "source": [
    "df_train['date'] = pd.to_datetime(df_train['date'], format='%Y-%m-%d %H:%M:%S')\n",
    "df_train = df_train.set_index(['date'])"
   ]
  },
  {
   "cell_type": "code",
   "execution_count": 21,
   "metadata": {},
   "outputs": [],
   "source": [
    "imputer = KNNImputer(n_neighbors=2)\n",
    "df_test.loc[:, df_test.columns != 'date' ] = imputer.fit_transform(df_test.loc[:, df_test.columns != 'date' ])"
   ]
  },
  {
   "cell_type": "code",
   "execution_count": 22,
   "metadata": {},
   "outputs": [
    {
     "data": {
      "text/plain": [
       "date                                          0\n",
       "primary_cleaner.input.sulfate                 0\n",
       "primary_cleaner.input.depressant              0\n",
       "primary_cleaner.input.feed_size               0\n",
       "primary_cleaner.input.xanthate                0\n",
       "primary_cleaner.state.floatbank8_a_air        0\n",
       "primary_cleaner.state.floatbank8_a_level      0\n",
       "primary_cleaner.state.floatbank8_b_air        0\n",
       "primary_cleaner.state.floatbank8_b_level      0\n",
       "primary_cleaner.state.floatbank8_c_air        0\n",
       "primary_cleaner.state.floatbank8_c_level      0\n",
       "primary_cleaner.state.floatbank8_d_air        0\n",
       "primary_cleaner.state.floatbank8_d_level      0\n",
       "rougher.input.feed_ag                         0\n",
       "rougher.input.feed_pb                         0\n",
       "rougher.input.feed_rate                       0\n",
       "rougher.input.feed_size                       0\n",
       "rougher.input.feed_sol                        0\n",
       "rougher.input.feed_au                         0\n",
       "rougher.input.floatbank10_sulfate             0\n",
       "rougher.input.floatbank10_xanthate            0\n",
       "rougher.input.floatbank11_sulfate             0\n",
       "rougher.input.floatbank11_xanthate            0\n",
       "rougher.state.floatbank10_a_air               0\n",
       "rougher.state.floatbank10_a_level             0\n",
       "rougher.state.floatbank10_b_air               0\n",
       "rougher.state.floatbank10_b_level             0\n",
       "rougher.state.floatbank10_c_air               0\n",
       "rougher.state.floatbank10_c_level             0\n",
       "rougher.state.floatbank10_d_air               0\n",
       "rougher.state.floatbank10_d_level             0\n",
       "rougher.state.floatbank10_e_air               0\n",
       "rougher.state.floatbank10_e_level             0\n",
       "rougher.state.floatbank10_f_air               0\n",
       "rougher.state.floatbank10_f_level             0\n",
       "secondary_cleaner.state.floatbank2_a_air      0\n",
       "secondary_cleaner.state.floatbank2_a_level    0\n",
       "secondary_cleaner.state.floatbank2_b_air      0\n",
       "secondary_cleaner.state.floatbank2_b_level    0\n",
       "secondary_cleaner.state.floatbank3_a_air      0\n",
       "secondary_cleaner.state.floatbank3_a_level    0\n",
       "secondary_cleaner.state.floatbank3_b_air      0\n",
       "secondary_cleaner.state.floatbank3_b_level    0\n",
       "secondary_cleaner.state.floatbank4_a_air      0\n",
       "secondary_cleaner.state.floatbank4_a_level    0\n",
       "secondary_cleaner.state.floatbank4_b_air      0\n",
       "secondary_cleaner.state.floatbank4_b_level    0\n",
       "secondary_cleaner.state.floatbank5_a_air      0\n",
       "secondary_cleaner.state.floatbank5_a_level    0\n",
       "secondary_cleaner.state.floatbank5_b_air      0\n",
       "secondary_cleaner.state.floatbank5_b_level    0\n",
       "secondary_cleaner.state.floatbank6_a_air      0\n",
       "secondary_cleaner.state.floatbank6_a_level    0\n",
       "dtype: int64"
      ]
     },
     "execution_count": 22,
     "metadata": {},
     "output_type": "execute_result"
    }
   ],
   "source": [
    "df_test.isna().sum()"
   ]
  },
  {
   "cell_type": "code",
   "execution_count": 23,
   "metadata": {},
   "outputs": [],
   "source": [
    "imputer = KNNImputer(n_neighbors=2)\n",
    "df_full.loc[:, df_full.columns != 'date' ] = imputer.fit_transform(df_full.loc[:, df_full.columns != 'date' ])"
   ]
  },
  {
   "cell_type": "code",
   "execution_count": 24,
   "metadata": {},
   "outputs": [
    {
     "data": {
      "text/plain": [
       "date                                          0\n",
       "final.output.concentrate_ag                   0\n",
       "final.output.concentrate_pb                   0\n",
       "final.output.concentrate_sol                  0\n",
       "final.output.concentrate_au                   0\n",
       "                                             ..\n",
       "secondary_cleaner.state.floatbank5_a_level    0\n",
       "secondary_cleaner.state.floatbank5_b_air      0\n",
       "secondary_cleaner.state.floatbank5_b_level    0\n",
       "secondary_cleaner.state.floatbank6_a_air      0\n",
       "secondary_cleaner.state.floatbank6_a_level    0\n",
       "Length: 87, dtype: int64"
      ]
     },
     "execution_count": 24,
     "metadata": {},
     "output_type": "execute_result"
    }
   ],
   "source": [
    "df_full.isna().sum()"
   ]
  },
  {
   "cell_type": "code",
   "execution_count": 25,
   "metadata": {},
   "outputs": [
    {
     "data": {
      "text/plain": [
       "0"
      ]
     },
     "execution_count": 25,
     "metadata": {},
     "output_type": "execute_result"
    }
   ],
   "source": [
    "df_full.duplicated().sum()"
   ]
  },
  {
   "cell_type": "code",
   "execution_count": 26,
   "metadata": {},
   "outputs": [
    {
     "name": "stdout",
     "output_type": "stream",
     "text": [
      "<class 'pandas.core.frame.DataFrame'>\n",
      "RangeIndex: 5856 entries, 0 to 5855\n",
      "Data columns (total 87 columns):\n",
      " #   Column                                              Non-Null Count  Dtype  \n",
      "---  ------                                              --------------  -----  \n",
      " 0   date                                                5856 non-null   object \n",
      " 1   final.output.concentrate_ag                         5856 non-null   float64\n",
      " 2   final.output.concentrate_pb                         5856 non-null   float64\n",
      " 3   final.output.concentrate_sol                        5856 non-null   float64\n",
      " 4   final.output.concentrate_au                         5856 non-null   float64\n",
      " 5   final.output.recovery                               5856 non-null   float64\n",
      " 6   final.output.tail_ag                                5856 non-null   float64\n",
      " 7   final.output.tail_pb                                5856 non-null   float64\n",
      " 8   final.output.tail_sol                               5856 non-null   float64\n",
      " 9   final.output.tail_au                                5856 non-null   float64\n",
      " 10  primary_cleaner.input.sulfate                       5856 non-null   float64\n",
      " 11  primary_cleaner.input.depressant                    5856 non-null   float64\n",
      " 12  primary_cleaner.input.feed_size                     5856 non-null   float64\n",
      " 13  primary_cleaner.input.xanthate                      5856 non-null   float64\n",
      " 14  primary_cleaner.output.concentrate_ag               5856 non-null   float64\n",
      " 15  primary_cleaner.output.concentrate_pb               5856 non-null   float64\n",
      " 16  primary_cleaner.output.concentrate_sol              5856 non-null   float64\n",
      " 17  primary_cleaner.output.concentrate_au               5856 non-null   float64\n",
      " 18  primary_cleaner.output.tail_ag                      5856 non-null   float64\n",
      " 19  primary_cleaner.output.tail_pb                      5856 non-null   float64\n",
      " 20  primary_cleaner.output.tail_sol                     5856 non-null   float64\n",
      " 21  primary_cleaner.output.tail_au                      5856 non-null   float64\n",
      " 22  primary_cleaner.state.floatbank8_a_air              5856 non-null   float64\n",
      " 23  primary_cleaner.state.floatbank8_a_level            5856 non-null   float64\n",
      " 24  primary_cleaner.state.floatbank8_b_air              5856 non-null   float64\n",
      " 25  primary_cleaner.state.floatbank8_b_level            5856 non-null   float64\n",
      " 26  primary_cleaner.state.floatbank8_c_air              5856 non-null   float64\n",
      " 27  primary_cleaner.state.floatbank8_c_level            5856 non-null   float64\n",
      " 28  primary_cleaner.state.floatbank8_d_air              5856 non-null   float64\n",
      " 29  primary_cleaner.state.floatbank8_d_level            5856 non-null   float64\n",
      " 30  rougher.calculation.sulfate_to_au_concentrate       5856 non-null   float64\n",
      " 31  rougher.calculation.floatbank10_sulfate_to_au_feed  5856 non-null   float64\n",
      " 32  rougher.calculation.floatbank11_sulfate_to_au_feed  5856 non-null   float64\n",
      " 33  rougher.calculation.au_pb_ratio                     5856 non-null   float64\n",
      " 34  rougher.input.feed_ag                               5856 non-null   float64\n",
      " 35  rougher.input.feed_pb                               5856 non-null   float64\n",
      " 36  rougher.input.feed_rate                             5856 non-null   float64\n",
      " 37  rougher.input.feed_size                             5856 non-null   float64\n",
      " 38  rougher.input.feed_sol                              5856 non-null   float64\n",
      " 39  rougher.input.feed_au                               5856 non-null   float64\n",
      " 40  rougher.input.floatbank10_sulfate                   5856 non-null   float64\n",
      " 41  rougher.input.floatbank10_xanthate                  5856 non-null   float64\n",
      " 42  rougher.input.floatbank11_sulfate                   5856 non-null   float64\n",
      " 43  rougher.input.floatbank11_xanthate                  5856 non-null   float64\n",
      " 44  rougher.output.concentrate_ag                       5856 non-null   float64\n",
      " 45  rougher.output.concentrate_pb                       5856 non-null   float64\n",
      " 46  rougher.output.concentrate_sol                      5856 non-null   float64\n",
      " 47  rougher.output.concentrate_au                       5856 non-null   float64\n",
      " 48  rougher.output.recovery                             5856 non-null   float64\n",
      " 49  rougher.output.tail_ag                              5856 non-null   float64\n",
      " 50  rougher.output.tail_pb                              5856 non-null   float64\n",
      " 51  rougher.output.tail_sol                             5856 non-null   float64\n",
      " 52  rougher.output.tail_au                              5856 non-null   float64\n",
      " 53  rougher.state.floatbank10_a_air                     5856 non-null   float64\n",
      " 54  rougher.state.floatbank10_a_level                   5856 non-null   float64\n",
      " 55  rougher.state.floatbank10_b_air                     5856 non-null   float64\n",
      " 56  rougher.state.floatbank10_b_level                   5856 non-null   float64\n",
      " 57  rougher.state.floatbank10_c_air                     5856 non-null   float64\n",
      " 58  rougher.state.floatbank10_c_level                   5856 non-null   float64\n",
      " 59  rougher.state.floatbank10_d_air                     5856 non-null   float64\n",
      " 60  rougher.state.floatbank10_d_level                   5856 non-null   float64\n",
      " 61  rougher.state.floatbank10_e_air                     5856 non-null   float64\n",
      " 62  rougher.state.floatbank10_e_level                   5856 non-null   float64\n",
      " 63  rougher.state.floatbank10_f_air                     5856 non-null   float64\n",
      " 64  rougher.state.floatbank10_f_level                   5856 non-null   float64\n",
      " 65  secondary_cleaner.output.tail_ag                    5856 non-null   float64\n",
      " 66  secondary_cleaner.output.tail_pb                    5856 non-null   float64\n",
      " 67  secondary_cleaner.output.tail_sol                   5856 non-null   float64\n",
      " 68  secondary_cleaner.output.tail_au                    5856 non-null   float64\n",
      " 69  secondary_cleaner.state.floatbank2_a_air            5856 non-null   float64\n",
      " 70  secondary_cleaner.state.floatbank2_a_level          5856 non-null   float64\n",
      " 71  secondary_cleaner.state.floatbank2_b_air            5856 non-null   float64\n",
      " 72  secondary_cleaner.state.floatbank2_b_level          5856 non-null   float64\n",
      " 73  secondary_cleaner.state.floatbank3_a_air            5856 non-null   float64\n",
      " 74  secondary_cleaner.state.floatbank3_a_level          5856 non-null   float64\n",
      " 75  secondary_cleaner.state.floatbank3_b_air            5856 non-null   float64\n",
      " 76  secondary_cleaner.state.floatbank3_b_level          5856 non-null   float64\n",
      " 77  secondary_cleaner.state.floatbank4_a_air            5856 non-null   float64\n",
      " 78  secondary_cleaner.state.floatbank4_a_level          5856 non-null   float64\n",
      " 79  secondary_cleaner.state.floatbank4_b_air            5856 non-null   float64\n",
      " 80  secondary_cleaner.state.floatbank4_b_level          5856 non-null   float64\n",
      " 81  secondary_cleaner.state.floatbank5_a_air            5856 non-null   float64\n",
      " 82  secondary_cleaner.state.floatbank5_a_level          5856 non-null   float64\n",
      " 83  secondary_cleaner.state.floatbank5_b_air            5856 non-null   float64\n",
      " 84  secondary_cleaner.state.floatbank5_b_level          5856 non-null   float64\n",
      " 85  secondary_cleaner.state.floatbank6_a_air            5856 non-null   float64\n",
      " 86  secondary_cleaner.state.floatbank6_a_level          5856 non-null   float64\n",
      "dtypes: float64(86), object(1)\n",
      "memory usage: 3.9+ MB\n"
     ]
    }
   ],
   "source": [
    "df_test_full = pd.DataFrame(data=df_full, index=df_test.index)\n",
    "df_test_full.info()"
   ]
  },
  {
   "cell_type": "markdown",
   "metadata": {},
   "source": [
    "## Анализ данных"
   ]
  },
  {
   "cell_type": "code",
   "execution_count": 27,
   "metadata": {},
   "outputs": [],
   "source": [
    "#print(\"До флотации\")\n",
    "#print(\"Концентрация Серебра:{: 0.2f},Концентрация Свинца:{: 0.2f},Концентрация Золота:{: 0.2f}\".\n",
    "#format(without_nan[\"rougher.input.feed_ag\"].mean(),\n",
    "#without_nan[\"rougher.input.feed_pb\"].mean(),\n",
    "#without_nan[\"rougher.input.feed_au\"].mean()))\n",
    "#print('----------------------------------------------------------------')\n",
    "#print(\"После флотации\")\n",
    "#print(\"Коцентрация Серебра:{: 0.2f},Концентрация Свинца:{: 0.2f},Концентрация Золота:{: 0.2f}\".\n",
    "#format(without_nan[\"rougher.output.concentrate_ag\"].mean(),without_nan[\"rougher.output.concentrate_pb\"].mean(),without_nan[\"rougher.output.concentrate_au\"].mean()))\n",
    "#print('----------------------------------------------------------------')\n",
    "#print(\"После первичной очистки\")\n",
    "#print(\"Концентрация Серебра:{: 0.2f},Концентрация Свинца:{: 0.2f},Концентрация Золота:{: 0.2f}\".\n",
    "#format(without_nan[\"primary_cleaner.output.concentrate_ag\"].mean(),without_nan[\"primary_cleaner.output.concentrate_pb\"].mean(),without_nan[\"primary_cleaner.output.concentrate_au\"].mean()))\n",
    "#print('----------------------------------------------------------------')\n",
    "#print(\"После вторичной очистки\")\n",
    "#print(\"Концентрация Серебра:{: 0.2f},Концентрация Свинца:{: 0.2f},Концентрация Золота:{: 0.2f}\".\n",
    "#format(without_nan[\"final.output.concentrate_ag\"].mean(),without_nan[\"final.output.concentrate_pb\"].mean(),without_nan[\"final.output.concentrate_au\"].mean()))"
   ]
  },
  {
   "cell_type": "code",
   "execution_count": 28,
   "metadata": {
    "scrolled": true
   },
   "outputs": [
    {
     "data": {
      "image/png": "[encoded data removed]",
      "text/plain": [
       "<Figure size 1440x360 with 1 Axes>"
      ]
     },
     "metadata": {
      "needs_background": "light"
     },
     "output_type": "display_data"
    }
   ],
   "source": [
    "plt.figure(figsize=(20,5))\n",
    "sns.boxplot(data=(df_train['rougher.input.feed_size'], \n",
    "                  df_test['rougher.input.feed_size']), orient='h').set(xlabel='Размер гранул', title='Распределение размеров гранул сырья')\n",
    "plt.yticks([0,1], ['Обучающая', 'Тестовая']);"
   ]
  },
  {
   "cell_type": "markdown",
   "metadata": {},
   "source": [
    "Сравнил распределения размеров гранул сырья на обучающей и тестовой выборках."
   ]
  },
  {
   "cell_type": "code",
   "execution_count": 29,
   "metadata": {},
   "outputs": [],
   "source": [
    "def deviation_compare(df1, column1, df2, column2):\n",
    "    plt.figure(figsize=(17,5))\n",
    "    sns.distplot(df1[column1], color='g').set(xlabel='Среднее по значениям', ylabel='Плотность частоты', title='Распределение по размерам гранул сырья');\n",
    "    sns.distplot(df2[column2], color='b').set(xlabel='Среднее по значениям', ylabel='Плотность частоты');"
   ]
  },
  {
   "cell_type": "code",
   "execution_count": 30,
   "metadata": {
    "scrolled": true
   },
   "outputs": [
    {
     "data": {
      "image/png": "[encoded data removed]",
      "text/plain": [
       "<Figure size 1224x360 with 1 Axes>"
      ]
     },
     "metadata": {
      "needs_background": "light"
     },
     "output_type": "display_data"
    }
   ],
   "source": [
    "deviation_compare(df_train, 'rougher.input.feed_size', df_test, 'rougher.input.feed_size')"
   ]
  },
  {
   "cell_type": "markdown",
   "metadata": {},
   "source": [
    "Графики показывают, что размеры гранул сырья на обучающей и тестовой выборках не сильно отличаются друг от друга, что в свою очередь не окажет существенного влияния на построение модели."
   ]
  },
  {
   "cell_type": "code",
   "execution_count": 31,
   "metadata": {},
   "outputs": [
    {
     "data": {
      "text/html": [
       "<div>\n",
       "<style scoped>\n",
       "    .dataframe tbody tr th:only-of-type {\n",
       "        vertical-align: middle;\n",
       "    }\n",
       "\n",
       "    .dataframe tbody tr th {\n",
       "        vertical-align: top;\n",
       "    }\n",
       "\n",
       "    .dataframe thead th {\n",
       "        text-align: right;\n",
       "    }\n",
       "</style>\n",
       "<table border=\"1\" class=\"dataframe\">\n",
       "  <thead>\n",
       "    <tr style=\"text-align: right;\">\n",
       "      <th></th>\n",
       "      <th>rougher.input.feed_ag</th>\n",
       "      <th>rougher.output.concentrate_ag</th>\n",
       "      <th>primary_cleaner.output.concentrate_ag</th>\n",
       "      <th>final.output.concentrate_ag</th>\n",
       "      <th>rougher.input.feed_pb</th>\n",
       "      <th>rougher.output.concentrate_pb</th>\n",
       "      <th>primary_cleaner.output.concentrate_pb</th>\n",
       "      <th>final.output.concentrate_pb</th>\n",
       "      <th>rougher.input.feed_au</th>\n",
       "      <th>rougher.output.concentrate_au</th>\n",
       "      <th>primary_cleaner.output.concentrate_au</th>\n",
       "      <th>final.output.concentrate_au</th>\n",
       "      <th>rougher.input.feed_sol</th>\n",
       "      <th>rougher.output.concentrate_sol</th>\n",
       "      <th>primary_cleaner.output.concentrate_sol</th>\n",
       "      <th>final.output.concentrate_sol</th>\n",
       "    </tr>\n",
       "    <tr>\n",
       "      <th>date</th>\n",
       "      <th></th>\n",
       "      <th></th>\n",
       "      <th></th>\n",
       "      <th></th>\n",
       "      <th></th>\n",
       "      <th></th>\n",
       "      <th></th>\n",
       "      <th></th>\n",
       "      <th></th>\n",
       "      <th></th>\n",
       "      <th></th>\n",
       "      <th></th>\n",
       "      <th></th>\n",
       "      <th></th>\n",
       "      <th></th>\n",
       "      <th></th>\n",
       "    </tr>\n",
       "  </thead>\n",
       "  <tbody>\n",
       "    <tr>\n",
       "      <th>2016-01-15 00:00:00</th>\n",
       "      <td>6.100378</td>\n",
       "      <td>11.500771</td>\n",
       "      <td>8.547551</td>\n",
       "      <td>6.055403</td>\n",
       "      <td>2.284912</td>\n",
       "      <td>7.101074</td>\n",
       "      <td>10.389648</td>\n",
       "      <td>9.889648</td>\n",
       "      <td>6.486150</td>\n",
       "      <td>19.793808</td>\n",
       "      <td>34.174427</td>\n",
       "      <td>42.192020</td>\n",
       "      <td>36.808594</td>\n",
       "      <td>28.029297</td>\n",
       "      <td>19.529297</td>\n",
       "      <td>5.507324</td>\n",
       "    </tr>\n",
       "    <tr>\n",
       "      <th>2016-01-15 01:00:00</th>\n",
       "      <td>6.161113</td>\n",
       "      <td>11.615865</td>\n",
       "      <td>8.558743</td>\n",
       "      <td>6.029369</td>\n",
       "      <td>2.266033</td>\n",
       "      <td>7.278807</td>\n",
       "      <td>10.497069</td>\n",
       "      <td>9.968944</td>\n",
       "      <td>6.478583</td>\n",
       "      <td>20.050975</td>\n",
       "      <td>34.118526</td>\n",
       "      <td>42.701629</td>\n",
       "      <td>35.753385</td>\n",
       "      <td>28.067063</td>\n",
       "      <td>19.369147</td>\n",
       "      <td>5.257781</td>\n",
       "    </tr>\n",
       "    <tr>\n",
       "      <th>2016-01-15 02:00:00</th>\n",
       "      <td>6.116455</td>\n",
       "      <td>11.695753</td>\n",
       "      <td>8.603505</td>\n",
       "      <td>6.055926</td>\n",
       "      <td>2.159622</td>\n",
       "      <td>7.216833</td>\n",
       "      <td>10.354494</td>\n",
       "      <td>10.213995</td>\n",
       "      <td>6.362222</td>\n",
       "      <td>19.737170</td>\n",
       "      <td>33.969464</td>\n",
       "      <td>42.657501</td>\n",
       "      <td>35.971630</td>\n",
       "      <td>27.454037</td>\n",
       "      <td>19.167579</td>\n",
       "      <td>5.383759</td>\n",
       "    </tr>\n",
       "    <tr>\n",
       "      <th>2016-01-15 03:00:00</th>\n",
       "      <td>6.043309</td>\n",
       "      <td>11.915047</td>\n",
       "      <td>7.221879</td>\n",
       "      <td>6.047977</td>\n",
       "      <td>2.037807</td>\n",
       "      <td>7.175616</td>\n",
       "      <td>8.496563</td>\n",
       "      <td>9.977019</td>\n",
       "      <td>6.118189</td>\n",
       "      <td>19.320810</td>\n",
       "      <td>28.260743</td>\n",
       "      <td>42.689819</td>\n",
       "      <td>36.862241</td>\n",
       "      <td>27.341277</td>\n",
       "      <td>15.978538</td>\n",
       "      <td>4.858634</td>\n",
       "    </tr>\n",
       "    <tr>\n",
       "      <th>2016-01-15 04:00:00</th>\n",
       "      <td>6.060915</td>\n",
       "      <td>12.411054</td>\n",
       "      <td>9.089428</td>\n",
       "      <td>6.148599</td>\n",
       "      <td>1.786875</td>\n",
       "      <td>7.240205</td>\n",
       "      <td>9.986786</td>\n",
       "      <td>10.142511</td>\n",
       "      <td>5.663707</td>\n",
       "      <td>19.216101</td>\n",
       "      <td>33.044932</td>\n",
       "      <td>42.774141</td>\n",
       "      <td>34.347666</td>\n",
       "      <td>27.041023</td>\n",
       "      <td>19.199864</td>\n",
       "      <td>4.939416</td>\n",
       "    </tr>\n",
       "    <tr>\n",
       "      <th>...</th>\n",
       "      <td>...</td>\n",
       "      <td>...</td>\n",
       "      <td>...</td>\n",
       "      <td>...</td>\n",
       "      <td>...</td>\n",
       "      <td>...</td>\n",
       "      <td>...</td>\n",
       "      <td>...</td>\n",
       "      <td>...</td>\n",
       "      <td>...</td>\n",
       "      <td>...</td>\n",
       "      <td>...</td>\n",
       "      <td>...</td>\n",
       "      <td>...</td>\n",
       "      <td>...</td>\n",
       "      <td>...</td>\n",
       "    </tr>\n",
       "    <tr>\n",
       "      <th>2018-08-18 06:59:59</th>\n",
       "      <td>6.091855</td>\n",
       "      <td>11.124896</td>\n",
       "      <td>6.559174</td>\n",
       "      <td>3.224920</td>\n",
       "      <td>4.617558</td>\n",
       "      <td>10.984003</td>\n",
       "      <td>12.445966</td>\n",
       "      <td>11.356233</td>\n",
       "      <td>5.335862</td>\n",
       "      <td>18.603550</td>\n",
       "      <td>32.940215</td>\n",
       "      <td>46.713954</td>\n",
       "      <td>37.369774</td>\n",
       "      <td>30.068876</td>\n",
       "      <td>7.056338</td>\n",
       "      <td>6.803482</td>\n",
       "    </tr>\n",
       "    <tr>\n",
       "      <th>2018-08-18 07:59:59</th>\n",
       "      <td>6.121323</td>\n",
       "      <td>11.425983</td>\n",
       "      <td>6.612376</td>\n",
       "      <td>3.195978</td>\n",
       "      <td>4.144989</td>\n",
       "      <td>10.888213</td>\n",
       "      <td>12.623947</td>\n",
       "      <td>11.349355</td>\n",
       "      <td>4.838619</td>\n",
       "      <td>18.441436</td>\n",
       "      <td>32.925325</td>\n",
       "      <td>46.866780</td>\n",
       "      <td>38.591551</td>\n",
       "      <td>29.783972</td>\n",
       "      <td>7.542264</td>\n",
       "      <td>6.862249</td>\n",
       "    </tr>\n",
       "    <tr>\n",
       "      <th>2018-08-18 08:59:59</th>\n",
       "      <td>5.970515</td>\n",
       "      <td>8.523497</td>\n",
       "      <td>7.128896</td>\n",
       "      <td>3.109998</td>\n",
       "      <td>4.020002</td>\n",
       "      <td>8.955135</td>\n",
       "      <td>12.633558</td>\n",
       "      <td>11.434366</td>\n",
       "      <td>4.525061</td>\n",
       "      <td>15.111231</td>\n",
       "      <td>31.856742</td>\n",
       "      <td>46.795691</td>\n",
       "      <td>40.074026</td>\n",
       "      <td>22.786467</td>\n",
       "      <td>7.941900</td>\n",
       "      <td>6.886013</td>\n",
       "    </tr>\n",
       "    <tr>\n",
       "      <th>2018-08-18 09:59:59</th>\n",
       "      <td>6.048130</td>\n",
       "      <td>11.658799</td>\n",
       "      <td>7.490444</td>\n",
       "      <td>3.367241</td>\n",
       "      <td>3.902537</td>\n",
       "      <td>10.655377</td>\n",
       "      <td>12.012378</td>\n",
       "      <td>11.625587</td>\n",
       "      <td>4.362781</td>\n",
       "      <td>17.834772</td>\n",
       "      <td>30.770892</td>\n",
       "      <td>46.408188</td>\n",
       "      <td>39.713906</td>\n",
       "      <td>29.052742</td>\n",
       "      <td>6.942972</td>\n",
       "      <td>6.799433</td>\n",
       "    </tr>\n",
       "    <tr>\n",
       "      <th>2018-08-18 10:59:59</th>\n",
       "      <td>6.158718</td>\n",
       "      <td>11.959486</td>\n",
       "      <td>7.537584</td>\n",
       "      <td>3.598375</td>\n",
       "      <td>3.875727</td>\n",
       "      <td>10.702148</td>\n",
       "      <td>11.650285</td>\n",
       "      <td>11.737832</td>\n",
       "      <td>4.365491</td>\n",
       "      <td>17.804134</td>\n",
       "      <td>30.356618</td>\n",
       "      <td>46.299438</td>\n",
       "      <td>39.135119</td>\n",
       "      <td>29.078235</td>\n",
       "      <td>6.203553</td>\n",
       "      <td>6.717509</td>\n",
       "    </tr>\n",
       "  </tbody>\n",
       "</table>\n",
       "<p>16860 rows × 16 columns</p>\n",
       "</div>"
      ],
      "text/plain": [
       "                     rougher.input.feed_ag  rougher.output.concentrate_ag  \\\n",
       "date                                                                        \n",
       "2016-01-15 00:00:00               6.100378                      11.500771   \n",
       "2016-01-15 01:00:00               6.161113                      11.615865   \n",
       "2016-01-15 02:00:00               6.116455                      11.695753   \n",
       "2016-01-15 03:00:00               6.043309                      11.915047   \n",
       "2016-01-15 04:00:00               6.060915                      12.411054   \n",
       "...                                    ...                            ...   \n",
       "2018-08-18 06:59:59               6.091855                      11.124896   \n",
       "2018-08-18 07:59:59               6.121323                      11.425983   \n",
       "2018-08-18 08:59:59               5.970515                       8.523497   \n",
       "2018-08-18 09:59:59               6.048130                      11.658799   \n",
       "2018-08-18 10:59:59               6.158718                      11.959486   \n",
       "\n",
       "                     primary_cleaner.output.concentrate_ag  \\\n",
       "date                                                         \n",
       "2016-01-15 00:00:00                               8.547551   \n",
       "2016-01-15 01:00:00                               8.558743   \n",
       "2016-01-15 02:00:00                               8.603505   \n",
       "2016-01-15 03:00:00                               7.221879   \n",
       "2016-01-15 04:00:00                               9.089428   \n",
       "...                                                    ...   \n",
       "2018-08-18 06:59:59                               6.559174   \n",
       "2018-08-18 07:59:59                               6.612376   \n",
       "2018-08-18 08:59:59                               7.128896   \n",
       "2018-08-18 09:59:59                               7.490444   \n",
       "2018-08-18 10:59:59                               7.537584   \n",
       "\n",
       "                     final.output.concentrate_ag  rougher.input.feed_pb  \\\n",
       "date                                                                      \n",
       "2016-01-15 00:00:00                     6.055403               2.284912   \n",
       "2016-01-15 01:00:00                     6.029369               2.266033   \n",
       "2016-01-15 02:00:00                     6.055926               2.159622   \n",
       "2016-01-15 03:00:00                     6.047977               2.037807   \n",
       "2016-01-15 04:00:00                     6.148599               1.786875   \n",
       "...                                          ...                    ...   \n",
       "2018-08-18 06:59:59                     3.224920               4.617558   \n",
       "2018-08-18 07:59:59                     3.195978               4.144989   \n",
       "2018-08-18 08:59:59                     3.109998               4.020002   \n",
       "2018-08-18 09:59:59                     3.367241               3.902537   \n",
       "2018-08-18 10:59:59                     3.598375               3.875727   \n",
       "\n",
       "                     rougher.output.concentrate_pb  \\\n",
       "date                                                 \n",
       "2016-01-15 00:00:00                       7.101074   \n",
       "2016-01-15 01:00:00                       7.278807   \n",
       "2016-01-15 02:00:00                       7.216833   \n",
       "2016-01-15 03:00:00                       7.175616   \n",
       "2016-01-15 04:00:00                       7.240205   \n",
       "...                                            ...   \n",
       "2018-08-18 06:59:59                      10.984003   \n",
       "2018-08-18 07:59:59                      10.888213   \n",
       "2018-08-18 08:59:59                       8.955135   \n",
       "2018-08-18 09:59:59                      10.655377   \n",
       "2018-08-18 10:59:59                      10.702148   \n",
       "\n",
       "                     primary_cleaner.output.concentrate_pb  \\\n",
       "date                                                         \n",
       "2016-01-15 00:00:00                              10.389648   \n",
       "2016-01-15 01:00:00                              10.497069   \n",
       "2016-01-15 02:00:00                              10.354494   \n",
       "2016-01-15 03:00:00                               8.496563   \n",
       "2016-01-15 04:00:00                               9.986786   \n",
       "...                                                    ...   \n",
       "2018-08-18 06:59:59                              12.445966   \n",
       "2018-08-18 07:59:59                              12.623947   \n",
       "2018-08-18 08:59:59                              12.633558   \n",
       "2018-08-18 09:59:59                              12.012378   \n",
       "2018-08-18 10:59:59                              11.650285   \n",
       "\n",
       "                     final.output.concentrate_pb  rougher.input.feed_au  \\\n",
       "date                                                                      \n",
       "2016-01-15 00:00:00                     9.889648               6.486150   \n",
       "2016-01-15 01:00:00                     9.968944               6.478583   \n",
       "2016-01-15 02:00:00                    10.213995               6.362222   \n",
       "2016-01-15 03:00:00                     9.977019               6.118189   \n",
       "2016-01-15 04:00:00                    10.142511               5.663707   \n",
       "...                                          ...                    ...   \n",
       "2018-08-18 06:59:59                    11.356233               5.335862   \n",
       "2018-08-18 07:59:59                    11.349355               4.838619   \n",
       "2018-08-18 08:59:59                    11.434366               4.525061   \n",
       "2018-08-18 09:59:59                    11.625587               4.362781   \n",
       "2018-08-18 10:59:59                    11.737832               4.365491   \n",
       "\n",
       "                     rougher.output.concentrate_au  \\\n",
       "date                                                 \n",
       "2016-01-15 00:00:00                      19.793808   \n",
       "2016-01-15 01:00:00                      20.050975   \n",
       "2016-01-15 02:00:00                      19.737170   \n",
       "2016-01-15 03:00:00                      19.320810   \n",
       "2016-01-15 04:00:00                      19.216101   \n",
       "...                                            ...   \n",
       "2018-08-18 06:59:59                      18.603550   \n",
       "2018-08-18 07:59:59                      18.441436   \n",
       "2018-08-18 08:59:59                      15.111231   \n",
       "2018-08-18 09:59:59                      17.834772   \n",
       "2018-08-18 10:59:59                      17.804134   \n",
       "\n",
       "                     primary_cleaner.output.concentrate_au  \\\n",
       "date                                                         \n",
       "2016-01-15 00:00:00                              34.174427   \n",
       "2016-01-15 01:00:00                              34.118526   \n",
       "2016-01-15 02:00:00                              33.969464   \n",
       "2016-01-15 03:00:00                              28.260743   \n",
       "2016-01-15 04:00:00                              33.044932   \n",
       "...                                                    ...   \n",
       "2018-08-18 06:59:59                              32.940215   \n",
       "2018-08-18 07:59:59                              32.925325   \n",
       "2018-08-18 08:59:59                              31.856742   \n",
       "2018-08-18 09:59:59                              30.770892   \n",
       "2018-08-18 10:59:59                              30.356618   \n",
       "\n",
       "                     final.output.concentrate_au  rougher.input.feed_sol  \\\n",
       "date                                                                       \n",
       "2016-01-15 00:00:00                    42.192020               36.808594   \n",
       "2016-01-15 01:00:00                    42.701629               35.753385   \n",
       "2016-01-15 02:00:00                    42.657501               35.971630   \n",
       "2016-01-15 03:00:00                    42.689819               36.862241   \n",
       "2016-01-15 04:00:00                    42.774141               34.347666   \n",
       "...                                          ...                     ...   \n",
       "2018-08-18 06:59:59                    46.713954               37.369774   \n",
       "2018-08-18 07:59:59                    46.866780               38.591551   \n",
       "2018-08-18 08:59:59                    46.795691               40.074026   \n",
       "2018-08-18 09:59:59                    46.408188               39.713906   \n",
       "2018-08-18 10:59:59                    46.299438               39.135119   \n",
       "\n",
       "                     rougher.output.concentrate_sol  \\\n",
       "date                                                  \n",
       "2016-01-15 00:00:00                       28.029297   \n",
       "2016-01-15 01:00:00                       28.067063   \n",
       "2016-01-15 02:00:00                       27.454037   \n",
       "2016-01-15 03:00:00                       27.341277   \n",
       "2016-01-15 04:00:00                       27.041023   \n",
       "...                                             ...   \n",
       "2018-08-18 06:59:59                       30.068876   \n",
       "2018-08-18 07:59:59                       29.783972   \n",
       "2018-08-18 08:59:59                       22.786467   \n",
       "2018-08-18 09:59:59                       29.052742   \n",
       "2018-08-18 10:59:59                       29.078235   \n",
       "\n",
       "                     primary_cleaner.output.concentrate_sol  \\\n",
       "date                                                          \n",
       "2016-01-15 00:00:00                               19.529297   \n",
       "2016-01-15 01:00:00                               19.369147   \n",
       "2016-01-15 02:00:00                               19.167579   \n",
       "2016-01-15 03:00:00                               15.978538   \n",
       "2016-01-15 04:00:00                               19.199864   \n",
       "...                                                     ...   \n",
       "2018-08-18 06:59:59                                7.056338   \n",
       "2018-08-18 07:59:59                                7.542264   \n",
       "2018-08-18 08:59:59                                7.941900   \n",
       "2018-08-18 09:59:59                                6.942972   \n",
       "2018-08-18 10:59:59                                6.203553   \n",
       "\n",
       "                     final.output.concentrate_sol  \n",
       "date                                               \n",
       "2016-01-15 00:00:00                      5.507324  \n",
       "2016-01-15 01:00:00                      5.257781  \n",
       "2016-01-15 02:00:00                      5.383759  \n",
       "2016-01-15 03:00:00                      4.858634  \n",
       "2016-01-15 04:00:00                      4.939416  \n",
       "...                                           ...  \n",
       "2018-08-18 06:59:59                      6.803482  \n",
       "2018-08-18 07:59:59                      6.862249  \n",
       "2018-08-18 08:59:59                      6.886013  \n",
       "2018-08-18 09:59:59                      6.799433  \n",
       "2018-08-18 10:59:59                      6.717509  \n",
       "\n",
       "[16860 rows x 16 columns]"
      ]
     },
     "execution_count": 31,
     "metadata": {},
     "output_type": "execute_result"
    }
   ],
   "source": [
    "df_sum = df_train[['rougher.input.feed_ag', 'rougher.output.concentrate_ag', 'primary_cleaner.output.concentrate_ag', 'final.output.concentrate_ag',\n",
    "                   'rougher.input.feed_pb', 'rougher.output.concentrate_pb', 'primary_cleaner.output.concentrate_pb', 'final.output.concentrate_pb',\n",
    "                   'rougher.input.feed_au', 'rougher.output.concentrate_au', 'primary_cleaner.output.concentrate_au', 'final.output.concentrate_au',\n",
    "                   'rougher.input.feed_sol', 'rougher.output.concentrate_sol', 'primary_cleaner.output.concentrate_sol', 'final.output.concentrate_sol']]\n",
    "df_sum"
   ]
  },
  {
   "cell_type": "markdown",
   "metadata": {},
   "source": [
    "Исследую суммарную концентрацию всех веществ на разных стадиях: в сырье, в черновом и финальном концентратах. Создал суммарный датафрейм."
   ]
  },
  {
   "cell_type": "code",
   "execution_count": 32,
   "metadata": {},
   "outputs": [
    {
     "data": {
      "text/html": [
       "<div>\n",
       "<style scoped>\n",
       "    .dataframe tbody tr th:only-of-type {\n",
       "        vertical-align: middle;\n",
       "    }\n",
       "\n",
       "    .dataframe tbody tr th {\n",
       "        vertical-align: top;\n",
       "    }\n",
       "\n",
       "    .dataframe thead th {\n",
       "        text-align: right;\n",
       "    }\n",
       "</style>\n",
       "<table border=\"1\" class=\"dataframe\">\n",
       "  <thead>\n",
       "    <tr style=\"text-align: right;\">\n",
       "      <th></th>\n",
       "      <th>rougher.input.feed_ag</th>\n",
       "      <th>rougher.input.feed_pb</th>\n",
       "      <th>rougher.input.feed_au</th>\n",
       "      <th>rougher.input.feed_sol</th>\n",
       "    </tr>\n",
       "    <tr>\n",
       "      <th>date</th>\n",
       "      <th></th>\n",
       "      <th></th>\n",
       "      <th></th>\n",
       "      <th></th>\n",
       "    </tr>\n",
       "  </thead>\n",
       "  <tbody>\n",
       "    <tr>\n",
       "      <th>2016-01-15 00:00:00</th>\n",
       "      <td>6.100378</td>\n",
       "      <td>2.284912</td>\n",
       "      <td>6.486150</td>\n",
       "      <td>36.808594</td>\n",
       "    </tr>\n",
       "    <tr>\n",
       "      <th>2016-01-15 01:00:00</th>\n",
       "      <td>6.161113</td>\n",
       "      <td>2.266033</td>\n",
       "      <td>6.478583</td>\n",
       "      <td>35.753385</td>\n",
       "    </tr>\n",
       "    <tr>\n",
       "      <th>2016-01-15 02:00:00</th>\n",
       "      <td>6.116455</td>\n",
       "      <td>2.159622</td>\n",
       "      <td>6.362222</td>\n",
       "      <td>35.971630</td>\n",
       "    </tr>\n",
       "    <tr>\n",
       "      <th>2016-01-15 03:00:00</th>\n",
       "      <td>6.043309</td>\n",
       "      <td>2.037807</td>\n",
       "      <td>6.118189</td>\n",
       "      <td>36.862241</td>\n",
       "    </tr>\n",
       "    <tr>\n",
       "      <th>2016-01-15 04:00:00</th>\n",
       "      <td>6.060915</td>\n",
       "      <td>1.786875</td>\n",
       "      <td>5.663707</td>\n",
       "      <td>34.347666</td>\n",
       "    </tr>\n",
       "    <tr>\n",
       "      <th>...</th>\n",
       "      <td>...</td>\n",
       "      <td>...</td>\n",
       "      <td>...</td>\n",
       "      <td>...</td>\n",
       "    </tr>\n",
       "    <tr>\n",
       "      <th>2018-08-18 06:59:59</th>\n",
       "      <td>6.091855</td>\n",
       "      <td>4.617558</td>\n",
       "      <td>5.335862</td>\n",
       "      <td>37.369774</td>\n",
       "    </tr>\n",
       "    <tr>\n",
       "      <th>2018-08-18 07:59:59</th>\n",
       "      <td>6.121323</td>\n",
       "      <td>4.144989</td>\n",
       "      <td>4.838619</td>\n",
       "      <td>38.591551</td>\n",
       "    </tr>\n",
       "    <tr>\n",
       "      <th>2018-08-18 08:59:59</th>\n",
       "      <td>5.970515</td>\n",
       "      <td>4.020002</td>\n",
       "      <td>4.525061</td>\n",
       "      <td>40.074026</td>\n",
       "    </tr>\n",
       "    <tr>\n",
       "      <th>2018-08-18 09:59:59</th>\n",
       "      <td>6.048130</td>\n",
       "      <td>3.902537</td>\n",
       "      <td>4.362781</td>\n",
       "      <td>39.713906</td>\n",
       "    </tr>\n",
       "    <tr>\n",
       "      <th>2018-08-18 10:59:59</th>\n",
       "      <td>6.158718</td>\n",
       "      <td>3.875727</td>\n",
       "      <td>4.365491</td>\n",
       "      <td>39.135119</td>\n",
       "    </tr>\n",
       "  </tbody>\n",
       "</table>\n",
       "<p>16860 rows × 4 columns</p>\n",
       "</div>"
      ],
      "text/plain": [
       "                     rougher.input.feed_ag  rougher.input.feed_pb  \\\n",
       "date                                                                \n",
       "2016-01-15 00:00:00               6.100378               2.284912   \n",
       "2016-01-15 01:00:00               6.161113               2.266033   \n",
       "2016-01-15 02:00:00               6.116455               2.159622   \n",
       "2016-01-15 03:00:00               6.043309               2.037807   \n",
       "2016-01-15 04:00:00               6.060915               1.786875   \n",
       "...                                    ...                    ...   \n",
       "2018-08-18 06:59:59               6.091855               4.617558   \n",
       "2018-08-18 07:59:59               6.121323               4.144989   \n",
       "2018-08-18 08:59:59               5.970515               4.020002   \n",
       "2018-08-18 09:59:59               6.048130               3.902537   \n",
       "2018-08-18 10:59:59               6.158718               3.875727   \n",
       "\n",
       "                     rougher.input.feed_au  rougher.input.feed_sol  \n",
       "date                                                                \n",
       "2016-01-15 00:00:00               6.486150               36.808594  \n",
       "2016-01-15 01:00:00               6.478583               35.753385  \n",
       "2016-01-15 02:00:00               6.362222               35.971630  \n",
       "2016-01-15 03:00:00               6.118189               36.862241  \n",
       "2016-01-15 04:00:00               5.663707               34.347666  \n",
       "...                                    ...                     ...  \n",
       "2018-08-18 06:59:59               5.335862               37.369774  \n",
       "2018-08-18 07:59:59               4.838619               38.591551  \n",
       "2018-08-18 08:59:59               4.525061               40.074026  \n",
       "2018-08-18 09:59:59               4.362781               39.713906  \n",
       "2018-08-18 10:59:59               4.365491               39.135119  \n",
       "\n",
       "[16860 rows x 4 columns]"
      ]
     },
     "execution_count": 32,
     "metadata": {},
     "output_type": "execute_result"
    }
   ],
   "source": [
    "df_sum_input_feed = df_sum.iloc[:, 0::4]\n",
    "df_sum_input_feed"
   ]
  },
  {
   "cell_type": "code",
   "execution_count": 33,
   "metadata": {
    "scrolled": true
   },
   "outputs": [
    {
     "name": "stderr",
     "output_type": "stream",
     "text": [
      "/tmp/ipykernel_330/4258115563.py:1: SettingWithCopyWarning: \n",
      "A value is trying to be set on a copy of a slice from a DataFrame.\n",
      "Try using .loc[row_indexer,col_indexer] = value instead\n",
      "\n",
      "See the caveats in the documentation: https://pandas.pydata.org/pandas-docs/stable/user_guide/indexing.html#returning-a-view-versus-a-copy\n",
      "  df_sum_input_feed['sum'] = df_sum_input_feed.sum(axis=1)\n"
     ]
    },
    {
     "data": {
      "text/html": [
       "<div>\n",
       "<style scoped>\n",
       "    .dataframe tbody tr th:only-of-type {\n",
       "        vertical-align: middle;\n",
       "    }\n",
       "\n",
       "    .dataframe tbody tr th {\n",
       "        vertical-align: top;\n",
       "    }\n",
       "\n",
       "    .dataframe thead th {\n",
       "        text-align: right;\n",
       "    }\n",
       "</style>\n",
       "<table border=\"1\" class=\"dataframe\">\n",
       "  <thead>\n",
       "    <tr style=\"text-align: right;\">\n",
       "      <th></th>\n",
       "      <th>rougher.input.feed_ag</th>\n",
       "      <th>rougher.input.feed_pb</th>\n",
       "      <th>rougher.input.feed_au</th>\n",
       "      <th>rougher.input.feed_sol</th>\n",
       "      <th>sum</th>\n",
       "    </tr>\n",
       "    <tr>\n",
       "      <th>date</th>\n",
       "      <th></th>\n",
       "      <th></th>\n",
       "      <th></th>\n",
       "      <th></th>\n",
       "      <th></th>\n",
       "    </tr>\n",
       "  </thead>\n",
       "  <tbody>\n",
       "    <tr>\n",
       "      <th>2016-01-15 00:00:00</th>\n",
       "      <td>6.100378</td>\n",
       "      <td>2.284912</td>\n",
       "      <td>6.486150</td>\n",
       "      <td>36.808594</td>\n",
       "      <td>51.680034</td>\n",
       "    </tr>\n",
       "    <tr>\n",
       "      <th>2016-01-15 01:00:00</th>\n",
       "      <td>6.161113</td>\n",
       "      <td>2.266033</td>\n",
       "      <td>6.478583</td>\n",
       "      <td>35.753385</td>\n",
       "      <td>50.659114</td>\n",
       "    </tr>\n",
       "    <tr>\n",
       "      <th>2016-01-15 02:00:00</th>\n",
       "      <td>6.116455</td>\n",
       "      <td>2.159622</td>\n",
       "      <td>6.362222</td>\n",
       "      <td>35.971630</td>\n",
       "      <td>50.609929</td>\n",
       "    </tr>\n",
       "    <tr>\n",
       "      <th>2016-01-15 03:00:00</th>\n",
       "      <td>6.043309</td>\n",
       "      <td>2.037807</td>\n",
       "      <td>6.118189</td>\n",
       "      <td>36.862241</td>\n",
       "      <td>51.061546</td>\n",
       "    </tr>\n",
       "    <tr>\n",
       "      <th>2016-01-15 04:00:00</th>\n",
       "      <td>6.060915</td>\n",
       "      <td>1.786875</td>\n",
       "      <td>5.663707</td>\n",
       "      <td>34.347666</td>\n",
       "      <td>47.859163</td>\n",
       "    </tr>\n",
       "    <tr>\n",
       "      <th>...</th>\n",
       "      <td>...</td>\n",
       "      <td>...</td>\n",
       "      <td>...</td>\n",
       "      <td>...</td>\n",
       "      <td>...</td>\n",
       "    </tr>\n",
       "    <tr>\n",
       "      <th>2018-08-18 06:59:59</th>\n",
       "      <td>6.091855</td>\n",
       "      <td>4.617558</td>\n",
       "      <td>5.335862</td>\n",
       "      <td>37.369774</td>\n",
       "      <td>53.415050</td>\n",
       "    </tr>\n",
       "    <tr>\n",
       "      <th>2018-08-18 07:59:59</th>\n",
       "      <td>6.121323</td>\n",
       "      <td>4.144989</td>\n",
       "      <td>4.838619</td>\n",
       "      <td>38.591551</td>\n",
       "      <td>53.696482</td>\n",
       "    </tr>\n",
       "    <tr>\n",
       "      <th>2018-08-18 08:59:59</th>\n",
       "      <td>5.970515</td>\n",
       "      <td>4.020002</td>\n",
       "      <td>4.525061</td>\n",
       "      <td>40.074026</td>\n",
       "      <td>54.589604</td>\n",
       "    </tr>\n",
       "    <tr>\n",
       "      <th>2018-08-18 09:59:59</th>\n",
       "      <td>6.048130</td>\n",
       "      <td>3.902537</td>\n",
       "      <td>4.362781</td>\n",
       "      <td>39.713906</td>\n",
       "      <td>54.027355</td>\n",
       "    </tr>\n",
       "    <tr>\n",
       "      <th>2018-08-18 10:59:59</th>\n",
       "      <td>6.158718</td>\n",
       "      <td>3.875727</td>\n",
       "      <td>4.365491</td>\n",
       "      <td>39.135119</td>\n",
       "      <td>53.535054</td>\n",
       "    </tr>\n",
       "  </tbody>\n",
       "</table>\n",
       "<p>16860 rows × 5 columns</p>\n",
       "</div>"
      ],
      "text/plain": [
       "                     rougher.input.feed_ag  rougher.input.feed_pb  \\\n",
       "date                                                                \n",
       "2016-01-15 00:00:00               6.100378               2.284912   \n",
       "2016-01-15 01:00:00               6.161113               2.266033   \n",
       "2016-01-15 02:00:00               6.116455               2.159622   \n",
       "2016-01-15 03:00:00               6.043309               2.037807   \n",
       "2016-01-15 04:00:00               6.060915               1.786875   \n",
       "...                                    ...                    ...   \n",
       "2018-08-18 06:59:59               6.091855               4.617558   \n",
       "2018-08-18 07:59:59               6.121323               4.144989   \n",
       "2018-08-18 08:59:59               5.970515               4.020002   \n",
       "2018-08-18 09:59:59               6.048130               3.902537   \n",
       "2018-08-18 10:59:59               6.158718               3.875727   \n",
       "\n",
       "                     rougher.input.feed_au  rougher.input.feed_sol        sum  \n",
       "date                                                                           \n",
       "2016-01-15 00:00:00               6.486150               36.808594  51.680034  \n",
       "2016-01-15 01:00:00               6.478583               35.753385  50.659114  \n",
       "2016-01-15 02:00:00               6.362222               35.971630  50.609929  \n",
       "2016-01-15 03:00:00               6.118189               36.862241  51.061546  \n",
       "2016-01-15 04:00:00               5.663707               34.347666  47.859163  \n",
       "...                                    ...                     ...        ...  \n",
       "2018-08-18 06:59:59               5.335862               37.369774  53.415050  \n",
       "2018-08-18 07:59:59               4.838619               38.591551  53.696482  \n",
       "2018-08-18 08:59:59               4.525061               40.074026  54.589604  \n",
       "2018-08-18 09:59:59               4.362781               39.713906  54.027355  \n",
       "2018-08-18 10:59:59               4.365491               39.135119  53.535054  \n",
       "\n",
       "[16860 rows x 5 columns]"
      ]
     },
     "execution_count": 33,
     "metadata": {},
     "output_type": "execute_result"
    }
   ],
   "source": [
    "df_sum_input_feed['sum'] = df_sum_input_feed.sum(axis=1)\n",
    "\n",
    "df_sum_input_feed"
   ]
  },
  {
   "cell_type": "markdown",
   "metadata": {},
   "source": [
    "Создал столбец с суммарной концентрацией в руде"
   ]
  },
  {
   "cell_type": "code",
   "execution_count": 34,
   "metadata": {},
   "outputs": [
    {
     "name": "stderr",
     "output_type": "stream",
     "text": [
      "/tmp/ipykernel_330/248112994.py:2: SettingWithCopyWarning: \n",
      "A value is trying to be set on a copy of a slice from a DataFrame.\n",
      "Try using .loc[row_indexer,col_indexer] = value instead\n",
      "\n",
      "See the caveats in the documentation: https://pandas.pydata.org/pandas-docs/stable/user_guide/indexing.html#returning-a-view-versus-a-copy\n",
      "  df_sum_rougher['sum'] = df_sum_rougher.sum(axis=1)\n"
     ]
    },
    {
     "data": {
      "text/html": [
       "<div>\n",
       "<style scoped>\n",
       "    .dataframe tbody tr th:only-of-type {\n",
       "        vertical-align: middle;\n",
       "    }\n",
       "\n",
       "    .dataframe tbody tr th {\n",
       "        vertical-align: top;\n",
       "    }\n",
       "\n",
       "    .dataframe thead th {\n",
       "        text-align: right;\n",
       "    }\n",
       "</style>\n",
       "<table border=\"1\" class=\"dataframe\">\n",
       "  <thead>\n",
       "    <tr style=\"text-align: right;\">\n",
       "      <th></th>\n",
       "      <th>rougher.output.concentrate_ag</th>\n",
       "      <th>rougher.output.concentrate_pb</th>\n",
       "      <th>rougher.output.concentrate_au</th>\n",
       "      <th>rougher.output.concentrate_sol</th>\n",
       "      <th>sum</th>\n",
       "    </tr>\n",
       "    <tr>\n",
       "      <th>date</th>\n",
       "      <th></th>\n",
       "      <th></th>\n",
       "      <th></th>\n",
       "      <th></th>\n",
       "      <th></th>\n",
       "    </tr>\n",
       "  </thead>\n",
       "  <tbody>\n",
       "    <tr>\n",
       "      <th>2016-01-15 00:00:00</th>\n",
       "      <td>11.500771</td>\n",
       "      <td>7.101074</td>\n",
       "      <td>19.793808</td>\n",
       "      <td>28.029297</td>\n",
       "      <td>66.424950</td>\n",
       "    </tr>\n",
       "    <tr>\n",
       "      <th>2016-01-15 01:00:00</th>\n",
       "      <td>11.615865</td>\n",
       "      <td>7.278807</td>\n",
       "      <td>20.050975</td>\n",
       "      <td>28.067063</td>\n",
       "      <td>67.012710</td>\n",
       "    </tr>\n",
       "    <tr>\n",
       "      <th>2016-01-15 02:00:00</th>\n",
       "      <td>11.695753</td>\n",
       "      <td>7.216833</td>\n",
       "      <td>19.737170</td>\n",
       "      <td>27.454037</td>\n",
       "      <td>66.103793</td>\n",
       "    </tr>\n",
       "    <tr>\n",
       "      <th>2016-01-15 03:00:00</th>\n",
       "      <td>11.915047</td>\n",
       "      <td>7.175616</td>\n",
       "      <td>19.320810</td>\n",
       "      <td>27.341277</td>\n",
       "      <td>65.752751</td>\n",
       "    </tr>\n",
       "    <tr>\n",
       "      <th>2016-01-15 04:00:00</th>\n",
       "      <td>12.411054</td>\n",
       "      <td>7.240205</td>\n",
       "      <td>19.216101</td>\n",
       "      <td>27.041023</td>\n",
       "      <td>65.908382</td>\n",
       "    </tr>\n",
       "    <tr>\n",
       "      <th>...</th>\n",
       "      <td>...</td>\n",
       "      <td>...</td>\n",
       "      <td>...</td>\n",
       "      <td>...</td>\n",
       "      <td>...</td>\n",
       "    </tr>\n",
       "    <tr>\n",
       "      <th>2018-08-18 06:59:59</th>\n",
       "      <td>11.124896</td>\n",
       "      <td>10.984003</td>\n",
       "      <td>18.603550</td>\n",
       "      <td>30.068876</td>\n",
       "      <td>70.781325</td>\n",
       "    </tr>\n",
       "    <tr>\n",
       "      <th>2018-08-18 07:59:59</th>\n",
       "      <td>11.425983</td>\n",
       "      <td>10.888213</td>\n",
       "      <td>18.441436</td>\n",
       "      <td>29.783972</td>\n",
       "      <td>70.539603</td>\n",
       "    </tr>\n",
       "    <tr>\n",
       "      <th>2018-08-18 08:59:59</th>\n",
       "      <td>8.523497</td>\n",
       "      <td>8.955135</td>\n",
       "      <td>15.111231</td>\n",
       "      <td>22.786467</td>\n",
       "      <td>55.376330</td>\n",
       "    </tr>\n",
       "    <tr>\n",
       "      <th>2018-08-18 09:59:59</th>\n",
       "      <td>11.658799</td>\n",
       "      <td>10.655377</td>\n",
       "      <td>17.834772</td>\n",
       "      <td>29.052742</td>\n",
       "      <td>69.201689</td>\n",
       "    </tr>\n",
       "    <tr>\n",
       "      <th>2018-08-18 10:59:59</th>\n",
       "      <td>11.959486</td>\n",
       "      <td>10.702148</td>\n",
       "      <td>17.804134</td>\n",
       "      <td>29.078235</td>\n",
       "      <td>69.544003</td>\n",
       "    </tr>\n",
       "  </tbody>\n",
       "</table>\n",
       "<p>16860 rows × 5 columns</p>\n",
       "</div>"
      ],
      "text/plain": [
       "                     rougher.output.concentrate_ag  \\\n",
       "date                                                 \n",
       "2016-01-15 00:00:00                      11.500771   \n",
       "2016-01-15 01:00:00                      11.615865   \n",
       "2016-01-15 02:00:00                      11.695753   \n",
       "2016-01-15 03:00:00                      11.915047   \n",
       "2016-01-15 04:00:00                      12.411054   \n",
       "...                                            ...   \n",
       "2018-08-18 06:59:59                      11.124896   \n",
       "2018-08-18 07:59:59                      11.425983   \n",
       "2018-08-18 08:59:59                       8.523497   \n",
       "2018-08-18 09:59:59                      11.658799   \n",
       "2018-08-18 10:59:59                      11.959486   \n",
       "\n",
       "                     rougher.output.concentrate_pb  \\\n",
       "date                                                 \n",
       "2016-01-15 00:00:00                       7.101074   \n",
       "2016-01-15 01:00:00                       7.278807   \n",
       "2016-01-15 02:00:00                       7.216833   \n",
       "2016-01-15 03:00:00                       7.175616   \n",
       "2016-01-15 04:00:00                       7.240205   \n",
       "...                                            ...   \n",
       "2018-08-18 06:59:59                      10.984003   \n",
       "2018-08-18 07:59:59                      10.888213   \n",
       "2018-08-18 08:59:59                       8.955135   \n",
       "2018-08-18 09:59:59                      10.655377   \n",
       "2018-08-18 10:59:59                      10.702148   \n",
       "\n",
       "                     rougher.output.concentrate_au  \\\n",
       "date                                                 \n",
       "2016-01-15 00:00:00                      19.793808   \n",
       "2016-01-15 01:00:00                      20.050975   \n",
       "2016-01-15 02:00:00                      19.737170   \n",
       "2016-01-15 03:00:00                      19.320810   \n",
       "2016-01-15 04:00:00                      19.216101   \n",
       "...                                            ...   \n",
       "2018-08-18 06:59:59                      18.603550   \n",
       "2018-08-18 07:59:59                      18.441436   \n",
       "2018-08-18 08:59:59                      15.111231   \n",
       "2018-08-18 09:59:59                      17.834772   \n",
       "2018-08-18 10:59:59                      17.804134   \n",
       "\n",
       "                     rougher.output.concentrate_sol        sum  \n",
       "date                                                            \n",
       "2016-01-15 00:00:00                       28.029297  66.424950  \n",
       "2016-01-15 01:00:00                       28.067063  67.012710  \n",
       "2016-01-15 02:00:00                       27.454037  66.103793  \n",
       "2016-01-15 03:00:00                       27.341277  65.752751  \n",
       "2016-01-15 04:00:00                       27.041023  65.908382  \n",
       "...                                             ...        ...  \n",
       "2018-08-18 06:59:59                       30.068876  70.781325  \n",
       "2018-08-18 07:59:59                       29.783972  70.539603  \n",
       "2018-08-18 08:59:59                       22.786467  55.376330  \n",
       "2018-08-18 09:59:59                       29.052742  69.201689  \n",
       "2018-08-18 10:59:59                       29.078235  69.544003  \n",
       "\n",
       "[16860 rows x 5 columns]"
      ]
     },
     "execution_count": 34,
     "metadata": {},
     "output_type": "execute_result"
    }
   ],
   "source": [
    "df_sum_rougher = df_sum.iloc[:, 1::4]\n",
    "df_sum_rougher['sum'] = df_sum_rougher.sum(axis=1)\n",
    "df_sum_rougher"
   ]
  },
  {
   "cell_type": "markdown",
   "metadata": {},
   "source": [
    "Также сделал для чернового"
   ]
  },
  {
   "cell_type": "code",
   "execution_count": 35,
   "metadata": {},
   "outputs": [
    {
     "name": "stderr",
     "output_type": "stream",
     "text": [
      "/tmp/ipykernel_330/1548635833.py:2: SettingWithCopyWarning: \n",
      "A value is trying to be set on a copy of a slice from a DataFrame.\n",
      "Try using .loc[row_indexer,col_indexer] = value instead\n",
      "\n",
      "See the caveats in the documentation: https://pandas.pydata.org/pandas-docs/stable/user_guide/indexing.html#returning-a-view-versus-a-copy\n",
      "  df_sum_primary_cleaner['sum'] = df_sum_primary_cleaner.sum(axis=1)\n"
     ]
    },
    {
     "data": {
      "text/html": [
       "<div>\n",
       "<style scoped>\n",
       "    .dataframe tbody tr th:only-of-type {\n",
       "        vertical-align: middle;\n",
       "    }\n",
       "\n",
       "    .dataframe tbody tr th {\n",
       "        vertical-align: top;\n",
       "    }\n",
       "\n",
       "    .dataframe thead th {\n",
       "        text-align: right;\n",
       "    }\n",
       "</style>\n",
       "<table border=\"1\" class=\"dataframe\">\n",
       "  <thead>\n",
       "    <tr style=\"text-align: right;\">\n",
       "      <th></th>\n",
       "      <th>primary_cleaner.output.concentrate_ag</th>\n",
       "      <th>primary_cleaner.output.concentrate_pb</th>\n",
       "      <th>primary_cleaner.output.concentrate_au</th>\n",
       "      <th>primary_cleaner.output.concentrate_sol</th>\n",
       "      <th>sum</th>\n",
       "    </tr>\n",
       "    <tr>\n",
       "      <th>date</th>\n",
       "      <th></th>\n",
       "      <th></th>\n",
       "      <th></th>\n",
       "      <th></th>\n",
       "      <th></th>\n",
       "    </tr>\n",
       "  </thead>\n",
       "  <tbody>\n",
       "    <tr>\n",
       "      <th>2016-01-15 00:00:00</th>\n",
       "      <td>8.547551</td>\n",
       "      <td>10.389648</td>\n",
       "      <td>34.174427</td>\n",
       "      <td>19.529297</td>\n",
       "      <td>72.640924</td>\n",
       "    </tr>\n",
       "    <tr>\n",
       "      <th>2016-01-15 01:00:00</th>\n",
       "      <td>8.558743</td>\n",
       "      <td>10.497069</td>\n",
       "      <td>34.118526</td>\n",
       "      <td>19.369147</td>\n",
       "      <td>72.543485</td>\n",
       "    </tr>\n",
       "    <tr>\n",
       "      <th>2016-01-15 02:00:00</th>\n",
       "      <td>8.603505</td>\n",
       "      <td>10.354494</td>\n",
       "      <td>33.969464</td>\n",
       "      <td>19.167579</td>\n",
       "      <td>72.095042</td>\n",
       "    </tr>\n",
       "    <tr>\n",
       "      <th>2016-01-15 03:00:00</th>\n",
       "      <td>7.221879</td>\n",
       "      <td>8.496563</td>\n",
       "      <td>28.260743</td>\n",
       "      <td>15.978538</td>\n",
       "      <td>59.957723</td>\n",
       "    </tr>\n",
       "    <tr>\n",
       "      <th>2016-01-15 04:00:00</th>\n",
       "      <td>9.089428</td>\n",
       "      <td>9.986786</td>\n",
       "      <td>33.044932</td>\n",
       "      <td>19.199864</td>\n",
       "      <td>71.321010</td>\n",
       "    </tr>\n",
       "    <tr>\n",
       "      <th>...</th>\n",
       "      <td>...</td>\n",
       "      <td>...</td>\n",
       "      <td>...</td>\n",
       "      <td>...</td>\n",
       "      <td>...</td>\n",
       "    </tr>\n",
       "    <tr>\n",
       "      <th>2018-08-18 06:59:59</th>\n",
       "      <td>6.559174</td>\n",
       "      <td>12.445966</td>\n",
       "      <td>32.940215</td>\n",
       "      <td>7.056338</td>\n",
       "      <td>59.001692</td>\n",
       "    </tr>\n",
       "    <tr>\n",
       "      <th>2018-08-18 07:59:59</th>\n",
       "      <td>6.612376</td>\n",
       "      <td>12.623947</td>\n",
       "      <td>32.925325</td>\n",
       "      <td>7.542264</td>\n",
       "      <td>59.703912</td>\n",
       "    </tr>\n",
       "    <tr>\n",
       "      <th>2018-08-18 08:59:59</th>\n",
       "      <td>7.128896</td>\n",
       "      <td>12.633558</td>\n",
       "      <td>31.856742</td>\n",
       "      <td>7.941900</td>\n",
       "      <td>59.561096</td>\n",
       "    </tr>\n",
       "    <tr>\n",
       "      <th>2018-08-18 09:59:59</th>\n",
       "      <td>7.490444</td>\n",
       "      <td>12.012378</td>\n",
       "      <td>30.770892</td>\n",
       "      <td>6.942972</td>\n",
       "      <td>57.216686</td>\n",
       "    </tr>\n",
       "    <tr>\n",
       "      <th>2018-08-18 10:59:59</th>\n",
       "      <td>7.537584</td>\n",
       "      <td>11.650285</td>\n",
       "      <td>30.356618</td>\n",
       "      <td>6.203553</td>\n",
       "      <td>55.748041</td>\n",
       "    </tr>\n",
       "  </tbody>\n",
       "</table>\n",
       "<p>16860 rows × 5 columns</p>\n",
       "</div>"
      ],
      "text/plain": [
       "                     primary_cleaner.output.concentrate_ag  \\\n",
       "date                                                         \n",
       "2016-01-15 00:00:00                               8.547551   \n",
       "2016-01-15 01:00:00                               8.558743   \n",
       "2016-01-15 02:00:00                               8.603505   \n",
       "2016-01-15 03:00:00                               7.221879   \n",
       "2016-01-15 04:00:00                               9.089428   \n",
       "...                                                    ...   \n",
       "2018-08-18 06:59:59                               6.559174   \n",
       "2018-08-18 07:59:59                               6.612376   \n",
       "2018-08-18 08:59:59                               7.128896   \n",
       "2018-08-18 09:59:59                               7.490444   \n",
       "2018-08-18 10:59:59                               7.537584   \n",
       "\n",
       "                     primary_cleaner.output.concentrate_pb  \\\n",
       "date                                                         \n",
       "2016-01-15 00:00:00                              10.389648   \n",
       "2016-01-15 01:00:00                              10.497069   \n",
       "2016-01-15 02:00:00                              10.354494   \n",
       "2016-01-15 03:00:00                               8.496563   \n",
       "2016-01-15 04:00:00                               9.986786   \n",
       "...                                                    ...   \n",
       "2018-08-18 06:59:59                              12.445966   \n",
       "2018-08-18 07:59:59                              12.623947   \n",
       "2018-08-18 08:59:59                              12.633558   \n",
       "2018-08-18 09:59:59                              12.012378   \n",
       "2018-08-18 10:59:59                              11.650285   \n",
       "\n",
       "                     primary_cleaner.output.concentrate_au  \\\n",
       "date                                                         \n",
       "2016-01-15 00:00:00                              34.174427   \n",
       "2016-01-15 01:00:00                              34.118526   \n",
       "2016-01-15 02:00:00                              33.969464   \n",
       "2016-01-15 03:00:00                              28.260743   \n",
       "2016-01-15 04:00:00                              33.044932   \n",
       "...                                                    ...   \n",
       "2018-08-18 06:59:59                              32.940215   \n",
       "2018-08-18 07:59:59                              32.925325   \n",
       "2018-08-18 08:59:59                              31.856742   \n",
       "2018-08-18 09:59:59                              30.770892   \n",
       "2018-08-18 10:59:59                              30.356618   \n",
       "\n",
       "                     primary_cleaner.output.concentrate_sol        sum  \n",
       "date                                                                    \n",
       "2016-01-15 00:00:00                               19.529297  72.640924  \n",
       "2016-01-15 01:00:00                               19.369147  72.543485  \n",
       "2016-01-15 02:00:00                               19.167579  72.095042  \n",
       "2016-01-15 03:00:00                               15.978538  59.957723  \n",
       "2016-01-15 04:00:00                               19.199864  71.321010  \n",
       "...                                                     ...        ...  \n",
       "2018-08-18 06:59:59                                7.056338  59.001692  \n",
       "2018-08-18 07:59:59                                7.542264  59.703912  \n",
       "2018-08-18 08:59:59                                7.941900  59.561096  \n",
       "2018-08-18 09:59:59                                6.942972  57.216686  \n",
       "2018-08-18 10:59:59                                6.203553  55.748041  \n",
       "\n",
       "[16860 rows x 5 columns]"
      ]
     },
     "execution_count": 35,
     "metadata": {},
     "output_type": "execute_result"
    }
   ],
   "source": [
    "df_sum_primary_cleaner = df_sum.iloc[:, 2::4]\n",
    "df_sum_primary_cleaner['sum'] = df_sum_primary_cleaner.sum(axis=1)\n",
    "df_sum_primary_cleaner"
   ]
  },
  {
   "cell_type": "markdown",
   "metadata": {},
   "source": [
    "И соответственно после 1й очистки"
   ]
  },
  {
   "cell_type": "code",
   "execution_count": 36,
   "metadata": {},
   "outputs": [
    {
     "name": "stderr",
     "output_type": "stream",
     "text": [
      "/tmp/ipykernel_330/4225089310.py:2: SettingWithCopyWarning: \n",
      "A value is trying to be set on a copy of a slice from a DataFrame.\n",
      "Try using .loc[row_indexer,col_indexer] = value instead\n",
      "\n",
      "See the caveats in the documentation: https://pandas.pydata.org/pandas-docs/stable/user_guide/indexing.html#returning-a-view-versus-a-copy\n",
      "  df_sum_final['sum'] = df_sum_final.sum(axis=1)\n"
     ]
    },
    {
     "data": {
      "text/html": [
       "<div>\n",
       "<style scoped>\n",
       "    .dataframe tbody tr th:only-of-type {\n",
       "        vertical-align: middle;\n",
       "    }\n",
       "\n",
       "    .dataframe tbody tr th {\n",
       "        vertical-align: top;\n",
       "    }\n",
       "\n",
       "    .dataframe thead th {\n",
       "        text-align: right;\n",
       "    }\n",
       "</style>\n",
       "<table border=\"1\" class=\"dataframe\">\n",
       "  <thead>\n",
       "    <tr style=\"text-align: right;\">\n",
       "      <th></th>\n",
       "      <th>final.output.concentrate_ag</th>\n",
       "      <th>final.output.concentrate_pb</th>\n",
       "      <th>final.output.concentrate_au</th>\n",
       "      <th>final.output.concentrate_sol</th>\n",
       "      <th>sum</th>\n",
       "    </tr>\n",
       "    <tr>\n",
       "      <th>date</th>\n",
       "      <th></th>\n",
       "      <th></th>\n",
       "      <th></th>\n",
       "      <th></th>\n",
       "      <th></th>\n",
       "    </tr>\n",
       "  </thead>\n",
       "  <tbody>\n",
       "    <tr>\n",
       "      <th>2016-01-15 00:00:00</th>\n",
       "      <td>6.055403</td>\n",
       "      <td>9.889648</td>\n",
       "      <td>42.192020</td>\n",
       "      <td>5.507324</td>\n",
       "      <td>63.644396</td>\n",
       "    </tr>\n",
       "    <tr>\n",
       "      <th>2016-01-15 01:00:00</th>\n",
       "      <td>6.029369</td>\n",
       "      <td>9.968944</td>\n",
       "      <td>42.701629</td>\n",
       "      <td>5.257781</td>\n",
       "      <td>63.957723</td>\n",
       "    </tr>\n",
       "    <tr>\n",
       "      <th>2016-01-15 02:00:00</th>\n",
       "      <td>6.055926</td>\n",
       "      <td>10.213995</td>\n",
       "      <td>42.657501</td>\n",
       "      <td>5.383759</td>\n",
       "      <td>64.311180</td>\n",
       "    </tr>\n",
       "    <tr>\n",
       "      <th>2016-01-15 03:00:00</th>\n",
       "      <td>6.047977</td>\n",
       "      <td>9.977019</td>\n",
       "      <td>42.689819</td>\n",
       "      <td>4.858634</td>\n",
       "      <td>63.573449</td>\n",
       "    </tr>\n",
       "    <tr>\n",
       "      <th>2016-01-15 04:00:00</th>\n",
       "      <td>6.148599</td>\n",
       "      <td>10.142511</td>\n",
       "      <td>42.774141</td>\n",
       "      <td>4.939416</td>\n",
       "      <td>64.004667</td>\n",
       "    </tr>\n",
       "    <tr>\n",
       "      <th>...</th>\n",
       "      <td>...</td>\n",
       "      <td>...</td>\n",
       "      <td>...</td>\n",
       "      <td>...</td>\n",
       "      <td>...</td>\n",
       "    </tr>\n",
       "    <tr>\n",
       "      <th>2018-08-18 06:59:59</th>\n",
       "      <td>3.224920</td>\n",
       "      <td>11.356233</td>\n",
       "      <td>46.713954</td>\n",
       "      <td>6.803482</td>\n",
       "      <td>68.098589</td>\n",
       "    </tr>\n",
       "    <tr>\n",
       "      <th>2018-08-18 07:59:59</th>\n",
       "      <td>3.195978</td>\n",
       "      <td>11.349355</td>\n",
       "      <td>46.866780</td>\n",
       "      <td>6.862249</td>\n",
       "      <td>68.274362</td>\n",
       "    </tr>\n",
       "    <tr>\n",
       "      <th>2018-08-18 08:59:59</th>\n",
       "      <td>3.109998</td>\n",
       "      <td>11.434366</td>\n",
       "      <td>46.795691</td>\n",
       "      <td>6.886013</td>\n",
       "      <td>68.226068</td>\n",
       "    </tr>\n",
       "    <tr>\n",
       "      <th>2018-08-18 09:59:59</th>\n",
       "      <td>3.367241</td>\n",
       "      <td>11.625587</td>\n",
       "      <td>46.408188</td>\n",
       "      <td>6.799433</td>\n",
       "      <td>68.200449</td>\n",
       "    </tr>\n",
       "    <tr>\n",
       "      <th>2018-08-18 10:59:59</th>\n",
       "      <td>3.598375</td>\n",
       "      <td>11.737832</td>\n",
       "      <td>46.299438</td>\n",
       "      <td>6.717509</td>\n",
       "      <td>68.353154</td>\n",
       "    </tr>\n",
       "  </tbody>\n",
       "</table>\n",
       "<p>16860 rows × 5 columns</p>\n",
       "</div>"
      ],
      "text/plain": [
       "                     final.output.concentrate_ag  final.output.concentrate_pb  \\\n",
       "date                                                                            \n",
       "2016-01-15 00:00:00                     6.055403                     9.889648   \n",
       "2016-01-15 01:00:00                     6.029369                     9.968944   \n",
       "2016-01-15 02:00:00                     6.055926                    10.213995   \n",
       "2016-01-15 03:00:00                     6.047977                     9.977019   \n",
       "2016-01-15 04:00:00                     6.148599                    10.142511   \n",
       "...                                          ...                          ...   \n",
       "2018-08-18 06:59:59                     3.224920                    11.356233   \n",
       "2018-08-18 07:59:59                     3.195978                    11.349355   \n",
       "2018-08-18 08:59:59                     3.109998                    11.434366   \n",
       "2018-08-18 09:59:59                     3.367241                    11.625587   \n",
       "2018-08-18 10:59:59                     3.598375                    11.737832   \n",
       "\n",
       "                     final.output.concentrate_au  \\\n",
       "date                                               \n",
       "2016-01-15 00:00:00                    42.192020   \n",
       "2016-01-15 01:00:00                    42.701629   \n",
       "2016-01-15 02:00:00                    42.657501   \n",
       "2016-01-15 03:00:00                    42.689819   \n",
       "2016-01-15 04:00:00                    42.774141   \n",
       "...                                          ...   \n",
       "2018-08-18 06:59:59                    46.713954   \n",
       "2018-08-18 07:59:59                    46.866780   \n",
       "2018-08-18 08:59:59                    46.795691   \n",
       "2018-08-18 09:59:59                    46.408188   \n",
       "2018-08-18 10:59:59                    46.299438   \n",
       "\n",
       "                     final.output.concentrate_sol        sum  \n",
       "date                                                          \n",
       "2016-01-15 00:00:00                      5.507324  63.644396  \n",
       "2016-01-15 01:00:00                      5.257781  63.957723  \n",
       "2016-01-15 02:00:00                      5.383759  64.311180  \n",
       "2016-01-15 03:00:00                      4.858634  63.573449  \n",
       "2016-01-15 04:00:00                      4.939416  64.004667  \n",
       "...                                           ...        ...  \n",
       "2018-08-18 06:59:59                      6.803482  68.098589  \n",
       "2018-08-18 07:59:59                      6.862249  68.274362  \n",
       "2018-08-18 08:59:59                      6.886013  68.226068  \n",
       "2018-08-18 09:59:59                      6.799433  68.200449  \n",
       "2018-08-18 10:59:59                      6.717509  68.353154  \n",
       "\n",
       "[16860 rows x 5 columns]"
      ]
     },
     "execution_count": 36,
     "metadata": {},
     "output_type": "execute_result"
    }
   ],
   "source": [
    "df_sum_final = df_sum.iloc[:, 3::4]\n",
    "df_sum_final['sum'] = df_sum_final.sum(axis=1)\n",
    "df_sum_final"
   ]
  },
  {
   "cell_type": "markdown",
   "metadata": {},
   "source": [
    "И в конце финальный концентрат. Далее посмотрю распределение на каждом из этапов обработки."
   ]
  },
  {
   "cell_type": "code",
   "execution_count": 37,
   "metadata": {},
   "outputs": [
    {
     "data": {
      "image/png": "[encoded data removed]",
      "text/plain": [
       "<Figure size 1080x360 with 1 Axes>"
      ]
     },
     "metadata": {
      "needs_background": "light"
     },
     "output_type": "display_data"
    }
   ],
   "source": [
    "plt.figure(figsize=(15,5))\n",
    "sns.boxplot(data=(df_sum_input_feed['sum'], \n",
    "                  df_sum_rougher['sum'], \n",
    "                  df_sum_primary_cleaner['sum'], \n",
    "                  df_sum_final['sum']), orient='h').set(xlabel='Концентрация', title='Суммарная концентрация на этапах обработки сырья')\n",
    "plt.yticks([0,1,2,3], ['Руда', 'Черновой', 'Первой очистки', 'Финальный']);"
   ]
  },
  {
   "cell_type": "code",
   "execution_count": 38,
   "metadata": {
    "scrolled": true
   },
   "outputs": [
    {
     "data": {
      "text/html": [
       "<div>\n",
       "<style scoped>\n",
       "    .dataframe tbody tr th:only-of-type {\n",
       "        vertical-align: middle;\n",
       "    }\n",
       "\n",
       "    .dataframe tbody tr th {\n",
       "        vertical-align: top;\n",
       "    }\n",
       "\n",
       "    .dataframe thead th {\n",
       "        text-align: right;\n",
       "    }\n",
       "</style>\n",
       "<table border=\"1\" class=\"dataframe\">\n",
       "  <thead>\n",
       "    <tr style=\"text-align: right;\">\n",
       "      <th></th>\n",
       "      <th>rougher.input.feed_ag</th>\n",
       "      <th>rougher.input.feed_pb</th>\n",
       "      <th>rougher.input.feed_au</th>\n",
       "      <th>rougher.input.feed_sol</th>\n",
       "      <th>sum</th>\n",
       "    </tr>\n",
       "    <tr>\n",
       "      <th>date</th>\n",
       "      <th></th>\n",
       "      <th></th>\n",
       "      <th></th>\n",
       "      <th></th>\n",
       "      <th></th>\n",
       "    </tr>\n",
       "  </thead>\n",
       "  <tbody>\n",
       "    <tr>\n",
       "      <th>2016-01-19 03:00:00</th>\n",
       "      <td>0.0</td>\n",
       "      <td>0.0</td>\n",
       "      <td>0.0</td>\n",
       "      <td>0.0</td>\n",
       "      <td>0.0</td>\n",
       "    </tr>\n",
       "    <tr>\n",
       "      <th>2016-01-19 04:00:00</th>\n",
       "      <td>0.0</td>\n",
       "      <td>0.0</td>\n",
       "      <td>0.0</td>\n",
       "      <td>0.0</td>\n",
       "      <td>0.0</td>\n",
       "    </tr>\n",
       "    <tr>\n",
       "      <th>2016-01-19 05:00:00</th>\n",
       "      <td>0.0</td>\n",
       "      <td>0.0</td>\n",
       "      <td>0.0</td>\n",
       "      <td>0.0</td>\n",
       "      <td>0.0</td>\n",
       "    </tr>\n",
       "    <tr>\n",
       "      <th>2016-01-19 06:00:00</th>\n",
       "      <td>0.0</td>\n",
       "      <td>0.0</td>\n",
       "      <td>0.0</td>\n",
       "      <td>0.0</td>\n",
       "      <td>0.0</td>\n",
       "    </tr>\n",
       "    <tr>\n",
       "      <th>2016-01-19 07:00:00</th>\n",
       "      <td>0.0</td>\n",
       "      <td>0.0</td>\n",
       "      <td>0.0</td>\n",
       "      <td>0.0</td>\n",
       "      <td>0.0</td>\n",
       "    </tr>\n",
       "    <tr>\n",
       "      <th>...</th>\n",
       "      <td>...</td>\n",
       "      <td>...</td>\n",
       "      <td>...</td>\n",
       "      <td>...</td>\n",
       "      <td>...</td>\n",
       "    </tr>\n",
       "    <tr>\n",
       "      <th>2018-07-20 10:59:59</th>\n",
       "      <td>0.0</td>\n",
       "      <td>0.0</td>\n",
       "      <td>0.0</td>\n",
       "      <td>0.0</td>\n",
       "      <td>0.0</td>\n",
       "    </tr>\n",
       "    <tr>\n",
       "      <th>2018-07-20 11:59:59</th>\n",
       "      <td>0.0</td>\n",
       "      <td>0.0</td>\n",
       "      <td>0.0</td>\n",
       "      <td>0.0</td>\n",
       "      <td>0.0</td>\n",
       "    </tr>\n",
       "    <tr>\n",
       "      <th>2018-07-21 23:59:59</th>\n",
       "      <td>0.0</td>\n",
       "      <td>0.0</td>\n",
       "      <td>0.0</td>\n",
       "      <td>0.0</td>\n",
       "      <td>0.0</td>\n",
       "    </tr>\n",
       "    <tr>\n",
       "      <th>2018-07-22 00:59:59</th>\n",
       "      <td>0.0</td>\n",
       "      <td>0.0</td>\n",
       "      <td>0.0</td>\n",
       "      <td>0.0</td>\n",
       "      <td>0.0</td>\n",
       "    </tr>\n",
       "    <tr>\n",
       "      <th>2018-07-23 16:59:59</th>\n",
       "      <td>0.0</td>\n",
       "      <td>0.0</td>\n",
       "      <td>0.0</td>\n",
       "      <td>0.0</td>\n",
       "      <td>0.0</td>\n",
       "    </tr>\n",
       "  </tbody>\n",
       "</table>\n",
       "<p>1173 rows × 5 columns</p>\n",
       "</div>"
      ],
      "text/plain": [
       "                     rougher.input.feed_ag  rougher.input.feed_pb  \\\n",
       "date                                                                \n",
       "2016-01-19 03:00:00                    0.0                    0.0   \n",
       "2016-01-19 04:00:00                    0.0                    0.0   \n",
       "2016-01-19 05:00:00                    0.0                    0.0   \n",
       "2016-01-19 06:00:00                    0.0                    0.0   \n",
       "2016-01-19 07:00:00                    0.0                    0.0   \n",
       "...                                    ...                    ...   \n",
       "2018-07-20 10:59:59                    0.0                    0.0   \n",
       "2018-07-20 11:59:59                    0.0                    0.0   \n",
       "2018-07-21 23:59:59                    0.0                    0.0   \n",
       "2018-07-22 00:59:59                    0.0                    0.0   \n",
       "2018-07-23 16:59:59                    0.0                    0.0   \n",
       "\n",
       "                     rougher.input.feed_au  rougher.input.feed_sol  sum  \n",
       "date                                                                     \n",
       "2016-01-19 03:00:00                    0.0                     0.0  0.0  \n",
       "2016-01-19 04:00:00                    0.0                     0.0  0.0  \n",
       "2016-01-19 05:00:00                    0.0                     0.0  0.0  \n",
       "2016-01-19 06:00:00                    0.0                     0.0  0.0  \n",
       "2016-01-19 07:00:00                    0.0                     0.0  0.0  \n",
       "...                                    ...                     ...  ...  \n",
       "2018-07-20 10:59:59                    0.0                     0.0  0.0  \n",
       "2018-07-20 11:59:59                    0.0                     0.0  0.0  \n",
       "2018-07-21 23:59:59                    0.0                     0.0  0.0  \n",
       "2018-07-22 00:59:59                    0.0                     0.0  0.0  \n",
       "2018-07-23 16:59:59                    0.0                     0.0  0.0  \n",
       "\n",
       "[1173 rows x 5 columns]"
      ]
     },
     "execution_count": 38,
     "metadata": {},
     "output_type": "execute_result"
    }
   ],
   "source": [
    "df_sum_input_feed[df_sum_input_feed['sum'] == 0]"
   ]
  },
  {
   "cell_type": "code",
   "execution_count": 39,
   "metadata": {},
   "outputs": [
    {
     "data": {
      "text/plain": [
       "rougher.input.feed_ag     1173\n",
       "rougher.input.feed_pb     1173\n",
       "rougher.input.feed_au     1173\n",
       "rougher.input.feed_sol    1176\n",
       "sum                       1173\n",
       "dtype: int64"
      ]
     },
     "execution_count": 39,
     "metadata": {},
     "output_type": "execute_result"
    }
   ],
   "source": [
    "(df_sum_input_feed==0).sum()"
   ]
  },
  {
   "cell_type": "code",
   "execution_count": 40,
   "metadata": {},
   "outputs": [
    {
     "data": {
      "text/plain": [
       "rougher.input.feed_ag     0\n",
       "rougher.input.feed_pb     0\n",
       "rougher.input.feed_au     0\n",
       "rougher.input.feed_sol    0\n",
       "sum                       0\n",
       "dtype: int64"
      ]
     },
     "execution_count": 40,
     "metadata": {},
     "output_type": "execute_result"
    }
   ],
   "source": [
    "df_sum_input_feed= df_sum_input_feed[(df_sum_input_feed['rougher.input.feed_ag'] !=0) & \n",
    "         (df_sum_input_feed['rougher.input.feed_pb'] !=0) &\n",
    "         (df_sum_input_feed['rougher.input.feed_au'] !=0) &\n",
    "         (df_sum_input_feed['rougher.input.feed_sol'] != 0)]\n",
    "(df_sum_input_feed==0).sum()"
   ]
  },
  {
   "cell_type": "markdown",
   "metadata": {},
   "source": [
    "Проверил нулевые значения и избавился от них"
   ]
  },
  {
   "cell_type": "code",
   "execution_count": 41,
   "metadata": {},
   "outputs": [
    {
     "name": "stdout",
     "output_type": "stream",
     "text": [
      "<class 'pandas.core.frame.DataFrame'>\n",
      "DatetimeIndex: 15066 entries, 2016-01-15 00:00:00 to 2018-08-18 10:59:59\n",
      "Data columns (total 87 columns):\n",
      " #   Column                                              Non-Null Count  Dtype  \n",
      "---  ------                                              --------------  -----  \n",
      " 0   final.output.concentrate_ag                         15066 non-null  float64\n",
      " 1   final.output.concentrate_pb                         15066 non-null  float64\n",
      " 2   final.output.concentrate_sol                        15066 non-null  float64\n",
      " 3   final.output.concentrate_au                         15066 non-null  float64\n",
      " 4   final.output.recovery                               15066 non-null  float64\n",
      " 5   final.output.tail_ag                                15066 non-null  float64\n",
      " 6   final.output.tail_pb                                15066 non-null  float64\n",
      " 7   final.output.tail_sol                               15066 non-null  float64\n",
      " 8   final.output.tail_au                                15066 non-null  float64\n",
      " 9   primary_cleaner.input.sulfate                       15066 non-null  float64\n",
      " 10  primary_cleaner.input.depressant                    15066 non-null  float64\n",
      " 11  primary_cleaner.input.feed_size                     15066 non-null  float64\n",
      " 12  primary_cleaner.input.xanthate                      15066 non-null  float64\n",
      " 13  primary_cleaner.output.concentrate_ag               15066 non-null  float64\n",
      " 14  primary_cleaner.output.concentrate_pb               15066 non-null  float64\n",
      " 15  primary_cleaner.output.concentrate_sol              15066 non-null  float64\n",
      " 16  primary_cleaner.output.concentrate_au               15066 non-null  float64\n",
      " 17  primary_cleaner.output.tail_ag                      15066 non-null  float64\n",
      " 18  primary_cleaner.output.tail_pb                      15066 non-null  float64\n",
      " 19  primary_cleaner.output.tail_sol                     15066 non-null  float64\n",
      " 20  primary_cleaner.output.tail_au                      15066 non-null  float64\n",
      " 21  primary_cleaner.state.floatbank8_a_air              15066 non-null  float64\n",
      " 22  primary_cleaner.state.floatbank8_a_level            15066 non-null  float64\n",
      " 23  primary_cleaner.state.floatbank8_b_air              15066 non-null  float64\n",
      " 24  primary_cleaner.state.floatbank8_b_level            15066 non-null  float64\n",
      " 25  primary_cleaner.state.floatbank8_c_air              15066 non-null  float64\n",
      " 26  primary_cleaner.state.floatbank8_c_level            15066 non-null  float64\n",
      " 27  primary_cleaner.state.floatbank8_d_air              15066 non-null  float64\n",
      " 28  primary_cleaner.state.floatbank8_d_level            15066 non-null  float64\n",
      " 29  rougher.calculation.sulfate_to_au_concentrate       15066 non-null  float64\n",
      " 30  rougher.calculation.floatbank10_sulfate_to_au_feed  15066 non-null  float64\n",
      " 31  rougher.calculation.floatbank11_sulfate_to_au_feed  15066 non-null  float64\n",
      " 32  rougher.calculation.au_pb_ratio                     15066 non-null  float64\n",
      " 33  rougher.input.feed_ag                               15066 non-null  float64\n",
      " 34  rougher.input.feed_pb                               15066 non-null  float64\n",
      " 35  rougher.input.feed_rate                             15066 non-null  float64\n",
      " 36  rougher.input.feed_size                             15066 non-null  float64\n",
      " 37  rougher.input.feed_sol                              15066 non-null  float64\n",
      " 38  rougher.input.feed_au                               15066 non-null  float64\n",
      " 39  rougher.input.floatbank10_sulfate                   15066 non-null  float64\n",
      " 40  rougher.input.floatbank10_xanthate                  15066 non-null  float64\n",
      " 41  rougher.input.floatbank11_sulfate                   15066 non-null  float64\n",
      " 42  rougher.input.floatbank11_xanthate                  15066 non-null  float64\n",
      " 43  rougher.output.concentrate_ag                       15066 non-null  float64\n",
      " 44  rougher.output.concentrate_pb                       15066 non-null  float64\n",
      " 45  rougher.output.concentrate_sol                      15066 non-null  float64\n",
      " 46  rougher.output.concentrate_au                       15066 non-null  float64\n",
      " 47  rougher.output.recovery                             15066 non-null  float64\n",
      " 48  rougher.output.tail_ag                              15066 non-null  float64\n",
      " 49  rougher.output.tail_pb                              15066 non-null  float64\n",
      " 50  rougher.output.tail_sol                             15066 non-null  float64\n",
      " 51  rougher.output.tail_au                              15066 non-null  float64\n",
      " 52  rougher.state.floatbank10_a_air                     15066 non-null  float64\n",
      " 53  rougher.state.floatbank10_a_level                   15066 non-null  float64\n",
      " 54  rougher.state.floatbank10_b_air                     15066 non-null  float64\n",
      " 55  rougher.state.floatbank10_b_level                   15066 non-null  float64\n",
      " 56  rougher.state.floatbank10_c_air                     15066 non-null  float64\n",
      " 57  rougher.state.floatbank10_c_level                   15066 non-null  float64\n",
      " 58  rougher.state.floatbank10_d_air                     15066 non-null  float64\n",
      " 59  rougher.state.floatbank10_d_level                   15066 non-null  float64\n",
      " 60  rougher.state.floatbank10_e_air                     15066 non-null  float64\n",
      " 61  rougher.state.floatbank10_e_level                   15066 non-null  float64\n",
      " 62  rougher.state.floatbank10_f_air                     15066 non-null  float64\n",
      " 63  rougher.state.floatbank10_f_level                   15066 non-null  float64\n",
      " 64  secondary_cleaner.output.tail_ag                    15066 non-null  float64\n",
      " 65  secondary_cleaner.output.tail_pb                    15066 non-null  float64\n",
      " 66  secondary_cleaner.output.tail_sol                   15066 non-null  float64\n",
      " 67  secondary_cleaner.output.tail_au                    15066 non-null  float64\n",
      " 68  secondary_cleaner.state.floatbank2_a_air            15066 non-null  float64\n",
      " 69  secondary_cleaner.state.floatbank2_a_level          15066 non-null  float64\n",
      " 70  secondary_cleaner.state.floatbank2_b_air            15066 non-null  float64\n",
      " 71  secondary_cleaner.state.floatbank2_b_level          15066 non-null  float64\n",
      " 72  secondary_cleaner.state.floatbank3_a_air            15066 non-null  float64\n",
      " 73  secondary_cleaner.state.floatbank3_a_level          15066 non-null  float64\n",
      " 74  secondary_cleaner.state.floatbank3_b_air            15066 non-null  float64\n",
      " 75  secondary_cleaner.state.floatbank3_b_level          15066 non-null  float64\n",
      " 76  secondary_cleaner.state.floatbank4_a_air            15066 non-null  float64\n",
      " 77  secondary_cleaner.state.floatbank4_a_level          15066 non-null  float64\n",
      " 78  secondary_cleaner.state.floatbank4_b_air            15066 non-null  float64\n",
      " 79  secondary_cleaner.state.floatbank4_b_level          15066 non-null  float64\n",
      " 80  secondary_cleaner.state.floatbank5_a_air            15066 non-null  float64\n",
      " 81  secondary_cleaner.state.floatbank5_a_level          15066 non-null  float64\n",
      " 82  secondary_cleaner.state.floatbank5_b_air            15066 non-null  float64\n",
      " 83  secondary_cleaner.state.floatbank5_b_level          15066 non-null  float64\n",
      " 84  secondary_cleaner.state.floatbank6_a_air            15066 non-null  float64\n",
      " 85  secondary_cleaner.state.floatbank6_a_level          15066 non-null  float64\n",
      " 86  counted_recovery                                    15066 non-null  float64\n",
      "dtypes: float64(87)\n",
      "memory usage: 10.1 MB\n"
     ]
    }
   ],
   "source": [
    "df_train= df_train[(df_train['rougher.input.feed_au'] !=0) & \n",
    "         (df_train['rougher.output.concentrate_au'] !=0) &\n",
    "         (df_train['primary_cleaner.output.concentrate_au'] !=0) &\n",
    "         (df_train['final.output.concentrate_au'] != 0)]\n",
    "df_train.info()"
   ]
  },
  {
   "cell_type": "code",
   "execution_count": 42,
   "metadata": {},
   "outputs": [],
   "source": [
    "test_columns =  set(df_test.columns)"
   ]
  },
  {
   "cell_type": "code",
   "execution_count": 43,
   "metadata": {
    "scrolled": true
   },
   "outputs": [],
   "source": [
    "#df_train_features = df_train.loc[:, test_columns]\n",
    "#df_train_features\n",
    "#df_train_target = df_train.loc[:, ['rougher.output.recovery', 'final.output.recovery']]\n",
    "#df_train_target"
   ]
  },
  {
   "cell_type": "code",
   "execution_count": 44,
   "metadata": {},
   "outputs": [
    {
     "name": "stdout",
     "output_type": "stream",
     "text": [
      "(15066, 52)\n",
      "(15066, 2)\n"
     ]
    }
   ],
   "source": [
    "#код ревьюера\n",
    "df_test.drop('date', axis=1, inplace=True)\n",
    "df_train_features = df_train[df_test.columns]\n",
    "print(df_train_features.shape)\n",
    "df_train_target = df_train[['rougher.output.recovery', 'final.output.recovery']]\n",
    "print(df_train_target.shape)"
   ]
  },
  {
   "cell_type": "code",
   "execution_count": 45,
   "metadata": {},
   "outputs": [
    {
     "data": {
      "text/html": [
       "<div>\n",
       "<style scoped>\n",
       "    .dataframe tbody tr th:only-of-type {\n",
       "        vertical-align: middle;\n",
       "    }\n",
       "\n",
       "    .dataframe tbody tr th {\n",
       "        vertical-align: top;\n",
       "    }\n",
       "\n",
       "    .dataframe thead th {\n",
       "        text-align: right;\n",
       "    }\n",
       "</style>\n",
       "<table border=\"1\" class=\"dataframe\">\n",
       "  <thead>\n",
       "    <tr style=\"text-align: right;\">\n",
       "      <th></th>\n",
       "      <th>rougher.input.feed_ag</th>\n",
       "      <th>rougher.input.feed_pb</th>\n",
       "      <th>rougher.input.feed_rate</th>\n",
       "      <th>rougher.input.feed_size</th>\n",
       "      <th>rougher.input.feed_sol</th>\n",
       "      <th>rougher.input.feed_au</th>\n",
       "      <th>rougher.input.floatbank10_sulfate</th>\n",
       "      <th>rougher.input.floatbank10_xanthate</th>\n",
       "      <th>rougher.input.floatbank11_sulfate</th>\n",
       "      <th>rougher.input.floatbank11_xanthate</th>\n",
       "      <th>...</th>\n",
       "      <th>rougher.state.floatbank10_b_air</th>\n",
       "      <th>rougher.state.floatbank10_b_level</th>\n",
       "      <th>rougher.state.floatbank10_c_air</th>\n",
       "      <th>rougher.state.floatbank10_c_level</th>\n",
       "      <th>rougher.state.floatbank10_d_air</th>\n",
       "      <th>rougher.state.floatbank10_d_level</th>\n",
       "      <th>rougher.state.floatbank10_e_air</th>\n",
       "      <th>rougher.state.floatbank10_e_level</th>\n",
       "      <th>rougher.state.floatbank10_f_air</th>\n",
       "      <th>rougher.state.floatbank10_f_level</th>\n",
       "    </tr>\n",
       "    <tr>\n",
       "      <th>date</th>\n",
       "      <th></th>\n",
       "      <th></th>\n",
       "      <th></th>\n",
       "      <th></th>\n",
       "      <th></th>\n",
       "      <th></th>\n",
       "      <th></th>\n",
       "      <th></th>\n",
       "      <th></th>\n",
       "      <th></th>\n",
       "      <th></th>\n",
       "      <th></th>\n",
       "      <th></th>\n",
       "      <th></th>\n",
       "      <th></th>\n",
       "      <th></th>\n",
       "      <th></th>\n",
       "      <th></th>\n",
       "      <th></th>\n",
       "      <th></th>\n",
       "      <th></th>\n",
       "    </tr>\n",
       "  </thead>\n",
       "  <tbody>\n",
       "    <tr>\n",
       "      <th>2016-01-15 00:00:00</th>\n",
       "      <td>6.100378</td>\n",
       "      <td>2.284912</td>\n",
       "      <td>523.546326</td>\n",
       "      <td>55.486599</td>\n",
       "      <td>36.808594</td>\n",
       "      <td>6.486150</td>\n",
       "      <td>11.986616</td>\n",
       "      <td>6.007990</td>\n",
       "      <td>11.836743</td>\n",
       "      <td>6.005818</td>\n",
       "      <td>...</td>\n",
       "      <td>1603.011353</td>\n",
       "      <td>-434.715027</td>\n",
       "      <td>1602.375000</td>\n",
       "      <td>-442.204468</td>\n",
       "      <td>1598.937256</td>\n",
       "      <td>-451.294128</td>\n",
       "      <td>1404.472046</td>\n",
       "      <td>-455.462982</td>\n",
       "      <td>1416.354980</td>\n",
       "      <td>-451.939636</td>\n",
       "    </tr>\n",
       "    <tr>\n",
       "      <th>2016-01-15 01:00:00</th>\n",
       "      <td>6.161113</td>\n",
       "      <td>2.266033</td>\n",
       "      <td>525.290581</td>\n",
       "      <td>57.278666</td>\n",
       "      <td>35.753385</td>\n",
       "      <td>6.478583</td>\n",
       "      <td>11.971193</td>\n",
       "      <td>6.005766</td>\n",
       "      <td>11.996163</td>\n",
       "      <td>6.012594</td>\n",
       "      <td>...</td>\n",
       "      <td>1600.754587</td>\n",
       "      <td>-449.953435</td>\n",
       "      <td>1600.479580</td>\n",
       "      <td>-449.830646</td>\n",
       "      <td>1600.527589</td>\n",
       "      <td>-449.953649</td>\n",
       "      <td>1399.227084</td>\n",
       "      <td>-450.869848</td>\n",
       "      <td>1399.719514</td>\n",
       "      <td>-450.119001</td>\n",
       "    </tr>\n",
       "    <tr>\n",
       "      <th>2016-01-15 02:00:00</th>\n",
       "      <td>6.116455</td>\n",
       "      <td>2.159622</td>\n",
       "      <td>530.026610</td>\n",
       "      <td>57.510649</td>\n",
       "      <td>35.971630</td>\n",
       "      <td>6.362222</td>\n",
       "      <td>11.920603</td>\n",
       "      <td>6.197377</td>\n",
       "      <td>11.920305</td>\n",
       "      <td>6.204633</td>\n",
       "      <td>...</td>\n",
       "      <td>1599.337330</td>\n",
       "      <td>-450.008530</td>\n",
       "      <td>1599.672797</td>\n",
       "      <td>-449.954491</td>\n",
       "      <td>1599.849325</td>\n",
       "      <td>-449.954185</td>\n",
       "      <td>1399.180945</td>\n",
       "      <td>-449.937588</td>\n",
       "      <td>1400.316682</td>\n",
       "      <td>-450.527147</td>\n",
       "    </tr>\n",
       "    <tr>\n",
       "      <th>2016-01-15 03:00:00</th>\n",
       "      <td>6.043309</td>\n",
       "      <td>2.037807</td>\n",
       "      <td>542.590390</td>\n",
       "      <td>57.792734</td>\n",
       "      <td>36.862241</td>\n",
       "      <td>6.118189</td>\n",
       "      <td>11.630094</td>\n",
       "      <td>6.203177</td>\n",
       "      <td>11.692450</td>\n",
       "      <td>6.196578</td>\n",
       "      <td>...</td>\n",
       "      <td>1600.059442</td>\n",
       "      <td>-450.619948</td>\n",
       "      <td>1600.012842</td>\n",
       "      <td>-449.910497</td>\n",
       "      <td>1597.725177</td>\n",
       "      <td>-450.130127</td>\n",
       "      <td>1400.943157</td>\n",
       "      <td>-450.030142</td>\n",
       "      <td>1400.234743</td>\n",
       "      <td>-449.790835</td>\n",
       "    </tr>\n",
       "    <tr>\n",
       "      <th>2016-01-15 04:00:00</th>\n",
       "      <td>6.060915</td>\n",
       "      <td>1.786875</td>\n",
       "      <td>540.531893</td>\n",
       "      <td>56.047189</td>\n",
       "      <td>34.347666</td>\n",
       "      <td>5.663707</td>\n",
       "      <td>10.957755</td>\n",
       "      <td>6.198826</td>\n",
       "      <td>10.960521</td>\n",
       "      <td>6.194897</td>\n",
       "      <td>...</td>\n",
       "      <td>1600.208824</td>\n",
       "      <td>-449.599614</td>\n",
       "      <td>1600.357732</td>\n",
       "      <td>-450.034364</td>\n",
       "      <td>1599.759049</td>\n",
       "      <td>-449.909799</td>\n",
       "      <td>1401.560902</td>\n",
       "      <td>-448.877187</td>\n",
       "      <td>1401.160227</td>\n",
       "      <td>-450.407128</td>\n",
       "    </tr>\n",
       "  </tbody>\n",
       "</table>\n",
       "<p>5 rows × 22 columns</p>\n",
       "</div>"
      ],
      "text/plain": [
       "                     rougher.input.feed_ag  rougher.input.feed_pb  \\\n",
       "date                                                                \n",
       "2016-01-15 00:00:00               6.100378               2.284912   \n",
       "2016-01-15 01:00:00               6.161113               2.266033   \n",
       "2016-01-15 02:00:00               6.116455               2.159622   \n",
       "2016-01-15 03:00:00               6.043309               2.037807   \n",
       "2016-01-15 04:00:00               6.060915               1.786875   \n",
       "\n",
       "                     rougher.input.feed_rate  rougher.input.feed_size  \\\n",
       "date                                                                    \n",
       "2016-01-15 00:00:00               523.546326                55.486599   \n",
       "2016-01-15 01:00:00               525.290581                57.278666   \n",
       "2016-01-15 02:00:00               530.026610                57.510649   \n",
       "2016-01-15 03:00:00               542.590390                57.792734   \n",
       "2016-01-15 04:00:00               540.531893                56.047189   \n",
       "\n",
       "                     rougher.input.feed_sol  rougher.input.feed_au  \\\n",
       "date                                                                 \n",
       "2016-01-15 00:00:00               36.808594               6.486150   \n",
       "2016-01-15 01:00:00               35.753385               6.478583   \n",
       "2016-01-15 02:00:00               35.971630               6.362222   \n",
       "2016-01-15 03:00:00               36.862241               6.118189   \n",
       "2016-01-15 04:00:00               34.347666               5.663707   \n",
       "\n",
       "                     rougher.input.floatbank10_sulfate  \\\n",
       "date                                                     \n",
       "2016-01-15 00:00:00                          11.986616   \n",
       "2016-01-15 01:00:00                          11.971193   \n",
       "2016-01-15 02:00:00                          11.920603   \n",
       "2016-01-15 03:00:00                          11.630094   \n",
       "2016-01-15 04:00:00                          10.957755   \n",
       "\n",
       "                     rougher.input.floatbank10_xanthate  \\\n",
       "date                                                      \n",
       "2016-01-15 00:00:00                            6.007990   \n",
       "2016-01-15 01:00:00                            6.005766   \n",
       "2016-01-15 02:00:00                            6.197377   \n",
       "2016-01-15 03:00:00                            6.203177   \n",
       "2016-01-15 04:00:00                            6.198826   \n",
       "\n",
       "                     rougher.input.floatbank11_sulfate  \\\n",
       "date                                                     \n",
       "2016-01-15 00:00:00                          11.836743   \n",
       "2016-01-15 01:00:00                          11.996163   \n",
       "2016-01-15 02:00:00                          11.920305   \n",
       "2016-01-15 03:00:00                          11.692450   \n",
       "2016-01-15 04:00:00                          10.960521   \n",
       "\n",
       "                     rougher.input.floatbank11_xanthate  ...  \\\n",
       "date                                                     ...   \n",
       "2016-01-15 00:00:00                            6.005818  ...   \n",
       "2016-01-15 01:00:00                            6.012594  ...   \n",
       "2016-01-15 02:00:00                            6.204633  ...   \n",
       "2016-01-15 03:00:00                            6.196578  ...   \n",
       "2016-01-15 04:00:00                            6.194897  ...   \n",
       "\n",
       "                     rougher.state.floatbank10_b_air  \\\n",
       "date                                                   \n",
       "2016-01-15 00:00:00                      1603.011353   \n",
       "2016-01-15 01:00:00                      1600.754587   \n",
       "2016-01-15 02:00:00                      1599.337330   \n",
       "2016-01-15 03:00:00                      1600.059442   \n",
       "2016-01-15 04:00:00                      1600.208824   \n",
       "\n",
       "                     rougher.state.floatbank10_b_level  \\\n",
       "date                                                     \n",
       "2016-01-15 00:00:00                        -434.715027   \n",
       "2016-01-15 01:00:00                        -449.953435   \n",
       "2016-01-15 02:00:00                        -450.008530   \n",
       "2016-01-15 03:00:00                        -450.619948   \n",
       "2016-01-15 04:00:00                        -449.599614   \n",
       "\n",
       "                     rougher.state.floatbank10_c_air  \\\n",
       "date                                                   \n",
       "2016-01-15 00:00:00                      1602.375000   \n",
       "2016-01-15 01:00:00                      1600.479580   \n",
       "2016-01-15 02:00:00                      1599.672797   \n",
       "2016-01-15 03:00:00                      1600.012842   \n",
       "2016-01-15 04:00:00                      1600.357732   \n",
       "\n",
       "                     rougher.state.floatbank10_c_level  \\\n",
       "date                                                     \n",
       "2016-01-15 00:00:00                        -442.204468   \n",
       "2016-01-15 01:00:00                        -449.830646   \n",
       "2016-01-15 02:00:00                        -449.954491   \n",
       "2016-01-15 03:00:00                        -449.910497   \n",
       "2016-01-15 04:00:00                        -450.034364   \n",
       "\n",
       "                     rougher.state.floatbank10_d_air  \\\n",
       "date                                                   \n",
       "2016-01-15 00:00:00                      1598.937256   \n",
       "2016-01-15 01:00:00                      1600.527589   \n",
       "2016-01-15 02:00:00                      1599.849325   \n",
       "2016-01-15 03:00:00                      1597.725177   \n",
       "2016-01-15 04:00:00                      1599.759049   \n",
       "\n",
       "                     rougher.state.floatbank10_d_level  \\\n",
       "date                                                     \n",
       "2016-01-15 00:00:00                        -451.294128   \n",
       "2016-01-15 01:00:00                        -449.953649   \n",
       "2016-01-15 02:00:00                        -449.954185   \n",
       "2016-01-15 03:00:00                        -450.130127   \n",
       "2016-01-15 04:00:00                        -449.909799   \n",
       "\n",
       "                     rougher.state.floatbank10_e_air  \\\n",
       "date                                                   \n",
       "2016-01-15 00:00:00                      1404.472046   \n",
       "2016-01-15 01:00:00                      1399.227084   \n",
       "2016-01-15 02:00:00                      1399.180945   \n",
       "2016-01-15 03:00:00                      1400.943157   \n",
       "2016-01-15 04:00:00                      1401.560902   \n",
       "\n",
       "                     rougher.state.floatbank10_e_level  \\\n",
       "date                                                     \n",
       "2016-01-15 00:00:00                        -455.462982   \n",
       "2016-01-15 01:00:00                        -450.869848   \n",
       "2016-01-15 02:00:00                        -449.937588   \n",
       "2016-01-15 03:00:00                        -450.030142   \n",
       "2016-01-15 04:00:00                        -448.877187   \n",
       "\n",
       "                     rougher.state.floatbank10_f_air  \\\n",
       "date                                                   \n",
       "2016-01-15 00:00:00                      1416.354980   \n",
       "2016-01-15 01:00:00                      1399.719514   \n",
       "2016-01-15 02:00:00                      1400.316682   \n",
       "2016-01-15 03:00:00                      1400.234743   \n",
       "2016-01-15 04:00:00                      1401.160227   \n",
       "\n",
       "                     rougher.state.floatbank10_f_level  \n",
       "date                                                    \n",
       "2016-01-15 00:00:00                        -451.939636  \n",
       "2016-01-15 01:00:00                        -450.119001  \n",
       "2016-01-15 02:00:00                        -450.527147  \n",
       "2016-01-15 03:00:00                        -449.790835  \n",
       "2016-01-15 04:00:00                        -450.407128  \n",
       "\n",
       "[5 rows x 22 columns]"
      ]
     },
     "execution_count": 45,
     "metadata": {},
     "output_type": "execute_result"
    }
   ],
   "source": [
    "df_train_rougher_features = df_train_features.filter(regex='^rougher',axis=1)\n",
    "df_train_rougher_features.head()"
   ]
  },
  {
   "cell_type": "code",
   "execution_count": 46,
   "metadata": {},
   "outputs": [
    {
     "data": {
      "text/html": [
       "<div>\n",
       "<style scoped>\n",
       "    .dataframe tbody tr th:only-of-type {\n",
       "        vertical-align: middle;\n",
       "    }\n",
       "\n",
       "    .dataframe tbody tr th {\n",
       "        vertical-align: top;\n",
       "    }\n",
       "\n",
       "    .dataframe thead th {\n",
       "        text-align: right;\n",
       "    }\n",
       "</style>\n",
       "<table border=\"1\" class=\"dataframe\">\n",
       "  <thead>\n",
       "    <tr style=\"text-align: right;\">\n",
       "      <th></th>\n",
       "      <th>primary_cleaner.input.sulfate</th>\n",
       "      <th>primary_cleaner.state.floatbank8_b_level</th>\n",
       "      <th>secondary_cleaner.state.floatbank3_a_level</th>\n",
       "      <th>secondary_cleaner.state.floatbank4_a_level</th>\n",
       "      <th>primary_cleaner.state.floatbank8_d_level</th>\n",
       "      <th>primary_cleaner.input.depressant</th>\n",
       "      <th>secondary_cleaner.state.floatbank2_b_air</th>\n",
       "      <th>primary_cleaner.state.floatbank8_a_air</th>\n",
       "      <th>primary_cleaner.state.floatbank8_c_air</th>\n",
       "      <th>secondary_cleaner.state.floatbank6_a_air</th>\n",
       "      <th>...</th>\n",
       "      <th>secondary_cleaner.state.floatbank5_b_level</th>\n",
       "      <th>secondary_cleaner.state.floatbank2_b_level</th>\n",
       "      <th>secondary_cleaner.state.floatbank6_a_level</th>\n",
       "      <th>primary_cleaner.input.feed_size</th>\n",
       "      <th>secondary_cleaner.state.floatbank3_b_level</th>\n",
       "      <th>secondary_cleaner.state.floatbank4_a_air</th>\n",
       "      <th>secondary_cleaner.state.floatbank3_b_air</th>\n",
       "      <th>secondary_cleaner.state.floatbank5_b_air</th>\n",
       "      <th>primary_cleaner.state.floatbank8_c_level</th>\n",
       "      <th>secondary_cleaner.state.floatbank4_b_air</th>\n",
       "    </tr>\n",
       "    <tr>\n",
       "      <th>date</th>\n",
       "      <th></th>\n",
       "      <th></th>\n",
       "      <th></th>\n",
       "      <th></th>\n",
       "      <th></th>\n",
       "      <th></th>\n",
       "      <th></th>\n",
       "      <th></th>\n",
       "      <th></th>\n",
       "      <th></th>\n",
       "      <th></th>\n",
       "      <th></th>\n",
       "      <th></th>\n",
       "      <th></th>\n",
       "      <th></th>\n",
       "      <th></th>\n",
       "      <th></th>\n",
       "      <th></th>\n",
       "      <th></th>\n",
       "      <th></th>\n",
       "      <th></th>\n",
       "    </tr>\n",
       "  </thead>\n",
       "  <tbody>\n",
       "    <tr>\n",
       "      <th>2016-01-15 00:00:00</th>\n",
       "      <td>127.092003</td>\n",
       "      <td>-516.403442</td>\n",
       "      <td>-495.262817</td>\n",
       "      <td>-502.488007</td>\n",
       "      <td>-493.428131</td>\n",
       "      <td>10.128295</td>\n",
       "      <td>23.893660</td>\n",
       "      <td>1549.775757</td>\n",
       "      <td>1549.873901</td>\n",
       "      <td>14.151341</td>\n",
       "      <td>...</td>\n",
       "      <td>-500.470978</td>\n",
       "      <td>-501.406281</td>\n",
       "      <td>-605.841980</td>\n",
       "      <td>7.25</td>\n",
       "      <td>-499.340973</td>\n",
       "      <td>14.016835</td>\n",
       "      <td>21.940409</td>\n",
       "      <td>8.079666</td>\n",
       "      <td>-498.666595</td>\n",
       "      <td>12.099931</td>\n",
       "    </tr>\n",
       "    <tr>\n",
       "      <th>2016-01-15 01:00:00</th>\n",
       "      <td>125.629232</td>\n",
       "      <td>-499.865889</td>\n",
       "      <td>-500.085473</td>\n",
       "      <td>-505.503262</td>\n",
       "      <td>-498.931665</td>\n",
       "      <td>10.296251</td>\n",
       "      <td>23.889530</td>\n",
       "      <td>1576.166671</td>\n",
       "      <td>1575.994189</td>\n",
       "      <td>13.998353</td>\n",
       "      <td>...</td>\n",
       "      <td>-500.582168</td>\n",
       "      <td>-500.372428</td>\n",
       "      <td>-599.787184</td>\n",
       "      <td>7.25</td>\n",
       "      <td>-499.446897</td>\n",
       "      <td>13.992281</td>\n",
       "      <td>22.085714</td>\n",
       "      <td>7.984757</td>\n",
       "      <td>-499.315107</td>\n",
       "      <td>11.950531</td>\n",
       "    </tr>\n",
       "    <tr>\n",
       "      <th>2016-01-15 02:00:00</th>\n",
       "      <td>123.819808</td>\n",
       "      <td>-500.607762</td>\n",
       "      <td>-499.442343</td>\n",
       "      <td>-502.520901</td>\n",
       "      <td>-499.827444</td>\n",
       "      <td>11.316280</td>\n",
       "      <td>23.886657</td>\n",
       "      <td>1601.556163</td>\n",
       "      <td>1602.003542</td>\n",
       "      <td>14.028663</td>\n",
       "      <td>...</td>\n",
       "      <td>-500.517572</td>\n",
       "      <td>-499.951928</td>\n",
       "      <td>-601.427363</td>\n",
       "      <td>7.25</td>\n",
       "      <td>-499.901982</td>\n",
       "      <td>14.015015</td>\n",
       "      <td>23.957717</td>\n",
       "      <td>8.013877</td>\n",
       "      <td>-500.870069</td>\n",
       "      <td>11.912783</td>\n",
       "    </tr>\n",
       "    <tr>\n",
       "      <th>2016-01-15 03:00:00</th>\n",
       "      <td>122.270188</td>\n",
       "      <td>-499.677094</td>\n",
       "      <td>-500.008812</td>\n",
       "      <td>-500.857308</td>\n",
       "      <td>-500.052575</td>\n",
       "      <td>11.322140</td>\n",
       "      <td>23.955516</td>\n",
       "      <td>1599.968720</td>\n",
       "      <td>1600.304144</td>\n",
       "      <td>14.005551</td>\n",
       "      <td>...</td>\n",
       "      <td>-500.255908</td>\n",
       "      <td>-499.848796</td>\n",
       "      <td>-599.996129</td>\n",
       "      <td>7.25</td>\n",
       "      <td>-499.944710</td>\n",
       "      <td>14.036510</td>\n",
       "      <td>23.954443</td>\n",
       "      <td>7.977324</td>\n",
       "      <td>-500.727997</td>\n",
       "      <td>11.999550</td>\n",
       "    </tr>\n",
       "    <tr>\n",
       "      <th>2016-01-15 04:00:00</th>\n",
       "      <td>117.988169</td>\n",
       "      <td>-500.323246</td>\n",
       "      <td>-500.083811</td>\n",
       "      <td>-499.838632</td>\n",
       "      <td>-500.593010</td>\n",
       "      <td>11.913613</td>\n",
       "      <td>23.955345</td>\n",
       "      <td>1601.339707</td>\n",
       "      <td>1599.581894</td>\n",
       "      <td>13.996647</td>\n",
       "      <td>...</td>\n",
       "      <td>-500.356035</td>\n",
       "      <td>-500.593614</td>\n",
       "      <td>-601.496691</td>\n",
       "      <td>7.25</td>\n",
       "      <td>-499.990309</td>\n",
       "      <td>14.027298</td>\n",
       "      <td>23.958945</td>\n",
       "      <td>7.894242</td>\n",
       "      <td>-500.888152</td>\n",
       "      <td>11.953070</td>\n",
       "    </tr>\n",
       "  </tbody>\n",
       "</table>\n",
       "<p>5 rows × 30 columns</p>\n",
       "</div>"
      ],
      "text/plain": [
       "                     primary_cleaner.input.sulfate  \\\n",
       "date                                                 \n",
       "2016-01-15 00:00:00                     127.092003   \n",
       "2016-01-15 01:00:00                     125.629232   \n",
       "2016-01-15 02:00:00                     123.819808   \n",
       "2016-01-15 03:00:00                     122.270188   \n",
       "2016-01-15 04:00:00                     117.988169   \n",
       "\n",
       "                     primary_cleaner.state.floatbank8_b_level  \\\n",
       "date                                                            \n",
       "2016-01-15 00:00:00                               -516.403442   \n",
       "2016-01-15 01:00:00                               -499.865889   \n",
       "2016-01-15 02:00:00                               -500.607762   \n",
       "2016-01-15 03:00:00                               -499.677094   \n",
       "2016-01-15 04:00:00                               -500.323246   \n",
       "\n",
       "                     secondary_cleaner.state.floatbank3_a_level  \\\n",
       "date                                                              \n",
       "2016-01-15 00:00:00                                 -495.262817   \n",
       "2016-01-15 01:00:00                                 -500.085473   \n",
       "2016-01-15 02:00:00                                 -499.442343   \n",
       "2016-01-15 03:00:00                                 -500.008812   \n",
       "2016-01-15 04:00:00                                 -500.083811   \n",
       "\n",
       "                     secondary_cleaner.state.floatbank4_a_level  \\\n",
       "date                                                              \n",
       "2016-01-15 00:00:00                                 -502.488007   \n",
       "2016-01-15 01:00:00                                 -505.503262   \n",
       "2016-01-15 02:00:00                                 -502.520901   \n",
       "2016-01-15 03:00:00                                 -500.857308   \n",
       "2016-01-15 04:00:00                                 -499.838632   \n",
       "\n",
       "                     primary_cleaner.state.floatbank8_d_level  \\\n",
       "date                                                            \n",
       "2016-01-15 00:00:00                               -493.428131   \n",
       "2016-01-15 01:00:00                               -498.931665   \n",
       "2016-01-15 02:00:00                               -499.827444   \n",
       "2016-01-15 03:00:00                               -500.052575   \n",
       "2016-01-15 04:00:00                               -500.593010   \n",
       "\n",
       "                     primary_cleaner.input.depressant  \\\n",
       "date                                                    \n",
       "2016-01-15 00:00:00                         10.128295   \n",
       "2016-01-15 01:00:00                         10.296251   \n",
       "2016-01-15 02:00:00                         11.316280   \n",
       "2016-01-15 03:00:00                         11.322140   \n",
       "2016-01-15 04:00:00                         11.913613   \n",
       "\n",
       "                     secondary_cleaner.state.floatbank2_b_air  \\\n",
       "date                                                            \n",
       "2016-01-15 00:00:00                                 23.893660   \n",
       "2016-01-15 01:00:00                                 23.889530   \n",
       "2016-01-15 02:00:00                                 23.886657   \n",
       "2016-01-15 03:00:00                                 23.955516   \n",
       "2016-01-15 04:00:00                                 23.955345   \n",
       "\n",
       "                     primary_cleaner.state.floatbank8_a_air  \\\n",
       "date                                                          \n",
       "2016-01-15 00:00:00                             1549.775757   \n",
       "2016-01-15 01:00:00                             1576.166671   \n",
       "2016-01-15 02:00:00                             1601.556163   \n",
       "2016-01-15 03:00:00                             1599.968720   \n",
       "2016-01-15 04:00:00                             1601.339707   \n",
       "\n",
       "                     primary_cleaner.state.floatbank8_c_air  \\\n",
       "date                                                          \n",
       "2016-01-15 00:00:00                             1549.873901   \n",
       "2016-01-15 01:00:00                             1575.994189   \n",
       "2016-01-15 02:00:00                             1602.003542   \n",
       "2016-01-15 03:00:00                             1600.304144   \n",
       "2016-01-15 04:00:00                             1599.581894   \n",
       "\n",
       "                     secondary_cleaner.state.floatbank6_a_air  ...  \\\n",
       "date                                                           ...   \n",
       "2016-01-15 00:00:00                                 14.151341  ...   \n",
       "2016-01-15 01:00:00                                 13.998353  ...   \n",
       "2016-01-15 02:00:00                                 14.028663  ...   \n",
       "2016-01-15 03:00:00                                 14.005551  ...   \n",
       "2016-01-15 04:00:00                                 13.996647  ...   \n",
       "\n",
       "                     secondary_cleaner.state.floatbank5_b_level  \\\n",
       "date                                                              \n",
       "2016-01-15 00:00:00                                 -500.470978   \n",
       "2016-01-15 01:00:00                                 -500.582168   \n",
       "2016-01-15 02:00:00                                 -500.517572   \n",
       "2016-01-15 03:00:00                                 -500.255908   \n",
       "2016-01-15 04:00:00                                 -500.356035   \n",
       "\n",
       "                     secondary_cleaner.state.floatbank2_b_level  \\\n",
       "date                                                              \n",
       "2016-01-15 00:00:00                                 -501.406281   \n",
       "2016-01-15 01:00:00                                 -500.372428   \n",
       "2016-01-15 02:00:00                                 -499.951928   \n",
       "2016-01-15 03:00:00                                 -499.848796   \n",
       "2016-01-15 04:00:00                                 -500.593614   \n",
       "\n",
       "                     secondary_cleaner.state.floatbank6_a_level  \\\n",
       "date                                                              \n",
       "2016-01-15 00:00:00                                 -605.841980   \n",
       "2016-01-15 01:00:00                                 -599.787184   \n",
       "2016-01-15 02:00:00                                 -601.427363   \n",
       "2016-01-15 03:00:00                                 -599.996129   \n",
       "2016-01-15 04:00:00                                 -601.496691   \n",
       "\n",
       "                     primary_cleaner.input.feed_size  \\\n",
       "date                                                   \n",
       "2016-01-15 00:00:00                             7.25   \n",
       "2016-01-15 01:00:00                             7.25   \n",
       "2016-01-15 02:00:00                             7.25   \n",
       "2016-01-15 03:00:00                             7.25   \n",
       "2016-01-15 04:00:00                             7.25   \n",
       "\n",
       "                     secondary_cleaner.state.floatbank3_b_level  \\\n",
       "date                                                              \n",
       "2016-01-15 00:00:00                                 -499.340973   \n",
       "2016-01-15 01:00:00                                 -499.446897   \n",
       "2016-01-15 02:00:00                                 -499.901982   \n",
       "2016-01-15 03:00:00                                 -499.944710   \n",
       "2016-01-15 04:00:00                                 -499.990309   \n",
       "\n",
       "                     secondary_cleaner.state.floatbank4_a_air  \\\n",
       "date                                                            \n",
       "2016-01-15 00:00:00                                 14.016835   \n",
       "2016-01-15 01:00:00                                 13.992281   \n",
       "2016-01-15 02:00:00                                 14.015015   \n",
       "2016-01-15 03:00:00                                 14.036510   \n",
       "2016-01-15 04:00:00                                 14.027298   \n",
       "\n",
       "                     secondary_cleaner.state.floatbank3_b_air  \\\n",
       "date                                                            \n",
       "2016-01-15 00:00:00                                 21.940409   \n",
       "2016-01-15 01:00:00                                 22.085714   \n",
       "2016-01-15 02:00:00                                 23.957717   \n",
       "2016-01-15 03:00:00                                 23.954443   \n",
       "2016-01-15 04:00:00                                 23.958945   \n",
       "\n",
       "                     secondary_cleaner.state.floatbank5_b_air  \\\n",
       "date                                                            \n",
       "2016-01-15 00:00:00                                  8.079666   \n",
       "2016-01-15 01:00:00                                  7.984757   \n",
       "2016-01-15 02:00:00                                  8.013877   \n",
       "2016-01-15 03:00:00                                  7.977324   \n",
       "2016-01-15 04:00:00                                  7.894242   \n",
       "\n",
       "                     primary_cleaner.state.floatbank8_c_level  \\\n",
       "date                                                            \n",
       "2016-01-15 00:00:00                               -498.666595   \n",
       "2016-01-15 01:00:00                               -499.315107   \n",
       "2016-01-15 02:00:00                               -500.870069   \n",
       "2016-01-15 03:00:00                               -500.727997   \n",
       "2016-01-15 04:00:00                               -500.888152   \n",
       "\n",
       "                     secondary_cleaner.state.floatbank4_b_air  \n",
       "date                                                           \n",
       "2016-01-15 00:00:00                                 12.099931  \n",
       "2016-01-15 01:00:00                                 11.950531  \n",
       "2016-01-15 02:00:00                                 11.912783  \n",
       "2016-01-15 03:00:00                                 11.999550  \n",
       "2016-01-15 04:00:00                                 11.953070  \n",
       "\n",
       "[5 rows x 30 columns]"
      ]
     },
     "execution_count": 46,
     "metadata": {},
     "output_type": "execute_result"
    }
   ],
   "source": [
    "final_columns = set(df_train_features) - set(df_train_rougher_features)\n",
    "df_train_final_features = df_train_features.loc[:, final_columns]\n",
    "df_train_final_features.head()"
   ]
  },
  {
   "cell_type": "code",
   "execution_count": 47,
   "metadata": {},
   "outputs": [
    {
     "data": {
      "text/html": [
       "<div>\n",
       "<style scoped>\n",
       "    .dataframe tbody tr th:only-of-type {\n",
       "        vertical-align: middle;\n",
       "    }\n",
       "\n",
       "    .dataframe tbody tr th {\n",
       "        vertical-align: top;\n",
       "    }\n",
       "\n",
       "    .dataframe thead th {\n",
       "        text-align: right;\n",
       "    }\n",
       "</style>\n",
       "<table border=\"1\" class=\"dataframe\">\n",
       "  <thead>\n",
       "    <tr style=\"text-align: right;\">\n",
       "      <th></th>\n",
       "      <th>rougher.input.feed_ag</th>\n",
       "      <th>rougher.input.feed_pb</th>\n",
       "      <th>rougher.input.feed_rate</th>\n",
       "      <th>rougher.input.feed_size</th>\n",
       "      <th>rougher.input.feed_sol</th>\n",
       "      <th>rougher.input.feed_au</th>\n",
       "      <th>rougher.input.floatbank10_sulfate</th>\n",
       "      <th>rougher.input.floatbank10_xanthate</th>\n",
       "      <th>rougher.input.floatbank11_sulfate</th>\n",
       "      <th>rougher.input.floatbank11_xanthate</th>\n",
       "      <th>...</th>\n",
       "      <th>rougher.state.floatbank10_b_air</th>\n",
       "      <th>rougher.state.floatbank10_b_level</th>\n",
       "      <th>rougher.state.floatbank10_c_air</th>\n",
       "      <th>rougher.state.floatbank10_c_level</th>\n",
       "      <th>rougher.state.floatbank10_d_air</th>\n",
       "      <th>rougher.state.floatbank10_d_level</th>\n",
       "      <th>rougher.state.floatbank10_e_air</th>\n",
       "      <th>rougher.state.floatbank10_e_level</th>\n",
       "      <th>rougher.state.floatbank10_f_air</th>\n",
       "      <th>rougher.state.floatbank10_f_level</th>\n",
       "    </tr>\n",
       "  </thead>\n",
       "  <tbody>\n",
       "    <tr>\n",
       "      <th>0</th>\n",
       "      <td>13.128569</td>\n",
       "      <td>5.636710</td>\n",
       "      <td>489.793655</td>\n",
       "      <td>62.710452</td>\n",
       "      <td>42.022440</td>\n",
       "      <td>12.084103</td>\n",
       "      <td>16.922877</td>\n",
       "      <td>6.153479</td>\n",
       "      <td>16.867518</td>\n",
       "      <td>6.150709</td>\n",
       "      <td>...</td>\n",
       "      <td>1249.738612</td>\n",
       "      <td>-399.107531</td>\n",
       "      <td>1249.750520</td>\n",
       "      <td>-399.396730</td>\n",
       "      <td>1198.287855</td>\n",
       "      <td>-399.488594</td>\n",
       "      <td>999.472250</td>\n",
       "      <td>-399.530962</td>\n",
       "      <td>949.566189</td>\n",
       "      <td>-398.180807</td>\n",
       "    </tr>\n",
       "    <tr>\n",
       "      <th>1</th>\n",
       "      <td>13.036280</td>\n",
       "      <td>5.526065</td>\n",
       "      <td>490.104534</td>\n",
       "      <td>61.961163</td>\n",
       "      <td>41.187903</td>\n",
       "      <td>11.918977</td>\n",
       "      <td>17.002532</td>\n",
       "      <td>5.999043</td>\n",
       "      <td>16.996063</td>\n",
       "      <td>6.002315</td>\n",
       "      <td>...</td>\n",
       "      <td>1248.395457</td>\n",
       "      <td>-399.946025</td>\n",
       "      <td>1249.514451</td>\n",
       "      <td>-399.630810</td>\n",
       "      <td>1200.506459</td>\n",
       "      <td>-399.942434</td>\n",
       "      <td>1000.002114</td>\n",
       "      <td>-399.491528</td>\n",
       "      <td>950.200009</td>\n",
       "      <td>-405.787514</td>\n",
       "    </tr>\n",
       "    <tr>\n",
       "      <th>2</th>\n",
       "      <td>13.138412</td>\n",
       "      <td>5.426561</td>\n",
       "      <td>489.617969</td>\n",
       "      <td>66.903807</td>\n",
       "      <td>42.546294</td>\n",
       "      <td>12.091332</td>\n",
       "      <td>16.992520</td>\n",
       "      <td>5.850632</td>\n",
       "      <td>16.982096</td>\n",
       "      <td>5.853594</td>\n",
       "      <td>...</td>\n",
       "      <td>1247.440748</td>\n",
       "      <td>-400.264330</td>\n",
       "      <td>1248.207204</td>\n",
       "      <td>-401.074405</td>\n",
       "      <td>1199.770026</td>\n",
       "      <td>-400.790582</td>\n",
       "      <td>999.925519</td>\n",
       "      <td>-399.236999</td>\n",
       "      <td>950.320481</td>\n",
       "      <td>-400.864340</td>\n",
       "    </tr>\n",
       "    <tr>\n",
       "      <th>3</th>\n",
       "      <td>12.400507</td>\n",
       "      <td>5.114758</td>\n",
       "      <td>476.618130</td>\n",
       "      <td>59.865919</td>\n",
       "      <td>41.060195</td>\n",
       "      <td>12.181597</td>\n",
       "      <td>16.532144</td>\n",
       "      <td>5.801935</td>\n",
       "      <td>16.515277</td>\n",
       "      <td>5.803657</td>\n",
       "      <td>...</td>\n",
       "      <td>1251.322675</td>\n",
       "      <td>-398.655289</td>\n",
       "      <td>1250.493702</td>\n",
       "      <td>-399.746728</td>\n",
       "      <td>1199.398691</td>\n",
       "      <td>-397.503052</td>\n",
       "      <td>1001.930679</td>\n",
       "      <td>-400.437573</td>\n",
       "      <td>950.735324</td>\n",
       "      <td>-399.802986</td>\n",
       "    </tr>\n",
       "    <tr>\n",
       "      <th>4</th>\n",
       "      <td>11.327427</td>\n",
       "      <td>4.767383</td>\n",
       "      <td>488.248117</td>\n",
       "      <td>63.315324</td>\n",
       "      <td>41.269161</td>\n",
       "      <td>11.290425</td>\n",
       "      <td>13.607257</td>\n",
       "      <td>5.738081</td>\n",
       "      <td>13.650053</td>\n",
       "      <td>5.739634</td>\n",
       "      <td>...</td>\n",
       "      <td>1304.658848</td>\n",
       "      <td>-399.511519</td>\n",
       "      <td>1306.455515</td>\n",
       "      <td>-399.050685</td>\n",
       "      <td>1248.699349</td>\n",
       "      <td>-400.876894</td>\n",
       "      <td>1058.839106</td>\n",
       "      <td>-398.988239</td>\n",
       "      <td>949.645313</td>\n",
       "      <td>-399.277632</td>\n",
       "    </tr>\n",
       "  </tbody>\n",
       "</table>\n",
       "<p>5 rows × 22 columns</p>\n",
       "</div>"
      ],
      "text/plain": [
       "   rougher.input.feed_ag  rougher.input.feed_pb  rougher.input.feed_rate  \\\n",
       "0              13.128569               5.636710               489.793655   \n",
       "1              13.036280               5.526065               490.104534   \n",
       "2              13.138412               5.426561               489.617969   \n",
       "3              12.400507               5.114758               476.618130   \n",
       "4              11.327427               4.767383               488.248117   \n",
       "\n",
       "   rougher.input.feed_size  rougher.input.feed_sol  rougher.input.feed_au  \\\n",
       "0                62.710452               42.022440              12.084103   \n",
       "1                61.961163               41.187903              11.918977   \n",
       "2                66.903807               42.546294              12.091332   \n",
       "3                59.865919               41.060195              12.181597   \n",
       "4                63.315324               41.269161              11.290425   \n",
       "\n",
       "   rougher.input.floatbank10_sulfate  rougher.input.floatbank10_xanthate  \\\n",
       "0                          16.922877                            6.153479   \n",
       "1                          17.002532                            5.999043   \n",
       "2                          16.992520                            5.850632   \n",
       "3                          16.532144                            5.801935   \n",
       "4                          13.607257                            5.738081   \n",
       "\n",
       "   rougher.input.floatbank11_sulfate  rougher.input.floatbank11_xanthate  ...  \\\n",
       "0                          16.867518                            6.150709  ...   \n",
       "1                          16.996063                            6.002315  ...   \n",
       "2                          16.982096                            5.853594  ...   \n",
       "3                          16.515277                            5.803657  ...   \n",
       "4                          13.650053                            5.739634  ...   \n",
       "\n",
       "   rougher.state.floatbank10_b_air  rougher.state.floatbank10_b_level  \\\n",
       "0                      1249.738612                        -399.107531   \n",
       "1                      1248.395457                        -399.946025   \n",
       "2                      1247.440748                        -400.264330   \n",
       "3                      1251.322675                        -398.655289   \n",
       "4                      1304.658848                        -399.511519   \n",
       "\n",
       "   rougher.state.floatbank10_c_air  rougher.state.floatbank10_c_level  \\\n",
       "0                      1249.750520                        -399.396730   \n",
       "1                      1249.514451                        -399.630810   \n",
       "2                      1248.207204                        -401.074405   \n",
       "3                      1250.493702                        -399.746728   \n",
       "4                      1306.455515                        -399.050685   \n",
       "\n",
       "   rougher.state.floatbank10_d_air  rougher.state.floatbank10_d_level  \\\n",
       "0                      1198.287855                        -399.488594   \n",
       "1                      1200.506459                        -399.942434   \n",
       "2                      1199.770026                        -400.790582   \n",
       "3                      1199.398691                        -397.503052   \n",
       "4                      1248.699349                        -400.876894   \n",
       "\n",
       "   rougher.state.floatbank10_e_air  rougher.state.floatbank10_e_level  \\\n",
       "0                       999.472250                        -399.530962   \n",
       "1                      1000.002114                        -399.491528   \n",
       "2                       999.925519                        -399.236999   \n",
       "3                      1001.930679                        -400.437573   \n",
       "4                      1058.839106                        -398.988239   \n",
       "\n",
       "   rougher.state.floatbank10_f_air  rougher.state.floatbank10_f_level  \n",
       "0                       949.566189                        -398.180807  \n",
       "1                       950.200009                        -405.787514  \n",
       "2                       950.320481                        -400.864340  \n",
       "3                       950.735324                        -399.802986  \n",
       "4                       949.645313                        -399.277632  \n",
       "\n",
       "[5 rows x 22 columns]"
      ]
     },
     "execution_count": 47,
     "metadata": {},
     "output_type": "execute_result"
    }
   ],
   "source": [
    "df_test_rougher_features = df_test.filter(regex='^rougher',axis=1)\n",
    "df_test_rougher_features.head()"
   ]
  },
  {
   "cell_type": "code",
   "execution_count": 48,
   "metadata": {},
   "outputs": [
    {
     "name": "stdout",
     "output_type": "stream",
     "text": [
      "<class 'pandas.core.frame.DataFrame'>\n",
      "Int64Index: 5856 entries, 0 to 5855\n",
      "Data columns (total 87 columns):\n",
      " #   Column                                              Non-Null Count  Dtype  \n",
      "---  ------                                              --------------  -----  \n",
      " 0   date                                                5856 non-null   object \n",
      " 1   final.output.concentrate_ag                         5856 non-null   float64\n",
      " 2   final.output.concentrate_pb                         5856 non-null   float64\n",
      " 3   final.output.concentrate_sol                        5856 non-null   float64\n",
      " 4   final.output.concentrate_au                         5856 non-null   float64\n",
      " 5   final.output.recovery                               5856 non-null   float64\n",
      " 6   final.output.tail_ag                                5856 non-null   float64\n",
      " 7   final.output.tail_pb                                5856 non-null   float64\n",
      " 8   final.output.tail_sol                               5856 non-null   float64\n",
      " 9   final.output.tail_au                                5856 non-null   float64\n",
      " 10  primary_cleaner.input.sulfate                       5856 non-null   float64\n",
      " 11  primary_cleaner.input.depressant                    5856 non-null   float64\n",
      " 12  primary_cleaner.input.feed_size                     5856 non-null   float64\n",
      " 13  primary_cleaner.input.xanthate                      5856 non-null   float64\n",
      " 14  primary_cleaner.output.concentrate_ag               5856 non-null   float64\n",
      " 15  primary_cleaner.output.concentrate_pb               5856 non-null   float64\n",
      " 16  primary_cleaner.output.concentrate_sol              5856 non-null   float64\n",
      " 17  primary_cleaner.output.concentrate_au               5856 non-null   float64\n",
      " 18  primary_cleaner.output.tail_ag                      5856 non-null   float64\n",
      " 19  primary_cleaner.output.tail_pb                      5856 non-null   float64\n",
      " 20  primary_cleaner.output.tail_sol                     5856 non-null   float64\n",
      " 21  primary_cleaner.output.tail_au                      5856 non-null   float64\n",
      " 22  primary_cleaner.state.floatbank8_a_air              5856 non-null   float64\n",
      " 23  primary_cleaner.state.floatbank8_a_level            5856 non-null   float64\n",
      " 24  primary_cleaner.state.floatbank8_b_air              5856 non-null   float64\n",
      " 25  primary_cleaner.state.floatbank8_b_level            5856 non-null   float64\n",
      " 26  primary_cleaner.state.floatbank8_c_air              5856 non-null   float64\n",
      " 27  primary_cleaner.state.floatbank8_c_level            5856 non-null   float64\n",
      " 28  primary_cleaner.state.floatbank8_d_air              5856 non-null   float64\n",
      " 29  primary_cleaner.state.floatbank8_d_level            5856 non-null   float64\n",
      " 30  rougher.calculation.sulfate_to_au_concentrate       5856 non-null   float64\n",
      " 31  rougher.calculation.floatbank10_sulfate_to_au_feed  5856 non-null   float64\n",
      " 32  rougher.calculation.floatbank11_sulfate_to_au_feed  5856 non-null   float64\n",
      " 33  rougher.calculation.au_pb_ratio                     5856 non-null   float64\n",
      " 34  rougher.input.feed_ag                               5856 non-null   float64\n",
      " 35  rougher.input.feed_pb                               5856 non-null   float64\n",
      " 36  rougher.input.feed_rate                             5856 non-null   float64\n",
      " 37  rougher.input.feed_size                             5856 non-null   float64\n",
      " 38  rougher.input.feed_sol                              5856 non-null   float64\n",
      " 39  rougher.input.feed_au                               5856 non-null   float64\n",
      " 40  rougher.input.floatbank10_sulfate                   5856 non-null   float64\n",
      " 41  rougher.input.floatbank10_xanthate                  5856 non-null   float64\n",
      " 42  rougher.input.floatbank11_sulfate                   5856 non-null   float64\n",
      " 43  rougher.input.floatbank11_xanthate                  5856 non-null   float64\n",
      " 44  rougher.output.concentrate_ag                       5856 non-null   float64\n",
      " 45  rougher.output.concentrate_pb                       5856 non-null   float64\n",
      " 46  rougher.output.concentrate_sol                      5856 non-null   float64\n",
      " 47  rougher.output.concentrate_au                       5856 non-null   float64\n",
      " 48  rougher.output.recovery                             5856 non-null   float64\n",
      " 49  rougher.output.tail_ag                              5856 non-null   float64\n",
      " 50  rougher.output.tail_pb                              5856 non-null   float64\n",
      " 51  rougher.output.tail_sol                             5856 non-null   float64\n",
      " 52  rougher.output.tail_au                              5856 non-null   float64\n",
      " 53  rougher.state.floatbank10_a_air                     5856 non-null   float64\n",
      " 54  rougher.state.floatbank10_a_level                   5856 non-null   float64\n",
      " 55  rougher.state.floatbank10_b_air                     5856 non-null   float64\n",
      " 56  rougher.state.floatbank10_b_level                   5856 non-null   float64\n",
      " 57  rougher.state.floatbank10_c_air                     5856 non-null   float64\n",
      " 58  rougher.state.floatbank10_c_level                   5856 non-null   float64\n",
      " 59  rougher.state.floatbank10_d_air                     5856 non-null   float64\n",
      " 60  rougher.state.floatbank10_d_level                   5856 non-null   float64\n",
      " 61  rougher.state.floatbank10_e_air                     5856 non-null   float64\n",
      " 62  rougher.state.floatbank10_e_level                   5856 non-null   float64\n",
      " 63  rougher.state.floatbank10_f_air                     5856 non-null   float64\n",
      " 64  rougher.state.floatbank10_f_level                   5856 non-null   float64\n",
      " 65  secondary_cleaner.output.tail_ag                    5856 non-null   float64\n",
      " 66  secondary_cleaner.output.tail_pb                    5856 non-null   float64\n",
      " 67  secondary_cleaner.output.tail_sol                   5856 non-null   float64\n",
      " 68  secondary_cleaner.output.tail_au                    5856 non-null   float64\n",
      " 69  secondary_cleaner.state.floatbank2_a_air            5856 non-null   float64\n",
      " 70  secondary_cleaner.state.floatbank2_a_level          5856 non-null   float64\n",
      " 71  secondary_cleaner.state.floatbank2_b_air            5856 non-null   float64\n",
      " 72  secondary_cleaner.state.floatbank2_b_level          5856 non-null   float64\n",
      " 73  secondary_cleaner.state.floatbank3_a_air            5856 non-null   float64\n",
      " 74  secondary_cleaner.state.floatbank3_a_level          5856 non-null   float64\n",
      " 75  secondary_cleaner.state.floatbank3_b_air            5856 non-null   float64\n",
      " 76  secondary_cleaner.state.floatbank3_b_level          5856 non-null   float64\n",
      " 77  secondary_cleaner.state.floatbank4_a_air            5856 non-null   float64\n",
      " 78  secondary_cleaner.state.floatbank4_a_level          5856 non-null   float64\n",
      " 79  secondary_cleaner.state.floatbank4_b_air            5856 non-null   float64\n",
      " 80  secondary_cleaner.state.floatbank4_b_level          5856 non-null   float64\n",
      " 81  secondary_cleaner.state.floatbank5_a_air            5856 non-null   float64\n",
      " 82  secondary_cleaner.state.floatbank5_a_level          5856 non-null   float64\n",
      " 83  secondary_cleaner.state.floatbank5_b_air            5856 non-null   float64\n",
      " 84  secondary_cleaner.state.floatbank5_b_level          5856 non-null   float64\n",
      " 85  secondary_cleaner.state.floatbank6_a_air            5856 non-null   float64\n",
      " 86  secondary_cleaner.state.floatbank6_a_level          5856 non-null   float64\n",
      "dtypes: float64(86), object(1)\n",
      "memory usage: 3.9+ MB\n"
     ]
    }
   ],
   "source": [
    "df_test_full = pd.DataFrame(data=df_full, index=df_test.index)\n",
    "df_test_full.dropna(inplace=True)\n",
    "df_test_full.info()"
   ]
  },
  {
   "cell_type": "code",
   "execution_count": 49,
   "metadata": {},
   "outputs": [
    {
     "name": "stdout",
     "output_type": "stream",
     "text": [
      "<class 'pandas.core.frame.DataFrame'>\n",
      "RangeIndex: 5856 entries, 0 to 5855\n",
      "Data columns (total 30 columns):\n",
      " #   Column                                      Non-Null Count  Dtype  \n",
      "---  ------                                      --------------  -----  \n",
      " 0   primary_cleaner.input.sulfate               5856 non-null   float64\n",
      " 1   primary_cleaner.state.floatbank8_b_level    5856 non-null   float64\n",
      " 2   secondary_cleaner.state.floatbank3_a_level  5856 non-null   float64\n",
      " 3   secondary_cleaner.state.floatbank4_a_level  5856 non-null   float64\n",
      " 4   primary_cleaner.state.floatbank8_d_level    5856 non-null   float64\n",
      " 5   primary_cleaner.input.depressant            5856 non-null   float64\n",
      " 6   secondary_cleaner.state.floatbank2_b_air    5856 non-null   float64\n",
      " 7   primary_cleaner.state.floatbank8_a_air      5856 non-null   float64\n",
      " 8   primary_cleaner.state.floatbank8_c_air      5856 non-null   float64\n",
      " 9   secondary_cleaner.state.floatbank6_a_air    5856 non-null   float64\n",
      " 10  secondary_cleaner.state.floatbank2_a_level  5856 non-null   float64\n",
      " 11  primary_cleaner.input.xanthate              5856 non-null   float64\n",
      " 12  primary_cleaner.state.floatbank8_d_air      5856 non-null   float64\n",
      " 13  secondary_cleaner.state.floatbank3_a_air    5856 non-null   float64\n",
      " 14  secondary_cleaner.state.floatbank5_a_level  5856 non-null   float64\n",
      " 15  secondary_cleaner.state.floatbank5_a_air    5856 non-null   float64\n",
      " 16  primary_cleaner.state.floatbank8_a_level    5856 non-null   float64\n",
      " 17  primary_cleaner.state.floatbank8_b_air      5856 non-null   float64\n",
      " 18  secondary_cleaner.state.floatbank2_a_air    5856 non-null   float64\n",
      " 19  secondary_cleaner.state.floatbank4_b_level  5856 non-null   float64\n",
      " 20  secondary_cleaner.state.floatbank5_b_level  5856 non-null   float64\n",
      " 21  secondary_cleaner.state.floatbank2_b_level  5856 non-null   float64\n",
      " 22  secondary_cleaner.state.floatbank6_a_level  5856 non-null   float64\n",
      " 23  primary_cleaner.input.feed_size             5856 non-null   float64\n",
      " 24  secondary_cleaner.state.floatbank3_b_level  5856 non-null   float64\n",
      " 25  secondary_cleaner.state.floatbank4_a_air    5856 non-null   float64\n",
      " 26  secondary_cleaner.state.floatbank3_b_air    5856 non-null   float64\n",
      " 27  secondary_cleaner.state.floatbank5_b_air    5856 non-null   float64\n",
      " 28  primary_cleaner.state.floatbank8_c_level    5856 non-null   float64\n",
      " 29  secondary_cleaner.state.floatbank4_b_air    5856 non-null   float64\n",
      "dtypes: float64(30)\n",
      "memory usage: 1.3 MB\n"
     ]
    }
   ],
   "source": [
    "df_test_final_features = df_test.loc[:, final_columns]\n",
    "df_test_final_features.info()"
   ]
  },
  {
   "cell_type": "code",
   "execution_count": 50,
   "metadata": {},
   "outputs": [
    {
     "data": {
      "text/html": [
       "<div>\n",
       "<style scoped>\n",
       "    .dataframe tbody tr th:only-of-type {\n",
       "        vertical-align: middle;\n",
       "    }\n",
       "\n",
       "    .dataframe tbody tr th {\n",
       "        vertical-align: top;\n",
       "    }\n",
       "\n",
       "    .dataframe thead th {\n",
       "        text-align: right;\n",
       "    }\n",
       "</style>\n",
       "<table border=\"1\" class=\"dataframe\">\n",
       "  <thead>\n",
       "    <tr style=\"text-align: right;\">\n",
       "      <th></th>\n",
       "      <th>date</th>\n",
       "      <th>final.output.concentrate_ag</th>\n",
       "      <th>final.output.concentrate_pb</th>\n",
       "      <th>final.output.concentrate_sol</th>\n",
       "      <th>final.output.concentrate_au</th>\n",
       "      <th>final.output.recovery</th>\n",
       "      <th>final.output.tail_ag</th>\n",
       "      <th>final.output.tail_pb</th>\n",
       "      <th>final.output.tail_sol</th>\n",
       "      <th>final.output.tail_au</th>\n",
       "      <th>...</th>\n",
       "      <th>secondary_cleaner.state.floatbank4_a_air</th>\n",
       "      <th>secondary_cleaner.state.floatbank4_a_level</th>\n",
       "      <th>secondary_cleaner.state.floatbank4_b_air</th>\n",
       "      <th>secondary_cleaner.state.floatbank4_b_level</th>\n",
       "      <th>secondary_cleaner.state.floatbank5_a_air</th>\n",
       "      <th>secondary_cleaner.state.floatbank5_a_level</th>\n",
       "      <th>secondary_cleaner.state.floatbank5_b_air</th>\n",
       "      <th>secondary_cleaner.state.floatbank5_b_level</th>\n",
       "      <th>secondary_cleaner.state.floatbank6_a_air</th>\n",
       "      <th>secondary_cleaner.state.floatbank6_a_level</th>\n",
       "    </tr>\n",
       "  </thead>\n",
       "  <tbody>\n",
       "    <tr>\n",
       "      <th>0</th>\n",
       "      <td>2016-01-15 00:00:00</td>\n",
       "      <td>6.055403</td>\n",
       "      <td>9.889648</td>\n",
       "      <td>5.507324</td>\n",
       "      <td>42.192020</td>\n",
       "      <td>70.541216</td>\n",
       "      <td>10.411962</td>\n",
       "      <td>0.895447</td>\n",
       "      <td>16.904297</td>\n",
       "      <td>2.143149</td>\n",
       "      <td>...</td>\n",
       "      <td>14.016835</td>\n",
       "      <td>-502.488007</td>\n",
       "      <td>12.099931</td>\n",
       "      <td>-504.715942</td>\n",
       "      <td>9.925633</td>\n",
       "      <td>-498.310211</td>\n",
       "      <td>8.079666</td>\n",
       "      <td>-500.470978</td>\n",
       "      <td>14.151341</td>\n",
       "      <td>-605.841980</td>\n",
       "    </tr>\n",
       "    <tr>\n",
       "      <th>1</th>\n",
       "      <td>2016-01-15 01:00:00</td>\n",
       "      <td>6.029369</td>\n",
       "      <td>9.968944</td>\n",
       "      <td>5.257781</td>\n",
       "      <td>42.701629</td>\n",
       "      <td>69.266198</td>\n",
       "      <td>10.462676</td>\n",
       "      <td>0.927452</td>\n",
       "      <td>16.634514</td>\n",
       "      <td>2.224930</td>\n",
       "      <td>...</td>\n",
       "      <td>13.992281</td>\n",
       "      <td>-505.503262</td>\n",
       "      <td>11.950531</td>\n",
       "      <td>-501.331529</td>\n",
       "      <td>10.039245</td>\n",
       "      <td>-500.169983</td>\n",
       "      <td>7.984757</td>\n",
       "      <td>-500.582168</td>\n",
       "      <td>13.998353</td>\n",
       "      <td>-599.787184</td>\n",
       "    </tr>\n",
       "    <tr>\n",
       "      <th>2</th>\n",
       "      <td>2016-01-15 02:00:00</td>\n",
       "      <td>6.055926</td>\n",
       "      <td>10.213995</td>\n",
       "      <td>5.383759</td>\n",
       "      <td>42.657501</td>\n",
       "      <td>68.116445</td>\n",
       "      <td>10.507046</td>\n",
       "      <td>0.953716</td>\n",
       "      <td>16.208849</td>\n",
       "      <td>2.257889</td>\n",
       "      <td>...</td>\n",
       "      <td>14.015015</td>\n",
       "      <td>-502.520901</td>\n",
       "      <td>11.912783</td>\n",
       "      <td>-501.133383</td>\n",
       "      <td>10.070913</td>\n",
       "      <td>-500.129135</td>\n",
       "      <td>8.013877</td>\n",
       "      <td>-500.517572</td>\n",
       "      <td>14.028663</td>\n",
       "      <td>-601.427363</td>\n",
       "    </tr>\n",
       "    <tr>\n",
       "      <th>3</th>\n",
       "      <td>2016-01-15 03:00:00</td>\n",
       "      <td>6.047977</td>\n",
       "      <td>9.977019</td>\n",
       "      <td>4.858634</td>\n",
       "      <td>42.689819</td>\n",
       "      <td>68.347543</td>\n",
       "      <td>10.422762</td>\n",
       "      <td>0.883763</td>\n",
       "      <td>16.532835</td>\n",
       "      <td>2.146849</td>\n",
       "      <td>...</td>\n",
       "      <td>14.036510</td>\n",
       "      <td>-500.857308</td>\n",
       "      <td>11.999550</td>\n",
       "      <td>-501.193686</td>\n",
       "      <td>9.970366</td>\n",
       "      <td>-499.201640</td>\n",
       "      <td>7.977324</td>\n",
       "      <td>-500.255908</td>\n",
       "      <td>14.005551</td>\n",
       "      <td>-599.996129</td>\n",
       "    </tr>\n",
       "    <tr>\n",
       "      <th>4</th>\n",
       "      <td>2016-01-15 04:00:00</td>\n",
       "      <td>6.148599</td>\n",
       "      <td>10.142511</td>\n",
       "      <td>4.939416</td>\n",
       "      <td>42.774141</td>\n",
       "      <td>66.927016</td>\n",
       "      <td>10.360302</td>\n",
       "      <td>0.792826</td>\n",
       "      <td>16.525686</td>\n",
       "      <td>2.055292</td>\n",
       "      <td>...</td>\n",
       "      <td>14.027298</td>\n",
       "      <td>-499.838632</td>\n",
       "      <td>11.953070</td>\n",
       "      <td>-501.053894</td>\n",
       "      <td>9.925709</td>\n",
       "      <td>-501.686727</td>\n",
       "      <td>7.894242</td>\n",
       "      <td>-500.356035</td>\n",
       "      <td>13.996647</td>\n",
       "      <td>-601.496691</td>\n",
       "    </tr>\n",
       "  </tbody>\n",
       "</table>\n",
       "<p>5 rows × 87 columns</p>\n",
       "</div>"
      ],
      "text/plain": [
       "                  date  final.output.concentrate_ag  \\\n",
       "0  2016-01-15 00:00:00                     6.055403   \n",
       "1  2016-01-15 01:00:00                     6.029369   \n",
       "2  2016-01-15 02:00:00                     6.055926   \n",
       "3  2016-01-15 03:00:00                     6.047977   \n",
       "4  2016-01-15 04:00:00                     6.148599   \n",
       "\n",
       "   final.output.concentrate_pb  final.output.concentrate_sol  \\\n",
       "0                     9.889648                      5.507324   \n",
       "1                     9.968944                      5.257781   \n",
       "2                    10.213995                      5.383759   \n",
       "3                     9.977019                      4.858634   \n",
       "4                    10.142511                      4.939416   \n",
       "\n",
       "   final.output.concentrate_au  final.output.recovery  final.output.tail_ag  \\\n",
       "0                    42.192020              70.541216             10.411962   \n",
       "1                    42.701629              69.266198             10.462676   \n",
       "2                    42.657501              68.116445             10.507046   \n",
       "3                    42.689819              68.347543             10.422762   \n",
       "4                    42.774141              66.927016             10.360302   \n",
       "\n",
       "   final.output.tail_pb  final.output.tail_sol  final.output.tail_au  ...  \\\n",
       "0              0.895447              16.904297              2.143149  ...   \n",
       "1              0.927452              16.634514              2.224930  ...   \n",
       "2              0.953716              16.208849              2.257889  ...   \n",
       "3              0.883763              16.532835              2.146849  ...   \n",
       "4              0.792826              16.525686              2.055292  ...   \n",
       "\n",
       "   secondary_cleaner.state.floatbank4_a_air  \\\n",
       "0                                 14.016835   \n",
       "1                                 13.992281   \n",
       "2                                 14.015015   \n",
       "3                                 14.036510   \n",
       "4                                 14.027298   \n",
       "\n",
       "   secondary_cleaner.state.floatbank4_a_level  \\\n",
       "0                                 -502.488007   \n",
       "1                                 -505.503262   \n",
       "2                                 -502.520901   \n",
       "3                                 -500.857308   \n",
       "4                                 -499.838632   \n",
       "\n",
       "   secondary_cleaner.state.floatbank4_b_air  \\\n",
       "0                                 12.099931   \n",
       "1                                 11.950531   \n",
       "2                                 11.912783   \n",
       "3                                 11.999550   \n",
       "4                                 11.953070   \n",
       "\n",
       "   secondary_cleaner.state.floatbank4_b_level  \\\n",
       "0                                 -504.715942   \n",
       "1                                 -501.331529   \n",
       "2                                 -501.133383   \n",
       "3                                 -501.193686   \n",
       "4                                 -501.053894   \n",
       "\n",
       "   secondary_cleaner.state.floatbank5_a_air  \\\n",
       "0                                  9.925633   \n",
       "1                                 10.039245   \n",
       "2                                 10.070913   \n",
       "3                                  9.970366   \n",
       "4                                  9.925709   \n",
       "\n",
       "   secondary_cleaner.state.floatbank5_a_level  \\\n",
       "0                                 -498.310211   \n",
       "1                                 -500.169983   \n",
       "2                                 -500.129135   \n",
       "3                                 -499.201640   \n",
       "4                                 -501.686727   \n",
       "\n",
       "   secondary_cleaner.state.floatbank5_b_air  \\\n",
       "0                                  8.079666   \n",
       "1                                  7.984757   \n",
       "2                                  8.013877   \n",
       "3                                  7.977324   \n",
       "4                                  7.894242   \n",
       "\n",
       "   secondary_cleaner.state.floatbank5_b_level  \\\n",
       "0                                 -500.470978   \n",
       "1                                 -500.582168   \n",
       "2                                 -500.517572   \n",
       "3                                 -500.255908   \n",
       "4                                 -500.356035   \n",
       "\n",
       "   secondary_cleaner.state.floatbank6_a_air  \\\n",
       "0                                 14.151341   \n",
       "1                                 13.998353   \n",
       "2                                 14.028663   \n",
       "3                                 14.005551   \n",
       "4                                 13.996647   \n",
       "\n",
       "   secondary_cleaner.state.floatbank6_a_level  \n",
       "0                                 -605.841980  \n",
       "1                                 -599.787184  \n",
       "2                                 -601.427363  \n",
       "3                                 -599.996129  \n",
       "4                                 -601.496691  \n",
       "\n",
       "[5 rows x 87 columns]"
      ]
     },
     "execution_count": 50,
     "metadata": {},
     "output_type": "execute_result"
    }
   ],
   "source": [
    "df_full = df_full[(df_full['rougher.input.feed_au'] !=0) & \n",
    "         (df_full['rougher.output.concentrate_au'] !=0) &\n",
    "         (df_full['primary_cleaner.output.concentrate_au'] !=0) &\n",
    "         (df_full['final.output.concentrate_au'] != 0)]\n",
    "df_full.head()"
   ]
  },
  {
   "cell_type": "code",
   "execution_count": 51,
   "metadata": {},
   "outputs": [
    {
     "name": "stdout",
     "output_type": "stream",
     "text": [
      "<class 'pandas.core.frame.DataFrame'>\n",
      "Int64Index: 5181 entries, 0 to 5855\n",
      "Data columns (total 87 columns):\n",
      " #   Column                                              Non-Null Count  Dtype  \n",
      "---  ------                                              --------------  -----  \n",
      " 0   date                                                5181 non-null   object \n",
      " 1   final.output.concentrate_ag                         5181 non-null   float64\n",
      " 2   final.output.concentrate_pb                         5181 non-null   float64\n",
      " 3   final.output.concentrate_sol                        5181 non-null   float64\n",
      " 4   final.output.concentrate_au                         5181 non-null   float64\n",
      " 5   final.output.recovery                               5181 non-null   float64\n",
      " 6   final.output.tail_ag                                5181 non-null   float64\n",
      " 7   final.output.tail_pb                                5181 non-null   float64\n",
      " 8   final.output.tail_sol                               5181 non-null   float64\n",
      " 9   final.output.tail_au                                5181 non-null   float64\n",
      " 10  primary_cleaner.input.sulfate                       5181 non-null   float64\n",
      " 11  primary_cleaner.input.depressant                    5181 non-null   float64\n",
      " 12  primary_cleaner.input.feed_size                     5181 non-null   float64\n",
      " 13  primary_cleaner.input.xanthate                      5181 non-null   float64\n",
      " 14  primary_cleaner.output.concentrate_ag               5181 non-null   float64\n",
      " 15  primary_cleaner.output.concentrate_pb               5181 non-null   float64\n",
      " 16  primary_cleaner.output.concentrate_sol              5181 non-null   float64\n",
      " 17  primary_cleaner.output.concentrate_au               5181 non-null   float64\n",
      " 18  primary_cleaner.output.tail_ag                      5181 non-null   float64\n",
      " 19  primary_cleaner.output.tail_pb                      5181 non-null   float64\n",
      " 20  primary_cleaner.output.tail_sol                     5181 non-null   float64\n",
      " 21  primary_cleaner.output.tail_au                      5181 non-null   float64\n",
      " 22  primary_cleaner.state.floatbank8_a_air              5181 non-null   float64\n",
      " 23  primary_cleaner.state.floatbank8_a_level            5181 non-null   float64\n",
      " 24  primary_cleaner.state.floatbank8_b_air              5181 non-null   float64\n",
      " 25  primary_cleaner.state.floatbank8_b_level            5181 non-null   float64\n",
      " 26  primary_cleaner.state.floatbank8_c_air              5181 non-null   float64\n",
      " 27  primary_cleaner.state.floatbank8_c_level            5181 non-null   float64\n",
      " 28  primary_cleaner.state.floatbank8_d_air              5181 non-null   float64\n",
      " 29  primary_cleaner.state.floatbank8_d_level            5181 non-null   float64\n",
      " 30  rougher.calculation.sulfate_to_au_concentrate       5181 non-null   float64\n",
      " 31  rougher.calculation.floatbank10_sulfate_to_au_feed  5181 non-null   float64\n",
      " 32  rougher.calculation.floatbank11_sulfate_to_au_feed  5181 non-null   float64\n",
      " 33  rougher.calculation.au_pb_ratio                     5181 non-null   float64\n",
      " 34  rougher.input.feed_ag                               5181 non-null   float64\n",
      " 35  rougher.input.feed_pb                               5181 non-null   float64\n",
      " 36  rougher.input.feed_rate                             5181 non-null   float64\n",
      " 37  rougher.input.feed_size                             5181 non-null   float64\n",
      " 38  rougher.input.feed_sol                              5181 non-null   float64\n",
      " 39  rougher.input.feed_au                               5181 non-null   float64\n",
      " 40  rougher.input.floatbank10_sulfate                   5181 non-null   float64\n",
      " 41  rougher.input.floatbank10_xanthate                  5181 non-null   float64\n",
      " 42  rougher.input.floatbank11_sulfate                   5181 non-null   float64\n",
      " 43  rougher.input.floatbank11_xanthate                  5181 non-null   float64\n",
      " 44  rougher.output.concentrate_ag                       5181 non-null   float64\n",
      " 45  rougher.output.concentrate_pb                       5181 non-null   float64\n",
      " 46  rougher.output.concentrate_sol                      5181 non-null   float64\n",
      " 47  rougher.output.concentrate_au                       5181 non-null   float64\n",
      " 48  rougher.output.recovery                             5181 non-null   float64\n",
      " 49  rougher.output.tail_ag                              5181 non-null   float64\n",
      " 50  rougher.output.tail_pb                              5181 non-null   float64\n",
      " 51  rougher.output.tail_sol                             5181 non-null   float64\n",
      " 52  rougher.output.tail_au                              5181 non-null   float64\n",
      " 53  rougher.state.floatbank10_a_air                     5181 non-null   float64\n",
      " 54  rougher.state.floatbank10_a_level                   5181 non-null   float64\n",
      " 55  rougher.state.floatbank10_b_air                     5181 non-null   float64\n",
      " 56  rougher.state.floatbank10_b_level                   5181 non-null   float64\n",
      " 57  rougher.state.floatbank10_c_air                     5181 non-null   float64\n",
      " 58  rougher.state.floatbank10_c_level                   5181 non-null   float64\n",
      " 59  rougher.state.floatbank10_d_air                     5181 non-null   float64\n",
      " 60  rougher.state.floatbank10_d_level                   5181 non-null   float64\n",
      " 61  rougher.state.floatbank10_e_air                     5181 non-null   float64\n",
      " 62  rougher.state.floatbank10_e_level                   5181 non-null   float64\n",
      " 63  rougher.state.floatbank10_f_air                     5181 non-null   float64\n",
      " 64  rougher.state.floatbank10_f_level                   5181 non-null   float64\n",
      " 65  secondary_cleaner.output.tail_ag                    5181 non-null   float64\n",
      " 66  secondary_cleaner.output.tail_pb                    5181 non-null   float64\n",
      " 67  secondary_cleaner.output.tail_sol                   5181 non-null   float64\n",
      " 68  secondary_cleaner.output.tail_au                    5181 non-null   float64\n",
      " 69  secondary_cleaner.state.floatbank2_a_air            5181 non-null   float64\n",
      " 70  secondary_cleaner.state.floatbank2_a_level          5181 non-null   float64\n",
      " 71  secondary_cleaner.state.floatbank2_b_air            5181 non-null   float64\n",
      " 72  secondary_cleaner.state.floatbank2_b_level          5181 non-null   float64\n",
      " 73  secondary_cleaner.state.floatbank3_a_air            5181 non-null   float64\n",
      " 74  secondary_cleaner.state.floatbank3_a_level          5181 non-null   float64\n",
      " 75  secondary_cleaner.state.floatbank3_b_air            5181 non-null   float64\n",
      " 76  secondary_cleaner.state.floatbank3_b_level          5181 non-null   float64\n",
      " 77  secondary_cleaner.state.floatbank4_a_air            5181 non-null   float64\n",
      " 78  secondary_cleaner.state.floatbank4_a_level          5181 non-null   float64\n",
      " 79  secondary_cleaner.state.floatbank4_b_air            5181 non-null   float64\n",
      " 80  secondary_cleaner.state.floatbank4_b_level          5181 non-null   float64\n",
      " 81  secondary_cleaner.state.floatbank5_a_air            5181 non-null   float64\n",
      " 82  secondary_cleaner.state.floatbank5_a_level          5181 non-null   float64\n",
      " 83  secondary_cleaner.state.floatbank5_b_air            5181 non-null   float64\n",
      " 84  secondary_cleaner.state.floatbank5_b_level          5181 non-null   float64\n",
      " 85  secondary_cleaner.state.floatbank6_a_air            5181 non-null   float64\n",
      " 86  secondary_cleaner.state.floatbank6_a_level          5181 non-null   float64\n",
      "dtypes: float64(86), object(1)\n",
      "memory usage: 3.5+ MB\n"
     ]
    }
   ],
   "source": [
    "df_test_full = pd.DataFrame(data=df_full, index=df_test.index)\n",
    "df_test_full.dropna(inplace=True)\n",
    "df_test_full.info()"
   ]
  },
  {
   "cell_type": "code",
   "execution_count": 52,
   "metadata": {},
   "outputs": [],
   "source": [
    "df_test_rougher_features = pd.DataFrame(data=df_test_rougher_features, index=df_test_full.index)\n",
    "df_test_final_features = pd.DataFrame(data=df_test_final_features, index=df_test_full.index)"
   ]
  },
  {
   "cell_type": "code",
   "execution_count": 53,
   "metadata": {
    "scrolled": true
   },
   "outputs": [
    {
     "name": "stdout",
     "output_type": "stream",
     "text": [
      "<class 'pandas.core.frame.DataFrame'>\n",
      "Int64Index: 5181 entries, 0 to 5855\n",
      "Data columns (total 22 columns):\n",
      " #   Column                              Non-Null Count  Dtype  \n",
      "---  ------                              --------------  -----  \n",
      " 0   rougher.input.feed_ag               5181 non-null   float64\n",
      " 1   rougher.input.feed_pb               5181 non-null   float64\n",
      " 2   rougher.input.feed_rate             5181 non-null   float64\n",
      " 3   rougher.input.feed_size             5181 non-null   float64\n",
      " 4   rougher.input.feed_sol              5181 non-null   float64\n",
      " 5   rougher.input.feed_au               5181 non-null   float64\n",
      " 6   rougher.input.floatbank10_sulfate   5181 non-null   float64\n",
      " 7   rougher.input.floatbank10_xanthate  5181 non-null   float64\n",
      " 8   rougher.input.floatbank11_sulfate   5181 non-null   float64\n",
      " 9   rougher.input.floatbank11_xanthate  5181 non-null   float64\n",
      " 10  rougher.state.floatbank10_a_air     5181 non-null   float64\n",
      " 11  rougher.state.floatbank10_a_level   5181 non-null   float64\n",
      " 12  rougher.state.floatbank10_b_air     5181 non-null   float64\n",
      " 13  rougher.state.floatbank10_b_level   5181 non-null   float64\n",
      " 14  rougher.state.floatbank10_c_air     5181 non-null   float64\n",
      " 15  rougher.state.floatbank10_c_level   5181 non-null   float64\n",
      " 16  rougher.state.floatbank10_d_air     5181 non-null   float64\n",
      " 17  rougher.state.floatbank10_d_level   5181 non-null   float64\n",
      " 18  rougher.state.floatbank10_e_air     5181 non-null   float64\n",
      " 19  rougher.state.floatbank10_e_level   5181 non-null   float64\n",
      " 20  rougher.state.floatbank10_f_air     5181 non-null   float64\n",
      " 21  rougher.state.floatbank10_f_level   5181 non-null   float64\n",
      "dtypes: float64(22)\n",
      "memory usage: 931.0 KB\n"
     ]
    }
   ],
   "source": [
    "df_test_rougher_features.info()"
   ]
  },
  {
   "cell_type": "code",
   "execution_count": 54,
   "metadata": {},
   "outputs": [
    {
     "name": "stdout",
     "output_type": "stream",
     "text": [
      "<class 'pandas.core.frame.DataFrame'>\n",
      "Int64Index: 5181 entries, 0 to 5855\n",
      "Data columns (total 30 columns):\n",
      " #   Column                                      Non-Null Count  Dtype  \n",
      "---  ------                                      --------------  -----  \n",
      " 0   primary_cleaner.input.sulfate               5181 non-null   float64\n",
      " 1   primary_cleaner.state.floatbank8_b_level    5181 non-null   float64\n",
      " 2   secondary_cleaner.state.floatbank3_a_level  5181 non-null   float64\n",
      " 3   secondary_cleaner.state.floatbank4_a_level  5181 non-null   float64\n",
      " 4   primary_cleaner.state.floatbank8_d_level    5181 non-null   float64\n",
      " 5   primary_cleaner.input.depressant            5181 non-null   float64\n",
      " 6   secondary_cleaner.state.floatbank2_b_air    5181 non-null   float64\n",
      " 7   primary_cleaner.state.floatbank8_a_air      5181 non-null   float64\n",
      " 8   primary_cleaner.state.floatbank8_c_air      5181 non-null   float64\n",
      " 9   secondary_cleaner.state.floatbank6_a_air    5181 non-null   float64\n",
      " 10  secondary_cleaner.state.floatbank2_a_level  5181 non-null   float64\n",
      " 11  primary_cleaner.input.xanthate              5181 non-null   float64\n",
      " 12  primary_cleaner.state.floatbank8_d_air      5181 non-null   float64\n",
      " 13  secondary_cleaner.state.floatbank3_a_air    5181 non-null   float64\n",
      " 14  secondary_cleaner.state.floatbank5_a_level  5181 non-null   float64\n",
      " 15  secondary_cleaner.state.floatbank5_a_air    5181 non-null   float64\n",
      " 16  primary_cleaner.state.floatbank8_a_level    5181 non-null   float64\n",
      " 17  primary_cleaner.state.floatbank8_b_air      5181 non-null   float64\n",
      " 18  secondary_cleaner.state.floatbank2_a_air    5181 non-null   float64\n",
      " 19  secondary_cleaner.state.floatbank4_b_level  5181 non-null   float64\n",
      " 20  secondary_cleaner.state.floatbank5_b_level  5181 non-null   float64\n",
      " 21  secondary_cleaner.state.floatbank2_b_level  5181 non-null   float64\n",
      " 22  secondary_cleaner.state.floatbank6_a_level  5181 non-null   float64\n",
      " 23  primary_cleaner.input.feed_size             5181 non-null   float64\n",
      " 24  secondary_cleaner.state.floatbank3_b_level  5181 non-null   float64\n",
      " 25  secondary_cleaner.state.floatbank4_a_air    5181 non-null   float64\n",
      " 26  secondary_cleaner.state.floatbank3_b_air    5181 non-null   float64\n",
      " 27  secondary_cleaner.state.floatbank5_b_air    5181 non-null   float64\n",
      " 28  primary_cleaner.state.floatbank8_c_level    5181 non-null   float64\n",
      " 29  secondary_cleaner.state.floatbank4_b_air    5181 non-null   float64\n",
      "dtypes: float64(30)\n",
      "memory usage: 1.2 MB\n"
     ]
    }
   ],
   "source": [
    "df_test_final_features.info()"
   ]
  },
  {
   "cell_type": "code",
   "execution_count": 55,
   "metadata": {},
   "outputs": [
    {
     "name": "stdout",
     "output_type": "stream",
     "text": [
      "<class 'pandas.core.frame.DataFrame'>\n",
      "Int64Index: 5181 entries, 0 to 5855\n",
      "Data columns (total 2 columns):\n",
      " #   Column                   Non-Null Count  Dtype  \n",
      "---  ------                   --------------  -----  \n",
      " 0   rougher.output.recovery  5181 non-null   float64\n",
      " 1   final.output.recovery    5181 non-null   float64\n",
      "dtypes: float64(2)\n",
      "memory usage: 121.4 KB\n"
     ]
    }
   ],
   "source": [
    "df_test_target = df_test_full.loc[:, ['rougher.output.recovery', 'final.output.recovery']]\n",
    "df_test_target.info()"
   ]
  },
  {
   "cell_type": "markdown",
   "metadata": {},
   "source": [
    "## Модель"
   ]
  },
  {
   "cell_type": "markdown",
   "metadata": {},
   "source": [
    "<div class=\"alert alert-block alert-success\">\n",
    "<b>✔️ Комментарий ревьюера v2:</b>\n",
    "Спасибо, два недочёта исправлено. Понимаю, что возникают сложности с проектом. Поэтому предлагаю программу минимум. Использовать две модели: линейная регрессия и случайный лес. Оценить их при помощи cross_validation_score. Выбрать наилучшую. И проверить затем проверить её эффективность на тестовой выборке. Если получишь sMAPE меньше 12 процентов, то гуд.\n",
    "</div>\n",
    "<font color='blue'><b>Но нужно кое-что поправить и добавить, решил собрать всё в одни список:</b></font>\n",
    "<div class=\"alert alert-block alert-danger\">\n",
    "<ul>1) Использовать линейную регрессию и случайный лес</ul>\n",
    "<ul>2) Оценить их с помощью cross_validation_score</ul>\n",
    "<ul>3) Получить sMAPE меньше 12 процентов на тестовой выборке</ul>\n",
    "</div>\n",
    "\n",
    "<font color='blue'><b>Уверен, что ты справишься, буду ждать твою работу</b></font>"
   ]
  },
  {
   "cell_type": "code",
   "execution_count": 56,
   "metadata": {},
   "outputs": [],
   "source": [
    "def data_to_StandardScaler(data):\n",
    "    sc = StandardScaler()\n",
    "    data = sc.fit_transform(data)\n",
    "    return data"
   ]
  },
  {
   "cell_type": "code",
   "execution_count": 57,
   "metadata": {},
   "outputs": [],
   "source": [
    "df_train_rougher_features = data_to_StandardScaler(df_train_rougher_features)\n",
    "df_train_final_features = data_to_StandardScaler(df_train_final_features)\n",
    "\n",
    "df_test_rougher_features = data_to_StandardScaler(df_test_rougher_features)\n",
    "df_test_final_features = data_to_StandardScaler(df_test_final_features)"
   ]
  },
  {
   "cell_type": "markdown",
   "metadata": {},
   "source": [
    "Выполнил масштабирование путем стандартизации данных с использованием StandardScaler\n",
    "Преобразовал данные функцией transform() и написал функцию data_to_StandardScaler(data)"
   ]
  },
  {
   "cell_type": "code",
   "execution_count": 58,
   "metadata": {},
   "outputs": [],
   "source": [
    "linear_model = LinearRegression()\n",
    "random_forest_model = RandomForestRegressor(random_state=12345)"
   ]
  },
  {
   "cell_type": "markdown",
   "metadata": {},
   "source": [
    "Использую 2 модели Линейную регрессию и случайный лес"
   ]
  },
  {
   "cell_type": "code",
   "execution_count": 59,
   "metadata": {},
   "outputs": [
    {
     "data": {
      "text/plain": [
       "dict_keys(['bootstrap', 'ccp_alpha', 'criterion', 'max_depth', 'max_features', 'max_leaf_nodes', 'max_samples', 'min_impurity_decrease', 'min_impurity_split', 'min_samples_leaf', 'min_samples_split', 'min_weight_fraction_leaf', 'n_estimators', 'n_jobs', 'oob_score', 'random_state', 'verbose', 'warm_start'])"
      ]
     },
     "execution_count": 59,
     "metadata": {},
     "output_type": "execute_result"
    }
   ],
   "source": [
    "random_forest_model.get_params().keys()"
   ]
  },
  {
   "cell_type": "code",
   "execution_count": 74,
   "metadata": {},
   "outputs": [],
   "source": [
    "parameters_grid = {\n",
    "    'n_estimators' : range(1, 100, 25),\n",
    "    'max_depth' : range(1, 6)\n",
    "}"
   ]
  },
  {
   "cell_type": "markdown",
   "metadata": {},
   "source": [
    "Использовал гиперпараметры и создал словарь гиперпараметров"
   ]
  },
  {
   "cell_type": "code",
   "execution_count": 75,
   "metadata": {},
   "outputs": [],
   "source": [
    "def sMAPE(predict, target):\n",
    "    sMAPE = (abs(target - predict) / ((abs(target) + abs(predict)) / 2)).mean() * 100\n",
    "    return sMAPE"
   ]
  },
  {
   "cell_type": "markdown",
   "metadata": {},
   "source": [
    "Буду использовать стратегию кросс-валидации для подбора оптимальных параметров"
   ]
  },
  {
   "cell_type": "code",
   "execution_count": 76,
   "metadata": {},
   "outputs": [],
   "source": [
    "cv = ShuffleSplit(n_splits=3, test_size=0.3, random_state=12345)"
   ]
  },
  {
   "cell_type": "code",
   "execution_count": 77,
   "metadata": {},
   "outputs": [],
   "source": [
    "score = make_scorer(sMAPE, greater_is_better=False)"
   ]
  },
  {
   "cell_type": "code",
   "execution_count": 78,
   "metadata": {},
   "outputs": [],
   "source": [
    "grid_cv = GridSearchCV(random_forest_model, parameters_grid, scoring=score, cv=cv)"
   ]
  },
  {
   "cell_type": "markdown",
   "metadata": {},
   "source": [
    "Запущу подбор оптимальных параметров для rougher_features"
   ]
  },
  {
   "cell_type": "code",
   "execution_count": 79,
   "metadata": {},
   "outputs": [
    {
     "name": "stdout",
     "output_type": "stream",
     "text": [
      "CPU times: user 1min 35s, sys: 73.5 ms, total: 1min 35s\n",
      "Wall time: 1min 36s\n"
     ]
    },
    {
     "data": {
      "text/plain": [
       "GridSearchCV(cv=ShuffleSplit(n_splits=3, random_state=12345, test_size=0.3, train_size=None),\n",
       "             estimator=RandomForestRegressor(random_state=12345),\n",
       "             param_grid={'max_depth': range(1, 6),\n",
       "                         'n_estimators': range(1, 100, 25)},\n",
       "             scoring=make_scorer(sMAPE, greater_is_better=False))"
      ]
     },
     "execution_count": 79,
     "metadata": {},
     "output_type": "execute_result"
    }
   ],
   "source": [
    "%%time\n",
    "grid_cv.fit(df_train_rougher_features, df_train_target['rougher.output.recovery'])"
   ]
  },
  {
   "cell_type": "code",
   "execution_count": 80,
   "metadata": {},
   "outputs": [
    {
     "name": "stdout",
     "output_type": "stream",
     "text": [
      "-5.663545826436608\n",
      "{'max_depth': 5, 'n_estimators': 76}\n"
     ]
    }
   ],
   "source": [
    "print(grid_cv.best_score_)\n",
    "print(grid_cv.best_params_)"
   ]
  },
  {
   "cell_type": "markdown",
   "metadata": {},
   "source": [
    "Запущу подбор оптимальных параметров для final_features"
   ]
  },
  {
   "cell_type": "code",
   "execution_count": 81,
   "metadata": {},
   "outputs": [
    {
     "name": "stdout",
     "output_type": "stream",
     "text": [
      "CPU times: user 2min 12s, sys: 81.8 ms, total: 2min 12s\n",
      "Wall time: 2min 14s\n"
     ]
    },
    {
     "data": {
      "text/plain": [
       "GridSearchCV(cv=ShuffleSplit(n_splits=3, random_state=12345, test_size=0.3, train_size=None),\n",
       "             estimator=RandomForestRegressor(random_state=12345),\n",
       "             param_grid={'max_depth': range(1, 6),\n",
       "                         'n_estimators': range(1, 100, 25)},\n",
       "             scoring=make_scorer(sMAPE, greater_is_better=False))"
      ]
     },
     "execution_count": 81,
     "metadata": {},
     "output_type": "execute_result"
    }
   ],
   "source": [
    "%%time\n",
    "grid_cv.fit(df_train_final_features, df_train_target['final.output.recovery'])"
   ]
  },
  {
   "cell_type": "code",
   "execution_count": 82,
   "metadata": {},
   "outputs": [
    {
     "name": "stdout",
     "output_type": "stream",
     "text": [
      "-8.731567033329528\n",
      "{'max_depth': 5, 'n_estimators': 76}\n"
     ]
    }
   ],
   "source": [
    "print(grid_cv.best_score_)\n",
    "print(grid_cv.best_params_)"
   ]
  },
  {
   "cell_type": "markdown",
   "metadata": {},
   "source": [
    "Полученные значения гиперпараметров буду использовать для вычисления итоговой метрики sMAPE\n",
    "\n",
    "Напишу функцию для расчёта итогового sMAPE:"
   ]
  },
  {
   "cell_type": "code",
   "execution_count": 83,
   "metadata": {},
   "outputs": [],
   "source": [
    "def sMAPE(predict, target):\n",
    "    sMAPE = (abs(target - predict) / ((abs(target) + abs(predict)) / 2)).mean() * 100\n",
    "    return sMAPE"
   ]
  },
  {
   "cell_type": "code",
   "execution_count": 84,
   "metadata": {},
   "outputs": [],
   "source": [
    "def train_cross_val_predicts_and_total_sMAPE(model):\n",
    "    rouger_predict = cross_val_predict(model, df_train_rougher_features, df_train_target['rougher.output.recovery'], cv=3)\n",
    "    final_predict = cross_val_predict(model, df_train_final_features, df_train_target['final.output.recovery'], cv=3)\n",
    "    rouger_sMAPE = sMAPE(rouger_predict, df_train_target['rougher.output.recovery'])\n",
    "    final_sMAPE = sMAPE(final_predict, df_train_target['final.output.recovery'])\n",
    "    total_sMAPE = .25 * rouger_sMAPE + .75 * final_sMAPE\n",
    "    print('sMAPE для rougher.output.recovery:', rouger_sMAPE)\n",
    "    print('sMAPE для final.output.recovery:', final_sMAPE)\n",
    "    print('Итоговое sMAPE:', total_sMAPE)\n",
    "    return "
   ]
  },
  {
   "cell_type": "code",
   "execution_count": 85,
   "metadata": {},
   "outputs": [],
   "source": [
    "def test_predicts_and_total_sMAPE(model):\n",
    "    model.fit(df_train_rougher_features, df_train_target['rougher.output.recovery'])\n",
    "    rouger_predict = model.predict(df_test_rougher_features)\n",
    "    \n",
    "    model.fit(df_train_final_features, df_train_target['final.output.recovery'])\n",
    "    final_predict = model.predict(df_test_final_features)\n",
    "    \n",
    "    rouger_sMAPE = sMAPE(rouger_predict, df_test_target['rougher.output.recovery'])\n",
    "    final_sMAPE = sMAPE(final_predict, df_test_target['final.output.recovery'])\n",
    "    total_sMAPE = .25 * rouger_sMAPE + .75 * final_sMAPE\n",
    "    print('sMAPE для rougher.output.recovery: {:.2f} %'.format(rouger_sMAPE))\n",
    "    print('sMAPE для final.output.recovery: {:.2f} %'.format(final_sMAPE))\n",
    "    print('Итоговое sMAPE: {:.2f} %'.format(total_sMAPE))\n",
    "    return rouger_predict, final_predict"
   ]
  },
  {
   "cell_type": "markdown",
   "metadata": {},
   "source": [
    "train_cross_val_predicts_and_total_sMAPE(model) - осуществляет проверку на обучающей выборке\n",
    "test_predicts_and_total_sMAPE(model) - осуществляет проверку лучшей модели на тестовой выборке"
   ]
  },
  {
   "cell_type": "markdown",
   "metadata": {},
   "source": [
    "Значения для Линейной Регрессии"
   ]
  },
  {
   "cell_type": "code",
   "execution_count": 86,
   "metadata": {},
   "outputs": [
    {
     "name": "stdout",
     "output_type": "stream",
     "text": [
      "sMAPE для rougher.output.recovery: 9.919366046242072\n",
      "sMAPE для final.output.recovery: 14.132511559031666\n",
      "Итоговое sMAPE: 13.079225180834268\n"
     ]
    }
   ],
   "source": [
    "train_cross_val_predicts_and_total_sMAPE(linear_model)"
   ]
  },
  {
   "cell_type": "markdown",
   "metadata": {},
   "source": [
    "Значения для Случайного леса"
   ]
  },
  {
   "cell_type": "code",
   "execution_count": 87,
   "metadata": {},
   "outputs": [
    {
     "name": "stdout",
     "output_type": "stream",
     "text": [
      "sMAPE для rougher.output.recovery: 9.06044271376823\n",
      "sMAPE для final.output.recovery: 13.052810028223144\n",
      "Итоговое sMAPE: 12.054718199609416\n"
     ]
    }
   ],
   "source": [
    "random_forest_model_1 = RandomForestRegressor(max_depth=5, n_estimators=100, random_state=12345)\n",
    "train_cross_val_predicts_and_total_sMAPE(random_forest_model_1)"
   ]
  },
  {
   "cell_type": "code",
   "execution_count": 88,
   "metadata": {},
   "outputs": [
    {
     "name": "stdout",
     "output_type": "stream",
     "text": [
      "sMAPE для rougher.output.recovery: 9.044270687874201\n",
      "sMAPE для final.output.recovery: 12.986996135162263\n",
      "Итоговое sMAPE: 12.001314773340248\n"
     ]
    }
   ],
   "source": [
    "random_forest_model_2 = RandomForestRegressor(max_depth=5, n_estimators=75, random_state=12345)\n",
    "train_cross_val_predicts_and_total_sMAPE(random_forest_model_2)"
   ]
  },
  {
   "cell_type": "code",
   "execution_count": 89,
   "metadata": {},
   "outputs": [
    {
     "name": "stdout",
     "output_type": "stream",
     "text": [
      "sMAPE для rougher.output.recovery: 11.28 %\n",
      "sMAPE для final.output.recovery: 11.95 %\n",
      "Итоговое sMAPE: 11.78 %\n"
     ]
    }
   ],
   "source": [
    "rouger_predict, final_predict = test_predicts_and_total_sMAPE(random_forest_model_2)"
   ]
  },
  {
   "cell_type": "markdown",
   "metadata": {},
   "source": [
    "Для проверки модели на адекватность сравню с моделью, которая всегда предсказывает случайные значение используя DummyClassifier"
   ]
  },
  {
   "cell_type": "code",
   "execution_count": 90,
   "metadata": {},
   "outputs": [],
   "source": [
    "dummy_model = DummyClassifier(strategy='uniform', random_state=12345)"
   ]
  },
  {
   "cell_type": "code",
   "execution_count": 91,
   "metadata": {},
   "outputs": [
    {
     "name": "stdout",
     "output_type": "stream",
     "text": [
      "sMAPE для rougher.output.recovery: 12.63 %\n",
      "sMAPE для final.output.recovery: 15.31 %\n",
      "Итоговое sMAPE: 14.64 %\n"
     ]
    },
    {
     "data": {
      "text/plain": [
       "(array([81.83124604, 91.46302925, 77.23704509, ..., 89.56083941,\n",
       "        91.79078642, 81.83124604]),\n",
       " array([64.14348186, 73.70974251, 59.26160933, ..., 65.6409951 ,\n",
       "        72.63481463, 59.76894464]))"
      ]
     },
     "execution_count": 91,
     "metadata": {},
     "output_type": "execute_result"
    }
   ],
   "source": [
    "test_predicts_and_total_sMAPE(dummy_model)"
   ]
  },
  {
   "cell_type": "markdown",
   "metadata": {},
   "source": [
    "# Общий вывод"
   ]
  },
  {
   "cell_type": "markdown",
   "metadata": {},
   "source": [
    "<div class=\"alert alert-block alert-info\">\n",
    "   \n",
    "    1. Была выполнена подготовка данных к исследованю в ходе первого этапа работы.\n",
    "    2. В ходе анализа двнных было выявлено, что размеры гранул сырья на обучающей и тестовой выборках не сильно отличаются друг от друга, что в свою очередь не окажет существенного влияния на построение модели.\n",
    "    3.В данных присутствовала нулевая концентрация, что считается аномалиями. От них пришлось избавиться с целью качественного обучения модели.\n",
    "    4.  В работе использовались две модели: линейная регрессия и случайный лес. Из них была выбрана наилучшая: random_forest_model_2 c результатом Итоговое sMAPE: 11.78 %.\n",
    "    5. Модель подходит для предсказания коэффициента восстановления золота из золотосодержащей руды, как для чернового концентрата, так и финального концентрата\n",
    "    6. Модель поможет оптимизировать производство, и заранее предсказывать, если предприятие будет с убыточными характеристиками.\n",
    "</div>"
   ]
  },
  {
   "cell_type": "markdown",
   "metadata": {},
   "source": [
    "## Чек-лист готовности проекта"
   ]
  },
  {
   "cell_type": "markdown",
   "metadata": {},
   "source": [
    "- [x]  Jupyter Notebook открыт\n",
    "- [x]  Весь код выполняется без ошибок\n",
    "- [x]  Ячейки с кодом расположены в порядке выполнения\n",
    "- [x]  Выполнен шаг 1: данные подготовлены\n",
    "    - [x]  Проверена формула вычисления эффективности обогащения\n",
    "    - [x]  Проанализированы признаки, недоступные в тестовой выборке\n",
    "    - [x]  Проведена предобработка данных\n",
    "- [x]  Выполнен шаг 2: данные проанализированы\n",
    "    - [x]  Исследовано изменение концентрации элементов на каждом этапе\n",
    "    - [x]  Проанализированы распределения размеров гранул на обучающей и тестовой выборках\n",
    "    - [x]  Исследованы суммарные концентрации\n",
    "- [x]  Выполнен шаг 3: построена модель прогнозирования\n",
    "    - [x]  Написана функция для вычисления итогового *sMAPE*\n",
    "    - [x]  Обучено и проверено несколько моделей\n",
    "    - [x]  Выбрана лучшая модель, её качество проверено на тестовой выборке"
   ]
  }
 ],
 "metadata": {
  "ExecuteTimeLog": [
   {
    "duration": 2202,
    "start_time": "2022-03-24T13:19:16.701Z"
   },
   {
    "duration": 248,
    "start_time": "2022-03-24T13:19:18.905Z"
   },
   {
    "duration": 0,
    "start_time": "2022-03-24T13:19:19.155Z"
   },
   {
    "duration": 840,
    "start_time": "2022-03-24T13:22:16.666Z"
   },
   {
    "duration": 29,
    "start_time": "2022-03-24T13:22:23.160Z"
   },
   {
    "duration": 21,
    "start_time": "2022-03-24T13:27:00.842Z"
   },
   {
    "duration": 28,
    "start_time": "2022-03-24T13:27:23.517Z"
   },
   {
    "duration": 11,
    "start_time": "2022-03-24T13:44:43.335Z"
   },
   {
    "duration": 7,
    "start_time": "2022-03-24T13:44:48.368Z"
   },
   {
    "duration": 8713,
    "start_time": "2022-03-24T13:44:48.978Z"
   },
   {
    "duration": 26,
    "start_time": "2022-03-24T13:44:57.694Z"
   },
   {
    "duration": 332,
    "start_time": "2022-03-24T13:45:06.656Z"
   },
   {
    "duration": 11,
    "start_time": "2022-03-24T13:45:44.348Z"
   },
   {
    "duration": 31,
    "start_time": "2022-03-24T13:45:51.595Z"
   },
   {
    "duration": 11,
    "start_time": "2022-03-24T13:46:13.684Z"
   },
   {
    "duration": 5,
    "start_time": "2022-03-24T13:46:18.383Z"
   },
   {
    "duration": 4,
    "start_time": "2022-03-24T13:49:24.493Z"
   },
   {
    "duration": 335,
    "start_time": "2022-03-24T13:50:04.976Z"
   },
   {
    "duration": 4,
    "start_time": "2022-03-24T13:51:53.252Z"
   },
   {
    "duration": 327,
    "start_time": "2022-03-24T13:51:54.401Z"
   },
   {
    "duration": 353,
    "start_time": "2022-03-24T13:52:43.727Z"
   },
   {
    "duration": 6,
    "start_time": "2022-03-24T14:07:19.909Z"
   },
   {
    "duration": 6,
    "start_time": "2022-03-24T14:07:49.509Z"
   },
   {
    "duration": 6,
    "start_time": "2022-03-24T14:08:07.791Z"
   },
   {
    "duration": 1900,
    "start_time": "2022-03-24T14:08:47.708Z"
   },
   {
    "duration": 908,
    "start_time": "2022-03-24T14:08:49.611Z"
   },
   {
    "duration": 5,
    "start_time": "2022-03-24T14:08:50.521Z"
   },
   {
    "duration": 371,
    "start_time": "2022-03-24T14:08:50.528Z"
   },
   {
    "duration": 387,
    "start_time": "2022-03-24T14:08:50.901Z"
   },
   {
    "duration": 6,
    "start_time": "2022-03-24T14:08:51.290Z"
   },
   {
    "duration": 8,
    "start_time": "2022-03-24T14:08:51.298Z"
   },
   {
    "duration": 7,
    "start_time": "2022-03-24T14:09:47.605Z"
   },
   {
    "duration": 7,
    "start_time": "2022-03-24T14:10:28.477Z"
   },
   {
    "duration": 6,
    "start_time": "2022-03-24T14:10:56.802Z"
   },
   {
    "duration": 7,
    "start_time": "2022-03-24T14:11:33.760Z"
   },
   {
    "duration": 6,
    "start_time": "2022-03-24T14:11:38.195Z"
   },
   {
    "duration": 6,
    "start_time": "2022-03-24T14:11:53.361Z"
   },
   {
    "duration": 131,
    "start_time": "2022-03-24T14:12:17.846Z"
   },
   {
    "duration": 118,
    "start_time": "2022-03-24T14:12:24.158Z"
   },
   {
    "duration": 6,
    "start_time": "2022-03-24T14:12:34.391Z"
   },
   {
    "duration": 7,
    "start_time": "2022-03-24T14:12:45.228Z"
   },
   {
    "duration": 7,
    "start_time": "2022-03-24T14:13:16.130Z"
   },
   {
    "duration": 6,
    "start_time": "2022-03-24T14:13:17.476Z"
   },
   {
    "duration": 6,
    "start_time": "2022-03-24T14:13:22.531Z"
   },
   {
    "duration": 23,
    "start_time": "2022-03-24T14:17:35.234Z"
   },
   {
    "duration": 360,
    "start_time": "2022-03-24T14:17:36.089Z"
   },
   {
    "duration": 5,
    "start_time": "2022-03-24T14:17:47.415Z"
   },
   {
    "duration": 6,
    "start_time": "2022-03-24T14:17:48.225Z"
   },
   {
    "duration": 6,
    "start_time": "2022-03-24T14:17:49.619Z"
   },
   {
    "duration": 164,
    "start_time": "2022-03-24T14:18:58.599Z"
   },
   {
    "duration": 4,
    "start_time": "2022-03-24T14:19:13.415Z"
   },
   {
    "duration": 120,
    "start_time": "2022-03-24T14:20:52.528Z"
   },
   {
    "duration": 7,
    "start_time": "2022-03-24T14:20:57.197Z"
   },
   {
    "duration": 10,
    "start_time": "2022-03-24T14:21:13.513Z"
   },
   {
    "duration": 8,
    "start_time": "2022-03-24T14:23:22.852Z"
   },
   {
    "duration": 1936,
    "start_time": "2022-03-24T14:24:11.548Z"
   },
   {
    "duration": 22,
    "start_time": "2022-03-24T14:24:28.279Z"
   },
   {
    "duration": 11,
    "start_time": "2022-03-24T14:26:02.186Z"
   },
   {
    "duration": 13,
    "start_time": "2022-03-24T14:26:50.364Z"
   },
   {
    "duration": 11,
    "start_time": "2022-03-24T14:27:39.288Z"
   },
   {
    "duration": 10,
    "start_time": "2022-03-24T14:27:59.268Z"
   },
   {
    "duration": 7,
    "start_time": "2022-03-24T14:28:29.488Z"
   },
   {
    "duration": 9,
    "start_time": "2022-03-24T14:31:53.605Z"
   },
   {
    "duration": 18,
    "start_time": "2022-03-24T14:32:09.514Z"
   },
   {
    "duration": 39,
    "start_time": "2022-03-24T14:32:20.757Z"
   },
   {
    "duration": 11,
    "start_time": "2022-03-24T14:32:50.396Z"
   },
   {
    "duration": 7,
    "start_time": "2022-03-24T14:33:31.897Z"
   },
   {
    "duration": 43,
    "start_time": "2022-03-24T14:34:39.590Z"
   },
   {
    "duration": 33,
    "start_time": "2022-03-24T14:34:56.050Z"
   },
   {
    "duration": 4,
    "start_time": "2022-03-24T14:35:18.096Z"
   },
   {
    "duration": 7,
    "start_time": "2022-03-24T14:35:28.012Z"
   },
   {
    "duration": 415,
    "start_time": "2022-03-24T14:37:34.798Z"
   },
   {
    "duration": 108,
    "start_time": "2022-03-24T14:37:44.277Z"
   },
   {
    "duration": 56,
    "start_time": "2022-03-24T14:37:55.490Z"
   },
   {
    "duration": 20,
    "start_time": "2022-03-24T14:40:04.222Z"
   },
   {
    "duration": 19,
    "start_time": "2022-03-24T14:40:14.868Z"
   },
   {
    "duration": 18,
    "start_time": "2022-03-24T14:41:08.801Z"
   },
   {
    "duration": 13,
    "start_time": "2022-03-24T16:43:04.753Z"
   },
   {
    "duration": 6,
    "start_time": "2022-03-24T16:47:57.441Z"
   },
   {
    "duration": 11,
    "start_time": "2022-03-24T16:50:10.476Z"
   },
   {
    "duration": 47,
    "start_time": "2022-03-24T16:50:23.947Z"
   },
   {
    "duration": 1920,
    "start_time": "2022-03-24T17:34:45.198Z"
   },
   {
    "duration": 8803,
    "start_time": "2022-03-24T17:34:47.120Z"
   },
   {
    "duration": 5,
    "start_time": "2022-03-24T17:34:55.925Z"
   },
   {
    "duration": 390,
    "start_time": "2022-03-24T17:34:55.932Z"
   },
   {
    "duration": 20,
    "start_time": "2022-03-24T17:34:56.325Z"
   },
   {
    "duration": 483,
    "start_time": "2022-03-24T17:34:56.348Z"
   },
   {
    "duration": 7,
    "start_time": "2022-03-24T17:34:56.834Z"
   },
   {
    "duration": 27,
    "start_time": "2022-03-24T17:34:56.844Z"
   },
   {
    "duration": 7,
    "start_time": "2022-03-24T17:34:56.874Z"
   },
   {
    "duration": 184,
    "start_time": "2022-03-24T17:34:56.884Z"
   },
   {
    "duration": 0,
    "start_time": "2022-03-24T17:34:57.071Z"
   },
   {
    "duration": 0,
    "start_time": "2022-03-24T17:34:57.072Z"
   },
   {
    "duration": 0,
    "start_time": "2022-03-24T17:34:57.074Z"
   },
   {
    "duration": 0,
    "start_time": "2022-03-24T17:34:57.075Z"
   },
   {
    "duration": 0,
    "start_time": "2022-03-24T17:34:57.076Z"
   },
   {
    "duration": 5,
    "start_time": "2022-03-24T17:35:22.869Z"
   },
   {
    "duration": 15,
    "start_time": "2022-03-24T17:35:24.596Z"
   },
   {
    "duration": 7,
    "start_time": "2022-03-24T17:35:33.612Z"
   },
   {
    "duration": 14,
    "start_time": "2022-03-24T17:37:30.102Z"
   },
   {
    "duration": 8,
    "start_time": "2022-03-24T17:37:43.377Z"
   },
   {
    "duration": 15,
    "start_time": "2022-03-24T17:37:45.301Z"
   },
   {
    "duration": 7,
    "start_time": "2022-03-24T17:38:45.033Z"
   },
   {
    "duration": 13,
    "start_time": "2022-03-24T17:39:16.595Z"
   },
   {
    "duration": 7,
    "start_time": "2022-03-24T17:39:21.572Z"
   },
   {
    "duration": 8,
    "start_time": "2022-03-24T17:39:41.901Z"
   },
   {
    "duration": 22,
    "start_time": "2022-03-24T17:39:45.695Z"
   },
   {
    "duration": 8,
    "start_time": "2022-03-24T17:40:20.675Z"
   },
   {
    "duration": 50,
    "start_time": "2022-03-24T17:40:28.946Z"
   },
   {
    "duration": 4,
    "start_time": "2022-03-24T17:41:30.291Z"
   },
   {
    "duration": 9,
    "start_time": "2022-03-24T17:41:38.531Z"
   },
   {
    "duration": 160,
    "start_time": "2022-03-24T17:42:06.105Z"
   },
   {
    "duration": 13,
    "start_time": "2022-03-24T17:42:23.365Z"
   },
   {
    "duration": 4,
    "start_time": "2022-03-24T17:42:57.260Z"
   },
   {
    "duration": 23,
    "start_time": "2022-03-24T17:44:06.084Z"
   },
   {
    "duration": 26,
    "start_time": "2022-03-24T17:44:19.702Z"
   },
   {
    "duration": 47,
    "start_time": "2022-03-24T17:44:31.508Z"
   },
   {
    "duration": 4,
    "start_time": "2022-03-24T17:45:15.555Z"
   },
   {
    "duration": 22,
    "start_time": "2022-03-24T17:45:17.331Z"
   },
   {
    "duration": 18,
    "start_time": "2022-03-24T17:45:18.528Z"
   },
   {
    "duration": 18,
    "start_time": "2022-03-24T17:46:31.243Z"
   },
   {
    "duration": 14,
    "start_time": "2022-03-24T17:46:46.940Z"
   },
   {
    "duration": 16,
    "start_time": "2022-03-24T17:47:27.138Z"
   },
   {
    "duration": 20,
    "start_time": "2022-03-24T17:47:46.173Z"
   },
   {
    "duration": 1957,
    "start_time": "2022-03-24T17:55:06.901Z"
   },
   {
    "duration": 892,
    "start_time": "2022-03-24T17:55:08.861Z"
   },
   {
    "duration": 5,
    "start_time": "2022-03-24T17:55:09.756Z"
   },
   {
    "duration": 408,
    "start_time": "2022-03-24T17:55:09.769Z"
   },
   {
    "duration": 22,
    "start_time": "2022-03-24T17:55:10.179Z"
   },
   {
    "duration": 773,
    "start_time": "2022-03-24T17:55:10.203Z"
   },
   {
    "duration": 6,
    "start_time": "2022-03-24T17:55:10.978Z"
   },
   {
    "duration": 8,
    "start_time": "2022-03-24T17:55:10.986Z"
   },
   {
    "duration": 8,
    "start_time": "2022-03-24T17:55:10.996Z"
   },
   {
    "duration": 59,
    "start_time": "2022-03-24T17:55:11.009Z"
   },
   {
    "duration": 4,
    "start_time": "2022-03-24T17:55:11.071Z"
   },
   {
    "duration": 6,
    "start_time": "2022-03-24T17:55:11.078Z"
   },
   {
    "duration": 9,
    "start_time": "2022-03-24T17:55:11.086Z"
   },
   {
    "duration": 5,
    "start_time": "2022-03-24T17:55:11.097Z"
   },
   {
    "duration": 62,
    "start_time": "2022-03-24T17:55:11.105Z"
   },
   {
    "duration": 38,
    "start_time": "2022-03-24T17:55:11.170Z"
   },
   {
    "duration": 58,
    "start_time": "2022-03-24T17:55:11.211Z"
   },
   {
    "duration": 4,
    "start_time": "2022-03-24T17:55:11.272Z"
   },
   {
    "duration": 10,
    "start_time": "2022-03-24T17:55:11.278Z"
   },
   {
    "duration": 10,
    "start_time": "2022-03-24T17:55:11.291Z"
   },
   {
    "duration": 5,
    "start_time": "2022-03-24T17:55:11.303Z"
   },
   {
    "duration": 14,
    "start_time": "2022-03-24T17:58:04.419Z"
   },
   {
    "duration": 171,
    "start_time": "2022-03-24T17:58:25.918Z"
   },
   {
    "duration": 34,
    "start_time": "2022-03-24T17:59:01.927Z"
   },
   {
    "duration": 13,
    "start_time": "2022-03-24T17:59:15.268Z"
   },
   {
    "duration": 9,
    "start_time": "2022-03-24T17:59:28.312Z"
   },
   {
    "duration": 12,
    "start_time": "2022-03-24T17:59:39.666Z"
   },
   {
    "duration": 12,
    "start_time": "2022-03-24T18:00:00.331Z"
   },
   {
    "duration": 15,
    "start_time": "2022-03-24T18:00:12.901Z"
   },
   {
    "duration": 9,
    "start_time": "2022-03-24T18:00:27.285Z"
   },
   {
    "duration": 6,
    "start_time": "2022-03-24T18:00:42.671Z"
   },
   {
    "duration": 4,
    "start_time": "2022-03-24T18:01:00.760Z"
   },
   {
    "duration": 6,
    "start_time": "2022-03-24T18:01:12.559Z"
   },
   {
    "duration": 244,
    "start_time": "2022-03-24T18:01:25.860Z"
   },
   {
    "duration": 5,
    "start_time": "2022-03-24T18:03:29.971Z"
   },
   {
    "duration": 15,
    "start_time": "2022-03-24T18:03:33.477Z"
   },
   {
    "duration": 13,
    "start_time": "2022-03-24T18:04:42.230Z"
   },
   {
    "duration": 9,
    "start_time": "2022-03-24T18:05:01.146Z"
   },
   {
    "duration": 1019,
    "start_time": "2022-03-24T18:07:03.958Z"
   },
   {
    "duration": 11623,
    "start_time": "2022-03-24T18:07:37.290Z"
   },
   {
    "duration": 445,
    "start_time": "2022-03-24T18:25:44.001Z"
   },
   {
    "duration": 7,
    "start_time": "2022-03-24T18:26:47.402Z"
   },
   {
    "duration": 4166,
    "start_time": "2022-03-24T18:27:31.025Z"
   },
   {
    "duration": 4478,
    "start_time": "2022-03-24T18:27:49.725Z"
   },
   {
    "duration": 15,
    "start_time": "2022-03-24T18:28:52.547Z"
   },
   {
    "duration": 59,
    "start_time": "2022-03-24T18:29:04.944Z"
   },
   {
    "duration": 3001,
    "start_time": "2022-03-25T18:26:42.928Z"
   },
   {
    "duration": 905,
    "start_time": "2022-03-25T18:26:45.933Z"
   },
   {
    "duration": 5,
    "start_time": "2022-03-25T18:26:46.841Z"
   },
   {
    "duration": 571,
    "start_time": "2022-03-25T18:26:46.850Z"
   },
   {
    "duration": 21,
    "start_time": "2022-03-25T18:26:47.423Z"
   },
   {
    "duration": 515,
    "start_time": "2022-03-25T18:26:47.448Z"
   },
   {
    "duration": 18,
    "start_time": "2022-03-25T18:26:47.966Z"
   },
   {
    "duration": 41,
    "start_time": "2022-03-25T18:26:47.987Z"
   },
   {
    "duration": 15,
    "start_time": "2022-03-25T18:26:48.031Z"
   },
   {
    "duration": 13,
    "start_time": "2022-03-25T18:26:48.053Z"
   },
   {
    "duration": 40,
    "start_time": "2022-03-25T18:26:48.069Z"
   },
   {
    "duration": 12,
    "start_time": "2022-03-25T18:26:48.112Z"
   },
   {
    "duration": 52,
    "start_time": "2022-03-25T18:26:48.127Z"
   },
   {
    "duration": 11,
    "start_time": "2022-03-25T18:26:48.182Z"
   },
   {
    "duration": 6,
    "start_time": "2022-03-25T18:26:48.196Z"
   },
   {
    "duration": 12,
    "start_time": "2022-03-25T18:26:48.206Z"
   },
   {
    "duration": 12,
    "start_time": "2022-03-25T18:26:48.220Z"
   },
   {
    "duration": 513,
    "start_time": "2022-03-25T18:26:48.235Z"
   },
   {
    "duration": 17,
    "start_time": "2022-03-25T18:26:48.751Z"
   },
   {
    "duration": 24,
    "start_time": "2022-03-25T18:26:48.770Z"
   },
   {
    "duration": 17,
    "start_time": "2022-03-25T18:26:48.797Z"
   },
   {
    "duration": 9,
    "start_time": "2022-03-25T18:26:48.816Z"
   },
   {
    "duration": 13,
    "start_time": "2022-03-25T18:26:48.828Z"
   },
   {
    "duration": 41,
    "start_time": "2022-03-25T18:26:48.843Z"
   },
   {
    "duration": 7,
    "start_time": "2022-03-25T18:26:48.887Z"
   },
   {
    "duration": 9,
    "start_time": "2022-03-25T18:26:48.896Z"
   },
   {
    "duration": 12,
    "start_time": "2022-03-25T18:26:48.907Z"
   },
   {
    "duration": 19,
    "start_time": "2022-03-25T18:26:48.926Z"
   },
   {
    "duration": 59,
    "start_time": "2022-03-25T18:26:48.948Z"
   },
   {
    "duration": 5,
    "start_time": "2022-03-25T18:26:49.010Z"
   },
   {
    "duration": 15,
    "start_time": "2022-03-25T18:26:49.018Z"
   },
   {
    "duration": 6,
    "start_time": "2022-03-25T18:26:49.037Z"
   },
   {
    "duration": 13,
    "start_time": "2022-03-25T18:26:49.046Z"
   },
   {
    "duration": 26,
    "start_time": "2022-03-25T18:26:49.062Z"
   },
   {
    "duration": 11905,
    "start_time": "2022-03-25T18:26:49.091Z"
   },
   {
    "duration": 638,
    "start_time": "2022-03-25T18:27:00.998Z"
   },
   {
    "duration": 12,
    "start_time": "2022-03-25T18:27:01.639Z"
   },
   {
    "duration": 4537,
    "start_time": "2022-03-25T18:27:01.654Z"
   },
   {
    "duration": 199,
    "start_time": "2022-03-25T18:54:19.628Z"
   },
   {
    "duration": 189,
    "start_time": "2022-03-25T18:57:09.396Z"
   },
   {
    "duration": 12,
    "start_time": "2022-03-25T18:57:38.522Z"
   },
   {
    "duration": 1352,
    "start_time": "2022-03-25T19:00:47.918Z"
   },
   {
    "duration": 90,
    "start_time": "2022-03-25T19:02:04.615Z"
   },
   {
    "duration": 145,
    "start_time": "2022-03-25T19:06:46.963Z"
   },
   {
    "duration": 6,
    "start_time": "2022-03-25T19:07:01.380Z"
   },
   {
    "duration": 145,
    "start_time": "2022-03-25T19:07:46.056Z"
   },
   {
    "duration": 5,
    "start_time": "2022-03-25T19:07:59.631Z"
   },
   {
    "duration": 10,
    "start_time": "2022-03-25T19:08:14.600Z"
   },
   {
    "duration": 11,
    "start_time": "2022-03-25T19:08:34.282Z"
   },
   {
    "duration": 5,
    "start_time": "2022-03-25T19:08:46.532Z"
   },
   {
    "duration": 12,
    "start_time": "2022-03-25T19:08:48.602Z"
   },
   {
    "duration": 19,
    "start_time": "2022-03-25T19:09:40.754Z"
   },
   {
    "duration": 1475,
    "start_time": "2022-03-25T19:10:03.960Z"
   },
   {
    "duration": 24,
    "start_time": "2022-03-25T19:10:50.218Z"
   },
   {
    "duration": 2190,
    "start_time": "2022-03-25T19:10:59.964Z"
   },
   {
    "duration": 889,
    "start_time": "2022-03-25T19:11:02.157Z"
   },
   {
    "duration": 5,
    "start_time": "2022-03-25T19:11:03.049Z"
   },
   {
    "duration": 399,
    "start_time": "2022-03-25T19:11:03.057Z"
   },
   {
    "duration": 29,
    "start_time": "2022-03-25T19:11:03.459Z"
   },
   {
    "duration": 395,
    "start_time": "2022-03-25T19:11:03.490Z"
   },
   {
    "duration": 7,
    "start_time": "2022-03-25T19:11:03.888Z"
   },
   {
    "duration": 25,
    "start_time": "2022-03-25T19:11:03.897Z"
   },
   {
    "duration": 17,
    "start_time": "2022-03-25T19:11:03.924Z"
   },
   {
    "duration": 18,
    "start_time": "2022-03-25T19:11:03.943Z"
   },
   {
    "duration": 47,
    "start_time": "2022-03-25T19:11:03.963Z"
   },
   {
    "duration": 10,
    "start_time": "2022-03-25T19:11:04.013Z"
   },
   {
    "duration": 25,
    "start_time": "2022-03-25T19:11:04.025Z"
   },
   {
    "duration": 36,
    "start_time": "2022-03-25T19:11:04.054Z"
   },
   {
    "duration": 7,
    "start_time": "2022-03-25T19:11:04.092Z"
   },
   {
    "duration": 10,
    "start_time": "2022-03-25T19:11:04.101Z"
   },
   {
    "duration": 10,
    "start_time": "2022-03-25T19:11:04.113Z"
   },
   {
    "duration": 295,
    "start_time": "2022-03-25T19:11:04.125Z"
   },
   {
    "duration": 4,
    "start_time": "2022-03-25T19:11:04.423Z"
   },
   {
    "duration": 17,
    "start_time": "2022-03-25T19:11:04.429Z"
   },
   {
    "duration": 40,
    "start_time": "2022-03-25T19:11:04.448Z"
   },
   {
    "duration": 8,
    "start_time": "2022-03-25T19:11:04.490Z"
   },
   {
    "duration": 12,
    "start_time": "2022-03-25T19:11:04.500Z"
   },
   {
    "duration": 31,
    "start_time": "2022-03-25T19:11:04.515Z"
   },
   {
    "duration": 220,
    "start_time": "2022-03-25T19:11:04.549Z"
   },
   {
    "duration": 12111,
    "start_time": "2022-03-25T19:11:04.772Z"
   },
   {
    "duration": 447,
    "start_time": "2022-03-25T19:11:16.886Z"
   },
   {
    "duration": 8,
    "start_time": "2022-03-25T19:11:17.335Z"
   },
   {
    "duration": 4372,
    "start_time": "2022-03-25T19:11:17.346Z"
   },
   {
    "duration": 1415,
    "start_time": "2022-03-25T19:11:21.721Z"
   },
   {
    "duration": 104,
    "start_time": "2022-03-25T19:11:23.138Z"
   },
   {
    "duration": 1519,
    "start_time": "2022-03-25T19:11:23.244Z"
   },
   {
    "duration": 183,
    "start_time": "2022-03-25T19:11:24.766Z"
   },
   {
    "duration": 18,
    "start_time": "2022-03-25T19:12:00.823Z"
   },
   {
    "duration": 9,
    "start_time": "2022-03-25T19:12:16.509Z"
   },
   {
    "duration": 5,
    "start_time": "2022-03-25T19:13:05.775Z"
   },
   {
    "duration": 4,
    "start_time": "2022-03-25T19:13:06.376Z"
   },
   {
    "duration": 4,
    "start_time": "2022-03-25T19:13:06.945Z"
   },
   {
    "duration": 6,
    "start_time": "2022-03-25T19:13:14.256Z"
   },
   {
    "duration": 48,
    "start_time": "2022-03-25T19:27:30.579Z"
   },
   {
    "duration": 6224,
    "start_time": "2022-03-25T19:28:34.248Z"
   },
   {
    "duration": 7,
    "start_time": "2022-03-25T19:31:16.725Z"
   },
   {
    "duration": 6,
    "start_time": "2022-03-25T19:31:17.560Z"
   },
   {
    "duration": 6,
    "start_time": "2022-03-25T19:31:18.161Z"
   },
   {
    "duration": 4,
    "start_time": "2022-03-25T19:31:18.669Z"
   },
   {
    "duration": 25,
    "start_time": "2022-03-25T19:31:19.183Z"
   },
   {
    "duration": 27,
    "start_time": "2022-03-25T19:31:35.167Z"
   },
   {
    "duration": 578,
    "start_time": "2022-03-25T19:32:07.283Z"
   },
   {
    "duration": 245,
    "start_time": "2022-03-25T19:32:58.073Z"
   },
   {
    "duration": 1046,
    "start_time": "2022-03-25T19:33:08.765Z"
   },
   {
    "duration": 6,
    "start_time": "2022-03-25T19:33:44.282Z"
   },
   {
    "duration": 799,
    "start_time": "2022-03-25T19:33:52.181Z"
   },
   {
    "duration": 49,
    "start_time": "2022-03-25T19:34:03.027Z"
   },
   {
    "duration": 16,
    "start_time": "2022-03-25T19:34:18.380Z"
   },
   {
    "duration": 23,
    "start_time": "2022-03-25T19:34:28.569Z"
   },
   {
    "duration": 32,
    "start_time": "2022-03-25T19:34:52.685Z"
   },
   {
    "duration": 31,
    "start_time": "2022-03-25T19:35:03.112Z"
   },
   {
    "duration": 29,
    "start_time": "2022-03-25T19:35:15.223Z"
   },
   {
    "duration": 348,
    "start_time": "2022-03-25T19:35:28.683Z"
   },
   {
    "duration": 14,
    "start_time": "2022-03-25T19:36:00.232Z"
   },
   {
    "duration": 9,
    "start_time": "2022-03-25T19:36:25.844Z"
   },
   {
    "duration": 4,
    "start_time": "2022-03-25T19:36:52.084Z"
   },
   {
    "duration": 18,
    "start_time": "2022-03-25T19:36:59.513Z"
   },
   {
    "duration": 36,
    "start_time": "2022-03-25T19:37:12.053Z"
   },
   {
    "duration": 39,
    "start_time": "2022-03-25T19:37:29.947Z"
   },
   {
    "duration": 33,
    "start_time": "2022-03-25T19:37:40.470Z"
   },
   {
    "duration": 2268,
    "start_time": "2022-03-25T20:08:55.693Z"
   },
   {
    "duration": 1551,
    "start_time": "2022-03-25T20:08:57.963Z"
   },
   {
    "duration": 7,
    "start_time": "2022-03-25T20:08:59.517Z"
   },
   {
    "duration": 1189,
    "start_time": "2022-03-25T20:08:59.526Z"
   },
   {
    "duration": 80,
    "start_time": "2022-03-25T20:09:00.720Z"
   },
   {
    "duration": 696,
    "start_time": "2022-03-25T20:09:00.803Z"
   },
   {
    "duration": 7,
    "start_time": "2022-03-25T20:09:01.501Z"
   },
   {
    "duration": 18,
    "start_time": "2022-03-25T20:09:01.511Z"
   },
   {
    "duration": 17,
    "start_time": "2022-03-25T20:09:01.532Z"
   },
   {
    "duration": 575,
    "start_time": "2022-03-25T20:09:01.552Z"
   },
   {
    "duration": 4,
    "start_time": "2022-03-25T20:09:02.130Z"
   },
   {
    "duration": 44,
    "start_time": "2022-03-25T20:09:02.137Z"
   },
   {
    "duration": 19,
    "start_time": "2022-03-25T20:09:02.183Z"
   },
   {
    "duration": 15,
    "start_time": "2022-03-25T20:09:02.208Z"
   },
   {
    "duration": 17,
    "start_time": "2022-03-25T20:09:02.226Z"
   },
   {
    "duration": 39,
    "start_time": "2022-03-25T20:09:02.245Z"
   },
   {
    "duration": 222,
    "start_time": "2022-03-25T20:09:02.288Z"
   },
   {
    "duration": 13707,
    "start_time": "2022-03-25T20:09:02.513Z"
   },
   {
    "duration": 493,
    "start_time": "2022-03-25T20:09:16.223Z"
   },
   {
    "duration": 9,
    "start_time": "2022-03-25T20:09:16.718Z"
   },
   {
    "duration": 17,
    "start_time": "2022-03-25T20:09:16.730Z"
   },
   {
    "duration": 11,
    "start_time": "2022-03-25T20:09:16.750Z"
   },
   {
    "duration": 4,
    "start_time": "2022-03-25T20:09:16.785Z"
   },
   {
    "duration": 34,
    "start_time": "2022-03-25T20:09:16.792Z"
   },
   {
    "duration": 596,
    "start_time": "2022-03-25T20:09:16.832Z"
   },
   {
    "duration": 257,
    "start_time": "2022-03-25T20:09:17.431Z"
   },
   {
    "duration": 6,
    "start_time": "2022-03-25T20:09:17.690Z"
   },
   {
    "duration": 738,
    "start_time": "2022-03-25T20:09:17.699Z"
   },
   {
    "duration": 46,
    "start_time": "2022-03-25T20:09:18.439Z"
   },
   {
    "duration": 17,
    "start_time": "2022-03-25T20:09:18.488Z"
   },
   {
    "duration": 25,
    "start_time": "2022-03-25T20:09:18.508Z"
   },
   {
    "duration": 62,
    "start_time": "2022-03-25T20:09:18.536Z"
   },
   {
    "duration": 25,
    "start_time": "2022-03-25T20:09:18.602Z"
   },
   {
    "duration": 23,
    "start_time": "2022-03-25T20:09:18.629Z"
   },
   {
    "duration": 300,
    "start_time": "2022-03-25T20:09:18.684Z"
   },
   {
    "duration": 9,
    "start_time": "2022-03-25T20:09:18.986Z"
   },
   {
    "duration": 7,
    "start_time": "2022-03-25T20:09:18.997Z"
   },
   {
    "duration": 23,
    "start_time": "2022-03-25T20:09:19.007Z"
   },
   {
    "duration": 76,
    "start_time": "2022-03-25T20:09:19.032Z"
   },
   {
    "duration": 50,
    "start_time": "2022-03-25T20:09:19.111Z"
   },
   {
    "duration": 50,
    "start_time": "2022-03-25T20:09:19.166Z"
   },
   {
    "duration": 356,
    "start_time": "2022-03-25T20:10:06.110Z"
   },
   {
    "duration": 356,
    "start_time": "2022-03-25T20:10:20.686Z"
   },
   {
    "duration": 2788,
    "start_time": "2022-03-25T20:18:35.565Z"
   },
   {
    "duration": 1127,
    "start_time": "2022-03-25T20:18:38.357Z"
   },
   {
    "duration": 6,
    "start_time": "2022-03-25T20:18:39.486Z"
   },
   {
    "duration": 474,
    "start_time": "2022-03-25T20:18:39.495Z"
   },
   {
    "duration": 33,
    "start_time": "2022-03-25T20:18:39.973Z"
   },
   {
    "duration": 559,
    "start_time": "2022-03-25T20:18:40.008Z"
   },
   {
    "duration": 15,
    "start_time": "2022-03-25T20:18:40.569Z"
   },
   {
    "duration": 11,
    "start_time": "2022-03-25T20:18:40.587Z"
   },
   {
    "duration": 16,
    "start_time": "2022-03-25T20:18:40.601Z"
   },
   {
    "duration": 484,
    "start_time": "2022-03-25T20:18:40.621Z"
   },
   {
    "duration": 4,
    "start_time": "2022-03-25T20:18:41.108Z"
   },
   {
    "duration": 31,
    "start_time": "2022-03-25T20:18:41.115Z"
   },
   {
    "duration": 19,
    "start_time": "2022-03-25T20:18:41.148Z"
   },
   {
    "duration": 8,
    "start_time": "2022-03-25T20:18:41.187Z"
   },
   {
    "duration": 22,
    "start_time": "2022-03-25T20:18:41.198Z"
   },
   {
    "duration": 39,
    "start_time": "2022-03-25T20:18:41.223Z"
   },
   {
    "duration": 254,
    "start_time": "2022-03-25T20:18:41.283Z"
   },
   {
    "duration": 8455,
    "start_time": "2022-03-25T20:18:41.540Z"
   },
   {
    "duration": 0,
    "start_time": "2022-03-25T20:18:49.997Z"
   },
   {
    "duration": 0,
    "start_time": "2022-03-25T20:18:49.999Z"
   },
   {
    "duration": 0,
    "start_time": "2022-03-25T20:18:50.000Z"
   },
   {
    "duration": 0,
    "start_time": "2022-03-25T20:18:50.002Z"
   },
   {
    "duration": 0,
    "start_time": "2022-03-25T20:18:50.003Z"
   },
   {
    "duration": 0,
    "start_time": "2022-03-25T20:18:50.004Z"
   },
   {
    "duration": 0,
    "start_time": "2022-03-25T20:18:50.006Z"
   },
   {
    "duration": 0,
    "start_time": "2022-03-25T20:18:50.007Z"
   },
   {
    "duration": 0,
    "start_time": "2022-03-25T20:18:50.009Z"
   },
   {
    "duration": 0,
    "start_time": "2022-03-25T20:18:50.011Z"
   },
   {
    "duration": 0,
    "start_time": "2022-03-25T20:18:50.012Z"
   },
   {
    "duration": 0,
    "start_time": "2022-03-25T20:18:50.014Z"
   },
   {
    "duration": 0,
    "start_time": "2022-03-25T20:18:50.015Z"
   },
   {
    "duration": 0,
    "start_time": "2022-03-25T20:18:50.017Z"
   },
   {
    "duration": 0,
    "start_time": "2022-03-25T20:18:50.018Z"
   },
   {
    "duration": 0,
    "start_time": "2022-03-25T20:18:50.020Z"
   },
   {
    "duration": 0,
    "start_time": "2022-03-25T20:18:50.022Z"
   },
   {
    "duration": 1,
    "start_time": "2022-03-25T20:18:50.023Z"
   },
   {
    "duration": 0,
    "start_time": "2022-03-25T20:18:50.025Z"
   },
   {
    "duration": 0,
    "start_time": "2022-03-25T20:18:50.027Z"
   },
   {
    "duration": 0,
    "start_time": "2022-03-25T20:18:50.083Z"
   },
   {
    "duration": 0,
    "start_time": "2022-03-25T20:18:50.085Z"
   },
   {
    "duration": 0,
    "start_time": "2022-03-25T20:18:50.087Z"
   },
   {
    "duration": 21,
    "start_time": "2022-03-25T20:24:53.692Z"
   },
   {
    "duration": 539,
    "start_time": "2022-03-25T20:25:28.392Z"
   },
   {
    "duration": 2376,
    "start_time": "2022-03-25T20:30:53.421Z"
   },
   {
    "duration": 2692,
    "start_time": "2022-03-25T20:30:55.801Z"
   },
   {
    "duration": 7,
    "start_time": "2022-03-25T20:30:58.496Z"
   },
   {
    "duration": 923,
    "start_time": "2022-03-25T20:30:58.506Z"
   },
   {
    "duration": 62,
    "start_time": "2022-03-25T20:30:59.431Z"
   },
   {
    "duration": 524,
    "start_time": "2022-03-25T20:30:59.495Z"
   },
   {
    "duration": 7,
    "start_time": "2022-03-25T20:31:00.022Z"
   },
   {
    "duration": 16,
    "start_time": "2022-03-25T20:31:00.032Z"
   },
   {
    "duration": 34,
    "start_time": "2022-03-25T20:31:00.051Z"
   },
   {
    "duration": 361,
    "start_time": "2022-03-25T20:31:00.091Z"
   },
   {
    "duration": 5,
    "start_time": "2022-03-25T20:31:00.455Z"
   },
   {
    "duration": 33,
    "start_time": "2022-03-25T20:31:00.462Z"
   },
   {
    "duration": 15,
    "start_time": "2022-03-25T20:31:00.497Z"
   },
   {
    "duration": 9,
    "start_time": "2022-03-25T20:31:00.515Z"
   },
   {
    "duration": 13,
    "start_time": "2022-03-25T20:31:00.527Z"
   },
   {
    "duration": 73,
    "start_time": "2022-03-25T20:31:00.542Z"
   },
   {
    "duration": 211,
    "start_time": "2022-03-25T20:31:00.617Z"
   },
   {
    "duration": 15,
    "start_time": "2022-03-25T20:31:00.830Z"
   },
   {
    "duration": 637,
    "start_time": "2022-03-25T20:31:00.847Z"
   },
   {
    "duration": 7,
    "start_time": "2022-03-25T20:31:01.486Z"
   },
   {
    "duration": 23,
    "start_time": "2022-03-25T20:31:01.496Z"
   },
   {
    "duration": 11,
    "start_time": "2022-03-25T20:31:01.522Z"
   },
   {
    "duration": 11,
    "start_time": "2022-03-25T20:31:01.535Z"
   },
   {
    "duration": 49,
    "start_time": "2022-03-25T20:31:01.549Z"
   },
   {
    "duration": 791,
    "start_time": "2022-03-25T20:31:01.600Z"
   },
   {
    "duration": 430,
    "start_time": "2022-03-25T20:31:02.393Z"
   },
   {
    "duration": 5,
    "start_time": "2022-03-25T20:31:02.826Z"
   },
   {
    "duration": 805,
    "start_time": "2022-03-25T20:31:02.836Z"
   },
   {
    "duration": 53,
    "start_time": "2022-03-25T20:31:03.644Z"
   },
   {
    "duration": 44,
    "start_time": "2022-03-25T20:31:03.700Z"
   },
   {
    "duration": 49,
    "start_time": "2022-03-25T20:31:03.747Z"
   },
   {
    "duration": 24,
    "start_time": "2022-03-25T20:31:03.799Z"
   },
   {
    "duration": 24,
    "start_time": "2022-03-25T20:31:03.825Z"
   },
   {
    "duration": 22,
    "start_time": "2022-03-25T20:31:03.884Z"
   },
   {
    "duration": 319,
    "start_time": "2022-03-25T20:31:03.909Z"
   },
   {
    "duration": 9,
    "start_time": "2022-03-25T20:31:04.231Z"
   },
   {
    "duration": 7,
    "start_time": "2022-03-25T20:31:04.243Z"
   },
   {
    "duration": 47,
    "start_time": "2022-03-25T20:31:04.253Z"
   },
   {
    "duration": 36,
    "start_time": "2022-03-25T20:31:04.302Z"
   },
   {
    "duration": 57,
    "start_time": "2022-03-25T20:31:04.341Z"
   },
   {
    "duration": 33,
    "start_time": "2022-03-25T20:31:04.402Z"
   },
   {
    "duration": 17,
    "start_time": "2022-03-25T20:33:24.056Z"
   },
   {
    "duration": 16,
    "start_time": "2022-03-25T20:33:38.280Z"
   },
   {
    "duration": 5,
    "start_time": "2022-03-25T20:41:33.380Z"
   },
   {
    "duration": 326,
    "start_time": "2022-03-25T20:41:34.029Z"
   },
   {
    "duration": 19,
    "start_time": "2022-03-25T20:43:29.760Z"
   },
   {
    "duration": 52,
    "start_time": "2022-03-25T20:43:45.586Z"
   },
   {
    "duration": 41,
    "start_time": "2022-03-25T20:44:04.217Z"
   },
   {
    "duration": 33,
    "start_time": "2022-03-25T20:44:32.238Z"
   },
   {
    "duration": 20,
    "start_time": "2022-03-25T20:44:50.089Z"
   },
   {
    "duration": 50,
    "start_time": "2022-03-25T20:45:21.835Z"
   },
   {
    "duration": 43,
    "start_time": "2022-03-25T20:45:37.934Z"
   },
   {
    "duration": 36,
    "start_time": "2022-03-25T20:46:47.656Z"
   },
   {
    "duration": 17,
    "start_time": "2022-03-25T20:46:48.756Z"
   },
   {
    "duration": 7,
    "start_time": "2022-03-25T20:46:52.385Z"
   },
   {
    "duration": 5,
    "start_time": "2022-03-25T20:46:58.830Z"
   },
   {
    "duration": 14,
    "start_time": "2022-03-25T20:46:59.583Z"
   },
   {
    "duration": 13,
    "start_time": "2022-03-25T20:47:35.397Z"
   },
   {
    "duration": 4,
    "start_time": "2022-03-25T20:47:56.071Z"
   },
   {
    "duration": 163,
    "start_time": "2022-03-25T20:47:56.820Z"
   },
   {
    "duration": 173,
    "start_time": "2022-03-25T20:48:18.552Z"
   },
   {
    "duration": 13,
    "start_time": "2022-03-25T20:50:48.036Z"
   },
   {
    "duration": 1461,
    "start_time": "2022-03-26T15:07:55.429Z"
   },
   {
    "duration": 3378,
    "start_time": "2022-03-26T15:07:56.892Z"
   },
   {
    "duration": 3,
    "start_time": "2022-03-26T15:08:00.272Z"
   },
   {
    "duration": 282,
    "start_time": "2022-03-26T15:08:00.277Z"
   },
   {
    "duration": 15,
    "start_time": "2022-03-26T15:08:00.561Z"
   },
   {
    "duration": 340,
    "start_time": "2022-03-26T15:08:00.577Z"
   },
   {
    "duration": 5,
    "start_time": "2022-03-26T15:08:00.919Z"
   },
   {
    "duration": 18,
    "start_time": "2022-03-26T15:08:00.927Z"
   },
   {
    "duration": 11,
    "start_time": "2022-03-26T15:08:00.948Z"
   },
   {
    "duration": 377,
    "start_time": "2022-03-26T15:08:00.961Z"
   },
   {
    "duration": 3,
    "start_time": "2022-03-26T15:08:01.341Z"
   },
   {
    "duration": 23,
    "start_time": "2022-03-26T15:08:01.346Z"
   },
   {
    "duration": 25,
    "start_time": "2022-03-26T15:08:01.370Z"
   },
   {
    "duration": 15,
    "start_time": "2022-03-26T15:08:01.398Z"
   },
   {
    "duration": 26,
    "start_time": "2022-03-26T15:08:01.415Z"
   },
   {
    "duration": 22,
    "start_time": "2022-03-26T15:08:01.443Z"
   },
   {
    "duration": 138,
    "start_time": "2022-03-26T15:08:01.467Z"
   },
   {
    "duration": 17,
    "start_time": "2022-03-26T15:08:01.609Z"
   },
   {
    "duration": 5,
    "start_time": "2022-03-26T15:08:34.028Z"
   },
   {
    "duration": 71,
    "start_time": "2022-03-28T13:56:17.459Z"
   },
   {
    "duration": 2317,
    "start_time": "2022-03-28T13:56:22.657Z"
   },
   {
    "duration": 897,
    "start_time": "2022-03-28T13:56:24.977Z"
   },
   {
    "duration": 6,
    "start_time": "2022-03-28T13:56:25.877Z"
   },
   {
    "duration": 121,
    "start_time": "2022-03-28T13:56:25.887Z"
   },
   {
    "duration": 30,
    "start_time": "2022-03-28T13:56:41.261Z"
   },
   {
    "duration": 326,
    "start_time": "2022-03-28T13:57:35.165Z"
   },
   {
    "duration": 16,
    "start_time": "2022-03-28T13:57:58.173Z"
   },
   {
    "duration": 4,
    "start_time": "2022-03-28T13:58:19.252Z"
   },
   {
    "duration": 37,
    "start_time": "2022-03-28T14:03:30.942Z"
   },
   {
    "duration": 32,
    "start_time": "2022-03-28T14:07:49.582Z"
   },
   {
    "duration": 96,
    "start_time": "2022-03-28T14:07:54.229Z"
   },
   {
    "duration": 31,
    "start_time": "2022-03-28T14:08:22.255Z"
   },
   {
    "duration": 142,
    "start_time": "2022-03-28T14:25:17.445Z"
   },
   {
    "duration": 74,
    "start_time": "2022-03-30T13:19:52.469Z"
   },
   {
    "duration": 2392,
    "start_time": "2022-03-30T13:20:00.386Z"
   },
   {
    "duration": 868,
    "start_time": "2022-03-30T13:20:02.783Z"
   },
   {
    "duration": 5,
    "start_time": "2022-03-30T13:20:03.653Z"
   },
   {
    "duration": 47,
    "start_time": "2022-03-30T14:34:02.590Z"
   },
   {
    "duration": 1764,
    "start_time": "2022-03-30T14:34:06.335Z"
   },
   {
    "duration": 733,
    "start_time": "2022-03-30T14:34:08.101Z"
   },
   {
    "duration": 4,
    "start_time": "2022-03-30T14:34:08.835Z"
   },
   {
    "duration": 245,
    "start_time": "2022-03-30T14:34:08.841Z"
   },
   {
    "duration": 3,
    "start_time": "2022-03-30T14:34:09.777Z"
   },
   {
    "duration": 16335,
    "start_time": "2022-03-30T14:34:11.110Z"
   },
   {
    "duration": 1543,
    "start_time": "2022-03-31T06:50:48.051Z"
   },
   {
    "duration": 720,
    "start_time": "2022-03-31T06:50:49.596Z"
   },
   {
    "duration": 3,
    "start_time": "2022-03-31T06:50:50.318Z"
   },
   {
    "duration": 241,
    "start_time": "2022-03-31T06:50:50.323Z"
   },
   {
    "duration": 3,
    "start_time": "2022-03-31T06:50:50.566Z"
   },
   {
    "duration": 15448,
    "start_time": "2022-03-31T06:50:51.427Z"
   },
   {
    "duration": 5787,
    "start_time": "2022-03-31T06:53:26.412Z"
   },
   {
    "duration": 247,
    "start_time": "2022-03-31T06:53:32.201Z"
   },
   {
    "duration": 5,
    "start_time": "2022-03-31T06:53:32.450Z"
   },
   {
    "duration": 10,
    "start_time": "2022-03-31T06:53:32.458Z"
   },
   {
    "duration": 4,
    "start_time": "2022-03-31T06:53:33.133Z"
   },
   {
    "duration": 416,
    "start_time": "2022-03-31T06:53:36.247Z"
   },
   {
    "duration": 4,
    "start_time": "2022-03-31T07:08:10.878Z"
   },
   {
    "duration": 703,
    "start_time": "2022-03-31T07:08:11.350Z"
   },
   {
    "duration": 3,
    "start_time": "2022-03-31T07:08:12.055Z"
   },
   {
    "duration": 225,
    "start_time": "2022-03-31T07:08:12.749Z"
   },
   {
    "duration": 4,
    "start_time": "2022-03-31T07:28:23.191Z"
   },
   {
    "duration": 718,
    "start_time": "2022-03-31T07:28:25.687Z"
   },
   {
    "duration": 4,
    "start_time": "2022-03-31T07:28:26.957Z"
   },
   {
    "duration": 235,
    "start_time": "2022-03-31T07:28:27.662Z"
   },
   {
    "duration": 3,
    "start_time": "2022-03-31T07:28:28.974Z"
   },
   {
    "duration": 2,
    "start_time": "2022-03-31T07:28:29.958Z"
   },
   {
    "duration": 248,
    "start_time": "2022-03-31T07:28:31.488Z"
   },
   {
    "duration": 4,
    "start_time": "2022-03-31T07:28:41.897Z"
   },
   {
    "duration": 4,
    "start_time": "2022-03-31T07:28:43.709Z"
   },
   {
    "duration": 4,
    "start_time": "2022-03-31T07:28:46.946Z"
   },
   {
    "duration": 16256,
    "start_time": "2022-03-31T07:36:26.764Z"
   },
   {
    "duration": 20449,
    "start_time": "2022-03-31T07:40:27.092Z"
   },
   {
    "duration": 2957,
    "start_time": "2022-03-31T07:45:15.599Z"
   },
   {
    "duration": 5,
    "start_time": "2022-03-31T07:45:26.046Z"
   },
   {
    "duration": 788,
    "start_time": "2022-03-31T07:45:26.464Z"
   },
   {
    "duration": 3,
    "start_time": "2022-03-31T07:45:27.254Z"
   },
   {
    "duration": 243,
    "start_time": "2022-03-31T07:45:27.465Z"
   },
   {
    "duration": 3,
    "start_time": "2022-03-31T07:45:27.946Z"
   },
   {
    "duration": 3,
    "start_time": "2022-03-31T07:45:28.546Z"
   },
   {
    "duration": 263,
    "start_time": "2022-03-31T07:45:30.575Z"
   },
   {
    "duration": 4,
    "start_time": "2022-03-31T07:45:34.046Z"
   },
   {
    "duration": 4,
    "start_time": "2022-03-31T07:45:34.666Z"
   },
   {
    "duration": 4,
    "start_time": "2022-03-31T07:45:35.789Z"
   },
   {
    "duration": 20436,
    "start_time": "2022-03-31T07:45:38.689Z"
   },
   {
    "duration": 18807,
    "start_time": "2022-03-31T07:47:47.055Z"
   },
   {
    "duration": 3,
    "start_time": "2022-03-31T07:48:55.547Z"
   },
   {
    "duration": 10,
    "start_time": "2022-03-31T07:48:57.594Z"
   },
   {
    "duration": 9,
    "start_time": "2022-03-31T07:49:04.208Z"
   },
   {
    "duration": 6,
    "start_time": "2022-03-31T07:49:05.867Z"
   },
   {
    "duration": 5,
    "start_time": "2022-03-31T07:49:08.506Z"
   },
   {
    "duration": 20,
    "start_time": "2022-03-31T07:49:11.846Z"
   },
   {
    "duration": 108,
    "start_time": "2022-03-31T07:49:13.719Z"
   },
   {
    "duration": 1639,
    "start_time": "2022-04-05T17:46:01.868Z"
   },
   {
    "duration": 1047,
    "start_time": "2022-04-05T17:46:03.510Z"
   },
   {
    "duration": 3,
    "start_time": "2022-04-05T17:46:04.559Z"
   },
   {
    "duration": 244,
    "start_time": "2022-04-05T17:46:04.564Z"
   },
   {
    "duration": 3,
    "start_time": "2022-04-05T17:46:04.810Z"
   },
   {
    "duration": 4,
    "start_time": "2022-04-05T17:46:04.814Z"
   },
   {
    "duration": 261,
    "start_time": "2022-04-05T17:46:04.837Z"
   },
   {
    "duration": 4,
    "start_time": "2022-04-05T17:46:05.100Z"
   },
   {
    "duration": 8,
    "start_time": "2022-04-05T17:46:05.105Z"
   },
   {
    "duration": 7,
    "start_time": "2022-04-05T17:46:05.133Z"
   },
   {
    "duration": 24328,
    "start_time": "2022-04-05T17:46:05.142Z"
   },
   {
    "duration": 3,
    "start_time": "2022-04-05T17:46:29.472Z"
   },
   {
    "duration": 14,
    "start_time": "2022-04-05T17:46:29.476Z"
   },
   {
    "duration": 9,
    "start_time": "2022-04-05T17:46:29.492Z"
   },
   {
    "duration": 36,
    "start_time": "2022-04-05T17:46:29.503Z"
   },
   {
    "duration": 13,
    "start_time": "2022-04-05T17:46:29.541Z"
   },
   {
    "duration": 16,
    "start_time": "2022-04-05T17:46:29.555Z"
   },
   {
    "duration": 127,
    "start_time": "2022-04-05T17:46:29.573Z"
   },
   {
    "duration": 11,
    "start_time": "2022-04-05T17:46:29.702Z"
   },
   {
    "duration": 4,
    "start_time": "2022-04-05T17:46:29.715Z"
   },
   {
    "duration": 2845,
    "start_time": "2022-04-05T17:47:01.846Z"
   },
   {
    "duration": 11,
    "start_time": "2022-04-05T17:47:14.048Z"
   },
   {
    "duration": 723,
    "start_time": "2022-04-05T17:47:32.766Z"
   },
   {
    "duration": 855,
    "start_time": "2022-04-05T17:47:52.252Z"
   },
   {
    "duration": 902,
    "start_time": "2022-04-05T17:48:00.548Z"
   },
   {
    "duration": 774,
    "start_time": "2022-04-05T17:48:13.544Z"
   },
   {
    "duration": 924,
    "start_time": "2022-04-05T17:51:08.514Z"
   },
   {
    "duration": 856,
    "start_time": "2022-04-05T17:51:39.811Z"
   },
   {
    "duration": 700,
    "start_time": "2022-04-05T17:53:25.433Z"
   },
   {
    "duration": 5,
    "start_time": "2022-04-05T17:55:16.171Z"
   },
   {
    "duration": 2734,
    "start_time": "2022-04-05T17:55:17.165Z"
   },
   {
    "duration": 13,
    "start_time": "2022-04-05T17:55:20.636Z"
   },
   {
    "duration": 791,
    "start_time": "2022-04-05T17:55:23.232Z"
   },
   {
    "duration": 85,
    "start_time": "2022-04-05T17:56:08.888Z"
   },
   {
    "duration": 81,
    "start_time": "2022-04-05T17:56:54.777Z"
   },
   {
    "duration": 49,
    "start_time": "2022-04-05T17:57:14.518Z"
   },
   {
    "duration": 677,
    "start_time": "2022-04-05T17:57:32.293Z"
   },
   {
    "duration": 4,
    "start_time": "2022-04-05T17:59:21.087Z"
   },
   {
    "duration": 79,
    "start_time": "2022-04-05T18:00:05.310Z"
   },
   {
    "duration": 751,
    "start_time": "2022-04-05T18:03:44.047Z"
   },
   {
    "duration": 12,
    "start_time": "2022-04-05T18:04:48.990Z"
   },
   {
    "duration": 6,
    "start_time": "2022-04-05T18:04:59.255Z"
   },
   {
    "duration": 10,
    "start_time": "2022-04-05T18:07:08.973Z"
   },
   {
    "duration": 10,
    "start_time": "2022-04-05T18:07:46.749Z"
   },
   {
    "duration": 23,
    "start_time": "2022-04-05T18:08:42.115Z"
   },
   {
    "duration": 10,
    "start_time": "2022-04-05T18:08:55.822Z"
   },
   {
    "duration": 14,
    "start_time": "2022-04-05T18:09:09.402Z"
   },
   {
    "duration": 15,
    "start_time": "2022-04-05T18:09:27.738Z"
   },
   {
    "duration": 14,
    "start_time": "2022-04-05T18:09:40.810Z"
   },
   {
    "duration": 15,
    "start_time": "2022-04-05T18:09:52.024Z"
   },
   {
    "duration": 8,
    "start_time": "2022-04-05T18:10:09.925Z"
   },
   {
    "duration": 1964,
    "start_time": "2022-04-05T18:10:14.092Z"
   },
   {
    "duration": 783,
    "start_time": "2022-04-05T18:10:16.058Z"
   },
   {
    "duration": 3,
    "start_time": "2022-04-05T18:10:16.843Z"
   },
   {
    "duration": 257,
    "start_time": "2022-04-05T18:10:16.848Z"
   },
   {
    "duration": 3,
    "start_time": "2022-04-05T18:10:17.106Z"
   },
   {
    "duration": 9,
    "start_time": "2022-04-05T18:10:17.111Z"
   },
   {
    "duration": 253,
    "start_time": "2022-04-05T18:10:17.133Z"
   },
   {
    "duration": 4,
    "start_time": "2022-04-05T18:10:17.388Z"
   },
   {
    "duration": 6,
    "start_time": "2022-04-05T18:10:17.394Z"
   },
   {
    "duration": 5,
    "start_time": "2022-04-05T18:10:17.402Z"
   },
   {
    "duration": 23249,
    "start_time": "2022-04-05T18:10:17.408Z"
   },
   {
    "duration": 3,
    "start_time": "2022-04-05T18:10:40.659Z"
   },
   {
    "duration": 12,
    "start_time": "2022-04-05T18:10:40.663Z"
   },
   {
    "duration": 9,
    "start_time": "2022-04-05T18:10:40.677Z"
   },
   {
    "duration": 6,
    "start_time": "2022-04-05T18:10:40.687Z"
   },
   {
    "duration": 39,
    "start_time": "2022-04-05T18:10:40.695Z"
   },
   {
    "duration": 17,
    "start_time": "2022-04-05T18:10:40.735Z"
   },
   {
    "duration": 118,
    "start_time": "2022-04-05T18:10:40.753Z"
   },
   {
    "duration": 10,
    "start_time": "2022-04-05T18:10:40.873Z"
   },
   {
    "duration": 5,
    "start_time": "2022-04-05T18:10:40.884Z"
   },
   {
    "duration": 2724,
    "start_time": "2022-04-05T18:10:40.891Z"
   },
   {
    "duration": 20,
    "start_time": "2022-04-05T18:10:43.616Z"
   },
   {
    "duration": 761,
    "start_time": "2022-04-05T18:10:43.637Z"
   },
   {
    "duration": 20,
    "start_time": "2022-04-05T18:10:44.399Z"
   },
   {
    "duration": 21,
    "start_time": "2022-04-05T18:10:44.420Z"
   },
   {
    "duration": 15,
    "start_time": "2022-04-05T18:10:44.442Z"
   },
   {
    "duration": 14,
    "start_time": "2022-04-05T18:10:44.458Z"
   },
   {
    "duration": 15,
    "start_time": "2022-04-05T18:10:44.475Z"
   },
   {
    "duration": 46,
    "start_time": "2022-04-05T18:10:44.492Z"
   },
   {
    "duration": 7,
    "start_time": "2022-04-05T18:10:44.540Z"
   },
   {
    "duration": 26,
    "start_time": "2022-04-05T18:14:12.786Z"
   },
   {
    "duration": 4,
    "start_time": "2022-04-05T18:15:04.438Z"
   },
   {
    "duration": 13,
    "start_time": "2022-04-05T18:15:05.139Z"
   },
   {
    "duration": 22,
    "start_time": "2022-04-05T18:15:26.327Z"
   },
   {
    "duration": 24,
    "start_time": "2022-04-05T18:15:42.754Z"
   },
   {
    "duration": 20,
    "start_time": "2022-04-05T18:15:59.525Z"
   },
   {
    "duration": 14,
    "start_time": "2022-04-05T18:16:11.052Z"
   },
   {
    "duration": 27,
    "start_time": "2022-04-05T18:18:47.131Z"
   },
   {
    "duration": 19,
    "start_time": "2022-04-05T18:18:59.079Z"
   },
   {
    "duration": 11,
    "start_time": "2022-04-05T18:19:30.823Z"
   },
   {
    "duration": 5,
    "start_time": "2022-04-05T18:19:44.873Z"
   },
   {
    "duration": 12,
    "start_time": "2022-04-05T18:19:55.479Z"
   },
   {
    "duration": 11,
    "start_time": "2022-04-05T18:20:23.052Z"
   },
   {
    "duration": 6,
    "start_time": "2022-04-05T18:22:40.890Z"
   },
   {
    "duration": 8,
    "start_time": "2022-04-05T18:22:53.476Z"
   },
   {
    "duration": 7,
    "start_time": "2022-04-05T18:23:10.691Z"
   },
   {
    "duration": 3,
    "start_time": "2022-04-05T18:24:25.256Z"
   },
   {
    "duration": 205,
    "start_time": "2022-04-05T18:24:25.848Z"
   },
   {
    "duration": 657,
    "start_time": "2022-04-05T18:32:49.397Z"
   },
   {
    "duration": 8958,
    "start_time": "2022-04-05T18:33:51.061Z"
   },
   {
    "duration": 78,
    "start_time": "2022-04-05T18:34:30.264Z"
   },
   {
    "duration": 129,
    "start_time": "2022-04-05T18:34:36.159Z"
   },
   {
    "duration": 19,
    "start_time": "2022-04-05T18:34:43.485Z"
   },
   {
    "duration": 18,
    "start_time": "2022-04-05T18:34:53.212Z"
   },
   {
    "duration": 9262,
    "start_time": "2022-04-05T18:34:58.146Z"
   },
   {
    "duration": 9028,
    "start_time": "2022-04-05T18:35:51.616Z"
   },
   {
    "duration": 9634,
    "start_time": "2022-04-05T18:36:15.718Z"
   },
   {
    "duration": 9493,
    "start_time": "2022-04-05T18:36:43.756Z"
   },
   {
    "duration": 8941,
    "start_time": "2022-04-05T18:37:13.821Z"
   },
   {
    "duration": 9235,
    "start_time": "2022-04-05T18:37:42.979Z"
   },
   {
    "duration": 9131,
    "start_time": "2022-04-05T18:38:34.989Z"
   },
   {
    "duration": 9570,
    "start_time": "2022-04-05T18:38:57.550Z"
   },
   {
    "duration": 8992,
    "start_time": "2022-04-05T18:39:35.214Z"
   },
   {
    "duration": 9062,
    "start_time": "2022-04-05T18:40:20.352Z"
   },
   {
    "duration": 372,
    "start_time": "2022-04-05T18:41:17.322Z"
   },
   {
    "duration": 47,
    "start_time": "2022-04-05T18:41:47.994Z"
   },
   {
    "duration": 15,
    "start_time": "2022-04-06T13:18:11.043Z"
   },
   {
    "duration": 3483,
    "start_time": "2022-04-06T13:18:18.186Z"
   },
   {
    "duration": 884,
    "start_time": "2022-04-06T13:18:21.672Z"
   },
   {
    "duration": 5,
    "start_time": "2022-04-06T13:18:22.558Z"
   },
   {
    "duration": 380,
    "start_time": "2022-04-06T13:18:22.567Z"
   },
   {
    "duration": 4,
    "start_time": "2022-04-06T13:18:22.949Z"
   },
   {
    "duration": 7,
    "start_time": "2022-04-06T13:18:22.955Z"
   },
   {
    "duration": 399,
    "start_time": "2022-04-06T13:18:22.984Z"
   },
   {
    "duration": 5,
    "start_time": "2022-04-06T13:18:23.386Z"
   },
   {
    "duration": 9,
    "start_time": "2022-04-06T13:18:23.393Z"
   },
   {
    "duration": 10,
    "start_time": "2022-04-06T13:18:23.406Z"
   },
   {
    "duration": 24239,
    "start_time": "2022-04-06T13:18:23.418Z"
   },
   {
    "duration": 4,
    "start_time": "2022-04-06T13:18:47.659Z"
   },
   {
    "duration": 32,
    "start_time": "2022-04-06T13:18:47.665Z"
   },
   {
    "duration": 14,
    "start_time": "2022-04-06T13:18:47.699Z"
   },
   {
    "duration": 13,
    "start_time": "2022-04-06T13:18:47.715Z"
   },
   {
    "duration": 8,
    "start_time": "2022-04-06T13:18:47.730Z"
   },
   {
    "duration": 61,
    "start_time": "2022-04-06T13:18:47.740Z"
   },
   {
    "duration": 210,
    "start_time": "2022-04-06T13:18:47.803Z"
   },
   {
    "duration": 17,
    "start_time": "2022-04-06T13:18:48.015Z"
   },
   {
    "duration": 8,
    "start_time": "2022-04-06T13:18:48.034Z"
   },
   {
    "duration": 9353,
    "start_time": "2022-04-06T13:19:04.725Z"
   },
   {
    "duration": 24,
    "start_time": "2022-04-06T13:19:18.957Z"
   },
   {
    "duration": 2232,
    "start_time": "2022-04-06T13:19:32.501Z"
   },
   {
    "duration": 964,
    "start_time": "2022-04-06T13:20:38.989Z"
   },
   {
    "duration": 997,
    "start_time": "2022-04-06T13:20:43.005Z"
   },
   {
    "duration": 1345,
    "start_time": "2022-04-06T13:22:05.248Z"
   },
   {
    "duration": 1340,
    "start_time": "2022-04-06T13:23:35.686Z"
   },
   {
    "duration": 1339,
    "start_time": "2022-04-06T13:23:51.934Z"
   },
   {
    "duration": 7,
    "start_time": "2022-04-06T13:26:00.046Z"
   },
   {
    "duration": 26,
    "start_time": "2022-04-06T13:26:59.909Z"
   },
   {
    "duration": 12,
    "start_time": "2022-04-06T13:29:42.061Z"
   },
   {
    "duration": 10,
    "start_time": "2022-04-06T13:29:56.517Z"
   },
   {
    "duration": 13,
    "start_time": "2022-04-06T13:30:17.860Z"
   },
   {
    "duration": 2058,
    "start_time": "2022-04-06T13:33:57.839Z"
   },
   {
    "duration": 864,
    "start_time": "2022-04-06T13:33:59.900Z"
   },
   {
    "duration": 4,
    "start_time": "2022-04-06T13:34:00.767Z"
   },
   {
    "duration": 372,
    "start_time": "2022-04-06T13:34:00.774Z"
   },
   {
    "duration": 4,
    "start_time": "2022-04-06T13:34:01.148Z"
   },
   {
    "duration": 14,
    "start_time": "2022-04-06T13:34:01.154Z"
   },
   {
    "duration": 618,
    "start_time": "2022-04-06T13:34:01.185Z"
   },
   {
    "duration": 8,
    "start_time": "2022-04-06T13:34:01.806Z"
   },
   {
    "duration": 34,
    "start_time": "2022-04-06T13:34:01.817Z"
   },
   {
    "duration": 9,
    "start_time": "2022-04-06T13:34:01.858Z"
   },
   {
    "duration": 40097,
    "start_time": "2022-04-06T13:34:01.870Z"
   },
   {
    "duration": 25,
    "start_time": "2022-04-06T13:34:41.970Z"
   },
   {
    "duration": 6,
    "start_time": "2022-04-06T13:34:41.998Z"
   },
   {
    "duration": 17,
    "start_time": "2022-04-06T13:34:42.007Z"
   },
   {
    "duration": 16,
    "start_time": "2022-04-06T13:34:42.026Z"
   },
   {
    "duration": 46,
    "start_time": "2022-04-06T13:34:42.044Z"
   },
   {
    "duration": 10,
    "start_time": "2022-04-06T13:34:42.092Z"
   },
   {
    "duration": 22,
    "start_time": "2022-04-06T13:34:42.104Z"
   },
   {
    "duration": 216,
    "start_time": "2022-04-06T13:34:42.129Z"
   },
   {
    "duration": 16,
    "start_time": "2022-04-06T13:34:42.347Z"
   },
   {
    "duration": 20,
    "start_time": "2022-04-06T13:34:42.366Z"
   },
   {
    "duration": 5103,
    "start_time": "2022-04-06T13:34:42.388Z"
   },
   {
    "duration": 17,
    "start_time": "2022-04-06T13:34:47.493Z"
   },
   {
    "duration": 1248,
    "start_time": "2022-04-06T13:34:47.512Z"
   },
   {
    "duration": 33,
    "start_time": "2022-04-06T13:34:48.762Z"
   },
   {
    "duration": 11,
    "start_time": "2022-04-06T13:34:48.797Z"
   },
   {
    "duration": 9,
    "start_time": "2022-04-06T13:34:48.811Z"
   },
   {
    "duration": 14,
    "start_time": "2022-04-06T13:34:48.824Z"
   },
   {
    "duration": 11,
    "start_time": "2022-04-06T13:35:48.519Z"
   },
   {
    "duration": 13,
    "start_time": "2022-04-06T13:36:02.492Z"
   },
   {
    "duration": 20181,
    "start_time": "2022-04-06T13:36:34.708Z"
   },
   {
    "duration": 12,
    "start_time": "2022-04-06T13:37:11.844Z"
   },
   {
    "duration": 1185,
    "start_time": "2022-04-06T13:38:08.379Z"
   },
   {
    "duration": 10,
    "start_time": "2022-04-06T13:38:22.978Z"
   },
   {
    "duration": 85713,
    "start_time": "2022-04-06T13:38:46.467Z"
   },
   {
    "duration": 13,
    "start_time": "2022-04-06T13:40:16.099Z"
   },
   {
    "duration": 27,
    "start_time": "2022-04-06T13:40:49.333Z"
   },
   {
    "duration": 25,
    "start_time": "2022-04-06T13:42:58.092Z"
   },
   {
    "duration": 22,
    "start_time": "2022-04-06T13:43:17.436Z"
   },
   {
    "duration": 235,
    "start_time": "2022-04-06T13:43:32.403Z"
   },
   {
    "duration": 329,
    "start_time": "2022-04-06T13:43:57.678Z"
   },
   {
    "duration": 239,
    "start_time": "2022-04-06T13:44:07.533Z"
   },
   {
    "duration": 288,
    "start_time": "2022-04-06T13:44:24.598Z"
   },
   {
    "duration": 263,
    "start_time": "2022-04-06T13:44:31.773Z"
   },
   {
    "duration": 37,
    "start_time": "2022-04-06T13:45:44.318Z"
   },
   {
    "duration": 17,
    "start_time": "2022-04-06T13:45:57.798Z"
   },
   {
    "duration": 22,
    "start_time": "2022-04-06T13:46:12.493Z"
   },
   {
    "duration": 23,
    "start_time": "2022-04-06T13:46:22.342Z"
   },
   {
    "duration": 25,
    "start_time": "2022-04-06T13:46:32.598Z"
   },
   {
    "duration": 22,
    "start_time": "2022-04-06T13:46:42.335Z"
   },
   {
    "duration": 280,
    "start_time": "2022-04-06T13:47:19.166Z"
   },
   {
    "duration": 273,
    "start_time": "2022-04-06T13:47:49.646Z"
   },
   {
    "duration": 15,
    "start_time": "2022-04-06T13:48:12.181Z"
   },
   {
    "duration": 2143,
    "start_time": "2022-04-06T13:49:53.257Z"
   },
   {
    "duration": 10534,
    "start_time": "2022-04-06T13:49:55.403Z"
   },
   {
    "duration": 5,
    "start_time": "2022-04-06T13:50:05.939Z"
   },
   {
    "duration": 600,
    "start_time": "2022-04-06T13:50:05.948Z"
   },
   {
    "duration": 4,
    "start_time": "2022-04-06T13:50:06.550Z"
   },
   {
    "duration": 32,
    "start_time": "2022-04-06T13:50:06.557Z"
   },
   {
    "duration": 397,
    "start_time": "2022-04-06T13:50:06.591Z"
   },
   {
    "duration": 9,
    "start_time": "2022-04-06T13:50:06.991Z"
   },
   {
    "duration": 16,
    "start_time": "2022-04-06T13:50:07.003Z"
   },
   {
    "duration": 11,
    "start_time": "2022-04-06T13:50:07.023Z"
   },
   {
    "duration": 53695,
    "start_time": "2022-04-06T13:50:07.037Z"
   },
   {
    "duration": 18,
    "start_time": "2022-04-06T13:51:00.735Z"
   },
   {
    "duration": 38,
    "start_time": "2022-04-06T13:51:00.756Z"
   },
   {
    "duration": 27,
    "start_time": "2022-04-06T13:51:00.797Z"
   },
   {
    "duration": 56279,
    "start_time": "2022-04-06T13:51:00.827Z"
   },
   {
    "duration": 14,
    "start_time": "2022-04-06T13:51:57.108Z"
   },
   {
    "duration": 7,
    "start_time": "2022-04-06T13:51:57.124Z"
   },
   {
    "duration": 52,
    "start_time": "2022-04-06T13:51:57.133Z"
   },
   {
    "duration": 15,
    "start_time": "2022-04-06T13:51:57.187Z"
   },
   {
    "duration": 11,
    "start_time": "2022-04-06T13:51:57.204Z"
   },
   {
    "duration": 12,
    "start_time": "2022-04-06T13:51:57.217Z"
   },
   {
    "duration": 69,
    "start_time": "2022-04-06T13:51:57.231Z"
   },
   {
    "duration": 1227,
    "start_time": "2022-04-06T13:51:57.304Z"
   },
   {
    "duration": 10,
    "start_time": "2022-04-06T13:51:58.533Z"
   },
   {
    "duration": 82887,
    "start_time": "2022-04-06T13:51:58.545Z"
   },
   {
    "duration": 14,
    "start_time": "2022-04-06T13:53:21.434Z"
   },
   {
    "duration": 279,
    "start_time": "2022-04-06T13:53:21.451Z"
   },
   {
    "duration": 27,
    "start_time": "2022-04-06T13:53:21.736Z"
   },
   {
    "duration": 17,
    "start_time": "2022-04-06T13:53:21.785Z"
   },
   {
    "duration": 8,
    "start_time": "2022-04-06T13:53:21.805Z"
   },
   {
    "duration": 6401,
    "start_time": "2022-04-06T13:53:21.816Z"
   },
   {
    "duration": 19,
    "start_time": "2022-04-06T13:53:28.219Z"
   },
   {
    "duration": 1361,
    "start_time": "2022-04-06T13:53:28.240Z"
   },
   {
    "duration": 40,
    "start_time": "2022-04-06T13:53:29.604Z"
   },
   {
    "duration": 62,
    "start_time": "2022-04-06T13:53:29.647Z"
   },
   {
    "duration": 400,
    "start_time": "2022-04-06T13:53:29.712Z"
   },
   {
    "duration": 52,
    "start_time": "2022-04-06T13:53:30.115Z"
   },
   {
    "duration": 37,
    "start_time": "2022-04-06T13:53:30.170Z"
   },
   {
    "duration": 44,
    "start_time": "2022-04-06T13:53:30.210Z"
   },
   {
    "duration": 41,
    "start_time": "2022-04-06T13:53:30.257Z"
   },
   {
    "duration": 21,
    "start_time": "2022-04-06T13:53:30.301Z"
   },
   {
    "duration": 21,
    "start_time": "2022-04-06T13:53:30.324Z"
   },
   {
    "duration": 309,
    "start_time": "2022-04-06T13:53:30.384Z"
   },
   {
    "duration": 22,
    "start_time": "2022-04-06T13:53:30.695Z"
   },
   {
    "duration": 45,
    "start_time": "2022-04-06T13:54:44.848Z"
   },
   {
    "duration": 22,
    "start_time": "2022-04-06T13:55:09.471Z"
   },
   {
    "duration": 42,
    "start_time": "2022-04-06T13:56:12.335Z"
   },
   {
    "duration": 5,
    "start_time": "2022-04-06T13:56:14.206Z"
   },
   {
    "duration": 8,
    "start_time": "2022-04-06T13:56:20.951Z"
   },
   {
    "duration": 18,
    "start_time": "2022-04-06T13:56:31.168Z"
   },
   {
    "duration": 33,
    "start_time": "2022-04-06T13:56:40.863Z"
   },
   {
    "duration": 35,
    "start_time": "2022-04-06T13:56:53.376Z"
   },
   {
    "duration": 49,
    "start_time": "2022-04-06T13:57:03.869Z"
   },
   {
    "duration": 20,
    "start_time": "2022-04-06T13:57:17.760Z"
   },
   {
    "duration": 63,
    "start_time": "2022-04-06T13:57:32.672Z"
   },
   {
    "duration": 45,
    "start_time": "2022-04-06T13:57:49.912Z"
   },
   {
    "duration": 21,
    "start_time": "2022-04-06T13:58:06.793Z"
   },
   {
    "duration": 8,
    "start_time": "2022-04-06T13:58:19.735Z"
   },
   {
    "duration": 17,
    "start_time": "2022-04-06T13:58:32.648Z"
   },
   {
    "duration": 19,
    "start_time": "2022-04-06T13:58:40.291Z"
   },
   {
    "duration": 21,
    "start_time": "2022-04-06T13:59:01.649Z"
   },
   {
    "duration": 1213,
    "start_time": "2022-04-06T13:59:25.298Z"
   },
   {
    "duration": 235,
    "start_time": "2022-04-06T14:02:12.186Z"
   },
   {
    "duration": 1261,
    "start_time": "2022-04-06T14:02:23.257Z"
   },
   {
    "duration": 6,
    "start_time": "2022-04-06T14:04:21.794Z"
   },
   {
    "duration": 746,
    "start_time": "2022-04-06T14:04:31.530Z"
   },
   {
    "duration": 1320,
    "start_time": "2022-04-06T14:06:35.715Z"
   },
   {
    "duration": 21,
    "start_time": "2022-04-06T14:07:32.202Z"
   },
   {
    "duration": 6,
    "start_time": "2022-04-06T14:08:26.881Z"
   },
   {
    "duration": 22,
    "start_time": "2022-04-06T14:08:43.122Z"
   },
   {
    "duration": 24,
    "start_time": "2022-04-06T14:09:04.124Z"
   },
   {
    "duration": 165,
    "start_time": "2022-04-06T14:13:35.795Z"
   },
   {
    "duration": 14,
    "start_time": "2022-04-06T14:13:40.393Z"
   },
   {
    "duration": 14,
    "start_time": "2022-04-06T14:13:44.531Z"
   },
   {
    "duration": 22,
    "start_time": "2022-04-06T14:14:02.458Z"
   },
   {
    "duration": 54,
    "start_time": "2022-04-06T17:42:37.423Z"
   },
   {
    "duration": 1651,
    "start_time": "2022-04-06T17:42:44.554Z"
   },
   {
    "duration": 757,
    "start_time": "2022-04-06T17:42:46.207Z"
   },
   {
    "duration": 3,
    "start_time": "2022-04-06T17:42:46.966Z"
   },
   {
    "duration": 282,
    "start_time": "2022-04-06T17:42:46.972Z"
   },
   {
    "duration": 3,
    "start_time": "2022-04-06T17:42:47.255Z"
   },
   {
    "duration": 8,
    "start_time": "2022-04-06T17:42:47.259Z"
   },
   {
    "duration": 304,
    "start_time": "2022-04-06T17:42:47.268Z"
   },
   {
    "duration": 4,
    "start_time": "2022-04-06T17:42:47.573Z"
   },
   {
    "duration": 9,
    "start_time": "2022-04-06T17:42:47.579Z"
   },
   {
    "duration": 21,
    "start_time": "2022-04-06T17:42:47.591Z"
   },
   {
    "duration": 33761,
    "start_time": "2022-04-06T17:42:47.614Z"
   },
   {
    "duration": 25,
    "start_time": "2022-04-06T17:43:21.387Z"
   },
   {
    "duration": 11,
    "start_time": "2022-04-06T17:43:21.414Z"
   },
   {
    "duration": 10,
    "start_time": "2022-04-06T17:43:21.427Z"
   },
   {
    "duration": 32375,
    "start_time": "2022-04-06T17:43:21.439Z"
   },
   {
    "duration": 9,
    "start_time": "2022-04-06T17:43:53.816Z"
   },
   {
    "duration": 3,
    "start_time": "2022-04-06T17:43:53.827Z"
   },
   {
    "duration": 17,
    "start_time": "2022-04-06T17:43:53.831Z"
   },
   {
    "duration": 10,
    "start_time": "2022-04-06T17:43:53.849Z"
   },
   {
    "duration": 6,
    "start_time": "2022-04-06T17:43:53.861Z"
   },
   {
    "duration": 14,
    "start_time": "2022-04-06T17:43:53.868Z"
   },
   {
    "duration": 41,
    "start_time": "2022-04-06T17:43:53.883Z"
   },
   {
    "duration": 901,
    "start_time": "2022-04-06T17:43:53.925Z"
   },
   {
    "duration": 7,
    "start_time": "2022-04-06T17:43:54.827Z"
   },
   {
    "duration": 61162,
    "start_time": "2022-04-06T17:43:54.836Z"
   },
   {
    "duration": 14,
    "start_time": "2022-04-06T17:44:56.000Z"
   },
   {
    "duration": 112,
    "start_time": "2022-04-06T17:44:56.016Z"
   },
   {
    "duration": 17,
    "start_time": "2022-04-06T17:44:56.132Z"
   },
   {
    "duration": 13,
    "start_time": "2022-04-06T17:44:56.150Z"
   },
   {
    "duration": 20,
    "start_time": "2022-04-06T17:44:56.165Z"
   },
   {
    "duration": 3442,
    "start_time": "2022-04-06T17:44:56.187Z"
   },
   {
    "duration": 11,
    "start_time": "2022-04-06T17:44:59.631Z"
   },
   {
    "duration": 4,
    "start_time": "2022-04-06T17:44:59.644Z"
   },
   {
    "duration": 699,
    "start_time": "2022-04-06T17:44:59.649Z"
   },
   {
    "duration": 596,
    "start_time": "2022-04-06T17:45:00.350Z"
   },
   {
    "duration": 0,
    "start_time": "2022-04-06T17:45:00.949Z"
   },
   {
    "duration": 0,
    "start_time": "2022-04-06T17:45:00.950Z"
   },
   {
    "duration": 0,
    "start_time": "2022-04-06T17:45:00.953Z"
   },
   {
    "duration": 0,
    "start_time": "2022-04-06T17:45:00.954Z"
   },
   {
    "duration": 0,
    "start_time": "2022-04-06T17:45:00.956Z"
   },
   {
    "duration": 0,
    "start_time": "2022-04-06T17:45:00.957Z"
   },
   {
    "duration": 0,
    "start_time": "2022-04-06T17:45:00.959Z"
   },
   {
    "duration": 0,
    "start_time": "2022-04-06T17:45:00.960Z"
   },
   {
    "duration": 0,
    "start_time": "2022-04-06T17:45:00.962Z"
   },
   {
    "duration": 0,
    "start_time": "2022-04-06T17:45:00.964Z"
   },
   {
    "duration": 0,
    "start_time": "2022-04-06T17:45:00.965Z"
   },
   {
    "duration": 0,
    "start_time": "2022-04-06T17:45:00.967Z"
   },
   {
    "duration": 0,
    "start_time": "2022-04-06T17:45:00.968Z"
   },
   {
    "duration": 0,
    "start_time": "2022-04-06T17:45:00.970Z"
   },
   {
    "duration": 0,
    "start_time": "2022-04-06T17:45:01.010Z"
   },
   {
    "duration": 0,
    "start_time": "2022-04-06T17:45:01.011Z"
   },
   {
    "duration": 0,
    "start_time": "2022-04-06T17:45:01.013Z"
   },
   {
    "duration": 0,
    "start_time": "2022-04-06T17:45:01.015Z"
   },
   {
    "duration": 0,
    "start_time": "2022-04-06T17:45:01.017Z"
   },
   {
    "duration": 0,
    "start_time": "2022-04-06T17:45:01.018Z"
   },
   {
    "duration": 0,
    "start_time": "2022-04-06T17:45:01.020Z"
   },
   {
    "duration": 0,
    "start_time": "2022-04-06T17:45:01.021Z"
   },
   {
    "duration": 0,
    "start_time": "2022-04-06T17:45:01.022Z"
   },
   {
    "duration": 0,
    "start_time": "2022-04-06T17:45:01.024Z"
   },
   {
    "duration": 0,
    "start_time": "2022-04-06T17:45:01.026Z"
   },
   {
    "duration": 580,
    "start_time": "2022-04-06T18:01:36.753Z"
   },
   {
    "duration": 767,
    "start_time": "2022-04-06T18:01:43.864Z"
   },
   {
    "duration": 809,
    "start_time": "2022-04-06T18:02:23.729Z"
   },
   {
    "duration": 707,
    "start_time": "2022-04-06T18:02:34.757Z"
   },
   {
    "duration": 749,
    "start_time": "2022-04-06T18:02:45.108Z"
   },
   {
    "duration": 10,
    "start_time": "2022-04-06T18:02:58.306Z"
   },
   {
    "duration": 10,
    "start_time": "2022-04-06T18:03:11.486Z"
   },
   {
    "duration": 853,
    "start_time": "2022-04-06T18:03:28.470Z"
   },
   {
    "duration": 18,
    "start_time": "2022-04-06T18:04:12.335Z"
   },
   {
    "duration": 17,
    "start_time": "2022-04-06T18:04:24.327Z"
   },
   {
    "duration": 144,
    "start_time": "2022-04-06T18:04:26.114Z"
   },
   {
    "duration": 23,
    "start_time": "2022-04-06T18:04:29.191Z"
   },
   {
    "duration": 12,
    "start_time": "2022-04-06T18:04:32.507Z"
   },
   {
    "duration": 15,
    "start_time": "2022-04-06T18:04:35.853Z"
   },
   {
    "duration": 14,
    "start_time": "2022-04-06T18:04:38.649Z"
   },
   {
    "duration": 16,
    "start_time": "2022-04-06T18:04:42.761Z"
   },
   {
    "duration": 16,
    "start_time": "2022-04-06T18:04:46.907Z"
   },
   {
    "duration": 179,
    "start_time": "2022-04-06T18:04:49.001Z"
   },
   {
    "duration": 22,
    "start_time": "2022-04-06T18:04:53.488Z"
   },
   {
    "duration": 28,
    "start_time": "2022-04-06T18:06:31.550Z"
   },
   {
    "duration": 15,
    "start_time": "2022-04-06T18:06:46.088Z"
   },
   {
    "duration": 23,
    "start_time": "2022-04-06T18:07:27.106Z"
   },
   {
    "duration": 5,
    "start_time": "2022-04-06T18:07:52.167Z"
   },
   {
    "duration": 19,
    "start_time": "2022-04-06T18:07:57.126Z"
   },
   {
    "duration": 34,
    "start_time": "2022-04-06T18:08:01.294Z"
   },
   {
    "duration": 23,
    "start_time": "2022-04-06T18:08:08.613Z"
   },
   {
    "duration": 22,
    "start_time": "2022-04-06T18:08:15.087Z"
   },
   {
    "duration": 19,
    "start_time": "2022-04-06T18:08:21.037Z"
   },
   {
    "duration": 27,
    "start_time": "2022-04-06T18:08:25.671Z"
   },
   {
    "duration": 26,
    "start_time": "2022-04-06T18:11:04.841Z"
   },
   {
    "duration": 32,
    "start_time": "2022-04-06T18:12:04.672Z"
   },
   {
    "duration": 21,
    "start_time": "2022-04-06T18:12:10.822Z"
   },
   {
    "duration": 11,
    "start_time": "2022-04-06T18:12:11.784Z"
   },
   {
    "duration": 13,
    "start_time": "2022-04-06T18:12:12.334Z"
   },
   {
    "duration": 11,
    "start_time": "2022-04-06T18:12:17.450Z"
   },
   {
    "duration": 2,
    "start_time": "2022-04-06T18:12:38.536Z"
   },
   {
    "duration": 120,
    "start_time": "2022-04-06T18:12:48.109Z"
   },
   {
    "duration": 1474,
    "start_time": "2022-04-06T18:14:49.397Z"
   },
   {
    "duration": 697,
    "start_time": "2022-04-06T18:14:50.873Z"
   },
   {
    "duration": 3,
    "start_time": "2022-04-06T18:14:51.572Z"
   },
   {
    "duration": 261,
    "start_time": "2022-04-06T18:14:51.577Z"
   },
   {
    "duration": 3,
    "start_time": "2022-04-06T18:14:51.840Z"
   },
   {
    "duration": 5,
    "start_time": "2022-04-06T18:14:51.844Z"
   },
   {
    "duration": 294,
    "start_time": "2022-04-06T18:14:51.850Z"
   },
   {
    "duration": 3,
    "start_time": "2022-04-06T18:14:52.146Z"
   },
   {
    "duration": 7,
    "start_time": "2022-04-06T18:14:52.151Z"
   },
   {
    "duration": 5,
    "start_time": "2022-04-06T18:14:52.161Z"
   },
   {
    "duration": 31269,
    "start_time": "2022-04-06T18:14:52.168Z"
   },
   {
    "duration": 10,
    "start_time": "2022-04-06T18:15:23.438Z"
   },
   {
    "duration": 7,
    "start_time": "2022-04-06T18:15:23.450Z"
   },
   {
    "duration": 12,
    "start_time": "2022-04-06T18:15:23.459Z"
   },
   {
    "duration": 29166,
    "start_time": "2022-04-06T18:15:23.473Z"
   },
   {
    "duration": 9,
    "start_time": "2022-04-06T18:15:52.640Z"
   },
   {
    "duration": 30,
    "start_time": "2022-04-06T18:15:52.650Z"
   },
   {
    "duration": 37,
    "start_time": "2022-04-06T18:15:52.681Z"
   },
   {
    "duration": 44,
    "start_time": "2022-04-06T18:15:52.720Z"
   },
   {
    "duration": 10,
    "start_time": "2022-04-06T18:15:52.766Z"
   },
   {
    "duration": 57,
    "start_time": "2022-04-06T18:15:52.777Z"
   },
   {
    "duration": 61,
    "start_time": "2022-04-06T18:15:52.835Z"
   },
   {
    "duration": 900,
    "start_time": "2022-04-06T18:15:52.898Z"
   },
   {
    "duration": 8,
    "start_time": "2022-04-06T18:15:53.800Z"
   },
   {
    "duration": 55453,
    "start_time": "2022-04-06T18:15:53.810Z"
   },
   {
    "duration": 10,
    "start_time": "2022-04-06T18:16:49.265Z"
   },
   {
    "duration": 109,
    "start_time": "2022-04-06T18:16:49.277Z"
   },
   {
    "duration": 20,
    "start_time": "2022-04-06T18:16:49.389Z"
   },
   {
    "duration": 9,
    "start_time": "2022-04-06T18:16:49.411Z"
   },
   {
    "duration": 5,
    "start_time": "2022-04-06T18:16:49.422Z"
   },
   {
    "duration": 3217,
    "start_time": "2022-04-06T18:16:49.428Z"
   },
   {
    "duration": 12,
    "start_time": "2022-04-06T18:16:52.647Z"
   },
   {
    "duration": 3,
    "start_time": "2022-04-06T18:16:52.660Z"
   },
   {
    "duration": 656,
    "start_time": "2022-04-06T18:16:52.665Z"
   },
   {
    "duration": 701,
    "start_time": "2022-04-06T18:16:53.323Z"
   },
   {
    "duration": 16,
    "start_time": "2022-04-06T18:16:54.026Z"
   },
   {
    "duration": 15,
    "start_time": "2022-04-06T18:16:54.044Z"
   },
   {
    "duration": 161,
    "start_time": "2022-04-06T18:16:54.061Z"
   },
   {
    "duration": 22,
    "start_time": "2022-04-06T18:16:54.224Z"
   },
   {
    "duration": 14,
    "start_time": "2022-04-06T18:16:54.247Z"
   },
   {
    "duration": 16,
    "start_time": "2022-04-06T18:16:54.263Z"
   },
   {
    "duration": 36,
    "start_time": "2022-04-06T18:16:54.281Z"
   },
   {
    "duration": 14,
    "start_time": "2022-04-06T18:16:54.318Z"
   },
   {
    "duration": 13,
    "start_time": "2022-04-06T18:16:54.334Z"
   },
   {
    "duration": 181,
    "start_time": "2022-04-06T18:16:54.349Z"
   },
   {
    "duration": 15,
    "start_time": "2022-04-06T18:16:54.532Z"
   },
   {
    "duration": 20,
    "start_time": "2022-04-06T18:16:54.549Z"
   },
   {
    "duration": 4,
    "start_time": "2022-04-06T18:16:54.571Z"
   },
   {
    "duration": 144,
    "start_time": "2022-04-06T18:16:54.576Z"
   },
   {
    "duration": 0,
    "start_time": "2022-04-06T18:16:54.722Z"
   },
   {
    "duration": 0,
    "start_time": "2022-04-06T18:16:54.723Z"
   },
   {
    "duration": 0,
    "start_time": "2022-04-06T18:16:54.724Z"
   },
   {
    "duration": 1,
    "start_time": "2022-04-06T18:16:54.725Z"
   },
   {
    "duration": 0,
    "start_time": "2022-04-06T18:16:54.727Z"
   },
   {
    "duration": 0,
    "start_time": "2022-04-06T18:16:54.728Z"
   },
   {
    "duration": 0,
    "start_time": "2022-04-06T18:16:54.729Z"
   },
   {
    "duration": 0,
    "start_time": "2022-04-06T18:16:54.730Z"
   },
   {
    "duration": 0,
    "start_time": "2022-04-06T18:16:54.731Z"
   },
   {
    "duration": 0,
    "start_time": "2022-04-06T18:16:54.732Z"
   },
   {
    "duration": 0,
    "start_time": "2022-04-06T18:16:54.734Z"
   },
   {
    "duration": 15,
    "start_time": "2022-04-06T18:20:03.453Z"
   },
   {
    "duration": 9,
    "start_time": "2022-04-06T18:20:12.369Z"
   },
   {
    "duration": 13,
    "start_time": "2022-04-06T18:20:28.508Z"
   },
   {
    "duration": 15,
    "start_time": "2022-04-06T18:20:46.014Z"
   },
   {
    "duration": 1424,
    "start_time": "2022-04-06T18:23:30.146Z"
   },
   {
    "duration": 1437,
    "start_time": "2022-04-06T18:23:59.545Z"
   },
   {
    "duration": 751,
    "start_time": "2022-04-06T18:24:00.984Z"
   },
   {
    "duration": 3,
    "start_time": "2022-04-06T18:24:01.737Z"
   },
   {
    "duration": 267,
    "start_time": "2022-04-06T18:24:01.742Z"
   },
   {
    "duration": 2,
    "start_time": "2022-04-06T18:24:02.011Z"
   },
   {
    "duration": 7,
    "start_time": "2022-04-06T18:24:02.014Z"
   },
   {
    "duration": 289,
    "start_time": "2022-04-06T18:24:02.022Z"
   },
   {
    "duration": 4,
    "start_time": "2022-04-06T18:24:02.313Z"
   },
   {
    "duration": 16,
    "start_time": "2022-04-06T18:24:02.318Z"
   },
   {
    "duration": 4,
    "start_time": "2022-04-06T18:24:02.337Z"
   },
   {
    "duration": 32193,
    "start_time": "2022-04-06T18:24:02.343Z"
   },
   {
    "duration": 10,
    "start_time": "2022-04-06T18:24:34.537Z"
   },
   {
    "duration": 7,
    "start_time": "2022-04-06T18:24:34.548Z"
   },
   {
    "duration": 14,
    "start_time": "2022-04-06T18:24:34.556Z"
   },
   {
    "duration": 30014,
    "start_time": "2022-04-06T18:24:34.571Z"
   },
   {
    "duration": 10,
    "start_time": "2022-04-06T18:25:04.586Z"
   },
   {
    "duration": 12,
    "start_time": "2022-04-06T18:25:04.598Z"
   },
   {
    "duration": 14,
    "start_time": "2022-04-06T18:25:04.611Z"
   },
   {
    "duration": 11,
    "start_time": "2022-04-06T18:25:04.626Z"
   },
   {
    "duration": 6,
    "start_time": "2022-04-06T18:25:04.638Z"
   },
   {
    "duration": 9,
    "start_time": "2022-04-06T18:25:04.645Z"
   },
   {
    "duration": 1607,
    "start_time": "2022-04-06T18:25:04.656Z"
   },
   {
    "duration": 0,
    "start_time": "2022-04-06T18:25:06.266Z"
   },
   {
    "duration": 0,
    "start_time": "2022-04-06T18:25:06.267Z"
   },
   {
    "duration": 0,
    "start_time": "2022-04-06T18:25:06.268Z"
   },
   {
    "duration": 0,
    "start_time": "2022-04-06T18:25:06.269Z"
   },
   {
    "duration": 0,
    "start_time": "2022-04-06T18:25:06.270Z"
   },
   {
    "duration": 0,
    "start_time": "2022-04-06T18:25:06.271Z"
   },
   {
    "duration": 0,
    "start_time": "2022-04-06T18:25:06.273Z"
   },
   {
    "duration": 0,
    "start_time": "2022-04-06T18:25:06.274Z"
   },
   {
    "duration": 0,
    "start_time": "2022-04-06T18:25:06.275Z"
   },
   {
    "duration": 0,
    "start_time": "2022-04-06T18:25:06.276Z"
   },
   {
    "duration": 1,
    "start_time": "2022-04-06T18:25:06.277Z"
   },
   {
    "duration": 0,
    "start_time": "2022-04-06T18:25:06.280Z"
   },
   {
    "duration": 0,
    "start_time": "2022-04-06T18:25:06.281Z"
   },
   {
    "duration": 0,
    "start_time": "2022-04-06T18:25:06.282Z"
   },
   {
    "duration": 0,
    "start_time": "2022-04-06T18:25:06.283Z"
   },
   {
    "duration": 0,
    "start_time": "2022-04-06T18:25:06.284Z"
   },
   {
    "duration": 0,
    "start_time": "2022-04-06T18:25:06.285Z"
   },
   {
    "duration": 0,
    "start_time": "2022-04-06T18:25:06.286Z"
   },
   {
    "duration": 0,
    "start_time": "2022-04-06T18:25:06.287Z"
   },
   {
    "duration": 0,
    "start_time": "2022-04-06T18:25:06.289Z"
   },
   {
    "duration": 0,
    "start_time": "2022-04-06T18:25:06.290Z"
   },
   {
    "duration": 0,
    "start_time": "2022-04-06T18:25:06.291Z"
   },
   {
    "duration": 0,
    "start_time": "2022-04-06T18:25:06.291Z"
   },
   {
    "duration": 0,
    "start_time": "2022-04-06T18:25:06.292Z"
   },
   {
    "duration": 0,
    "start_time": "2022-04-06T18:25:06.293Z"
   },
   {
    "duration": 0,
    "start_time": "2022-04-06T18:25:06.294Z"
   },
   {
    "duration": 0,
    "start_time": "2022-04-06T18:25:06.295Z"
   },
   {
    "duration": 0,
    "start_time": "2022-04-06T18:25:06.296Z"
   },
   {
    "duration": 0,
    "start_time": "2022-04-06T18:25:06.297Z"
   },
   {
    "duration": 0,
    "start_time": "2022-04-06T18:25:06.298Z"
   },
   {
    "duration": 0,
    "start_time": "2022-04-06T18:25:06.299Z"
   },
   {
    "duration": 0,
    "start_time": "2022-04-06T18:25:06.300Z"
   },
   {
    "duration": 0,
    "start_time": "2022-04-06T18:25:06.301Z"
   },
   {
    "duration": 0,
    "start_time": "2022-04-06T18:25:06.309Z"
   },
   {
    "duration": 0,
    "start_time": "2022-04-06T18:25:06.310Z"
   },
   {
    "duration": 0,
    "start_time": "2022-04-06T18:25:06.311Z"
   },
   {
    "duration": 0,
    "start_time": "2022-04-06T18:25:06.312Z"
   },
   {
    "duration": 0,
    "start_time": "2022-04-06T18:25:06.313Z"
   },
   {
    "duration": 1489,
    "start_time": "2022-04-06T18:25:36.800Z"
   },
   {
    "duration": 1444,
    "start_time": "2022-04-06T18:25:49.062Z"
   },
   {
    "duration": 1416,
    "start_time": "2022-04-06T18:26:15.591Z"
   },
   {
    "duration": 1439,
    "start_time": "2022-04-06T18:26:45.961Z"
   },
   {
    "duration": 1446,
    "start_time": "2022-04-06T18:26:58.624Z"
   },
   {
    "duration": 2212,
    "start_time": "2022-04-07T18:16:08.259Z"
   },
   {
    "duration": 867,
    "start_time": "2022-04-07T18:16:10.475Z"
   },
   {
    "duration": 5,
    "start_time": "2022-04-07T18:16:11.345Z"
   },
   {
    "duration": 393,
    "start_time": "2022-04-07T18:16:11.353Z"
   },
   {
    "duration": 3,
    "start_time": "2022-04-07T18:16:11.748Z"
   },
   {
    "duration": 4,
    "start_time": "2022-04-07T18:16:11.768Z"
   },
   {
    "duration": 397,
    "start_time": "2022-04-07T18:16:11.774Z"
   },
   {
    "duration": 7,
    "start_time": "2022-04-07T18:16:12.173Z"
   },
   {
    "duration": 7,
    "start_time": "2022-04-07T18:16:12.183Z"
   },
   {
    "duration": 7,
    "start_time": "2022-04-07T18:16:12.194Z"
   },
   {
    "duration": 15,
    "start_time": "2022-04-07T18:16:12.204Z"
   },
   {
    "duration": 53,
    "start_time": "2022-04-07T18:16:12.221Z"
   },
   {
    "duration": 14,
    "start_time": "2022-04-07T18:16:12.276Z"
   },
   {
    "duration": 37214,
    "start_time": "2022-04-07T18:16:12.292Z"
   },
   {
    "duration": 11,
    "start_time": "2022-04-07T18:16:49.509Z"
   },
   {
    "duration": 4,
    "start_time": "2022-04-07T18:16:49.523Z"
   },
   {
    "duration": 41,
    "start_time": "2022-04-07T18:16:49.529Z"
   },
   {
    "duration": 16,
    "start_time": "2022-04-07T18:16:49.573Z"
   },
   {
    "duration": 14,
    "start_time": "2022-04-07T18:16:49.593Z"
   },
   {
    "duration": 14,
    "start_time": "2022-04-07T18:16:49.610Z"
   },
   {
    "duration": 1271,
    "start_time": "2022-04-07T18:16:49.626Z"
   },
   {
    "duration": 10,
    "start_time": "2022-04-07T18:16:50.899Z"
   },
   {
    "duration": 61709,
    "start_time": "2022-04-07T18:16:50.911Z"
   },
   {
    "duration": 15,
    "start_time": "2022-04-07T18:17:52.622Z"
   },
   {
    "duration": 203,
    "start_time": "2022-04-07T18:17:52.639Z"
   },
   {
    "duration": 35,
    "start_time": "2022-04-07T18:17:52.845Z"
   },
   {
    "duration": 172,
    "start_time": "2022-04-07T18:17:52.883Z"
   },
   {
    "duration": 0,
    "start_time": "2022-04-07T18:17:53.059Z"
   },
   {
    "duration": 0,
    "start_time": "2022-04-07T18:17:53.061Z"
   },
   {
    "duration": 0,
    "start_time": "2022-04-07T18:17:53.066Z"
   },
   {
    "duration": 0,
    "start_time": "2022-04-07T18:17:53.068Z"
   },
   {
    "duration": 0,
    "start_time": "2022-04-07T18:17:53.070Z"
   },
   {
    "duration": 0,
    "start_time": "2022-04-07T18:17:53.071Z"
   },
   {
    "duration": 0,
    "start_time": "2022-04-07T18:17:53.073Z"
   },
   {
    "duration": 0,
    "start_time": "2022-04-07T18:17:53.075Z"
   },
   {
    "duration": 0,
    "start_time": "2022-04-07T18:17:53.076Z"
   },
   {
    "duration": 0,
    "start_time": "2022-04-07T18:17:53.078Z"
   },
   {
    "duration": 0,
    "start_time": "2022-04-07T18:17:53.079Z"
   },
   {
    "duration": 0,
    "start_time": "2022-04-07T18:17:53.081Z"
   },
   {
    "duration": 1,
    "start_time": "2022-04-07T18:17:53.082Z"
   },
   {
    "duration": 0,
    "start_time": "2022-04-07T18:17:53.084Z"
   },
   {
    "duration": 0,
    "start_time": "2022-04-07T18:17:53.086Z"
   },
   {
    "duration": 0,
    "start_time": "2022-04-07T18:17:53.087Z"
   },
   {
    "duration": 0,
    "start_time": "2022-04-07T18:17:53.089Z"
   },
   {
    "duration": 0,
    "start_time": "2022-04-07T18:17:53.090Z"
   },
   {
    "duration": 0,
    "start_time": "2022-04-07T18:17:53.092Z"
   },
   {
    "duration": 0,
    "start_time": "2022-04-07T18:17:53.093Z"
   },
   {
    "duration": 0,
    "start_time": "2022-04-07T18:17:53.095Z"
   },
   {
    "duration": 0,
    "start_time": "2022-04-07T18:17:53.097Z"
   },
   {
    "duration": 0,
    "start_time": "2022-04-07T18:17:53.099Z"
   },
   {
    "duration": 0,
    "start_time": "2022-04-07T18:17:53.101Z"
   },
   {
    "duration": 0,
    "start_time": "2022-04-07T18:17:53.167Z"
   },
   {
    "duration": 0,
    "start_time": "2022-04-07T18:17:53.168Z"
   },
   {
    "duration": 0,
    "start_time": "2022-04-07T18:17:53.170Z"
   },
   {
    "duration": 0,
    "start_time": "2022-04-07T18:17:53.172Z"
   },
   {
    "duration": 0,
    "start_time": "2022-04-07T18:17:53.174Z"
   },
   {
    "duration": 0,
    "start_time": "2022-04-07T18:17:53.175Z"
   },
   {
    "duration": 0,
    "start_time": "2022-04-07T18:17:53.177Z"
   },
   {
    "duration": 4,
    "start_time": "2022-04-07T18:22:16.892Z"
   },
   {
    "duration": 7,
    "start_time": "2022-04-07T18:22:18.821Z"
   },
   {
    "duration": 12,
    "start_time": "2022-04-07T18:22:19.523Z"
   },
   {
    "duration": 11,
    "start_time": "2022-04-07T18:22:19.926Z"
   },
   {
    "duration": 6,
    "start_time": "2022-04-07T18:22:20.131Z"
   },
   {
    "duration": 810,
    "start_time": "2022-04-07T18:22:20.360Z"
   },
   {
    "duration": 707,
    "start_time": "2022-04-07T18:22:21.173Z"
   },
   {
    "duration": 0,
    "start_time": "2022-04-07T18:22:21.883Z"
   },
   {
    "duration": 0,
    "start_time": "2022-04-07T18:22:21.885Z"
   },
   {
    "duration": 0,
    "start_time": "2022-04-07T18:22:21.886Z"
   },
   {
    "duration": 1,
    "start_time": "2022-04-07T18:22:21.887Z"
   },
   {
    "duration": 0,
    "start_time": "2022-04-07T18:22:21.890Z"
   },
   {
    "duration": 0,
    "start_time": "2022-04-07T18:22:21.891Z"
   },
   {
    "duration": 0,
    "start_time": "2022-04-07T18:22:21.892Z"
   },
   {
    "duration": 11,
    "start_time": "2022-04-07T18:22:22.025Z"
   },
   {
    "duration": 12,
    "start_time": "2022-04-07T18:22:30.618Z"
   },
   {
    "duration": 0,
    "start_time": "2022-04-07T18:22:30.634Z"
   },
   {
    "duration": 0,
    "start_time": "2022-04-07T18:22:30.636Z"
   },
   {
    "duration": 0,
    "start_time": "2022-04-07T18:22:30.639Z"
   },
   {
    "duration": 0,
    "start_time": "2022-04-07T18:22:30.641Z"
   },
   {
    "duration": 0,
    "start_time": "2022-04-07T18:22:30.644Z"
   },
   {
    "duration": 0,
    "start_time": "2022-04-07T18:22:30.646Z"
   },
   {
    "duration": 0,
    "start_time": "2022-04-07T18:22:30.648Z"
   },
   {
    "duration": 0,
    "start_time": "2022-04-07T18:22:30.651Z"
   },
   {
    "duration": 0,
    "start_time": "2022-04-07T18:22:30.653Z"
   },
   {
    "duration": 0,
    "start_time": "2022-04-07T18:22:30.655Z"
   },
   {
    "duration": 0,
    "start_time": "2022-04-07T18:22:30.656Z"
   },
   {
    "duration": 0,
    "start_time": "2022-04-07T18:22:30.658Z"
   },
   {
    "duration": 0,
    "start_time": "2022-04-07T18:22:30.661Z"
   },
   {
    "duration": 1,
    "start_time": "2022-04-07T18:22:30.662Z"
   },
   {
    "duration": 226,
    "start_time": "2022-04-07T18:23:45.624Z"
   },
   {
    "duration": 217,
    "start_time": "2022-04-07T18:24:28.569Z"
   },
   {
    "duration": 264,
    "start_time": "2022-04-07T18:24:40.219Z"
   },
   {
    "duration": 326,
    "start_time": "2022-04-07T18:24:47.715Z"
   },
   {
    "duration": 281,
    "start_time": "2022-04-07T18:24:58.286Z"
   },
   {
    "duration": 241,
    "start_time": "2022-04-07T18:25:03.334Z"
   },
   {
    "duration": 5,
    "start_time": "2022-04-07T18:25:20.993Z"
   },
   {
    "duration": 795,
    "start_time": "2022-04-07T18:25:29.760Z"
   },
   {
    "duration": 35,
    "start_time": "2022-04-07T18:25:48.821Z"
   },
   {
    "duration": 16,
    "start_time": "2022-04-07T18:25:59.995Z"
   },
   {
    "duration": 30,
    "start_time": "2022-04-07T18:26:08.931Z"
   },
   {
    "duration": 30,
    "start_time": "2022-04-07T18:26:33.137Z"
   },
   {
    "duration": 6,
    "start_time": "2022-04-07T18:26:39.684Z"
   },
   {
    "duration": 21,
    "start_time": "2022-04-07T18:26:45.359Z"
   },
   {
    "duration": 25,
    "start_time": "2022-04-07T18:26:55.769Z"
   },
   {
    "duration": 23,
    "start_time": "2022-04-07T18:27:06.028Z"
   },
   {
    "duration": 23,
    "start_time": "2022-04-07T18:27:16.539Z"
   },
   {
    "duration": 292,
    "start_time": "2022-04-07T18:27:31.879Z"
   },
   {
    "duration": 289,
    "start_time": "2022-04-07T18:27:42.381Z"
   },
   {
    "duration": 22,
    "start_time": "2022-04-07T18:28:01.198Z"
   },
   {
    "duration": 40,
    "start_time": "2022-04-07T18:29:21.415Z"
   },
   {
    "duration": 50,
    "start_time": "2022-04-07T18:29:30.247Z"
   },
   {
    "duration": 4,
    "start_time": "2022-04-07T18:30:19.463Z"
   },
   {
    "duration": 23,
    "start_time": "2022-04-07T18:30:30.622Z"
   },
   {
    "duration": 4,
    "start_time": "2022-04-07T18:30:44.733Z"
   },
   {
    "duration": 8,
    "start_time": "2022-04-07T18:30:50.505Z"
   },
   {
    "duration": 958,
    "start_time": "2022-04-07T18:35:10.801Z"
   },
   {
    "duration": 8,
    "start_time": "2022-04-07T18:45:13.724Z"
   },
   {
    "duration": 6,
    "start_time": "2022-04-07T18:45:31.394Z"
   },
   {
    "duration": 7,
    "start_time": "2022-04-07T18:46:03.063Z"
   },
   {
    "duration": 8,
    "start_time": "2022-04-07T18:46:22.699Z"
   },
   {
    "duration": 6,
    "start_time": "2022-04-07T18:46:37.102Z"
   },
   {
    "duration": 7,
    "start_time": "2022-04-07T18:46:43.335Z"
   },
   {
    "duration": 20,
    "start_time": "2022-04-07T18:48:36.802Z"
   },
   {
    "duration": 17,
    "start_time": "2022-04-07T18:49:03.553Z"
   },
   {
    "duration": 9,
    "start_time": "2022-04-07T18:49:20.571Z"
   },
   {
    "duration": 1923,
    "start_time": "2022-04-07T18:49:26.702Z"
   },
   {
    "duration": 889,
    "start_time": "2022-04-07T18:49:28.627Z"
   },
   {
    "duration": 5,
    "start_time": "2022-04-07T18:49:29.518Z"
   },
   {
    "duration": 359,
    "start_time": "2022-04-07T18:49:29.525Z"
   },
   {
    "duration": 3,
    "start_time": "2022-04-07T18:49:29.887Z"
   },
   {
    "duration": 6,
    "start_time": "2022-04-07T18:49:29.892Z"
   },
   {
    "duration": 381,
    "start_time": "2022-04-07T18:49:29.900Z"
   },
   {
    "duration": 6,
    "start_time": "2022-04-07T18:49:30.283Z"
   },
   {
    "duration": 15,
    "start_time": "2022-04-07T18:49:30.291Z"
   },
   {
    "duration": 15,
    "start_time": "2022-04-07T18:49:30.312Z"
   },
   {
    "duration": 38,
    "start_time": "2022-04-07T18:49:30.330Z"
   },
   {
    "duration": 11,
    "start_time": "2022-04-07T18:49:30.371Z"
   },
   {
    "duration": 16,
    "start_time": "2022-04-07T18:49:30.385Z"
   },
   {
    "duration": 34499,
    "start_time": "2022-04-07T18:49:30.404Z"
   },
   {
    "duration": 13,
    "start_time": "2022-04-07T18:50:04.905Z"
   },
   {
    "duration": 3,
    "start_time": "2022-04-07T18:50:04.921Z"
   },
   {
    "duration": 46,
    "start_time": "2022-04-07T18:50:04.927Z"
   },
   {
    "duration": 13,
    "start_time": "2022-04-07T18:50:04.975Z"
   },
   {
    "duration": 8,
    "start_time": "2022-04-07T18:50:04.991Z"
   },
   {
    "duration": 20,
    "start_time": "2022-04-07T18:50:05.001Z"
   },
   {
    "duration": 1163,
    "start_time": "2022-04-07T18:50:05.023Z"
   },
   {
    "duration": 13,
    "start_time": "2022-04-07T18:50:06.189Z"
   },
   {
    "duration": 55687,
    "start_time": "2022-04-07T18:50:06.204Z"
   },
   {
    "duration": 14,
    "start_time": "2022-04-07T18:51:01.893Z"
   },
   {
    "duration": 210,
    "start_time": "2022-04-07T18:51:01.910Z"
   },
   {
    "duration": 26,
    "start_time": "2022-04-07T18:51:02.123Z"
   },
   {
    "duration": 5,
    "start_time": "2022-04-07T18:51:02.168Z"
   },
   {
    "duration": 283,
    "start_time": "2022-04-07T18:51:02.181Z"
   },
   {
    "duration": 6,
    "start_time": "2022-04-07T18:51:02.468Z"
   },
   {
    "duration": 781,
    "start_time": "2022-04-07T18:51:02.477Z"
   },
   {
    "duration": 35,
    "start_time": "2022-04-07T18:51:03.268Z"
   },
   {
    "duration": 17,
    "start_time": "2022-04-07T18:51:03.305Z"
   },
   {
    "duration": 53,
    "start_time": "2022-04-07T18:51:03.325Z"
   },
   {
    "duration": 125,
    "start_time": "2022-04-07T18:51:03.381Z"
   },
   {
    "duration": 23,
    "start_time": "2022-04-07T18:51:03.509Z"
   },
   {
    "duration": 48,
    "start_time": "2022-04-07T18:51:03.535Z"
   },
   {
    "duration": 303,
    "start_time": "2022-04-07T18:51:03.586Z"
   },
   {
    "duration": 25,
    "start_time": "2022-04-07T18:51:03.892Z"
   },
   {
    "duration": 10,
    "start_time": "2022-04-07T18:51:03.919Z"
   },
   {
    "duration": 47,
    "start_time": "2022-04-07T18:51:03.931Z"
   },
   {
    "duration": 46,
    "start_time": "2022-04-07T18:51:03.981Z"
   },
   {
    "duration": 39,
    "start_time": "2022-04-07T18:51:04.030Z"
   },
   {
    "duration": 1234,
    "start_time": "2022-04-07T18:51:04.072Z"
   },
   {
    "duration": 0,
    "start_time": "2022-04-07T18:51:05.309Z"
   },
   {
    "duration": 0,
    "start_time": "2022-04-07T18:51:05.311Z"
   },
   {
    "duration": 38,
    "start_time": "2022-04-07T18:52:21.367Z"
   },
   {
    "duration": 31,
    "start_time": "2022-04-07T18:52:35.532Z"
   },
   {
    "duration": 23,
    "start_time": "2022-04-07T18:53:07.755Z"
   },
   {
    "duration": 3,
    "start_time": "2022-04-07T18:53:29.389Z"
   },
   {
    "duration": 12,
    "start_time": "2022-04-07T18:53:49.204Z"
   },
   {
    "duration": 22,
    "start_time": "2022-04-07T18:54:08.553Z"
   },
   {
    "duration": 22,
    "start_time": "2022-04-07T18:56:53.824Z"
   },
   {
    "duration": 30,
    "start_time": "2022-04-07T19:02:07.968Z"
   },
   {
    "duration": 15,
    "start_time": "2022-04-07T19:02:31.257Z"
   },
   {
    "duration": 11,
    "start_time": "2022-04-07T19:02:44.526Z"
   },
   {
    "duration": 267,
    "start_time": "2022-04-07T19:06:30.293Z"
   },
   {
    "duration": 2732,
    "start_time": "2022-04-07T19:17:24.485Z"
   },
   {
    "duration": 791,
    "start_time": "2022-04-07T19:17:27.219Z"
   },
   {
    "duration": 5,
    "start_time": "2022-04-07T19:17:28.012Z"
   },
   {
    "duration": 350,
    "start_time": "2022-04-07T19:17:28.020Z"
   },
   {
    "duration": 4,
    "start_time": "2022-04-07T19:17:28.372Z"
   },
   {
    "duration": 5,
    "start_time": "2022-04-07T19:17:28.378Z"
   },
   {
    "duration": 368,
    "start_time": "2022-04-07T19:17:28.385Z"
   },
   {
    "duration": 14,
    "start_time": "2022-04-07T19:17:28.755Z"
   },
   {
    "duration": 8,
    "start_time": "2022-04-07T19:17:28.771Z"
   },
   {
    "duration": 6,
    "start_time": "2022-04-07T19:17:28.783Z"
   },
   {
    "duration": 16,
    "start_time": "2022-04-07T19:17:28.791Z"
   },
   {
    "duration": 8,
    "start_time": "2022-04-07T19:17:28.809Z"
   },
   {
    "duration": 57,
    "start_time": "2022-04-07T19:17:28.819Z"
   },
   {
    "duration": 34826,
    "start_time": "2022-04-07T19:17:28.878Z"
   },
   {
    "duration": 13,
    "start_time": "2022-04-07T19:18:03.706Z"
   },
   {
    "duration": 4,
    "start_time": "2022-04-07T19:18:03.721Z"
   },
   {
    "duration": 20,
    "start_time": "2022-04-07T19:18:03.727Z"
   },
   {
    "duration": 13,
    "start_time": "2022-04-07T19:18:03.768Z"
   },
   {
    "duration": 8,
    "start_time": "2022-04-07T19:18:03.783Z"
   },
   {
    "duration": 15,
    "start_time": "2022-04-07T19:18:03.793Z"
   },
   {
    "duration": 1065,
    "start_time": "2022-04-07T19:18:03.810Z"
   },
   {
    "duration": 9,
    "start_time": "2022-04-07T19:18:04.877Z"
   },
   {
    "duration": 55438,
    "start_time": "2022-04-07T19:18:04.889Z"
   },
   {
    "duration": 14,
    "start_time": "2022-04-07T19:19:00.330Z"
   },
   {
    "duration": 199,
    "start_time": "2022-04-07T19:19:00.346Z"
   },
   {
    "duration": 38,
    "start_time": "2022-04-07T19:19:00.547Z"
   },
   {
    "duration": 4,
    "start_time": "2022-04-07T19:19:00.587Z"
   },
   {
    "duration": 267,
    "start_time": "2022-04-07T19:19:00.597Z"
   },
   {
    "duration": 5,
    "start_time": "2022-04-07T19:19:00.866Z"
   },
   {
    "duration": 772,
    "start_time": "2022-04-07T19:19:00.873Z"
   },
   {
    "duration": 42,
    "start_time": "2022-04-07T19:19:01.647Z"
   },
   {
    "duration": 17,
    "start_time": "2022-04-07T19:19:01.691Z"
   },
   {
    "duration": 25,
    "start_time": "2022-04-07T19:19:01.710Z"
   },
   {
    "duration": 50,
    "start_time": "2022-04-07T19:19:01.737Z"
   },
   {
    "duration": 116,
    "start_time": "2022-04-07T19:19:01.790Z"
   },
   {
    "duration": 22,
    "start_time": "2022-04-07T19:19:01.908Z"
   },
   {
    "duration": 310,
    "start_time": "2022-04-07T19:19:01.932Z"
   },
   {
    "duration": 34,
    "start_time": "2022-04-07T19:19:02.244Z"
   },
   {
    "duration": 8,
    "start_time": "2022-04-07T19:19:02.280Z"
   },
   {
    "duration": 14,
    "start_time": "2022-04-07T19:19:02.290Z"
   },
   {
    "duration": 33,
    "start_time": "2022-04-07T19:19:02.306Z"
   },
   {
    "duration": 27,
    "start_time": "2022-04-07T19:19:02.342Z"
   },
   {
    "duration": 173,
    "start_time": "2022-04-07T19:19:02.371Z"
   },
   {
    "duration": 0,
    "start_time": "2022-04-07T19:19:02.546Z"
   },
   {
    "duration": 0,
    "start_time": "2022-04-07T19:19:02.548Z"
   },
   {
    "duration": 18,
    "start_time": "2022-04-07T19:25:34.353Z"
   },
   {
    "duration": 144,
    "start_time": "2022-04-07T19:27:37.985Z"
   },
   {
    "duration": 22,
    "start_time": "2022-04-07T19:27:49.933Z"
   },
   {
    "duration": 1885,
    "start_time": "2022-04-07T19:27:58.820Z"
   },
   {
    "duration": 854,
    "start_time": "2022-04-07T19:28:00.707Z"
   },
   {
    "duration": 5,
    "start_time": "2022-04-07T19:28:01.564Z"
   },
   {
    "duration": 359,
    "start_time": "2022-04-07T19:28:01.572Z"
   },
   {
    "duration": 4,
    "start_time": "2022-04-07T19:28:01.933Z"
   },
   {
    "duration": 9,
    "start_time": "2022-04-07T19:28:01.939Z"
   },
   {
    "duration": 374,
    "start_time": "2022-04-07T19:28:01.950Z"
   },
   {
    "duration": 6,
    "start_time": "2022-04-07T19:28:02.326Z"
   },
   {
    "duration": 13,
    "start_time": "2022-04-07T19:28:02.334Z"
   },
   {
    "duration": 5,
    "start_time": "2022-04-07T19:28:02.370Z"
   },
   {
    "duration": 19,
    "start_time": "2022-04-07T19:28:02.377Z"
   },
   {
    "duration": 10,
    "start_time": "2022-04-07T19:28:02.398Z"
   },
   {
    "duration": 14,
    "start_time": "2022-04-07T19:28:02.410Z"
   },
   {
    "duration": 33770,
    "start_time": "2022-04-07T19:28:02.426Z"
   },
   {
    "duration": 15,
    "start_time": "2022-04-07T19:28:36.198Z"
   },
   {
    "duration": 4,
    "start_time": "2022-04-07T19:28:36.215Z"
   },
   {
    "duration": 47,
    "start_time": "2022-04-07T19:28:36.222Z"
   },
   {
    "duration": 14,
    "start_time": "2022-04-07T19:28:36.271Z"
   },
   {
    "duration": 8,
    "start_time": "2022-04-07T19:28:36.287Z"
   },
   {
    "duration": 17,
    "start_time": "2022-04-07T19:28:36.296Z"
   },
   {
    "duration": 1129,
    "start_time": "2022-04-07T19:28:36.316Z"
   },
   {
    "duration": 21,
    "start_time": "2022-04-07T19:28:37.447Z"
   },
   {
    "duration": 56355,
    "start_time": "2022-04-07T19:28:37.470Z"
   },
   {
    "duration": 16,
    "start_time": "2022-04-07T19:29:33.828Z"
   },
   {
    "duration": 210,
    "start_time": "2022-04-07T19:29:33.847Z"
   },
   {
    "duration": 30,
    "start_time": "2022-04-07T19:29:34.060Z"
   },
   {
    "duration": 4,
    "start_time": "2022-04-07T19:29:34.092Z"
   },
   {
    "duration": 285,
    "start_time": "2022-04-07T19:29:34.103Z"
   },
   {
    "duration": 6,
    "start_time": "2022-04-07T19:29:34.391Z"
   },
   {
    "duration": 754,
    "start_time": "2022-04-07T19:29:34.400Z"
   },
   {
    "duration": 41,
    "start_time": "2022-04-07T19:29:35.157Z"
   },
   {
    "duration": 19,
    "start_time": "2022-04-07T19:29:35.200Z"
   },
   {
    "duration": 48,
    "start_time": "2022-04-07T19:29:35.222Z"
   },
   {
    "duration": 23,
    "start_time": "2022-04-07T19:29:35.273Z"
   },
   {
    "duration": 119,
    "start_time": "2022-04-07T19:29:35.298Z"
   },
   {
    "duration": 22,
    "start_time": "2022-04-07T19:29:35.419Z"
   },
   {
    "duration": 280,
    "start_time": "2022-04-07T19:29:35.467Z"
   },
   {
    "duration": 30,
    "start_time": "2022-04-07T19:29:35.750Z"
   },
   {
    "duration": 8,
    "start_time": "2022-04-07T19:29:35.782Z"
   },
   {
    "duration": 21,
    "start_time": "2022-04-07T19:29:35.792Z"
   },
   {
    "duration": 57,
    "start_time": "2022-04-07T19:29:35.815Z"
   },
   {
    "duration": 4,
    "start_time": "2022-04-07T19:29:35.874Z"
   },
   {
    "duration": 179,
    "start_time": "2022-04-07T19:29:35.880Z"
   },
   {
    "duration": 0,
    "start_time": "2022-04-07T19:29:36.061Z"
   },
   {
    "duration": 0,
    "start_time": "2022-04-07T19:29:36.063Z"
   },
   {
    "duration": 0,
    "start_time": "2022-04-07T19:29:36.068Z"
   },
   {
    "duration": 11,
    "start_time": "2022-04-07T19:30:25.224Z"
   },
   {
    "duration": 45,
    "start_time": "2022-04-10T16:55:32.933Z"
   },
   {
    "duration": 1611,
    "start_time": "2022-04-10T16:55:38.699Z"
   },
   {
    "duration": 700,
    "start_time": "2022-04-10T16:55:40.312Z"
   },
   {
    "duration": 3,
    "start_time": "2022-04-10T16:55:41.014Z"
   },
   {
    "duration": 216,
    "start_time": "2022-04-10T16:55:41.019Z"
   },
   {
    "duration": 2,
    "start_time": "2022-04-10T16:55:41.237Z"
   },
   {
    "duration": 5,
    "start_time": "2022-04-10T16:55:41.241Z"
   },
   {
    "duration": 227,
    "start_time": "2022-04-10T16:55:41.247Z"
   },
   {
    "duration": 6,
    "start_time": "2022-04-10T16:55:41.475Z"
   },
   {
    "duration": 6,
    "start_time": "2022-04-10T16:55:41.482Z"
   },
   {
    "duration": 7,
    "start_time": "2022-04-10T16:55:41.490Z"
   },
   {
    "duration": 9,
    "start_time": "2022-04-10T16:55:41.499Z"
   },
   {
    "duration": 5,
    "start_time": "2022-04-10T16:55:41.510Z"
   },
   {
    "duration": 9,
    "start_time": "2022-04-10T16:55:41.516Z"
   },
   {
    "duration": 26722,
    "start_time": "2022-04-10T16:55:41.526Z"
   },
   {
    "duration": 8,
    "start_time": "2022-04-10T16:56:08.250Z"
   },
   {
    "duration": 3,
    "start_time": "2022-04-10T16:56:08.259Z"
   },
   {
    "duration": 21,
    "start_time": "2022-04-10T16:56:08.263Z"
   },
   {
    "duration": 9,
    "start_time": "2022-04-10T16:56:08.285Z"
   },
   {
    "duration": 4,
    "start_time": "2022-04-10T16:56:08.296Z"
   },
   {
    "duration": 8,
    "start_time": "2022-04-10T16:56:08.302Z"
   },
   {
    "duration": 873,
    "start_time": "2022-04-10T16:56:08.312Z"
   },
   {
    "duration": 6,
    "start_time": "2022-04-10T16:56:09.186Z"
   },
   {
    "duration": 43557,
    "start_time": "2022-04-10T16:56:09.193Z"
   },
   {
    "duration": 9,
    "start_time": "2022-04-10T16:56:52.752Z"
   },
   {
    "duration": 106,
    "start_time": "2022-04-10T16:56:52.763Z"
   },
   {
    "duration": 15,
    "start_time": "2022-04-10T16:56:52.871Z"
   },
   {
    "duration": 2,
    "start_time": "2022-04-10T16:56:52.888Z"
   },
   {
    "duration": 139,
    "start_time": "2022-04-10T16:56:52.893Z"
   },
   {
    "duration": 3,
    "start_time": "2022-04-10T16:56:53.034Z"
   },
   {
    "duration": 501,
    "start_time": "2022-04-10T16:56:53.039Z"
   },
   {
    "duration": 21,
    "start_time": "2022-04-10T16:56:53.542Z"
   },
   {
    "duration": 18,
    "start_time": "2022-04-10T16:56:53.564Z"
   },
   {
    "duration": 14,
    "start_time": "2022-04-10T16:56:53.583Z"
   },
   {
    "duration": 12,
    "start_time": "2022-04-10T16:56:53.598Z"
   },
   {
    "duration": 89,
    "start_time": "2022-04-10T16:56:53.611Z"
   },
   {
    "duration": 13,
    "start_time": "2022-04-10T16:56:53.701Z"
   },
   {
    "duration": 165,
    "start_time": "2022-04-10T16:56:53.716Z"
   },
   {
    "duration": 13,
    "start_time": "2022-04-10T16:56:53.883Z"
   },
   {
    "duration": 7,
    "start_time": "2022-04-10T16:56:53.897Z"
   },
   {
    "duration": 8,
    "start_time": "2022-04-10T16:56:53.905Z"
   },
   {
    "duration": 17,
    "start_time": "2022-04-10T16:56:53.915Z"
   },
   {
    "duration": 2,
    "start_time": "2022-04-10T16:56:53.934Z"
   },
   {
    "duration": 5,
    "start_time": "2022-04-10T16:56:53.937Z"
   },
   {
    "duration": 44,
    "start_time": "2022-04-10T16:56:53.943Z"
   },
   {
    "duration": 20,
    "start_time": "2022-04-10T16:56:53.989Z"
   },
   {
    "duration": 7,
    "start_time": "2022-04-10T16:56:54.011Z"
   },
   {
    "duration": 19,
    "start_time": "2022-04-10T16:57:56.752Z"
   },
   {
    "duration": 20,
    "start_time": "2022-04-10T16:58:13.017Z"
   },
   {
    "duration": 18,
    "start_time": "2022-04-10T16:58:22.584Z"
   },
   {
    "duration": 11,
    "start_time": "2022-04-10T16:58:39.998Z"
   },
   {
    "duration": 23,
    "start_time": "2022-04-10T16:58:58.022Z"
   },
   {
    "duration": 19,
    "start_time": "2022-04-10T16:59:11.850Z"
   },
   {
    "duration": 5,
    "start_time": "2022-04-10T16:59:26.266Z"
   },
   {
    "duration": 10,
    "start_time": "2022-04-10T16:59:34.210Z"
   },
   {
    "duration": 10,
    "start_time": "2022-04-10T16:59:48.367Z"
   },
   {
    "duration": 3,
    "start_time": "2022-04-10T17:00:58.215Z"
   },
   {
    "duration": 27,
    "start_time": "2022-04-10T17:01:05.763Z"
   },
   {
    "duration": 3,
    "start_time": "2022-04-10T17:01:18.828Z"
   },
   {
    "duration": 4,
    "start_time": "2022-04-10T17:01:27.505Z"
   },
   {
    "duration": 3,
    "start_time": "2022-04-10T17:01:42.567Z"
   },
   {
    "duration": 105,
    "start_time": "2022-04-10T17:01:55.809Z"
   },
   {
    "duration": 1462,
    "start_time": "2022-04-10T17:02:28.341Z"
   },
   {
    "duration": 863,
    "start_time": "2022-04-10T17:02:29.805Z"
   },
   {
    "duration": 4,
    "start_time": "2022-04-10T17:02:30.670Z"
   },
   {
    "duration": 341,
    "start_time": "2022-04-10T17:02:30.680Z"
   },
   {
    "duration": 2,
    "start_time": "2022-04-10T17:02:31.023Z"
   },
   {
    "duration": 14,
    "start_time": "2022-04-10T17:02:31.027Z"
   },
   {
    "duration": 339,
    "start_time": "2022-04-10T17:02:31.043Z"
   },
   {
    "duration": 5,
    "start_time": "2022-04-10T17:02:31.384Z"
   },
   {
    "duration": 6,
    "start_time": "2022-04-10T17:02:31.391Z"
   },
   {
    "duration": 9,
    "start_time": "2022-04-10T17:02:31.400Z"
   },
   {
    "duration": 18,
    "start_time": "2022-04-10T17:02:31.410Z"
   },
   {
    "duration": 7,
    "start_time": "2022-04-10T17:02:31.430Z"
   },
   {
    "duration": 19,
    "start_time": "2022-04-10T17:02:31.439Z"
   },
   {
    "duration": 27692,
    "start_time": "2022-04-10T17:02:31.460Z"
   },
   {
    "duration": 11,
    "start_time": "2022-04-10T17:02:59.154Z"
   },
   {
    "duration": 14,
    "start_time": "2022-04-10T17:02:59.167Z"
   },
   {
    "duration": 19,
    "start_time": "2022-04-10T17:02:59.182Z"
   },
   {
    "duration": 11,
    "start_time": "2022-04-10T17:02:59.203Z"
   },
   {
    "duration": 6,
    "start_time": "2022-04-10T17:02:59.216Z"
   },
   {
    "duration": 13,
    "start_time": "2022-04-10T17:02:59.224Z"
   },
   {
    "duration": 1079,
    "start_time": "2022-04-10T17:02:59.239Z"
   },
   {
    "duration": 11,
    "start_time": "2022-04-10T17:03:00.320Z"
   },
   {
    "duration": 46251,
    "start_time": "2022-04-10T17:03:00.333Z"
   },
   {
    "duration": 10,
    "start_time": "2022-04-10T17:03:46.586Z"
   },
   {
    "duration": 111,
    "start_time": "2022-04-10T17:03:46.597Z"
   },
   {
    "duration": 15,
    "start_time": "2022-04-10T17:03:46.710Z"
   },
   {
    "duration": 3,
    "start_time": "2022-04-10T17:03:46.726Z"
   },
   {
    "duration": 184,
    "start_time": "2022-04-10T17:03:46.733Z"
   },
   {
    "duration": 4,
    "start_time": "2022-04-10T17:03:46.919Z"
   },
   {
    "duration": 519,
    "start_time": "2022-04-10T17:03:46.925Z"
   },
   {
    "duration": 21,
    "start_time": "2022-04-10T17:03:47.446Z"
   },
   {
    "duration": 16,
    "start_time": "2022-04-10T17:03:47.468Z"
   },
   {
    "duration": 14,
    "start_time": "2022-04-10T17:03:47.486Z"
   },
   {
    "duration": 90,
    "start_time": "2022-04-10T17:03:47.501Z"
   },
   {
    "duration": 13,
    "start_time": "2022-04-10T17:03:47.592Z"
   },
   {
    "duration": 17,
    "start_time": "2022-04-10T17:03:47.606Z"
   },
   {
    "duration": 244,
    "start_time": "2022-04-10T17:03:47.624Z"
   },
   {
    "duration": 28,
    "start_time": "2022-04-10T17:03:47.870Z"
   },
   {
    "duration": 7,
    "start_time": "2022-04-10T17:03:47.899Z"
   },
   {
    "duration": 13,
    "start_time": "2022-04-10T17:03:47.907Z"
   },
   {
    "duration": 23,
    "start_time": "2022-04-10T17:03:47.921Z"
   },
   {
    "duration": 3,
    "start_time": "2022-04-10T17:03:47.946Z"
   },
   {
    "duration": 6,
    "start_time": "2022-04-10T17:03:47.950Z"
   },
   {
    "duration": 10,
    "start_time": "2022-04-10T17:03:47.981Z"
   },
   {
    "duration": 23,
    "start_time": "2022-04-10T17:03:47.992Z"
   },
   {
    "duration": 19,
    "start_time": "2022-04-10T17:03:48.017Z"
   },
   {
    "duration": 18,
    "start_time": "2022-04-10T17:03:48.038Z"
   },
   {
    "duration": 22,
    "start_time": "2022-04-10T17:03:48.082Z"
   },
   {
    "duration": 12,
    "start_time": "2022-04-10T17:03:48.105Z"
   },
   {
    "duration": 28,
    "start_time": "2022-04-10T17:03:48.118Z"
   },
   {
    "duration": 48,
    "start_time": "2022-04-10T17:03:48.148Z"
   },
   {
    "duration": 4,
    "start_time": "2022-04-10T17:03:48.198Z"
   },
   {
    "duration": 13,
    "start_time": "2022-04-10T17:03:48.204Z"
   },
   {
    "duration": 9,
    "start_time": "2022-04-10T17:03:48.218Z"
   },
   {
    "duration": 14,
    "start_time": "2022-04-10T17:03:48.229Z"
   },
   {
    "duration": 5,
    "start_time": "2022-04-10T17:03:48.245Z"
   },
   {
    "duration": 57,
    "start_time": "2022-04-10T17:03:48.252Z"
   },
   {
    "duration": 3,
    "start_time": "2022-04-10T17:03:48.310Z"
   },
   {
    "duration": 9,
    "start_time": "2022-04-10T17:03:48.315Z"
   },
   {
    "duration": 5,
    "start_time": "2022-04-10T17:03:48.325Z"
   },
   {
    "duration": 6,
    "start_time": "2022-04-10T17:03:48.332Z"
   },
   {
    "duration": 3,
    "start_time": "2022-04-10T17:03:56.436Z"
   },
   {
    "duration": 3,
    "start_time": "2022-04-10T17:04:04.220Z"
   },
   {
    "duration": 23781,
    "start_time": "2022-04-10T17:04:19.553Z"
   },
   {
    "duration": 23944,
    "start_time": "2022-04-10T17:04:55.114Z"
   },
   {
    "duration": 4,
    "start_time": "2022-04-10T17:05:53.311Z"
   },
   {
    "duration": 4,
    "start_time": "2022-04-10T17:06:15.303Z"
   },
   {
    "duration": 33569,
    "start_time": "2022-04-10T17:06:35.081Z"
   },
   {
    "duration": 3,
    "start_time": "2022-04-10T17:07:15.563Z"
   },
   {
    "duration": 3,
    "start_time": "2022-04-10T17:07:30.250Z"
   },
   {
    "duration": 3,
    "start_time": "2022-04-10T17:07:40.537Z"
   },
   {
    "duration": 2,
    "start_time": "2022-04-10T17:08:00.844Z"
   },
   {
    "duration": 2,
    "start_time": "2022-04-10T17:08:13.072Z"
   },
   {
    "duration": 308906,
    "start_time": "2022-04-10T17:08:28.168Z"
   },
   {
    "duration": 0,
    "start_time": "2022-04-10T17:13:37.080Z"
   },
   {
    "duration": 0,
    "start_time": "2022-04-10T17:13:37.081Z"
   },
   {
    "duration": 0,
    "start_time": "2022-04-10T17:13:37.082Z"
   },
   {
    "duration": 0,
    "start_time": "2022-04-10T17:13:37.083Z"
   },
   {
    "duration": 0,
    "start_time": "2022-04-10T17:13:37.084Z"
   },
   {
    "duration": 0,
    "start_time": "2022-04-10T17:13:37.085Z"
   },
   {
    "duration": 0,
    "start_time": "2022-04-10T17:13:37.086Z"
   },
   {
    "duration": 0,
    "start_time": "2022-04-10T17:13:37.087Z"
   },
   {
    "duration": 0,
    "start_time": "2022-04-10T17:13:37.088Z"
   },
   {
    "duration": 0,
    "start_time": "2022-04-10T17:13:37.089Z"
   },
   {
    "duration": 0,
    "start_time": "2022-04-10T17:13:37.090Z"
   },
   {
    "duration": 0,
    "start_time": "2022-04-10T17:13:37.091Z"
   },
   {
    "duration": 0,
    "start_time": "2022-04-10T17:13:37.091Z"
   },
   {
    "duration": 0,
    "start_time": "2022-04-10T17:13:37.092Z"
   },
   {
    "duration": 0,
    "start_time": "2022-04-10T17:13:37.093Z"
   },
   {
    "duration": 0,
    "start_time": "2022-04-10T17:13:37.094Z"
   },
   {
    "duration": 0,
    "start_time": "2022-04-10T17:13:37.095Z"
   },
   {
    "duration": 0,
    "start_time": "2022-04-10T17:13:37.096Z"
   },
   {
    "duration": 0,
    "start_time": "2022-04-10T17:13:37.097Z"
   },
   {
    "duration": 0,
    "start_time": "2022-04-10T17:13:37.098Z"
   },
   {
    "duration": 0,
    "start_time": "2022-04-10T17:13:37.098Z"
   },
   {
    "duration": 10,
    "start_time": "2022-04-10T17:14:00.442Z"
   },
   {
    "duration": 1457,
    "start_time": "2022-04-10T17:14:18.887Z"
   },
   {
    "duration": 985,
    "start_time": "2022-04-10T17:14:20.346Z"
   },
   {
    "duration": 4,
    "start_time": "2022-04-10T17:14:21.333Z"
   },
   {
    "duration": 225,
    "start_time": "2022-04-10T17:14:21.340Z"
   },
   {
    "duration": 3,
    "start_time": "2022-04-10T17:14:21.567Z"
   },
   {
    "duration": 3,
    "start_time": "2022-04-10T17:14:21.580Z"
   },
   {
    "duration": 226,
    "start_time": "2022-04-10T17:14:21.585Z"
   },
   {
    "duration": 4,
    "start_time": "2022-04-10T17:14:21.813Z"
   },
   {
    "duration": 10,
    "start_time": "2022-04-10T17:14:21.819Z"
   },
   {
    "duration": 5,
    "start_time": "2022-04-10T17:14:21.832Z"
   },
   {
    "duration": 10,
    "start_time": "2022-04-10T17:14:21.839Z"
   },
   {
    "duration": 31,
    "start_time": "2022-04-10T17:14:21.851Z"
   },
   {
    "duration": 10,
    "start_time": "2022-04-10T17:14:21.884Z"
   },
   {
    "duration": 31645,
    "start_time": "2022-04-10T17:14:21.896Z"
   },
   {
    "duration": 12,
    "start_time": "2022-04-10T17:14:53.543Z"
   },
   {
    "duration": 3,
    "start_time": "2022-04-10T17:14:53.556Z"
   },
   {
    "duration": 23,
    "start_time": "2022-04-10T17:14:53.560Z"
   },
   {
    "duration": 9,
    "start_time": "2022-04-10T17:14:53.584Z"
   },
   {
    "duration": 5,
    "start_time": "2022-04-10T17:14:53.594Z"
   },
   {
    "duration": 17,
    "start_time": "2022-04-10T17:14:53.600Z"
   },
   {
    "duration": 926,
    "start_time": "2022-04-10T17:14:53.618Z"
   },
   {
    "duration": 7,
    "start_time": "2022-04-10T17:14:54.545Z"
   },
   {
    "duration": 49780,
    "start_time": "2022-04-10T17:14:54.553Z"
   },
   {
    "duration": 10,
    "start_time": "2022-04-10T17:15:44.334Z"
   },
   {
    "duration": 107,
    "start_time": "2022-04-10T17:15:44.346Z"
   },
   {
    "duration": 15,
    "start_time": "2022-04-10T17:15:44.455Z"
   },
   {
    "duration": 10,
    "start_time": "2022-04-10T17:15:44.471Z"
   },
   {
    "duration": 136,
    "start_time": "2022-04-10T17:15:44.485Z"
   },
   {
    "duration": 3,
    "start_time": "2022-04-10T17:15:44.623Z"
   },
   {
    "duration": 516,
    "start_time": "2022-04-10T17:15:44.627Z"
   },
   {
    "duration": 20,
    "start_time": "2022-04-10T17:15:45.145Z"
   },
   {
    "duration": 17,
    "start_time": "2022-04-10T17:15:45.167Z"
   },
   {
    "duration": 21,
    "start_time": "2022-04-10T17:15:45.185Z"
   },
   {
    "duration": 80,
    "start_time": "2022-04-10T17:15:45.208Z"
   },
   {
    "duration": 13,
    "start_time": "2022-04-10T17:15:45.289Z"
   },
   {
    "duration": 12,
    "start_time": "2022-04-10T17:15:45.303Z"
   },
   {
    "duration": 166,
    "start_time": "2022-04-10T17:15:45.317Z"
   },
   {
    "duration": 14,
    "start_time": "2022-04-10T17:15:45.484Z"
   },
   {
    "duration": 6,
    "start_time": "2022-04-10T17:15:45.499Z"
   },
   {
    "duration": 9,
    "start_time": "2022-04-10T17:15:45.506Z"
   },
   {
    "duration": 26,
    "start_time": "2022-04-10T17:15:45.517Z"
   },
   {
    "duration": 13,
    "start_time": "2022-04-10T17:15:45.545Z"
   },
   {
    "duration": 15,
    "start_time": "2022-04-10T17:15:45.559Z"
   },
   {
    "duration": 21,
    "start_time": "2022-04-10T17:15:45.576Z"
   },
   {
    "duration": 33,
    "start_time": "2022-04-10T17:15:45.599Z"
   },
   {
    "duration": 35,
    "start_time": "2022-04-10T17:15:45.633Z"
   },
   {
    "duration": 21,
    "start_time": "2022-04-10T17:15:45.670Z"
   },
   {
    "duration": 33,
    "start_time": "2022-04-10T17:15:45.692Z"
   },
   {
    "duration": 29,
    "start_time": "2022-04-10T17:15:45.727Z"
   },
   {
    "duration": 33,
    "start_time": "2022-04-10T17:15:45.757Z"
   },
   {
    "duration": 30,
    "start_time": "2022-04-10T17:15:45.791Z"
   },
   {
    "duration": 9,
    "start_time": "2022-04-10T17:15:45.823Z"
   },
   {
    "duration": 30,
    "start_time": "2022-04-10T17:15:45.833Z"
   },
   {
    "duration": 18,
    "start_time": "2022-04-10T17:15:45.865Z"
   },
   {
    "duration": 27,
    "start_time": "2022-04-10T17:15:45.885Z"
   },
   {
    "duration": 13,
    "start_time": "2022-04-10T17:15:45.914Z"
   },
   {
    "duration": 44,
    "start_time": "2022-04-10T17:15:45.929Z"
   },
   {
    "duration": 3,
    "start_time": "2022-04-10T17:15:45.974Z"
   },
   {
    "duration": 13,
    "start_time": "2022-04-10T17:15:45.979Z"
   },
   {
    "duration": 16,
    "start_time": "2022-04-10T17:15:45.994Z"
   },
   {
    "duration": 19,
    "start_time": "2022-04-10T17:15:46.011Z"
   },
   {
    "duration": 30,
    "start_time": "2022-04-10T17:15:46.031Z"
   },
   {
    "duration": 26,
    "start_time": "2022-04-10T17:15:46.063Z"
   },
   {
    "duration": 1034,
    "start_time": "2022-04-10T17:15:46.090Z"
   },
   {
    "duration": 0,
    "start_time": "2022-04-10T17:15:47.126Z"
   },
   {
    "duration": 0,
    "start_time": "2022-04-10T17:15:47.127Z"
   },
   {
    "duration": 0,
    "start_time": "2022-04-10T17:15:47.128Z"
   },
   {
    "duration": 0,
    "start_time": "2022-04-10T17:15:47.129Z"
   },
   {
    "duration": 0,
    "start_time": "2022-04-10T17:15:47.130Z"
   },
   {
    "duration": 0,
    "start_time": "2022-04-10T17:15:47.131Z"
   },
   {
    "duration": 0,
    "start_time": "2022-04-10T17:15:47.132Z"
   },
   {
    "duration": 0,
    "start_time": "2022-04-10T17:15:47.133Z"
   },
   {
    "duration": 0,
    "start_time": "2022-04-10T17:15:47.134Z"
   },
   {
    "duration": 0,
    "start_time": "2022-04-10T17:15:47.135Z"
   },
   {
    "duration": 0,
    "start_time": "2022-04-10T17:15:47.136Z"
   },
   {
    "duration": 0,
    "start_time": "2022-04-10T17:15:47.137Z"
   },
   {
    "duration": 0,
    "start_time": "2022-04-10T17:15:47.138Z"
   },
   {
    "duration": 0,
    "start_time": "2022-04-10T17:15:47.139Z"
   },
   {
    "duration": 0,
    "start_time": "2022-04-10T17:15:47.140Z"
   },
   {
    "duration": 0,
    "start_time": "2022-04-10T17:15:47.141Z"
   },
   {
    "duration": 0,
    "start_time": "2022-04-10T17:15:47.142Z"
   },
   {
    "duration": 0,
    "start_time": "2022-04-10T17:15:47.143Z"
   },
   {
    "duration": 0,
    "start_time": "2022-04-10T17:15:47.182Z"
   },
   {
    "duration": 0,
    "start_time": "2022-04-10T17:15:47.183Z"
   },
   {
    "duration": 0,
    "start_time": "2022-04-10T17:15:47.184Z"
   },
   {
    "duration": 0,
    "start_time": "2022-04-10T17:15:47.185Z"
   },
   {
    "duration": 0,
    "start_time": "2022-04-10T17:15:47.186Z"
   },
   {
    "duration": 0,
    "start_time": "2022-04-10T17:15:47.187Z"
   },
   {
    "duration": 0,
    "start_time": "2022-04-10T17:15:47.188Z"
   },
   {
    "duration": 0,
    "start_time": "2022-04-10T17:15:47.189Z"
   },
   {
    "duration": 0,
    "start_time": "2022-04-10T17:15:47.190Z"
   },
   {
    "duration": 0,
    "start_time": "2022-04-10T17:15:47.191Z"
   },
   {
    "duration": 0,
    "start_time": "2022-04-10T17:15:47.192Z"
   },
   {
    "duration": 0,
    "start_time": "2022-04-10T17:15:47.193Z"
   },
   {
    "duration": 3,
    "start_time": "2022-04-10T17:16:31.680Z"
   },
   {
    "duration": 4,
    "start_time": "2022-04-10T17:16:32.338Z"
   },
   {
    "duration": 3,
    "start_time": "2022-04-10T17:16:33.370Z"
   },
   {
    "duration": 3,
    "start_time": "2022-04-10T17:16:34.494Z"
   },
   {
    "duration": 22320,
    "start_time": "2022-04-10T17:16:35.434Z"
   },
   {
    "duration": 2,
    "start_time": "2022-04-10T17:17:06.949Z"
   },
   {
    "duration": 3,
    "start_time": "2022-04-10T17:17:07.578Z"
   },
   {
    "duration": 4,
    "start_time": "2022-04-10T17:17:08.594Z"
   },
   {
    "duration": 13,
    "start_time": "2022-04-10T17:17:09.664Z"
   },
   {
    "duration": 5,
    "start_time": "2022-04-10T17:18:32.598Z"
   },
   {
    "duration": 1095,
    "start_time": "2022-04-10T17:18:41.588Z"
   },
   {
    "duration": 3,
    "start_time": "2022-04-10T17:18:45.634Z"
   },
   {
    "duration": 698,
    "start_time": "2022-04-10T17:18:46.531Z"
   },
   {
    "duration": 3,
    "start_time": "2022-04-10T17:18:48.566Z"
   },
   {
    "duration": 699,
    "start_time": "2022-04-10T17:18:53.845Z"
   },
   {
    "duration": 3,
    "start_time": "2022-04-10T17:18:58.414Z"
   },
   {
    "duration": 43039,
    "start_time": "2022-04-10T17:18:59.202Z"
   },
   {
    "duration": 3,
    "start_time": "2022-04-10T17:19:42.242Z"
   },
   {
    "duration": 31769,
    "start_time": "2022-04-10T17:19:47.469Z"
   },
   {
    "duration": 15951,
    "start_time": "2022-04-10T17:20:19.240Z"
   },
   {
    "duration": 3,
    "start_time": "2022-04-10T17:20:35.193Z"
   },
   {
    "duration": 268,
    "start_time": "2022-04-10T17:20:35.198Z"
   },
   {
    "duration": 274,
    "start_time": "2022-04-10T17:20:35.467Z"
   },
   {
    "duration": 2,
    "start_time": "2022-04-10T17:20:35.743Z"
   },
   {
    "duration": 14,
    "start_time": "2022-04-10T17:20:35.747Z"
   },
   {
    "duration": 1628,
    "start_time": "2022-04-10T17:37:29.473Z"
   },
   {
    "duration": 687,
    "start_time": "2022-04-10T17:37:31.103Z"
   },
   {
    "duration": 4,
    "start_time": "2022-04-10T17:37:31.791Z"
   },
   {
    "duration": 223,
    "start_time": "2022-04-10T17:37:31.798Z"
   },
   {
    "duration": 3,
    "start_time": "2022-04-10T17:37:32.023Z"
   },
   {
    "duration": 7,
    "start_time": "2022-04-10T17:37:32.028Z"
   },
   {
    "duration": 236,
    "start_time": "2022-04-10T17:37:32.037Z"
   },
   {
    "duration": 8,
    "start_time": "2022-04-10T17:37:32.275Z"
   },
   {
    "duration": 12,
    "start_time": "2022-04-10T17:37:32.285Z"
   },
   {
    "duration": 9,
    "start_time": "2022-04-10T17:37:32.299Z"
   },
   {
    "duration": 20,
    "start_time": "2022-04-10T17:37:32.309Z"
   },
   {
    "duration": 6,
    "start_time": "2022-04-10T17:37:32.331Z"
   },
   {
    "duration": 10,
    "start_time": "2022-04-10T17:37:32.339Z"
   },
   {
    "duration": 27391,
    "start_time": "2022-04-10T17:37:32.351Z"
   },
   {
    "duration": 8,
    "start_time": "2022-04-10T17:37:59.744Z"
   },
   {
    "duration": 3,
    "start_time": "2022-04-10T17:37:59.753Z"
   },
   {
    "duration": 27,
    "start_time": "2022-04-10T17:37:59.757Z"
   },
   {
    "duration": 10,
    "start_time": "2022-04-10T17:37:59.785Z"
   },
   {
    "duration": 5,
    "start_time": "2022-04-10T17:37:59.796Z"
   },
   {
    "duration": 14,
    "start_time": "2022-04-10T17:37:59.802Z"
   },
   {
    "duration": 864,
    "start_time": "2022-04-10T17:37:59.818Z"
   },
   {
    "duration": 6,
    "start_time": "2022-04-10T17:38:00.684Z"
   },
   {
    "duration": 44704,
    "start_time": "2022-04-10T17:38:00.692Z"
   },
   {
    "duration": 10,
    "start_time": "2022-04-10T17:38:45.398Z"
   },
   {
    "duration": 104,
    "start_time": "2022-04-10T17:38:45.409Z"
   },
   {
    "duration": 15,
    "start_time": "2022-04-10T17:38:45.515Z"
   },
   {
    "duration": 3,
    "start_time": "2022-04-10T17:38:45.532Z"
   },
   {
    "duration": 150,
    "start_time": "2022-04-10T17:38:45.538Z"
   },
   {
    "duration": 4,
    "start_time": "2022-04-10T17:38:45.689Z"
   },
   {
    "duration": 561,
    "start_time": "2022-04-10T17:38:45.694Z"
   },
   {
    "duration": 24,
    "start_time": "2022-04-10T17:38:46.257Z"
   },
   {
    "duration": 10,
    "start_time": "2022-04-10T17:38:46.283Z"
   },
   {
    "duration": 18,
    "start_time": "2022-04-10T17:38:46.294Z"
   },
   {
    "duration": 94,
    "start_time": "2022-04-10T17:38:46.313Z"
   },
   {
    "duration": 13,
    "start_time": "2022-04-10T17:38:46.408Z"
   },
   {
    "duration": 12,
    "start_time": "2022-04-10T17:38:46.423Z"
   },
   {
    "duration": 175,
    "start_time": "2022-04-10T17:38:46.437Z"
   },
   {
    "duration": 14,
    "start_time": "2022-04-10T17:38:46.613Z"
   },
   {
    "duration": 4,
    "start_time": "2022-04-10T17:38:46.629Z"
   },
   {
    "duration": 8,
    "start_time": "2022-04-10T17:38:46.635Z"
   },
   {
    "duration": 39,
    "start_time": "2022-04-10T17:38:46.644Z"
   },
   {
    "duration": 3,
    "start_time": "2022-04-10T17:38:46.684Z"
   },
   {
    "duration": 4,
    "start_time": "2022-04-10T17:38:46.689Z"
   },
   {
    "duration": 9,
    "start_time": "2022-04-10T17:38:46.694Z"
   },
   {
    "duration": 19,
    "start_time": "2022-04-10T17:38:46.705Z"
   },
   {
    "duration": 20,
    "start_time": "2022-04-10T17:38:46.726Z"
   },
   {
    "duration": 18,
    "start_time": "2022-04-10T17:38:46.780Z"
   },
   {
    "duration": 19,
    "start_time": "2022-04-10T17:38:46.799Z"
   },
   {
    "duration": 9,
    "start_time": "2022-04-10T17:38:46.820Z"
   },
   {
    "duration": 24,
    "start_time": "2022-04-10T17:38:46.830Z"
   },
   {
    "duration": 44,
    "start_time": "2022-04-10T17:38:46.855Z"
   },
   {
    "duration": 5,
    "start_time": "2022-04-10T17:38:46.900Z"
   },
   {
    "duration": 10,
    "start_time": "2022-04-10T17:38:46.906Z"
   },
   {
    "duration": 10,
    "start_time": "2022-04-10T17:38:46.917Z"
   },
   {
    "duration": 10,
    "start_time": "2022-04-10T17:38:46.928Z"
   },
   {
    "duration": 2,
    "start_time": "2022-04-10T17:38:46.939Z"
   },
   {
    "duration": 56,
    "start_time": "2022-04-10T17:38:46.943Z"
   },
   {
    "duration": 2,
    "start_time": "2022-04-10T17:38:47.001Z"
   },
   {
    "duration": 5,
    "start_time": "2022-04-10T17:38:47.005Z"
   },
   {
    "duration": 3,
    "start_time": "2022-04-10T17:38:47.012Z"
   },
   {
    "duration": 5,
    "start_time": "2022-04-10T17:38:47.017Z"
   },
   {
    "duration": 6,
    "start_time": "2022-04-10T17:38:47.023Z"
   },
   {
    "duration": 5,
    "start_time": "2022-04-10T17:38:47.030Z"
   },
   {
    "duration": 1215,
    "start_time": "2022-04-10T17:38:47.036Z"
   },
   {
    "duration": 8,
    "start_time": "2022-04-10T17:38:48.253Z"
   },
   {
    "duration": 0,
    "start_time": "2022-04-10T17:38:48.263Z"
   },
   {
    "duration": 0,
    "start_time": "2022-04-10T17:38:48.264Z"
   },
   {
    "duration": 0,
    "start_time": "2022-04-10T17:38:48.266Z"
   },
   {
    "duration": 0,
    "start_time": "2022-04-10T17:38:48.267Z"
   },
   {
    "duration": 0,
    "start_time": "2022-04-10T17:38:48.268Z"
   },
   {
    "duration": 0,
    "start_time": "2022-04-10T17:38:48.269Z"
   },
   {
    "duration": 0,
    "start_time": "2022-04-10T17:38:48.270Z"
   },
   {
    "duration": 0,
    "start_time": "2022-04-10T17:38:48.271Z"
   },
   {
    "duration": 0,
    "start_time": "2022-04-10T17:38:48.272Z"
   },
   {
    "duration": 0,
    "start_time": "2022-04-10T17:38:48.273Z"
   },
   {
    "duration": 0,
    "start_time": "2022-04-10T17:38:48.274Z"
   },
   {
    "duration": 0,
    "start_time": "2022-04-10T17:38:48.275Z"
   },
   {
    "duration": 0,
    "start_time": "2022-04-10T17:38:48.276Z"
   },
   {
    "duration": 0,
    "start_time": "2022-04-10T17:38:48.277Z"
   },
   {
    "duration": 0,
    "start_time": "2022-04-10T17:38:48.278Z"
   },
   {
    "duration": 0,
    "start_time": "2022-04-10T17:38:48.278Z"
   },
   {
    "duration": 0,
    "start_time": "2022-04-10T17:38:48.279Z"
   },
   {
    "duration": 0,
    "start_time": "2022-04-10T17:38:48.280Z"
   },
   {
    "duration": 0,
    "start_time": "2022-04-10T17:38:48.281Z"
   },
   {
    "duration": 0,
    "start_time": "2022-04-10T17:38:48.282Z"
   },
   {
    "duration": 0,
    "start_time": "2022-04-10T17:38:48.283Z"
   },
   {
    "duration": 0,
    "start_time": "2022-04-10T17:38:48.285Z"
   },
   {
    "duration": 0,
    "start_time": "2022-04-10T17:38:48.286Z"
   },
   {
    "duration": 0,
    "start_time": "2022-04-10T17:38:48.287Z"
   },
   {
    "duration": 0,
    "start_time": "2022-04-10T17:38:48.287Z"
   },
   {
    "duration": 0,
    "start_time": "2022-04-10T17:38:48.288Z"
   },
   {
    "duration": 0,
    "start_time": "2022-04-10T17:38:48.289Z"
   },
   {
    "duration": 0,
    "start_time": "2022-04-10T17:38:48.290Z"
   },
   {
    "duration": 0,
    "start_time": "2022-04-10T17:38:48.291Z"
   },
   {
    "duration": 2318,
    "start_time": "2022-04-10T17:47:22.058Z"
   },
   {
    "duration": 1191,
    "start_time": "2022-04-10T17:47:38.043Z"
   },
   {
    "duration": 1211,
    "start_time": "2022-04-10T17:47:46.202Z"
   },
   {
    "duration": 3,
    "start_time": "2022-04-10T17:47:59.069Z"
   },
   {
    "duration": 4,
    "start_time": "2022-04-10T17:47:59.637Z"
   },
   {
    "duration": 4,
    "start_time": "2022-04-10T17:48:00.558Z"
   },
   {
    "duration": 1104,
    "start_time": "2022-04-10T17:48:01.477Z"
   },
   {
    "duration": 4,
    "start_time": "2022-04-10T17:48:21.005Z"
   },
   {
    "duration": 766,
    "start_time": "2022-04-10T17:48:21.970Z"
   },
   {
    "duration": 4,
    "start_time": "2022-04-10T17:48:27.670Z"
   },
   {
    "duration": 986,
    "start_time": "2022-04-10T17:48:29.035Z"
   },
   {
    "duration": 3,
    "start_time": "2022-04-10T17:48:33.747Z"
   },
   {
    "duration": 42798,
    "start_time": "2022-04-10T17:48:34.420Z"
   },
   {
    "duration": 4,
    "start_time": "2022-04-10T17:49:21.513Z"
   },
   {
    "duration": 33003,
    "start_time": "2022-04-10T17:49:22.185Z"
   },
   {
    "duration": 16395,
    "start_time": "2022-04-10T17:50:01.031Z"
   },
   {
    "duration": 3,
    "start_time": "2022-04-10T17:50:24.909Z"
   },
   {
    "duration": 251,
    "start_time": "2022-04-10T17:50:28.418Z"
   },
   {
    "duration": 269,
    "start_time": "2022-04-10T17:50:33.661Z"
   },
   {
    "duration": 2,
    "start_time": "2022-04-10T17:50:38.011Z"
   },
   {
    "duration": 10,
    "start_time": "2022-04-10T17:50:38.595Z"
   },
   {
    "duration": 1718,
    "start_time": "2022-04-10T17:52:01.535Z"
   },
   {
    "duration": 736,
    "start_time": "2022-04-10T17:52:03.255Z"
   },
   {
    "duration": 4,
    "start_time": "2022-04-10T17:52:03.993Z"
   },
   {
    "duration": 278,
    "start_time": "2022-04-10T17:52:03.998Z"
   },
   {
    "duration": 5,
    "start_time": "2022-04-10T17:52:04.283Z"
   },
   {
    "duration": 6,
    "start_time": "2022-04-10T17:52:04.290Z"
   },
   {
    "duration": 261,
    "start_time": "2022-04-10T17:52:04.298Z"
   },
   {
    "duration": 4,
    "start_time": "2022-04-10T17:52:04.561Z"
   },
   {
    "duration": 18,
    "start_time": "2022-04-10T17:52:04.566Z"
   },
   {
    "duration": 7,
    "start_time": "2022-04-10T17:52:04.586Z"
   },
   {
    "duration": 11,
    "start_time": "2022-04-10T17:52:04.595Z"
   },
   {
    "duration": 8,
    "start_time": "2022-04-10T17:52:04.608Z"
   },
   {
    "duration": 17,
    "start_time": "2022-04-10T17:52:04.617Z"
   },
   {
    "duration": 29787,
    "start_time": "2022-04-10T17:52:04.638Z"
   },
   {
    "duration": 8,
    "start_time": "2022-04-10T17:52:34.427Z"
   },
   {
    "duration": 3,
    "start_time": "2022-04-10T17:52:34.436Z"
   },
   {
    "duration": 13,
    "start_time": "2022-04-10T17:52:34.440Z"
   },
   {
    "duration": 9,
    "start_time": "2022-04-10T17:52:34.455Z"
   },
   {
    "duration": 5,
    "start_time": "2022-04-10T17:52:34.480Z"
   },
   {
    "duration": 16,
    "start_time": "2022-04-10T17:52:34.486Z"
   },
   {
    "duration": 977,
    "start_time": "2022-04-10T17:52:34.504Z"
   },
   {
    "duration": 7,
    "start_time": "2022-04-10T17:52:35.483Z"
   },
   {
    "duration": 47117,
    "start_time": "2022-04-10T17:52:35.492Z"
   },
   {
    "duration": 12,
    "start_time": "2022-04-10T17:53:22.611Z"
   },
   {
    "duration": 150,
    "start_time": "2022-04-10T17:53:22.625Z"
   },
   {
    "duration": 18,
    "start_time": "2022-04-10T17:53:22.777Z"
   },
   {
    "duration": 3,
    "start_time": "2022-04-10T17:53:22.796Z"
   },
   {
    "duration": 147,
    "start_time": "2022-04-10T17:53:22.800Z"
   },
   {
    "duration": 3,
    "start_time": "2022-04-10T17:53:22.949Z"
   },
   {
    "duration": 562,
    "start_time": "2022-04-10T17:53:22.954Z"
   },
   {
    "duration": 24,
    "start_time": "2022-04-10T17:53:23.517Z"
   },
   {
    "duration": 13,
    "start_time": "2022-04-10T17:53:23.542Z"
   },
   {
    "duration": 27,
    "start_time": "2022-04-10T17:53:23.556Z"
   },
   {
    "duration": 80,
    "start_time": "2022-04-10T17:53:23.584Z"
   },
   {
    "duration": 26,
    "start_time": "2022-04-10T17:53:23.666Z"
   },
   {
    "duration": 13,
    "start_time": "2022-04-10T17:53:23.693Z"
   },
   {
    "duration": 173,
    "start_time": "2022-04-10T17:53:23.708Z"
   },
   {
    "duration": 15,
    "start_time": "2022-04-10T17:53:23.882Z"
   },
   {
    "duration": 5,
    "start_time": "2022-04-10T17:53:23.899Z"
   },
   {
    "duration": 8,
    "start_time": "2022-04-10T17:53:23.906Z"
   },
   {
    "duration": 20,
    "start_time": "2022-04-10T17:53:23.919Z"
   },
   {
    "duration": 3,
    "start_time": "2022-04-10T17:53:23.940Z"
   },
   {
    "duration": 37,
    "start_time": "2022-04-10T17:53:23.944Z"
   },
   {
    "duration": 10,
    "start_time": "2022-04-10T17:53:23.983Z"
   },
   {
    "duration": 21,
    "start_time": "2022-04-10T17:53:23.995Z"
   },
   {
    "duration": 19,
    "start_time": "2022-04-10T17:53:24.017Z"
   },
   {
    "duration": 44,
    "start_time": "2022-04-10T17:53:24.038Z"
   },
   {
    "duration": 19,
    "start_time": "2022-04-10T17:53:24.084Z"
   },
   {
    "duration": 11,
    "start_time": "2022-04-10T17:53:24.104Z"
   },
   {
    "duration": 23,
    "start_time": "2022-04-10T17:53:24.116Z"
   },
   {
    "duration": 45,
    "start_time": "2022-04-10T17:53:24.141Z"
   },
   {
    "duration": 4,
    "start_time": "2022-04-10T17:53:24.188Z"
   },
   {
    "duration": 11,
    "start_time": "2022-04-10T17:53:24.194Z"
   },
   {
    "duration": 9,
    "start_time": "2022-04-10T17:53:24.207Z"
   },
   {
    "duration": 8,
    "start_time": "2022-04-10T17:53:24.217Z"
   },
   {
    "duration": 2,
    "start_time": "2022-04-10T17:53:24.227Z"
   },
   {
    "duration": 54,
    "start_time": "2022-04-10T17:53:24.231Z"
   },
   {
    "duration": 3,
    "start_time": "2022-04-10T17:53:24.286Z"
   },
   {
    "duration": 9,
    "start_time": "2022-04-10T17:53:24.290Z"
   },
   {
    "duration": 6,
    "start_time": "2022-04-10T17:53:24.300Z"
   },
   {
    "duration": 8,
    "start_time": "2022-04-10T17:53:24.308Z"
   },
   {
    "duration": 1065,
    "start_time": "2022-04-10T17:53:24.317Z"
   },
   {
    "duration": 4,
    "start_time": "2022-04-10T17:53:25.384Z"
   },
   {
    "duration": 798,
    "start_time": "2022-04-10T17:53:25.389Z"
   },
   {
    "duration": 3,
    "start_time": "2022-04-10T17:53:26.188Z"
   },
   {
    "duration": 721,
    "start_time": "2022-04-10T17:53:26.193Z"
   },
   {
    "duration": 2,
    "start_time": "2022-04-10T17:53:26.916Z"
   },
   {
    "duration": 41848,
    "start_time": "2022-04-10T17:53:26.920Z"
   },
   {
    "duration": 3,
    "start_time": "2022-04-10T17:54:08.769Z"
   },
   {
    "duration": 31263,
    "start_time": "2022-04-10T17:54:08.781Z"
   },
   {
    "duration": 15848,
    "start_time": "2022-04-10T17:54:40.045Z"
   },
   {
    "duration": 3,
    "start_time": "2022-04-10T17:54:55.895Z"
   },
   {
    "duration": 297,
    "start_time": "2022-04-10T17:54:55.899Z"
   },
   {
    "duration": 286,
    "start_time": "2022-04-10T17:54:56.197Z"
   },
   {
    "duration": 3,
    "start_time": "2022-04-10T17:54:56.484Z"
   },
   {
    "duration": 13,
    "start_time": "2022-04-10T17:54:56.488Z"
   },
   {
    "duration": 3,
    "start_time": "2022-04-10T17:59:41.456Z"
   },
   {
    "duration": 11,
    "start_time": "2022-04-10T17:59:50.983Z"
   },
   {
    "duration": 1900,
    "start_time": "2022-04-10T18:01:58.922Z"
   },
   {
    "duration": 823,
    "start_time": "2022-04-10T18:02:00.824Z"
   },
   {
    "duration": 4,
    "start_time": "2022-04-10T18:02:01.648Z"
   },
   {
    "duration": 238,
    "start_time": "2022-04-10T18:02:01.654Z"
   },
   {
    "duration": 2,
    "start_time": "2022-04-10T18:02:01.894Z"
   },
   {
    "duration": 10,
    "start_time": "2022-04-10T18:02:01.898Z"
   },
   {
    "duration": 274,
    "start_time": "2022-04-10T18:02:01.910Z"
   },
   {
    "duration": 4,
    "start_time": "2022-04-10T18:02:02.185Z"
   },
   {
    "duration": 12,
    "start_time": "2022-04-10T18:02:02.190Z"
   },
   {
    "duration": 7,
    "start_time": "2022-04-10T18:02:02.204Z"
   },
   {
    "duration": 10,
    "start_time": "2022-04-10T18:02:02.213Z"
   },
   {
    "duration": 14,
    "start_time": "2022-04-10T18:02:02.224Z"
   },
   {
    "duration": 18,
    "start_time": "2022-04-10T18:02:02.240Z"
   },
   {
    "duration": 28574,
    "start_time": "2022-04-10T18:02:02.259Z"
   },
   {
    "duration": 11,
    "start_time": "2022-04-10T18:02:30.835Z"
   },
   {
    "duration": 3,
    "start_time": "2022-04-10T18:02:30.848Z"
   },
   {
    "duration": 31,
    "start_time": "2022-04-10T18:02:30.853Z"
   },
   {
    "duration": 11,
    "start_time": "2022-04-10T18:02:30.886Z"
   },
   {
    "duration": 7,
    "start_time": "2022-04-10T18:02:30.898Z"
   },
   {
    "duration": 18,
    "start_time": "2022-04-10T18:02:30.906Z"
   },
   {
    "duration": 853,
    "start_time": "2022-04-10T18:02:30.926Z"
   },
   {
    "duration": 6,
    "start_time": "2022-04-10T18:02:31.781Z"
   },
   {
    "duration": 44040,
    "start_time": "2022-04-10T18:02:31.789Z"
   },
   {
    "duration": 12,
    "start_time": "2022-04-10T18:03:15.831Z"
   },
   {
    "duration": 114,
    "start_time": "2022-04-10T18:03:15.844Z"
   },
   {
    "duration": 23,
    "start_time": "2022-04-10T18:03:15.960Z"
   },
   {
    "duration": 3,
    "start_time": "2022-04-10T18:03:15.985Z"
   },
   {
    "duration": 143,
    "start_time": "2022-04-10T18:03:15.992Z"
   },
   {
    "duration": 5,
    "start_time": "2022-04-10T18:03:16.137Z"
   },
   {
    "duration": 502,
    "start_time": "2022-04-10T18:03:16.143Z"
   },
   {
    "duration": 21,
    "start_time": "2022-04-10T18:03:16.647Z"
   },
   {
    "duration": 19,
    "start_time": "2022-04-10T18:03:16.670Z"
   },
   {
    "duration": 13,
    "start_time": "2022-04-10T18:03:16.691Z"
   },
   {
    "duration": 97,
    "start_time": "2022-04-10T18:03:16.705Z"
   },
   {
    "duration": 13,
    "start_time": "2022-04-10T18:03:16.804Z"
   },
   {
    "duration": 13,
    "start_time": "2022-04-10T18:03:16.819Z"
   },
   {
    "duration": 178,
    "start_time": "2022-04-10T18:03:16.834Z"
   },
   {
    "duration": 14,
    "start_time": "2022-04-10T18:03:17.014Z"
   },
   {
    "duration": 5,
    "start_time": "2022-04-10T18:03:17.030Z"
   },
   {
    "duration": 8,
    "start_time": "2022-04-10T18:03:17.037Z"
   },
   {
    "duration": 48,
    "start_time": "2022-04-10T18:03:17.047Z"
   },
   {
    "duration": 2,
    "start_time": "2022-04-10T18:03:17.097Z"
   },
   {
    "duration": 5,
    "start_time": "2022-04-10T18:03:17.101Z"
   },
   {
    "duration": 10,
    "start_time": "2022-04-10T18:03:17.107Z"
   },
   {
    "duration": 20,
    "start_time": "2022-04-10T18:03:17.119Z"
   },
   {
    "duration": 42,
    "start_time": "2022-04-10T18:03:17.140Z"
   },
   {
    "duration": 17,
    "start_time": "2022-04-10T18:03:17.184Z"
   },
   {
    "duration": 19,
    "start_time": "2022-04-10T18:03:17.203Z"
   },
   {
    "duration": 9,
    "start_time": "2022-04-10T18:03:17.224Z"
   },
   {
    "duration": 48,
    "start_time": "2022-04-10T18:03:17.235Z"
   },
   {
    "duration": 18,
    "start_time": "2022-04-10T18:03:17.284Z"
   },
   {
    "duration": 5,
    "start_time": "2022-04-10T18:03:17.303Z"
   },
   {
    "duration": 11,
    "start_time": "2022-04-10T18:03:17.309Z"
   },
   {
    "duration": 9,
    "start_time": "2022-04-10T18:03:17.321Z"
   },
   {
    "duration": 10,
    "start_time": "2022-04-10T18:03:17.331Z"
   },
   {
    "duration": 4,
    "start_time": "2022-04-10T18:03:17.342Z"
   },
   {
    "duration": 56,
    "start_time": "2022-04-10T18:03:17.347Z"
   },
   {
    "duration": 3,
    "start_time": "2022-04-10T18:03:17.404Z"
   },
   {
    "duration": 5,
    "start_time": "2022-04-10T18:03:17.408Z"
   },
   {
    "duration": 5,
    "start_time": "2022-04-10T18:03:17.415Z"
   },
   {
    "duration": 7,
    "start_time": "2022-04-10T18:03:17.421Z"
   },
   {
    "duration": 1152,
    "start_time": "2022-04-10T18:03:17.429Z"
   },
   {
    "duration": 3,
    "start_time": "2022-04-10T18:03:18.584Z"
   },
   {
    "duration": 784,
    "start_time": "2022-04-10T18:03:18.590Z"
   },
   {
    "duration": 5,
    "start_time": "2022-04-10T18:03:19.376Z"
   },
   {
    "duration": 710,
    "start_time": "2022-04-10T18:03:19.383Z"
   },
   {
    "duration": 2,
    "start_time": "2022-04-10T18:03:20.095Z"
   },
   {
    "duration": 42654,
    "start_time": "2022-04-10T18:03:20.098Z"
   },
   {
    "duration": 2,
    "start_time": "2022-04-10T18:04:02.754Z"
   },
   {
    "duration": 31598,
    "start_time": "2022-04-10T18:04:02.758Z"
   },
   {
    "duration": 15929,
    "start_time": "2022-04-10T18:04:34.357Z"
   },
   {
    "duration": 2,
    "start_time": "2022-04-10T18:04:50.288Z"
   },
   {
    "duration": 13,
    "start_time": "2022-04-10T18:04:50.291Z"
   },
   {
    "duration": 153,
    "start_time": "2022-04-10T18:05:29.190Z"
   },
   {
    "duration": 173,
    "start_time": "2022-04-10T18:05:38.462Z"
   },
   {
    "duration": 1676,
    "start_time": "2022-04-10T18:05:50.871Z"
   },
   {
    "duration": 706,
    "start_time": "2022-04-10T18:05:52.548Z"
   },
   {
    "duration": 3,
    "start_time": "2022-04-10T18:05:53.256Z"
   },
   {
    "duration": 233,
    "start_time": "2022-04-10T18:05:53.261Z"
   },
   {
    "duration": 3,
    "start_time": "2022-04-10T18:05:53.495Z"
   },
   {
    "duration": 5,
    "start_time": "2022-04-10T18:05:53.499Z"
   },
   {
    "duration": 241,
    "start_time": "2022-04-10T18:05:53.506Z"
   },
   {
    "duration": 3,
    "start_time": "2022-04-10T18:05:53.749Z"
   },
   {
    "duration": 6,
    "start_time": "2022-04-10T18:05:53.754Z"
   },
   {
    "duration": 20,
    "start_time": "2022-04-10T18:05:53.762Z"
   },
   {
    "duration": 10,
    "start_time": "2022-04-10T18:05:53.783Z"
   },
   {
    "duration": 6,
    "start_time": "2022-04-10T18:05:53.794Z"
   },
   {
    "duration": 15,
    "start_time": "2022-04-10T18:05:53.801Z"
   },
   {
    "duration": 27528,
    "start_time": "2022-04-10T18:05:53.817Z"
   },
   {
    "duration": 8,
    "start_time": "2022-04-10T18:06:21.347Z"
   },
   {
    "duration": 4,
    "start_time": "2022-04-10T18:06:21.357Z"
   },
   {
    "duration": 23,
    "start_time": "2022-04-10T18:06:21.362Z"
   },
   {
    "duration": 10,
    "start_time": "2022-04-10T18:06:21.386Z"
   },
   {
    "duration": 6,
    "start_time": "2022-04-10T18:06:21.398Z"
   },
   {
    "duration": 12,
    "start_time": "2022-04-10T18:06:21.405Z"
   },
   {
    "duration": 895,
    "start_time": "2022-04-10T18:06:21.418Z"
   },
   {
    "duration": 6,
    "start_time": "2022-04-10T18:06:22.315Z"
   },
   {
    "duration": 44992,
    "start_time": "2022-04-10T18:06:22.323Z"
   },
   {
    "duration": 9,
    "start_time": "2022-04-10T18:07:07.317Z"
   },
   {
    "duration": 108,
    "start_time": "2022-04-10T18:07:07.327Z"
   },
   {
    "duration": 15,
    "start_time": "2022-04-10T18:07:07.437Z"
   },
   {
    "duration": 2,
    "start_time": "2022-04-10T18:07:07.453Z"
   },
   {
    "duration": 144,
    "start_time": "2022-04-10T18:07:07.459Z"
   },
   {
    "duration": 3,
    "start_time": "2022-04-10T18:07:07.605Z"
   },
   {
    "duration": 529,
    "start_time": "2022-04-10T18:07:07.609Z"
   },
   {
    "duration": 21,
    "start_time": "2022-04-10T18:07:08.139Z"
   },
   {
    "duration": 20,
    "start_time": "2022-04-10T18:07:08.161Z"
   },
   {
    "duration": 13,
    "start_time": "2022-04-10T18:07:08.183Z"
   },
   {
    "duration": 101,
    "start_time": "2022-04-10T18:07:08.197Z"
   },
   {
    "duration": 13,
    "start_time": "2022-04-10T18:07:08.299Z"
   },
   {
    "duration": 13,
    "start_time": "2022-04-10T18:07:08.313Z"
   },
   {
    "duration": 168,
    "start_time": "2022-04-10T18:07:08.327Z"
   },
   {
    "duration": 15,
    "start_time": "2022-04-10T18:07:08.496Z"
   },
   {
    "duration": 5,
    "start_time": "2022-04-10T18:07:08.512Z"
   },
   {
    "duration": 9,
    "start_time": "2022-04-10T18:07:08.519Z"
   },
   {
    "duration": 19,
    "start_time": "2022-04-10T18:07:08.529Z"
   },
   {
    "duration": 32,
    "start_time": "2022-04-10T18:07:08.549Z"
   },
   {
    "duration": 6,
    "start_time": "2022-04-10T18:07:08.582Z"
   },
   {
    "duration": 9,
    "start_time": "2022-04-10T18:07:08.590Z"
   },
   {
    "duration": 22,
    "start_time": "2022-04-10T18:07:08.601Z"
   },
   {
    "duration": 21,
    "start_time": "2022-04-10T18:07:08.625Z"
   },
   {
    "duration": 38,
    "start_time": "2022-04-10T18:07:08.648Z"
   },
   {
    "duration": 18,
    "start_time": "2022-04-10T18:07:08.688Z"
   },
   {
    "duration": 10,
    "start_time": "2022-04-10T18:07:08.708Z"
   },
   {
    "duration": 22,
    "start_time": "2022-04-10T18:07:08.719Z"
   },
   {
    "duration": 46,
    "start_time": "2022-04-10T18:07:08.743Z"
   },
   {
    "duration": 5,
    "start_time": "2022-04-10T18:07:08.790Z"
   },
   {
    "duration": 9,
    "start_time": "2022-04-10T18:07:08.796Z"
   },
   {
    "duration": 9,
    "start_time": "2022-04-10T18:07:08.807Z"
   },
   {
    "duration": 9,
    "start_time": "2022-04-10T18:07:08.817Z"
   },
   {
    "duration": 2,
    "start_time": "2022-04-10T18:07:08.827Z"
   },
   {
    "duration": 50,
    "start_time": "2022-04-10T18:07:08.831Z"
   },
   {
    "duration": 3,
    "start_time": "2022-04-10T18:07:08.883Z"
   },
   {
    "duration": 5,
    "start_time": "2022-04-10T18:07:08.887Z"
   },
   {
    "duration": 4,
    "start_time": "2022-04-10T18:07:08.893Z"
   },
   {
    "duration": 12,
    "start_time": "2022-04-10T18:07:08.898Z"
   },
   {
    "duration": 1170,
    "start_time": "2022-04-10T18:07:08.911Z"
   },
   {
    "duration": 3,
    "start_time": "2022-04-10T18:07:10.083Z"
   },
   {
    "duration": 777,
    "start_time": "2022-04-10T18:07:10.087Z"
   },
   {
    "duration": 171,
    "start_time": "2022-04-10T18:07:10.865Z"
   },
   {
    "duration": 0,
    "start_time": "2022-04-10T18:07:11.037Z"
   },
   {
    "duration": 0,
    "start_time": "2022-04-10T18:07:11.038Z"
   },
   {
    "duration": 0,
    "start_time": "2022-04-10T18:07:11.039Z"
   },
   {
    "duration": 0,
    "start_time": "2022-04-10T18:07:11.041Z"
   },
   {
    "duration": 0,
    "start_time": "2022-04-10T18:07:11.041Z"
   },
   {
    "duration": 0,
    "start_time": "2022-04-10T18:07:11.043Z"
   },
   {
    "duration": 0,
    "start_time": "2022-04-10T18:07:11.044Z"
   },
   {
    "duration": 0,
    "start_time": "2022-04-10T18:07:11.045Z"
   },
   {
    "duration": 4,
    "start_time": "2022-04-10T18:13:02.847Z"
   },
   {
    "duration": 705,
    "start_time": "2022-04-10T18:13:05.714Z"
   },
   {
    "duration": 192,
    "start_time": "2022-04-10T18:13:06.421Z"
   },
   {
    "duration": 0,
    "start_time": "2022-04-10T18:13:06.618Z"
   },
   {
    "duration": 0,
    "start_time": "2022-04-10T18:13:06.620Z"
   },
   {
    "duration": 0,
    "start_time": "2022-04-10T18:13:06.621Z"
   },
   {
    "duration": 98,
    "start_time": "2022-04-10T18:13:06.690Z"
   },
   {
    "duration": 3,
    "start_time": "2022-04-10T18:13:06.861Z"
   },
   {
    "duration": 10,
    "start_time": "2022-04-10T18:13:07.928Z"
   },
   {
    "duration": 3,
    "start_time": "2022-04-10T18:13:20.971Z"
   },
   {
    "duration": 42549,
    "start_time": "2022-04-10T18:13:22.657Z"
   },
   {
    "duration": 2,
    "start_time": "2022-04-10T18:14:05.208Z"
   },
   {
    "duration": 31960,
    "start_time": "2022-04-10T18:14:05.211Z"
   },
   {
    "duration": 15909,
    "start_time": "2022-04-10T18:14:37.173Z"
   },
   {
    "duration": 3,
    "start_time": "2022-04-10T18:38:20.117Z"
   },
   {
    "duration": 35242,
    "start_time": "2022-04-10T18:38:21.340Z"
   },
   {
    "duration": 10,
    "start_time": "2022-04-10T18:41:34.657Z"
   },
   {
    "duration": 3,
    "start_time": "2022-04-10T18:42:17.246Z"
   },
   {
    "duration": 4,
    "start_time": "2022-04-10T18:43:14.580Z"
   },
   {
    "duration": 8,
    "start_time": "2022-04-10T18:43:46.479Z"
   },
   {
    "duration": 3,
    "start_time": "2022-04-10T18:43:53.354Z"
   },
   {
    "duration": 9,
    "start_time": "2022-04-10T18:43:54.120Z"
   },
   {
    "duration": 3,
    "start_time": "2022-04-10T18:44:31.098Z"
   },
   {
    "duration": 2,
    "start_time": "2022-04-10T18:44:31.995Z"
   },
   {
    "duration": 112933,
    "start_time": "2022-04-10T18:44:42.462Z"
   },
   {
    "duration": 4,
    "start_time": "2022-04-10T18:47:04.612Z"
   },
   {
    "duration": 3,
    "start_time": "2022-04-10T18:47:05.290Z"
   },
   {
    "duration": 3,
    "start_time": "2022-04-10T18:47:05.838Z"
   },
   {
    "duration": 3538,
    "start_time": "2022-04-10T18:47:08.407Z"
   },
   {
    "duration": 3,
    "start_time": "2022-04-10T18:47:54.294Z"
   },
   {
    "duration": 4791,
    "start_time": "2022-04-10T18:48:09.852Z"
   },
   {
    "duration": 3,
    "start_time": "2022-04-10T18:48:31.232Z"
   },
   {
    "duration": 183,
    "start_time": "2022-04-10T19:00:38.301Z"
   },
   {
    "duration": 1465,
    "start_time": "2022-04-10T19:12:21.010Z"
   },
   {
    "duration": 733,
    "start_time": "2022-04-10T19:12:22.477Z"
   },
   {
    "duration": 4,
    "start_time": "2022-04-10T19:12:23.211Z"
   },
   {
    "duration": 235,
    "start_time": "2022-04-10T19:12:23.217Z"
   },
   {
    "duration": 3,
    "start_time": "2022-04-10T19:12:23.454Z"
   },
   {
    "duration": 4,
    "start_time": "2022-04-10T19:12:23.458Z"
   },
   {
    "duration": 262,
    "start_time": "2022-04-10T19:12:23.463Z"
   },
   {
    "duration": 3,
    "start_time": "2022-04-10T19:12:23.727Z"
   },
   {
    "duration": 7,
    "start_time": "2022-04-10T19:12:23.732Z"
   },
   {
    "duration": 4,
    "start_time": "2022-04-10T19:12:23.742Z"
   },
   {
    "duration": 11,
    "start_time": "2022-04-10T19:12:23.748Z"
   },
   {
    "duration": 29,
    "start_time": "2022-04-10T19:12:23.760Z"
   },
   {
    "duration": 12,
    "start_time": "2022-04-10T19:12:23.791Z"
   },
   {
    "duration": 27708,
    "start_time": "2022-04-10T19:12:23.804Z"
   },
   {
    "duration": 8,
    "start_time": "2022-04-10T19:12:51.514Z"
   },
   {
    "duration": 4,
    "start_time": "2022-04-10T19:12:51.523Z"
   },
   {
    "duration": 12,
    "start_time": "2022-04-10T19:12:51.529Z"
   },
   {
    "duration": 9,
    "start_time": "2022-04-10T19:12:51.543Z"
   },
   {
    "duration": 5,
    "start_time": "2022-04-10T19:12:51.553Z"
   },
   {
    "duration": 29,
    "start_time": "2022-04-10T19:12:51.559Z"
   },
   {
    "duration": 980,
    "start_time": "2022-04-10T19:12:51.589Z"
   },
   {
    "duration": 10,
    "start_time": "2022-04-10T19:12:52.571Z"
   },
   {
    "duration": 44820,
    "start_time": "2022-04-10T19:12:52.583Z"
   },
   {
    "duration": 10,
    "start_time": "2022-04-10T19:13:37.404Z"
   },
   {
    "duration": 103,
    "start_time": "2022-04-10T19:13:37.415Z"
   },
   {
    "duration": 14,
    "start_time": "2022-04-10T19:13:37.519Z"
   },
   {
    "duration": 5,
    "start_time": "2022-04-10T19:13:37.534Z"
   },
   {
    "duration": 147,
    "start_time": "2022-04-10T19:13:37.544Z"
   },
   {
    "duration": 4,
    "start_time": "2022-04-10T19:13:37.693Z"
   },
   {
    "duration": 539,
    "start_time": "2022-04-10T19:13:37.699Z"
   },
   {
    "duration": 21,
    "start_time": "2022-04-10T19:13:38.239Z"
   },
   {
    "duration": 20,
    "start_time": "2022-04-10T19:13:38.261Z"
   },
   {
    "duration": 13,
    "start_time": "2022-04-10T19:13:38.282Z"
   },
   {
    "duration": 95,
    "start_time": "2022-04-10T19:13:38.296Z"
   },
   {
    "duration": 13,
    "start_time": "2022-04-10T19:13:38.392Z"
   },
   {
    "duration": 11,
    "start_time": "2022-04-10T19:13:38.407Z"
   },
   {
    "duration": 163,
    "start_time": "2022-04-10T19:13:38.420Z"
   },
   {
    "duration": 13,
    "start_time": "2022-04-10T19:13:38.584Z"
   },
   {
    "duration": 4,
    "start_time": "2022-04-10T19:13:38.599Z"
   },
   {
    "duration": 8,
    "start_time": "2022-04-10T19:13:38.604Z"
   },
   {
    "duration": 17,
    "start_time": "2022-04-10T19:13:38.614Z"
   },
   {
    "duration": 2,
    "start_time": "2022-04-10T19:13:38.632Z"
   },
   {
    "duration": 4,
    "start_time": "2022-04-10T19:13:38.636Z"
   },
   {
    "duration": 8,
    "start_time": "2022-04-10T19:13:38.641Z"
   },
   {
    "duration": 19,
    "start_time": "2022-04-10T19:13:38.680Z"
   },
   {
    "duration": 19,
    "start_time": "2022-04-10T19:13:38.700Z"
   },
   {
    "duration": 17,
    "start_time": "2022-04-10T19:13:38.720Z"
   },
   {
    "duration": 42,
    "start_time": "2022-04-10T19:13:38.739Z"
   },
   {
    "duration": 11,
    "start_time": "2022-04-10T19:13:38.783Z"
   },
   {
    "duration": 22,
    "start_time": "2022-04-10T19:13:38.796Z"
   },
   {
    "duration": 18,
    "start_time": "2022-04-10T19:13:38.820Z"
   },
   {
    "duration": 4,
    "start_time": "2022-04-10T19:13:38.839Z"
   },
   {
    "duration": 38,
    "start_time": "2022-04-10T19:13:38.844Z"
   },
   {
    "duration": 8,
    "start_time": "2022-04-10T19:13:38.883Z"
   },
   {
    "duration": 8,
    "start_time": "2022-04-10T19:13:38.893Z"
   },
   {
    "duration": 4,
    "start_time": "2022-04-10T19:13:38.902Z"
   },
   {
    "duration": 27,
    "start_time": "2022-04-10T19:13:38.907Z"
   },
   {
    "duration": 3,
    "start_time": "2022-04-10T19:13:38.935Z"
   },
   {
    "duration": 7,
    "start_time": "2022-04-10T19:13:38.939Z"
   },
   {
    "duration": 4,
    "start_time": "2022-04-10T19:13:38.947Z"
   },
   {
    "duration": 120,
    "start_time": "2022-04-10T19:13:38.953Z"
   },
   {
    "duration": 0,
    "start_time": "2022-04-10T19:13:39.074Z"
   },
   {
    "duration": 0,
    "start_time": "2022-04-10T19:13:39.075Z"
   },
   {
    "duration": 0,
    "start_time": "2022-04-10T19:13:39.076Z"
   },
   {
    "duration": 0,
    "start_time": "2022-04-10T19:13:39.081Z"
   },
   {
    "duration": 0,
    "start_time": "2022-04-10T19:13:39.082Z"
   },
   {
    "duration": 0,
    "start_time": "2022-04-10T19:13:39.083Z"
   },
   {
    "duration": 0,
    "start_time": "2022-04-10T19:13:39.083Z"
   },
   {
    "duration": 0,
    "start_time": "2022-04-10T19:13:39.084Z"
   },
   {
    "duration": 0,
    "start_time": "2022-04-10T19:13:39.085Z"
   },
   {
    "duration": 0,
    "start_time": "2022-04-10T19:13:39.086Z"
   },
   {
    "duration": 0,
    "start_time": "2022-04-10T19:13:39.087Z"
   },
   {
    "duration": 0,
    "start_time": "2022-04-10T19:13:39.088Z"
   },
   {
    "duration": 0,
    "start_time": "2022-04-10T19:13:39.089Z"
   },
   {
    "duration": 0,
    "start_time": "2022-04-10T19:13:39.089Z"
   },
   {
    "duration": 0,
    "start_time": "2022-04-10T19:13:39.090Z"
   },
   {
    "duration": 0,
    "start_time": "2022-04-10T19:13:39.091Z"
   },
   {
    "duration": 3,
    "start_time": "2022-04-10T19:14:54.784Z"
   },
   {
    "duration": 2,
    "start_time": "2022-04-10T19:14:55.970Z"
   },
   {
    "duration": 8,
    "start_time": "2022-04-10T19:14:57.078Z"
   },
   {
    "duration": 3,
    "start_time": "2022-04-10T19:16:35.223Z"
   },
   {
    "duration": 3,
    "start_time": "2022-04-10T19:16:36.990Z"
   },
   {
    "duration": 3,
    "start_time": "2022-04-10T19:16:37.943Z"
   },
   {
    "duration": 3604,
    "start_time": "2022-04-10T19:16:41.310Z"
   },
   {
    "duration": 3,
    "start_time": "2022-04-10T19:16:48.321Z"
   },
   {
    "duration": 4677,
    "start_time": "2022-04-10T19:16:49.935Z"
   },
   {
    "duration": 3,
    "start_time": "2022-04-10T19:16:54.614Z"
   },
   {
    "duration": 3,
    "start_time": "2022-04-10T19:17:04.396Z"
   },
   {
    "duration": 3,
    "start_time": "2022-04-10T19:17:08.312Z"
   },
   {
    "duration": 2,
    "start_time": "2022-04-10T19:17:08.913Z"
   },
   {
    "duration": 2,
    "start_time": "2022-04-10T19:17:10.180Z"
   },
   {
    "duration": 3,
    "start_time": "2022-04-10T19:17:10.840Z"
   },
   {
    "duration": 21463,
    "start_time": "2022-04-10T19:17:13.536Z"
   },
   {
    "duration": 4,
    "start_time": "2022-04-10T19:17:37.649Z"
   },
   {
    "duration": 30626,
    "start_time": "2022-04-10T19:17:45.040Z"
   },
   {
    "duration": 3,
    "start_time": "2022-04-10T19:18:26.480Z"
   },
   {
    "duration": 3,
    "start_time": "2022-04-10T19:18:30.564Z"
   },
   {
    "duration": 4,
    "start_time": "2022-04-10T19:18:33.577Z"
   },
   {
    "duration": 4,
    "start_time": "2022-04-10T19:18:37.468Z"
   },
   {
    "duration": 1389,
    "start_time": "2022-04-10T19:18:43.793Z"
   },
   {
    "duration": 4,
    "start_time": "2022-04-10T19:19:20.852Z"
   },
   {
    "duration": 4313,
    "start_time": "2022-04-10T19:19:21.630Z"
   },
   {
    "duration": 3,
    "start_time": "2022-04-10T19:19:42.446Z"
   },
   {
    "duration": 3806,
    "start_time": "2022-04-10T19:19:43.052Z"
   },
   {
    "duration": 3,
    "start_time": "2022-04-10T19:20:06.232Z"
   },
   {
    "duration": 4344,
    "start_time": "2022-04-10T19:20:08.347Z"
   },
   {
    "duration": 3717,
    "start_time": "2022-04-10T19:20:49.207Z"
   },
   {
    "duration": 3338,
    "start_time": "2022-04-10T19:21:15.427Z"
   },
   {
    "duration": 4328,
    "start_time": "2022-04-10T19:21:38.394Z"
   },
   {
    "duration": 1689,
    "start_time": "2022-04-10T19:21:56.134Z"
   },
   {
    "duration": 41918,
    "start_time": "2022-04-10T19:22:20.763Z"
   },
   {
    "duration": 31637,
    "start_time": "2022-04-10T19:23:37.853Z"
   },
   {
    "duration": 16112,
    "start_time": "2022-04-10T19:24:12.708Z"
   },
   {
    "duration": 3812,
    "start_time": "2022-04-10T19:24:46.920Z"
   },
   {
    "duration": 2013,
    "start_time": "2022-04-10T19:24:55.341Z"
   },
   {
    "duration": 16428,
    "start_time": "2022-04-10T19:25:10.022Z"
   },
   {
    "duration": 3,
    "start_time": "2022-04-10T19:26:10.799Z"
   },
   {
    "duration": 3,
    "start_time": "2022-04-10T19:26:12.893Z"
   },
   {
    "duration": 3,
    "start_time": "2022-04-10T19:26:15.246Z"
   },
   {
    "duration": 2,
    "start_time": "2022-04-10T19:26:16.830Z"
   },
   {
    "duration": 2,
    "start_time": "2022-04-10T19:26:17.511Z"
   },
   {
    "duration": 50184,
    "start_time": "2022-04-10T19:26:19.574Z"
   },
   {
    "duration": 1912,
    "start_time": "2022-04-10T19:27:47.764Z"
   },
   {
    "duration": 859,
    "start_time": "2022-04-10T19:27:49.678Z"
   },
   {
    "duration": 3,
    "start_time": "2022-04-10T19:27:50.538Z"
   },
   {
    "duration": 233,
    "start_time": "2022-04-10T19:27:50.543Z"
   },
   {
    "duration": 2,
    "start_time": "2022-04-10T19:27:50.781Z"
   },
   {
    "duration": 5,
    "start_time": "2022-04-10T19:27:50.785Z"
   },
   {
    "duration": 251,
    "start_time": "2022-04-10T19:27:50.791Z"
   },
   {
    "duration": 4,
    "start_time": "2022-04-10T19:27:51.043Z"
   },
   {
    "duration": 9,
    "start_time": "2022-04-10T19:27:51.048Z"
   },
   {
    "duration": 4,
    "start_time": "2022-04-10T19:27:51.059Z"
   },
   {
    "duration": 25,
    "start_time": "2022-04-10T19:27:51.064Z"
   },
   {
    "duration": 6,
    "start_time": "2022-04-10T19:27:51.090Z"
   },
   {
    "duration": 9,
    "start_time": "2022-04-10T19:27:51.097Z"
   },
   {
    "duration": 28085,
    "start_time": "2022-04-10T19:27:51.107Z"
   },
   {
    "duration": 9,
    "start_time": "2022-04-10T19:28:19.194Z"
   },
   {
    "duration": 3,
    "start_time": "2022-04-10T19:28:19.204Z"
   },
   {
    "duration": 18,
    "start_time": "2022-04-10T19:28:19.208Z"
   },
   {
    "duration": 10,
    "start_time": "2022-04-10T19:28:19.227Z"
   },
   {
    "duration": 6,
    "start_time": "2022-04-10T19:28:19.239Z"
   },
   {
    "duration": 39,
    "start_time": "2022-04-10T19:28:19.247Z"
   },
   {
    "duration": 873,
    "start_time": "2022-04-10T19:28:19.288Z"
   },
   {
    "duration": 7,
    "start_time": "2022-04-10T19:28:20.162Z"
   },
   {
    "duration": 44563,
    "start_time": "2022-04-10T19:28:20.170Z"
   },
   {
    "duration": 9,
    "start_time": "2022-04-10T19:29:04.735Z"
   },
   {
    "duration": 103,
    "start_time": "2022-04-10T19:29:04.745Z"
   },
   {
    "duration": 14,
    "start_time": "2022-04-10T19:29:04.850Z"
   },
   {
    "duration": 16,
    "start_time": "2022-04-10T19:29:04.865Z"
   },
   {
    "duration": 134,
    "start_time": "2022-04-10T19:29:04.885Z"
   },
   {
    "duration": 3,
    "start_time": "2022-04-10T19:29:05.020Z"
   },
   {
    "duration": 517,
    "start_time": "2022-04-10T19:29:05.025Z"
   },
   {
    "duration": 20,
    "start_time": "2022-04-10T19:29:05.544Z"
   },
   {
    "duration": 20,
    "start_time": "2022-04-10T19:29:05.566Z"
   },
   {
    "duration": 14,
    "start_time": "2022-04-10T19:29:05.588Z"
   },
   {
    "duration": 85,
    "start_time": "2022-04-10T19:29:05.603Z"
   },
   {
    "duration": 13,
    "start_time": "2022-04-10T19:29:05.690Z"
   },
   {
    "duration": 14,
    "start_time": "2022-04-10T19:29:05.704Z"
   },
   {
    "duration": 177,
    "start_time": "2022-04-10T19:29:05.719Z"
   },
   {
    "duration": 13,
    "start_time": "2022-04-10T19:29:05.898Z"
   },
   {
    "duration": 7,
    "start_time": "2022-04-10T19:29:05.913Z"
   },
   {
    "duration": 9,
    "start_time": "2022-04-10T19:29:05.921Z"
   },
   {
    "duration": 17,
    "start_time": "2022-04-10T19:29:05.932Z"
   },
   {
    "duration": 2,
    "start_time": "2022-04-10T19:29:05.951Z"
   },
   {
    "duration": 2,
    "start_time": "2022-04-10T19:29:05.980Z"
   },
   {
    "duration": 16,
    "start_time": "2022-04-10T19:29:05.984Z"
   },
   {
    "duration": 23,
    "start_time": "2022-04-10T19:29:06.001Z"
   },
   {
    "duration": 22,
    "start_time": "2022-04-10T19:29:06.025Z"
   },
   {
    "duration": 23,
    "start_time": "2022-04-10T19:29:06.049Z"
   },
   {
    "duration": 22,
    "start_time": "2022-04-10T19:29:06.074Z"
   },
   {
    "duration": 13,
    "start_time": "2022-04-10T19:29:06.098Z"
   },
   {
    "duration": 23,
    "start_time": "2022-04-10T19:29:06.113Z"
   },
   {
    "duration": 18,
    "start_time": "2022-04-10T19:29:06.138Z"
   },
   {
    "duration": 5,
    "start_time": "2022-04-10T19:29:06.181Z"
   },
   {
    "duration": 19,
    "start_time": "2022-04-10T19:29:06.187Z"
   },
   {
    "duration": 17,
    "start_time": "2022-04-10T19:29:06.208Z"
   },
   {
    "duration": 9,
    "start_time": "2022-04-10T19:29:06.227Z"
   },
   {
    "duration": 3,
    "start_time": "2022-04-10T19:29:06.238Z"
   },
   {
    "duration": 38,
    "start_time": "2022-04-10T19:29:06.243Z"
   },
   {
    "duration": 3,
    "start_time": "2022-04-10T19:29:06.283Z"
   },
   {
    "duration": 5,
    "start_time": "2022-04-10T19:29:06.288Z"
   },
   {
    "duration": 4,
    "start_time": "2022-04-10T19:29:06.294Z"
   },
   {
    "duration": 4,
    "start_time": "2022-04-10T19:29:06.299Z"
   },
   {
    "duration": 4,
    "start_time": "2022-04-10T19:29:06.304Z"
   },
   {
    "duration": 4,
    "start_time": "2022-04-10T19:29:06.310Z"
   },
   {
    "duration": 5,
    "start_time": "2022-04-10T19:29:06.315Z"
   },
   {
    "duration": 215604,
    "start_time": "2022-04-10T19:29:06.321Z"
   },
   {
    "duration": 10,
    "start_time": "2022-04-10T19:32:41.927Z"
   },
   {
    "duration": 0,
    "start_time": "2022-04-10T19:32:41.939Z"
   },
   {
    "duration": 0,
    "start_time": "2022-04-10T19:32:41.940Z"
   },
   {
    "duration": 0,
    "start_time": "2022-04-10T19:32:41.942Z"
   },
   {
    "duration": 0,
    "start_time": "2022-04-10T19:32:41.943Z"
   },
   {
    "duration": 0,
    "start_time": "2022-04-10T19:32:41.944Z"
   },
   {
    "duration": 0,
    "start_time": "2022-04-10T19:32:41.945Z"
   },
   {
    "duration": 0,
    "start_time": "2022-04-10T19:32:41.947Z"
   },
   {
    "duration": 0,
    "start_time": "2022-04-10T19:32:41.948Z"
   },
   {
    "duration": 0,
    "start_time": "2022-04-10T19:32:41.949Z"
   },
   {
    "duration": 0,
    "start_time": "2022-04-10T19:32:41.951Z"
   },
   {
    "duration": 0,
    "start_time": "2022-04-10T19:32:41.952Z"
   },
   {
    "duration": 0,
    "start_time": "2022-04-10T19:32:41.953Z"
   },
   {
    "duration": 0,
    "start_time": "2022-04-10T19:32:41.955Z"
   },
   {
    "duration": 2,
    "start_time": "2022-04-10T19:32:46.128Z"
   },
   {
    "duration": 3,
    "start_time": "2022-04-10T19:32:46.858Z"
   },
   {
    "duration": 2,
    "start_time": "2022-04-10T19:32:47.601Z"
   },
   {
    "duration": 2,
    "start_time": "2022-04-10T19:32:48.733Z"
   },
   {
    "duration": 3,
    "start_time": "2022-04-10T19:32:49.293Z"
   },
   {
    "duration": 76677,
    "start_time": "2022-04-10T19:32:50.822Z"
   },
   {
    "duration": 7,
    "start_time": "2022-04-10T19:34:07.501Z"
   },
   {
    "duration": 3,
    "start_time": "2022-04-10T19:34:09.380Z"
   },
   {
    "duration": 3,
    "start_time": "2022-04-10T19:34:09.859Z"
   },
   {
    "duration": 3,
    "start_time": "2022-04-10T19:34:10.249Z"
   },
   {
    "duration": 3,
    "start_time": "2022-04-10T19:34:10.919Z"
   },
   {
    "duration": 3,
    "start_time": "2022-04-10T19:34:11.235Z"
   },
   {
    "duration": 96557,
    "start_time": "2022-04-10T19:34:12.267Z"
   },
   {
    "duration": 3,
    "start_time": "2022-04-10T19:35:48.826Z"
   },
   {
    "duration": 134108,
    "start_time": "2022-04-10T19:35:48.831Z"
   },
   {
    "duration": 4,
    "start_time": "2022-04-10T19:38:02.941Z"
   },
   {
    "duration": 7,
    "start_time": "2022-04-10T19:38:02.946Z"
   },
   {
    "duration": 6,
    "start_time": "2022-04-10T19:38:02.955Z"
   },
   {
    "duration": 20,
    "start_time": "2022-04-10T19:38:02.963Z"
   },
   {
    "duration": 1098,
    "start_time": "2022-04-10T19:38:02.985Z"
   },
   {
    "duration": 42110,
    "start_time": "2022-04-10T19:38:04.085Z"
   },
   {
    "duration": 31250,
    "start_time": "2022-04-10T19:38:46.197Z"
   },
   {
    "duration": 16085,
    "start_time": "2022-04-10T19:39:17.448Z"
   },
   {
    "duration": 3,
    "start_time": "2022-04-10T19:39:33.534Z"
   },
   {
    "duration": 15,
    "start_time": "2022-04-10T19:39:33.538Z"
   }
  ],
  "kernelspec": {
   "display_name": "Python 3 (ipykernel)",
   "language": "python",
   "name": "python3"
  },
  "language_info": {
   "codemirror_mode": {
    "name": "ipython",
    "version": 3
   },
   "file_extension": ".py",
   "mimetype": "text/x-python",
   "name": "python",
   "nbconvert_exporter": "python",
   "pygments_lexer": "ipython3",
   "version": "3.9.5"
  },
  "toc": {
   "base_numbering": 1,
   "nav_menu": {},
   "number_sections": true,
   "sideBar": true,
   "skip_h1_title": true,
   "title_cell": "Содержание",
   "title_sidebar": "Contents",
   "toc_cell": true,
   "toc_position": {
    "height": "calc(100% - 180px)",
    "left": "10px",
    "top": "150px",
    "width": "165px"
   },
   "toc_section_display": true,
   "toc_window_display": true
  }
 },
 "nbformat": 4,
 "nbformat_minor": 2
}
