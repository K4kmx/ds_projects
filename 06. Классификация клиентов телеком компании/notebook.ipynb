{
 "cells": [
  {
   "cell_type": "markdown",
   "metadata": {},
   "source": [
    "# Рекомендация тарифов"
   ]
  },
  {
   "cell_type": "markdown",
   "metadata": {},
   "source": [
    "В вашем распоряжении данные о поведении клиентов, которые уже перешли на эти тарифы (из проекта курса «Статистический анализ данных»). Нужно построить модель для задачи классификации, которая выберет подходящий тариф. Предобработка данных не понадобится — вы её уже сделали.\n",
    "\n",
    "Постройте модель с максимально большим значением *accuracy*. Чтобы сдать проект успешно, нужно довести долю правильных ответов по крайней мере до 0.75. Проверьте *accuracy* на тестовой выборке самостоятельно."
   ]
  },
  {
   "cell_type": "markdown",
   "metadata": {},
   "source": [
    "**Описание проекта**\n",
    "    Оператор мобильной связи «Мегалайн» выяснил: многие клиенты пользуются архивными тарифами. Они хотят построить систему, способную проанализировать поведение клиентов и предложить пользователям новый тариф: «Смарт» или «Ультра».\n",
    "    В вашем распоряжении данные о поведении клиентов, которые уже перешли на эти тарифы (из проекта курса «Статистический анализ данных»). Нужно построить модель для задачи классификации, которая выберет подходящий тариф. Предобработка данных не понадобится — вы её уже сделали.\n",
    "    Постройте модель с максимально большим значением accuracy. Чтобы сдать проект успешно, нужно довести долю правильных ответов по крайней мере до 0.75. Проверьте accuracy на тестовой выборке самостоятельно.\n",
    "Инструкция по выполнению проекта\n",
    "\n",
    "**Описание данных**\n",
    "Каждый объект в наборе данных — это информация о поведении одного пользователя за месяц. Известно:\n",
    "сalls — количество звонков,\n",
    "minutes — суммарная длительность звонков в минутах,\n",
    "messages — количество sms-сообщений,\n",
    "mb_used — израсходованный интернет-трафик в Мб,\n",
    "is_ultra — каким тарифом пользовался в течение месяца («Ультра» — 1, «Смарт» — 0)."
   ]
  },
  {
   "cell_type": "markdown",
   "metadata": {},
   "source": [
    "## Откройте и изучите файл"
   ]
  },
  {
   "cell_type": "code",
   "execution_count": 1,
   "metadata": {},
   "outputs": [],
   "source": [
    "import pandas as pd\n",
    "\n",
    "from sklearn.model_selection import train_test_split\n",
    "\n",
    "from sklearn.tree import DecisionTreeClassifier\n",
    "from sklearn.linear_model import LogisticRegression\n",
    "from sklearn.ensemble import RandomForestClassifier\n",
    "from sklearn.dummy import DummyClassifier"
   ]
  },
  {
   "cell_type": "code",
   "execution_count": 2,
   "metadata": {},
   "outputs": [],
   "source": [
    "df = pd.read_csv('/datasets/users_behavior.csv')"
   ]
  },
  {
   "cell_type": "code",
   "execution_count": 3,
   "metadata": {},
   "outputs": [
    {
     "data": {
      "text/html": [
       "<div>\n",
       "<style scoped>\n",
       "    .dataframe tbody tr th:only-of-type {\n",
       "        vertical-align: middle;\n",
       "    }\n",
       "\n",
       "    .dataframe tbody tr th {\n",
       "        vertical-align: top;\n",
       "    }\n",
       "\n",
       "    .dataframe thead th {\n",
       "        text-align: right;\n",
       "    }\n",
       "</style>\n",
       "<table border=\"1\" class=\"dataframe\">\n",
       "  <thead>\n",
       "    <tr style=\"text-align: right;\">\n",
       "      <th></th>\n",
       "      <th>calls</th>\n",
       "      <th>minutes</th>\n",
       "      <th>messages</th>\n",
       "      <th>mb_used</th>\n",
       "      <th>is_ultra</th>\n",
       "    </tr>\n",
       "  </thead>\n",
       "  <tbody>\n",
       "    <tr>\n",
       "      <td>0</td>\n",
       "      <td>40.0</td>\n",
       "      <td>311.90</td>\n",
       "      <td>83.0</td>\n",
       "      <td>19915.42</td>\n",
       "      <td>0</td>\n",
       "    </tr>\n",
       "    <tr>\n",
       "      <td>1</td>\n",
       "      <td>85.0</td>\n",
       "      <td>516.75</td>\n",
       "      <td>56.0</td>\n",
       "      <td>22696.96</td>\n",
       "      <td>0</td>\n",
       "    </tr>\n",
       "    <tr>\n",
       "      <td>2</td>\n",
       "      <td>77.0</td>\n",
       "      <td>467.66</td>\n",
       "      <td>86.0</td>\n",
       "      <td>21060.45</td>\n",
       "      <td>0</td>\n",
       "    </tr>\n",
       "    <tr>\n",
       "      <td>3</td>\n",
       "      <td>106.0</td>\n",
       "      <td>745.53</td>\n",
       "      <td>81.0</td>\n",
       "      <td>8437.39</td>\n",
       "      <td>1</td>\n",
       "    </tr>\n",
       "    <tr>\n",
       "      <td>4</td>\n",
       "      <td>66.0</td>\n",
       "      <td>418.74</td>\n",
       "      <td>1.0</td>\n",
       "      <td>14502.75</td>\n",
       "      <td>0</td>\n",
       "    </tr>\n",
       "    <tr>\n",
       "      <td>...</td>\n",
       "      <td>...</td>\n",
       "      <td>...</td>\n",
       "      <td>...</td>\n",
       "      <td>...</td>\n",
       "      <td>...</td>\n",
       "    </tr>\n",
       "    <tr>\n",
       "      <td>3209</td>\n",
       "      <td>122.0</td>\n",
       "      <td>910.98</td>\n",
       "      <td>20.0</td>\n",
       "      <td>35124.90</td>\n",
       "      <td>1</td>\n",
       "    </tr>\n",
       "    <tr>\n",
       "      <td>3210</td>\n",
       "      <td>25.0</td>\n",
       "      <td>190.36</td>\n",
       "      <td>0.0</td>\n",
       "      <td>3275.61</td>\n",
       "      <td>0</td>\n",
       "    </tr>\n",
       "    <tr>\n",
       "      <td>3211</td>\n",
       "      <td>97.0</td>\n",
       "      <td>634.44</td>\n",
       "      <td>70.0</td>\n",
       "      <td>13974.06</td>\n",
       "      <td>0</td>\n",
       "    </tr>\n",
       "    <tr>\n",
       "      <td>3212</td>\n",
       "      <td>64.0</td>\n",
       "      <td>462.32</td>\n",
       "      <td>90.0</td>\n",
       "      <td>31239.78</td>\n",
       "      <td>0</td>\n",
       "    </tr>\n",
       "    <tr>\n",
       "      <td>3213</td>\n",
       "      <td>80.0</td>\n",
       "      <td>566.09</td>\n",
       "      <td>6.0</td>\n",
       "      <td>29480.52</td>\n",
       "      <td>1</td>\n",
       "    </tr>\n",
       "  </tbody>\n",
       "</table>\n",
       "<p>3214 rows × 5 columns</p>\n",
       "</div>"
      ],
      "text/plain": [
       "      calls  minutes  messages   mb_used  is_ultra\n",
       "0      40.0   311.90      83.0  19915.42         0\n",
       "1      85.0   516.75      56.0  22696.96         0\n",
       "2      77.0   467.66      86.0  21060.45         0\n",
       "3     106.0   745.53      81.0   8437.39         1\n",
       "4      66.0   418.74       1.0  14502.75         0\n",
       "...     ...      ...       ...       ...       ...\n",
       "3209  122.0   910.98      20.0  35124.90         1\n",
       "3210   25.0   190.36       0.0   3275.61         0\n",
       "3211   97.0   634.44      70.0  13974.06         0\n",
       "3212   64.0   462.32      90.0  31239.78         0\n",
       "3213   80.0   566.09       6.0  29480.52         1\n",
       "\n",
       "[3214 rows x 5 columns]"
      ]
     },
     "metadata": {},
     "output_type": "display_data"
    }
   ],
   "source": [
    "display(df)"
   ]
  },
  {
   "cell_type": "code",
   "execution_count": 4,
   "metadata": {},
   "outputs": [
    {
     "name": "stdout",
     "output_type": "stream",
     "text": [
      "<class 'pandas.core.frame.DataFrame'>\n",
      "RangeIndex: 3214 entries, 0 to 3213\n",
      "Data columns (total 5 columns):\n",
      "calls       3214 non-null float64\n",
      "minutes     3214 non-null float64\n",
      "messages    3214 non-null float64\n",
      "mb_used     3214 non-null float64\n",
      "is_ultra    3214 non-null int64\n",
      "dtypes: float64(4), int64(1)\n",
      "memory usage: 125.7 KB\n"
     ]
    }
   ],
   "source": [
    "df.info()"
   ]
  },
  {
   "cell_type": "code",
   "execution_count": 5,
   "metadata": {
    "scrolled": true
   },
   "outputs": [
    {
     "data": {
      "text/plain": [
       "calls       0\n",
       "minutes     0\n",
       "messages    0\n",
       "mb_used     0\n",
       "is_ultra    0\n",
       "dtype: int64"
      ]
     },
     "execution_count": 5,
     "metadata": {},
     "output_type": "execute_result"
    }
   ],
   "source": [
    "df.isna().sum()"
   ]
  },
  {
   "cell_type": "code",
   "execution_count": 6,
   "metadata": {},
   "outputs": [
    {
     "data": {
      "text/plain": [
       "0"
      ]
     },
     "execution_count": 6,
     "metadata": {},
     "output_type": "execute_result"
    }
   ],
   "source": [
    "df.duplicated().sum()"
   ]
  },
  {
   "cell_type": "markdown",
   "metadata": {},
   "source": [
    "**Вывод**\n",
    "1. Данные без пропусков и повторений\n",
    "2. Предобработка данных не требуется."
   ]
  },
  {
   "cell_type": "markdown",
   "metadata": {},
   "source": [
    "## Разбейте данные на выборки"
   ]
  },
  {
   "cell_type": "code",
   "execution_count": 7,
   "metadata": {},
   "outputs": [],
   "source": [
    "train, test = train_test_split(df, train_size=0.6, test_size=0.4, random_state=12345)"
   ]
  },
  {
   "cell_type": "code",
   "execution_count": 8,
   "metadata": {},
   "outputs": [],
   "source": [
    "features = test.drop('is_ultra', axis=1)\n",
    "target = test['is_ultra']"
   ]
  },
  {
   "cell_type": "code",
   "execution_count": 9,
   "metadata": {},
   "outputs": [],
   "source": [
    "features_val, features_test, target_val, target_test = train_test_split(features, target, train_size=0.5, test_size=0.5, random_state=12345)"
   ]
  },
  {
   "cell_type": "markdown",
   "metadata": {},
   "source": [
    "Сначала делим датафрейм на две части в соотношении 60/40, а затем тестовую выборку в размере 40% от датафрейма делим пополам, получая окончательные валидационную и тестовую выборки."
   ]
  },
  {
   "cell_type": "code",
   "execution_count": 10,
   "metadata": {},
   "outputs": [],
   "source": [
    "features_train = train.drop('is_ultra', axis=1)\n",
    "target_train = train['is_ultra']"
   ]
  },
  {
   "cell_type": "code",
   "execution_count": 11,
   "metadata": {},
   "outputs": [
    {
     "name": "stdout",
     "output_type": "stream",
     "text": [
      "      calls  minutes  messages   mb_used\n",
      "3027   60.0   431.56      26.0  14751.26\n",
      "434    33.0   265.17      59.0  17398.02\n",
      "1226   52.0   341.83      68.0  15462.38\n",
      "1054   42.0   226.18      21.0  13243.48\n",
      "1842   30.0   198.42       0.0   8189.53\n",
      "...     ...      ...       ...       ...\n",
      "2817   12.0    86.62      22.0  36628.85\n",
      "546    65.0   458.46       0.0  15214.25\n",
      "382   144.0   906.18       0.0  25002.44\n",
      "2177   38.0   301.27      37.0  28914.24\n",
      "482   160.0  1084.05      95.0  36843.92\n",
      "\n",
      "[1928 rows x 4 columns]\n",
      "3027    0\n",
      "434     0\n",
      "1226    0\n",
      "1054    0\n",
      "1842    0\n",
      "       ..\n",
      "2817    1\n",
      "546     1\n",
      "382     1\n",
      "2177    1\n",
      "482     1\n",
      "Name: is_ultra, Length: 1928, dtype: int64\n"
     ]
    }
   ],
   "source": [
    "print(features_train)\n",
    "print(target_train)"
   ]
  },
  {
   "cell_type": "markdown",
   "metadata": {},
   "source": [
    "**Создал 3 выборки**\n",
    "\n",
    "features_train, target_train - *обучающая выборка*\n",
    "\n",
    "features_val, target_val - *валидационная выборка*\n",
    "\n",
    "features_test, target_test - *тестовая выборка*\n",
    "\n"
   ]
  },
  {
   "cell_type": "markdown",
   "metadata": {},
   "source": [
    "## Исследуйте модели"
   ]
  },
  {
   "cell_type": "markdown",
   "metadata": {},
   "source": [
    "**Дерево решений**"
   ]
  },
  {
   "cell_type": "code",
   "execution_count": 12,
   "metadata": {},
   "outputs": [
    {
     "name": "stdout",
     "output_type": "stream",
     "text": [
      "Глубина дерева: 9\n",
      "Качество: 0.7869362363919129\n"
     ]
    }
   ],
   "source": [
    "best_accuracy = 0\n",
    "best_depth = 0\n",
    "for depth in range(1,10):\n",
    "    model = DecisionTreeClassifier(max_depth=depth, random_state=321)\n",
    "    model.fit(features_train, target_train)\n",
    "    accuracy = model.score(features_val, target_val)\n",
    "    if accuracy > best_accuracy:\n",
    "        best_accuracy = accuracy\n",
    "        best_depth = depth\n",
    "print(\"Глубина дерева:\", best_depth)\n",
    "print(\"Качество:\", best_accuracy)"
   ]
  },
  {
   "cell_type": "markdown",
   "metadata": {},
   "source": [
    "**Логистическая регрессия**"
   ]
  },
  {
   "cell_type": "code",
   "execution_count": 13,
   "metadata": {},
   "outputs": [
    {
     "name": "stdout",
     "output_type": "stream",
     "text": [
      "Качество: 0.7589424572317263\n"
     ]
    },
    {
     "name": "stderr",
     "output_type": "stream",
     "text": [
      "/opt/conda/lib/python3.7/site-packages/sklearn/linear_model/logistic.py:432: FutureWarning: Default solver will be changed to 'lbfgs' in 0.22. Specify a solver to silence this warning.\n",
      "  FutureWarning)\n"
     ]
    }
   ],
   "source": [
    "model = LogisticRegression()\n",
    "model.fit(features_train, target_train)\n",
    "accuracy = model.score(features_val, target_val)\n",
    "print(\"Качество:\", accuracy)"
   ]
  },
  {
   "cell_type": "markdown",
   "metadata": {},
   "source": [
    "**Случайный лес**"
   ]
  },
  {
   "cell_type": "code",
   "execution_count": 14,
   "metadata": {
    "scrolled": true
   },
   "outputs": [
    {
     "name": "stdout",
     "output_type": "stream",
     "text": [
      "Глубина дерева: 6\n",
      "Количество деревьев: 5\n",
      "Минимально объектов в узле: 2\n",
      "Качество: 0.8040435458786936\n"
     ]
    }
   ],
   "source": [
    "best_accuracy = 0\n",
    "best_depth = 0\n",
    "for depth in range(1,10):\n",
    "    for est in range(1,20,2):\n",
    "        for sample in range(1,10):\n",
    "            model = RandomForestClassifier(max_depth=depth, n_estimators=est, min_samples_leaf=sample, random_state=321)\n",
    "            model.fit(features_train, target_train)\n",
    "            accuracy = model.score(features_val, target_val)\n",
    "            if accuracy > best_accuracy:\n",
    "                best_accuracy = accuracy\n",
    "                best_depth = depth\n",
    "                best_est = est\n",
    "                best_sample = sample\n",
    "print(\"Глубина дерева:\", best_depth) \n",
    "print(\"Количество деревьев:\", best_est)      \n",
    "print(\"Минимально объектов в узле:\", best_sample)      \n",
    "print(\"Качество:\", best_accuracy)     "
   ]
  },
  {
   "cell_type": "markdown",
   "metadata": {},
   "source": [
    "**Вывод**\n",
    "1. Провел ислледование 3 различных моделей машинного обучения.\n",
    "2. Наилучший результат показала 3-я модель \"Случайный лес\" с результатом 0.8040435458786936"
   ]
  },
  {
   "cell_type": "markdown",
   "metadata": {},
   "source": [
    "## Проверьте модель на тестовой выборке"
   ]
  },
  {
   "cell_type": "markdown",
   "metadata": {},
   "source": [
    "**Дерево решений**"
   ]
  },
  {
   "cell_type": "code",
   "execution_count": 15,
   "metadata": {},
   "outputs": [
    {
     "name": "stdout",
     "output_type": "stream",
     "text": [
      "Качество: 0.7791601866251944\n"
     ]
    }
   ],
   "source": [
    "model = DecisionTreeClassifier(max_depth=10, random_state=321)\n",
    "model.fit(features_train, target_train)\n",
    "accuracy = model.score(features_test, target_test)\n",
    "print(\"Качество:\", accuracy)"
   ]
  },
  {
   "cell_type": "markdown",
   "metadata": {},
   "source": [
    "**Логистическая регрессия**"
   ]
  },
  {
   "cell_type": "code",
   "execution_count": 16,
   "metadata": {},
   "outputs": [
    {
     "name": "stdout",
     "output_type": "stream",
     "text": [
      "Качество: 0.7402799377916018\n"
     ]
    },
    {
     "name": "stderr",
     "output_type": "stream",
     "text": [
      "/opt/conda/lib/python3.7/site-packages/sklearn/linear_model/logistic.py:432: FutureWarning: Default solver will be changed to 'lbfgs' in 0.22. Specify a solver to silence this warning.\n",
      "  FutureWarning)\n"
     ]
    }
   ],
   "source": [
    "model = LogisticRegression()\n",
    "model.fit(features_train, target_train)\n",
    "accuracy = model.score(features_test, target_test)\n",
    "print(\"Качество:\", accuracy)"
   ]
  },
  {
   "cell_type": "markdown",
   "metadata": {},
   "source": [
    "**Случайный лес**"
   ]
  },
  {
   "cell_type": "code",
   "execution_count": 17,
   "metadata": {},
   "outputs": [],
   "source": [
    "#model = RandomForestClassifier(max_depth=9, n_estimators=40, min_samples_leaf=4, random_state=321)\n",
    "#model.fit(features_train, target_train)\n",
    "#accuracy = model.score(features_test, target_test)\n",
    "#print(\"Качество:\", accuracy)"
   ]
  },
  {
   "cell_type": "code",
   "execution_count": 18,
   "metadata": {},
   "outputs": [],
   "source": [
    "#model = RandomForestClassifier(max_depth=9, n_estimators=42, min_samples_leaf=3, random_state=321)\n",
    "#model.fit(features_train, target_train)\n",
    "#accuracy = model.score(features_test, target_test)\n",
    "#print(\"Качество:\", accuracy)"
   ]
  },
  {
   "cell_type": "code",
   "execution_count": 19,
   "metadata": {},
   "outputs": [],
   "source": [
    "#model = RandomForestClassifier(max_depth=8, n_estimators=41, min_samples_leaf=4, random_state=321)\n",
    "#model.fit(features_train, target_train)\n",
    "#accuracy = model.score(features_test, target_test)\n",
    "#print(\"Качество:\", accuracy)"
   ]
  },
  {
   "cell_type": "code",
   "execution_count": 20,
   "metadata": {},
   "outputs": [],
   "source": [
    "#model = RandomForestClassifier(max_depth=9, n_estimators=39, min_samples_leaf=3, random_state=321)\n",
    "#model.fit(features_train, target_train)\n",
    "#accuracy = model.score(features_test, target_test)\n",
    "#print(\"Качество:\", accuracy)"
   ]
  },
  {
   "cell_type": "code",
   "execution_count": 21,
   "metadata": {},
   "outputs": [
    {
     "name": "stdout",
     "output_type": "stream",
     "text": [
      "Качество: 0.8055987558320373\n"
     ]
    }
   ],
   "source": [
    "model = RandomForestClassifier(max_depth=9, n_estimators=41, min_samples_leaf=3, random_state=321)\n",
    "model.fit(features_train, target_train)\n",
    "accuracy = model.score(features_test, target_test)\n",
    "print(\"Качество:\", accuracy)"
   ]
  },
  {
   "cell_type": "markdown",
   "metadata": {},
   "source": [
    "**Вывод**\n",
    "1. Проверил модель на 3х тестовых выборках\n",
    "2. Определил наилучшие гиперпараметры в RandomForest max_depth=9, n_estimators=41, min_samples_leaf=3\n",
    "(для примера оставил только 3, по факту перебрал больше 30 параметров)\n",
    "3. Наилучший результат 0.8055987558320373"
   ]
  },
  {
   "cell_type": "markdown",
   "metadata": {},
   "source": [
    "## (бонус) Проверьте модели на адекватность"
   ]
  },
  {
   "cell_type": "code",
   "execution_count": 22,
   "metadata": {},
   "outputs": [
    {
     "name": "stdout",
     "output_type": "stream",
     "text": [
      "Качество прогноза : 0.5816485225505443\n",
      "Качество этого прогноза : 0.8055987558320373\n"
     ]
    }
   ],
   "source": [
    "dmb = DummyClassifier(strategy=\"stratified\" ,random_state=321)\n",
    "dmb.fit(features_train, target_train)\n",
    "acc = dmb.score(features_test, target_test)\n",
    "print(\"Качество прогноза :\", acc)\n",
    "print(\"Качество этого прогноза :\", accuracy)"
   ]
  },
  {
   "cell_type": "code",
   "execution_count": 23,
   "metadata": {},
   "outputs": [
    {
     "name": "stdout",
     "output_type": "stream",
     "text": [
      "Качество прогноза: 0.6842923794712286\n",
      "Качество этого прогноза: 0.8055987558320373\n"
     ]
    }
   ],
   "source": [
    "dmb = DummyClassifier(strategy='most_frequent', random_state=321)\n",
    "dmb.fit(features_train, target_train)\n",
    "acc = dmb.score(features_test, target_test)\n",
    "print(\"Качество прогноза:\", acc)\n",
    "print(\"Качество этого прогноза:\", accuracy)"
   ]
  },
  {
   "cell_type": "code",
   "execution_count": 24,
   "metadata": {},
   "outputs": [
    {
     "name": "stdout",
     "output_type": "stream",
     "text": [
      "Качество прогноза : 0.48833592534992226\n",
      "Качество этого прогноза : 0.8055987558320373\n"
     ]
    }
   ],
   "source": [
    "dmb = DummyClassifier(strategy='uniform', random_state=321)\n",
    "dmb.fit(features_train, target_train)\n",
    "acc = dmb.score(features_test, target_test)\n",
    "print(\"Качество прогноза :\", acc)\n",
    "print(\"Качество этого прогноза :\", accuracy)"
   ]
  },
  {
   "cell_type": "code",
   "execution_count": 25,
   "metadata": {},
   "outputs": [
    {
     "name": "stdout",
     "output_type": "stream",
     "text": [
      "Качество прогноза : 0.6842923794712286\n",
      "Качество этого прогноза : 0.8055987558320373\n"
     ]
    }
   ],
   "source": [
    "dmb = DummyClassifier(strategy='prior', random_state=321)\n",
    "dmb.fit(features_train, target_train)\n",
    "acc = dmb.score(features_test, target_test)\n",
    "print(\"Качество прогноза :\", acc)\n",
    "print(\"Качество этого прогноза :\", accuracy)"
   ]
  },
  {
   "cell_type": "markdown",
   "metadata": {},
   "source": [
    "**Вывод**\n",
    "1. Проверил модели на адекватность через DummyClassifier 4мя различными стратегиями\n",
    "\n",
    "Стратегия использования для создания прогнозов:\n",
    "\n",
    "«Стратифицированный»: генерирует прогнозы с учетом распределения классов обучающей выборки.\n",
    "«Most_frequent»: всегда предсказывает наиболее частую метку в обучающем наборе.\n",
    "«Prior»: всегда предсказывает класс, который максимизирует предыдущий класс (например, «most_frequent»), а predict_proba возвращает предыдущий класс.\n",
    "«Uniform»: генерирует прогнозы равномерно в случайном порядке.э\n",
    "\n",
    "2. Модель адекватна"
   ]
  },
  {
   "cell_type": "markdown",
   "metadata": {},
   "source": [
    "# Общий вывод"
   ]
  },
  {
   "cell_type": "markdown",
   "metadata": {},
   "source": [
    "Создал 3 выборки\n",
    "\n",
    "features_train, target_train - обучающая выборка\n",
    "\n",
    "features_val, target_val - валидационная выборка\n",
    "\n",
    "features_test, target_test - тестовая выборка\n",
    "\n",
    "Провел ислледование 3 различных моделей машинного обучения. Наилучший результат показала 3-я модель \"Случайный лес\" с результатом 0.8040435458786936.\n",
    "\n",
    "Проверил модель на 3х тестовых выборках. Определил наилучшие гиперпараметры в RandomForest max_depth=9, n_estimators=41, min_samples_leaf=3 (для примера оставил только 1 наилучшую, по факту перебрал больше 30 параметров). Наилучший результат 0.8055987558320373\n",
    "\n",
    "Проверил модели на адекватность через DummyClassifier 4мя различными стратегиями\n",
    "Стратегия использования для создания прогнозов:\n",
    "\n",
    "«Стратифицированный»: генерирует прогнозы с учетом распределения классов обучающей выборки. «Most_frequent»: всегда предсказывает наиболее частую метку в обучающем наборе. «Prior»: всегда предсказывает класс, который максимизирует предыдущий класс (например, «most_frequent»), а predict_proba возвращает предыдущий класс. «Uniform»: генерирует прогнозы равномерно в случайном порядке.\n",
    "\n",
    "Модель адекватна"
   ]
  }
 ],
 "metadata": {
  "ExecuteTimeLog": [
   {
    "duration": 1325,
    "start_time": "2022-03-04T14:14:00.599Z"
   },
   {
    "duration": 18,
    "start_time": "2022-03-04T14:14:11.833Z"
   },
   {
    "duration": 22,
    "start_time": "2022-03-04T14:14:24.553Z"
   },
   {
    "duration": 377,
    "start_time": "2022-03-04T14:14:44.054Z"
   },
   {
    "duration": 247,
    "start_time": "2022-03-04T14:14:53.345Z"
   },
   {
    "duration": 17,
    "start_time": "2022-03-04T14:14:58.954Z"
   },
   {
    "duration": 10,
    "start_time": "2022-03-04T14:15:16.073Z"
   },
   {
    "duration": 11,
    "start_time": "2022-03-04T14:15:36.849Z"
   },
   {
    "duration": 12,
    "start_time": "2022-03-04T14:15:51.553Z"
   },
   {
    "duration": 65,
    "start_time": "2022-03-04T14:16:05.073Z"
   },
   {
    "duration": 15,
    "start_time": "2022-03-04T14:16:13.737Z"
   },
   {
    "duration": 8,
    "start_time": "2022-03-04T14:16:26.307Z"
   },
   {
    "duration": 6,
    "start_time": "2022-03-04T14:17:25.471Z"
   },
   {
    "duration": 5,
    "start_time": "2022-03-04T14:18:01.017Z"
   },
   {
    "duration": 9,
    "start_time": "2022-03-04T14:18:27.129Z"
   },
   {
    "duration": 5,
    "start_time": "2022-03-04T14:18:27.737Z"
   },
   {
    "duration": 183,
    "start_time": "2022-03-04T14:18:48.968Z"
   },
   {
    "duration": 6,
    "start_time": "2022-03-04T14:18:54.506Z"
   },
   {
    "duration": 7,
    "start_time": "2022-03-04T14:18:55.009Z"
   },
   {
    "duration": 5,
    "start_time": "2022-03-04T14:18:56.041Z"
   },
   {
    "duration": 72,
    "start_time": "2022-03-04T14:28:51.326Z"
   },
   {
    "duration": 26,
    "start_time": "2022-03-04T14:29:27.226Z"
   },
   {
    "duration": 19417,
    "start_time": "2022-03-04T14:31:28.123Z"
   },
   {
    "duration": 675,
    "start_time": "2022-03-04T14:32:14.107Z"
   },
   {
    "duration": 690,
    "start_time": "2022-03-04T14:32:37.682Z"
   },
   {
    "duration": 685,
    "start_time": "2022-03-04T14:33:34.371Z"
   },
   {
    "duration": 682,
    "start_time": "2022-03-04T14:33:41.058Z"
   },
   {
    "duration": 2432,
    "start_time": "2022-03-04T14:33:47.779Z"
   },
   {
    "duration": 2242,
    "start_time": "2022-03-04T14:33:55.587Z"
   },
   {
    "duration": 5522,
    "start_time": "2022-03-04T14:34:06.242Z"
   },
   {
    "duration": 16,
    "start_time": "2022-03-04T14:34:41.867Z"
   },
   {
    "duration": 25,
    "start_time": "2022-03-04T14:34:59.286Z"
   },
   {
    "duration": 167,
    "start_time": "2022-03-04T14:35:37.141Z"
   },
   {
    "duration": 168,
    "start_time": "2022-03-04T14:35:44.309Z"
   },
   {
    "duration": 173,
    "start_time": "2022-03-04T14:35:47.844Z"
   },
   {
    "duration": 176,
    "start_time": "2022-03-04T14:35:52.610Z"
   },
   {
    "duration": 178,
    "start_time": "2022-03-04T14:35:56.099Z"
   },
   {
    "duration": 200,
    "start_time": "2022-03-04T14:36:00.029Z"
   },
   {
    "duration": 184,
    "start_time": "2022-03-04T14:36:03.781Z"
   },
   {
    "duration": 201,
    "start_time": "2022-03-04T14:36:11.202Z"
   },
   {
    "duration": 126,
    "start_time": "2022-03-04T14:36:15.826Z"
   },
   {
    "duration": 181,
    "start_time": "2022-03-04T14:36:20.428Z"
   },
   {
    "duration": 144,
    "start_time": "2022-03-04T14:36:26.157Z"
   },
   {
    "duration": 179,
    "start_time": "2022-03-04T14:36:30.346Z"
   },
   {
    "duration": 173,
    "start_time": "2022-03-04T14:36:33.802Z"
   },
   {
    "duration": 173,
    "start_time": "2022-03-04T14:36:37.477Z"
   },
   {
    "duration": 222,
    "start_time": "2022-03-04T14:36:42.373Z"
   },
   {
    "duration": 204,
    "start_time": "2022-03-04T14:36:47.022Z"
   },
   {
    "duration": 252,
    "start_time": "2022-03-04T14:36:50.954Z"
   },
   {
    "duration": 258,
    "start_time": "2022-03-04T14:36:57.821Z"
   },
   {
    "duration": 165,
    "start_time": "2022-03-04T14:37:12.045Z"
   },
   {
    "duration": 155,
    "start_time": "2022-03-04T14:37:15.893Z"
   },
   {
    "duration": 229,
    "start_time": "2022-03-04T14:37:27.749Z"
   },
   {
    "duration": 260,
    "start_time": "2022-03-04T14:37:35.323Z"
   },
   {
    "duration": 10,
    "start_time": "2022-03-04T14:37:59.422Z"
   },
   {
    "duration": 11,
    "start_time": "2022-03-04T14:38:21.994Z"
   },
   {
    "duration": 174,
    "start_time": "2022-03-04T14:38:41.895Z"
   },
   {
    "duration": 9,
    "start_time": "2022-03-04T14:38:48.844Z"
   },
   {
    "duration": 9,
    "start_time": "2022-03-04T14:40:25.302Z"
   },
   {
    "duration": 9,
    "start_time": "2022-03-04T14:40:26.741Z"
   },
   {
    "duration": 1534,
    "start_time": "2022-03-04T14:40:55.922Z"
   },
   {
    "duration": 17,
    "start_time": "2022-03-04T14:40:57.458Z"
   },
   {
    "duration": 27,
    "start_time": "2022-03-04T14:40:57.482Z"
   },
   {
    "duration": 11,
    "start_time": "2022-03-04T14:40:57.512Z"
   },
   {
    "duration": 9,
    "start_time": "2022-03-04T14:40:57.526Z"
   },
   {
    "duration": 47,
    "start_time": "2022-03-04T14:40:57.538Z"
   },
   {
    "duration": 10,
    "start_time": "2022-03-04T14:40:57.588Z"
   },
   {
    "duration": 7,
    "start_time": "2022-03-04T14:40:57.602Z"
   },
   {
    "duration": 11,
    "start_time": "2022-03-04T14:40:57.612Z"
   },
   {
    "duration": 8,
    "start_time": "2022-03-04T14:40:57.625Z"
   },
   {
    "duration": 103,
    "start_time": "2022-03-04T14:40:57.635Z"
   },
   {
    "duration": 25,
    "start_time": "2022-03-04T14:40:57.740Z"
   },
   {
    "duration": 6243,
    "start_time": "2022-03-04T14:40:57.783Z"
   },
   {
    "duration": 16,
    "start_time": "2022-03-04T14:41:04.028Z"
   },
   {
    "duration": 50,
    "start_time": "2022-03-04T14:41:04.046Z"
   },
   {
    "duration": 189,
    "start_time": "2022-03-04T14:41:04.098Z"
   },
   {
    "duration": 10,
    "start_time": "2022-03-04T14:41:04.291Z"
   },
   {
    "duration": 15,
    "start_time": "2022-03-04T14:41:04.304Z"
   },
   {
    "duration": 7,
    "start_time": "2022-03-04T14:41:04.322Z"
   },
   {
    "duration": 8,
    "start_time": "2022-03-04T14:49:47.388Z"
   },
   {
    "duration": 538,
    "start_time": "2022-03-04T14:50:11.579Z"
   },
   {
    "duration": 1743,
    "start_time": "2022-03-04T14:52:12.221Z"
   },
   {
    "duration": 18,
    "start_time": "2022-03-04T14:52:13.966Z"
   },
   {
    "duration": 27,
    "start_time": "2022-03-04T14:52:13.987Z"
   },
   {
    "duration": 20,
    "start_time": "2022-03-04T14:52:14.018Z"
   },
   {
    "duration": 15,
    "start_time": "2022-03-04T14:52:14.040Z"
   },
   {
    "duration": 41,
    "start_time": "2022-03-04T14:52:14.057Z"
   },
   {
    "duration": 10,
    "start_time": "2022-03-04T14:52:14.101Z"
   },
   {
    "duration": 5,
    "start_time": "2022-03-04T14:52:14.116Z"
   },
   {
    "duration": 8,
    "start_time": "2022-03-04T14:52:14.124Z"
   },
   {
    "duration": 9,
    "start_time": "2022-03-04T14:52:14.134Z"
   },
   {
    "duration": 97,
    "start_time": "2022-03-04T14:52:14.146Z"
   },
   {
    "duration": 38,
    "start_time": "2022-03-04T14:52:14.246Z"
   },
   {
    "duration": 5539,
    "start_time": "2022-03-04T14:52:14.286Z"
   },
   {
    "duration": 16,
    "start_time": "2022-03-04T14:52:19.827Z"
   },
   {
    "duration": 55,
    "start_time": "2022-03-04T14:52:19.845Z"
   },
   {
    "duration": 213,
    "start_time": "2022-03-04T14:52:19.904Z"
   },
   {
    "duration": 7,
    "start_time": "2022-03-04T14:52:20.120Z"
   },
   {
    "duration": 10,
    "start_time": "2022-03-04T14:52:20.130Z"
   },
   {
    "duration": 9,
    "start_time": "2022-03-04T14:52:20.143Z"
   },
   {
    "duration": 9,
    "start_time": "2022-03-04T14:52:20.155Z"
   },
   {
    "duration": 1411,
    "start_time": "2022-03-04T14:53:13.214Z"
   },
   {
    "duration": 17,
    "start_time": "2022-03-04T14:53:14.627Z"
   },
   {
    "duration": 38,
    "start_time": "2022-03-04T14:53:14.647Z"
   },
   {
    "duration": 11,
    "start_time": "2022-03-04T14:53:14.688Z"
   },
   {
    "duration": 10,
    "start_time": "2022-03-04T14:53:14.701Z"
   },
   {
    "duration": 9,
    "start_time": "2022-03-04T14:53:14.713Z"
   },
   {
    "duration": 8,
    "start_time": "2022-03-04T14:53:14.725Z"
   },
   {
    "duration": 55,
    "start_time": "2022-03-04T14:53:14.738Z"
   },
   {
    "duration": 10,
    "start_time": "2022-03-04T14:53:14.797Z"
   },
   {
    "duration": 6,
    "start_time": "2022-03-04T14:53:14.810Z"
   },
   {
    "duration": 107,
    "start_time": "2022-03-04T14:53:14.819Z"
   },
   {
    "duration": 21,
    "start_time": "2022-03-04T14:53:14.929Z"
   },
   {
    "duration": 6178,
    "start_time": "2022-03-04T14:53:14.953Z"
   },
   {
    "duration": 18,
    "start_time": "2022-03-04T14:53:21.133Z"
   },
   {
    "duration": 36,
    "start_time": "2022-03-04T14:53:21.153Z"
   },
   {
    "duration": 204,
    "start_time": "2022-03-04T14:53:21.191Z"
   },
   {
    "duration": 9,
    "start_time": "2022-03-04T14:53:21.397Z"
   },
   {
    "duration": 11,
    "start_time": "2022-03-04T14:53:21.409Z"
   },
   {
    "duration": 8,
    "start_time": "2022-03-04T14:53:21.423Z"
   },
   {
    "duration": 15,
    "start_time": "2022-03-04T14:53:21.433Z"
   },
   {
    "duration": 1370,
    "start_time": "2022-03-04T14:54:01.844Z"
   },
   {
    "duration": 17,
    "start_time": "2022-03-04T14:54:03.216Z"
   },
   {
    "duration": 31,
    "start_time": "2022-03-04T14:54:03.236Z"
   },
   {
    "duration": 18,
    "start_time": "2022-03-04T14:54:03.270Z"
   },
   {
    "duration": 9,
    "start_time": "2022-03-04T14:54:03.291Z"
   },
   {
    "duration": 11,
    "start_time": "2022-03-04T14:54:03.302Z"
   },
   {
    "duration": 7,
    "start_time": "2022-03-04T14:54:03.315Z"
   },
   {
    "duration": 13,
    "start_time": "2022-03-04T14:54:03.326Z"
   },
   {
    "duration": 41,
    "start_time": "2022-03-04T14:54:03.342Z"
   },
   {
    "duration": 12,
    "start_time": "2022-03-04T14:54:03.385Z"
   },
   {
    "duration": 52,
    "start_time": "2022-03-04T14:54:03.399Z"
   },
   {
    "duration": 29,
    "start_time": "2022-03-04T14:54:03.453Z"
   },
   {
    "duration": 4350,
    "start_time": "2022-03-04T14:54:03.485Z"
   },
   {
    "duration": 14,
    "start_time": "2022-03-04T14:54:07.838Z"
   },
   {
    "duration": 41,
    "start_time": "2022-03-04T14:54:07.855Z"
   },
   {
    "duration": 146,
    "start_time": "2022-03-04T14:54:07.899Z"
   },
   {
    "duration": 10,
    "start_time": "2022-03-04T14:54:08.048Z"
   },
   {
    "duration": 25,
    "start_time": "2022-03-04T14:54:08.061Z"
   },
   {
    "duration": 10,
    "start_time": "2022-03-04T14:54:08.089Z"
   },
   {
    "duration": 9,
    "start_time": "2022-03-04T14:54:08.102Z"
   },
   {
    "duration": 1329,
    "start_time": "2022-03-04T14:54:18.986Z"
   },
   {
    "duration": 16,
    "start_time": "2022-03-04T14:54:20.318Z"
   },
   {
    "duration": 27,
    "start_time": "2022-03-04T14:54:20.337Z"
   },
   {
    "duration": 21,
    "start_time": "2022-03-04T14:54:20.368Z"
   },
   {
    "duration": 17,
    "start_time": "2022-03-04T14:54:20.391Z"
   },
   {
    "duration": 11,
    "start_time": "2022-03-04T14:54:20.411Z"
   },
   {
    "duration": 7,
    "start_time": "2022-03-04T14:54:20.424Z"
   },
   {
    "duration": 4,
    "start_time": "2022-03-04T14:54:20.435Z"
   },
   {
    "duration": 41,
    "start_time": "2022-03-04T14:54:20.442Z"
   },
   {
    "duration": 14,
    "start_time": "2022-03-04T14:54:20.486Z"
   },
   {
    "duration": 48,
    "start_time": "2022-03-04T14:54:20.503Z"
   },
   {
    "duration": 36,
    "start_time": "2022-03-04T14:54:20.553Z"
   },
   {
    "duration": 4224,
    "start_time": "2022-03-04T14:54:20.591Z"
   },
   {
    "duration": 12,
    "start_time": "2022-03-04T14:54:24.817Z"
   },
   {
    "duration": 21,
    "start_time": "2022-03-04T14:54:24.832Z"
   },
   {
    "duration": 146,
    "start_time": "2022-03-04T14:54:24.856Z"
   },
   {
    "duration": 10,
    "start_time": "2022-03-04T14:54:25.006Z"
   },
   {
    "duration": 31,
    "start_time": "2022-03-04T14:54:25.019Z"
   },
   {
    "duration": 24,
    "start_time": "2022-03-04T14:54:25.053Z"
   },
   {
    "duration": 17,
    "start_time": "2022-03-04T14:54:25.080Z"
   },
   {
    "duration": 1088,
    "start_time": "2022-03-05T06:47:28.644Z"
   },
   {
    "duration": 28,
    "start_time": "2022-03-05T06:47:29.733Z"
   },
   {
    "duration": 19,
    "start_time": "2022-03-05T06:47:29.764Z"
   },
   {
    "duration": 6,
    "start_time": "2022-03-05T06:47:29.785Z"
   },
   {
    "duration": 8,
    "start_time": "2022-03-05T06:47:29.793Z"
   },
   {
    "duration": 7,
    "start_time": "2022-03-05T06:47:29.803Z"
   },
   {
    "duration": 4,
    "start_time": "2022-03-05T06:47:29.812Z"
   },
   {
    "duration": 5,
    "start_time": "2022-03-05T06:47:29.818Z"
   },
   {
    "duration": 10,
    "start_time": "2022-03-05T06:47:29.826Z"
   },
   {
    "duration": 6,
    "start_time": "2022-03-05T06:47:29.838Z"
   },
   {
    "duration": 63,
    "start_time": "2022-03-05T06:47:29.846Z"
   },
   {
    "duration": 11,
    "start_time": "2022-03-05T06:47:29.910Z"
   },
   {
    "duration": 2925,
    "start_time": "2022-03-05T06:47:29.923Z"
   },
   {
    "duration": 9,
    "start_time": "2022-03-05T06:47:32.850Z"
   },
   {
    "duration": 20,
    "start_time": "2022-03-05T06:47:32.861Z"
   },
   {
    "duration": 101,
    "start_time": "2022-03-05T06:47:32.883Z"
   },
   {
    "duration": 96,
    "start_time": "2022-03-05T06:47:32.987Z"
   },
   {
    "duration": 95,
    "start_time": "2022-03-05T06:47:33.085Z"
   },
   {
    "duration": 95,
    "start_time": "2022-03-05T06:47:33.182Z"
   },
   {
    "duration": 97,
    "start_time": "2022-03-05T06:47:33.280Z"
   },
   {
    "duration": 6,
    "start_time": "2022-03-05T06:47:33.379Z"
   },
   {
    "duration": 7,
    "start_time": "2022-03-05T06:47:33.387Z"
   },
   {
    "duration": 11,
    "start_time": "2022-03-05T06:47:33.396Z"
   },
   {
    "duration": 6,
    "start_time": "2022-03-05T06:47:33.409Z"
   },
   {
    "duration": 1026,
    "start_time": "2022-03-05T06:48:38.992Z"
   },
   {
    "duration": 27,
    "start_time": "2022-03-05T06:48:40.020Z"
   },
   {
    "duration": 28,
    "start_time": "2022-03-05T06:48:40.049Z"
   },
   {
    "duration": 8,
    "start_time": "2022-03-05T06:48:40.079Z"
   },
   {
    "duration": 6,
    "start_time": "2022-03-05T06:48:40.089Z"
   },
   {
    "duration": 9,
    "start_time": "2022-03-05T06:48:40.097Z"
   },
   {
    "duration": 4,
    "start_time": "2022-03-05T06:48:40.108Z"
   },
   {
    "duration": 7,
    "start_time": "2022-03-05T06:48:40.114Z"
   },
   {
    "duration": 10,
    "start_time": "2022-03-05T06:48:40.123Z"
   },
   {
    "duration": 4,
    "start_time": "2022-03-05T06:48:40.135Z"
   },
   {
    "duration": 57,
    "start_time": "2022-03-05T06:48:40.141Z"
   },
   {
    "duration": 10,
    "start_time": "2022-03-05T06:48:40.200Z"
   },
   {
    "duration": 14207,
    "start_time": "2022-03-05T06:48:40.211Z"
   },
   {
    "duration": 8,
    "start_time": "2022-03-05T06:48:54.420Z"
   },
   {
    "duration": 10,
    "start_time": "2022-03-05T06:48:54.430Z"
   },
   {
    "duration": 106,
    "start_time": "2022-03-05T06:48:54.442Z"
   },
   {
    "duration": 91,
    "start_time": "2022-03-05T06:48:54.550Z"
   },
   {
    "duration": 98,
    "start_time": "2022-03-05T06:48:54.643Z"
   },
   {
    "duration": 97,
    "start_time": "2022-03-05T06:48:54.743Z"
   },
   {
    "duration": 94,
    "start_time": "2022-03-05T06:48:54.842Z"
   },
   {
    "duration": 6,
    "start_time": "2022-03-05T06:48:54.938Z"
   },
   {
    "duration": 9,
    "start_time": "2022-03-05T06:48:54.946Z"
   },
   {
    "duration": 7,
    "start_time": "2022-03-05T06:48:54.977Z"
   },
   {
    "duration": 8,
    "start_time": "2022-03-05T06:48:54.986Z"
   },
   {
    "duration": 1092,
    "start_time": "2022-03-05T07:00:35.033Z"
   },
   {
    "duration": 1749,
    "start_time": "2022-03-05T07:00:36.127Z"
   },
   {
    "duration": 27,
    "start_time": "2022-03-05T07:00:37.879Z"
   },
   {
    "duration": 9,
    "start_time": "2022-03-05T07:00:37.908Z"
   },
   {
    "duration": 12,
    "start_time": "2022-03-05T07:00:37.919Z"
   },
   {
    "duration": 8,
    "start_time": "2022-03-05T07:00:37.933Z"
   },
   {
    "duration": 7,
    "start_time": "2022-03-05T07:00:37.943Z"
   },
   {
    "duration": 26,
    "start_time": "2022-03-05T07:00:37.951Z"
   },
   {
    "duration": 12,
    "start_time": "2022-03-05T07:00:37.981Z"
   },
   {
    "duration": 7,
    "start_time": "2022-03-05T07:00:37.995Z"
   },
   {
    "duration": 39,
    "start_time": "2022-03-05T07:00:38.004Z"
   },
   {
    "duration": 34,
    "start_time": "2022-03-05T07:00:38.046Z"
   },
   {
    "duration": 14099,
    "start_time": "2022-03-05T07:00:38.082Z"
   },
   {
    "duration": 9,
    "start_time": "2022-03-05T07:00:52.182Z"
   },
   {
    "duration": 9,
    "start_time": "2022-03-05T07:00:52.193Z"
   },
   {
    "duration": 98,
    "start_time": "2022-03-05T07:00:52.204Z"
   },
   {
    "duration": 94,
    "start_time": "2022-03-05T07:00:52.304Z"
   },
   {
    "duration": 83,
    "start_time": "2022-03-05T07:00:52.399Z"
   },
   {
    "duration": 81,
    "start_time": "2022-03-05T07:00:52.484Z"
   },
   {
    "duration": 93,
    "start_time": "2022-03-05T07:00:52.566Z"
   },
   {
    "duration": 20,
    "start_time": "2022-03-05T07:00:52.661Z"
   },
   {
    "duration": 6,
    "start_time": "2022-03-05T07:00:52.683Z"
   },
   {
    "duration": 8,
    "start_time": "2022-03-05T07:00:52.690Z"
   },
   {
    "duration": 6,
    "start_time": "2022-03-05T07:00:52.700Z"
   },
   {
    "duration": 284,
    "start_time": "2022-03-10T07:09:33.087Z"
   },
   {
    "duration": 963,
    "start_time": "2022-03-10T07:09:38.642Z"
   },
   {
    "duration": 31,
    "start_time": "2022-03-10T07:09:39.607Z"
   },
   {
    "duration": 16,
    "start_time": "2022-03-10T07:09:39.915Z"
   },
   {
    "duration": 6,
    "start_time": "2022-03-10T07:09:40.664Z"
   },
   {
    "duration": 5,
    "start_time": "2022-03-10T07:09:40.870Z"
   },
   {
    "duration": 6,
    "start_time": "2022-03-10T07:09:41.320Z"
   },
   {
    "duration": 5,
    "start_time": "2022-03-10T07:09:43.207Z"
   },
   {
    "duration": 4,
    "start_time": "2022-03-10T07:09:43.854Z"
   },
   {
    "duration": 5,
    "start_time": "2022-03-10T07:09:44.081Z"
   },
   {
    "duration": 4,
    "start_time": "2022-03-10T07:09:44.534Z"
   },
   {
    "duration": 7,
    "start_time": "2022-03-10T07:10:24.281Z"
   },
   {
    "duration": 999,
    "start_time": "2022-03-10T07:13:21.515Z"
   },
   {
    "duration": 19,
    "start_time": "2022-03-10T07:13:22.516Z"
   },
   {
    "duration": 16,
    "start_time": "2022-03-10T07:13:22.537Z"
   },
   {
    "duration": 5,
    "start_time": "2022-03-10T07:13:22.555Z"
   },
   {
    "duration": 7,
    "start_time": "2022-03-10T07:13:22.562Z"
   },
   {
    "duration": 6,
    "start_time": "2022-03-10T07:13:22.571Z"
   },
   {
    "duration": 22,
    "start_time": "2022-03-10T07:13:22.579Z"
   },
   {
    "duration": 4,
    "start_time": "2022-03-10T07:13:22.603Z"
   },
   {
    "duration": 6,
    "start_time": "2022-03-10T07:13:22.608Z"
   },
   {
    "duration": 5,
    "start_time": "2022-03-10T07:13:22.615Z"
   },
   {
    "duration": 8,
    "start_time": "2022-03-10T07:13:22.622Z"
   },
   {
    "duration": 48,
    "start_time": "2022-03-10T07:13:22.632Z"
   },
   {
    "duration": 27,
    "start_time": "2022-03-10T07:13:22.681Z"
   },
   {
    "duration": 16825,
    "start_time": "2022-03-10T07:13:22.710Z"
   },
   {
    "duration": 10,
    "start_time": "2022-03-10T07:13:39.537Z"
   },
   {
    "duration": 7,
    "start_time": "2022-03-10T07:13:39.549Z"
   },
   {
    "duration": 127,
    "start_time": "2022-03-10T07:13:39.558Z"
   },
   {
    "duration": 118,
    "start_time": "2022-03-10T07:13:39.686Z"
   },
   {
    "duration": 110,
    "start_time": "2022-03-10T07:13:39.805Z"
   },
   {
    "duration": 106,
    "start_time": "2022-03-10T07:13:39.917Z"
   },
   {
    "duration": 118,
    "start_time": "2022-03-10T07:13:40.024Z"
   },
   {
    "duration": 5,
    "start_time": "2022-03-10T07:13:40.144Z"
   },
   {
    "duration": 5,
    "start_time": "2022-03-10T07:13:40.151Z"
   },
   {
    "duration": 5,
    "start_time": "2022-03-10T07:13:40.157Z"
   },
   {
    "duration": 7,
    "start_time": "2022-03-10T07:13:40.163Z"
   },
   {
    "duration": 5,
    "start_time": "2022-03-10T07:13:55.840Z"
   },
   {
    "duration": 4,
    "start_time": "2022-03-10T07:14:01.674Z"
   },
   {
    "duration": 4,
    "start_time": "2022-03-10T07:14:17.349Z"
   },
   {
    "duration": 1024,
    "start_time": "2022-03-10T07:15:44.891Z"
   },
   {
    "duration": 19,
    "start_time": "2022-03-10T07:15:45.917Z"
   },
   {
    "duration": 15,
    "start_time": "2022-03-10T07:15:45.938Z"
   },
   {
    "duration": 5,
    "start_time": "2022-03-10T07:15:45.955Z"
   },
   {
    "duration": 5,
    "start_time": "2022-03-10T07:15:45.962Z"
   },
   {
    "duration": 5,
    "start_time": "2022-03-10T07:15:45.969Z"
   },
   {
    "duration": 4,
    "start_time": "2022-03-10T07:15:45.975Z"
   },
   {
    "duration": 21,
    "start_time": "2022-03-10T07:15:45.981Z"
   },
   {
    "duration": 5,
    "start_time": "2022-03-10T07:15:46.003Z"
   },
   {
    "duration": 9,
    "start_time": "2022-03-10T07:15:46.009Z"
   },
   {
    "duration": 11,
    "start_time": "2022-03-10T07:15:46.019Z"
   },
   {
    "duration": 46,
    "start_time": "2022-03-10T07:15:46.032Z"
   },
   {
    "duration": 22,
    "start_time": "2022-03-10T07:15:46.079Z"
   },
   {
    "duration": 16660,
    "start_time": "2022-03-10T07:15:46.103Z"
   },
   {
    "duration": 10,
    "start_time": "2022-03-10T07:16:02.764Z"
   },
   {
    "duration": 25,
    "start_time": "2022-03-10T07:16:02.776Z"
   },
   {
    "duration": 110,
    "start_time": "2022-03-10T07:16:02.803Z"
   },
   {
    "duration": 121,
    "start_time": "2022-03-10T07:16:02.915Z"
   },
   {
    "duration": 108,
    "start_time": "2022-03-10T07:16:03.038Z"
   },
   {
    "duration": 109,
    "start_time": "2022-03-10T07:16:03.148Z"
   },
   {
    "duration": 127,
    "start_time": "2022-03-10T07:16:03.259Z"
   },
   {
    "duration": 6,
    "start_time": "2022-03-10T07:16:03.387Z"
   },
   {
    "duration": 4,
    "start_time": "2022-03-10T07:16:03.403Z"
   },
   {
    "duration": 5,
    "start_time": "2022-03-10T07:16:03.409Z"
   },
   {
    "duration": 5,
    "start_time": "2022-03-10T07:16:03.415Z"
   },
   {
    "duration": 1009,
    "start_time": "2022-03-10T07:22:53.597Z"
   },
   {
    "duration": 30,
    "start_time": "2022-03-10T07:22:54.608Z"
   },
   {
    "duration": 16,
    "start_time": "2022-03-10T07:22:54.640Z"
   },
   {
    "duration": 5,
    "start_time": "2022-03-10T07:22:54.658Z"
   },
   {
    "duration": 5,
    "start_time": "2022-03-10T07:22:54.665Z"
   },
   {
    "duration": 5,
    "start_time": "2022-03-10T07:22:54.672Z"
   },
   {
    "duration": 4,
    "start_time": "2022-03-10T07:22:54.679Z"
   },
   {
    "duration": 6,
    "start_time": "2022-03-10T07:22:54.685Z"
   },
   {
    "duration": 13,
    "start_time": "2022-03-10T07:22:54.693Z"
   },
   {
    "duration": 8,
    "start_time": "2022-03-10T07:22:54.707Z"
   },
   {
    "duration": 12,
    "start_time": "2022-03-10T07:22:54.716Z"
   },
   {
    "duration": 46,
    "start_time": "2022-03-10T07:22:54.730Z"
   },
   {
    "duration": 25,
    "start_time": "2022-03-10T07:22:54.778Z"
   },
   {
    "duration": 17215,
    "start_time": "2022-03-10T07:22:54.805Z"
   },
   {
    "duration": 12,
    "start_time": "2022-03-10T07:23:12.022Z"
   },
   {
    "duration": 13,
    "start_time": "2022-03-10T07:23:12.036Z"
   },
   {
    "duration": 3,
    "start_time": "2022-03-10T07:23:12.050Z"
   },
   {
    "duration": 3,
    "start_time": "2022-03-10T07:23:12.055Z"
   },
   {
    "duration": 5,
    "start_time": "2022-03-10T07:23:12.059Z"
   },
   {
    "duration": 37,
    "start_time": "2022-03-10T07:23:12.065Z"
   },
   {
    "duration": 116,
    "start_time": "2022-03-10T07:23:12.104Z"
   },
   {
    "duration": 5,
    "start_time": "2022-03-10T07:23:12.222Z"
   },
   {
    "duration": 5,
    "start_time": "2022-03-10T07:23:12.229Z"
   },
   {
    "duration": 5,
    "start_time": "2022-03-10T07:23:12.236Z"
   },
   {
    "duration": 6,
    "start_time": "2022-03-10T07:23:12.243Z"
   }
  ],
  "kernelspec": {
   "display_name": "Python 3 (ipykernel)",
   "language": "python",
   "name": "python3"
  },
  "language_info": {
   "codemirror_mode": {
    "name": "ipython",
    "version": 3
   },
   "file_extension": ".py",
   "mimetype": "text/x-python",
   "name": "python",
   "nbconvert_exporter": "python",
   "pygments_lexer": "ipython3",
   "version": "3.9.5"
  },
  "toc": {
   "base_numbering": 1,
   "nav_menu": {},
   "number_sections": true,
   "sideBar": true,
   "skip_h1_title": true,
   "title_cell": "Table of Contents",
   "title_sidebar": "Contents",
   "toc_cell": false,
   "toc_position": {},
   "toc_section_display": true,
   "toc_window_display": false
  }
 },
 "nbformat": 4,
 "nbformat_minor": 2
}
