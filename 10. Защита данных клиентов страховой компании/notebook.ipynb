{
 "cells": [
  {
   "cell_type": "markdown",
   "metadata": {
    "toc": true
   },
   "source": [
    "<h1>Содержание<span class=\"tocSkip\"></span></h1>\n",
    "<div class=\"toc\"><ul class=\"toc-item\"><li><span><a href=\"#Загрузка-данных\" data-toc-modified-id=\"Загрузка-данных-1\"><span class=\"toc-item-num\">1&nbsp;&nbsp;</span>Загрузка данных</a></span></li><li><span><a href=\"#Умножение-матриц\" data-toc-modified-id=\"Умножение-матриц-2\"><span class=\"toc-item-num\">2&nbsp;&nbsp;</span>Умножение матриц</a></span></li><li><span><a href=\"#Алгоритм-преобразования\" data-toc-modified-id=\"Алгоритм-преобразования-3\"><span class=\"toc-item-num\">3&nbsp;&nbsp;</span>Алгоритм преобразования</a></span></li><li><span><a href=\"#Проверка-алгоритма\" data-toc-modified-id=\"Проверка-алгоритма-4\"><span class=\"toc-item-num\">4&nbsp;&nbsp;</span>Проверка алгоритма</a></span></li><li><span><a href=\"#Общий-вывод-проекта:\" data-toc-modified-id=\"Общий-вывод-проекта:-5\"><span class=\"toc-item-num\">5&nbsp;&nbsp;</span>Общий вывод проекта:</a></span></li><li><span><a href=\"#Чек-лист-проверки\" data-toc-modified-id=\"Чек-лист-проверки-6\"><span class=\"toc-item-num\">6&nbsp;&nbsp;</span>Чек-лист проверки</a></span></li></ul></div>"
   ]
  },
  {
   "cell_type": "markdown",
   "metadata": {},
   "source": [
    "# Защита персональных данных клиентов"
   ]
  },
  {
   "cell_type": "markdown",
   "metadata": {},
   "source": [
    "Вам нужно защитить данные клиентов страховой компании «Хоть потоп». Разработайте такой метод преобразования данных, чтобы по ним было сложно восстановить персональную информацию. Обоснуйте корректность его работы.\n",
    "\n",
    "Нужно защитить данные, чтобы при преобразовании качество моделей машинного обучения не ухудшилось. Подбирать наилучшую модель не требуется."
   ]
  },
  {
   "cell_type": "markdown",
   "metadata": {},
   "source": [
    "## Загрузка данных"
   ]
  },
  {
   "cell_type": "code",
   "execution_count": 1,
   "metadata": {},
   "outputs": [],
   "source": [
    "import pandas as pd\n",
    "import numpy as np\n",
    "import matplotlib.pyplot as plt\n",
    "import seaborn as sns\n",
    "from sklearn.metrics import r2_score\n",
    "from sklearn.preprocessing import StandardScaler\n",
    "from sklearn.linear_model import LinearRegression\n",
    "\n",
    "import warnings\n",
    "warnings.filterwarnings('ignore')"
   ]
  },
  {
   "cell_type": "code",
   "execution_count": 2,
   "metadata": {
    "scrolled": true
   },
   "outputs": [
    {
     "data": {
      "text/html": [
       "<div>\n",
       "<style scoped>\n",
       "    .dataframe tbody tr th:only-of-type {\n",
       "        vertical-align: middle;\n",
       "    }\n",
       "\n",
       "    .dataframe tbody tr th {\n",
       "        vertical-align: top;\n",
       "    }\n",
       "\n",
       "    .dataframe thead th {\n",
       "        text-align: right;\n",
       "    }\n",
       "</style>\n",
       "<table border=\"1\" class=\"dataframe\">\n",
       "  <thead>\n",
       "    <tr style=\"text-align: right;\">\n",
       "      <th></th>\n",
       "      <th>Пол</th>\n",
       "      <th>Возраст</th>\n",
       "      <th>Зарплата</th>\n",
       "      <th>Члены семьи</th>\n",
       "      <th>Страховые выплаты</th>\n",
       "    </tr>\n",
       "  </thead>\n",
       "  <tbody>\n",
       "    <tr>\n",
       "      <th>0</th>\n",
       "      <td>1</td>\n",
       "      <td>41.0</td>\n",
       "      <td>49600.0</td>\n",
       "      <td>1</td>\n",
       "      <td>0</td>\n",
       "    </tr>\n",
       "    <tr>\n",
       "      <th>1</th>\n",
       "      <td>0</td>\n",
       "      <td>46.0</td>\n",
       "      <td>38000.0</td>\n",
       "      <td>1</td>\n",
       "      <td>1</td>\n",
       "    </tr>\n",
       "    <tr>\n",
       "      <th>2</th>\n",
       "      <td>0</td>\n",
       "      <td>29.0</td>\n",
       "      <td>21000.0</td>\n",
       "      <td>0</td>\n",
       "      <td>0</td>\n",
       "    </tr>\n",
       "    <tr>\n",
       "      <th>3</th>\n",
       "      <td>0</td>\n",
       "      <td>21.0</td>\n",
       "      <td>41700.0</td>\n",
       "      <td>2</td>\n",
       "      <td>0</td>\n",
       "    </tr>\n",
       "    <tr>\n",
       "      <th>4</th>\n",
       "      <td>1</td>\n",
       "      <td>28.0</td>\n",
       "      <td>26100.0</td>\n",
       "      <td>0</td>\n",
       "      <td>0</td>\n",
       "    </tr>\n",
       "  </tbody>\n",
       "</table>\n",
       "</div>"
      ],
      "text/plain": [
       "   Пол  Возраст  Зарплата  Члены семьи  Страховые выплаты\n",
       "0    1     41.0   49600.0            1                  0\n",
       "1    0     46.0   38000.0            1                  1\n",
       "2    0     29.0   21000.0            0                  0\n",
       "3    0     21.0   41700.0            2                  0\n",
       "4    1     28.0   26100.0            0                  0"
      ]
     },
     "execution_count": 2,
     "metadata": {},
     "output_type": "execute_result"
    }
   ],
   "source": [
    "df = pd.read_csv(\"/datasets/insurance.csv\")\n",
    "\n",
    "df.head()"
   ]
  },
  {
   "cell_type": "code",
   "execution_count": 3,
   "metadata": {},
   "outputs": [
    {
     "name": "stdout",
     "output_type": "stream",
     "text": [
      "<class 'pandas.core.frame.DataFrame'>\n",
      "RangeIndex: 5000 entries, 0 to 4999\n",
      "Data columns (total 5 columns):\n",
      " #   Column             Non-Null Count  Dtype  \n",
      "---  ------             --------------  -----  \n",
      " 0   Пол                5000 non-null   int64  \n",
      " 1   Возраст            5000 non-null   float64\n",
      " 2   Зарплата           5000 non-null   float64\n",
      " 3   Члены семьи        5000 non-null   int64  \n",
      " 4   Страховые выплаты  5000 non-null   int64  \n",
      "dtypes: float64(2), int64(3)\n",
      "memory usage: 195.4 KB\n"
     ]
    }
   ],
   "source": [
    "df.info()"
   ]
  },
  {
   "cell_type": "code",
   "execution_count": 4,
   "metadata": {},
   "outputs": [
    {
     "data": {
      "text/plain": [
       "((5000, 4), (5000,))"
      ]
     },
     "execution_count": 4,
     "metadata": {},
     "output_type": "execute_result"
    }
   ],
   "source": [
    "X = df.drop(\"Страховые выплаты\", axis=1)\n",
    "y = df[\"Страховые выплаты\"]\n",
    "X.shape, y.shape"
   ]
  },
  {
   "cell_type": "code",
   "execution_count": 5,
   "metadata": {},
   "outputs": [
    {
     "data": {
      "text/plain": [
       "153"
      ]
     },
     "execution_count": 5,
     "metadata": {},
     "output_type": "execute_result"
    }
   ],
   "source": [
    "df.duplicated().sum()"
   ]
  },
  {
   "cell_type": "markdown",
   "metadata": {},
   "source": [
    "**Что сделал/выводы:**\n",
    "1. Изучил данные, пропусков данных нет, но есть дубликанты.\n",
    "2. Дубликанты не удаляю, поскольку стоит задача сохранить эти данные.\n",
    "\n",
    "Далее более подробно рассмотрю распределение данных по количеству членов семьи, возрасту, полу, зарплате и страховым выплатам."
   ]
  },
  {
   "cell_type": "code",
   "execution_count": 6,
   "metadata": {},
   "outputs": [
    {
     "data": {
      "image/png": "[encoded data removed]",
      "text/plain": [
       "<Figure size 720x360 with 1 Axes>"
      ]
     },
     "metadata": {},
     "output_type": "display_data"
    }
   ],
   "source": [
    "sns.set()\n",
    "fig, ax = plt.subplots(figsize=(10, 5))\n",
    "sns.countplot(x='Члены семьи', data=df, palette='coolwarm')\n",
    "ax.set_title('Распределение по количеству членов семьи')\n",
    "plt.ylabel('Количество');"
   ]
  },
  {
   "cell_type": "code",
   "execution_count": 7,
   "metadata": {},
   "outputs": [
    {
     "data": {
      "image/png": "[encoded data removed]",
      "text/plain": [
       "<Figure size 720x360 with 1 Axes>"
      ]
     },
     "metadata": {},
     "output_type": "display_data"
    }
   ],
   "source": [
    "fig, ax = plt.subplots(figsize=(10, 5))\n",
    "sns.countplot(y='Пол', data=df)\n",
    "ax.set_title('Распределение по полу')\n",
    "plt.xlabel('Количество');"
   ]
  },
  {
   "cell_type": "code",
   "execution_count": 8,
   "metadata": {},
   "outputs": [
    {
     "data": {
      "text/plain": [
       "Text(0.5, 0, 'Количество')"
      ]
     },
     "execution_count": 8,
     "metadata": {},
     "output_type": "execute_result"
    },
    {
     "data": {
      "image/png": "[encoded data removed]",
      "text/plain": [
       "<Figure size 1080x360 with 1 Axes>"
      ]
     },
     "metadata": {},
     "output_type": "display_data"
    }
   ],
   "source": [
    "fig, ax = plt.subplots(figsize=(15, 5))\n",
    "sns.countplot(y='Страховые выплаты', data=df)\n",
    "ax.set_title('Распределение по количеству страховых выплат')\n",
    "plt.xlabel('Количество')"
   ]
  },
  {
   "cell_type": "code",
   "execution_count": 9,
   "metadata": {},
   "outputs": [
    {
     "data": {
      "text/plain": [
       "Text(0, 0.5, 'Плотность частоты')"
      ]
     },
     "execution_count": 9,
     "metadata": {},
     "output_type": "execute_result"
    },
    {
     "data": {
      "image/png": "[encoded data removed]",
      "text/plain": [
       "<Figure size 720x360 with 1 Axes>"
      ]
     },
     "metadata": {},
     "output_type": "display_data"
    }
   ],
   "source": [
    "sns.set()\n",
    "fig, ax = plt.subplots(figsize=(10, 5))\n",
    "sns.distplot(df['Возраст'], bins=len(df['Возраст'].unique()), color=\"g\")\n",
    "ax.set_title('Распределение по возрасту')\n",
    "plt.ylabel('Плотность частоты')"
   ]
  },
  {
   "cell_type": "code",
   "execution_count": 10,
   "metadata": {},
   "outputs": [
    {
     "data": {
      "image/png": "[encoded data removed]",
      "text/plain": [
       "<Figure size 720x360 with 1 Axes>"
      ]
     },
     "metadata": {},
     "output_type": "display_data"
    }
   ],
   "source": [
    "fig, ax = plt.subplots(figsize=(10, 5))\n",
    "sns.distplot(df['Зарплата'],color=\"r\")\n",
    "ax.set_title('Распределение по зарплате')\n",
    "plt.ylabel('Плотность частоты');"
   ]
  },
  {
   "cell_type": "markdown",
   "metadata": {},
   "source": [
    "**Вывод по 1 главе:**\n",
    "1. Изучил данные, пропусков данных нет, но есть дубликанты.\n",
    "2. Дубликанты не удаляю, поскольку стоит задача сохранить эти данные.\n",
    "3. Выбрасов и аномалий данных нет, данные готовы к работе."
   ]
  },
  {
   "cell_type": "markdown",
   "metadata": {},
   "source": [
    "## Умножение матриц"
   ]
  },
  {
   "cell_type": "markdown",
   "metadata": {},
   "source": [
    "В этом задании вы можете записывать формулы в *Jupyter Notebook.*\n",
    "\n",
    "Чтобы записать формулу внутри текста, окружите её символами доллара \\\\$; если снаружи —  двойными символами \\\\$\\\\$. Эти формулы записываются на языке вёрстки *LaTeX.* \n",
    "\n",
    "Для примера мы записали формулы линейной регрессии. Можете их скопировать и отредактировать, чтобы решить задачу.\n",
    "\n",
    "Работать в *LaTeX* необязательно."
   ]
  },
  {
   "cell_type": "markdown",
   "metadata": {},
   "source": [
    "Обозначения:\n",
    "\n",
    "- $X$ — матрица признаков (нулевой столбец состоит из единиц)\n",
    "\n",
    "- $y$ — вектор целевого признака\n",
    "\n",
    "- $P$ — матрица, на которую умножаются признаки\n",
    "\n",
    "- $w$ — вектор весов линейной регрессии (нулевой элемент равен сдвигу)"
   ]
  },
  {
   "cell_type": "markdown",
   "metadata": {},
   "source": [
    "Предсказания:\n",
    "\n",
    "$$\n",
    "a = Xw\n",
    "$$\n",
    "\n",
    "Задача обучения:\n",
    "\n",
    "$$\n",
    "w = \\arg\\min_w MSE(Xw, y)\n",
    "$$\n",
    "\n",
    "Формула обучения:\n",
    "\n",
    "$$\n",
    "w = (X^T X)^{-1} X^T y\n",
    "$$"
   ]
  },
  {
   "cell_type": "markdown",
   "metadata": {},
   "source": [
    "**План работы:**\n",
    "1. Разделю данные на признаки.\n",
    "2. Создам класс линейной регрессии и напишу 2 метода fit и predict, которые найдут веса и сделают предсказания.\n",
    "3. Создам модель и обучу. Найду её предсказания на обучающей выборке. \n",
    "4. Найду веса и значение метрики R2 по MSE."
   ]
  },
  {
   "cell_type": "code",
   "execution_count": 11,
   "metadata": {},
   "outputs": [],
   "source": [
    "features = df.drop('Страховые выплаты', axis=1)\n",
    "target = df['Страховые выплаты']"
   ]
  },
  {
   "cell_type": "code",
   "execution_count": 12,
   "metadata": {},
   "outputs": [],
   "source": [
    "class LR:\n",
    "    def fit(self, train_features, train_target):\n",
    "        X = np.concatenate((np.ones((train_features.shape[0], 1)), train_features), axis=1)\n",
    "        y = train_target\n",
    "        w = np.linalg.inv((X.T @ X)).dot(X.T).dot(y)\n",
    "        self.w = w[1:]\n",
    "        self.w0 = w[0]\n",
    "        print(w)\n",
    "        \n",
    "    def predict(self, test_features):\n",
    "        return test_features.dot(self.w) + self.w0"
   ]
  },
  {
   "cell_type": "code",
   "execution_count": 13,
   "metadata": {},
   "outputs": [
    {
     "name": "stdout",
     "output_type": "stream",
     "text": [
      "[-9.38235504e-01  7.92580543e-03  3.57083050e-02 -1.70080492e-07\n",
      " -1.35676623e-02]\n"
     ]
    },
    {
     "data": {
      "text/plain": [
       "0.4249455028666801"
      ]
     },
     "execution_count": 13,
     "metadata": {},
     "output_type": "execute_result"
    }
   ],
   "source": [
    "model = LR()\n",
    "model.fit(features, target)\n",
    "predictions = model.predict(features)\n",
    "r2_score(target, predictions)"
   ]
  },
  {
   "cell_type": "markdown",
   "metadata": {},
   "source": [
    "Создадам случайную квадратную матрицу, размером по количеству столбцов и проверю на обратимость"
   ]
  },
  {
   "cell_type": "code",
   "execution_count": 14,
   "metadata": {},
   "outputs": [
    {
     "data": {
      "text/plain": [
       "array([[ 0.70258867, -1.27923908,  0.48444957,  0.79562903],\n",
       "       [-0.58359324, -0.52897583, -0.683933  , -0.13342171],\n",
       "       [-0.2078513 , -0.03691465,  1.65348441, -0.30431941],\n",
       "       [-0.3606707 , -1.66538219, -0.04104817, -1.38661006]])"
      ]
     },
     "execution_count": 14,
     "metadata": {},
     "output_type": "execute_result"
    }
   ],
   "source": [
    "rnd_matrix = np.random.normal(0, 1, (features.shape[1], features.shape[1]))\n",
    "rnd_matrix"
   ]
  },
  {
   "cell_type": "code",
   "execution_count": 15,
   "metadata": {},
   "outputs": [
    {
     "data": {
      "text/plain": [
       "array([[ 0.15380159, -1.52658605, -0.66703404,  0.3815349 ],\n",
       "       [-0.39480395, -0.34872207, -0.03317997, -0.18569971],\n",
       "       [ 0.08993774, -0.04925031,  0.5564285 , -0.0657747 ],\n",
       "       [ 0.4315099 ,  0.81736895,  0.19688057, -0.59544321]])"
      ]
     },
     "execution_count": 15,
     "metadata": {},
     "output_type": "execute_result"
    }
   ],
   "source": [
    "np.linalg.inv(rnd_matrix)"
   ]
  },
  {
   "cell_type": "code",
   "execution_count": 16,
   "metadata": {},
   "outputs": [
    {
     "data": {
      "text/plain": [
       "array([[ 1.00000000e+00, -8.85361485e-17, -4.46349831e-17,\n",
       "        -1.95424609e-17],\n",
       "       [-1.22555934e-16,  1.00000000e+00,  4.72501928e-17,\n",
       "         1.92563971e-16],\n",
       "       [ 3.79161943e-17,  4.20543382e-17,  1.00000000e+00,\n",
       "         2.76968899e-17],\n",
       "       [-4.40615562e-17,  4.73988278e-17,  2.67684764e-17,\n",
       "         1.00000000e+00]])"
      ]
     },
     "execution_count": 16,
     "metadata": {},
     "output_type": "execute_result"
    }
   ],
   "source": [
    "rnd_matrix @ np.linalg.inv(rnd_matrix)"
   ]
  },
  {
   "cell_type": "code",
   "execution_count": 17,
   "metadata": {
    "scrolled": true
   },
   "outputs": [
    {
     "data": {
      "text/html": [
       "<div>\n",
       "<style scoped>\n",
       "    .dataframe tbody tr th:only-of-type {\n",
       "        vertical-align: middle;\n",
       "    }\n",
       "\n",
       "    .dataframe tbody tr th {\n",
       "        vertical-align: top;\n",
       "    }\n",
       "\n",
       "    .dataframe thead th {\n",
       "        text-align: right;\n",
       "    }\n",
       "</style>\n",
       "<table border=\"1\" class=\"dataframe\">\n",
       "  <thead>\n",
       "    <tr style=\"text-align: right;\">\n",
       "      <th></th>\n",
       "      <th>0</th>\n",
       "      <th>1</th>\n",
       "      <th>2</th>\n",
       "      <th>3</th>\n",
       "    </tr>\n",
       "  </thead>\n",
       "  <tbody>\n",
       "    <tr>\n",
       "      <th>0</th>\n",
       "      <td>-10333.010002</td>\n",
       "      <td>-1855.599096</td>\n",
       "      <td>81985.229113</td>\n",
       "      <td>-15100.303850</td>\n",
       "    </tr>\n",
       "    <tr>\n",
       "      <th>1</th>\n",
       "      <td>-7925.555449</td>\n",
       "      <td>-1428.754837</td>\n",
       "      <td>62800.905789</td>\n",
       "      <td>-11571.661468</td>\n",
       "    </tr>\n",
       "    <tr>\n",
       "      <th>2</th>\n",
       "      <td>-4381.801554</td>\n",
       "      <td>-790.547875</td>\n",
       "      <td>34703.338650</td>\n",
       "      <td>-6394.576773</td>\n",
       "    </tr>\n",
       "    <tr>\n",
       "      <th>3</th>\n",
       "      <td>-8680.376108</td>\n",
       "      <td>-1553.780015</td>\n",
       "      <td>68935.855400</td>\n",
       "      <td>-12695.694341</td>\n",
       "    </tr>\n",
       "    <tr>\n",
       "      <th>4</th>\n",
       "      <td>-5440.557014</td>\n",
       "      <td>-979.562836</td>\n",
       "      <td>43137.277547</td>\n",
       "      <td>-7945.676697</td>\n",
       "    </tr>\n",
       "    <tr>\n",
       "      <th>...</th>\n",
       "      <td>...</td>\n",
       "      <td>...</td>\n",
       "      <td>...</td>\n",
       "      <td>...</td>\n",
       "    </tr>\n",
       "    <tr>\n",
       "      <th>4995</th>\n",
       "      <td>-7437.353446</td>\n",
       "      <td>-1335.994967</td>\n",
       "      <td>59010.161381</td>\n",
       "      <td>-10870.711852</td>\n",
       "    </tr>\n",
       "    <tr>\n",
       "      <th>4996</th>\n",
       "      <td>-10911.611084</td>\n",
       "      <td>-1953.978036</td>\n",
       "      <td>86619.288555</td>\n",
       "      <td>-15952.259866</td>\n",
       "    </tr>\n",
       "    <tr>\n",
       "      <th>4997</th>\n",
       "      <td>-7058.552356</td>\n",
       "      <td>-1265.316797</td>\n",
       "      <td>56039.360899</td>\n",
       "      <td>-10321.869546</td>\n",
       "    </tr>\n",
       "    <tr>\n",
       "      <th>4998</th>\n",
       "      <td>-6809.956062</td>\n",
       "      <td>-1225.021794</td>\n",
       "      <td>54054.255137</td>\n",
       "      <td>-9957.544082</td>\n",
       "    </tr>\n",
       "    <tr>\n",
       "      <th>4999</th>\n",
       "      <td>-8454.761568</td>\n",
       "      <td>-1516.490592</td>\n",
       "      <td>67112.760511</td>\n",
       "      <td>-12359.694706</td>\n",
       "    </tr>\n",
       "  </tbody>\n",
       "</table>\n",
       "<p>5000 rows × 4 columns</p>\n",
       "</div>"
      ],
      "text/plain": [
       "                 0            1             2             3\n",
       "0    -10333.010002 -1855.599096  81985.229113 -15100.303850\n",
       "1     -7925.555449 -1428.754837  62800.905789 -11571.661468\n",
       "2     -4381.801554  -790.547875  34703.338650  -6394.576773\n",
       "3     -8680.376108 -1553.780015  68935.855400 -12695.694341\n",
       "4     -5440.557014  -979.562836  43137.277547  -7945.676697\n",
       "...            ...          ...           ...           ...\n",
       "4995  -7437.353446 -1335.994967  59010.161381 -10870.711852\n",
       "4996 -10911.611084 -1953.978036  86619.288555 -15952.259866\n",
       "4997  -7058.552356 -1265.316797  56039.360899 -10321.869546\n",
       "4998  -6809.956062 -1225.021794  54054.255137  -9957.544082\n",
       "4999  -8454.761568 -1516.490592  67112.760511 -12359.694706\n",
       "\n",
       "[5000 rows x 4 columns]"
      ]
     },
     "execution_count": 17,
     "metadata": {},
     "output_type": "execute_result"
    }
   ],
   "source": [
    "encoded_features = features.dot(rnd_matrix)\n",
    "encoded_features"
   ]
  },
  {
   "cell_type": "markdown",
   "metadata": {},
   "source": [
    "Обучу модель на новых признаках, найду предсказания, веса и метрику R2"
   ]
  },
  {
   "cell_type": "code",
   "execution_count": 18,
   "metadata": {},
   "outputs": [
    {
     "name": "stdout",
     "output_type": "stream",
     "text": [
      "[-9.38235504e-01 -5.84692229e-02 -1.30618953e-02 -1.53502116e-04\n",
      "  4.06856606e-02]\n"
     ]
    },
    {
     "data": {
      "text/plain": [
       "0.42494550286667554"
      ]
     },
     "execution_count": 18,
     "metadata": {},
     "output_type": "execute_result"
    }
   ],
   "source": [
    "model = LR()\n",
    "model.fit(encoded_features, target)\n",
    "predictions = model.predict(encoded_features)\n",
    "r2_score(target, predictions)"
   ]
  },
  {
   "cell_type": "markdown",
   "metadata": {},
   "source": [
    "**Ответ:** Умножив признаки на обратимую матрицу, качество линейной регрессии не меняется.\n",
    "\n",
    "**Обоснование:** Веса изменились под новые значения. Признаки исходной матрицы и преобразованной выражаются через коэффициенты(веса w), поэтому качество линейной регресии не изменилось."
   ]
  },
  {
   "cell_type": "markdown",
   "metadata": {},
   "source": [
    "**Вывод по 2 разделу:**\n",
    "1. Обучил модель линейной регрессии.\n",
    "2. Создал случайную матрицу и проверил её на обратимость.\n",
    "3. Качество линейной регрессии не изменилось."
   ]
  },
  {
   "cell_type": "markdown",
   "metadata": {},
   "source": [
    "## Алгоритм преобразования"
   ]
  },
  {
   "cell_type": "markdown",
   "metadata": {},
   "source": [
    "Напишу алгоритм - функцию преобразования исходных данных в зашифрованный вид, закодировав исходную матрицу."
   ]
  },
  {
   "cell_type": "code",
   "execution_count": 19,
   "metadata": {},
   "outputs": [],
   "source": [
    "def code(features):\n",
    "    random_matrix = np.random.normal(0, 1, (features.shape[1], features.shape[1]))\n",
    "    coded_features = features.dot(random_matrix)\n",
    "    return coded_features"
   ]
  },
  {
   "cell_type": "code",
   "execution_count": 20,
   "metadata": {},
   "outputs": [
    {
     "data": {
      "text/html": [
       "<div>\n",
       "<style scoped>\n",
       "    .dataframe tbody tr th:only-of-type {\n",
       "        vertical-align: middle;\n",
       "    }\n",
       "\n",
       "    .dataframe tbody tr th {\n",
       "        vertical-align: top;\n",
       "    }\n",
       "\n",
       "    .dataframe thead th {\n",
       "        text-align: right;\n",
       "    }\n",
       "</style>\n",
       "<table border=\"1\" class=\"dataframe\">\n",
       "  <thead>\n",
       "    <tr style=\"text-align: right;\">\n",
       "      <th></th>\n",
       "      <th>0</th>\n",
       "      <th>1</th>\n",
       "      <th>2</th>\n",
       "      <th>3</th>\n",
       "    </tr>\n",
       "  </thead>\n",
       "  <tbody>\n",
       "    <tr>\n",
       "      <th>0</th>\n",
       "      <td>5351.316193</td>\n",
       "      <td>31759.512898</td>\n",
       "      <td>32956.796136</td>\n",
       "      <td>7505.720632</td>\n",
       "    </tr>\n",
       "    <tr>\n",
       "      <th>1</th>\n",
       "      <td>4121.039478</td>\n",
       "      <td>24329.841905</td>\n",
       "      <td>25223.175451</td>\n",
       "      <td>5759.040641</td>\n",
       "    </tr>\n",
       "    <tr>\n",
       "      <th>2</th>\n",
       "      <td>2282.731680</td>\n",
       "      <td>13445.714825</td>\n",
       "      <td>13932.795824</td>\n",
       "      <td>3185.038433</td>\n",
       "    </tr>\n",
       "    <tr>\n",
       "      <th>3</th>\n",
       "      <td>4478.583050</td>\n",
       "      <td>26701.033183</td>\n",
       "      <td>27733.502943</td>\n",
       "      <td>6304.147799</td>\n",
       "    </tr>\n",
       "    <tr>\n",
       "      <th>4</th>\n",
       "      <td>2825.684554</td>\n",
       "      <td>16712.143485</td>\n",
       "      <td>17329.697204</td>\n",
       "      <td>3952.299452</td>\n",
       "    </tr>\n",
       "    <tr>\n",
       "      <th>...</th>\n",
       "      <td>...</td>\n",
       "      <td>...</td>\n",
       "      <td>...</td>\n",
       "      <td>...</td>\n",
       "    </tr>\n",
       "    <tr>\n",
       "      <th>4995</th>\n",
       "      <td>3849.033611</td>\n",
       "      <td>22857.664668</td>\n",
       "      <td>23724.211983</td>\n",
       "      <td>5401.706831</td>\n",
       "    </tr>\n",
       "    <tr>\n",
       "      <th>4996</th>\n",
       "      <td>5639.073673</td>\n",
       "      <td>33553.381296</td>\n",
       "      <td>34836.526687</td>\n",
       "      <td>7927.276089</td>\n",
       "    </tr>\n",
       "    <tr>\n",
       "      <th>4997</th>\n",
       "      <td>3645.196493</td>\n",
       "      <td>21705.800979</td>\n",
       "      <td>22540.250819</td>\n",
       "      <td>5125.972673</td>\n",
       "    </tr>\n",
       "    <tr>\n",
       "      <th>4998</th>\n",
       "      <td>3520.656482</td>\n",
       "      <td>20935.952060</td>\n",
       "      <td>21734.883203</td>\n",
       "      <td>4942.361401</td>\n",
       "    </tr>\n",
       "    <tr>\n",
       "      <th>4999</th>\n",
       "      <td>4372.155527</td>\n",
       "      <td>25997.128574</td>\n",
       "      <td>26986.663052</td>\n",
       "      <td>6140.421170</td>\n",
       "    </tr>\n",
       "  </tbody>\n",
       "</table>\n",
       "<p>5000 rows × 4 columns</p>\n",
       "</div>"
      ],
      "text/plain": [
       "                0             1             2            3\n",
       "0     5351.316193  31759.512898  32956.796136  7505.720632\n",
       "1     4121.039478  24329.841905  25223.175451  5759.040641\n",
       "2     2282.731680  13445.714825  13932.795824  3185.038433\n",
       "3     4478.583050  26701.033183  27733.502943  6304.147799\n",
       "4     2825.684554  16712.143485  17329.697204  3952.299452\n",
       "...           ...           ...           ...          ...\n",
       "4995  3849.033611  22857.664668  23724.211983  5401.706831\n",
       "4996  5639.073673  33553.381296  34836.526687  7927.276089\n",
       "4997  3645.196493  21705.800979  22540.250819  5125.972673\n",
       "4998  3520.656482  20935.952060  21734.883203  4942.361401\n",
       "4999  4372.155527  25997.128574  26986.663052  6140.421170\n",
       "\n",
       "[5000 rows x 4 columns]"
      ]
     },
     "execution_count": 20,
     "metadata": {},
     "output_type": "execute_result"
    }
   ],
   "source": [
    "code(features)"
   ]
  },
  {
   "cell_type": "markdown",
   "metadata": {},
   "source": [
    "Тоже самое проделаю для расшифровки данных"
   ]
  },
  {
   "cell_type": "code",
   "execution_count": 21,
   "metadata": {},
   "outputs": [],
   "source": [
    "def decode(encoded_features):\n",
    "    decoded_features = round(abs(encoded_features.dot(np.linalg.inv(rnd_matrix))))\n",
    "    for i in decoded_features.iloc[:, [0, 3]]:\n",
    "        decoded_features[i] = decoded_features[i].astype(int)\n",
    "    decoded_features.columns = features.columns\n",
    "    return decoded_features"
   ]
  },
  {
   "cell_type": "code",
   "execution_count": 22,
   "metadata": {},
   "outputs": [
    {
     "data": {
      "text/html": [
       "<div>\n",
       "<style scoped>\n",
       "    .dataframe tbody tr th:only-of-type {\n",
       "        vertical-align: middle;\n",
       "    }\n",
       "\n",
       "    .dataframe tbody tr th {\n",
       "        vertical-align: top;\n",
       "    }\n",
       "\n",
       "    .dataframe thead th {\n",
       "        text-align: right;\n",
       "    }\n",
       "</style>\n",
       "<table border=\"1\" class=\"dataframe\">\n",
       "  <thead>\n",
       "    <tr style=\"text-align: right;\">\n",
       "      <th></th>\n",
       "      <th>Пол</th>\n",
       "      <th>Возраст</th>\n",
       "      <th>Зарплата</th>\n",
       "      <th>Члены семьи</th>\n",
       "    </tr>\n",
       "  </thead>\n",
       "  <tbody>\n",
       "    <tr>\n",
       "      <th>0</th>\n",
       "      <td>1</td>\n",
       "      <td>41.0</td>\n",
       "      <td>49600.0</td>\n",
       "      <td>1</td>\n",
       "    </tr>\n",
       "    <tr>\n",
       "      <th>1</th>\n",
       "      <td>0</td>\n",
       "      <td>46.0</td>\n",
       "      <td>38000.0</td>\n",
       "      <td>1</td>\n",
       "    </tr>\n",
       "    <tr>\n",
       "      <th>2</th>\n",
       "      <td>0</td>\n",
       "      <td>29.0</td>\n",
       "      <td>21000.0</td>\n",
       "      <td>0</td>\n",
       "    </tr>\n",
       "    <tr>\n",
       "      <th>3</th>\n",
       "      <td>0</td>\n",
       "      <td>21.0</td>\n",
       "      <td>41700.0</td>\n",
       "      <td>2</td>\n",
       "    </tr>\n",
       "    <tr>\n",
       "      <th>4</th>\n",
       "      <td>1</td>\n",
       "      <td>28.0</td>\n",
       "      <td>26100.0</td>\n",
       "      <td>0</td>\n",
       "    </tr>\n",
       "    <tr>\n",
       "      <th>...</th>\n",
       "      <td>...</td>\n",
       "      <td>...</td>\n",
       "      <td>...</td>\n",
       "      <td>...</td>\n",
       "    </tr>\n",
       "    <tr>\n",
       "      <th>4995</th>\n",
       "      <td>0</td>\n",
       "      <td>28.0</td>\n",
       "      <td>35700.0</td>\n",
       "      <td>2</td>\n",
       "    </tr>\n",
       "    <tr>\n",
       "      <th>4996</th>\n",
       "      <td>0</td>\n",
       "      <td>34.0</td>\n",
       "      <td>52400.0</td>\n",
       "      <td>1</td>\n",
       "    </tr>\n",
       "    <tr>\n",
       "      <th>4997</th>\n",
       "      <td>0</td>\n",
       "      <td>20.0</td>\n",
       "      <td>33900.0</td>\n",
       "      <td>2</td>\n",
       "    </tr>\n",
       "    <tr>\n",
       "      <th>4998</th>\n",
       "      <td>1</td>\n",
       "      <td>22.0</td>\n",
       "      <td>32700.0</td>\n",
       "      <td>3</td>\n",
       "    </tr>\n",
       "    <tr>\n",
       "      <th>4999</th>\n",
       "      <td>1</td>\n",
       "      <td>28.0</td>\n",
       "      <td>40600.0</td>\n",
       "      <td>1</td>\n",
       "    </tr>\n",
       "  </tbody>\n",
       "</table>\n",
       "<p>5000 rows × 4 columns</p>\n",
       "</div>"
      ],
      "text/plain": [
       "      Пол  Возраст  Зарплата  Члены семьи\n",
       "0       1     41.0   49600.0            1\n",
       "1       0     46.0   38000.0            1\n",
       "2       0     29.0   21000.0            0\n",
       "3       0     21.0   41700.0            2\n",
       "4       1     28.0   26100.0            0\n",
       "...   ...      ...       ...          ...\n",
       "4995    0     28.0   35700.0            2\n",
       "4996    0     34.0   52400.0            1\n",
       "4997    0     20.0   33900.0            2\n",
       "4998    1     22.0   32700.0            3\n",
       "4999    1     28.0   40600.0            1\n",
       "\n",
       "[5000 rows x 4 columns]"
      ]
     },
     "execution_count": 22,
     "metadata": {},
     "output_type": "execute_result"
    }
   ],
   "source": [
    "decode(encoded_features)"
   ]
  },
  {
   "cell_type": "code",
   "execution_count": 23,
   "metadata": {},
   "outputs": [
    {
     "name": "stdout",
     "output_type": "stream",
     "text": [
      "<class 'pandas.core.frame.DataFrame'>\n",
      "RangeIndex: 5000 entries, 0 to 4999\n",
      "Data columns (total 4 columns):\n",
      " #   Column  Non-Null Count  Dtype  \n",
      "---  ------  --------------  -----  \n",
      " 0   0       5000 non-null   float64\n",
      " 1   1       5000 non-null   float64\n",
      " 2   2       5000 non-null   float64\n",
      " 3   3       5000 non-null   float64\n",
      "dtypes: float64(4)\n",
      "memory usage: 156.4 KB\n"
     ]
    }
   ],
   "source": [
    "encoded_features.info()"
   ]
  },
  {
   "cell_type": "code",
   "execution_count": 24,
   "metadata": {},
   "outputs": [
    {
     "data": {
      "text/html": [
       "<div>\n",
       "<style scoped>\n",
       "    .dataframe tbody tr th:only-of-type {\n",
       "        vertical-align: middle;\n",
       "    }\n",
       "\n",
       "    .dataframe tbody tr th {\n",
       "        vertical-align: top;\n",
       "    }\n",
       "\n",
       "    .dataframe thead th {\n",
       "        text-align: right;\n",
       "    }\n",
       "</style>\n",
       "<table border=\"1\" class=\"dataframe\">\n",
       "  <thead>\n",
       "    <tr style=\"text-align: right;\">\n",
       "      <th></th>\n",
       "      <th>Пол</th>\n",
       "      <th>Возраст</th>\n",
       "      <th>Зарплата</th>\n",
       "      <th>Члены семьи</th>\n",
       "    </tr>\n",
       "  </thead>\n",
       "  <tbody>\n",
       "    <tr>\n",
       "      <th>0</th>\n",
       "      <td>1</td>\n",
       "      <td>41.0</td>\n",
       "      <td>49600.0</td>\n",
       "      <td>1</td>\n",
       "    </tr>\n",
       "    <tr>\n",
       "      <th>1</th>\n",
       "      <td>0</td>\n",
       "      <td>46.0</td>\n",
       "      <td>38000.0</td>\n",
       "      <td>1</td>\n",
       "    </tr>\n",
       "    <tr>\n",
       "      <th>2</th>\n",
       "      <td>0</td>\n",
       "      <td>29.0</td>\n",
       "      <td>21000.0</td>\n",
       "      <td>0</td>\n",
       "    </tr>\n",
       "    <tr>\n",
       "      <th>3</th>\n",
       "      <td>0</td>\n",
       "      <td>21.0</td>\n",
       "      <td>41700.0</td>\n",
       "      <td>2</td>\n",
       "    </tr>\n",
       "    <tr>\n",
       "      <th>4</th>\n",
       "      <td>1</td>\n",
       "      <td>28.0</td>\n",
       "      <td>26100.0</td>\n",
       "      <td>0</td>\n",
       "    </tr>\n",
       "    <tr>\n",
       "      <th>...</th>\n",
       "      <td>...</td>\n",
       "      <td>...</td>\n",
       "      <td>...</td>\n",
       "      <td>...</td>\n",
       "    </tr>\n",
       "    <tr>\n",
       "      <th>4995</th>\n",
       "      <td>0</td>\n",
       "      <td>28.0</td>\n",
       "      <td>35700.0</td>\n",
       "      <td>2</td>\n",
       "    </tr>\n",
       "    <tr>\n",
       "      <th>4996</th>\n",
       "      <td>0</td>\n",
       "      <td>34.0</td>\n",
       "      <td>52400.0</td>\n",
       "      <td>1</td>\n",
       "    </tr>\n",
       "    <tr>\n",
       "      <th>4997</th>\n",
       "      <td>0</td>\n",
       "      <td>20.0</td>\n",
       "      <td>33900.0</td>\n",
       "      <td>2</td>\n",
       "    </tr>\n",
       "    <tr>\n",
       "      <th>4998</th>\n",
       "      <td>1</td>\n",
       "      <td>22.0</td>\n",
       "      <td>32700.0</td>\n",
       "      <td>3</td>\n",
       "    </tr>\n",
       "    <tr>\n",
       "      <th>4999</th>\n",
       "      <td>1</td>\n",
       "      <td>28.0</td>\n",
       "      <td>40600.0</td>\n",
       "      <td>1</td>\n",
       "    </tr>\n",
       "  </tbody>\n",
       "</table>\n",
       "<p>5000 rows × 4 columns</p>\n",
       "</div>"
      ],
      "text/plain": [
       "      Пол  Возраст  Зарплата  Члены семьи\n",
       "0       1     41.0   49600.0            1\n",
       "1       0     46.0   38000.0            1\n",
       "2       0     29.0   21000.0            0\n",
       "3       0     21.0   41700.0            2\n",
       "4       1     28.0   26100.0            0\n",
       "...   ...      ...       ...          ...\n",
       "4995    0     28.0   35700.0            2\n",
       "4996    0     34.0   52400.0            1\n",
       "4997    0     20.0   33900.0            2\n",
       "4998    1     22.0   32700.0            3\n",
       "4999    1     28.0   40600.0            1\n",
       "\n",
       "[5000 rows x 4 columns]"
      ]
     },
     "execution_count": 24,
     "metadata": {},
     "output_type": "execute_result"
    }
   ],
   "source": [
    "features"
   ]
  },
  {
   "cell_type": "code",
   "execution_count": 25,
   "metadata": {},
   "outputs": [
    {
     "name": "stdout",
     "output_type": "stream",
     "text": [
      "<class 'pandas.core.frame.DataFrame'>\n",
      "RangeIndex: 5000 entries, 0 to 4999\n",
      "Data columns (total 4 columns):\n",
      " #   Column       Non-Null Count  Dtype  \n",
      "---  ------       --------------  -----  \n",
      " 0   Пол          5000 non-null   int64  \n",
      " 1   Возраст      5000 non-null   float64\n",
      " 2   Зарплата     5000 non-null   float64\n",
      " 3   Члены семьи  5000 non-null   int64  \n",
      "dtypes: float64(2), int64(2)\n",
      "memory usage: 156.4 KB\n"
     ]
    }
   ],
   "source": [
    "features.info()"
   ]
  },
  {
   "cell_type": "markdown",
   "metadata": {},
   "source": [
    "**Обоснование алгоритма**\n",
    "Умножив признаки на обратимую матрицу, качество линейной регрессии не меняется. Это обусловленно тем, что Веса изменились под новые значения, т.е. признаки исходной матрицы и преобразованной выражаются через весовые коэффициенты. Случайность реализованная в алгоритме каждый раз разная, что делает зашифрованные данные каждый раз новыми."
   ]
  },
  {
   "cell_type": "markdown",
   "metadata": {},
   "source": [
    "**Вывод по 3 главе:**\n",
    "1. Предложенный алгоритм преобразования данных справляется с решением задачи.\n",
    "2. Качество линейной регрессии не меняется. Новые признаки выражаются через исходную матрицу, умножив на случайную матрицу, соответственно и новые коэффициенты весов. Но так как оба множителя в произведении выражают исходные через определенные коэффициенты, то качество линейной регресии не измениться."
   ]
  },
  {
   "cell_type": "markdown",
   "metadata": {},
   "source": [
    "## Проверка алгоритма"
   ]
  },
  {
   "cell_type": "markdown",
   "metadata": {},
   "source": [
    "Для проверки качества линейной регрессии до и после преобразования применю метрику R2. Для этого создам модель sklearn_model и обучу на 2 обучающих матрицах: исходной features и кодированной encoded_features."
   ]
  },
  {
   "cell_type": "code",
   "execution_count": 26,
   "metadata": {},
   "outputs": [
    {
     "data": {
      "text/plain": [
       "0.42494550286668"
      ]
     },
     "execution_count": 26,
     "metadata": {},
     "output_type": "execute_result"
    }
   ],
   "source": [
    "sklearn_model = LinearRegression().fit(features, target)\n",
    "pred = sklearn_model.predict(features)\n",
    "r2_score(target, pred)"
   ]
  },
  {
   "cell_type": "code",
   "execution_count": 27,
   "metadata": {},
   "outputs": [
    {
     "data": {
      "text/plain": [
       "0.42494550286667654"
      ]
     },
     "execution_count": 27,
     "metadata": {},
     "output_type": "execute_result"
    }
   ],
   "source": [
    "sklearn_model.fit(encoded_features, target)\n",
    "pred = sklearn_model.predict(encoded_features)\n",
    "r2_score(target, pred)"
   ]
  },
  {
   "cell_type": "markdown",
   "metadata": {},
   "source": [
    "**Вывод по 4 разделу**\n",
    "1. Качество модели линейной регрессии по 2м наборам признаков совпадает"
   ]
  },
  {
   "cell_type": "markdown",
   "metadata": {},
   "source": [
    "## Общий вывод проекта:\n",
    "1. Умножив признаки на обратимую матрицу, качество линейной регрессии не меняется.\n",
    "2. Предложенный алгоритм преобразования данных справляется для решения задачи шифрования признаков.\n",
    "3. Зашифрованные данные так же пригодны для предсказаний с помощью линейной регресии.\n",
    "4. Случайность реализованная в алгоритме каждый раз меняется при запуске, что делает зашифрованные данные каждый раз новыми.\n",
    "5. Реализованный алгоритм удовлетворяет поставленной задаче."
   ]
  },
  {
   "cell_type": "markdown",
   "metadata": {},
   "source": [
    "## Чек-лист проверки"
   ]
  },
  {
   "cell_type": "markdown",
   "metadata": {},
   "source": [
    "Поставьте 'x' в выполненных пунктах. Далее нажмите Shift+Enter."
   ]
  },
  {
   "cell_type": "markdown",
   "metadata": {},
   "source": [
    "- [x]  Jupyter Notebook открыт\n",
    "- [x]  Весь код выполняется без ошибок\n",
    "- [x]  Ячейки с кодом расположены в порядке исполнения\n",
    "- [x]  Выполнен шаг 1: данные загружены\n",
    "- [x]  Выполнен шаг 2: получен ответ на вопрос об умножении матриц\n",
    "    - [x]  Указан правильный вариант ответа\n",
    "    - [x]  Вариант обоснован\n",
    "- [x]  Выполнен шаг 3: предложен алгоритм преобразования\n",
    "    - [x]  Алгоритм описан\n",
    "    - [x]  Алгоритм обоснован\n",
    "- [x]  Выполнен шаг 4: алгоритм проверен\n",
    "    - [x]  Алгоритм реализован\n",
    "    - [x]  Проведено сравнение качества моделей до и после преобразования"
   ]
  }
 ],
 "metadata": {
  "ExecuteTimeLog": [
   {
    "duration": 1932,
    "start_time": "2022-04-28T19:29:09.453Z"
   },
   {
    "duration": 52,
    "start_time": "2022-04-28T19:29:11.392Z"
   },
   {
    "duration": 8,
    "start_time": "2022-04-28T19:31:29.910Z"
   },
   {
    "duration": 2322,
    "start_time": "2022-05-06T15:23:28.633Z"
   },
   {
    "duration": 42,
    "start_time": "2022-05-06T15:23:30.957Z"
   },
   {
    "duration": 21,
    "start_time": "2022-05-06T15:23:31.001Z"
   },
   {
    "duration": 27,
    "start_time": "2022-05-06T15:23:31.025Z"
   },
   {
    "duration": 8,
    "start_time": "2022-05-06T15:23:48.689Z"
   },
   {
    "duration": 430,
    "start_time": "2022-05-06T15:24:17.833Z"
   },
   {
    "duration": 363,
    "start_time": "2022-05-06T15:24:44.353Z"
   },
   {
    "duration": 232,
    "start_time": "2022-05-06T15:24:51.750Z"
   },
   {
    "duration": 371,
    "start_time": "2022-05-06T15:25:00.337Z"
   },
   {
    "duration": 221,
    "start_time": "2022-05-06T15:25:04.065Z"
   },
   {
    "duration": 356,
    "start_time": "2022-05-06T15:25:14.216Z"
   },
   {
    "duration": 286,
    "start_time": "2022-05-06T15:25:20.256Z"
   },
   {
    "duration": 412,
    "start_time": "2022-05-06T15:25:55.346Z"
   },
   {
    "duration": 402,
    "start_time": "2022-05-06T15:26:18.705Z"
   },
   {
    "duration": 599,
    "start_time": "2022-05-06T15:26:36.753Z"
   },
   {
    "duration": 6,
    "start_time": "2022-05-06T15:26:56.929Z"
   },
   {
    "duration": 6,
    "start_time": "2022-05-06T15:27:16.825Z"
   },
   {
    "duration": 33,
    "start_time": "2022-05-06T15:27:38.921Z"
   },
   {
    "duration": 8,
    "start_time": "2022-05-06T15:27:49.257Z"
   },
   {
    "duration": 8,
    "start_time": "2022-05-06T15:27:57.785Z"
   },
   {
    "duration": 7,
    "start_time": "2022-05-06T15:28:05.464Z"
   },
   {
    "duration": 8,
    "start_time": "2022-05-06T15:28:12.808Z"
   },
   {
    "duration": 9,
    "start_time": "2022-05-06T15:28:20.938Z"
   },
   {
    "duration": 21,
    "start_time": "2022-05-06T15:28:36.745Z"
   },
   {
    "duration": 133,
    "start_time": "2022-05-06T15:29:01.050Z"
   },
   {
    "duration": 5,
    "start_time": "2022-05-06T15:29:23.114Z"
   },
   {
    "duration": 16,
    "start_time": "2022-05-06T15:29:28.433Z"
   },
   {
    "duration": 5,
    "start_time": "2022-05-06T15:29:40.498Z"
   },
   {
    "duration": 71,
    "start_time": "2022-05-06T15:29:46.681Z"
   },
   {
    "duration": 18,
    "start_time": "2022-05-06T15:29:55.082Z"
   },
   {
    "duration": 110,
    "start_time": "2022-05-06T15:30:15.242Z"
   },
   {
    "duration": 25,
    "start_time": "2022-05-06T15:30:23.537Z"
   },
   {
    "duration": 9,
    "start_time": "2022-05-06T15:32:27.545Z"
   },
   {
    "duration": 130,
    "start_time": "2022-05-06T15:36:10.525Z"
   },
   {
    "duration": 417,
    "start_time": "2022-05-06T15:36:37.122Z"
   },
   {
    "duration": 713,
    "start_time": "2022-05-06T15:36:46.682Z"
   },
   {
    "duration": 341,
    "start_time": "2022-05-06T15:36:50.042Z"
   },
   {
    "duration": 383,
    "start_time": "2022-05-06T15:37:19.210Z"
   },
   {
    "duration": 600,
    "start_time": "2022-05-06T15:37:28.883Z"
   },
   {
    "duration": 1368,
    "start_time": "2022-05-06T15:37:54.266Z"
   },
   {
    "duration": 428,
    "start_time": "2022-05-06T15:38:10.731Z"
   },
   {
    "duration": 410,
    "start_time": "2022-05-06T15:39:09.770Z"
   },
   {
    "duration": 405,
    "start_time": "2022-05-06T15:39:13.514Z"
   },
   {
    "duration": 560,
    "start_time": "2022-05-06T15:39:27.819Z"
   },
   {
    "duration": 5,
    "start_time": "2022-05-06T16:27:00.074Z"
   },
   {
    "duration": 4,
    "start_time": "2022-05-06T16:28:02.802Z"
   },
   {
    "duration": 21,
    "start_time": "2022-05-06T16:28:05.542Z"
   },
   {
    "duration": 25,
    "start_time": "2022-05-06T16:30:40.664Z"
   },
   {
    "duration": 41,
    "start_time": "2022-05-06T16:30:47.739Z"
   },
   {
    "duration": 14,
    "start_time": "2022-05-06T16:30:52.826Z"
   },
   {
    "duration": 15,
    "start_time": "2022-05-06T16:31:05.617Z"
   },
   {
    "duration": 2008,
    "start_time": "2022-05-06T16:44:25.206Z"
   },
   {
    "duration": 35,
    "start_time": "2022-05-06T16:44:27.218Z"
   },
   {
    "duration": 17,
    "start_time": "2022-05-06T16:44:27.256Z"
   },
   {
    "duration": 8,
    "start_time": "2022-05-06T16:44:27.278Z"
   },
   {
    "duration": 11,
    "start_time": "2022-05-06T16:44:27.289Z"
   },
   {
    "duration": 473,
    "start_time": "2022-05-06T16:44:27.302Z"
   },
   {
    "duration": 252,
    "start_time": "2022-05-06T16:44:27.777Z"
   },
   {
    "duration": 400,
    "start_time": "2022-05-06T16:44:28.032Z"
   },
   {
    "duration": 427,
    "start_time": "2022-05-06T16:44:28.435Z"
   },
   {
    "duration": 432,
    "start_time": "2022-05-06T16:44:28.866Z"
   },
   {
    "duration": 5,
    "start_time": "2022-05-06T16:44:29.300Z"
   },
   {
    "duration": 8,
    "start_time": "2022-05-06T16:44:29.308Z"
   },
   {
    "duration": 143,
    "start_time": "2022-05-06T16:44:29.319Z"
   },
   {
    "duration": 93,
    "start_time": "2022-05-06T16:44:29.465Z"
   },
   {
    "duration": 8,
    "start_time": "2022-05-06T16:44:29.561Z"
   },
   {
    "duration": 314,
    "start_time": "2022-05-06T16:44:29.572Z"
   },
   {
    "duration": 0,
    "start_time": "2022-05-06T16:44:29.889Z"
   },
   {
    "duration": 0,
    "start_time": "2022-05-06T16:44:29.892Z"
   },
   {
    "duration": 0,
    "start_time": "2022-05-06T16:44:29.894Z"
   },
   {
    "duration": 0,
    "start_time": "2022-05-06T16:44:29.895Z"
   },
   {
    "duration": 0,
    "start_time": "2022-05-06T16:44:29.898Z"
   },
   {
    "duration": 0,
    "start_time": "2022-05-06T16:44:30.000Z"
   },
   {
    "duration": 0,
    "start_time": "2022-05-06T16:44:30.003Z"
   },
   {
    "duration": 0,
    "start_time": "2022-05-06T16:44:30.005Z"
   },
   {
    "duration": 0,
    "start_time": "2022-05-06T16:44:30.007Z"
   },
   {
    "duration": 0,
    "start_time": "2022-05-06T16:44:30.010Z"
   },
   {
    "duration": 0,
    "start_time": "2022-05-06T16:44:30.012Z"
   },
   {
    "duration": 12,
    "start_time": "2022-05-06T16:44:37.463Z"
   },
   {
    "duration": 13,
    "start_time": "2022-05-06T16:44:43.336Z"
   },
   {
    "duration": 25,
    "start_time": "2022-05-06T16:44:45.264Z"
   },
   {
    "duration": 122,
    "start_time": "2022-05-06T16:44:46.935Z"
   },
   {
    "duration": 4,
    "start_time": "2022-05-06T16:44:49.408Z"
   },
   {
    "duration": 15,
    "start_time": "2022-05-06T16:44:49.904Z"
   },
   {
    "duration": 5,
    "start_time": "2022-05-06T16:44:50.792Z"
   },
   {
    "duration": 25,
    "start_time": "2022-05-06T16:44:51.249Z"
   },
   {
    "duration": 15,
    "start_time": "2022-05-06T16:44:51.759Z"
   },
   {
    "duration": 5,
    "start_time": "2022-05-06T16:45:01.361Z"
   },
   {
    "duration": 95,
    "start_time": "2022-05-06T16:45:02.071Z"
   },
   {
    "duration": 14,
    "start_time": "2022-05-06T16:45:05.280Z"
   },
   {
    "duration": 18,
    "start_time": "2022-05-06T16:45:05.928Z"
   },
   {
    "duration": 14,
    "start_time": "2022-05-06T16:45:06.824Z"
   },
   {
    "duration": 26,
    "start_time": "2022-05-06T16:45:10.631Z"
   },
   {
    "duration": 16,
    "start_time": "2022-05-06T16:45:10.975Z"
   },
   {
    "duration": 2511,
    "start_time": "2022-05-06T16:45:17.381Z"
   },
   {
    "duration": 40,
    "start_time": "2022-05-06T16:45:19.896Z"
   },
   {
    "duration": 26,
    "start_time": "2022-05-06T16:45:19.939Z"
   },
   {
    "duration": 22,
    "start_time": "2022-05-06T16:45:19.968Z"
   },
   {
    "duration": 20,
    "start_time": "2022-05-06T16:45:19.992Z"
   },
   {
    "duration": 504,
    "start_time": "2022-05-06T16:45:20.014Z"
   },
   {
    "duration": 250,
    "start_time": "2022-05-06T16:45:20.521Z"
   },
   {
    "duration": 333,
    "start_time": "2022-05-06T16:45:20.774Z"
   },
   {
    "duration": 482,
    "start_time": "2022-05-06T16:45:21.109Z"
   },
   {
    "duration": 460,
    "start_time": "2022-05-06T16:45:21.595Z"
   },
   {
    "duration": 5,
    "start_time": "2022-05-06T16:45:22.057Z"
   },
   {
    "duration": 8,
    "start_time": "2022-05-06T16:45:22.065Z"
   },
   {
    "duration": 182,
    "start_time": "2022-05-06T16:45:22.075Z"
   },
   {
    "duration": 8,
    "start_time": "2022-05-06T16:45:22.260Z"
   },
   {
    "duration": 10,
    "start_time": "2022-05-06T16:45:22.270Z"
   },
   {
    "duration": 78,
    "start_time": "2022-05-06T16:45:22.284Z"
   },
   {
    "duration": 270,
    "start_time": "2022-05-06T16:45:22.365Z"
   },
   {
    "duration": 114,
    "start_time": "2022-05-06T16:45:22.638Z"
   },
   {
    "duration": 12,
    "start_time": "2022-05-06T16:45:22.756Z"
   },
   {
    "duration": 23,
    "start_time": "2022-05-06T16:45:22.853Z"
   },
   {
    "duration": 5,
    "start_time": "2022-05-06T16:45:22.879Z"
   },
   {
    "duration": 164,
    "start_time": "2022-05-06T16:45:22.887Z"
   },
   {
    "duration": 16,
    "start_time": "2022-05-06T16:45:23.054Z"
   },
   {
    "duration": 21,
    "start_time": "2022-05-06T16:45:23.072Z"
   },
   {
    "duration": 17,
    "start_time": "2022-05-06T16:45:23.096Z"
   },
   {
    "duration": 52,
    "start_time": "2022-05-06T16:45:23.116Z"
   },
   {
    "duration": 196,
    "start_time": "2022-05-06T16:45:23.172Z"
   },
   {
    "duration": 278,
    "start_time": "2022-05-06T16:45:33.692Z"
   },
   {
    "duration": 1981,
    "start_time": "2022-05-06T16:45:43.443Z"
   },
   {
    "duration": 29,
    "start_time": "2022-05-06T16:45:45.427Z"
   },
   {
    "duration": 18,
    "start_time": "2022-05-06T16:45:45.459Z"
   },
   {
    "duration": 17,
    "start_time": "2022-05-06T16:45:45.481Z"
   },
   {
    "duration": 16,
    "start_time": "2022-05-06T16:45:45.500Z"
   },
   {
    "duration": 300,
    "start_time": "2022-05-06T16:45:45.519Z"
   },
   {
    "duration": 231,
    "start_time": "2022-05-06T16:45:45.822Z"
   },
   {
    "duration": 286,
    "start_time": "2022-05-06T16:45:46.055Z"
   },
   {
    "duration": 414,
    "start_time": "2022-05-06T16:45:46.343Z"
   },
   {
    "duration": 409,
    "start_time": "2022-05-06T16:45:46.760Z"
   },
   {
    "duration": 6,
    "start_time": "2022-05-06T16:45:47.172Z"
   },
   {
    "duration": 8,
    "start_time": "2022-05-06T16:45:47.181Z"
   },
   {
    "duration": 71,
    "start_time": "2022-05-06T16:45:47.191Z"
   },
   {
    "duration": 13,
    "start_time": "2022-05-06T16:45:47.351Z"
   },
   {
    "duration": 12,
    "start_time": "2022-05-06T16:45:47.367Z"
   },
   {
    "duration": 72,
    "start_time": "2022-05-06T16:45:47.382Z"
   },
   {
    "duration": 177,
    "start_time": "2022-05-06T16:45:47.457Z"
   },
   {
    "duration": 122,
    "start_time": "2022-05-06T16:45:47.636Z"
   },
   {
    "duration": 5,
    "start_time": "2022-05-06T16:45:47.851Z"
   },
   {
    "duration": 19,
    "start_time": "2022-05-06T16:45:47.859Z"
   },
   {
    "duration": 6,
    "start_time": "2022-05-06T16:45:47.881Z"
   },
   {
    "duration": 76,
    "start_time": "2022-05-06T16:45:47.890Z"
   },
   {
    "duration": 94,
    "start_time": "2022-05-06T16:45:47.968Z"
   },
   {
    "duration": 20,
    "start_time": "2022-05-06T16:45:48.065Z"
   },
   {
    "duration": 20,
    "start_time": "2022-05-06T16:45:48.087Z"
   },
   {
    "duration": 147,
    "start_time": "2022-05-06T16:45:48.109Z"
   },
   {
    "duration": 102,
    "start_time": "2022-05-06T16:45:48.258Z"
   }
  ],
  "kernelspec": {
   "display_name": "Python 3 (ipykernel)",
   "language": "python",
   "name": "python3"
  },
  "language_info": {
   "codemirror_mode": {
    "name": "ipython",
    "version": 3
   },
   "file_extension": ".py",
   "mimetype": "text/x-python",
   "name": "python",
   "nbconvert_exporter": "python",
   "pygments_lexer": "ipython3",
   "version": "3.9.5"
  },
  "toc": {
   "base_numbering": 1,
   "nav_menu": {},
   "number_sections": true,
   "sideBar": true,
   "skip_h1_title": true,
   "title_cell": "Содержание",
   "title_sidebar": "Contents",
   "toc_cell": true,
   "toc_position": {},
   "toc_section_display": true,
   "toc_window_display": true
  }
 },
 "nbformat": 4,
 "nbformat_minor": 2
}
